{
 "cells": [
  {
   "cell_type": "code",
   "execution_count": 1,
   "metadata": {},
   "outputs": [
    {
     "name": "stderr",
     "output_type": "stream",
     "text": [
      "Using TensorFlow backend.\n"
     ]
    }
   ],
   "source": [
    "# %matplotlib inline\n",
    "%matplotlib notebook\n",
    "from IPython.display import Audio, display\n",
    "import pandas as pd\n",
    "from matplotlib import pyplot as plt\n",
    "import librosa as lr\n",
    "import numpy as np\n",
    "import os\n",
    "from shutil import copy, rmtree\n",
    "from os.path import join as jp\n",
    "from tqdm import tqdm\n",
    "import pickle\n",
    "from scipy.io import wavfile as wf\n",
    "from time import time, sleep\n",
    "from input_data import prepare_words_list\n",
    "from glob import glob\n",
    "import hashlib\n",
    "from classes import get_classes, get_int2label, get_label2int\n",
    "from keras.layers import Input, Lambda\n",
    "from model import prepare_model_settings, relu6, overlapping_time_slice_stack\n",
    "from keras.applications.mobilenet import DepthwiseConv2D\n",
    "from keras.models import Model\n",
    "from keras import backend as K\n",
    "import tensorflow as tf\n",
    "from tensorflow.contrib.framework.python.ops import audio_ops as contrib_audio\n",
    "from tensorflow.python.ops import io_ops\n",
    "from keras.layers import Input, Conv1D, Reshape\n",
    "from keras.models import Model, load_model\n",
    "\n",
    "def my_load_model(fn):\n",
    "    return load_model(fn, {'relu6': relu6, 'DepthwiseConv2D': DepthwiseConv2D,\n",
    "                           'overlapping_time_slice_stack': overlapping_time_slice_stack})\n",
    "\n",
    "def pad_crop(data, desired_size=16000):\n",
    "    data_len = len(data)\n",
    "    if data_len < desired_size:\n",
    "        missing = desired_size - data_len\n",
    "        data = np.pad(data, (missing, 0), mode='constant')\n",
    "    else:\n",
    "        data = data[:desired_size]\n",
    "    return data\n",
    "\n",
    "def float_audio(x, sample_rate=16000, autoplay=False):\n",
    "    # avoid Audio normalizing the data\n",
    "    data = np.int16(x * 32768)\n",
    "    fn = '/tmp/%s.wav' % data[:5]\n",
    "    wf.write(fn, sample_rate, data)\n",
    "    display(Audio(filename=fn, rate=sample_rate, autoplay=autoplay))\n",
    "\n",
    "def plot_audio(data, sample_rate=16000, normed=False):\n",
    "    if not normed:\n",
    "        data = np.float32(data) / 32768\n",
    "    plt.figure()\n",
    "    plt.plot(np.arange(sample_rate), data)\n",
    "    plt.axis([0, sample_rate, -1, 1])\n",
    "    \n",
    "def center_pad(data, desired_size=16000):\n",
    "    missing = desired_size - len(data)\n",
    "    pad_left = missing // 2\n",
    "    pad_right = missing - pad_left\n",
    "    padded_data = np.pad(data, (pad_left, pad_right), mode='constant')\n",
    "    return padded_data\n",
    "\n",
    "def random_crop(data, desired_size=16000):\n",
    "    start = np.random.randint(len(data) - desired_size)\n",
    "    return data[start: start + desired_size]\n",
    "\n",
    "def normalized_read(fn, desired_size=16000):\n",
    "    rate, data = wf.read(fn)\n",
    "    data = np.float32(data) / 32768\n",
    "    assert rate == 16000\n",
    "    if len(data) < desired_size:\n",
    "        data = center_pad(data, desired_size=desired_size)\n",
    "    elif len(data) > desired_size:\n",
    "        data = random_crop(data, desired_size=desired_size)\n",
    "    return data\n",
    "\n",
    "def md5(fname):\n",
    "    hash_md5 = hashlib.md5()\n",
    "    with open(fname, \"rb\") as f:\n",
    "        for chunk in iter(lambda: f.read(4096), b\"\"):\n",
    "            hash_md5.update(chunk)\n",
    "    return hash_md5.hexdigest()"
   ]
  },
  {
   "cell_type": "raw",
   "metadata": {},
   "source": [
    "sub1 = pd.read_csv('submission_033b.csv')  # 87% PLB\n",
    "sub2 = pd.read_csv('submission_017.csv')  # 87% PLB\n",
    "sub3 = pd.read_csv('submission_018.csv')  # 86% PLB"
   ]
  },
  {
   "cell_type": "code",
   "execution_count": null,
   "metadata": {},
   "outputs": [],
   "source": [
    "# check where all three disagree\n",
    "unequal = ((sub1.label != sub2.label) & (sub1.label != sub3.label))\n",
    "print(\"%d of %d are unequal\" % (unequal.sum(), sub1.shape[0]))"
   ]
  },
  {
   "cell_type": "markdown",
   "metadata": {},
   "source": [
    "## Display where classifiers disagree\n",
    "These samples are acutally quite hard!"
   ]
  },
  {
   "cell_type": "code",
   "execution_count": null,
   "metadata": {},
   "outputs": [],
   "source": [
    "TEST_DIR = 'data/test/audio'\n",
    "disp_count = 0\n",
    "for i in range(len(unequal)):\n",
    "    if disp_count > 5:\n",
    "        break\n",
    "    if unequal[i] and np.random.rand() > 0.99:\n",
    "        fn = os.path.join(TEST_DIR, sub1.loc[i, 'fname'])\n",
    "        print(fn, ': ', sub1.loc[i, 'label'], \" vs \", sub2.loc[i, 'label'])\n",
    "        display(Audio(fn, autoplay=True))\n",
    "        sleep(1)\n",
    "        disp_count += 1"
   ]
  },
  {
   "cell_type": "code",
   "execution_count": null,
   "metadata": {},
   "outputs": [],
   "source": [
    "# save these \"hard\" ones\n",
    "for i in tqdm(range(len(unequal))):\n",
    "    if unequal[i]:\n",
    "        bn = sub1.loc[i, 'fname']\n",
    "        src_fn = os.path.join('data/test/audio', bn)\n",
    "        dst_fn = os.path.join('data/pseudo/audio/unknown', bn)\n",
    "        copy(src_fn, dst_fn)\n",
    "# when using as pseudo labels remove 'silence'! (e.g. ls *.wav | grep -v silence)"
   ]
  },
  {
   "cell_type": "markdown",
   "metadata": {},
   "source": [
    "## Show (predicted) test data distribution\n",
    "### Note that during training silence prob was 10%"
   ]
  },
  {
   "cell_type": "code",
   "execution_count": null,
   "metadata": {},
   "outputs": [],
   "source": [
    "def show_bar(submission):\n",
    "    counts = []\n",
    "    for label_name in submission.label.unique():\n",
    "        label_count = (submission.label == label_name).sum()\n",
    "        percent = (label_count / num_total) * 100.0\n",
    "        counts.append((label_name, percent))\n",
    "    print(counts)\n",
    "    plt.bar(range(len(counts)), [c[-1] for c in counts])\n",
    "    _ = plt.xticks(range(len(counts)), [c[0] for c in counts])\n",
    "    plt.grid('on')\n",
    "    plt.xlabel('Label names')\n",
    "    plt.ylabel('Precentage [%]')"
   ]
  },
  {
   "cell_type": "code",
   "execution_count": null,
   "metadata": {},
   "outputs": [],
   "source": [
    "show_bar(sub1)"
   ]
  },
  {
   "cell_type": "markdown",
   "metadata": {},
   "source": [
    "# Compress and decompress using mu-law"
   ]
  },
  {
   "cell_type": "code",
   "execution_count": null,
   "metadata": {},
   "outputs": [],
   "source": [
    "def load_wav(fn):\n",
    "    rate, data = wf.read(fn)\n",
    "    assert rate == 16000\n",
    "    data = data / 32768\n",
    "    missing = 16000 - len(data)\n",
    "    data = np.pad(data, (missing, 0), mode='constant')\n",
    "    return data\n",
    "\n",
    "\n",
    "def compress(x, mu=255):\n",
    "    assert x.min() >= -1 and x.max() <= 1\n",
    "    compressed = np.sign(x) * np.log10(1.0 + mu * np.abs(x)) / np.log10(1.0 + mu)\n",
    "    return compressed\n",
    "\n",
    "def decompress(x, mu=255):\n",
    "    assert x.min() >= -1 and x.max() <= 1\n",
    "    decompressed= np.sign(x) * (1.0 / mu) * (np.power(1.0 + x, np.abs(x)) - 1.0)\n",
    "    return decompressed"
   ]
  },
  {
   "cell_type": "code",
   "execution_count": null,
   "metadata": {},
   "outputs": [],
   "source": [
    "up_sample = load_wav('data/test/audio/clip_001204892.wav')\n",
    "float_audio(up_sample)\n",
    "c = compress(up_sample)\n",
    "d = decompress(c)\n",
    "float_audio(d)"
   ]
  },
  {
   "cell_type": "code",
   "execution_count": null,
   "metadata": {},
   "outputs": [],
   "source": [
    "display(Audio(data=np.int16(up_sample  * 32768), rate=16000))"
   ]
  },
  {
   "cell_type": "markdown",
   "metadata": {},
   "source": [
    "### Use average pooling to reduce signal size"
   ]
  },
  {
   "cell_type": "code",
   "execution_count": null,
   "metadata": {},
   "outputs": [],
   "source": [
    "from keras.models import Model\n",
    "from keras.layers import AveragePooling1D, Input, Reshape\n",
    "def avg_model(sample_rate=16000):\n",
    "    input_layer = Input([sample_rate])\n",
    "    x = input_layer\n",
    "    x = Reshape([-1, 1])(x)\n",
    "    x = AveragePooling1D(2)(x)\n",
    "    return Model(input_layer, x)\n",
    "\n",
    "model = avg_model()\n",
    "out = model.predict([up_sample.reshape((1, -1))]).squeeze()\n"
   ]
  },
  {
   "cell_type": "code",
   "execution_count": null,
   "metadata": {},
   "outputs": [],
   "source": [
    "plt.figure()\n",
    "plt.title('Orginal')\n",
    "plt.plot(up_sample)\n",
    "plt.figure()\n",
    "plt.title('Subsamples')\n",
    "plt.plot(out)"
   ]
  },
  {
   "cell_type": "code",
   "execution_count": null,
   "metadata": {},
   "outputs": [],
   "source": [
    "float_audio(out, sample_rate=len(out))"
   ]
  },
  {
   "cell_type": "markdown",
   "metadata": {},
   "source": [
    "# How is the padding handeled by decode_wav?"
   ]
  },
  {
   "cell_type": "code",
   "execution_count": null,
   "metadata": {},
   "outputs": [],
   "source": [
    "from tensorflow.contrib.framework.python.ops import audio_ops as contrib_audio\n",
    "from tensorflow.python.ops import io_ops\n",
    "\n",
    "wav_filename_placeholder = tf.placeholder(tf.string, [])\n",
    "wav_loader = io_ops.read_file(wav_filename_placeholder)\n",
    "wav_decoder = contrib_audio.decode_wav(\n",
    "    wav_loader, desired_channels=1)\n",
    "fns = sorted(glob('data/train/audio/go/*.wav'))\n",
    "short_fn = ''\n",
    "with tf.Session() as sess:\n",
    "    for fn in fns:\n",
    "        out = sess.run(wav_decoder.audio,\n",
    "                       {wav_filename_placeholder: fn_val})\n",
    "        if out.shape[0] != 16000:\n",
    "            short_fn = fn\n",
    "            print(fn)\n",
    "            break\n",
    "print(out.shape)"
   ]
  },
  {
   "cell_type": "code",
   "execution_count": null,
   "metadata": {},
   "outputs": [],
   "source": [
    "display(Audio(short_fn, autoplay=True))\n",
    "sleep(1)\n",
    "float_audio(out, autoplay=True)"
   ]
  },
  {
   "cell_type": "markdown",
   "metadata": {},
   "source": [
    "# Check how many samples are shorter than 1s"
   ]
  },
  {
   "cell_type": "code",
   "execution_count": null,
   "metadata": {},
   "outputs": [],
   "source": [
    "from glob import glob\n",
    "from tqdm import tqdm\n",
    "train_fns = sorted(glob('data/train/audio/*/*.wav'))"
   ]
  },
  {
   "cell_type": "code",
   "execution_count": null,
   "metadata": {},
   "outputs": [],
   "source": [
    "def load_wav(fn):\n",
    "    rate, data = wf.read(fn)\n",
    "    assert rate == 16000\n",
    "    return data"
   ]
  },
  {
   "cell_type": "markdown",
   "metadata": {},
   "source": [
    "short_count = 0\n",
    "for fn in tqdm(train_fns):\n",
    "    data = load_wav(fn)\n",
    "    if len(data) != 16000:\n",
    "        short_count += 1\n",
    "print(\"Short: \", short_count)\n",
    "print(\"All: \", len(train_fns))"
   ]
  },
  {
   "cell_type": "markdown",
   "metadata": {},
   "source": [
    "# Visualize augmented training data"
   ]
  },
  {
   "cell_type": "code",
   "execution_count": null,
   "metadata": {},
   "outputs": [],
   "source": [
    "from __future__ import division, print_function\n",
    "from keras import backend as K\n",
    "from keras.callbacks import ModelCheckpoint, LearningRateScheduler\n",
    "from keras.callbacks import TensorBoard\n",
    "from callbacks import ConfusionMatrixCallback\n",
    "from model import speech_model, prepare_model_settings\n",
    "from input_data import AudioProcessor, prepare_words_list\n",
    "from classes import get_classes\n",
    "from IPython import embed  # noqa"
   ]
  },
  {
   "cell_type": "raw",
   "metadata": {},
   "source": [
    "def data_gen(audio_processor, sess,\n",
    "             batch_size=128,\n",
    "             background_frequency=0.5, background_volume_range=0.2,\n",
    "             foreground_frequency=0.5, foreground_volume_range=0.2,\n",
    "             time_shift=(100.0 * 16000.0) / 1000,\n",
    "             mode='validation'):\n",
    "    offset = 0\n",
    "    if mode != 'training':\n",
    "        background_frequency = 0.0\n",
    "        background_volume_range = 0.0\n",
    "        foreground_frequency = 0.0\n",
    "        foreground_volume_range = 0.0\n",
    "        time_shift = 0\n",
    "    while True:\n",
    "        X, y = audio_processor.get_data(\n",
    "            how_many=batch_size, offset=0 if mode == 'training' else offset,\n",
    "            background_frequency=background_frequency,\n",
    "            background_volume_range=background_volume_range,\n",
    "            foreground_frequency=foreground_frequency,\n",
    "            foreground_volume_range=foreground_volume_range,\n",
    "            time_shift=time_shift, mode=mode, sess=sess)\n",
    "        offset += batch_size\n",
    "        if offset > ap.set_size(mode) - batch_size:\n",
    "              offset = 0\n",
    "        yield X, y"
   ]
  },
  {
   "cell_type": "code",
   "execution_count": null,
   "metadata": {},
   "outputs": [],
   "source": [
    "sess = K.get_session()\n",
    "data_dirs = ['data/train/audio']\n",
    "add_pseudo = True\n",
    "if add_pseudo:\n",
    "    data_dirs.append('data/pseudo/audio')\n",
    "compute_mfcc = False\n",
    "sample_rate = 16000\n",
    "batch_size = 100\n",
    "classes = get_classes(wanted_only=False)\n",
    "model_settings = prepare_model_settings(\n",
    "  label_count=len(prepare_words_list(classes)), sample_rate=sample_rate,\n",
    "  clip_duration_ms=1000, window_size_ms=30.0, window_stride_ms=10.0,\n",
    "  dct_coefficient_count=40)\n",
    "ap = AudioProcessor(\n",
    "  data_dirs=data_dirs,\n",
    "  silence_percentage=10.0,\n",
    "  unknown_percentage=7.0,\n",
    "  wanted_words=classes,\n",
    "  validation_percentage=10.0,\n",
    "  testing_percentage=0.0,\n",
    "  model_settings=model_settings,\n",
    "  compute_mfcc=compute_mfcc)\n",
    "train_gen = data_gen(ap, sess, batch_size=batch_size, mode='training')\n",
    "val_gen = data_gen(ap, sess, batch_size=batch_size, mode='validation')"
   ]
  },
  {
   "cell_type": "code",
   "execution_count": null,
   "metadata": {},
   "outputs": [],
   "source": [
    "ap.summary()"
   ]
  },
  {
   "cell_type": "code",
   "execution_count": null,
   "metadata": {},
   "outputs": [],
   "source": [
    "disp_count = 0\n",
    "while True:\n",
    "    if disp_count > 5:\n",
    "        break\n",
    "    X, y = next(train_gen)\n",
    "    for i in range(X.shape[0]):\n",
    "        if y[i].argmax() == 10:\n",
    "            sample = X[i, :].squeeze()\n",
    "            float_audio(sample, autoplay=True)\n",
    "            sleep(1)\n",
    "            disp_count += 1\n",
    "            # plt.figure()\n",
    "            # plt.axis([0, 16000, -1, 1])\n",
    "            # plt.plot(sample)"
   ]
  },
  {
   "cell_type": "markdown",
   "metadata": {},
   "source": [
    "# Create pseudo labels from consistent predictions\n",
    "### [old pseudo]: Sub1: 84% PLB, Sub2: 84% PLB, Sub3: 82% PLB\n",
    "### Sub1: 87% PLB, Sub2: 87% PLB, Sub3: 86% PLB"
   ]
  },
  {
   "cell_type": "code",
   "execution_count": null,
   "metadata": {},
   "outputs": [],
   "source": [
    "sub1 = pd.read_csv('submission_033b_all_labels.csv')  # 87% PLB\n",
    "sub2 = pd.read_csv('submission_017_all_labels.csv')  # 87% PLB\n",
    "sub3 = pd.read_csv('submission_018_all_labels.csv')  # 86% PLB"
   ]
  },
  {
   "cell_type": "code",
   "execution_count": null,
   "metadata": {},
   "outputs": [],
   "source": [
    "consistend = ((sub1.label == sub2.label) & (sub1.label == sub3.label))\n",
    "print(\"All: \", sub1.shape[0], \" consistend: \", consistend.sum())"
   ]
  },
  {
   "cell_type": "code",
   "execution_count": null,
   "metadata": {},
   "outputs": [],
   "source": [
    "for i in tqdm(range(sub1.shape[0])):\n",
    "    fn = sub1.loc[i, 'fname']\n",
    "    if fn != sub2.loc[i, 'fname'] or fn != sub3.loc[i, 'fname']:\n",
    "        print(\"Fatal error\")\n",
    "        break\n",
    "    if consistend[i]:\n",
    "        label = sub1.loc[i, 'label']\n",
    "        dst_fn = jp('data', 'pseudo', 'audio', label, fn)\n",
    "        src_fn = jp('data', 'test', 'audio', fn)\n",
    "        copy(src_fn, dst_fn, follow_symlinks=False)"
   ]
  },
  {
   "cell_type": "code",
   "execution_count": null,
   "metadata": {},
   "outputs": [],
   "source": [
    "print()"
   ]
  },
  {
   "cell_type": "markdown",
   "metadata": {},
   "source": [
    "# Listen to submission"
   ]
  },
  {
   "cell_type": "code",
   "execution_count": null,
   "metadata": {},
   "outputs": [],
   "source": [
    "words = get_classes(wanted_only=False, extend_reversed=True)\n",
    "[w for w in words if 'b' in w]"
   ]
  },
  {
   "cell_type": "code",
   "execution_count": null,
   "metadata": {
    "scrolled": true
   },
   "outputs": [],
   "source": [
    "sub = pd.read_csv('submission_091_all_labels.csv')\n",
    "label2int = get_label2int(wanted_only=True)\n",
    "disp_count = 0\n",
    "for i in reversed(range(sub.shape[0])):\n",
    "    if disp_count >= 10:\n",
    "        break\n",
    "    fn = jp('data', 'test', 'audio', sub.loc[i, 'fname'])\n",
    "    label = sub.loc[i, 'label']\n",
    "    if label == 'go' and np.random.rand() > 0.8:\n",
    "        print(fn, label)\n",
    "        display(Audio(fn, autoplay=True))\n",
    "        sleep(1)\n",
    "        disp_count += 1"
   ]
  },
  {
   "cell_type": "code",
   "execution_count": null,
   "metadata": {
    "scrolled": false
   },
   "outputs": [],
   "source": [
    "np.random.seed(5)\n",
    "sub = pd.read_csv('submission_034_all_labels.csv')\n",
    "label2int = get_label2int(wanted_only=True)\n",
    "disp_count = 0\n",
    "for i in reversed(range(sub.shape[0])):\n",
    "    if disp_count >= 2:\n",
    "        break\n",
    "    label = sub.loc[i, 'label']\n",
    "    if label == 'silence' and np.random.rand() > 0.999:\n",
    "        fn = jp('data', 'test', 'audio', sub.loc[i, 'fname'])\n",
    "        rate, data = wf.read(fn)\n",
    "        data = np.float32(data) / 32767\n",
    "        # data = np.sqrt(data) + 0.5\n",
    "        data = 10 ** (data) - 1.0\n",
    "        plot_audio(data, normed=True)\n",
    "        print(fn, label)\n",
    "        float_audio(data, autoplay=True)\n",
    "        sleep(1)\n",
    "        disp_count += 1"
   ]
  },
  {
   "cell_type": "code",
   "execution_count": null,
   "metadata": {},
   "outputs": [],
   "source": [
    "# compare two submissions\n",
    "# sub1 = pd.read_csv('submission_091_all_labels.csv')\n",
    "# sub2 = pd.read_csv('submission_091_4x_tta_all_labels.csv')\n",
    "\n",
    "sub1 = pd.read_csv('submission_091_all_labels.csv')\n",
    "sub2 = pd.read_csv('submission_091_leftloud_tta_all_labels.csv')\n",
    "num_different = 0\n",
    "\n",
    "for i in tqdm(reversed(range(sub1.shape[0]))):\n",
    "    fn = sub1.loc[i, 'fname']\n",
    "    assert fn == sub2.loc[i, 'fname']\n",
    "    label1 = sub1.loc[i, 'label']\n",
    "    label2 = sub2.loc[i, 'label']\n",
    "    if label1 != label2:\n",
    "        num_different += 1\n",
    "        print(\"%s vs. %s\" % (label1, label2))\n",
    "        in_fn = jp('data/test/audio', fn)\n",
    "        display(Audio(in_fn, autoplay=True))\n",
    "        sleep(1)\n",
    "print(\"%d of %d are different\" % (num_different, sub1.shape[0]))"
   ]
  },
  {
   "cell_type": "markdown",
   "metadata": {},
   "source": [
    "# Listen to submission with probs"
   ]
  },
  {
   "cell_type": "code",
   "execution_count": null,
   "metadata": {},
   "outputs": [],
   "source": [
    "print(\"Wanted: \", get_classes(wanted_only=True))\n",
    "print(\"All: \", get_classes(wanted_only=False))"
   ]
  },
  {
   "cell_type": "code",
   "execution_count": null,
   "metadata": {
    "scrolled": false
   },
   "outputs": [],
   "source": [
    "sub = pd.read_csv('prob_ensemble_002_all_labels_probs.csv')\n",
    "label2int = get_label2int(wanted_only=False)\n",
    "disp_count = 0\n",
    "for i in reversed(range(sub.shape[0])):\n",
    "    if disp_count >= 5:\n",
    "        break\n",
    "    fn = jp('data', 'test', 'audio', sub.loc[i, 'fname'])\n",
    "    label = sub.loc[i, 'label']\n",
    "    if label == 'unknown' and np.random.rand() > 0.99:\n",
    "        print(label)\n",
    "        probs = sub.loc[i, label2int.keys()]\n",
    "        plt.figure()\n",
    "        plt.title(str(disp_count))\n",
    "        plt.bar(range(len(probs)), probs)\n",
    "        plt.axis([0, len(probs), 0, 1])\n",
    "        plt.xticks(range(len(probs)), label2int.keys(), rotation='vertical')\n",
    "        display(Audio(fn, autoplay=True))\n",
    "        sleep(1)\n",
    "        disp_count += 1"
   ]
  },
  {
   "cell_type": "markdown",
   "metadata": {},
   "source": [
    "# Correct broken submission"
   ]
  },
  {
   "cell_type": "code",
   "execution_count": null,
   "metadata": {},
   "outputs": [],
   "source": [
    "sub_broken = pd.read_csv('submission_012.csv')\n",
    "sub_all = pd.read_csv('submission_012_all_labels.csv')\n",
    "sub_broken.loc[(sub_all.label == 'unknown').values, 'label'] = 'silence'\n",
    "sub_broken.to_csv('submission_012_corrected.csv', index=False)"
   ]
  },
  {
   "cell_type": "code",
   "execution_count": null,
   "metadata": {},
   "outputs": [],
   "source": [
    "sub = pd.read_csv('submission_012_corrected.csv')\n",
    "disp_count = 0\n",
    "for i in range(sub.shape[0]):\n",
    "    if disp_count >= 10:\n",
    "        break\n",
    "    fn = jp('data', 'test', 'audio', sub.loc[i, 'fname'])\n",
    "    label = sub.loc[i, 'label']\n",
    "    if label != 'unknown' and np.random.rand() > 0.9:\n",
    "        print(label)\n",
    "        display(Audio(fn, autoplay=True))\n",
    "        sleep(1)\n",
    "        disp_count += 1"
   ]
  },
  {
   "cell_type": "code",
   "execution_count": null,
   "metadata": {},
   "outputs": [],
   "source": [
    "sub = pd.read_csv('submission_012_all_labels.csv')\n",
    "counts = sub.label.value_counts()\n",
    "percent_counts = counts.apply(lambda x: np.round(100.0 * (x / sub.shape[0])))\n",
    "# print(counts)\n",
    "print(percent_counts)"
   ]
  },
  {
   "cell_type": "markdown",
   "metadata": {},
   "source": [
    "# Check what the generators are producing"
   ]
  },
  {
   "cell_type": "code",
   "execution_count": 10,
   "metadata": {},
   "outputs": [],
   "source": [
    "from __future__ import division, print_function\n",
    "import tensorflow as tf\n",
    "from keras import backend as K\n",
    "from keras.callbacks import ModelCheckpoint, ReduceLROnPlateau\n",
    "from keras.callbacks import TensorBoard\n",
    "from callbacks import ConfusionMatrixCallback\n",
    "from model import speech_model, prepare_model_settings\n",
    "from input_data import AudioProcessor, prepare_words_list\n",
    "from classes import get_classes\n",
    "from IPython import embed  # noqa\n",
    "\n",
    "\n",
    "def data_gen(audio_processor, sess,\n",
    "             batch_size=128,\n",
    "             background_frequency=0.5, background_volume_range=0.2,\n",
    "             foreground_frequency=0.5, foreground_volume_range=0.2,\n",
    "             time_shift_frequency=1.0, time_shift_range=[-10000, -9000],\n",
    "             mode='validation', pseudo_frequency=0.4):\n",
    "  offset = 0\n",
    "  if mode != 'training':\n",
    "    background_frequency = 0.0\n",
    "    background_volume_range = 0.0\n",
    "    foreground_frequency = 0.0\n",
    "    foreground_volume_range = 0.0\n",
    "    pseudo_frequency = 0.0\n",
    "    time_shift_frequency = 0.0\n",
    "    time_shift_range = [0, 0]\n",
    "  while True:\n",
    "    X, y = audio_processor.get_data(\n",
    "        how_many=batch_size, offset=0 if mode == 'training' else offset,\n",
    "        background_frequency=background_frequency,\n",
    "        background_volume_range=background_volume_range,\n",
    "        foreground_frequency=foreground_frequency,\n",
    "        foreground_volume_range=foreground_volume_range,\n",
    "        time_shift_frequency=time_shift_frequency,\n",
    "        time_shift_range=time_shift_range,\n",
    "        mode=mode, sess=sess,\n",
    "        pseudo_frequency=pseudo_frequency)\n",
    "    offset += batch_size\n",
    "    if offset > ap.set_size(mode) - batch_size:\n",
    "      offset = 0\n",
    "    yield X, y\n",
    "\n",
    "# running_mean: -0.8 | running_std: 7.0\n",
    "# mfcc running_mean: -0.67 | running_std: 7.45\n",
    "# background_clamp running_mean: -0.00064 | running_std: 0.0774, p5: -0.074, p95: 0.0697  # noqa\n",
    "# 10 ** raw - 1.0 running_mean: 0.017 | 10 ** raw - 1.0 running_std: 0.28\n",
    "# np.log(11) ~ 2.4\n",
    "# np.log(12) ~ 2.5\n",
    "# np.log(32) ~ 3.5\n",
    "# np.log(48) ~ 3.9\n",
    "# 64727 training files\n",
    "if __name__ == '__main__':\n",
    "  # restrict gpu usage: https://stackoverflow.com/questions/34199233/how-to-prevent-tensorflow-from-allocating-the-totality-of-a-gpu-memory  # noqa\n",
    "  gpu_options = tf.GPUOptions(per_process_gpu_memory_fraction=0.95)\n",
    "  sess = tf.Session(config=tf.ConfigProto(gpu_options=gpu_options))\n",
    "  K.set_session(sess)\n",
    "  data_dirs = ['data/train/audio']\n",
    "  add_pseudo = True\n",
    "  if add_pseudo:\n",
    "    data_dirs.append('data/pseudo/audio')\n",
    "  output_representation = 'raw'\n",
    "  sample_rate = 16000\n",
    "  batch_size = 384\n",
    "  classes = get_classes(wanted_only=False, extend_reversed=False)\n",
    "  model_settings = prepare_model_settings(\n",
    "      label_count=len(prepare_words_list(classes)), sample_rate=sample_rate,\n",
    "      clip_duration_ms=1000, window_size_ms=30.0, window_stride_ms=10.0,\n",
    "      dct_coefficient_count=40)\n",
    "  ap = AudioProcessor(\n",
    "      data_dirs=data_dirs, wanted_words=classes,\n",
    "      silence_percentage=15.0, unknown_percentage=5.0,\n",
    "      validation_percentage=10.0, testing_percentage=0.0,\n",
    "      model_settings=model_settings,\n",
    "      output_representation=output_representation)\n",
    "  train_gen = data_gen(ap, sess, batch_size=batch_size, mode='training')\n",
    "  val_gen = data_gen(ap, sess, batch_size=batch_size, mode='validation')"
   ]
  },
  {
   "cell_type": "code",
   "execution_count": 12,
   "metadata": {},
   "outputs": [
    {
     "data": {
      "text/html": [
       "\n",
       "                <audio controls=\"controls\" autoplay=\"autoplay\">\n",
       "                    <source src=\"data:audio/x-wav;base64,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\" type=\"audio/x-wav\" />\n",
       "                    Your browser does not support the audio element.\n",
       "                </audio>\n",
       "              "
      ],
      "text/plain": [
       "<IPython.lib.display.Audio object>"
      ]
     },
     "metadata": {},
     "output_type": "display_data"
    },
    {
     "data": {
      "text/html": [
       "\n",
       "                <audio controls=\"controls\" autoplay=\"autoplay\">\n",
       "                    <source src=\"data:audio/x-wav;base64,UklGRiR9AABXQVZFZm10IBAAAAABAAEAgD4AAAB9AAACABAAZGF0YQB9AAAuAD0AJAAFAFAAGgABAB8AVADt/18AVwAmAO3/8/8KAKD/+f/J/wgA3v/d/wEAvv/1//j/+P/o/+z/zv/M//v/NgDN/xcADwDs/zMA1v/o/0AAIwDz/+3/wf8IAHX/2//5/8L/wf/M/8P/rP8PANH/+v/p/w0A4//y//z/IQAbAOn/zP8UACQARgAoABkA4P+s/5z/7f/c/wUA8v/s/yQAo/8yAPz/6v8YAOT/wP8aADsAEAAgAOr/NQBDAAsASwAKACwAWAC6/10AXwAQAA4AIwAAANz/BADq/8H/IADM/+b/of+r/7v/HQA9AOz/2v8LAAIAGwDm/9P/7f/m/8P/AwC7/+H/1v+d/9T/sv/9/w4A+f/X/8b/7P+T/6r/kv+g/y0A3P/C/8j/CADw/ykA2f8JAPT/4/8YAPf/8/9SABMAOwD6/ygA3v8BADUApv8MAPb/6v8mAD0ADwA6ADcA4/81AAcAGABrAEsAXAAiAPz/JABGAAMAsgApAHb/LwAUAFgAGgAPAAwALgANAO3/2v9lAOH/uv/9/2wAo/8QAJkABgC4/0UAXQC//1oA5f/N//j/CABVAOD/3/+6/zQA8P9x/3cAw//P/xUA6P/N/1MA1/+l/wsAFQAaABQAiwCz/+//cQDx/xAA+f/T//L/5P/g/4b/AADR/+j/oP8QAIv/DgABAJ//4//k/8j/4f8LAMT/FgD///L/CgACANb/AAAgADUAFgAGADsAKQA3AB0A2/8fANH/+v/6/zcAGwD6/+r/MQD3/6v/BgC7/yYAyv8zABkA/v9OAGAACACb/9j/xv88APX/t/8SABAABgCH/9v/7f/n/zkAi/+z/4kA0P8AACoA6P+k/+f/JwArAML/PwBKAAMAAgDt/4r/OADi/yYA5P9PAM//HgAFACUAzP8yAO7/BwAGAI3/6f+j//n/JADo/0wALQA5AGoAQAARAFgA3/8RABEA8P/o/+H/6f8EADMAcgBQACMAPwAMAPn/CAAhANz/zf/8/0YA4/+wAAIAPQBHABcAGwDv/wcALgDU/9D/FQANAAwAPAASADQALQBtACEAVQAIABEAnf8eAPD/2/8xACMAQgAjACgASgD3/xkAzv8LANH/xP8TABgA8f/s/wkA5P8SAPb/JgDi/8f/m/8dAOT/3f/j/9r/7f8oABUA9v8IABEAHQD7/wMA4P/n/+T/YQALADAACQBs/9H/AwAOABUAIQAZAL7/4P/V/+X/qf/O/13/tP8NAOT/BwAeABcAKQD1/8n/8f9eAMr/3v+u/+3/4P+o/5v/MQCe/6//BAADANT/nf/I/xcA+P/c/wAA8v/G/4//vP+z/83/3P/9/9f/m/8EAIv/2//6/9T/4P/Z/+7/DwD6/9D/agAYAPP/BwDl/+j/NwDH/xAASwAHAOr/AAAiAMH/BADZ//j/zP/o/97/0P83ACIAKQDn/zkA1v+l/0EAFgAiAAAA0f/C//7/9/9PAC8AAwD8/zQA6P8mAOD/4//w//7/uv/z//X//P8xAAgA7v8CAP7/5f8TAAAA5//6/wYA7v8EABoAEADj/+P/2P/v/zwA//8ZACoAMAD7/xoASAAAAM//DQDx/ykA5//t/9v/PQDk/1QAGgD9/xEA+//y/wcAeAAyAAIADwAZAD0AJgCfACoAXgAxAEAANwDv/zQAeQBRAFIAXQAkAOz/2f/H/z0AWgAFAOT/8v+6/wsA5P8VAAEA8P/6/1oACAACAAkA3v/7/w4AKQDq/8b/1//E/+n/y//9//H/IADs/8//GQDu/yUA9f/Y/zIA/P8dADgAGwBaAFMAAgAQAAMABgBFAP3/GwAJADEAFQCLABoAOgD5/z0AcABGACcAPQA3AB4AQwARAAAAFwAJAAwAPAAtAAUAIABqABkA/v8nAEgAHQAjADQAGADh/1YAQQBAAD4A4//h/8n/FADU/6T/0P8vAPr/AgAuABoAeP/f/53/nv/D/8T/3v+1/5n/DwCi/z//xP+7/7n/FwDL/97/uf/E//z/HwC8/9n/5v/y/+n/vf/t//L/MwDO/+v/m//m/6H/+P+q/6z/n/8LAPj/zv8DACIACAAPAD8AqP8UAAgAEAADAF4AgQAwAHwASgA7APP/IgAMAN3/NwBEAEcADwAOABwAHgDe/z8A3v/k/wQAs/8aAEcA5/+q/9v/5P/S/8z/4v/l//r/8f8IAP7/6f/r/x8Ap/8AANv/vP8SAAAA6//4/xcA4v/E/7v/pf/f/9P/sP+w/x4AHgDv/wkA/f/i/wUA0//k/8j/yf/x/9H/CgAUAFkAFwAsAPz/3//H/xIAEQDh/2cAEwASABMAvP/A/wkA2//u/w4ArP9IABkAHwBOACUANAD+/9D/CgACANz/BwDY/ykAiAAiAB4AQgAzAAcAOACn/8H/HgALACIAbQBOALAAPgAlAHMAawBxAOT/OQC+/x8A5/8aADkABgA+ACMANgAkAD0AMAAWAOv/RAAZANn/4//1/5P/4P8kAN3/9v8dAPD/9v/h/9D/y//A//L/yv/P/8//AAASAN7/8//Y/9n/4P8GALz/3P9EAAwA8P/6/w4Ao/+b/yMAAADu/wYAawALAO//DABwAOf/nP+//5P/AgD5/7f/5//H/w4A7v/P/w4Avf8TALT/2//1/6v/2P/Y/9P/0v/d/8D/LgDe/6b/5f+Y/5r/tv+S/8f/vP/x/8b/0f+m//L/MwDp/9//0P/q/93/4v+8/w0ADQAIADcA1P/v//T/IgD//yIAFAAhAAwABAAVANz/AgDm/w4A0f/h//L/BwAgAB4ARwAuABQAQwAAAK3/7f8XAOr/HQAXADsAAwAzABYAJQDg/yAA/v/y/1QAbQBBADkAcQANADkAJgBRABoAEwBOAAgAJAAtAHIAMwB+ABoARgAeACoANAAbADMAEgDR//j/9P9dACMACwATAAAAVwAEAAYAJwAVAA0A/P+9//r/LADa/ycAEQAGAAMA5f/o//n/vf/v/xsA5v/3//v/EwATACIAJgAiABAAIAAuAGMAQAAUAFUAFgA2AEYAYABoADwAEgBHAOv/HQARACUAAwD//x0AIgAmABwA5v/0/7j/3f8mAEEASwAKAAYAAwAoABoACgD0/ykARQAKAOn/egA1ACsAIQDp//3/BADB/97/wP/o/xgACwDw/+r/0v/C/8//5f/0/+f/1f/T/7b/y//2/8z/+P/s/+n/BgD7/wAA3v/g/6n/GQCQ/97/XADT/8n/1P8FAPX/zv++/wEAv/8SABYAo//f/9//HgDJ/7H/kf8KAO//wv/3/xUAlP/U/+X/4//U/9X/5v/y/9//AgAPANX/1P/3/zkAyP9TANH/xP/w/9H/5P/v/wIANADt/8//FAAQAKr/6v/w/xMArf8UAK3/4P9AAOX/1P/S/9L/CADN/wAANwDv//r/CQAMAP3//v/b/87/7//F/8f/rP/n/ywAs/+Q/67/9P/A/9L/6f/K/zkACgDJ/wAAMAAcAMX/xf8bAAwALwAkAA4ANwAMABEAYQDy/z8ALwAEAAEAiP/j/9j/4//s//v/6v/L/x0A9/8TACMAHgDI/wIAy/+x//P/4/8cAPT/KwATABIACgA8ANT/JQDf/9T/AgD7/zwA2/8IAD0AIwBpAAoAJABqAB0A6v8fANf/0v8LABMADADW/1sAZQBaAFgAAgAmABYAsP8VAM3/+v+BAA4AHgBMAFQARgCBAGEAIQD7/1MAOQB5ABAA5f9NAN//PQCGACcAXQAfACQAGwAbADQAIQAhADEAAAAGACwAHgD8/0oAIAATAO3/SgAVAPD/UQAiAC8A1//1/xsA6/8oABAA+P9qADEAMwAeAEEACgACAOH/xf/o/ysADwD6/+3/pP+7/yMAGABbADEA8P/v/83/bP/4/6v/4v/a//r/AAAbAA4A5//c/7T/DgDf/+j/0P/x/1oA7P9MAFgABAAOAPj///8ZAN7/4P8JANv/xf/Y//j/+f/i//j/DwDY/+H/r//G/97/v/8sACUA4P+R/1QAgP8xAP7/lf+w/+3/xgC0/9P/QwDZ/6D/hv9HAC8Amf9v/2QAv/8O/xEA3f9f/+L/NP8n//f/h/+y/4z/iAAdAMb/Kv/FAJH/W/9TAGX/zP8DADQAGP/U/93/CACG/wwAhwB5/+X/awArACoA+//Y/0EAgv8RAAoAOAAXAKX/cAA8/1gADgBE/+z////K/47/0P8EAA0AlP80APP/6/8UALP/KAAUAMP/BgD6/0QAQABgADYAfgBIACgAQgAhAOz/XwD7/53/UACj/9v/BgD9/z8AKgD1/+r/XQDR/zQAMQBr/yUA5P+8/wEA+P8NAFwAAAACAAkADgD9/xcA+v/X/+f/xv+j/28AzP8AAPH/EgBMALf/FAAeAPH/5/9FAOb/JwA9AB8Azf/7/wMAQQDM/0sAegCTADEAWwBPAA4AVAD8/zEA+/8oABcAKABKADgAFwAYAEsA+//s/18ADADG/wEAGADx////3//E/ycAEQDq//f/+f/l/6f/wv/p/+X/6P/j/w4A8v/E/yYAKgBRAAcA7//8/w8A8v8uAAAA6//q/zMA8f89AFAA3f88ACAAWACB/04A6f8mAFUAz/9AABAAGgC9/6//NwAFALX/7f8/AEkASQB0AB4Av/8+ALr/OQATAOb/AAAFAHMArf/K/4f//P8GAH7/GQA0ABsA2f/j/+z/PAAEAAMACAD+/+7/pv/D/ygAov+j/9T/xf+S/ywAVQBDAMb/3/8jAPb/8f88ANb/pf+c/z0Ao//t/97/AABBAM//EwAMAMD/2P/+/3j/Nv8lACEA7f/O/67/+P/8/w0AAgAaANL/8P8OACcAUQAzACgAJQAkAP//AABeAGEA/f8kAEAALgAZAPn/EAAXABsAw//8/y0AEQBJAAYA5P/u/87/n//i/7L/jv/U/9z/3v/c/1EAUwDB/wEASQDj/8z/HQAdAAkAKgAnAAYAlf/I/9P/2v/w/+X/0v/k/+3/3f+//0MAwf+U/+//AwDR/6L/BwDZ/9L/x/8OAPT/IwCv/9//+f8cAO//qP/p//X/5v/e/wwA5P8SALT/8v/f/zUAx/8RAFkAFAA7AAAAWAD4//7/AADy//X///8/ABQAFgA3ACgAFQA6AAYA6//7/10AMAAjAAEA6v8NAPn/RQAcAPf/FwBIAPT/IgAOAC8AAwAXAO3/GQAnABMADwA1AAAAUgBnAOH/UwAdACoAIgABAE4AMgA6AC4ARAAoACQA3P88ACsAQQDc/+z/5/8oABgA6P/m/3IA1P/s/9n/7f/W//P/v//e/5j/wv/I/8f/y/+6/wIAFwBZAOD/HgD//z8AIQDp/7L//P8VAPr/GADn/yUACADd/y8AFQD4/xcAqP/E/wcAxv9HAMv/8v/Z/y0A9P+w//D/wP/+/9r/2/8SAHL/9v8KAKP/uv/e/6D/n/9/AMf/i//i////4////8D/BwDx/wgAJwCFAA8AJgBlAPj/TgAbAAcAIgCEACgAEwA5AAoAhgAIADMAAgDI/zQAPAAeAAIAUADJ/ysA+v/o/+L/EwAoADwALQDP/z0A0P/3/+//zP/V/9T/ev+v/0oA8f8RACIA9P9HALP/BQAjAML/sv9nAE8ALQDn/ycANgDu/08AcwDj/+7/MADe/+f/bwAPAAsACQCn/zwA4//u/7//CgD4/+//2v/s/woABQAVAOH/9f8YAJ3/pP/D/+X/AgDt/y4ACAC6/+b/8v+6/7j/4f+4/6r/zf/W/7z/vv8eACUA7v81ABYAHwAzAHAAZQBfACAANgA0APn/EAApABoAFQC0/ycA8f8WAM7/GQDC/7j/jv/P/yAAk//k/+j/6P9SAMb/0v8XAAUA+v/H//b/AADw/97/GQBOANf/yP/t/xsA0/8vAC4ACADd/wQA7P/8/xcA2/8MANH/9P/6/wUA2f/a/wMAzv/j/8D/6P/Y/wUA9f/+/z0AGADo/yQAGQD5//z/rP8GACcA8//4/zkAHwD2/1YAJwBDABQAJAAMAE0AAQAqAAgAMAD8/+X/UAAcAPb/AAAqAN//8//i/xEAAwDE/wgAOAASAAUAOgDm/xkAn/8NAPb/SwDn/wIAGQADAPX/IgAzANz/7v/D/wsA3f/f/wIA1f8bAML/JgA2AAAAIgDp/xwA/P9LAJAAcAA3AGUABgD5/0AA/P8oADIA///3/wQA+P/k//D/BwDM//H/4f8AAOf/nf/a/wsA9v+h/ycAqP8UAEMANgDY/87/JAAPAA0APABGAB4AGAASAAMARAD1/y4ACwD//z4ASwBSACEASwDU/yoA0v88AM7/8//n/w8AMgDQ/xIA+//W/73/JADa/63/tP+9/8L/u//q/9H/KADx/woADACQ/8z/yv/a/wUA+P/6/+X/7//5/y0A+P/w//n/8//2/+//6f/k/8H/4//f////4P/Y//r/JQAXAPf/DwBoAP3//P81AOP/yv9KAB0AKgCMAF0A+v8cAFwAJgDR/2wAUwAfABIALADY//H/BwDS//H/FwAXACwAIABsAGIACwBgAAEA0//a//r/KQD5/w4AIgD9/0EA6v/Y/yoAGwCB/+T/hf+x/93/ov/S/9D/0//9/wYA2v8kANP/7//R/6L/z//d/9X/vv/X////+//a/6b/t/8iANb/+//Q/xsAFQAAANH/CgDy/wkATADe/0EAUgA1ABMAEAA5AEMA+/8dAPv/DABDAEMANQD//2MANQA2ACAA9P8iAAMA//8mAA4A+f8rAM//BQA7AE8AOgDq/yUALwAEACoA2//7/9r/HQD+/zMATABQACAA1f/v/zAAJwASAAkADwAzACUAIgC9/7//PwDz/wYAFwAZAPj/n//q/zwACgAbAAEA6P/R/x8A/v/T/9D/4P+w////AwD6/xkA2P8OAMX/DQDm/x8AWQArAEcAGwD7/+v/MgA7AAQA8v/U/xgAtf/c/wMADgBtAGcAMwALAO//DADT//7/9v8OANn/5v8YACEA9f8JAA8A9v8IAD0A1v/B/8T/FADt//f/0f8iAAYA7f8AAPr/CwDO/xoAz/+S/+j/0P/7/8L/GwDS/9//2/+U/zAAGQC9/ykA3v+r/9L/5f+6/xwA/v+7/+3/uv9v//X/uv/m/wQAPQDQ/xkALQDA/8b/dv9RAJ3/NABYAA8AFAA9AGoA6/+3//P/EgAEADsA7P8sAAcALAD+/wwAs//b/xoAIgDX/0oAAQAKABYAPwDt/zYAIwD5/6r/8v+7/9v/nP+5/5L/FwDU//b/HgCk/+f/xv/l/wwAh//T/xEAAQDV/yYADgD4/xEAFwBFAFQAFgADACYA2f/S/7T/BwDr/xgADADn/0AADwDz/wAAAgDZ/xoA9P8HAPr/LQARACkABADl/w8AKQA/ABMANwAWAA8A+v8uAPD/3P///83/GgA5ABIAHgA8AM7/wP81AC0AJQAvABoAFQBRAFcANQAyAF8ASAB1AEQANgBhAGgAQAA9ABcAWQA4ACwACwAPAPD/5v8XACoADgDM/w4A///0/zQAJwDO/9//7f8WACEA6v8VAPP/FAAFABQA2P8rAOP/5P8eAM3/wv/k/+T/1P/v/8D/+v/Q/9T/BAAmAP//7P8lAC8A1f8KAOb/zv8HABUAAAA7ACgACQANAA4AOwDo/9n/o/+u/8H/+//n/7b/8v/Z/xkA4v/o/+r/7f/E/zgA9P8RAAoA1//0/9T/4v+4//n/AADo/8T/CAD4/wYA///6/zAABgAFAOj/6P8FAPX/TAAdABIAcgAYAAoAMwAVAPv/LQA1AAIA9//M/wkA+v/i/xQAzv/O/+X/NADd//3/AwA8APv/z/8UACEA/v9FAPn/GgALAG8ADADM/wAAvv8vAOP/9f8XAPP/3v8WANL/7f8DABUALQAJAMT/OwC//+7/9P8MADYA/v8BAA8AAQAJAGIAQgA+ACQA6v/1/xcAYABbAAAA/f8zABEAj//v/14A6/+///7/MwDf/yAAcADT/1QAQgDk/y4AUADg/xAARQAoAOL/+P+y/97/pP/K/5j/5v/Q/+D/y//R/xcA9v/x/8D/6//o/9L/v//F/6n/3f/q/7f/7P8DAP7/2f/9/xgAEAAHALn//v8NAAEA8//8/wIAAADe/wAAAwDz/w4AAAD3/5j/6P8HAP3/6P/i/8j/rP/9/73/z//R/8X/jv8NAO//nP+w//P/BwArAPv/wv8lAPj/LAA9AAEA0P8SAN7/NAAxABgARgDj/yQAJgA0ABIAGQAMAAgACwAEAAEAKQCz/9D/6v/9////9P/r/w8A+//N/y8AZgDg/ykAYwAuADUAHQABAPT/AADl//7/8f/f//X/4P/W/7z//P+q/9z/zP/2/83/DwAzAOr/LQAxABIAEgBCAFgAEwAkAAkAJABAADkAPQA8AHAAZwAWADwAewAuABcACAAiAHH/IQADADsAFwASACsAKAA3ADYAJwDa//3/OQASABwAHwBYAEcA//8pADcAGwAOACIA8P+o/9v///8rADkAagA1AHYAcAB3AHcAZQBOAH0AQgBKAHMAIgBYAEYAEgAmACUAyf8AANH/BADx/+j/RQAZABcA2P/c/wUAx//v/+X/8/9r/xAAm/+X/9L/+f/Q/8L/uv/+/xAA3f+d/9D/w//T/3z/a/+Z/5b/w//g/9r/sf+5/xUA0P/L/6H/1P/c/7r/dv+I/9X/y//K/8n/0f/A/7f/xP/a/+v/7P/u/77/gv/w/7f/ZP+8/8b/yv99//v/z/8RAA8A+P/z/4P/r//z/7n/zv///7T/uv/G/+7/p//x//j//P/j//v/3f8PAAAA+f/m/yIAIQDz/ywAFwA6ABIAQgA9AD8A7//+/08ANgAGACwACwAMABAAAADx/+X/DgD3/9v/xP/+//b/3P/8/xMA4/8XAN7/TgBZABwAIQD2/9n/2v/7/wUAJwAUAAQANQAsAO3/9v8NABgAAwAUAPH/LQDY/9D/JAD2/x0AIQA+AEgABwAZAAIAIgAVACwAWgAaADIAZQBRAH4AIwA2ADQAQgAzAAUAYQBQADEAQAAPAAMACQAtAO3/yv9oADIAPQBGAAYAuf/L/zIABgAIAOD/BADt/xIA5P/c/9X/3f8MAPL/4//4/24ABgDg/04A///o/9X/9f9EAA0AVQA5AP3/RAA3ADcAIgCLAE4AmwD+/0oAXAAhAAEAPwAQAEUAKgBjADoASgByAGAAZACGAGEAaAAcAF4AhQBDAFcAdwBZAF4AZwBBAAMA/f9MAOb/AgBHAB8AKwAuAEYAPABqAEMABQAqANf/AAAbAND/IQAMAAMAOQD7/3IA1/9GADAA1P8tAD4Axv+i/3z/2f+5/3T/rP/G/5P/y//0////tv/F/wYAV/99/0b/YP92/4H/yf+Q/5P/3v/H/4f/p/9h/wz/jv90/4r/mv8d/1X/l/9I/4H/i/+c/1v/hv+j/47/qP+n/8//sf/w/1v/hP9n/8X/6P9j/2//nf8GAGv/LACQ/4//AABO/zz/1v9z/1r/1P+6/5r/+f/u/7X/y/+m/4f/ff+s/3//sf8WAIb/8P+a/zEAyv/c/5P/pf/0//j/qf/8/+z/1v9OAOP/CADY/zEAOgDd/w8AHgAFAPT/IQAKAN//RwAAAAQAXwBxACwAUQBXAJEAhQBQAGAAMACdAHAAHgCHAJsAYACDAJUAjQCrAJkAmgDoALEAfAC4AIkAfwBkAE0APgCdAJAAZACOAHoAqgDeAKgAtQDCAKsAtQCgADwAUgCAAKcAdACTAHgAkgBuAGcAVABvAHIAWAA6AHYAYQCJAFUAbQA7AH4ASABtAGoAbQBDAFwAVgCeAF8AigBKABcAUgBzAHgAXgB1ACsAUAAQACUAZgA+AD8AFgA/AAEA+f9lAFYAIQA6ADQAGQA5AFoAVQAhAGEAWAAjABwA+v8AABoA//8VABwABwAAAD8AKwAXAAEAuf/4/+3/u/8PAMn/+P/y/wQAuP/U/8r/rv+k/7b/tP+M/57/Zf+C/3H/jv83/2j/L/9Q/0P/D/8f/z//Tv9p//3+/P7B/kf/Wv/9/hz/K/9B/xX/df9i/1z/Av9L/+3+G/8w/yn/Fv8c/z7/bv8S/1D/cv+i/zr/mP9o/0z/cP9w/zL/S/84/4z/N/+s/wkAoP/A/57/v//B/6X/hP9w/7D/kv+h/2D/mv/a/57/xf8NAB0Au//M/9v//P/9/yMAAAD//zAAGwAKAEIASQBMAFUATgBfAB4AQwArAE4AbwBrAFUAYwASAG0AYwBzAHcAhgBqAEMAOABYACYAQwBSAEYAcQCQACIAJgBPAGQAVABUAD0AQgArAEYATABsABcA8/8vAAgAAABcAGgAVABPAAoAAwAvAD8AQQBoAHoAdABGAHoAdwBsAIoAdwCbAGAAcABUAHUAXABWADgADQBSAD4AJQArAFgAWAA2AHYARABSAAwAHAAMABIA0P/6/y8A9P8WADsAOAATADoAKgAjACwACQDn/9X/BQAIADcAeAApACEAWQA5ADwAEwAWACUA3P8pADUAQwAjADgATwAvAO//DwC4/wEA///o/9j/zf/d/+r/8/8VANr//P8jAAAAFQAOACgA/f8KAPj/3f/Z/wMA9P8KAAoAQwD2/x4AFgABACUA2v/m/9L/KwAdACwAJQAwAAoAPABPAEYAKQAyANL/RQABADIA8/8NABEABgDk/+3/MgDS/wUAHgAdAMX/6v+r/7r/zP/Q/+L/sf8MABsA5f/3/wUAIwCi/7j/tf+N/9H/n/+2/8n/vf+Z/w8A3v8UABMA7f+U/9v/t/+t/8D/0/+1/7r/qP/J/7r/9P8jAMX/zv/X/+7/6/8EAPH/+//v/wkA3f+p/8D/zf/Q/yUAIQD6/9H/BwDu//L/FgDG/zYA4P/o/+P/TwAJACYALwDs/w4AEAAWAE8AGQDI/+b/KQCE/w8A5v+5/x8A6/+//63/1v/R//n/CADN/+z//P/L/73/6/8WAPj/+/8EAPH/0//t/7j/zP/S/x4ANQDh/87/1f8cANL/sv/z/wIAtf/Q/xAA1P/F/xMA0P+1/ysANQDu/xkA5P+e/8j/AQAtAPL/LAAbAAQA+//B/8f/6//q//X/QQAXAO//HgDu/+T/PwAeABkAOAAuAGEATgD4/+f/EwAHAMX/DADu/3gAVABRAFcAEQBOADwA3P/L/9L/3v/q/+3/OgAeAFMAYQBXACoA//////P/9P+U/7//BwAgAAoAIwApACwAPAD3/xMA7P/P/7j/BgCz/9//BQCX/+j/5f9fAAkAJQDn/yQA9f8AAB8A3f82ABAABQD5/ykAFABMABsAEAAtAG0ASQBdAFMA+f/h/yAAHQC7/x0AHwAQANH/9/8PAND/RgA0APT/AADy/0UAof8dAAYA2f/C/+X////I/+//9/8bAEAA6P/p//f/jf/S/9v/n//n/8n/BgAlAAsACAAUAP3/IgDs/ywABwDi/zEA9/+r/9//xP/t/+D/FAD7/9//yP/L/x4Awf/h/0gADgAmAN//5f8vAP3////i/xgA3f/a/9f/FwAkABMAAADu/28AzP8YAPn/+f/9/9X/FgDZ//b//P/x/wkAQQD9/7H/7v/J/+//FwAuACUATABEAFIATgA+AH7/t/8uAML/JAAlAD8A5P/o/zwAKAAQABoA0f/m/5j/1//h/9z/hP/s/x8AxP8vAMD/NQDp/x8A8P8RANn/IQDk/6L/0P/y/9f///8XAAcAKwDr//X/9f8bAAAASADr/9L/CQDN/xoA//8mAFMAMQBBAG0AjwA2AAcAEQDs/wQALAD7//b/SwDy/7j/EAAXADAAEwAGACgA+v8kACkAHwABAMz/tv8ZAKH/xf/+//v/LwDu/yYAvv/0/7b/v/+z/6T/jf9YAK3/8v/M//D/KwC3/wMAUAASAMH/GwApAPv/yv8UAFQAHABQABYAeAA+APf/JgD+/xEAzv+9/0cAIQD6//f/KgAQABgAHQA8AAQAPwDu/1QADQA7AMD/2/+4AFb/HgAqAP3/VgC0/3YA//+2/y8AZv/M/wcA+//U//r/EQDc/+z/MABSAAcAGQATAFAAQwA5ACMAWABxABwADAA8AEsAYQAFAPD/OwASACIALwDQ//7/8v8KAMv/3P9LAAkAxf/E/+L/u/+k/9P/w//q/xwAt/+w/6//2/+T/zAAzv/M//z/tv8yAFwAvP/o/5//tf/j/+L/AQCw/+n/JQDL/x0A9/8sADsAfADv/x0AaQDy/zkAPwAaACYA3/9aACoABwA9AEkA9v8FAFIAEQAIADQAaAAMAOv/yP8AAOT/JwC5/8//CwDg/xYAxP/+/+7/tP+2/+v/6//F/7f//v+l/+z/2P8MAOz/2v8LAMH/OADq/9j/8P///0YA5f/q/z4A+/8nAAoAFgAHAMb/5P/f/9X/kf+3/57/3f/m//v/EwC+/6v/9/89AOj/sP+M/ysA6f/7/0MAMgAEANj/6P8wAKv//f/P/+P/6v8xABMABwARAAoATwAvAPX/GwDk/+P/YgDr/+T/agD3/y4ALgAwABEApQAIAF0AgwAAAFQAGABdAAYAo/+OAK7/NwDy/zQA/P9IAMn/n/+NAAIAzv8KAAwA+v8LAIH/FAA4ACcAHwByAJj/2P/h/wAAEQD0/z4Ac/8RALz/h/8fANP/JABn/x8Atv9AADgA+v+PADMA7f8VAB0Atv8qAMn/l/8SAPf/IgBTAO7/QwAYAFkAIQBGAC0APQD1/wAAzv8bANT/KwDZ/00AMgAdAHcAHwD7/yAA5v8GACkAAgCv/+H/FAA+ABEA1f/p/yMAEgBZAB4A2//i//D/zP/4/7z/BQD4/9H/UgBAAF0AKABNAPn/NAAhADcAxv8fAAwACgBYAN//3//q//z/PQD4//n/JADY/+3/CwCv/+D/0P/e/woABQDR/8T/BwBjAMT/BgAsALf///+w/97/tP8BAAUA/v/C/+n/DwCy/+7/JQAyALP/DAAUADIAuv8DACQAZQADADQAawBPACQAXwC+ACEAJQBzAOr/4/94ALj/SgB2AAkAZwADACkA1f8RAPP/wP/F/+P/NQAHANb/5P8NAK3/nP8SAO//0/9tANn/FQA9/9P/wv+3/7b/vv+y/8L/vf8QAAAAAADl//z/HgCn/8n/6f8JALL/hv8MANr/BgARAGsAQQDc/xMA+f92AC4ABABbABcAXAD9/xoABAAIAFcAHQAoAP3/HQDj/woAFwAhAJD/BQAjAPP/y/8MABIAp/8EAAUA1v+a/9v/AACi/6j/2/8dAMb/9//4/+f/r/8pAH8A2f/t/yQABwD8/+P/FQD7/+f/pv8XAB0A7//N/+//0v8LAPT/qv+2/9v/u/+s/+L/6P+z/4T/i//q/+H/JABDAPf/3v+3/8P/f/+Y/93/vv/5/87/8/+p/43/nf/J/9r/6P/C/8b/2v/u/+b/9P/f/9H/2f/c/wYAQAAGAPD/DQAwAB4AAAARANL/MAAfAFAANgBZAGIAUgAMADAAKQAyAB4AXABZAM//DQDt//n/HADs/xAA/f99ADIAQQACAE0Asf/V/+r/z/+q/xQAAAAGAAsASAACACwAeABEAAYAdAAmANn/7P8yADsA5P/8/+n/KABTAEoAdADNAHEATwA2AEgAQgAeACoAvP8xAPD/QgA3APT/TABPAEUAUwBSAFwAOwDz/w8A8P81AMj/wf8DAPT/rv/9/zkAHABKABwAIAD9/wIA1//p/9z/wv8TAAAA3/8TAEAABADx//T/JADD//D/HADt//3/IwA9AOr/4P8jAD0AIAAOAEcABwA4ACUA5f8aAEkAVABHAN//8f8ZAND/yP/1/wkA+P9CAMr/1v/7/+X/jv/u/9T/6P///7L//P8IAAEAj//e/87/vP+v/57/zf+3/xoA1f/j/9j/7v/Z/8j/t/8LAPT/JwDk/9v/CQDo/+n//P/v/w0A+f/O/yoA+v8PANz/+/+P/7X/gv+C/9H/8v/z/woA3P/c/9T/vv8tABcAnf+4/wgAAADB//D//f8+ACMALwDm/+H/t/+7/9D/SACz/6b/IgD+/y4AFwDR//b/6P/D////wv/1/wYARABUAFQANgAqAAoA+f9LAEwADQBBAOT/CgAXAP7/YQAaAAUABAAMANn/+P/P/7z/BQDT/wQA2//o/wQA9//0/+H/CgD3/+j/LQCm/+f/9v/G/+D/CAC3/83/rf/V/+//5P8dAMb/FAAxAPz//v/0//f/9f/S/8n/CwAcAJUARAApAEcA8P8ZAFsAVABmAHoAVwDu/w8APQAfACMAHwDr/xcASABzAEkAlQB6AGgAXgBOAEQAWgCrAEYATwBFAA4ADwASAEAAUADg/ysAdwBJAHYARwAZAPD/AAAOAAMAEgA4AFQAJgBFABUAAgCt/wMA5v8nAEIAXQAxAEUAOADz/zIAGwBFAA0A+f/p/xMA3/8NAA0ARAAPAOL/2//o/wYAHAC0//X/4/+u/+7/i/8DAJT/yf/2/8D/2v/f/9n/6/+5/woAtv/R/7r/zP+d/4b/TP/+/4j/dP+S/+D/7P+s/xEAHADU/+r/AwBt/8L/ev/c/7P/+/8NAM//GwDG/8H/FADC/8j/9v9w/1L/0v/A/67/5/9v/7T/xv++/6z/5f/0/+j/CwC1/7L/2v9r/xsAO//0/1//9P+W/6z/w/+T/+D/qf/w/3D/8f/v/xUA4f/R/wAA7f/s/6//IgAYAAAAmf9TAPn/TQA4APL//f8IAOn/+v+Z/9r/EAA9AJwADAAUAC0Ayf8vANn/EgAXAN//QAABABUAXQBXAEMAfAAVAF4A4v/2/8T/zf8cACwAAwAzAAAACwALAAUARwA5ABAAKwBoAPv/cwAmAE8AKgD6/1AAQwAGANT/NAAtAFkAQgAhAEMAFAAkACoAFgAoABoAAADz/0oALgA/AO//AABlAEAAYwAqAEwAJQBKADAAMAAPACwAcABFAEsACgD1//n/UgBRAEoAeABqAP//DwAqAEEARAAuADcAKADr/0oAJABFAP7/LgBrABEAbwBaAEIAbwA9ADgA4f8GABQAHQD0/yMA+f8JAL3/7//P/+j/5//T/+P/EADn//7/zf/w//T/mf/i/6T/z//g/wUA7//A/+j//P/H//P/4/8ZAGIACwD5/wkAvv/Z/9b/xf/1/+b/+//N/xwAAgAAANP/4v/1/+n/7f/5/+r/+P8YAOL/6P/h/9T/1//s//j/PgAFAPr/KADT/87/FQDW/+T/5v8MAMH/HwDI/0AAIAAQACoAGwD9/wUA2f+N/3j/pf9x/5D/7f/K//f/8f/F/xQA9f/W/9z/1f+5/87/nv8FAO//4f/v//H/FADn/xIA+P/f/9j/u//r/7L/8//r/9f/v//z/9L/+//o/+H/5P/3/+P/v//c/wAA1f/K/wEAMwDa/y8ASwD3/yAALABRAOL/8/+r/zkA8P8SAMj/6/8XAB4AewAmAPb/cADZ/y4Au/8AAFQAOwBBAHcAQwBDAFQAQAAoAEIAxP/5/xcABwAgAOH/FAA/AHMAUQAIABkAGAD9/yEAOQDg/+v/DwD6/z8AOgAcAB8AKwAcAMb/0f+2/+7/rf/0/6D/3v/X/5//lP/P/9z/0//y//z/CQAeAAUA+P/+/xQA2f8EAMP/BQDx/xgAFwAUAC4AAQAXAO7/3P/V//v/8P+7/97/wP/q/9j/wv/w/xAA3P9IAOv/EAANABUA5//x//j/MAD8/+L/DgDG//P/vv/8/83/8f/X/6f/pf/9/9//8v8AAP3/EQDo/x0AAADz/wMAAQAEADsA3f/7/9b/4/8FABgASwD2//z//v8DANj/6////9j/x//q/7f/5/8yAPf////t//j/+P/3/w4A+P8hABMA7v8fABIACgBWAOD/AwADAM7/MwDV/xMAEwAzAAcACQAMAAsABgBgAEkAFQA8AEMAfQBpACIAigBkAHIAYgBGAHsAagCRAHgAdQBiAGEAeQCCALEAtgBqAEoATgBeADAATgA0AHQAZgBeAEwAYwCEAIIASACUAHIAMgBBADsAPQAXAG8AvQBxAD0AUQBRAEQAPAAjADQA3f/B//D/yf8UAOv/DgAFAO7/CADb/8f/wf/G/y0A5f8tAM7/FQCp/+T/yv8a/zsAO/8LANH/Rf/b/5kAzP8x/0AAFgAXACkAov/q/+j/uP/N//7/zf/U/37/rP8MAIv/Sv/f/6j/wv9W/yoAVP4mAD//Kv9C/zUAQ/+Y/q3/6v+3/9X+wf9w/6z/p//x/5r/JACU/yn/4v9CAIP/bv9H/xMAZP9s/7T/oP8x/9n/e/++/63/qf+D/2f/R//9/5P/Hv/V/zL/pf+6/8T/LgD3/wMAwf8FAAYA9P/0/4X/Vv86/2P/AgAuAOb/7f8BADMA0v/p/wAABADY//b/9v8NAOn/AAAAACMADQBXADcAFQCKAD8ADQAjABcAOADM//T/VAD9/x4ANgBlAOn/FgBUAF8AFgDE/ysAOgD7/9T/HgDm/zIALwAzABAAVgBDADkAOQDu/9v/KgBsACgARgAbAC8A1v9iAHEAFgAyADAAIAAXAA4APgA1AEUANAB1ADEAiAAoACAAbgBlAGgAeABGADUA/P9gAGEAZQBTAGEAhQBPADUAdgB5AEQAWABRACEAEwBWADEASABfAGsAaABUAFkAIQA6AE8AOwBDABIAHAAPADoAXwBuAEAARwBoAGsADgBOAFkA/v/7/xwA+/8hAAsAuP/7/+D/CQDR/xMATwA2APX/7f8uAPb/xv88ABUA3//F//n/rf8CACYA8//R/wsAOQDx/xgAAAAsAPb/GACk/7z/rv/G/87//P/l/9//yP/C/yMAzf8DAPX/HQDR//b/0v8XAA0A7v8PABEAwf8TAO3/5P/k/08AFwDr/woARQAMAAAA6/+5/xcA7v95/3v/yv+1/3z/iP/i/+7/j//3//X/zv/B/97/xP92/7j/yP/C//r/EQDY/9X/z//q/8P/wf/C/6n/6f+V/8H/1v/y/5v/vP+7/87/3v+y/73/9v/W//j/6f/m/+H/3v/A/+f/PgD7/8f//P/y/7v/6/8VAL7/GQAEAAAA0/8bAAIAzf8uAPP/YgAMAAEA3P8AABsAxv8UAOb/7f8dAEgA3P87AKL/6//9//7/FADx/8n/EADj/9//1f/V//z/3f/P/xIANwBRADIA7P/X/xUA2//3/xkA4f/b/wAAAQAAAPP/AQD8/wEA/v8NAAwAGQD8//3/1P8cAOj/EAD6/xcAIAAbACMAEABMAC8AGAAAAPr/FwBTAD8ABgA7AKX/5f/q/w0A/P/N/7//FwDp/wYAMwB7ADMARgBKAEAAOABVAFMAUgBoAG0AbwACAGkAbQBzAIEAPwBEAF0AUgBMADwANQAYAC0AEQAEACoAEgCv/wYA/P8IAPj/EQAvAO//VABXACcA7P8YALb/mf+2//3//f/p/7j/0P+f/9H/0//K/+//FwDV/9b/FgDo/6H/sP/s/wMAv//r/wEAHgAmAA4ACAAyAA0A8f8CABMADgAyAPn/+/8AABEAv//8/ysAKAAFANb/MwAlADIAzf8qAA0A7P/j/zcAHADm/8b/1P/f/5b/y//Y/zMAGgBCAK3/z/+t//n/vP8SAAoAIgDj/yQA5v8lADEABQDO/w0A/v/5/0cAeQBaAMP//f+s/8X/lf8/AJ3/MwADADYA2f/t/xgALf+y/7b/nP+O/8T/KwC0/+n/8f/9/9D/zP/Z/9D/DACf/0EALQD3/xoA7/99/0z/av+o/7n/BwDn/woA9v87AAsAw/+7//r/0v9DAJUAZwDPAHsAegDy////CAAAAEsAQwBNAJAAKQBQAAUAAwAKAGIAJQBMAC0A0P81AAIA4f+s/+//4f8IAFkAiABdAFcAZgAaAP//DgAnAAIABQAIAB4A8//p/zEAOQAfADoANQAFABsA4f8nAN//NgAAAAwA8v8nAML//f/h/xAA+v8UAAYAQAALABgALgA8AAsAAQDM/8f/9v/k/wsABAAlAPj/swA5AD4ADQDa/6//AAAbALr/KgDy//z/rv8JANb/ZADE/wEAv/8qABQA+f+5/6n/JQD8//j/1/8cAL//9/88ANj/5f9BADEA4P/x/zIA6v+n/33/3v/u/+z/CQA8ABQA4/+x//X/1//3/wAA8P+4/4b/0f+D/8v/FQAJAPb/IgDm/67/8P/M/8b/7P/q/yEAXgAlAPf/9f/G/w4AAgDQ/0QAMwABAIz/nP/H/8D/wf8HAO7/AAD//0IA7P8iAPP/1P+g/wcA1P8sAD8AMwApAE4AEwDP//P/OADN/8j/BwDe/zMAXAAbABEADwCl/8v/bv/S/87/CwC8/xUA9//4/8D/4/9i/23/KQCI/53/uf/i/8b/LgCj/ywA4f+N/w4ABACY/8T/3P+q//X/HAC//+v/+f/x/8b/IwABAC0AAADF/y8AYwBC/5r//f8iAJkAkQCCAEAA2v+h/4T/DQAQAIgAmQC4ACIBvQDw/9//S/91/57/OwBrAN8ACgHLAEgAm/9+/x3/SP/H/1EAvwC7APAAqQBiANX/cv9v/7r/9/9OAL4AxQCSAG8AIwD//+j/kf/d/8z/GgBtAK8AlwByAJYARgBJAP7/2f/s/8b/xf/6/y8AlQCFAL8AEADS/73/dP/C//r/7f8pAIEAuwCeAGcAAgBd/5T/qf+o//r/KwBlAGEAKwAjAMr/n/8dAPP/tf9UAKYAngB9AHQABgARAM7/IAD5/wEAWwCNAHEAJgBeAP7//f/G/5z/6//W/0YAFgApACkAVQAUAPD/Wv9y/4D/o//v/+f/aQBYAAAARACB/3j/gP9Z/yn/5v8JADYAggB2AIUACgDK/1n/Lv8q/3H/BgBLAIIAegBwAOL/fv8v/5D/Nf+z/1AAkADDAJkAagAjAID/JP9m/9L/HQBjAO0AqABQAEYAxv+D/5//kv+N/8P/DQBOAG4A7f8LAOD/AwDQ/6P/bP+W/8b/6f9XAGoAXwABAA8Adf+N/zL/l/+e/6r/CwAbAGAA6v/a/4v/ff+J/7j/pv/l/zEAcAAeAFQAFQCx//L/of+2/6X/oP+x/+v/KQDi/wsA1P/U/xgA0P+1/6z/GQDd//P/6v8kAP7/9v/2/6b/LQAcAIUAIwAjAB4AkP/I/4H/vv+x/2IATADZ/xsABAAIAFn/k/+N/9b/jP9UAEwAagAzAPL/o/8AABEAcgBBAAcAJgBHADMAAgDo/6//ZgDb/yoA8v/t/2H/qwBaAMT/AwAeANP/e//H/1j/HwCw/14AGwAGAAIA/P+h/+b/n/8TAI//UQAgAEMAiQBUAKr/5f8OAJT/9P8wAEwAJABdAIEAcwD8//f/PgA6ACsAigAxABIAOAA6ACoADQAIACQADQCGAGcAQQA1ADQALgDv/zAA//8AAAsAVwBIAHYAigCgAC8ABQDl/+X/pP/d/8v/BAAnABkAaQCWADIARgD5/97/1/+///P/9v8aADYAIgARAFMA7//u/0QAWgAhAHkALgDa/wgA2v/4/9P/dgA7ADAAVgBfANz/xv/Y/7r/lP/s/0sA7v///7f/g/9F/07/tf/p/xgAjgAhANH/0f+Q/4P/hv8EABEALwAdAMP/s/82//D+KP+B//n/EwCVAOf/sf+6/7f/qf/e/+3/LwB2AFkARgDt/+j/d//i/xQAEQBDAIgADgAcAAgAz/8YAAMAtwCIAJUAaQCbAJUA2v8MAOX/2/8VAEIAJwBMAB8AXQBPAG8AGwBsAPT/YQApADYAVgA1AGMAcQCYAGcA/v83AB4AKABIAI8AjABsAHQAQgA7ALP/4v8PAPD/FAA7AGAAEwCr/7L/sf+4/wEAv//G/5//SP8//y3/FP9r/yr/G//5/tH+pP7F/pf+kf6R/o7+lP6q/q7+rv5e/iz+Rf4G/tn9Pv7//WT+W/5d/pb+cv5G/mf+Kf4R/mj+g/6K/pf+rf5P/oX+Bf9f/5r/vP/F/6f/6P/k/ywAfgB5APEA/gBBAe0BLwJfAkICewKfAi0DOQPAA10EYgRABEYEkARwBGMEUgSXBOUEiASSBE4EJQQOBHgDoANiAzQDJAPeAloC7gGdAVEB5AArAaYAkQBnAF0A5f+8/2L/lv6K/jr+JP5B/hz+T/7g/QD+zP11/Wb9Ov1L/VX9Jv0H/cH8mvyW/JL84PzO/K78qPyl/I38Xfw5/HL8d/yQ/AL9pPzG/MT8gPz8+x386/sq/ET83Pz+/BP9tvxr/JX8R/xL/Jz89Pxb/fn9xf5t/x0AdAEBA0cEYAVQBoMGYwaZBawE5QPiAyQEkwTTBXMGzAaZBl8GWwVxBP4DhQNdA2MDsAObA6IDaANZA/MCvQLAAtACuQJ4AsIBGAF4AG7/IP+t/ij+8f0E/jr+Tv5I/mX+aP4u/hf+AP4C/pv9cv1K/Zr9w/0K/kv+wP7i/kz/N/8L/xD/Ef9J/1X/av+l/4z/kf+9/+D/DwBIAC8AJwAoACMABgDz/+//wP/I/53/q//C//D/PgBOAKAAEgHFAIYAVACz/3v/S/8v/3H/B/9f/5n/sf+l/zX/0v7c/sX+hP5r/tD+0v6V/lz+Yf5T/kf+lv5s/sf+uv7Y/ur+p/4A/6X+A//8/hT/Hf/n/jH/cf+9//r/8v9AAF8AVQDL/9//sP/5//3/RAByACMAHADw/w8ANQAQAFIALwAhAP//r/+s/3D/U/8F/4f/v/+5////PQBkAHAA5wDDAPcARwEqAVEBaAFiAQgBXAGUARoBHQJ1AtwCfgMnBJsEGAVOBaAEIQTnAoIC4wENAnMCtQLCA6YDzAO9AzwDmwLIAW0B5gBiAFkASABlAAIA+v9z/5P/Z//Y/vb+Cf/N/k7+9P2v/er8nPxM/Cf8I/xH/Kr81fwM/Wr9sP2h/Xz9ev07/bv82vwd/Zr9u/1I/on+kP6e/uD+zP7X/pb+Av///tb+9/63/ov+aP7f/gP/HP8c/0D/Hf/1/h7/x/53/hb+Gf6U/Uv9Kf3k/J/8SPzX+9T7xPto+yX8Cf3+/wUEtgcRCwEMPQo0B38D1wBE/9D/TwF/A/0FXAckCJ4HugX6AqAAM/9o/2wAtwHcAlMDcQOEAyED7QKGAusBIAHZALkApwCnAC8A3v9//9f+rP5R/oz9P/10/RH+Gf9VAKEA+gADAO3+2/20/bj94f2U/iP/iv+h//T/DwDH/0b/Bv8g//b+b/9k/2f/sf9+/7//1v+U/y3/7P6X/gv/N/+J/3b/jv9s//3/6v/b////gP9L/zz/1P70/gH/uf4D/xr/3/9sAKkAPQDe/2X/IP9Y/+H/bACfAJkAFQCY/7f+yv17/TL99vy2/VH+BP92/yn/zP5z/kz+jP7w/jD/v//G/7X/2P+P/27/ff9n/6b/1P/i/xoAHgCW/6b/ev+F/2T/q/+I/27/mP/W/z8A9wBaAb4B8AHJAYYBkQFyAXsBpQHWAakC7gJRA38DawNFAxAD7wIdAwgDhAJUAgIC0QH2AUACAwLzAfgBpwGKAVsBGQEJARMBXwGMAb0BUgIDApwBkQFCARABWQACAbQArgAHAR8BZAGLAEsAqv99/0L/kP8h/2L/hP8Q/yL/d/5l/jX+iv2V/Rf9sP2F/aP9gv3p/AP9a/xO/DP8TvyP/L38+fwh/QT9//xf/Pz7s/vs+2L7o/tq/Fz8lPzX/LX8aPyd/HD8If39/Cb9l/xj/K38avym/PX7avtZ+4j8Xv4pAIYCAgU0BhQI/AkqC80KsQlPBy0EpgLxAdwC4AOuBJUFqQXxBY4FtgTuAoUBKgAAAC0BKwP8BBMG3QVdBUwEbwOWAqUBnAAgALT/OwCNAIQANQB2/03+nf14/Tv9kf2U/T7+8/63/0cAXQCK/4D+dP0e/Rv94P0u/un+Pf/N/w0AQwD7/+P/a/8O/77+F/9y/6z/xf/R/13/Cf9+/hT++/3d/T3+kv7V/hD/bv9F/xn/TP/+/qX+nv5D/lz+X/5H/qL++P7Y/tv++/7z/hf/pP/x/wAAiAAUAA0A7f9vAHQBywIABC8EmQMOAnEAiv4f/v79UP5U/4IAbgGSAZIBuADW/xP/wv4j/3P////9/2r/ZP+b/tb9S/1x/dj9g/7w/oH/H/9+/7/+EP6a/QD9nvwc/br9gP4S/4X/UgBUABcADv98/mX98/xO/db9ov71/9UAywG4ArwDewRXBKQD+gJ4AhwCSwKUAh8DJQNBA0kDJQPCAi8CAQKOAXABjQEqAsYCSwMTA78CNwLJAV0B+gCHALkAKQEVAnsCmwLDAtYB5AAtAKn/4f8AAFcAuADkAFYBvgF5ARcBIQAo/5T+fv6B/sf+BP91/1H/EP9U/0n//f6z/rD+v/5G/6//CwApAFIA0P9h/xT/Fv/c/j3/RP/H/+L/CgAVANP/cP/C/jz+wv1H/f38Bf1V/dX97v17/qj+tP4a/rr9b/08/Rf9I/1c/Tn9F/36/HH9yf3m/fH9ff1z/Pz7zvt3+6v74/vm+7f7a/tR+1j75/qR+lz6xPny+HH4Z/e/90b64v9eCCgRvhccGs8WwQ9NBygAjfw7/LT+yQKXBmEKtAzJDFIJ4AME/gT5Nfdh+Vj+KgSFCYoMTQ1pDC4Kogb3AkP/ffzM+/f8Rv/CAVsDdwN1AVT+Qfsg+Af3rff8+dD9QAK4BSgHTwawAzkA1Pxc+nT5wfm2+sX8r/6YALkBHAL6AD7/bf3O+/T76Pz9/v0ASgKuAkECDwGC/7v9APy5+pP6F/uH/Bf+s//bADoBwQD5/wL/Tv6j/UH9s/04/jz/zf9qAE4A1/8C//f9bv2s/b39aP7U/h4AXQHRAloElQWbBUgEbgJGAP7+XP6O/nP/RAAhAe0B4gI+A00DswJSAR0AJP8l/83/TwBmAG0A7P9l/+T+7/1+/Zf8Z/yy/PX85v38/Tz+KP1V/PL7HPzU/Gr9NP7E/j7/1//e/07/+P2j/H/7BPvR+hT84vya/eH+ov8hAQMBYQF7AfsArwGtAkQEqASeBSgFyQRJBCYDwwJdAjoCIwLbAtIDrQQlBY0FgASjA4cCggHfANAAGgFvAZEC7QINAzoD7AK1AfsANQDv/6j/DgB0AKgA5AArARABGwFEAM7/AgD//6P/x/+dAFQAjv9C/yj/pP4v/vH+kv7e/oH/RQDVAN0AIAGPAHD//P7X/br9IP7I/rj/AQCPAHYAWgBmAAMAt/8G/0n+y/2V/cX9Fv4s/uD+Yf8c/l79ef2Q/Y79rv1t/q39/f2V/ZH9KP1X/Rz9MP0Z/fb8ZvyY/LX8SvyC/AD8cftZ+jv5Nfkj+eL55/rg+zb8ifrq+Bb3//Wt9d735fxgBmsSHxx+H7wbARPBCBABG/xc+8j9DwLlBvwK6w1sDrML+gWK/kX35PJn89f3W/48BQ8KdQ2zDiQOKAy1CDEEvv+b/ID7xvwO/8sB2QPhAigAU/x4+Kj15PQ29j/5Qv24AeAEQgbLBSAEHAIIADD+ufz9+wn8IP30/qoAsgFRAdb/Mv56/B77zPq5+2/9Av8BASICXwIDApABAACT/hn9//vI+7X7kvy4/dT+T/9M/zj/Y/7d/cT9OP4S/wMA9QCQAc0BCQKAAegAXQCF/8f+yf7K/kP/6f+DADABMAG9AIgALP/Z/a/8NfwD/Oz8qP3y/sf/JgDl/0z/Bv9e/jn++v2L/Tv9hP3g/Xn+Af/9/jn+NP11/MH7pPvx+hv7WfvU+sn6Dvub+mb67frF+tP6kvpA+l/6DfqI+zH/4wVyDp0WxxvUGhwVAA0OBo0BWQCSAb8E3AdCCpMMlQ1dDEQJWARG/pL5Kvfl9xj7Af9fAqcEKgZCB1QI2whDCGUG1gPIAEv+r/10/gD/if+D/2/+BP0F/Kz6wfmn+c35DPrn+qD8F/4Z/0YAXQFGAZEAAgD5/l3+EP66/kD/Wf+U///+xP6F/lD+Pf6K/l/+Vv7I/jT/UAA1AWsCTgK9AdsAXP9B/qz9m/2//WH+qP4o//3/tQDoAPMAyv8v/gT9FvzL+1L8Gv2z/sf+rf4H/kv8UPuL+kr6+PoT/Jb85f2G/sz+I/7V/QT9N/wf/F/7lPs7/OP8zP2l/ov+2f1+/TT80fq6+p/6efu6/Nz9ov30+w369vem9lf2rfW29xj+DQhrFGkdhx+VG6cTfQtcBrwDJwOuBCUHLgpkDVgPQhAxDr0JtQLg+zv24vNw9QT5TP0yAB8DogU3CGMKlAvpCnMIGwWkAa3/8/6S/1oASgAi/0/9dftG+jL6gvq8+sf6qfoY+nD5+Pkd+2v91v/HAYsCZQILAksBKQE3AGX/l/5A/kP+pv6C/6X/rP/6/vX9ofwx+6n6o/qZ+6P8a/0s/sj+igBeArsDmwOgAtMAKP82/oX9z/39/Wn+gf+NAPoA2wACAMz+ff1l/Ib78vtI/UP+Mv+x/xr/yv7g/sD+cf6u/ev8zfxJ/b/9KP5R/nj+f/4t/pf9Bf0v/cv87vww/WP9U/2g/VL+5/5d/z7/PP5c/V38LvuY+k36pPln+Rf5pfh294j33fbP9ib2Ifb/+BcAQwtnFnMd9h26GdkT3w4AC2UIPAaLBNEEVQfLC7AQ+BJ2EuoN+AaV/7H6ufee9wj4kvjI+eP7Y/8DBAsIdgpYCtoHqQRXAs4B1AFoAi4C+QC6/yP+N/13/eP9sf2f/ar9Svy5+kD5vfiX+D75gPoW+7777vxO/lr/tABZASMB4gA6AOP/EwDFAIoBKQImAnUBEQAE/9/9wfzN+5j7e/vM+2r8qf0V/xr/HP+0/iD9ffw3/Az8CfzC/AP9Fv6k/7sAAgI2AgkCqgDf/qL+M/7l/Sj9t/zQ/A/9I/05/cH+Sf/a/pn+k/4X/Un9Ifx1/MT8Av0b/gYAzgDNAU0C3QIhAgkBef8m/kT9c/wh/Jv7T/v3+yf9W/7j/TT9Dfyf+iT5nviy90T3VvYz9ob2ffki/jQGRw61E40V4hQ1ErkQRQ/mDnwNJQtPCe0IpQoJDQAPPA/DDDwJ/gXVAg8B0/+x/d76J/h/9j33w/l6/cEACgOMAxYEEgTYBM0E0AMnAjH/Pv23+yL8cv31/iYA6QBaAVkBngCE/r/8xfpS+cT34/bu9o/36fgq+z/9IP/KACICuwIAA6IC2wFCAaIAzv83/8T+gf4z/wsA1wAkAcMAjv/b/t39Hf0G/BX7E/qH+bT54PpJ/Mb9Ef/r/z4A9/+8/8T/cP+m/0T/6/7A/qf+2f6i/tn+yf4z/o39+Pxk/H38ofzO/NP8vPyP/JP8afyG/FP8iPz8/Dv9vP01/hz/Xv9xAO8AjgC2AD4Awf4C/S78j/vq+2z8Xf3O/Fz8iPtD+8P61fqC+hn5Uvjz+Kv75wAeB6MMFxBgEdARAxIsEmkR4RDeDgQNVQt7CwANkA5wEEIQUA7CC0YJDwcaBa8CmP8e/EX5Mvff9kP4+Pm0+yX9iv3z/WL/HQEvAl0BBAHp/lL9gvz2/Ej9m/1g/tb+Z//G/xgAsf8aAAP/T/6d/N362vkS+R75pfls+hH76vsK/dz9Pv9sACYBCAF7AXoAuf8R/5r+7P0J/iD+3P63/3MAJgEOAVEATf/O/cD7k/oG+Rv4jfhA+cP6Kfxk/ez9i/6V/7f/SQBaAIMAPwDD/0f/xv6m/rf+yv6O/n/+f/4k/m3++f6L/iX+RP6v/Vv9ev1Q/Xv9R/65/hf/PP8U/9f+Cv8V/43/1f++/+/+av6W/VL9iv3y/V/+Gf7R/Tz9k/w9/LP7QfsL/Hf9oADiA+IGAAlzCjMM9A2kD2IQLRBbDxMOew19DTMNwQxaDMYLPgvAClUKawn+B8IFVgPzAL7+EP1r+0H6tfk1+e74QPkY+mb7vfz9/aH+SP+F/zv/xf4A/nX9Q/2P/Wj9W/7L/q7/JQDRAEYBpwEnAVsAFv/u/a38KPxj+3n7dfvO+5D8W/3m/XD+x/7o/g7/0/44///+Sv4N/gH+Uv0Y/dD84fyH/dX9Wf5z/qj+c/5Q/rH9sPx9++v6O/p/+sb6Hftm+877lvx8/W/+Vf+0/w8A3/+m/x7/5P6t/q7+8f5v/kr+SP7M/nz/3v/s/3P/ov64/W/9J/2I/Qb+af5n/jP+4f11/g7/kv/J/5X/pP9x/6T/YP/m/r3+J/78/cL9XP3y/KP9Uv+UAXEEnQbSB9wINQnACf0KyAuMC30KLAvvCl4LYQz/DOgMxgujCzwLKQpGCREINgYsBMoCKgFkAHj/JP9R/u794Pwa/D77CvvW+j76BPsc+y37Lfuc+3j7C/vA+yX8l/wd/pH+Tv+S/6z/pP91ADYATwApAOz/b/8v/w//f/5K/vz9s/34/Un+pv63/zn/UgAFAIf/Af9F/jL9iPwy/Cz8AfwX/Kr8D/2H/WP9jf0v/Tr+Uv3P/GD8vvva+sD6m/r0+d36L/yz/PH9Qv91/8L/FQCg/3L/v/+S/x//O//Z/kP/ef+f////DwCLAFAACwBYAK0AZQACALX/Qv9Q/+L/vv/u/+H/8v/S/4j/Gv9Z/+T+cv5u/n3+y/4b/7D/o/9s/7H/xf+NAGIBuQI/BOUE3wUUB+wHyghSCW4JcAndCLgIggicCKUIeQjDCEEJYgkpCTAJ6AjWB8YG0gUCBEoC1gC6/wP/mP5K/lz+Gv7E/dT9ef3E/Cf8t/u2+sL64voB+y37bPv8+3r8HP1j/Qb+Uf7+/mL/Yv+C/xz/4f7J/sL+Wf4V/uz9t/2L/dn9+/3M/QD++f30/Zj9hf1C/X/8DPzU+zf7I/v4+iD7ffsU/GD8qvxi/Ff8fPxL/Kj8qvza/ET9fv0Q/h3+sP2H/UD9SP2L/dH9cf4G/6z/FwB1APQATQEpAcsAuQA+AOf/1f99AIwADgHbAOoAyQChAMAAJQFVAWYBNwGgAWUBbwFNAWsBZQH2ALgAhQDSANkAOwHXAE4BQQEmAVABhQGiAbgBnwGoAX8BewIvAwcDdQRPBZEFjAUyBqkGFwYrBpAGmAY0Bh0GjwZdBgMG0gURBjgGFwVYBXEF7ATzBEMEmAKWAjsCjQBO/xr/bv5x/jr+0v2e/tj9tf0T/Wn9pvve+8r7cPv6+wf8QPwY/av98P0z/qX+g/4D/kv9Jf30/FD8/fvQ/CT9xvwO/dH8zvxw/Nv8qvwT/AX8T/sa+zf7c/u/+8H7jPud+5b7xvsF/Kn8m/wi/Rj+YP49/pH+yP7k/pL+wf5c/hX/9P79/oj/kf+E//f/EQBzALYAQAG1AcUBTwF2AT8BsQEQAZUBPAG/ANcAjwC1APkACgFmAaEBKgKlAhECFALtAYwBQgEWAeAAJQEzAVQBsgGFAZMB0QGUATkBJgG9ALAAwwCqAAwBMwExAUMBLAEAAUsBIAFBAaMB2AGDAYIBtAGRAc4BSgIuAlwCfgKNAuQC1wIWA44DTQNoA8kD6QPiA+oD4ANkAy4DFQP8ArcCjQI5As0BAQGmAFgAwv+q/xv/FP/0/kf/zv7G/pj+8P2q/cH8pvwC/Ev8Xfyk/AL9J/1H/Zn9vf32/Wj9DP3G/JX8dPxF/N38Mv3Z/QD+Zv5G/oX9/f32/Ez9nfwg/Br8E/yN/PT80P0i/qT+Sv5s/m3+dP7g/gX/Yv8J/+/+M/+y/6T/DgAKAEAATAB3AHUAEgE9AS8BHQEHAdMAowCwAJUARQC1AIEA5wAhAcEARgFlASoBJQEnAWEBkQEWARIBVQFNAUYBNAFKARUBQQELAcUA3gD7AC0BJgE8AQUBvgCrAGQAfQDaAKIA8gDbANYAEgHXAOIAzgCQAJYAjgB3AK8ArAAYAREBlgD6AHoAiwCFACUANADZAM0ADQEEATUBRQFQARgBLwECAbsAJAG6AQEBHAGuAIoAfAAPALz/CwCM/23/cP9k/zP/RP9B/zr/6v77/g7/tv7R/rj+9P6R/rP+7P4X/2L/QP91/2P/hv+//9b/5P/P/woAAADC/9f/uf/f/7j/1/+R/+L/g/8r/03/Gv+5/r/+I/7E/gv//v7O/wkA9P/G/7T/Zf+5/3n/Z/+0/7r/sQBjAPMAIwE0AewA3wCWAMcAewB7AJMAggAvAM//2v/N/wIANwBmAFAASQDz/wsAewAMACYAKADX/0gARAAWAF8AVQDI/x0A1/9D/y8Amf9S/8z/Z/+V/4f/lf8+/1P/Sv8q/+//zf8j/8b/Sf/5/z8Ak//Z/5r/jv9o/zH/6/+R/zAAIwB+/xcA6P+L/0EA8v/M/9X/gf/8/+//v/+5AAYAKwBFAML/QQAHAB4AWQCH/8P/VP/N/+//fv9aACkA//+2AFQApgBiACsAaQDj/9D/XADg//wADQEEARECFgGfATkBoQAXAbcANwFxAfkAwwFTAVIBQQEAATUBrQC8ADkArQC4ADwAfAAKAMn/t/+Z/4L/pv87ABsAVgBeANL/QwDD/yoAVwB2/ycAsP/N/2kA0P8uAIr/9f6q/1n+oP8fAML/NgA8/5r/Pf+4/pH/Lv+e/yv/5P6L/9f+j/8mAJ7/OgDN/x3/IwBl/+j/PgCh/xQAIgAbAC4AVACk/7n/a/+n/vD+4f7h/jz/lf+K/63/rP/J/9D/hv9F/67/h/+a/3D/4f+d/8b/FgCp/73/8P8S/67/Lf/L/9z/n/+w/6v/iACV/4f/WP8c/8L/G/8K/yoBNgAkAa8AZf+qAFL/HgAEAE//AAFgAIoAEgGHAOsAZACO/0b/dv/m/woAAQBzAEUATgBPAE7/MQBgAP7/5gCFAJcAfwETAVUBoQFBAUABHwCKAE4AoQAkASABjAGNAKkA3P/S/5QA7P9fAAgAff/l/zQAhwD0/5QAOAAkACkAmf9nAbgAbwAYAfL/ewAWAWX/VgCOACIA0v/+/2QALwDZ/7z/pf/m/28AVf+m/zkAhv+G/y7/j/68/2//f/+t/xsA7QC+AA0A1f8f/3n/LgDw/rL/h//s/rf/ev9E//T/GwAA/yr/Nf8B/xUAewC6/ywAsv9S/9b/YQBj/0AArv8G//X/zP4PAF8Aof8zAPf+8/4S/w7/1v9B/3T/hv/z/q7/Zf/R/wMAwP83/97/UgDg/5oABgDj/zcAfP/t/x8AvP/vAO8A2P81AGkAxf9iAMT/oP8AAbX/w/8gAID/KP/C/yP/C//W/8j/ZwByAHgAngD9/4MA2/8sAAoBuv+dAGEBxgBBAeUA/gDrAAUBugBvALYAGgHGALT/zv/c/4T/tv9e/yEApwB4AeoADwB1APf/jf+SAJ7/wQCtAIcAqwA6ATYBcQBiAcv/4v/pAAn/JAFPAC4AwQCL/+3/nf+z/4sBJwBW/w//ov/Y/5H/GwCN/9AAvAAQ/wsAaQAaAC8A9v66/mL/9v7S/jkA2v8m/rr/OP/a/tf/5v5k/6//cv5d/ssAsP+o/0YAs/4HAHT/kv52AFEAtf/p/zT/7f+OAJv/1gBd/xj/iQC8/n7/iQB5/wsAH/96/48Azv8AAFcAc//9/yX/3v1tAN4AVQBgATwANwHNANj/OwBp/1gA3gCG/7//qwDwAJwB8gDY/3T/4f9I/17/5ADT/1EAPAAbARIBYgCPAGQADQGB/+7+xAD1/6kAgABaAIcAZwBiAUwA///7/8X/tAHu/2P/LQDN/3cB7P+z/+z/aABpAcz+RP+9/ycA3AC+/4EAbwDn/57/uP53/zMAtf9o/3X+q//f/0AAKgCo/1QAj//z/oT/k/8iAEn/W/93//7/jgDw/6gA9f/E/+r/af9OAB8AjQBcADEAiP9JAMD/hgBMAH//OACM/wYAMADB/ysBPwCN/9D/lv94AI4Axv/q/7YAVAAK/xMADAB1AI4BlP/S/+j/vv91ANj/J/+L/0sAgP8/ADcAyf8aAOH/XQDt/kn/qQAtAIgAfv9w//v/QwC/Afn+4f/o/3sBQADi/gkAkP+nAB0Ae/7Q/20AUgHdAG7/wP+H/+8A4/+l/kb/3f9AAYT/8/6iAC0BJAFp/1X+2gB5ALz/tP8Q/wABrQCa/yUA6P9XAdIAfP4T//L+CgHxALT/VwD3/1oB9/+B/t//4v/WAAAAlv7oAC0CaQBJAJ7/lP5jAH3+Tv4jANT//AAlAEb/YQHj/54ACgBd/hEBzP+Y/8//s/+wAPcANwAl/z4A3/9E/5f/dv97ADEBUQAh/5X+Hv+i/8H+pf6t/9kAwwBrAJb/GgGEAKX+IQBT//3+jQAhAOkAHAALAPAALgDf/8b+J/+5ANL/hP80AF0ATwGzAND/kgCXAIUAxP89/10Arf8YAcEByP9BAHMAjv/f/5j/FQB3/ub/TgGLALAAyP+a/9b/3f4s/6z/rP9LAFkBdACD/5kAzgCIAM/+sv4T/6sAagHz/kz/pQBVAQgALv1P/wwBQQCi/r3+rf9WAQ4BU/5r/+wAJQClACv/Sf/bAXcAN/8R/6cAxwCP/5YAjgC6AJT/8f/a//X9tP/7/2n/jwC9AC8ATwFz/0L/m/++/xYA2/4T/6gAjAHj//r+Vv+7AQoAz/6AAF//tAB4AKT+ev/K/3IAgAAgAGgADQGVAHj/QgA4AG8AWADB/+0BBgFx/4f/+/8dAKr/V/8TACMByAB5/yn/g/+6/+f+vv5Q/5j/8gCrAEsAtwAOACAAYP+GACEAXwB3AL7+4gBOAev/xwBs/54BhgCi/Y3/gACkAMr/oADf/lEApwDZ/f7/OwCl/7IBGwD8/t4BTAHJ/zb/5/6AAAwBIQAuACMBqwDw/8T+DwC7AJYAg//yAAAAzgAAAmX+SAA6/8r/owD2/oABkwEw/r8A8v8J/p//a/7N/08AxP9qAPz/Rv9M/zP/Xf7Q/5IA5AC9/wIAXwFA/4r/JQCj/40A2P9R/+oASQCIALj/y/+g/3j/HQD4/h8BbgFqAOT/4P8QAG//+v4X/+gAzf8TALD/AAAjADMA7v9kAEIAowBo/5L+OgDFAPf/If/n/5kBBwGq/tf/7QDd/xT/+v4t/8YAsQHC/x7/4AAoAaz/Gv7oALj/QAG0/0//uwEwARAAIwDu/s7/HwFU/mf/wv/g/yIAKP8UAL8AdAB5/xr/bf/K/3kAw/9B/hoBDgH9/4IAO/9XAH7/6P7J/3EA1wBTACgA2gGo/qz+wwD7/m//IwHp/cMAjAEm/oEAYv+r/zkAIP8w/wABvgD4/6QAzv+0/yMBSgA7/ngBhwDD/jUBiQDs/1YAZ//q/84AQf8P/ywARQAKAGX/zAC2AHgAjgA9/7f/6v/n//L/t/8IAWoA6QCZ/0MAwwAz/yH/9v6kAO7/A/96AGUAGgHYAHj+Mv8PAWcAEwBO/2EAAQJZALj+Yv///8n+GACj/sT/hQGeATv/WP/7//7+NwBE/sP/1wAmAb7/Rv/3AH4AK/4//moBzAAmAMz/6gBbACn+mf/P/7j/LABCAP//jgBu/tL/PAF0/9r/uP/H/y8A+wHW/vz/1gDk/6IAYf71AMYBT/8iAI3/5v/GAND/fADr/2P/fQCy/7UA1f+2/3cB6/7h/+EAIAAKAf7/5f8kAJX/VgG2//z+AgGx/xP/e/++/6IArQC2/YT+SgLR/p//Nv+Y/koBA/92/wz/+//lAZv/uP7d/vwBWgAw/s8AUgAXAB4AN/+2/2QAkf/f/64AvP/DAIwAj/6rAPH+XP/7/6b+9gChAG0ApgDG/3YA0/+l/tf/egFx/wcAvAAXAJ8AKABe/5cAjf/JAOb/Mf8EAnoAhP/W/5sAWwDs/ngASAANAAIAegAyACAAtgASAD7/AgDTADEA1f++/xkAVQDe/yH/MAE9/4j/lQDf/pIBXP86//AA7v9t/3cAlgD5/5QAgv6HAC0AFv/AAHX+5//nACH/FAC+/9b/ygDm/xP+PwDKANv/sf+H/qb/FgGY/0L/Tv+jAdYAOv/Z/7j/ZgHj/8n+JwHMAHT+ywDfAWT/if+RAOf/Tv+XAPD+9f82AkkA6v+AAHwAXgDJ/5r/rP/+/3kAQQFXAeL/YQB+Aav/Sf9L/8YAVgB4/pH/rwLk/wn/HAHY/vr/V/83/ooA6AAoALEAfv/dACgAG/8m/+f+XgCfAG0AFv9MAVgBSv/z/xf/CQDhAGr/tf+N/7MA0f/z/hwBJwCD/wYAvACA/2H/Lv+Z/2QBRP9U/20BKQHK/pcA7/9F/4oAjf8uAIEAzQHD/77+vQE6/xX+3gCv/ygBm//o/sgAW/+f/hsAY/4N/xwBz/4tANMAM/+2/2MAdv9h/hkBLgHU/UUBIgBi/0YAh/78/yT/sP+CAKH/Rf/Y/2UARwC8/rL/vwA//s//i/+V/zoBzP/lABABMv9KAXL/Mv+KAfv+x/5nAbwAlf4wAS4A4P47AEn/Ov/+/1T/AgC1AHn/5v6OAN8Azv+J/qH/BQJf/6b/EwEyAJACaf8Q/24Cl/9EAFIAk/9xAXH/HAFTAMz+FgHX/yX/ZwAYAJb/cwARAPf/JQAmAOr/hwCs/5n+uACnAOX/tACL/2MAuQEJ/3b/wgDY/1YATP4w/2sB+P6F/0AAd/+4/6D/IQDT//T//v/n/mYApgAz/zgBY//Q/tcABADeAEwAtf86AUsAMv/d/ygAzADP/mb/vwB4AKsANv9HABgBZP8c/w4ALQD0ADb/Ov9BAUQA7QAa/x3/wwEKAAUAW/8MAOQBAAAY/28A7f9YACAAPv7eAGcAnwD//yb/vwAY/30AbQD7/7oA/f8WAQUA6/+3/1YAyACO/lz/TQBU/0AABf/ZANb/Pv/JAJz/NACi/03/3gBYAPr/DwBH/3sAnwBvAZP/MAD1AAoAvf8U/40AdgAMAYD/uf5EACgBHv8//zYB4f2U/ygBnP54AZIBqv9YAHL+MwCUAIn+c/+p//UBdQB0/v7/LwJO/2IAbP4c/ygCwP8ZAF7/KQLd/7/91/+i/z0Ap//r/lYAEgEE/+L/aQD7/kUALv/g/3f/gP+QAOUAsP9K/1oAaAA2AJP/6v5BAKYAGQBY/6L/QAAuAdv/pf4SAMIA8P+w/gH/GQGK/6j/b/51/0cBA/+I/vr/oAAcAFr/ZwD6AG3/6//D/3n/1QBU/x8A5P/r/+QAuP4+AMAA5v5w/9sAqgAT/9b+gQBgAeb+L/8sAr3/kP9KAMv/YgG3/40A1P+//tIAawBd/vv/yP8P/5gBU/+T/nQBGgAK/1oAl/8LAMv/FAAiAVn+hACPAXf/pAAXAI//LQEGAOH/aAE4/5L/DwDE/6AAEQALAP/+wP9KANX/6v5uASMB6v1vAD4AOABPAPP+0QBTAXz/NP9TASEA9P/s/1//LAChABIArQAM/2n/LgI7/tL/2P95/xMBiv8PADH/1wDpANH/ewFn/gIAZwJn/37/ov91AVwATQAaAEX+xQFGAUb+bf/hANn/Mv//AOgAgP9BAIv/VwGl/2b+4ADc/9gAh/8RAAcBfv9U/6cAaADV/nEBlwBw/2YAMQCG//P/ZABl/3v/7/85AGQAHgFTAPT+oQDnACoAaP+0/8ABEgGT/Uj/yv93AOYBbf3A/6kCLQC9/az/DgFTALP+Zf5eASQAawBj/1n/JgB9AA7/3f1tAGQBuQB7/kcAuwCMAKj+af8DAI3/FgGk/4v/t//BAGn/AACc/rT+5AFx/4v/MADYAI//IQC2/2L/kwDE/y0Abv8oAPMAn/8wAFoAav+K/xEAwABaAHH/Nv84ASkBTP59/6YAXAHe/s/9IABAAd//Sv58/zsA1gE5APP9TwCvAJ7/m/+t/tL/ywHW/8v/k/8IAEsAMQBo/1f+yACOAYYArv9P/gIA1AJC/1H9vf8OARAB4QDm/en/pQKx/x7/Cv4rAZUBzf/F/y/+LgIcAZn88ABaATj/RQCt/oEB2P+6/o4Av/9JAI0AzP/b/74A/QAl/xUAuQAEAOcA1f/L/9kAowDN/vT/vgDI/wkACP+0/7kAkgDd/kz/JQCGAcf/kP6O/xQBcQFH/kj+WgHgAXT/sv6MAHQCh/8G/4kAdQB1AW3/Uf/YALMAhwDt/RQBFwF2/ksAQf/fAPUAQf5SAHoA9f4SAJP/Rv9LAdz/zv1qAKgBW/9x/87+CgLsABb+rP+AAI0AkQDa/1D+rgHPACL+dwDNAHgAQP+2/m8BQQCk/lQAAAFhADr/M/+uAHYBRACs/jX/xAEdAY7+O/+3AGUAVAAz/0b/3QA8AZH/Kv8gAe7/uv+Z/4H/zABe/5j/igAmAJ7/FgBP/yQAjwAN/0AALACqAEr/y/5/ALf/jf/t/2kAiQCV/wIAFwBiAMP/4f+G/4kAaQAj/+P/7ABhAGX/iv92ADEATv8PANQABgBh/9b/ggBjAET/Lv8eAMgAmf8m/7P/hQCCAAX/lP+xAJj/gwAT/w7/LwFMAFz/2f4QALYAlP/l/kD/QwHxAPn+B//fAKEAbv8d/0AA4gDH/3H/3v/YANoA4f5/AKsAgf+3ACP/OQB4ABv/hwCG/9UAfwAI/xIA9wB0AEP/hf9wAEYBrf+s/ycAMgGJAL3+ewDiAO7/YQBg/+kADgG7/j4ATwDoAHv/Wv9tAPEAhQAr/5n+fgAiAev+dP9+AIMA+f+h/2UAVABc/48Apf9IANv/lP/TAMH/uv8XAEUAi/+y/6gAYP9t/8UAGgC//jr/7P8IAFQAWP+S/54Bgv/1/tH/HwBeAH//v/8gAG0BAv90/mMB2ACZ/yX++f+hAaP/L//i//YAUwFw/8r+LgBiAZkA2v+K/30AsgDn/+L/uP+0AMEBKwAqAHMADwAkAZz/Nf5NAIoAr/8QAPf/jwB9ABAA1v7G/20Ayv+M/+H/qv9LAAsAAgDZ/8P/WwA7/9H/1QBu/x0A1wBB//H/DgBD/63//P/c/83/ZQBKAK//8/+MAOj+f//IAE4Aif6Z/8YA0P9uAIr/hP9bAJYADP9Q/2kANgBjAAf/dv9OAev/Kv/d/wwBqQB2/97/+wCxAOz/TP8YAOgAWAB5/w8AswBwAAAAtP/R/60AcQASAOv/xP9HAFj/8f8UANn/x/9lABAAl/8lAOD/5v/K/7v/BAAGADQATgDV/5r/gf+w/2j/0v9X/9j/rABKADEAVv9B/5oAgv+y/jD/jAAYAHb/uP+pAFcAoP/j/6H/NQAiAHT/YgAiAPT/4f+c/zQAKQCF/5n/rABeAFD/lP8eAH0Arv+D/yAA0/9QAMT//f+P/1AA7P+Y/0oAhwBdABMAJQB6AGUAeP8wAN8AUgA2AO//WQCuAMP/pP9+AHYAeP/y/wgARAAoAOP/DQDa//z/g/+c/04AWgAZAD8ADADk/+D/SgA2/13/+v9gAH4A6P+0/3AAOgCt/0z/Qv+c/1MAm//+/0gAZACAAJX/2/6h/w0AogD8/yH/jgAcAUsAWv+Y/0EAhgBk/3f/qwDnAHsAR/80AFIBjP/z/ov/UgBpAGEARQB7ACoBAAA//4b/SQA1AMH/AgDNANsAxv+m/20Ad/9p/+//GwDUAIIA3f9TAPkAjAB8/v/+UgG1APP/zP/HAG0Bk//3/hUA/v8uAJz/MgDHAB8Aff99/2EAvv+M/+b/AgAxAFUAmP+o/xwAOQDN//r/vf/1/zMAqv8uAAwAqP+9//b/PADu/9H/uf9qACQAz//t/wQAxABuAPT/3/9qALj/iv+HAN3/v//+/9v/TQAJAL7/AABMAJQAOADj/97/cACGAMH/t//S/+7/+v8aAKn/EgD2/xoA4f9v/1//pP/r/8v/1f/A/6r/3f+l/7b/xf+L/0kAXwDW/4r/DQBvAOb/oP/y/y4ALABp/6//DgAxAE0Aq/8CAFwAQgD+/63/IgBHAKf/o/9HAKoA6P8TAEAAvP/G/0L/UP9OACQA/P8ZAEYA2v+n/8j/9P/6/33/JwBzAGIAfgABANr/kQDl/0P/kf9jAKcAlv/+/4kARABu/6b/fgChACAAsAAWAOj/LgBRAKT/mf8eAGP/IwDB/0AASQDw/rb/yQBdAEb/RQAUAGz/s/+Z/5H/+P/H/37/0v/5/4X/Kf/T/tr/cf/P/5X/Hf/7/1wArf/W/5L/oP+9/8X/7f8GAAgAhgBxAA0Aw//h/wgAaADu/30ALQCpALAAEwCO/8T/zf/m/8b/FAD2/7cAnQCD/0EA4/8iAIcAAABfAIQAhQB/ADEABQAwABIAVwAAAMz/kgBLAAYAlQDl/7T/cwA1ALH/KABOANX/0v/A/wkA9f95/yIACADS//7/u/98/zv/1f+Y/5P/HABwAAUAtv/9/1kAov/T/+7/6P/p/ykATwBPAFMA7f8RABYA+v9r/7z/BQD2/7r/VABiAAwAkf+G/93/nv9p//T/EgA0AGEAFwD7/2wAOADy/+H/8f/z/2AAkwAlACQAHAD//6z/p//q/zEAPQA9ACcAGADX/wgA7f8EAO//VwBsAAYA6f+bAHkAs/8CAC8AKgBbAEwAIgCFAHEACgAXAGUAegCAACEABgBbABAAyP8JAC0A7v+sANz/AADz/8X/rv+h/6T/v/8tAPj/2f8wAP7/x//t/wkAmP/w/+v/q/+y/3//AAAsAHT/Yf+F/9z/UwBTALH/FAAhAPr/5P/g/z8ATwAlADAAbwD6/0UAKQAyANv/1v8AAEYAEgAMAO7/OgAkAOT/2P8qACIAaABAAPT/CQABAP7/yP+e/43/GgBqAMf//v8cAAQAIAApAM//9v84APv/DQAcACsAtf/j/0oAPf/9/44A4f8JAEgAHADL/7H/7//4/8n/GgCw/6//9P+o/8P/AADL//L/LgAyAOX/DADC/5X/3P+R/z//v//2/7v/EgASAAAAIQATAOf/tv8uAM3/IQA8APv/zP/+/xoAmP+m/6P/z//q/6r/NAAoAAoA3v+2/+L/2f+0/+7/LAA9ADoAWQAAAA4A5v+Z/9z//P+2/8//BwBpAJkAIwAAAMX/8v/m/6L/2f/Y//X/uv+y/5T/tf++/+b/2P82APf/IABfAHgAHACe/w0A9v/f/+z/KwD6/9//4P8JABIAIgAJAM//0v/I/97/6f/i/yMANADn/+z/MgAvAC0ABwA9AFEAAAAqACYABwBVAAYAoP8BAPD/GwD3/zAANABDAFgAWwANADoATQA7ACEAQgBwAE8AUwBJAC4Axv8jAOn/y/+3/9D/u//k//D/of/V//7/+/+d/ysA1P/F/wMA9v/0/+f/8f8kABwA9P/u/+v/5/8gAPL/EgA+ACAAGAAtAB4AKwDT/6b/3P8qAOH/JQDU/6v/5f8YANX/y/8kAEEA2v8DAGYATgD8/ygAz//m//f/4//r/wYAOQAVAEAASABmAEsAFwDI/ysAKADk/1gASAAuAIEAUwBDAEoAAAAIAFYAAQCPAGgAaABsAEkAFwB2AOT/8P8OANn/6P8QAO7/KAD7/z4AzP8GAOD/0v+J/7z/HADr/+//EQDQ//3/vf8ZAOz/zv/S/5z/gP+f/9v/+f/y/9H/8v/s/57/2f9s/47/CwDs/9L/9f82ABgA8P/+/+v/zf8AAFwA9P8NAFcAEQAtAFkAJAC1/yoAZAD7/0kAKgDu/w4AWwB1AF0AgQBNAC8AOQBbAAMAGwD4//L/9P/O/+v/cv+R/6v/zP+m/wAA4P/g/6b/4P/v/+P/FwD3/8r/lP/Q/8r/EwC2/yAABQCw/93/0v/K/7n/1v/o/7z/3v9DALT/7/8qAA4Aq//P/7f/3P8EAOj/EADO/7v/u/+i/6P/tP/y/xMAMAD8/8X/0f/u/4z/2f/b//r/OgAHACoAHAAGAMv/7f/C//7/JQDT/8H/QwASAOH/w/8OAMH/4P8VAAYAFQBaADAANAApAAAA4v8fAB4AKABSAO3/LwAsAPv/7//0/7//1//z/wUA9P/1/ysACgAzAEAAJwD7/yAADwA2ADsA//8aAA8A8v/E/w4AVgBQAFcAVQBqADIAAQBIAB0A+f81ABoASwD9/zEAMwAgAN//egAcADAAIwD8/+n/RQAcAHEA/f8MADEAOQAJAAcAEAA+ACIAQgAIACIA1v/4/x8AKQAiAOr/CABdAM7/DQDi/wIABADt/7H/CAAhAAcAAAAbAJz/8/8WAKf//f+6/4T/tP8EAOz/6f/1//j/OQDi/7b/+//j//b/LQBKAPH/+P8GANv/5v8dAA4ACQDc/83/5f+z/wgAAAAoAPr/zv/v/93/BgArABQAFwAfACEAZgBnAFMACwBhABgAHQBUAM3/t//t/93/nv/n/9X/RwD0//z/UAAOABkABwAOAB4A+f8dAPz/u/88AKUAUwAOAD8AIAA+ADgAGAD7/0kARwARAAAAAgAuAL//0v/4/wEAHwDU/9n/EgDz/xcAzf/l/7H/of+8/6f/AADl/9X/v//t/+H/5/8TAP7/JwAjAOv/2P/m/wEAwv/C/97/wv/q//L/9f+l/+T/5/8UANv/tv8hAOP/JADj/9f/y//n/yQA/v9eAPb/9f8+AP//TwAvAB8ACgAOAOH/1//E/8f/0v/5/+3/5f+4/+7/9f/v/wgA/P8yAOb/BAABAAwA7P+9//T/tP/w/8n/5v/z/7r/vv/6/+L/8//1//b/7/85AAAALAD+/w0AIwAtAPn/yP/m/+v/JwAJAMv/7f8MABYADgAiAOT///8xABYA0P+0/zIA//+3//v/7f8VABcAIwAqABoA1f8SAAsACgAKAAIAKwD//ykAOAD1/+n/AADg/wEAagAiAAcAMwDf/wEA6//m/xUA6f8WAC8AMgALAHMA/f/c/z8AHwD//woAwv++/+z/vf/y/8n/IQDS/yQAGwAwANj/5v/g////zf/Z/wcA7f9AADsAw////+r/+/8YABQAHADy//z/AwD9/9z/KgDU/8b/7v/w/+T/2f8eABgATwAZAM//9f/z//H//f/i/8v/9/8pAO7/LAAwADYAPQAuAEAA9v8CACQAIgA+ACYAHgAOAOz/3P/Y/0AA+f9NAFwAJgA3AO//NAATADIA7/8MACwAIQB8//r/BwDs/93/tv8rALT/9v/M/73/BgD4/9X/z/8OAK3/kP/o/+f/UQAJAMr/s/+6//H/4f8nALL/qP+1/9//vv/P/8f/4f8EAAcADQAFAPb/9/+8/33/6P/w/8X/zf8lABsA3P8gAP7/DgDk/+L/x/8dADkA4v/o////LQBBAEIAcwAjAMv/CQDz/9j/8P8pAPn/NwAqADgAXgBBABwAKwASACYALgAmAEwAVAA1AFcADgBjAD8A8P8ZACAALgAGABgA8P8pAC8AEgAeAAgA8v8PABEAJgAfACQA7f8nAP3/5v8SAEcAOwA5AAAAIQAHANr/CgDU/xQAHQC7/73/vf/A/6r/3//o//z/GwAGAFQASAAbAC4AAQDf/wIA9P8nAB4APgBWAEAAIQAwAEwAPwBGAAgACwDi/wEA5v/b//z/BQANABwA5/8CAPb/CgAQAAMAyv8GABEA9v8VABIAFwDw/9b/6P/R//f/JwAaACoARQAlABMAr//a/9b/9P/H//f/7f8bABYABQDe/xcAEwD3/93/tf+m/6X/7P+n/4b/jf8QAOL/uP/8/5H/6v/q/9j/tP/G/7L/w/8fAMj/9P8UAOH/7P/c/+3/3P/m/wQA+/+6/8X/wP///8j/EwA1ABYA/v8jAOz/8v8FADcA5/8FAOb/yf8DACMAKgAaABYAPwAnACIAQAA8AOr/9v/9//7/5v8PAPn/0v/E/+z/yv8wAA4ACADd/wkAQgA9AAkAuP/4/+j/CgA9AAUA+P/w/8D/zP/9/9X/v/8OAOX/OADL/w0A3f/X/+n/AQBIADEA8//S/xUA8v9UADEAoP/m/8r/9f/L/+X/4P/7/93/AQDc/9T/SgAFACsAAAAfAOT/0P/k/xEANgDx/18AIgBeABwALQBKAFQAwP+o/z0AJgC7////NwDX/xMANwA5ADgAKQBHABwARQADAND/2//G/9v/BAAYABwAMgCm//L/AAAOAAMAJgAJABMA8f/k/wYAZQDU/+T/6/+v/7n/0//h/+f/IAD2/9f/8f/P/9z/7//s/6b/AgD4/9n/LAA0APf/HgA2ACAAHADz/7n///++/wsA+//s/wEAGADn/wIACgAWAAsALAAWAPn/z//9//f/OgBBAD4AKABTAHYAdQAoABUA7P9+/9f/x//D/x0AUwDp//j/FgD4/wsAGwACABAAAAAXAOH/AAAcAEcAHADw//v/+P8WAAoAJQAVAPL/tP/H/8r/tP/Q/87/+P8CAOr/yv+c//f/AQCp/53/4f/d/9//JwAGACIANAAzAAgARgBIACkAvv8CABYAHAAZABQA3//3/x0AMwBLADUABABMACUAEQAUABYAAwDl/8L//f/m/93/FQAoAAAAaQAsAAkA8v/2/xUAzf8eAN3/DwDZ/xEACgAcAOz/1v8OAB0AQgD//+v/GQAdAAkA7//g/zcAIgA6APX/NwAiABoAGwDs//P/AwDt/y4Az//Z//X//f8AALf/x//g//D/0/8mACUANwAmAN//VgAgAOr/5f/T/+L/DgD6/9n/9f/k/93/pv/K/wEAnv/I/7z/yP/L//r/pv8IABAAFQDd/wkAFADo/wAAAgDe/2YA4P84AMj/ZwAOAC0A+f/7/xIArf/7/yoACQAaAOf/v//Z/zAA3P8yANP/9v8AAPP/7v8dAA0ABgDv/9X/8P/X/+//EABiABUALQBKAP7/5P8DAMH//P8nALn/zf/a/8v/FQDr/xEAEgA0ACkAKQD9/10A2//t/xAAzf+7//n/5//S/x4ABgBQADIACAD4/wEA0f/L/ywAs//E/6P/8f8AAPv/CwDY/w8A5P8iAMb/3f/M/+X/AADk/9r/yf+V/+3/y//L/+r/pv/J//v/+//0/xkAwf/B/67/1v8fADAAUgBCABIA2f8jAA4AAQDl/8P/q/8eAPn/+P8TAEIA6/8vAAQAKwD8//r/+v/n/yMA/v/5//T/0//w/yAAaABoAGQAMQAcABAATwAZAAcACQA7AO3/PgDO//T/2//s/8r///8QAAIAGAAuAAgAMQDn/x0AEwAQAFQAZQBbABMARABDADcAJAAVAD0AhQAqAFMA4f8oAAwAOADy/ysAAADc/xgAwf/X//T/DADn/93/5v/P/wAA5P/u/yAADgALAB0AAgC9/6n/jf+a//r/PQDC/5P/1f8SAPP/IwAiACsA1v/y/+j/6P/V//f/OAAmANv/OgDv/0YAJQBNACUAIABlAFcAOgBTACIA2f8QAPn/BgCv/wAACAAHAEUAGgAAAAAABgDZ/zIADwAgAOb/yP+E/xEADQAnAOL/DwDG/7r/CgDB/8v/HwDq//7/GgDX/7b/5P/2/0oALgAsAPP/EAAlAC4ARQCEAPn/9v8UANj/HgC+/9n/y//e/73/DgAWAAoAOQDk/wUAIgApAOb/9/8cAAQA4v/n/wUA4/8CAPX/FgARAOL/3//9/wQA5f/w/9X/7//D//3/AADX/8L/1f/k//T/zv/7/73/QAAIAOn/0v/0/93/0v/t//D/4P/x/w8ADwDv//b/6/8LAPz/7f+5/zAA5//I/5P/pv/K/wwA5v/6//H/xv/u/wcAHAAoAM3/FQBDAND/GwAgAC8A5f+y/8z/lv/M/wAAuv+d/+b/y//p/8T/w//Y/9H/mv/Q/97/9v/u/9D/0P/e/xkA+/8ZAPf/4//1/w8ACAAoAPT/0P/g/xsAQQA/AGcAUQBiACoAJQAqAAsA7/9lABIAOwArAPX/HADz/yAAOQBMADQABwAgAAAAPgBDAA4ABQABAMb/AAASAOv/4P/c/xEA4v/0/wIA8v/1/xQA/f8ZAB8AMgAnACcADgDx/yAAJwA6APj/OAAhAEcACwAjAB4AOgATAEsASAAAAC8ASwAdACUA+f/f/xoAEAAPAB8AFgDF/0EAHwBFAEMABwDw/w8A2P8bAOH/8//Q/+j/CQDf/8//JQDb/8r/3v9WAPv/UwD3//X/RQBeAAsAKwA8APf/2P8nAHAAGQAqADgAUAD5/ycARABFAOz/LgAZAPb/HQAaANn/TwC0/w0A2v8KAAMA5v8PAAwAxf91/9//1/+h/+3/4v/W/9b/8P+5/9D/yf/8//v/q//d/9//GAAwAAIA/P/3/+//8/8WAPH/CQA9ABYABwApAOz/v/8AABAAAQAuAPv/QAA7AAsAWgDu/+r/1v+1/+f/DQAXAPf/KgDP/xAA1P+g/8j/6/8ZAAsAAAC9/93/9//k/5j/v//t/+3/1f/R/8n/xf8aAP3///8xADIAEAAJAAwA4P/C//H/5f8HAAIAr/8eABQATwAQAOP/AgBEAM7/0P/+/+3/7P+3/8r/+v/l/+7/4//z/xUAHgDt//v/3f8RAPL/3//c//3/uf+z/+f/7P/H/wIAw/8rAPH/tv8PAOb/6P8pAL7/KgAOAPn/HQA7AAYAKwDB/8L/CQD+/x0AHwATAB0AFgAfAA0A9v8HAAkAEgAHAAQAFAD//x8AyP/X//L/x/8JAPn/TwBPAD0ARAA5ABgA4v/s/8z/EgBCAB4A/v9NAPr/MgAGAAQALwD//xMAEwDS/wEAx/+8/wMABgBMAD8ANgA5AA==\" type=\"audio/x-wav\" />\n",
       "                    Your browser does not support the audio element.\n",
       "                </audio>\n",
       "              "
      ],
      "text/plain": [
       "<IPython.lib.display.Audio object>"
      ]
     },
     "metadata": {},
     "output_type": "display_data"
    },
    {
     "data": {
      "text/html": [
       "\n",
       "                <audio controls=\"controls\" autoplay=\"autoplay\">\n",
       "                    <source src=\"data:audio/x-wav;base64,UklGRiR9AABXQVZFZm10IBAAAAABAAEAgD4AAAB9AAACABAAZGF0YQB9AABt/8z/7P+x/3v/fv94/zv/WP+J/73/BgA7AAMA3f8KAMr/OP85/3n/uf/f/7r/a/8o/7P/LwBXAFsANwAoAEUAQABIACEA+/+0/6f/eP8a/+D+tv5l/kz+hP5y/sL+Ef8p/yr/4f4m/0b/vP8eAPL/xP93/1L/K/9R/2H/g/+4/9D/uv/r/+b/wf/s//f/VAAAAKf/cv85/2v/4P9TAJEAlgCeAOkAJAFmAZABQQHGAKkAvAADAQ8BrABHAGkAfAA8AEYAQgD7//v/sf+Z/5r/O//9/sD+9/4o/1r/c/80/xr/3/4G/wv/Nf9V/1n/g//g/wMANgB7AL4APQFHARgB5wC/AJsAWwAJAN7/yv+1/5X/gP9h/y7/ev+C/2z/Qf9P/+H/TACKAGcA5/+q/1IAkACtAMEAYACeAFMAVwBfAC0ALwDq/wcAGgAYAAQA1v/P/7n/wf+p/6f/5P+t/5P/aP9g/3D/kP+F/4v/yv+0//b/AQDt//b/EwBEAGIAYwBLABkA1/+A/zr/af+t/7r/pP84/zT/mP/d////qf9F/yT/Uf+a/5X/r/+8/y0AnAChAHYAFwBiAF4APgBSAEsAVwBBAC4A4v+//7T/tP+8/77/8P9qAJwAgQB4AE0AVgCFAF8ATABSAF0AqgDHAK4AlwDJAMEAYABHAAUAn/9X/0H/Kv8m/zL/M/8s/wf/w/6v/lv+VP6i/v3+gf9s/7P/0f/+/xIA4//Q/+H/MgCZAJMAfwB/AL8AxwBGACgA/v8DAEMAKgAfAKT/ef+G/1//Wf9t/2j/gf+G/3r/f/+B/9n/EgAvAFsAIgAcACcA9//T/3b/fv+s/6b/NP/L/tf+Bf81/z7/9/5T/jb+df7Y/k//dP/L/yMAtgBfAXkBLwH4AK4A1ADUANkA9gAAAfMAhQAGAMT/BAAQAPL/2/+9/4P/SP9I/w//Hv8j/xr/G/8g/wD/Bf86/4n/iP/V/wcAIQD5//3/FQDm//j/6f/T/wgA8//Z//v/MwBZAGcAqgALAUYBVQHgAHAAeQCaAFUAPAAGAMD/6v8RAHQAowCZAHsAawAmANf/Jf9y/lT+ZP7t/kD/Yv+n/8n/+//5/9j/mP9T/03/Pf93/93/MABtAIYA7gARAfUAlABbAMEA8QDhAH8A5P/a/8D/iv92/1T/PP8p/1z/aP8//yD/Nf9o/67/AwBSAGQAQQAAAMf/jP9R/1T/b/9d/zj/IP8m/8n+wv4n/3P/2f8JAO//4v+7/5n/4P/m//T/y/+b/4X/bv9s/1D/oP99/zH/M/9z/4X/qv+o/5z/vv8bAGIAUwAkAN//vv/v/zAA5//S/8X/pP+w/0z/If9J/7z/EgB7AJUATgAzACsAawCDAFIAOABEAEsA1gD+AMkAgAASABMAQAA3APb/nv9t/13/m//z/+X/4f8JABMABADL/9H/hQCyAIoAugAJAcsBHwINAsUBLQGZAMP/Mf+9/m7+e/6//iH/J/9P/1n/U/9W/4j/vv+x/53/af8c//P+tv6a/qv+j/7A/gH/3f7c/uL+Dv+j/9z/tP+Q/5D/0P8HAFoAfQAjACMAgABgACUAEQAcAFEARAA9AP//2f/6/1MAxQDWANgA0AC8ANYADwEiAZYAHwD9//n/EgAbAA8ABgAAAOH/j/9X/2v/jP/D/8f/q/9z/yP/3/7f/iz/XP+I/7b/nf9+/1//Uf9K/zD/Pv8z/0D/Nf8g/zv/O/9X/xP/tf7u/vX+4v68/rf+Qv+8/0oAtwD7ADABHAE6AXMBsQF4AUgBJQEnAYYBdgFTAeIAjwByAIoAYQA+AGAAXQBYABkA8//e/+H/GQAIAPf/PwBjAIcAnQC4ANIA1QC1AHcAmwCmAKUAdgBgAOcA9wCdACIA9v+h///+hf5N/mX+Iv4r/mz+wf48/z3/Lv8U/yb/q/8IADYAQQDv/2T/Sf+B/9H/5v/a/9//q/92/0H/Vv86/yH/D//9/jD/Q/9h/4//uP+d/2T/Nv8Q/0f/of/g/y4AoACuAE0AZgB3AEkAFgADADMAUACWAIcAPwAjANj/T/+1/rT+EP+T/y0AmgCHADYAKgBNAHAAhAA+APz/8P8GAHcAZgDy/23/aP/b/+n/qf81/yb/YP9i/33/0v9dAI0AmwDTAM4AzQC0AMYAiAA+AFgALQAEALz/Wv85/0P/Rv9G/6z/vv+W/8z/zv+L/2X/ZP+l/xQAYgC8AAYBYQGjAVcB/ACcAEQAYACCAOcAFQEYARABywDQALcAtABbAAkA8v8bAB4A4v8FABEAZAClAH4AUABlAI4AfACaAD0A1//n/wYATgCZAIIAFwDz/w4AVwCFAFIAGQAzAEAAGgDg/07/2/7P/lb/hv8t/0H/Sf+O/1//KP+J/w4AnQCGAKgA6ABfAbkBVgEDAaUAVwASALn/g/+P/3//Vv+W/4v/e/9U/+/+6v4U/6f/HQCVAF0BrwFeAa4ABwAMAEsAbADaAOYAuQB+AF4AgwBoACIA3P/+/6AAGQE+AS8BFwE8Aa8BzgFvAUcBXwF9AY8BlQFZASYBAgHfAK4AMgDW/2D/fP/h/04AdQAkAB8A7f/5/wsAu/+k/6n/q//m/w4A8f+O/53/bv8m/2j/uf8JADEAVACAAPAAHwHgAN0A0gCPAJ8A7gD+ANYAvwCsAMcAxAB1AI0AoQDQAO4A5QDTAKYAwgCTAGwA9/+Q/7L/7f/2/+z/DQDk/6z/1f/3//D/sf91/5z/CwAjAJr/b/+C/3L/AP8Q/03/mP98AKsA7QDxAIIAXgBnAD0ACADH/3f/lv/y/3UAfwA8ACEAFQBhAKMAngCrAIoATQA/AC0AAgDJ/8X/m/9k/43/qv+i/5v/t//v/2kAoQCcAMgAggB3ALAAiACfAHYAuP9y/1L/Xv/3/zMAWwAlABcAPwDn//P/SACVAPkA+gC5AGYADADl/6X/cf9V/zL/2f66/qj+q/6n/lr+6v56////ZQAjAAEA1P/B/+L/5P/y/z8AnAC9AHAA0P+m/6n/xP8JAC8AKQD0/9H/0//+//n/uP+Q/3H/nP+d/zz/1f6I/qL+wP7n/k//of8rAGYAPwB0AGkAZgCbAN8ARgGKAXYBUwE8AS8BVgEMARgB+QCFAGgADgDX/4v/Tf/j/r3+o/6t/tD+8P5S/w//MP8Z/6r+9f40/4//AwD7/wAA6/+q/5v/gP9j/1z/vv9jAKEArgBtAOH/o/++/////f9HAJsA1gDvAL8A2gD3AOUAJAF0AW8BhQEmAeAAsAB4AGoA8//u/+L/0v8QABUA3f9y/yr/7f76/jH/Fv9b/8f/3f8KAGcAlgDUABYB/ACNAHoAiAC3AEsBRwGOATcBGAENAZ8AigDd//z/FQD4/y4A7/++/9n/MABmAAwA0f/Z/8D/PP+r/kT++P0U/hn+GP5Y/pj+4P7s/g3/K//z/tn+8v5P/2b/Hv/U/rj+8P5I/2v/Vf9F/zD/MP9S/x7/qv6H/uz+if+b/5L/gP8j/17/yP/P/+H/Wf82/6j/yf/y/87/T/8///T+cv7C/qH+NP9g/2b/7f/w/4sAowB1AHcAgQBpAL8AdwDl/57/ef+e/0X/gv9n/yH/V/+A/7r/7P8wACoAhgDrAM0AjgByADsALQBCAPj/9/8fACUAKAAPANn/rv+n/17/gP/X/2r/C//H/tb+BP8p/xL/7/4F//X+Bf89/2T/j/8YABYAHgAnALv/7v+VAA4BigHmAZIBnwEJAigCrgHWAEsA+v/0/z8AgQCVAPQA8gCxAJYAMgD7//n//f/a//D/JwAZAE4A+v+y/43/XP+P/xoAggBzAAsBaQGFAZABgwFvAV8BKAG6AIYAWAALAOr/3v+d/5D/FP/V/gv/8/7k/pj+vv4L/yT/k/98/4n/sP/B/wgA3/+M/4j/g/+7/wQA6v/O/4//+P80ACwAHQCp/6n/pP+p/97/4f/Z//b/BwBTAIYAvACkAKIABwG5AG8A+f9l/0v/u/+NAO8A1gCPAOj/if95/wr/YP9Y/zX/wf+5/wIADQDv/7H/fP/r/2kArwDeANMAmQBFABoA3v/F//X/IAB2AGAASAAoAMX/av+j/+H/Yv8j/yD/Ef9m/2j/e//y/2EAigBqAGwAHQDi/w0AEQA3AOX/Hf/X/jr//f+DALwArwCmAOIA7wCoADkAVQC4AMwA5AC3AJ4AtwCJAKwAOQFOAZwAXAADAWMBvAAqAPL/lP+7//P/jP9P/5H/S//y/ib/4/5d/lX+0/4L/0b/zv/s/73/2f85AGEAgACUAHIAGgANAIwAkAAuACwAMADc/8r/r/9Y/2P/8v9qAG0AVwATAIf/J/8k/xH/v/6m/hb/If/t/l7/fv8d/yL/sv/t/wQAcAAQAMD/xP/x/7b/+/4Y/0H/SP+k/5L/AP+W/sz+8v70/lH/bv+3/0MAKgFCAVsA//+t/2H/of/q/1P/cP5F/jf+h/48/hb+cf6Q/sn+I//z/xcAJgDJAMQAQQCqAEkBzwC8AHABIAHNAFsB1gD8/2oAxgANAPv/ygC4AO//IQBOAJv/+P+OAIIA9gCPAUYBPwBEAI4AsP8g/z7/Cf+z/i//if/f/iv/zP+Q/4D/AgCpAE0AvAAyAh0CbwGqAdQBNAEtAaEB7ABDAKMAqwDg/3D/af/q/lH/TABpAHgAdwASAOf/SgD+AEYBswAAAFUAbgAzAHcAPADA/4//pP+g/1v/kv+P//z+P/9E/w//Tf96/4X/hf/Z//z/9f/J/5H/yv/j/wwABwBaAG8A6/89APr/h//M/9D/mv90/7j/mf9n/9r/0/9E/2b/mf9K/07/nP+4/87/3P/C/3D/4f6p/pj+CP98/37/1P81AOP/tv9lAB8B2QCWAHoBtAFcAUQBggGlAXEBfwHNAaUBwwBYADIAOABhABUASQAXAKr/c/+W/zQAFgAQAJAArwCaANsABAEhASMB7ABcAKv/i/9E/yv/k/9v/1j/gv+U/0r/E/9e//3+hv4F/0P/GP9Z/+D/9//4/6oAHACV/2EAXQBWANQA7ACmAGoAXwB3AGUARwAqAMz/5P9GAOH/q//w/+z/tP+3/w4A0v/E//3/2P80ADsAFgAVAGj/RP+2/5r/hP9p/0r/Qf81/0j/Bv90/zcAVADpAHwBnQFUAbAAQwDP/93/EQDL/3P/iP+4/3//Qf+W/9L/lv+L/+P/FgCn/0P/O/9T/4D/Nv9+/4f/GP8z/zj/pP+R/wD/1v7H/o/+xP5G/5n/qv9h/4//6v+6/9v/ZwCvALkAywAkAWEB3QBtAMUAAQHeANIA0QCsAAsAR/8s/y7/8f6u/un+I/9R/6v/+//t/6//y/8TAKwAkACSAM8AsADYAN4AdABHACoA0P9qAFEBfgE5AZcA7/+n/5H/fP8e/53+lP7n/hf/kv91/yX/W/8//4j/yP+1//P/2P/n/y4APQDTAC0BTwFrAVIBKAEbAf4AbgBQAIMAfgBiACAAef9K/2P/0v6w/t3+/f4I/wH/Lf8h/0L/jf+N/67/q/+G/8L/yP/f/wsA1f+E///+Bf9P//v+Iv9R/3D/hf9j/7n/p/+t/4H/Pv9E/yH/Sv8t/2P/mP91/2z/b//G/+n/9v8mAAEAGgBzAO8AVgFfAR4BqQDOALsAVwBaAGMAQwAAAAwADADi/83/sv+4//r/LwDp/3IAvAA6AEIAYwCdAGoAogD4AJEAogCYAKMAuQDBAMcAiABCAAkAOQASAPT/AwCr/1P/HP9S/83/0f9m/wn/qv6L/uX+/f76/sz+nf6t/sH+SP/F/9b/5v/D/8v/6//c/+D/6//o/zgA8gAHAd4ACAHkAOcAZQHGAfAByQFiAdsAjgC2AOYATgG9AYABRgFYAY0BwwFdASgBYgE6ASoB1wCTACQAjP89/xL/Hf/2/hz/Of9T/+f+r/7B/qf+9f7X/iv/af+9/0kADgDf/xIAOAAAALX/c/92/4D/OP/6/vn+Kf8Z/yD/If/6/iX/KP8H/zT/bf+h/+v/OwBIAHkA4wA8AYEBYwHkAVEC8gHUAZIBXQGIAVIB4wCAACwAOwAXAN7/u/9e/zv/QP8R/3j+Y/7X/ub+Lf+3/93/JgCoAPwACwHrACkBWQE/AQwBqQBmAEwAKgAMANr/2v/S/4r/X/8i/wX/Lv+H/3P/n//P/5v/w/+V/9P/LgAoAFQAbwDGAOAA5wA3ARsBKAEtASUB+QDZABEBjQBIACoAqv+q/7n/lv9t/77/wf/u/yEAEQAjAPT/zP/g/yUATQD7/6//pP9x/1b/df+V/2z/d/92/yr/C//2/vH+E/8Z/0//fv9m/1n/zP6e/q/+cf6q/r7+lP7M/i3/b//S/x4AIQBaAF0AXQCsAO8AzwCEAEAA+f/5/xkAAAAmAD0A2/+D/yH/NP+C/6b/2/8pAC8A6P/b/wMARQBqAGYAsQDSAGgAIgAUAC4AOwDR/13/Bv+3/rT+8P6F/wkAFAC6/0//Qv9G/3D/gP+s/9D/xf8SAD0ALgBHADQAIwB2AEUADwDq/5X/Zf9b/4X/i/9i/zP/O/+2/wwA9f/Q/wcAMwA8AJYAlwCCAKEAzgD7AAkB3QCqALAAwQDwAA0B0gB4ACEApf8m/wf/Nv9I/y//Iv/P/sf+Ef8x/zn/I/9P/3z/Tf+T/ycAOgB5AI0ArgAGASYBhwGbAWkB/ADFAFABhQF5ASkBsQB0ACcANwDC/0v/P/8r/0D/Dv9R/4H/Tf8t//v+2/7w/l3/bv+i/xcAIgBlAGQAJgA/AEsAOwAtAEQAygDBAIoAlgA5AC0ANwAxACwAfQB8AOr/2f+W/zz/M//G/qP+v/6g/qH+8/4M/8D+rP66/g//IP9A/7T/Vf87/1X/U/9s/47/sv+r/9//DgAqADwAZgDAAPkA5wCdAG0ANAApAFgAbgAeAKn/+f9xAEYAHQBkAFMAqv8i/xr/Cf8f//r/ZQAgACcAmgCjAI8AiQBaAJ4AygDmALEAKACf/zj/6P5f/j7+U/5O/kv+mf4R/0v/YP+u/1f/tP4A/5H/9v8kAEEAkADSANgAmABqAGQAiwDnANoAuwCUAE8AAwCz/yIAUAAeAAUAyP8BAOn/wv/A/9f/HQD//9f/5//f/2X/Mf+L/6//mv+s//r/RQClAAcB2AB/AIEAmQCVAKEApgCtAGcA5f/K/wkAZgA+AAsATQA6AMr/Uv9Y/4v/WP+o/+7/EgA1AMr/a/8D/3r+e/67/g3/d/9y/17/ff9z/xT/Wv/u/xUAgADYANIAqQAtAAIAAgAHAFgAbwA2AFYA1v8f/zX/NP+S/xcARwBKACkAKwAUAOz/HwB3AHYAmACiAEQA0/+P/yIAbQBLAFQAPQBWAG8AXgASAAMAaAA0ABcAHwALAA0A5P87ADcA6//v/xkAAQBp/z7/fP+f/9T/3P8YAGIAyAAnAWcBrAFzAVABKAHXAKgAuAChADgAZABUACkAFwCi/4v/mv9U/yD/CP8S/wT/GP96/5n/gP9R/2n/wP+U/6H/0v/R/+v/wf+x/9X/hf+C/wMAKQARAEgARQD2//X/6//z/xIABQDl/z4AoQCQAKgAXwBEABgBYAEeATUBcAEvAQEBWgF/ASEBSwGhAXMBKgGZAHwA9v+i/8r/kv9z/w7/A//0/vr+5v62/gf/yf7a/p7//P9aAAwAtf/0/8//CQA4AD0A3f9u/5H/uv+X/9b/AACv/5n/F/8J/6n/fP8u/1D/uP+EAJQADgAGALj/Xv9u/43/n//6/xsABQD0//z/SAB9AIAAbQBOAD0ATwAAAAoAbQCMAGcAMQCCAFYANQDfAPMArQAOAdsAcABWAEEAPwADAEgAHgCM/+//JACc/6T/1v/F/4b/+v4E/2T/Xf9V/33/U/9n/3n/dP+p/9T/GQAfAMv/gf+O/xMAhwBjAAsA1/+Q/wT/Cv8x/7z+Iv+D/+P+oP7u/jL/fv91/3b/zf/L/8z///9TAIkAPwBiAB4BEAEuAbgBjwEbAbcARwD+/yEAv/+Q/8T/zv+T/4H/jf9j/9X/BgDs/zMAiQCIAFMAUwBiACwAXACgACwB1QHrAfcBugGTAXcBqwExARcBGAFUAC4ACQCd/0f/7f8IALX/SgD5AEUBWAFfARIBvQDEAJgAoAANAY8AEgAAAC//kv6c/nX+4v11/Q3+d/6c/lD/gv9i/3T/4P8hAFsAuQB2AK0AzgBRABQAgP8P/yr/KP8f/0L+rf2m/ZP9If7J/vP++f5h/9L/z/+r/+z/8f/f/z4ARABEAM0AGgG1ACIBcgHJAIkAVwBaAA0ADQD7/1T/bf9G//f+Bf+//pf+kf6r/uT+6v58/wcA6P8GAB4A9v9QAIMA9f+t/7H/Z/8Z/77+Tf5D/mP+nP7c/sv+4P4C/03/uf+//xcAVwA7ACUAOgByAD0ABwC1/9T/2v+e/8b/v//0/9H/1/9rAHQALQAhAJMAtgBmACAASABpADcAFgAbAE0ACgDj/wAAAAB9AHMAFwBNAGgAbQBhAF4AjAC2ADIA9P/B/33/2/+4/2f/IP/G/tf+A/8m/0b/Zf90/yn/Cf8h//z+X/90/w3/NP+F/wMAdQAJANz/9P+q/87/aP+m/tX+4P64/sf+qP7n/vr+0v4M/1r/eP8OAFEAPQA4ADgAhgC2AOEAzwAaASgBdwBDAGEAmQCVAKcAvABSAN3/lf86/0r/jv/S/+H/gf87/xH/HP9d/5n/v/9dADMA0v86ABkARQBaAMv/+/83AMP//P80ACkAWgA9AMEA4QBwAE8ARwAeACUAVADv/73/2P/H/4L/e//p/y4AJwDt/4X/tP9WAO0A4AAcAGf/Lv9o/3P/kv+h/2n/df9b/yr/L/9t/5f/2P/1/yoAfQCSADcAl/85/x7/lv+6/zH/Kv8d/+X+AP8k/0n/TP9J/5v/2P+Y/2r/hv/V/+D/5f8QAAoAPQDYAF8BxQG6AZUBsQHFAQICzQEuAbAAzwCWAK//aP8f/zf/of98/1f/kP6h/dL9G/5Q/tr+GP9z/+r/7f9XAN8A5wD/APEAAgHUALMA0QCQAFcA5v99/z3/Bf9H/yj/0v4L/z7/4/4h/7L/qP/e/8z/bv9f/8r/8f/M/8r/cv95/5L/cP+u/9H/6/8eAEsAjgDFAH0AYQDHADwAvP87AEQASQBMAAIApP9j/3f/zP87AIkAjgDr/zj/7f5D/6L/+/9dADYA6P+z/wMA1v9X/zX/Jv/y/sr+QP+z/+b/XgBvAKMA2QBQAIsAgQATAK//Hf/B/vj+S/8R//L++v4L/+3+rf50/qb+1v7h/hz/Qv+l/9L/r/+r/7P/jv+D/1X/Vf9+/0L/XP+B/43/Qv8Z/8r+uP4l/2H/dP/j/lP+kf5C/xj/o/7Y/h3/ov+5/zj/Sv/5/s3+e/8DAD8AOwBuAHAAqQDFAAcBHAGDALsAYAD3//f/nP9r/7X/5v/H/woAbQBfADAAmQBNAPP/LQANAEcAQwBBAKwAtQBhAPT/vP/i/9b/1/8tAC8A/P/2//j/+//0/+z/6v/K/87/uf+W/33/X/9Y/zP/Tf+c/7f/J/+U/sD+tf4A/yv/i/7r/av99v1I/oL+HP6//T7+1v4t/9X/bAA3ABsA+P+i/8v/0P/D/6D/nv+7/y//y/40/8r/zP+L/zQAIgHKAGcAtgATAHz/Uv8v/yf/o/6E/tH+DP+x/jz/CADx/0YATwA+ALEAEAExAUUBDQG4AOQAggBSAG0AFQAYAKr/Rv9H/xb/GP9o/8//JgA9ABsA1QArAeUAowASAPf/rv/u/w4Axf+6/43/0P+a/1L/H/8V/zj/E/8Z/1v/Ov/U/ub+J/+g/2z/mv8JAAIAYwBcAAUA7P/T/2v/qv/G/+n/xf9z/2P/gf9l/1n/+P8AAAcANQAhACAAEgDR/23/Qf+l/9z/pf+m/7P/P/+e/t3++/5T/4//sf8IAKr/yf8xACwAVQB/AJkArgA2AYAB5QCuAKQA8v+y/wYA0//j/0wA+f/X/53/h//T/x8AQgD9/wAAqf+v/8L/dP+E/3n/Pv+b/o/+/f4W/2D/fv9R/3D/Vf92/x0AWgBiAHwAdgC6AAsBRAF+AUMB8QAeAYYBTwHAADwArP9W/+n+Y/6t/hv/+/4i/y3/t/8lAOH/MwBPAG8AQAAEADMA8v+//4X/hf+b/83/UwCJAPoA7QDsAFwBLgHfAGgAigDSAO4A1ABlAGUALQBUAFUADAAgALr/ov+S/xX/B/9I/4j/iP8LAIcAvgD5ANIAqwCIAEAA/P/6/wcAlf+G/17/g//G/4X/lf8DAF4AawCIAO//hv/E/wQAewC7AOwAygCvAG0ALQD3/1v/gP98/+j+gf6N/rf+K/9L/2L/lP+B/37/pP9QADkA/P8yAFEAAADD/7b/Q/8O//D+vf7V/tP+zv6a//3/HQC3ACoBigGyAecB6QEFAvEBuQFLAa4AIgDO/5j/Ov+H/6X/nf9t/3z/If/n/iz/FP+I/8v/kf+W/8D/tv8CACMA4/8nAE8AYwCCANAABQFcAZsBrQEJAm8CcgKEAnsCCQKzAU0BjgDS/0L/0P7H/uX+Jf8B//P+yP7K/jz/R/9B/xT/Bv8B/7n+MP/q/mj+tv+M/3D/sP86/1j/SP9j/0v/QP9U/6z/FwA3AC0AKACDAI8AdQBPAGYAHgDB/zEAYwB9AHEA2v9Z/w3/xf69/tX+BP84/zr/2/61/iH/ov9TAMUAtgCIAGEAVQBWACQAVQBhAPz/z/8y/8T+7/4L/xD/Rv9U/1P/iv+s/9L/6//Z/xAAaABgAJEA2wC5AB4BcgEjAeIAtQCtAJYAuADJALIAUADi/8z/g/89/1L/dP/3/xIA6f/Y/37/t/82AF8A4gBgAZABmgFoAQMBDQElAeMAJgEiATEBHQGgAC0Apf9w/yD//f4i/0X/Qv/D/qb+o/6b/qr+qP75/mX/Sv+F/zMAdAB+AJEArABcAR8COAJiAmUCLALHAVEBzACxANMAnQBiAC4AnP+P/8D/9/9XAD4AbwDgAAUBOAEOAdsAvACsAGEABgCx/3D/Y/+C/2P/zf6o/vX+X/9//8T/HwBsAL4A4wDiAM0A0ADUAKoARgDs/9X/2f/k/x4AAgCN/0v/Ev8E/4n+Pf5P/n3+pv7G/q7+Gf4O/vT9/P2F/v/+bv/U/ywAhADOAMsAnwDCAL8AfAAzACEASwDgAHoBXgE5AQgBEQFXAVYBKAGXAEkA///p/zkAJwAeAHwAyADoAEQBCgHYAPQA/QAGAeAAdwDb/+X/0P/K/xcA6/+9/+v/LgAlABEAMgACAHkAQAE7AVkBlgHuAQsCjwFUASABAgH6AGMAcf/j/tD+G/9I/0r/cf+p/xgASwBqAAYA9f8uAD8AlgDBANEATwAfAFcARwBaAEUANwA3ACsAVACiAPoANwGLAYAB/QDoAMYAugB2ABAAuv+1/hf+lP2N/f/9ZP7N/hf/Z/+U/4X/Mv+E/8r/kv8A/23+kv6Y/rv++/5E/4v/AAB4AFIANQBqALMAyAD8AAgBrABbAOj/+f9gABQAxf+Y//T/SAAeAKH/E/8q/0P/Qv9B/0v/Q/8o///+JP+N/ykA3QBUAbUBOwHnAO8ApAB8AEwAlwDOABsBRAEzAX4BWwEeAfYAyAAKARUBJwFYARQBCQFxACgAlAC6AMoADAHZAJgA4wCCAFwAkwC0AM4ApACmAHsAYgBFAOH/uP/R/5j/nv+P/7P/MgBFALUA6QBIAUkBLAEbAQcB7wDrALoA2ADUAEIAlf/h/oP+Uf5O/jD+MP47/i3+LP44/nz+wv4K/17/e/+Y/7T/4f8qABkAd//y/t7+WP80AOYAbgG1AX4BewFNAUEB/QDyAMIAEwATACMAVwBtAAcAjf+G/5z/ef+u/6//pf+y/8D/BAD9/9f/2f/A/4L/Uv+i/+f/KgCiAIsAhwCYAI8AhAB+AI0A/AB4AZUBegFqAScBrQC0ABcBIgElAcgAbwA2APn/BgDE/wX/x/4e/3b/8v7S/rr+TP6x/iD/HP+0/kf/AQApAD0ARwB9ALwAGAF6AdsB3AHdAdkBzwF+AR8B8QCpAFIACgD9/4T/N/8B/x7/gf+1//f/3v/Q/1v/I/9o/6H/IwAOAFH/4f7J/gn/o//G/3//1f+0AE8BqwGLAYMBqAFfAQUB1QCKAJQA7wAAAVwAFQAFAA0A1f9//6L/g/9Y/2r/wf8AAC8AKADv/zAAOgAkAFIAlQC2ANoA9wCjAH8APwA9AIgAhQDhAPEA2QDeAA4BFgGoAIEAOQAVANn/qv/p/y0AnwDGAAABUQGDAVABJAHPAJoAewBUABQAsP+a/3f/Y/9p/23/qf8fAEcAZwA4AAwANwAKAO3/tP96/1T/U/95/zj/Fv9A/3f/ov/R/7v/jv/I/0UAIgDd/7D/Uf9V/2T/Of8d//b+7P5Z/zwAuACzAPYAXwHDAQ4C7AE4AZgAPwAyADoAQQBNAGEAhAAyAN//GgA9ALYAAAH0AOYAfgBaAMsAzgCBAMUAygB1AAAANP+6/pr+av5Y/nT+G/6d/bL97v06/tD+VP+v/zcAzQA7AZQBmAGrAYcBsAHBAYwBcQEfAS4BRgESAYsAAgCv/0D/pP5u/ob+z/4L/5/+YP6B/pf+s/7X/tr+4P5u/9L/EQASANX/wv/q/zEANQCyAAUBOQFAAcwAUAAWADoAXABHAGMA+gBNAWUBTgHmAC4AsP/i/8X/yf99/97+s/60/u/+av+K/zj/+/4B/2v/4f8eACkAVACkAEUBAgGXAHUAOwBBADEAGwDo/9X/f/80/yT/5/4B/yP/df+v/5T/1f+//0T/v/6M/nv+Tv5W/mr+vP4C/zv/uP8RAIcA+wAsAUkBAQG6AFAA/v/b/+D/JgBxACcBfgERAbsAsQBjAND/R/9f/8//PACuABEBVQH9AMgAzgCXAJcA7QC6ADwAxP9Q/zX/Bv8g/+z+wv8ZAXYBGQESAJ//pv8AAKwACgEKAT4BEgH0AEYBDQG0AI4AKgAZACwA8v8bAFAAGgDT/23/Qv9O/7v/+P8jAHMAgAClAL8AxACSAG8ACgDY//H/q/+v/+P/JwBhAEwAeADLAJMAdgBhABIAAQBNAFgAKQBUACkAUQB+AMgA3ACUACUBfgELAmQC8gGFAeUAagDY/1H/GP/i/uf+NP9s/3n/EgBQAGwAnwBVAHcAjgCyABsBYAGEAcUAdQByAEIAUAB9AIUANABJAE8AWABKAEcA3f/T/zsASAAkAD4AuwAsAaEBxwG3AZABRAEDAfkA9wCrAH0AcQB+AHYAEQACAOr/mP+X/7//EQDv/9T/7v/5/6n/of/i//7/AAAfAFoAmgCpAHYAnQAjAEn/FP9M/73/7/8/AC8A7P9a/8j+6P4V/xH/6v4i/6z/6v/P/3//Nf/X/t/+1P7T/uH+uP7L/pP+nf6R/k3+g/4d//X/YgCUADQBlgG9AZsBfAGbAT8B+QAaAXcBVAELAdYAawCMAKoAqQDTAKMAEADT//n/9P/e/6P/jP+v/4z/P/9u/6L/qv+v/9T/VADDANQAnwDtAAYBKQEhAdMAjQBmAIgAagBPAH8AcQA9APz/oP9W/x3/Mf9X/4v/sf9u/zj//P6V/mf+nP7U/gT/R/9Y/7P/4P+z/4T/T/8w/xz/ff+7/xgAdwBpAIUAhwBBACQAUwC3AOoAqwBOAJj/RP+A/9D/PwAPAMj/gf96/8r/tP94/1v/eP+Z/97/BAD1/0wAWwBcAEsA//9l/yf/I/9e/5f/3v9xAEQAxf9f/xX/W/9WAD4BlwHCAW8BFwEzAaYA/v/e/ykA3f9x/0L/Hf9X/17/bv/N/7//If/4/rz+xv7s/mf/JQBwAKMAfABDABAA9//F/93/nQATASIBKAEvATEBKQHVAHgAPwARAOj/3/8EACAAMwALAPz/x/+N/1r/Ov+T/83/r/+V/2P/Yf+c//v/gQD3AP4AxAB0AEsA6/+m//T/OgAvADgAUQAvAMP/R/8E/+H+kv5e/oX+7P4F/97+FP/B/r/+r/45/nH+WP7W/Qf+gv7a/l7/u//q/ygAdACuAMUACgEPAQoBMAFlAWgByABqAGYAXQBLANz/ev9m/4D/4f86AEMAKwC3/9n/xf+m//D/If8M/8L+mf54/wEAfgCHAN8ADwHEANIA6ADLAPMAMQFDAYkB5ACI/xP/sf6O/rz+NP/T/wwAyP/u/o/+7v6I/+P/IgCZAP4ATQESATMAif/n/tz+Mf9H/+j/1v9j/5v/pP+i//v/GQAdAFMAVgALANn/wv+T/1v/l/9eAGEAEwD8/3//I/86/3L/W/+G/4z/ZP+//zoAIwAeACMAxf8JAPb/zf95/+r+yv6w/tD+Af9A/4n/8f9yAK4AYABhANIAjACKAAAB0wBZAJL/2f6S/lT+Yv5g/qr+Ff9w/5n/w/9z/zf/ev+3/3v/nP/3/7H/hP9y/xX/Sv9D/zD/S//D/mf+Uf5B/uT+UP8lAP8AHwE9AQoB2wCoAEgAVgDaALYAvgDeAJgAVwAWAMf/s//A/3v/nP/3/yQAAAAlAEMAdwCeANoA1QBkAC4A5v/b/xwAbwCsANsAyQB0AHz/vf6p/nz+4f6v/y0ATADk/6b/Cf97/sb++f6W/0AA9//1/xkAxP+A/93/KABFABkAKwB3AEYAXABHAPn/9P83/2//jP85/xn/Yv+L/93/EAAeAFgAiAClANAApQAQAIz/nf/6/+z/JQCOAGUAFACM/2b/zf+b/7T/9f/9/+X/1//W/7//u//K/+v/6/99/wP//P7+/vj+WP+y/+3/PgABAOr/CAC5/8j/7v82AFMAPAD6/5z/mf8t/+7+BP8d/8D/LQCAAKIACgFEAXgBQAFSASUBowBlALL/YP8S/7L+Df80/yz/Z/9//43/oP9t/4//kv/B//r/1P/C/0H/DP/+/tD+zP4b/1b/eP84/xn/KP9g/9D/1f+u/wMAsf+O/+D/RQD5ACEBEAFdAdEA4/97/0D/Nf+U/9D/4v8jAH0AbABmAGYAOQCAAOoANQE+AXYBWAEVAbcAdABSAAYAAQDi/5P/qP+R/3L/nf+B/xQAjwC4AHsASwDQALcAdwCQAEQA8v+K/zL/t//Q/9L//P99/4r/vf+5/0QAZgBCAIQAAQCq/6n/ZP+K/3r/MP8//zL/D//Y/vf+/P7S/rf+yf72/hX/uf8IAIgAqgCCAIMALQAoAJEAxQABAewAtADhAMIA5wAgAf8A+wAIAd0AdAAgAO//3P9x//v++v6s/q3+yf7p/hf/Gf9h/1//pP89APgAcwEcAT0BVAHYABoBbQBe/yf/wP4E/yL/N/97/2T/TP8t/8f+e/63/kT/s/9QAOQAGgEnAdMAfwA7AK3/K//x/gX/Uv/H/5r/q/9r/4f/o/9u//L/LABQAGgAHQDM/5P/kf+N/3X/iP/C/37/iP+I/2r/uf/2/zgAOADl/7X/qv/a/zsAJgBiAIAAZwDaAMEA0QCdANL/0v+o/9P/fQA5ACcAMQDH/xoABgApAGYA+P/r/7H/Y/9d/0L/pP/T/47/6v8MAP7/JQA1AEEALQCHAHwAXgDaAKwAxACUABAA+v+I/6D/wf+C/7n/MgBBAPL/1v8dAOP/y/+1/4z/u/+A/8X/rv+o//D/s//E/6r/Yf/G/7f/mf/i/+v/6v8TAJUAvQBfAN4AfADC/2z/Iv8X/0H/Zf+Z/0//Nf96/zv/sP91AK0AzgDpAPQAoQCkAMoAugBpAFoAaQAYACcAHgDb/+P/GwDL/2z/lf9E//r+Tf/B//X/+/9iAM8A6ADbADUB5wBQADUAIACD/w7/OP9s/y3/cf+g/9v/TgANACkARgB0ALwAjQBkAGQA+v+F/7H/i/90/3P/R//y/sz+y/8zACsAdwDNAEoA2f9vAFIAEQCh/33/aP8k//D/VABNAKEA0QCcANYAuACTAGUAAwB2ACAAdv9H/9j+w/7L/rD+rf6s/qL+yf4G/yb/Vf87/0n/qP9y/w7/K/+B/1//kv/n/y8AnwDsAE4BLwHaAK8AlAAtABUAHQAlAN3/mP9T/xP/Kv9D/1z/gf+X/3j/nf+Y/6D/w/+n/4b/k/9H/+f+E/89/3j/IAC9APkAAAEEAf4AlQACAL7/Rf8a/5H/kP+E/77/AgA+AIgApQDMAOoAAAHjAFAA8v+W/wP/H/8h/1H/J/8P/2j/T/9f/5r/MwBTACMATwDd/7D/EADR/3r/+/4G/4T/pP8eAPD/hf+Q/7X/+/+kAGABVgGFAZkBpQGvAX0BIAGeAHAAHgCa/wj/mP6v/rL+E/88/2H/b/+S/zv/5f5E/z3/7v72/l3/0v/j/7n/gf9Z/1v/5P/C/yb/Ov9Z/5n/eP/B/yoAIQBEAH7/Ef/4/hT/if+I/8//vf+C/0//av9p/6v/zP+E/3n/F//N/wMAhgCAAG0AqACGABkAEgB5AJf/0P/F/5D/Sv/n/pr+G/8G/1//4f8HAGoABABLAOL/MABAANf/nf8u/7L+df6w/gv/n////1cAagCEAHwAnQCAAGoAhABWAGwApQBdADMAGAA6AHEAtQAVASkBAAHvAGYBOQFPARoBwQCFAAcAWAA2AFAAUQDI/03/Gv8e//L+Jv8J/zL/DP8s/3j/5v8vANj/WwCsAAAB1gA6ADcA3v/K/8//Yf9b/2z/WP+C/9L/6//p/8//lv/1//f/vv+y/0P/d/8+/+L+mP5W/qf+4P4V/z//X/9g/3n/uf+v/zUAKAAUAAAAdP96/03/yP/I/87/zf/S/y8AcAC2AKQAlwBRAB8A6f/s/x4AKgBMAH8AZQAOAL7/av8q/x//Pf9A/xf/1v7R/vn+Af8J/xf/JP9l/6b/3P/Q/6j/uf/M/xsAHgBUAG4A6f/H/1r/V/+g/+v/dwA8AEoARgCOAMMAxgAWAe0AjgCLAP//xf/0/+H/1P/N/xgApP9J/0v/gv9k/+r+Mv+R/2D/I/+R/xIAGwDy/6T/f/93/6P/BQAZALQAPgFIAXABWAHwALkAdwBVAKoAZgA/AJv/4/6C/o3+z/5L/63/hf+8/9n/0//2/8D/GwAiAMz/xP/f//H/1f/U//j/PwAQAAsA8v8GANX/dv87/0X/aP8N/zL/Tv+T/87/0v8WAN//qP9Q/1P/Qf85//r+pP42/z3/j/+Q/yz/BP+3/oX+0v7E/vL+2v4+/jr+PP6N/j3+/P0F/gj+Lv6b/tn+Lf9T/43/4/87AKMAeQBcABEAWwCVAIEA/wDGAPwA/ADMANgAwQDNAJIA6QDLAIYAxgDtALMAigBpAKEAoABDAHYAwP9i/zz/Hv/b/uf+8v6+/h3/mf/4//L/fwDGAN0AeACFAI0AJwBeAAEADQB2AD0ATQA+ABsAOwCTAC8BRAH2AKkAqQB/ACAABADo/3//P/9i/+f+Gf4d/qH+lP6A/sL+EP/j/hj/xP8yAGwAjQDKAN8A3QB4AEUAVgDw/6H/hf+l/7//n/+2/77/tf+P/zv/q/93AIYAZwBLAEwAhwB5AH4AqQCpAGMA1P9p/0z/Xf+I/9v/9P8RAEIAOQBJAOX/kf8z/xP/Jf++/nr+hf6E/h7+YP7d/g3/Wv+L/7T/zv///xEAEwA+AGEAfABUAGgAbwAyAO7/iP9d/wP/3v74/rf+8P52/7P/HwBQAB4A5/+c/4P/2v/d/9z/5f/g/9H/U/8U//P+DP8n/xr/W/+l//L/JAA5AH8AAAEdARMBHgGgADgABQDZ/+D/yv+k/0r/XP+7/wMADABMABsAwP/i/ykAdQB+AO4AyAB5AHAAEADM/7j/tP/H/20AXAD9/zIAHAD+/ygAogDbAMMA4gBOAY4B6QCwADEBeQCN/3b/Pv+P/l7+Nv+N/6D/x//L/77/jP+M/5r/0f8HAOv/af+v/jH+5P0H/pz+6/75/kb/Pv9Y/5f/8/8xAF0AyQABAbQAggB9AGAAlABYABYA4v+t/+//IgCFAM4AvwBoAD0AHQAVAAMAxv+0/y3/4P4U/47/vP+n/6n/k/9n/1//cv+6/wAA6//R/8H/CwBBADAA3P+X/4v/qf/M/8z/yf/L/xcAFABIAFEATQAlAOH/LQCEAA0BGgG/AFMAgAARATYB1AAWAPj/wP+2/9n/vP8UAIoAowArADoA+QD1ANEAlADs/43/Z/+U/+T/EADG/yn/A/9x/4H/s/8UAPv/PwAHAJj///+wAFoAnf9EAKwA6/9P/8T///86/wr/uf/D/5L/AADKAHYAm/8gADcANwBKAIQACgHFAG4AMgDO/8T/GwBJACQA5v90/wr/Tf/E/y4AdABzAGcAYQAHAKb/6P/L/3L/F/+S/mX+kv7J/lT/bQDFAEoAPQBfAC0AZwCQAEMAz/9Y/yn/6f7o/ir/kf+w/5f/q/+t/8r/3//i/5X/Vv9R/3L/h/+c/8b/xf/D/9L/nP9G/z7/JP99/47/+P6F/kn+iv49/7X//v9ZADUA9f/i/yEA0QAmAf4AZAD6/+P/IQDf/3f/yv+//4z/Rf9D/yT/V/9OAHcAIwAcAIEAhwD7/0wAEwGaAOj/KQAUAFL/N/9nAHwABQAXAKr/kP9+/+z+uv7r/tr+AP8O/w7/S//8/5wAZgAaAOD/qP87/2j/7P/7/zgA7v+Y/7//4v+IAEoBkwFhAUcBdAGdAe4BxQFRAUoBSwEPAaQAmACQAGQAkwAxAIz/dP9V/xH/k/9TABMAaf9J/2T/dv/Z/1QARgAVAA4AMQA+ANP/cv+h/73/df+J/+n/VwBFAGwAZAAZAOD/W/8y/03/rv+k/xP/Xf/u/6n/fv+Z/4D/sP/w/zUABQC3/ywAmACKADYApQAJAQoATv8TACsAz/+w/8T/mP+o/tH+eP/s/03/zP5c/s79aP6C/2cAcwBqADcA9P8XAGIAmwCAAJkAeADz/+b/KADq/xgAfACBAJcAKACW/23/Mv8K/1j/s//c/1D/kP5r/pz+O/+s/8f/yP9D/xH/qv9HAFEATgCMAEoA5v/i/6v/7f9HACEASgAYAFoA1ABWADQAjwBQAEEAWAAIAM7/DgARAIH/o/8AANv/rf9o/6b/tP+o//T/sv+a/0n/Nv9BAEYAbv/t/4YAxv95/77/HP8e/7j/AADm/5j/PwAVAa4BQgFVAB4Awv+R/4X/3v6D/p3+if7m/u/+Av8mAC0BWAH3AKsA3wD1AOIAiACTAO4A1wCMAPf/dv+b/5b/7f9FAMD/Ev8L/2n/GQABAMz/AgCf/yj/pf9LAEEA+f+j/2L/Vf9o/9T/dQBkACQA5/8//2b/9P+tADsB8QBVAAIAHwBHAI8AogB3AEkAvf/i/wMAnv97/2j/KP9s/mX+q/6W/tD+hv/M/4X/WP8nAAkBGQFMATAB1gAwATMCrgIkAhwB8/9y/9L/if/F/vD+hf/X/0//M/+f/3j/2P9fAGsAVwBsAJsAvACyADoAwP/N/wIA3P8JALMAvwBeANcAsgB2ANYAwwCEAEEAv/9Y/6D/IgAlAPb/p/8O/0n/eP8n/2b/r//e/1wAiQCh/wb/df+z/6H/WP8k/8n+mv7p/lr/FQASAFj/Qf9P/xL/5f5c/0T/2v4b/5D/0P8K/2L/HgE7AYgAZAE0AmwBJgB8/0f/v/5J/7UAcwFqAe8AvgDz/4H/EgC9AOAAxwCmAFIA8v9f/93+hP4U/tv9rP1N/mL/P/9v/5n/Qf99/wkALQA9ABgB/gAwAFwAggAvAFwAtADUAMgApQCtAMsAvgCfAFQA9f/Y/wkAlQBxAOn/tP9M/0X/nv+c/0z/0/4e/k/+u/6l/qD+M/+i/3//mf+i/2D/6/6x/vr+Qf+7/6EA4gBKAXYBHAEnAdYA4QCwAc4B9ABzAHUAnAAcACEAx/8o/x7/kv/IAGkBNAEPAf4AZwDr/+j/B//u/g8AMwCm/0b/1f7T/g3/bP94AGoBxQHXAbYB2wBr/37+X/5V/jT+bv6x/s3+PP+t/17/FP///tz+Z/+CALYA8P9q/wP/vP4w/9/+z/7w/4MAmgCOAIEAcwBOAD4AXQA/AHYALgCG/5r/Xf/i/mf+4P5f/2X/IAAPAU4BCgHsAdgBXwAPAC8AFQDn/x0APQCs/yQAOgDA/+IA+QCRAIoAWgATAAcAHwBQ//P+yf4X/t79Rf54/kX+iP7S/jP/Nv/L/ov/3v8KAFAA9f8lAGIAjwDo//r+6P4P/9f/jACoAMAArwCeANsA2AAUAXoA/f96AJcAsgALAN//wP83/8H+1v6w//D/OwA+AEkAtgDaADgBRgEIARoBOwFGASgBmgACALn/3//f/5n/BADrAGgBXgF7AWUBigBWAD4Al//n//v/gP+v/wn/gf4E/lL+xf6t/oj/if97/83/fP98/1f/Af/j/iD/PP+n/jj+ef7A/qr+5P4A/0D/8P/I/2H/1v9m/5T+2/7v/sn++/5j/7//8v/8/67/HgArAaMBiQEZAd4AcgAIAAgAn/8k/xn/D//J/j3/6f/e/+v/zP+C/6//fv8K/9H+m/5r/t7+Jf/T/nb+ZP5c/zAAPACiAMcAEwB3/9L+k/4l/4//pv/m//r/lwB6AOX/0f/r/wEASQCtAC4AIABjANz/pP+W/23/l/+Z/9z/vgDlAE4AhP9G/8f/qP+g//f/EwDAAFEBGQHLAEgAw//J//j/8/8SAF8AVwDL/z//qP5C/pj+6/4T/8D/SQAxAA8Avv9g/57/0v8NANkAegFnAfIAzgBBAPv/VAApADkAEQE4AcYAEwD4/rP+0v5N/2b/4f97AK0A6gA8AJX/mf4S/sn+nf8oABsAjP83/zj/Pv8V/8r+Iv+H/9n/GwDX/3z/Cf/I/tH+Av9A/8n/ewA0AR4BagA2APX/gf9G/2z/uv8nAFMAKgDe/9X/BAD6/7n/uv8AAEMApAB5AB4A0f9Q/yj/D/8m/93/fQDcANwAcwDh/xv/3v4e/77/YADjAFMBEAFZAMP/bf9W/0z/Ov8Y/zz/X/89/8D/VwD/AGIBGAGsAEAA1v+F/4z/Uv/f/pf+Vv5Q/lb+2v6e/y4AhwByABcA5f+x/53/dACAAekB7AE9AZ0AKACs/3P/Zf/G/77/dv9U/2P/uP/S/6r/zP/z/+H/0f/R/7//xv/2/9D/2v/6/y8AggDsAG0BNAGvANP/s/7M/XT9yv2x/pP/gv9C/xj///6k/+8AEwLkAkoDsgJ6AZkAJwDU/z7/rf4G/ub8aPyK/Eb9dv50/8YArQGyAdEBsQEYAYkAYQBdAA4A0v+d/87/AgABAAIA0v+3/6z/aQBJAWABCQH3ABQBBwGGALb/RP+X/0YA6QCNAUsBEADd/qD+4f4W/23/3/9OAFEA//+b//3+of71/oD/+/8mAPH/nP82/3H/7f8gANkAaQFlAUYB+QCAAP3/0P6z/SX98fyd/Xz+7/5v//X/KACHAMcA6gDMAIsAIQAe/yn+f/2O/aX9vP19/iL/2//VAJoBDwJYAjUC+AHJAa4BXwHuAEUARf+N/kf+Pf5q/gz/zf81AFkADACR/z7/P/+N/3v/Vf+q/97/k//J/2EA5QA0AWcB0wEfAqIB8wBfALb/Sf/U/qT+hP5v/lz+Ff5c/i7/DwC0ACQB5QCDAKkABgFpAXoBuAHMAToBzwCNAIcAcQADAOX/wP9e/0L/+f6S/kz+JP5h/rj+Pv8AAI0AAQFqAYIBZAGDAYsBJAGsAEIA6f+z/3n/Qf8x/yb/Wv+N/3L/WP9d/2L/i//q/5oA7AAFATMBcgB2/+r+w/7A/sz+H/82/7T/VABFADQA1P9D/wL/T//T/wkAMQB3AGgA5f8M/wz+TP0u/RX+SwBzAskDVAQ+BKYDNwJ6AAf/yv0f/Rr9Y/1a/VP9kv3p/Xf+Gf/3/88AaAHGAd4BtwEOAeP/kP5U/TL84/uY/M79SP+qALsBOQKAAnkCHQJkATYAJv+y/sf+uv56/sz+H/86/zv/fP+9/7v/JwDCABkBdAFUAVsAJv8t/hj9PPzA/P79Uv/HADICAwM4A+YChgGX/y7+nf08/nr/RAA2ADz/7P3L/FT8m/zO/cX/xgFGA60DdwMtAhQAcv6u/fv99/5GAJUBigKtAvYB4QCv/+v+2f4L/6f/rAD8AEsAIv/x/Qb9zPwJ/eT9of9xAfkCngMKA9cBmACW//D+9/6f/5IAZgG2AXYBnQC4/yz/2f5L/6UAigHKAcUBWgGIALn/pv7Q/eL9OP6P/k7/HgCKAOUA3gBqADYA4//L/+//5P+r//f+Rv7o/a/9mP3t/aP+hf9kAB0BGwF1AK3/8P4U/mX93vwJ/bL9Nv6B/uT+mP+gAL0BvwJnA4gDuwIqAeX/9f4f/pH9VP1+/Sz+MP9MALEBvAIJA7IC1QGhAHX/3v5p/jD+Q/6h/r3+u/4Q/4f/awBxAUcCBgOCA24DSQJQAGn+3/xK/MD7evsZ/Ab9pf5pAAQCzQKRAu8BawEKAZ0AMwDh/8b/VP+1/ir+nf18/SX+cf9RAT0DuAReBdoESwMzARj/rP1Z/Sb9Av1o/Qz+/v5+/5D/tf/Z/woAZgAAAWMB9QGTAg8C4wCx/7z+WP66/oz/9P8hAIUAvwCfADYAgP++/oL+4P6F/80AvQH+ABcAlP9A/5b/TQDIAMQASgDs/4P/Vv7J/EP75fnZ+Nf42/mr+/P8tf04/iX+3f3K/Qf+bP51/2IA8gBeASEBhQCi/9H+YP6L/vX+Of8hAF4BrwGlAVoBUAA//6H+wf5h/yYA9gDYAY0CGwMrA0QD0wOfBD4FHwUpBSIFDAWcBKgDTgK4AOT/p/+v/wwAiQDOAMYA1AAWAXQBgQE/ARIBvgDHAA8BhQHWAZYBewB4/x3/Zf5b/p7+vf4W/z//Wv9z/1H/7f50/gL+LP7B/mb/p/9Y/3n/BQApAQQCUgN9BPIDZgLp/qn5KvTr7yrtIOxZ7WvwlfR++df96ABLA8sEUgWgBWAFJwV8BT8FiQRdA6kBs/+S/cT7MPs5/BD+qf8IAegBawHd/xv+B/03/Cz8kP2o/24ClgVuCHAKEgutCtIJYghUBssDnQBz/Sj7Uvm+97X2hva69+P5afyZ/5ECZwSGBmgH9wZYBhsFEwQ7A5AChwJZAtMBZgF2AHP/4P44/gv+7v01/kD/yP8eAGcAlQDaAGIBQgKKA8gEZAX5BTMGPgaGBp4FBQRfAu4A1P8f/2f+jv20/On7RPzy/G79E/7D/oj/KwBxAJcAnwDNAFcBngG5ASAC1QImA5wC0QCD/XP5nfXW8hbxevDt8Jvxx/Jr9EX2xfg7+2z98f8sApEDTgRJBA0EcAOeApsB///c/n7+1/7P/y0BGQLAAX0A9v6I/af8g/ye/Dj9af6W//kAoQI+BGsFXwYwB6kH1AezBx4HnAX4A1kCVABs/or8h/oL+RT4L/cG99L3mPlD/AD/RgHwAucDMgTAAwYDnwJbAl0CFANTA+YCrgJcAgoCwwHuAFkABgDU/+f/k/8b/yL/ff9HAJUBrwK0A7IEjAVaBs8GKwd1B7oGOwW2A8oBGQBc/xr/Vf6s/W/9Sf1b/W39sP0k/ln+Bv9SALMB2gKsA0EEugSIBW0G/AZMB20HSQeZBTQBOPo98XTnPd/f2ofa692n5KHtm/fpANgIlg57EakR4g8QDZMJrwXyAVL/mP1I/Ef7tvq9+lf7Q/yD/Zn+Cv/q/rT95Pu8+uP6xPth/fT/FwPEBr4KWA5xEPMQkxBiD0QNEwq5BZUAkfuC9w70xvEL8ZHxS/Nr9jH6kP15APsCfQRhBbwFNQWtBOsDaAOkA4EDZAPAAyYD0AGX/6f7Sfie9kX2I/ik+u/8zf9nAdECUARpBJkEuwQABL4DhAOzAgsDLgO9ApECgwHoAA4BTwBnAD8B9QApAYwBbgGfAVoBNQGBAUgBvwFuAp4ChgNDBCwELQRMAwYCpgAN/1r+Mf43/kD+tP7K/9QAigHQAdsBxAEWAbH/+P1z+yr47fTN8X7vnO5g7i7vi/Hh9NT4s/xpAHoD4wRiBeMF3AVCBV8ECgMDAicBBAAW/2T+Hf5I/mb+Rv5P/kv+r/1P/b39E/5n/ub+OP8GALABtQN8BdQG2AfACMEI0Qd3BskEyAK8AP7+bP0O/CL7q/qS+v76K/ty+8H8EP5u/pD+Uf4P/tb+C/+O/2cBsgJeBAYGUAYABnwEdQK6AIX+svz4+2H7uPue/cD/bgLEBLQFRwYmBoQFJgXQA2cCHgI5AVkAvQBSAYcBcgG2AT4COwK5AmgDLQMaApIBOQExAB3/Iv5j/U/9kf1p/sn/QQHyAjgEmASQBIUEKgSHA1kC8QCy/1r+0v3V/ez9iP5x/0kAlgC7/6D82faE7xPosuLm4Ifibuen7q/3swHLCl4RWxRNFOMRuQ2ACOICH/6N+yP7iPsf/Rr/qf+V/1D/1/4c/kP9+vx+/I37Z/tq/Bv+NwDAAkcF6gdjCvwLnwzzC4gK8Aj3BoIExQFD/3X8ovni9772o/Xm9Gj1svdM+h/9NwCPAj0E2gVqB0sIMAhJB8gFHQQ2AhwAXP4z/eb8Hf3z/Dz9z/4kAGEA3v/X/iX9SftX+nz6Qvv6/Jb/SwJxBYUILArzCVgIlQa8BJoCzwDr/hr9MvxW/OT8rP3N/v//FAFXAuwDmASPBIYEYAQQBHMDSQM6A0MDFgOPAlMC2QFjASgBIAHRAH4AHQCR/1T/Yv++/+z/yP83/2r+7/3u/Y79hvwm++v5SPgZ9jb0ZvE77dPpwehD6fPrCfEr9yP+ogT3CQwOGhCEEBkPDAydCAkFkAGp/sP86fvZ+2P8u/zt/BL91fyw/Nn7k/o2+rP6+vsi/nIBVAXmB30JNQs3DBIM+ArRCJ8GfATjAYb/Xv2P+zP6jfl2+bz5D/rG+sP7Pvyn/QwAIQLjA1UFvQbYB98HuQdSBmsDhgCk/UL71vmK+CL4HPle+mv8XP4s/7P/cf/c/mr+8v1s/pf/LAFwA8AFjwfdCJQJHQmfB7YFbwMpARH/Pv0u/Pb7EPxQ/I79Fv8JAM8AUAHNAT0ChwL/AtsDcAT1BOwFuQaRBh0FeQMiAXL+s/zX+yb8RPw6/VP/PAGIAw4FnAWhBdQEoAM2AigBUwDI/xoAxP8K/QX31O5/5xfist5E3nngH+Ze73T5EwQfDcYTbRgLGe0WCxKcC2MFfv9h++f4R/hX+fH6r/z9/oUAbP9D/bX6IfcG9DDynfI99tX7xgIACv0PmhRYF8sX+xU+En8N+wdSAqn9IvoP+EX3RPfo9334Afkn+qn6yfrE+6X8J/64AEQDrAXpB+MJXQvDC8EKMwjpBBUBbf1a+pf3Jfbh9RP3Ivn3+vb8iP70/pn+C/6F/Vv92f2h/hMAlQJeBb4HMwmvCcEJJQlkB9ME2QGb/sH7HvpA+Ur5w/oj/U7/XwHkAncDGgTNBLIFCgYEBhkGuwUeBaMEOASIA0QChwAM//f9+vw5/BH8c/zx/Lr9+P6DAOcBUAI4AhICHQJVAfH/bv+r/pD9tPyC+u/2avKi7R7qf+es5pTnm+pA8MT2LP4VBfUKyQ9BEtMSuhCsDDYIswPg/9z8T/tq+vD5tvrs+w/9kv2R/YP8O/ry9wP24vSS9Tz4X/xdARYH8AxbEUoUIRUNFBIRKwzOBm0BYfyG+Cr2y/SD9K/1mvdM+eb6LPzI/Er9ov07/hT/IADBAWgDeAWdB88IpwiPBxoGygPOAKz9+fo9+UX4mPi2+Ub7U/0P/0UAkgBaAOH/7v5v/i3+0/6MAHkC0QTvBv8IigqwCvUJOQinBaYCcP/S/OL61/kc+on7zv1qAPcC/gSpBmwHBAckBvUEzwOkAtgBnAGgAdoBFAJpAtICNwNEA6UCtQGEACP/C/5J/R79kv2U/t7/mgBnAScCjQIiAof/8/rl9K7urOnp5bLjaePG5R3rQvJn+kICgAmAD44TxBUNFdURIg3aB2gDuP8M/ZH7Cvvx+z79kv6d/4z/oP53/LT5mPa284DyEfOI9WX5h/6tBAML+xBfFeIX0RcGFccQ2go4BCH+3fg69Svzo/Kh88j1Z/g2++399v8fAVwB6QDv//L+iv75/vv/cAE9A90EcQZqB18HoQbmBD0CjP/M/CL68Pd29vP1TPbU99L50PtW/kUBuANqBZQGJQdoB1YH/gZsBpgF3QQOBBoDPwJRARkAuv7W/cD9/f3l/a79tv2X/ff9/P4NAA4BJgKJA2YEOQWuBS0FgAR4A5wC4QFEAYoAGv8X/jT9h/wS/OL7iPwf/c/9g/4t/5n/f/9j/0L//v7G/Vb73/f38+jwBO7H6+Pq5eq/7BbwmvTK+fz+hQQMCrsOphGsEkYSsBAIDp8KtwbgAlj/Y/wl+xP7PPtF+z77FPs1+uH4efeE9tn1APYf9yb5yvzxAF4F9AkCDqERvBNYFMkTnxH4DU8JjwTs/2r7hfcM9cDzsfPd9PL2pvn4++j9iP/lALgB4wHnAb0BiQEFAXIAtABgAYcCrwMyBCkEdgPdAsoBAgB0/tH85vpH+Y/4pfjZ+Zr7aP25/+IB4gOOBbcGTAclB64G8wXwBOID5QLaAb0A8v8AAB0A6/8wAIMAoAAHAbEBNQJmAv0BeAFIARYB3QB5AA8AmP9L/zL/Lf/J/j/+RP5x/tz+H/8K/zX/vf95AO8AmgGjAugCvQLUAt0BbP+z+1v3vPOw78rrCOnh5rXmW+ij6+jv9PSE+wkCIgjxDA4QQRIJE8USURGiDlwLlQcjBEABMf+l/WD8p/sy+xX7Cvpt+BT3u/UX9fP0Q/V79l74BPu8/hMDZAdcC+4OUBFrEpcSfBE6D/cLDgjzAw0A1/zl+er3Jfeu9v32+vdh+RX7u/xi/pP//P9NAKAA3wB0AeYB8AEyAn8C0AIaA00DWgMFA18CeAGJAH7/kf59/WX84fue+6X7P/ys/Xr/8gCAAhUEDQW1BUMGeAaxBZoEjgMHAoEAWf/o/q/+hP6l/sj+df+OAKMBdgKIAzsE/gOzAw0DMQL2AMH/Mf+e/jH+9v1D/vT+H/+I/9T/1/8CALcAuAGtAVsBDgEBASkBUwDS/lD8ePn79tfzrfCW7UPrPurm6dHqmeya7yL0VfkA/wgEGAjSC+cO5RCqEWoRIxAhDoMLlQgBBooDUwH+/vb8qPsC+kz4Kvce9rf1tvXL9a/2xveb+RL8Wv5EAD0C8QSHB8cJ7At7DS4Oxw2sDCkL9wiUBroDuQDV/pT9LPwg+6f6GPpd+U35DPq9+g37FPw+/UP+Sf+8/4QAGgGnAV0CEgO5A7ADmQNdA9ICnwIWAkMBjADC/zD/zP6N/jX+yP2w/Qf+nv7b/1EBZwIQA04DoQMWBH8EQAStA+0CogGVAOL/Lv+S/nP+jv74/tL/oABcAeIBKwJvAnQC4AFEAckADgBz/+b+cv7V/Wn9t/0X/mb+o/5w/jr+X/7w/uL/hADgABsBYQFGApAC2wHJAKf+O/yo+Xj2ffPI8BDvEe5X7Xvtp+6i8bz14fnb/YcB+QTqB3YKJwzTDO0MhQzGC4MK9QgeBw4FZAOTAfL/kf6a/B37Bvpe+Qv5iPiO+Nz4qflM+w/9SP7Q/3kBoQIsBMoFAgeuB6cHUgd/B8AHFAdpBeMDoQLXAWkBrwCx/0n+Jv0//Gj7mvoA+tb5zPlC+u36oPuR/JD9c/5o/wMAagAoAWQBtwEYAh0CMgJzAiwDYAP3AlEC6AGkAUEBRAEXAQ0BEQEjAWwBAQG5AKUASgD5/4D/Uv8e/xH/YP+U//7/HgDz/xcAhQDtAIsB8gEXAiYC6AH/ARAChwHKACkAr/9W/9T+af5C/tj9xP0I/hz+8/3k/TD+Sv6z/hH/YP8TAJUAaAEzAqwCQANHAygCOgBP/qD7Qfiq9WjzivFI8PbvevBG8RnzkvX298T6yP0DAQ0EnQZiCE8JTwqVCmcK0AnjCPsHSwYeBeADJgIJAcH/YP77/Ob7dPtG+zb7Tfvz+x38V/xK/X/+JwBrAdICJARmBJMEsQS3BK8EMQSrA/0CXAIiAtABOgGdAOj/Jv9B/oX9gP2N/ZX98v35/Wv9ev3G/a79sP0D/kr+8/0U/mD+u/5n/w8A+gALAt8CaQPNA2sDRwNJA7oCSALSASMBpABzACYA2P/m/xYA6//f/3EA6gAeARIBIQEIAVQA4/+i/6H/sf/N/0AAfgDMAAEBBwEFAckAZQAgAB0A9/+J/yv/z/5h/ln+L/41/qL+2P4+/1b/Sf99/63/aADJAM8A4QC4AMIAeQAbALL/q/4S/Sj7R/kc9031y/OF8gbyyPF+8oDzMfW99w76i/zu/joBpAP9BQgIiQk8CrEKWAp4CcoI5gfKBkwF9QOqAlABtP9q/k/9Rfwx/LT7x/tr/I78Jf25/dr+ov/a/7kAuwGkAjgDkwNWAycDPANMA5YD+wLoAVgBgwC3/xX/RP6p/YX9pP1f/TP97Pxf/HL8UPxH/Nb8K/0R/v7+bf8XAMUAZAGmAfYBgQLfAg8DMQPBAiwC/AGeATIB+QDSABMAoP+i/6j/8//d/zsAcQClAFIBoAHXAbwBEgJ2AiQCyQH+AfsBGgEeAd4AbQAAAE//X/8B/xj/R/9j/0gAuQCvAIYALAAKAEMAMAAWAEkAAgCz/97/PwBkAHwAkQD0/8n/uf/P/sb9vfzl++76wPm4+LL3w/Y59lb2mfYB94H3Kfh8+U/7BP2t/iQAUQGfAo8DbgSbBRYG9AWyBcIFwwVPBZwE1gN8AykD2AJyAtIBzgB//wH/Vf+Q/0z/dv+b/zz/KP+R/5EA+QDYALYA/wBgAUABZAGIAAcA0P/9/pP+r/3D/bD9EP5D/2X/NABiANQAjwFzAcUBpgEaAmcCbgLHArMCDQMkA5YDxwMsA/MC2wEIAaEAKgA7AA8Aof9Z/17/Sv8r/y//6v7q/i//sP8xAMUATQHkAUICGAIOAm8B+gAKAQUBRwBY/wn/e/5t/nv+u/7k/qf+wv7k/k7/5//9/w4ApwDVAMYAxgB4AFYATQDk/yH/vP5G/uf9//0D/tH9Uf1r/Ef7TvqD+c74R/i1+An5dvja+JP5rfrb+4P8+/00/+T/pABFAW0BvAHUAuoDFgRVA+gCpQI6AsUBzwGCAQEB0gDLAE0BhgFnAbQA7//s/9P/VwBuAHAA2ACHADIA0v9i/2n/XP8t/zn/6/5j/kv+Yf6I/jn/KAB+AO8ARwElAW4BqgECAi8CYQIzA4ADLgPUAokCDwKAAfwA1AAVASEBZgGPAY0BeAEfAdkAuwDMAMoAsAAHAX8BTQGTAAIACgAnADQALgBGAB8A+v9Z/+L+Hv9l//H/MwAqAJj/dP+x/1j/tv+u/4n/qP9W/2P/xf5y/rT+8f5T/zn/b/9j/0P/XP97/8H/xP+6/77/ff/M/lr+v/1i/VX96vyA/Mv7ofvn+0n8U/zp+zX8dfx9/Nv8Zv0u/hf/8//7ALUBEQLaAdQBFwLaAawBZgEDAVMAw/8ZAJYApgACASUBCQH6AMwA+gDHADAA7/+U/zH/zv6U/mL++f1c/iz/u/9tANcAGQF0AcMBDQJDAlwCVwKPArUCdAI4AhECSwK3AtoCCQPvAnQC/AEgAo4C9wLuAl8CqQHuAPMAKQFCAYkBswFFAYcAVQD4/9n/rv9O/1n/Cf+i/m/+pf4t/9n/uQDfAHQADQC8/4D/kP8fADwAvf8g/7P+VP7s/TD9+PzD/Kj8Dv3p/B39KP3x/XT/6f/X/3//FP/n/lT/wv/c/xAAawC6AOIAHgFUAQUB2wCWABMAi/9z/sf9d/0H/af8gfyP/Gr8E/wI/Er8T/wq/DD8Pvza/JH9K/7y/gf/N//D/1sA0AAbAXoBSAFJAZoBhAKHA2gDfgLvAY0BKgGAAZEBYgFFAZoBeAIWA3cDRwPhAtYC7QLpAmgCqwFmAT0BPgFsAY0BpAFZARoB5QDQAOoAigDlAO0BiALcApYCJALcAaIBnAGTAUEBpwBGACMANgB7AEcA4v+H//H+Xf4t/g3+RP5y/vL9yf0T/jb+KP4y/mH+tv4m/3z/ef91/6n/zf8EACIAJgA5ADYARgBGAB4AHABHAMwAJwGyADgABgDV/3n/Cf/d/rn+jv44/gf+Cv7v/a79fP14/aL98f3w/RX+cf52/nn+vv4z/73/rv9F/z//tv8FAJP/g/9r/wb/C/8G/2//zv/p//f/BQAGABQAggDjAHwABwDK/3r/uf8mAKcA/AD+ACwBZgGsAT0CfwJ7AtoClANABFYE6QNVA90CmwJuAqIC5wLBAoACFgKvAUIB5gC0ADEA2P+R/2//qP/A/woAlQC4AFwAagClAOoA9QDbAJIACQDM/7f/av+b/kX+iv58/oP+t/6e/lP+6v3s/Ub+ZP5a/m/+D/+d/8L/z/9c/1//pP9D/+b+1f5L/+j/HACNACcBUAHeAGUAZACAAEwAwv9p/4j/n/+x/+T/BAAgACwAUwCtABcBHgGAAOX/if9W/+P+df5S/jr+Gv49/gH/sv/S/7D/m/+j/9j/KABmAJgAtgCnABQAvf/6/9r/Zv8y/2f//f/n/0T/rP4n/v/9Lf5h/qr+9P7z/g3/h/9HAPAAgwHeAd4BqwHyAHEAUwA0AEMAXgBnAMEAMwGBAf0B7AFhAc4AXAApAAwAvP+0/+L/IgCLAOsALAH0AKcAowCaAHoASgBtALwAkQBkAPH/Q/9E/0v/Cf8J/5b/BQDq/9r/KQBZAPz/0f/c/5//o/+D/2D/f/9V///+2P7z/mv/Zf9f/6v/JwB4AC0ACwDB/2L/F/9s/yMADQCP/2T/WP9///v/SQApABUAJQBgAPkAWAFpAQoBzQDJANUAbQBn/w//i/8FAOj/5v8sADgA8P9t/7P/BgB1/x3/yv95AH4AtgCLAVwCxgJSAooB4wCIAD0Aff+//tv+CP9K/vT9Lv9/AEEAKP/o/o7/av+6/tr+uP/m/0v/4v5P/xQAFgDo/+z/8wB+AawA8v/Z/0AAtP8+/8v/ZACsAB4AQgAtAVMBpQAlAEcAKQC4/x7/ZP+8/0n/X/6m/qn/MABCAEcAagBNAJgASgDU/yEAIwC3/4T/7/8dAHj/Rf84AB8B/gBzAHkAdQF2AdUAkgB6ADUAVf8L/xj/d/83/xf/bf+g/3H/U/45/m/+zf5x/k3+0v69/lr+Mf5m/yYANgAZACUA4/86ALIA1wDhAdkBBwEWAJ//iQC2AEkAXwBcAKoA0wBlAAgA8P98/3j/5P/QAN8AxQCmAE8AIwF/APD/lACiAM0AWQGCAXsBNgHSAPUAbQBhAKYAKwCjABYBcwAeAHAA+P9O/0r/Gv+x/s79Tf1R/XD9bP0C/uH+tv7l/pv/W/8K/7X/QgBRAPT+NP8AACf/af/d/4j/mf98AKIAAQGRAQoBSgA4AMAAbQDy//r/jv+m//3/OQDb/4H/GgDW/+j/MgAjAG7/6f5v/wAAlQDy//j/eABHAM3/CgC/AP8AXwEAAScBLwGsADMA3v+l/+3+6/75/t3/RQBOAHIA8f8UAIkAWwGJACYA6gDVAJIAhwBnADAAx/8y/4L/rP/q/97/W/+K/7//tP9z/0YAVwDw/3T/Wf+F/73/AgDX/7wATQAlAO4AhABVAcgBiwFHASkBaQGzAIAAQABrAFAA2QAhAe0A/gD2/7P/Zf9t/6T/1P5h/0b/ef+E/yT/wP+k/+b/cQBDAHn/vP/U/yAAcP+s/3AABQAkAPX/RABE/9D+bf9d/y//Wv/3/8//rP+b/9j+QP9n/7L/CgAQABIBaABiAGwAjwAaAWcA7QCTAQsBbQE0AZAA+gBpAOUAkwFhAB4AYQBHAOb/rf+j/y3/vf+f/2H/fv9X/+H+ov7w/qD+7P7S/hr/cP/X/iz/CQAtANcAWgFYAVsBlwE0AfoAgQECAQIA4f/4/1r/tv8VAMb/av8C/4v/h/8C/iv+J//G/m7+Pf8gAMf/SP+aAAQBb/8s/+b/s/+G/uD/7AA+AIEA1gCfAcAAFQD5AHgBSAF9AYwB0ACbAEcAbwAIAOD/YABQAMAA1ACZALAAnQBFATEBfwBRAFkAJAAoAH//SP8bAG4AgQB5AAABqgBgAJoA2AAsALT/3/+N/6f/BABGAN7/AwARARsBfQDxAFEBYQAGAKgAegDN/+3/8ADRAM0AaQG1AYwBaQCUACgAVv+f/zT/rv5M/hD+9/1G/mP/0f+L//r/v/+g////dgB0Af4AZQAkAW8BTwEaAkACrwGYAekBHAIvAXQBqwG+AK8A1gAPAPf+ov/6/wf/4P93AOb/Cv+//5AAgP8vAHkBdAEiAEUAXgAO/9D+7P8CALj/xP/z/0QA2P+CACQBfgCUANAA7P+V//L/0f+s/84AqwCb/7P/BwDk/5T/WACjAUUBx/+JAF0ALv9U/wkA6f+i/1wBggHjACcBmQFsAcwAeQCPAAAAqP9uADkAzP/Z/8v/jP+v/wQALf/s/vX+b/9J//7+g/9c/7H/JABpAJX/gf8UAKgATABiANgAjwC2AL0ACwGLAJL/fv/C/18AngCp/y3/q/7H/pb+bv4V/3X/fP+v/7T/Bv9W/+H/1/+Y/8v/lADdAK8AlQBhAbcBsgA5AUICPgKTARwBeAHxAGwAbQDPAGwAMACbACYAWABaACIABgCCAIUAEABbACoA/v+8/6UAxgCsANEAjwC8AEsAdADgAHQAsv+vAKkAnABhAU0AAwD3/+L/Vv87/1gA6v97/3AAoACB/yT/Wf+Q/5X+Yv4R/z3+n/4h/3r/SwCiAL4AXgBfAPn/PQCPAIAA8gCtAHsAJgBDAL//rP/6/6v/DwBMABQAI//Y/7b/4P4Z/5D/hAAhAD8AXQDJAOUAbwBbAKQAVQCm/53/uf+0/8/+0f6J/w4AoP++/9MAwQDV/xYA4ABUABYARQDz/wAAxAC7AEwAcwFsAQsBLAHCAT8BYgDoALMALgA/ALgA+v8tABABvgDeAAQB0ACdAC0BaAErAB0B7QHhAJcA5QD1AHgBcwC4ACABiACbAfkA8AAeAZEAKgA+AAkA3P6h/o3+Tf42/vr+of/P/2QAagCUAJgAgwAnAOD/zv/y/w0AvP8EAHkALwH1AVkB4QDcAM0AjgB0AKD/Af8sAPj/8P5D/zYAZf8A/5QAuQCi/3n/KADy/+j+Tv9J/yX/cP8Y/9/+jv9DAB3/gP/KAJH/V/8jARQBgP+F/zkAh/8X/zQAHQDr/wMCbAFAAPEBuwHSAB4ByAGQAFL/6P/W/8L+qv/YADL/w//MAC4A3/6V/5YAeP+FAB8Bcv/w/1MBkf+Q/1wBlADt/xIAxwAdAPr+UgCe/z7/IwD6/1P/ZgCCAfX/agC9AXgBmABvAa0Asv5p/4P/8/5I/4EAjf+N/oUACAF2/2D/2wBU/w//TgDx/tf+vf+G/5H+Ff9T/xz+fv7g/2D/pv4p/8T/n/8UAJ8AtP+f/xAB5P/6/ioAKf+8/ksALgFgADcA+ADX/03/SgDP/6n+IP8uAEj/XP/GAC0BvQC4AR8C0gB0AW8Bx/90/60Am//M/g3/SP7E/Zb+jP+q/nf/IwC9/+j/XgB/ALb/1v/jAH0AtP+jAEMAa//wALYA2/4Q/5j/f/4x/xUAGP97/+r//P+P/1QANAAbAO0AsACuAGkAhgGDAbEArAEiAvYAMwFkAXMAogDYAPQAaQCYABUAoP8MAR4AUACeAEcAr//V/qz/lv8PALT/Tv+bAN//iP86AKP/sv9EAD8A4/9QAAUBOAABAcwBEQDUAPwAqAD5AHMAtwCO/yz/gf89/zH/PP8Y//f+h/9y/wn/V/8c/yj+Pv74/vv9Uf4//yP/If+s/6n/i/5w/yD/a/7b/4H/0f7B/9T/Iv9U/wIA6P9HAPkArQDvAPkAJgCxACoAs/93/wv/BABk/3f/QgCnANv/cQAWAeD/2wD7AAEBQQFNARUBlACqAbwA8f/SAAQAdP/4/lX/Xf+Z/pP/Sf9V//D/Sv+j/zgAp/9I//D/y/9T/2//y/8//xcAJgB9/8L/Nv+A/z//2v/K/wgAJwATAMH/zv/JAGX/T/9kACz/Pv8rABwARABnALUABQBZABMBVgCYADMB9v8SAKQAuP92/y0AdgC1/tj+sf/l/Vz94v5H/h797/4S/6H+2P9uAJ//gf/8AMj/3v42AZkAeP46AZ8Anf49ABkAdP5u/vT/nv6x/tX/w/5M/ob/sv8t/sb/Vf/v/eD+R/8j/xD/YABB//3+6P+S/3L/ZwBMAE3/w/9y/5D/yf84AIcA5v8kAT0Aev+iATAAAQC8AR4BXwBNARYB1gAKAdYAhADMAJIAQv+JACkAZP8JAAwApf/T/6n/0//1/27/aADm/0D/v/9z/yv/GwD2/y//XQD9/mf/rACj/5UA0v+8ALj/CwBgAEz/nwEFAHH/cADt//D+2P87ADb/TQBKAOT/mgAhAC4A2gBKAM4AlgATAIkAwgB8/ywAAwFh/8v/rgBb/6v/DgGK/w0AwQDV/4n/vwAIAKP/5wBZAO7/5v/j/yj/7P7r/p/+bv6T/jb/o/4O/3MA5v8oAAoBeQCN/3cAuQDF/tr/pgBg/6b/xwDW/9b+YwBa/97+wP8l/2z/aP/B/xAAff/f/3cAdQBDACABBQFz/7QAHADa/oMAev+x/tf/6f4v/pf+f/+//gf/JgBn/3z/owDH/1z/XwDo/xAAkwDOANYAVQCIALAAkQCvAYQBQQDMAGoAjQArAA0AfgCz/0v/zv6j//X+c/4qAMX/mv9cAMP/AgBvAPX/cQAqAOT/WgBWAEwAFAAsAW//hQDoAM/+EABf/5n+fP4Y/yf+iP5z/979Gv9a/7n9VP9I/uT9BwC//gn/SADc/5f/XwAUAED/dwCb/wz/2ABcAHb/kwCbAHL/fgC+AKv/fABDAJ7/RwB3/57/TADh/nMAXAAy/yMBjACm/9X/agAO/yv/x/8g/i//uv4G/qj+7v6p/s3+CQAm//sAqAC8/18BOABhALUA+f/s/2ABAwC6/1sBIv/N/w8BMABtAA4Bv/+o/r0Aff/E/4oAn/+p/zoAWgAI/+4AG/8K/5IA3P6dANn/sv/r/kz/TP/j/ev/Lv5D/x0Av/9xAPEAuwBDADQB5gDAANUA1QELAEkAEwF2/74A9/9gAAwA5f+uABv/HwELAF7/MQFiAEkADgCUALb/DgDg/3v+EQBD/pj9Mf+d/ev9RP46/hL+r/5v/z3+W/9Q/6b+wP5f/2b/9v5//zz/Hf8kAHH/mf/wACgAaAC/AFUBTwCaAPQAcwDkACoBUwD9/wEBUv/V/y0Aof+Q/1cA4f+d/xwA2wB5APT/cgJEAJAAKQHA/2QAiAAPAC0AZQGv/yD/kACo/xf/e//F/if9Pf6a/hH9Nf/G/+X9QQBhATf/nQDGAMf/DAHoAND/iAAaAQIApP+8AOP/5P4xAND/Y//r/1v/9v+a/4L/U/+T/xIAkP/l/00AaQDo/1oAfwC4AGgA4wAgAY8AEQEmAGEAOwCe/7v/f/+S/0b/hgB7/5YAdQGx/8oAywDJ/xr/DwB1/if+WwBg/uz+VQB3/lH/8ACX/54AyAE5AJsAEQGy/yUAowDa/vn/gf+g/qD/1/7q/rn+///1/Yv/dQBc/kwCGAHR/2ABAwHF/9kAzAH4/tIAUgGb/qcALwFB/1QA7AFGAXcAjAHRAL3/bgG9AIkAZwGXAOb/PACLAFf/Y//TAID/7//P/1j/s//E/0EAE//N//X/4P5//5QAd/6a/wwBd/6O/7MArv4T/7wARP6P/o0AEv40/ioAfv6f/k8Avv6j/lsBBgAg/zoCyQANAPkBpwBQAOYBPgAEAPAAl/7o/ij/1f4N/6//9v5VAEsAAAC6AQQBdgG6AcEBCQH1AOEAvgDKAAIB+v8XAM8Bvf+U/zgC4v+Z/iEB2v4i/gsA8v3c/TsAn/6M/k4Aq/8e/ykAaf+8/tf/SP/N/sz/5v8l/2MALQAZAGgA4QBVACMBAwEnALEBp/+9/9EAi/56/87/MP8NAIL/iP+Z/97/+f5HALYAW/6UAIkAyf6vAKQAoP/jAIwBwf+xAKkBxP4JAMAAbP6AAGwAqf4/AcL/Qv8XARn/VP/aAH7/aP4AAf7+u/0gAbf9pf8jAML9AAAb/8f/Of8PAK7//P75ACP/7v/8AWL/kACcALz+dgAVAAv/7v+FAAr/y/9uACP/Xv+vAA/+2v4JAC3+bv8/AKwAnv8yAY0Atv4dAQgAWf8PAvP/DgAvAbv/BgBbAFkAxP/hAIwAWwDDABoAiQATAeD/3QCnAMr+9/8KAOH9bv+W/zH9Wf9N/639cv/k/4n9p/+8/4T9Lv9+AA8AwwCKArsAzwHIAo4A8AGKAaUAngCTAEUAeP/N/0//4P/I/tb/WQBz/60APACz/7v/7f9E/4T/RQDJ/2b/tQD3/8/+iQAYADT/FwBf/2D/UgAkAOD/LwCXAOr/M/+//6b/tv5m//z+uv4u/4z+AADs/xQAcAHhAOYBwAGvAfgBtAJ/As0BuQK6AVQBhgElAEYAmgA+AMcAngCWAIIALAGIAP3/jABw/50AcwDE/9MABgAYACQABwC0/xAAm/+N/83/0v5P/2D/Zv9z/zkA+/+q//QA7v59/zIADP60/3X/F/70/n7/qv63/mEASf/T/iMAev7j/mIAJv8H/8H/mv93/1cAvgCoAPAArgCPAHwAj/8gALT/df+d/07+Lv9s/zX/1P+Z/3P/vv/t/zv/Lf/2/zv/Ev+H/2D+iv5l/73+D/+X/y7/WwCMABQAjgBrAG0AiwBuAMn/8ABrAIX/lQCq/33/0f+Q/77/KQAxAM7/FwCy/4f/pADq/1v/eQAeABsAtQDa/zMAZwDg/0oAxv+c/xn/DP9a/zv/b/9L/xn/pf5p/0H/Df8xANn/5v+//2UAsv/7/gEA7v7h/jz/vf71/VT+Sf6c/Qn+AP5A/oz+gP4r/ur9fP7i/jD++f6h/wX/rv9g/+X+Rf+w/p/+w/7I/j3/jP8MAG7/uv+LAGUABgFvAVkBkwFJAdwA+wC0ALT/6v+eANr/qv8XAFr/qv+O/0P/9P+L/0z/mP+9/8r/iP81/3D/kf+l/wQABgBz/zD/hv8V/1//1f9y/7r/rP9A/63/zv9w/9H/AQCx/xcAEAC3/wMAPQDX/6EAMQDG/5kAnP9u/3v/i/+D/4z/0/9w/5v/Zf8P/7v/qf9w/6H/oP/0/tb+0v47/6n/fv+5/z0AUABdAPcA0wA3ATcB+AAvAaEB6wCyANwA3/+0AB8BawCeANEABQDR//T/9//4/2wAwADbAIQBCwE7AFcAeQBRAJAA3ABmALb/5/9j/xv/r//r/53/DQDIAP3/FAAaAFb/kP8HAK//Pf/i/xcAi//H/97/lf8dAH8AKwCJAGkAr/9l/6L/1v+n/yAAKwA7AIoA9//J/w8Azf+e/9n/Ff9z/uT+If8Z/xP/PP+M/4//WP9d/+X/OwABAFUAaAC1ADkBwQCbAPIA6ADGAIQAZgBfAP7/4f8SAHwAhgAhAM7/U/9C/7f+R/5a/nv+1v7l/qj+jP4D/zD/pP7B/j3/cv9p/8T/AwAOAPT/zP/l//j/2v8qAE4A6P8eAGkAcwB0AHIAMgCs/2v/1v6a/tz+A/8r/1P/Qv9o/4z/Zv95/3T/4v8kAAkAAQC0/4r/zP8tAE4AvgCdAcoB9wG4AUIBcwGAAW8BQgEKAeAAswCdAOoAwQDCANwAwQAsAUQBmgDu/+n/nv9l/3f/vP+s/6j/ef8e/3H/cf8y/4r/Xf8p/zb/Nv8J/zn/D//U/mr/NP8v/3f/xP/B//b+Gf9V/0z/sf9t/1b/rP+o/4D/IgC/AOIA/QDFAIgAjQDRALEArwDqACkBoQA1ACMARwC2AKkAVADu/7X/n/9m/0b/4f5I/6r/lP9f/wX/Bf/l/k7/Wv9V/7b/2/86ALcA4gCdAPn/m/+e/8b/IAAcAOT/EAAuAEgAqv8x/z//of/l/8L/hP9H//z+9P5u/1f/d/+N/5f/NgCCAPkAMAEXASEBRgFrAegBOgItAngCJgIPAtgBWQFjATgBCAE3AS4BBgGAAU4BCAFCATQB5gBPAOf/4v/u//P/fP/2/l7+Af5E/kr+f/7I/sL+zv41/yv//f5W/z7/aP8SAIIAcQAwAO//vv+ZAAQBugDAAOIAmwCPAJsAOwB1AFAAxv+6//3/9v/J/wkAOwAkAB8Az//Q/+j/vP91/zP/+f7B/ur+2/66/jP/aP/N/wUAo/+b/8T/6/8YAE0AbwBjAEIA1/9w/3H/lP/k/4wA3QAUARQBCgHbAM4A1ADqAJwA9/+e/2z/1v85ACgADgA3AC8A/P/t/8f/PAASALj/AP/J/tT+Tv+8/5f/zv/j/wUACwA/AIYASwB7AKoAPwBlAH4AzQAGAYQB1AG4Ac0BcwH4AIEAKQBNADMAKAAUAOD//P+8/3P/tf+j/17/Yf/+/uP+Ov8j/wD/Gv83/5H/xP/I/8v/w/8sAIsA4gDLAK0AiwD5/8P/ZwDXAM0AfAABAMP/ef/N/p3+bf6x/vb/FgAHAKz/Jf8g/1f/mP9y/4j/jv9V/4r/pP+t/6T/ov/P/x4AOwA5AP//uP+3/9b/cACVAHIAkwApAPz/iQChAAcBCgHyAPAA7AAdARQBAwETAXsBYwHzAK4AQgD2/3YAbgApAIMAhgAwABYAIwBwANkAkAAlAMn/bv+Z/wj/z/4x/2X/mv8Q/5n+J/4n/p7+tf9HAD0AkgBpADcAigCVAFkAnQCTAJYABwEgAeAAsgCwANkAKgFtATQB6QBTAL//0/8lANn/1f9z//v+/v77/rb+vf70/vn++/5P/5D/6P/5/9P/zP8EACoANQARAN3/xf+m/6D/ef+P/8H/vf/l/87/X/8i/4r/GwA5AAwAFwCfAMcA4/8FADAAdP+C/+v/1P8VAJj/Tv8C/xf/OwCWANYA2ACbAOYANgF+AYQBOgEeAdUAkQDAAK8AYgABAB//5f4y//H+D//0/tD+zf5+/jX+VP6Q/vL+b/8dAJ4ArgAqACoASQBOAGEAZwAyALz/uP+s/zz/Z/97/3T/3f/6/8//7P8JADUAXAAKAc8BqQH2AGQA+f8YAF4AZQDg/zP/1f66/vD+LP+w/9H/+//8/9f/EgABACcADgAGABwAFQDb/4//Wf89/9X+2P43/13/cv9+/yz/Ef9a/7X/zf/P/wQAGgBlAG0ANAD6/8//if+e/6D/uP+U//v+kf5B/m/+E/+A/xIAKQC4/9v/tAAPAbkA+gBkAYoBbwHWAFkABgDQ/3UA0wAYAb8APwAfAO7//P8PAHsA7wA2AYgBKwGOAFkA/f/u/8P/tP+H/3P/9f60/uf+6/4T/0b/1//V/47/lP+b/7L/z//Y/2YA/QAkAegAmQBDAEAAfgDzAM4ARQCk/4P/YQC1ALIAmgArAAAA/P+0/53/I/80/+r/WADF/zX/sP4H/kr+xv5B/4///v4I/gD+1f0x/rj+Gf+D/57/AQD8/+n/1v/b/ykA6v/d/7z/rf/9//r/zf/R/8v/qv/r/+X/0P8HAA8AOwCQAOgAOQEzARcBpwAHAEsAvwDyAJAACgCq/wAAbACKANIA0ACUAIkACQAQAPj/ev9I/6D/CgCl/+f+xP6w/s3+o/8MACoAJwCK/7L/4v/i/wsA8/8jAP7/3/9NABYAHwDL/2z/Tv9s/+L/Kf81/9/+7P5+/xL/KP8Z/+H+ev+g/xkAdQCPAIsArwC0AKYA6gDpAFcBYAFvASYBwgBwAKwAqQBVACgAoP9O/yj/Q//x/13/p/7e/s7+tP5L/g/+Yv6g/i//EQAFABYArf9m/1H/yf81AFIAnwBTADIAcAB4AIAAMwBg//j+DP+A/wYADwC1/27/q//T//f/UQBDAEcAUAD3/yUAFgBGAHwAXwCgAH0AbACiALAAKACh/53/h/+d/9z/LQDHAIYACwA2ADEANQDq/yUAfwCCAO7/p/+Z/3H/+v/JACsBOwF+APj/xv8EACIAMwCzAJcAgwB9AFMA1ADFAMUARABc/4D/nv/j/wQApv9C//r/fACCAFEA9v+I/5j/wP8TANT/Y/9Z/23/d/+Q/97/1f/S/1v/+f+xADcAcgBuAJIAtABrAPMAHAGkAC4AFwCUAGcAVP/X/qX+Z/4E/2H/VP8G/zr+I/5u/pz+uf7Z/gH/Zv/e/7z/x//t/xUAiwCrAHAAUwCdAM8AlQCRAGEAZADsAAkBXwAiALT/uv9KACQAKwBhAMIAowB/AGEAOQAcANj/2//w/30AegC3AKkAQgBjAFwA9P9S/zH/tv/q/4P/2P7o/uT+rf4M/zT/NP9A//v++/49/1P/8/8HANT/3P/v/wcAoQALAe8ApwBKAIoAVgABAMD//P9UAC4ADgBLALwArwBMAFcA0gCxAGgA/f9JAFEABAAuAOf/L/+C/ln+uv5F/+T/9//W/2b/of51/m7+av6A/gf/kv+P/37/bf9C/wf/pv/f/zwAGwBi/53/pf+k/6L/y/+0/wsAuAAYAQIBgQD8/5QA8QCDAEgAEABmAJ4AUwDX/+L/nP+G/3v/rf/b/2H/Bf/l/mv/VgCtAIEAPADD/4r/eP+0//H/5f+6/7P/0v+W/7b/+f8fABEAPwDsAOAApgAaABQAaQCZAKEBtQEjAWkAZACuAL4A1ABXACIArQCPAFIAKgBv/4f/s/+g/6//u//k/+j/7//k/6f/If/s/rr+vP7b/vT+Pf8q/xH/tf8tAGQAygDtAL4AkwCDAHYAmgB9ACMAHQCy/zj//P4J/4X+KP6M/hf/2v7G/sf+e/6G/j//3v/5/+7/t/+n/yYAOQDy/9L/pv/Q/6f/Wv8q/3//p/+Y/43/a//l/xgAjQDpAMoA2ADzALsA9gBTAfIAiwB4AIYA3wBEAQoBiABfACgA6f9iAK0A0gDoAM0A/QDKAD4Amf+m/2z/mP6P/vr+Sf8F/w//nf+h/3wA/wDHANEAZQBjAK4AqgB1ACoAOwAVANb/1P9q/67/dQCiAIMADwDf//j/+f9ZAGoAcAC3AGsALACVAMEAqgBbAOX/1v/q/ycAJACr/4z/G/8N/2T/Hf9U/4j/iP+I/63/yv8lAFUAx/8kAA0AkP87/5f+1f46//r/wADIAIEAFgDZ/+7/qP87/yL/Wf/J//T/HgDL/0z/vf8PABMAOQBgAKIAZgBPACEACABmAKIAcQCpALMAlgC6AJUAHACu/8b/7v8ZAF0AfgBVAAcA6P9FAJMAQQBPAKAAgABMACAAVQADAD7/7v7L/tD+Gf+q/7v/if82/wj/Yf+U/wEASgATABUADgAtAHEAuQAaAbkAaQCkANQA5ADPADcBmQGOAb0BhgEQAdwAaAAUACsANAD4/6f/V//S/tz9ef2m/Z39y/0C/kD+jP4X/r/9Lv5b/nT+3/5v/2z/Nf/5/hb/D/9r/y0AIwA4AAoADQB/AIAAVQCmALUAJgFiARgBNAE8ATsBYQFGARUBngBwANwAyACmAFMAWwB8AEAAcgCjAJkAWQAGANn/LQB8AJAAlQCPACMAuf/O/9L/cf/6/tT+Pf/I/+j/w//v/wMA6v/u/+L/EgDB////DwAdAJMAgABXAPb/3f+O/6n/o/90//D/hP9M/6v/uP/J//n//v/E/6L/yf/1/xsAWAB5AJcAiwCFALz/qP9CAB0AigDZAMEAoQC/ALgAQwC5ANEANwBjADMA8f8QAM3/tv/R/14A2P9i/wUAyP/R/7L/Qv+c/97/ZACDAF0AdwDi/6L/vf/U/+7/w//f/0QAcQC6AJ0ASgBFAPP/IgBHACIAcwCRAJ4AHACi/6T/gP86/6D/uf+0/8L/Sv82/+P/p/8H/zH/ZP/D/+3/8/85ADkAQwASACEA9v96/9r/u/9P/wz/Uf87/9D+lf5J/nT+n/4I/y7/Sv+c/0X/V/96/0b/rv/x/wIA5v8OAB0ADQBwAFEAwwAEAVwAHQD+/zIALgDK/2IAdgB3AIMANAAvAPj/CgCiAOgAOgGqAUMBWAFTATsBHwHhAAMBngDhAEYB5QC+ABMAmf9g/5b/0/+3/xkA1f/j/1EAOAD8/9v/BABKALMAoQDVACYBmABvAMAAtACCALEA9wCpAJQAVQAoAAcAP/8e//b+3/5t/2P/aP+n/8P/wf8AAFsA+P+UAKgAFgB4AHQAkACcAM4A2wDHAE4B6QC0AEoAZQBaAN//7ACNAHQAAgFRATABCwH8AKgARwFEARsBzADyABkARP/l/2L/bv9l/yz/IP80/7v/lf8GAGL/Hv+h/1b/9P8d/y//AABB/y4AVwBKAJAA+/8NAMn/xv+m/8n/BQDa/5X/Iv+Y/2X/RP8PAFgAqQDSAOAA/QAIAfwA1wAHAa4AmgCwAKAAkABDAGMAJwDN/z//dv/p/9j/vv+Z/6z/e//b/+n/8/8EACMASgAxAMsArACuAFoALgCTANcAlQGCAagBSgG9AJsAEQCPAD4ALACEABYASAAEAIAAtgDz/zcAbQBvAKkAmwCgAJ4AmQCWAAAALwBvAAsACwDS/2//Ov/R/tz+Nf8Q/w//FP9k/10AgQDXACIB+AADAg==\" type=\"audio/x-wav\" />\n",
       "                    Your browser does not support the audio element.\n",
       "                </audio>\n",
       "              "
      ],
      "text/plain": [
       "<IPython.lib.display.Audio object>"
      ]
     },
     "metadata": {},
     "output_type": "display_data"
    },
    {
     "data": {
      "text/html": [
       "\n",
       "                <audio controls=\"controls\" autoplay=\"autoplay\">\n",
       "                    <source src=\"data:audio/x-wav;base64,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\" type=\"audio/x-wav\" />\n",
       "                    Your browser does not support the audio element.\n",
       "                </audio>\n",
       "              "
      ],
      "text/plain": [
       "<IPython.lib.display.Audio object>"
      ]
     },
     "metadata": {},
     "output_type": "display_data"
    },
    {
     "data": {
      "text/html": [
       "\n",
       "                <audio controls=\"controls\" autoplay=\"autoplay\">\n",
       "                    <source src=\"data:audio/x-wav;base64,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\" type=\"audio/x-wav\" />\n",
       "                    Your browser does not support the audio element.\n",
       "                </audio>\n",
       "              "
      ],
      "text/plain": [
       "<IPython.lib.display.Audio object>"
      ]
     },
     "metadata": {},
     "output_type": "display_data"
    },
    {
     "data": {
      "text/html": [
       "\n",
       "                <audio controls=\"controls\" autoplay=\"autoplay\">\n",
       "                    <source src=\"data:audio/x-wav;base64,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\" type=\"audio/x-wav\" />\n",
       "                    Your browser does not support the audio element.\n",
       "                </audio>\n",
       "              "
      ],
      "text/plain": [
       "<IPython.lib.display.Audio object>"
      ]
     },
     "metadata": {},
     "output_type": "display_data"
    },
    {
     "data": {
      "text/html": [
       "\n",
       "                <audio controls=\"controls\" autoplay=\"autoplay\">\n",
       "                    <source src=\"data:audio/x-wav;base64,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\" type=\"audio/x-wav\" />\n",
       "                    Your browser does not support the audio element.\n",
       "                </audio>\n",
       "              "
      ],
      "text/plain": [
       "<IPython.lib.display.Audio object>"
      ]
     },
     "metadata": {},
     "output_type": "display_data"
    },
    {
     "data": {
      "text/html": [
       "\n",
       "                <audio controls=\"controls\" autoplay=\"autoplay\">\n",
       "                    <source src=\"data:audio/x-wav;base64,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\" type=\"audio/x-wav\" />\n",
       "                    Your browser does not support the audio element.\n",
       "                </audio>\n",
       "              "
      ],
      "text/plain": [
       "<IPython.lib.display.Audio object>"
      ]
     },
     "metadata": {},
     "output_type": "display_data"
    },
    {
     "data": {
      "text/html": [
       "\n",
       "                <audio controls=\"controls\" autoplay=\"autoplay\">\n",
       "                    <source src=\"data:audio/x-wav;base64,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\" type=\"audio/x-wav\" />\n",
       "                    Your browser does not support the audio element.\n",
       "                </audio>\n",
       "              "
      ],
      "text/plain": [
       "<IPython.lib.display.Audio object>"
      ]
     },
     "metadata": {},
     "output_type": "display_data"
    },
    {
     "data": {
      "text/html": [
       "\n",
       "                <audio controls=\"controls\" autoplay=\"autoplay\">\n",
       "                    <source src=\"data:audio/x-wav;base64,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\" type=\"audio/x-wav\" />\n",
       "                    Your browser does not support the audio element.\n",
       "                </audio>\n",
       "              "
      ],
      "text/plain": [
       "<IPython.lib.display.Audio object>"
      ]
     },
     "metadata": {},
     "output_type": "display_data"
    }
   ],
   "source": [
    "int2label = get_int2label(wanted_only=False)\n",
    "X, y = next(train_gen)\n",
    "for j in range(X.shape[0]):\n",
    "    label = int2label[y[j].argmax()]\n",
    "    if label == 'house':\n",
    "        data = X[j, :].squeeze()\n",
    "        float_audio(data, autoplay=True)\n",
    "        sleep(1)"
   ]
  },
  {
   "cell_type": "markdown",
   "metadata": {},
   "source": [
    "## ap.summary()"
   ]
  },
  {
   "cell_type": "code",
   "execution_count": null,
   "metadata": {},
   "outputs": [],
   "source": [
    "wanted_words = get_classes(wanted_only=True)\n",
    "print(wanted_words)\n",
    "labels2int = {v: k for k, v in ap.word_to_index.items()}"
   ]
  },
  {
   "cell_type": "code",
   "execution_count": null,
   "metadata": {},
   "outputs": [],
   "source": [
    "!rm -rf data/train/audio/_silence_\n",
    "!mkdir data/train/audio/_silence_"
   ]
  },
  {
   "cell_type": "code",
   "execution_count": null,
   "metadata": {
    "scrolled": true
   },
   "outputs": [],
   "source": [
    "# save silence samples to '_silence_'\n",
    "disp_count = 0\n",
    "for i in range(100):\n",
    "    print(disp_count)\n",
    "    if disp_count > 100:\n",
    "        break\n",
    "    X, y = next(train_gen)\n",
    "    y = y.argmax(axis=-1)\n",
    "    for j in range(len(y)):\n",
    "        if y[j] == 0:\n",
    "            print(labels2int[y[j]])\n",
    "            out_fn = jp('data/train/audio/_silence_/%05d.wav' % disp_count)\n",
    "            data = np.int16(X[j, :] * 32768)\n",
    "            wf.write(out_fn, 16000, data)\n",
    "            # float_audio(X[j, :], autoplay=True)\n",
    "            # sleep(1)\n",
    "            disp_count += 1"
   ]
  },
  {
   "cell_type": "markdown",
   "metadata": {},
   "source": [
    "### Load model and check where we go wrong in the validation set"
   ]
  },
  {
   "cell_type": "code",
   "execution_count": null,
   "metadata": {},
   "outputs": [],
   "source": [
    "model = speech_model(\n",
    "  'conv_1d_time',\n",
    "  model_settings['fingerprint_size'] if compute_mfcc else sample_rate,\n",
    "  num_classes=model_settings['label_count'])\n",
    "model.load_weights('checkpoints_014/ep-039-loss-0.173.hdf5')\n",
    "disp_count = 0\n",
    "for i in range(ap.set_size('validation') // batch_size):\n",
    "    if disp_count >= 10:\n",
    "        break\n",
    "    X, y_true = next(val_gen)\n",
    "    y_true = y_true.argmax(axis=-1)\n",
    "    y_pred = model.predict(X).argmax(axis=-1)\n",
    "    for j in range(len(y_true)):\n",
    "        if y_true[j] != y_pred[j] and np.random.rand() > 0.5:\n",
    "            l_true = labels2int[y_true[j]]\n",
    "            l_pred = labels2int[y_pred[j]]\n",
    "            print(\"Pred: %s, Actual: %s\" % (l_pred, l_true))\n",
    "            float_audio(X[j, :], autoplay=True)\n",
    "            sleep(1)\n",
    "            disp_count += 1"
   ]
  },
  {
   "cell_type": "markdown",
   "metadata": {},
   "source": [
    "# Create \"unknown\" words\n",
    "### Just reverse some of the unwanted words. Reversing the wanted words might actually cause some problems when using global pooling in the end?"
   ]
  },
  {
   "cell_type": "code",
   "execution_count": null,
   "metadata": {},
   "outputs": [],
   "source": [
    "print(exclude_words)"
   ]
  },
  {
   "cell_type": "code",
   "execution_count": null,
   "metadata": {},
   "outputs": [],
   "source": [
    "wanted_words = get_classes(wanted_only=True)\n",
    "# wow reversed is wow! one reversed sounds like no!\n",
    "# dog vs go :P\n",
    "exclude_words = wanted_words + ['_background_noise_', 'wow', 'one', 'dog']"
   ]
  },
  {
   "cell_type": "code",
   "execution_count": null,
   "metadata": {},
   "outputs": [],
   "source": [
    "fns = sorted(glob(jp('data', 'train', 'audio', '*', '*.wav')))\n",
    "print(len(fns))\n",
    "fns = [fn for fn in fns if fn.split('/')[-2] not in exclude_words]\n",
    "print(len(fns))"
   ]
  },
  {
   "cell_type": "code",
   "execution_count": null,
   "metadata": {},
   "outputs": [],
   "source": [
    "new_classes = list(set([fn.split('/')[-2] for fn in fns]))\n",
    "# new_classes.remove('_silence_')\n",
    "new_classes = ['new_' + new_class[::-1] for new_class in new_classes]\n",
    "print(new_classes)\n",
    "for new_class in new_classes:\n",
    "    new_dir = jp('data/train/audio', new_class)\n",
    "    if os.path.exists(new_dir):\n",
    "        rmtree(new_dir)\n",
    "    os.mkdir(new_dir)\n",
    "    print(\"created %s\" % new_dir)"
   ]
  },
  {
   "cell_type": "code",
   "execution_count": null,
   "metadata": {},
   "outputs": [],
   "source": [
    "np.random.shuffle(fns)\n",
    "# fn_selection = np.random.choice(fns, size=5000, replace=False)\n",
    "fn_selection = fns"
   ]
  },
  {
   "cell_type": "code",
   "execution_count": null,
   "metadata": {},
   "outputs": [],
   "source": [
    "# there (often) 5 times the same speaker said the same word\n",
    "# \n",
    "# ./eight/5fadb538_nohash_4.wav\n",
    "# ./eight/5fadb538_nohash_3.wav\n",
    "# ./eight/5fadb538_nohash_2.wav\n",
    "# ./eight/5fadb538_nohash_1.wav\n",
    "# ./eight/5fadb538_nohash_0.wav\n",
    "\n",
    "counter = {cn: 0 for cn in new_classes}\n",
    "for fn in tqdm(fn_selection):\n",
    "    cn = 'new_' + fn.split('/')[-2][::-1]\n",
    "    sample_rate, data = wf.read(fn)\n",
    "    bn = os.path.basename(fn)\n",
    "    dst = jp('data', 'train', 'audio', cn,\n",
    "             \"%06d.wav\" % counter[cn])\n",
    "    counter[cn] += 1\n",
    "    data = data[::-1]\n",
    "    wf.write(dst, sample_rate, data)"
   ]
  },
  {
   "cell_type": "markdown",
   "metadata": {},
   "source": [
    "# Take a look at the noise files"
   ]
  },
  {
   "cell_type": "code",
   "execution_count": null,
   "metadata": {},
   "outputs": [],
   "source": [
    "background_files = sorted(glob(jp('data', 'train', 'audio', '_background_noise_', '*.wav')))\n",
    "background_volumne = 0.8\n",
    "for fn in background_files[5:6]:\n",
    "    print(fn)\n",
    "    rate, data = wf.read(fn)\n",
    "    if len(data) > 16000:\n",
    "        data = data[:16000]\n",
    "    data = np.float32(data) / 32768\n",
    "    data *= background_volumne\n",
    "    print(data.max())\n",
    "    wf.write('tmp.wav', 16000, np.int16(data * 32767))\n",
    "    plot_audio(data, normed=True)\n",
    "    display(Audio('tmp.wav', autoplay=True))\n",
    "    sleep(1)"
   ]
  },
  {
   "cell_type": "code",
   "execution_count": null,
   "metadata": {},
   "outputs": [],
   "source": [
    "?wf.write"
   ]
  },
  {
   "cell_type": "markdown",
   "metadata": {},
   "source": [
    "# Take a look at \"happy\" files"
   ]
  },
  {
   "cell_type": "code",
   "execution_count": null,
   "metadata": {},
   "outputs": [],
   "source": [
    "background_files = sorted(glob(jp('data', 'train', 'audio', 'happy', '*.wav')))\n",
    "volumne = 10**1\n",
    "for fn in background_files[5:6]:\n",
    "    print(fn)\n",
    "    rate, data = wf.read(fn)\n",
    "    if len(data) > 16000:\n",
    "        data = data[:16000]\n",
    "    data = np.float32(data) / 32768\n",
    "    data *= volumne\n",
    "    data = np.clip(data, -1, 1)\n",
    "    print(data.max())\n",
    "    wf.write('tmp.wav', 16000, np.int16(data * 32767))\n",
    "    plot_audio(data, normed=True)\n",
    "    display(Audio('tmp.wav', autoplay=True))\n",
    "    sleep(1)"
   ]
  },
  {
   "cell_type": "markdown",
   "metadata": {},
   "source": [
    "# Majority vote submission"
   ]
  },
  {
   "cell_type": "code",
   "execution_count": null,
   "metadata": {},
   "outputs": [],
   "source": [
    "import pandas as pd\n",
    "from os.path import join as jp\n",
    "from shutil import copy\n",
    "from tqdm import tqdm_notebook as tqdm\n",
    "\n",
    "sub_fns = ['submission_011.csv', 'submission_017.csv',\n",
    "           'submission_018.csv', 'submission_014.csv',\n",
    "           'submission_020.csv']\n",
    "subs = [pd.read_csv(sub_fn) for sub_fn in sub_fns]\n",
    "\n",
    "fname, label = [], []\n",
    "clear_majority = 0\n",
    "for i in tqdm(range(subs[0].shape[0])):\n",
    "    fname.append(subs[0].loc[i, 'fname'])\n",
    "    label_counts = {}\n",
    "    for sub in subs:\n",
    "        ll = sub.loc[i, 'label']\n",
    "    if ll in label_counts:\n",
    "        label_counts[ll] += 1\n",
    "    else:\n",
    "        label_counts[ll] = 1\n",
    "\n",
    "    maj_label = max(label_counts, key=label_counts.get)\n",
    "    if label_counts[maj_label] > 2:\n",
    "        clear_majority += 1\n",
    "    else:\n",
    "        # in trouble save the wav files!\n",
    "        src = jp('data', 'test', 'audio', fname[-1])\n",
    "        dst = jp('split_decision', str(label_counts) + fname[-1])\n",
    "        copy(src, dst)\n",
    "    # resolve tie by chosing 'unknown' or 'silence' if available\n",
    "    if 'unknown' in label_counts and 'silence' in label_counts:\n",
    "        maj_label = 'silence'\n",
    "    elif 'unknown' in label_counts:\n",
    "        maj_label = 'unknown'\n",
    "    elif 'silence' in label_counts:\n",
    "        maj_label = 'silence'\n",
    "    label.append(maj_label)\n",
    "\n",
    "pd.DataFrame({'fname': fname, 'label': label}).to_csv(\n",
    "    'majority_sub_011.csv', index=False)\n",
    "print(\"Done! Got a clear majority for %d of %d samples.\"\n",
    "      % (clear_majority, subs[0].shape[0]))\n"
   ]
  },
  {
   "cell_type": "markdown",
   "metadata": {},
   "source": [
    "# Generate more background noise\n",
    "## The idea is to take the reversed words and average some of them up to generate ~30s tracks"
   ]
  },
  {
   "cell_type": "code",
   "execution_count": null,
   "metadata": {},
   "outputs": [],
   "source": [
    "# unwanted words reversed\n",
    "fns = sorted(glob(jp('data', 'train', 'audio', 'unwrev', '*.wav')))\n",
    "print(len(fns))"
   ]
  },
  {
   "cell_type": "code",
   "execution_count": null,
   "metadata": {},
   "outputs": [],
   "source": [
    "louder = 16.0  # make it louder!\n",
    "sample_secs = 30\n",
    "total_new = 0\n",
    "num_noise_tracks = 400\n",
    "noise_track = []\n",
    "noise_track_counter = 0\n",
    "sample_track = []\n",
    "sample_counter = 0\n",
    "for fn in tqdm(fns):\n",
    "    sample_rate, data = wf.read(fn)\n",
    "    data = np.float32(data) / 32768\n",
    "    assert sample_rate == 16000\n",
    "    data = center_pad(data)\n",
    "    shift = np.random.randint(16000)\n",
    "    data = np.roll(data, shift)\n",
    "    sample_track.append(data)\n",
    "    sample_counter += 1\n",
    "    if sample_counter == sample_secs:\n",
    "        noise_track.append(np.concatenate(sample_track))\n",
    "        sample_track = []\n",
    "        sample_counter = 0\n",
    "        noise_track_counter += 1\n",
    "        if noise_track_counter == num_noise_tracks:\n",
    "            noise_track = np.array(noise_track)\n",
    "            noise_track = np.mean(noise_track, axis=0) * louder\n",
    "            noise_track = np.int16(noise_track * 32768)\n",
    "            out_fn = jp('data', 'train', 'audio', '_background_noise_', 'silence_please_%04d.wav' % total_new)\n",
    "            wf.write(out_fn, 16000, noise_track)\n",
    "            print(out_fn)\n",
    "            display(Audio(out_fn))\n",
    "            noise_track = []\n",
    "            noise_track_counter = 0\n",
    "            total_new += 1\n",
    "            if total_new == 2:\n",
    "                break"
   ]
  },
  {
   "cell_type": "markdown",
   "metadata": {},
   "source": [
    "# How does foreground with mixed background sound?"
   ]
  },
  {
   "cell_type": "code",
   "execution_count": null,
   "metadata": {},
   "outputs": [],
   "source": [
    "background_noise_fns = sorted(glob('data/train/audio/_background_noise_/*.wav'))\n",
    "idx = -3\n",
    "print(background_noise_fns[idx])\n",
    "display(Audio(background_noise_fns[idx], autoplay=True))"
   ]
  },
  {
   "cell_type": "code",
   "execution_count": null,
   "metadata": {},
   "outputs": [],
   "source": [
    "foreground_fns = sorted(glob('data/train/audio/go/*.wav'))\n",
    "for i in range(3):\n",
    "    foreground_fn = np.random.choice(foreground_fns)\n",
    "    foreground = normalized_read(foreground_fn)\n",
    "    background_fn = np.random.choice(background_noise_fns)\n",
    "    # background_fn = background_noise_fns[-3]\n",
    "    print(background_fn)\n",
    "    background = normalized_read(background_fn)\n",
    "    mixed = np.random.uniform(0.8, 1.2) * foreground + 0.3 * background  # np.random.uniform(0, 2)\n",
    "    mixed = np.clip(mixed, -1, 1)\n",
    "    float_audio(mixed, autoplay=True)\n",
    "    plot_audio(mixed, normed=True)\n",
    "    sleep(1)"
   ]
  },
  {
   "cell_type": "markdown",
   "metadata": {},
   "source": [
    "# How do the models perform on the validation set?"
   ]
  },
  {
   "cell_type": "code",
   "execution_count": null,
   "metadata": {},
   "outputs": [],
   "source": [
    "from keras import backend as K\n",
    "from keras.callbacks import ModelCheckpoint, LearningRateScheduler\n",
    "from keras.callbacks import TensorBoard\n",
    "from model import speech_model, prepare_model_settings\n",
    "from input_data import AudioProcessor, prepare_words_list\n",
    "from keras.models import load_model\n",
    "from classes import get_classes\n",
    "\n",
    "\n",
    "def data_gen(audio_processor, sess,\n",
    "             batch_size=128,\n",
    "             background_frequency=0.5, background_volume_range=0.2,\n",
    "             foreground_frequency=1.0, foreground_volume_range=3.0,\n",
    "             time_shift=(100.0 * 16000.0) / 1000,\n",
    "             mode='validation'):\n",
    "    offset = 0\n",
    "    if mode != 'training':\n",
    "        background_frequency = 0.0\n",
    "        background_volume_range = 0.0\n",
    "        foreground_frequency = 0.0\n",
    "        foreground_volume_range = 0.0\n",
    "        time_shift = 0\n",
    "\n",
    "    while True:\n",
    "        X, y = audio_processor.get_data(\n",
    "            how_many=batch_size, offset=0 if mode == 'training' else offset,\n",
    "            background_frequency=background_frequency,\n",
    "            background_volume_range=background_volume_range,\n",
    "            foreground_frequency=foreground_frequency,\n",
    "            foreground_volume_range=foreground_volume_range,\n",
    "            time_shift=time_shift, mode=mode, sess=sess)\n",
    "        offset += batch_size\n",
    "        if offset > ap.set_size(mode) - batch_size:\n",
    "            offset = 0\n",
    "        yield X, y\n",
    "\n",
    "\n",
    "sess = K.get_session()\n",
    "data_dirs = ['data/train/audio']\n",
    "add_pseudo = False\n",
    "if add_pseudo:\n",
    "    data_dirs.append('data/pseudo/audio')\n",
    "compute_mfcc = False\n",
    "sample_rate = 16000\n",
    "batch_size = 64\n",
    "classes = get_classes(wanted_only=False)\n",
    "model_settings = prepare_model_settings(\n",
    "  label_count=len(prepare_words_list(classes)), sample_rate=sample_rate,\n",
    "  clip_duration_ms=1000, window_size_ms=30.0, window_stride_ms=10.0,\n",
    "  dct_coefficient_count=40)\n",
    "ap = AudioProcessor(\n",
    "  data_dirs=data_dirs,\n",
    "  silence_percentage=15.0,\n",
    "  unknown_percentage=7.0,\n",
    "  wanted_words=classes,\n",
    "  validation_percentage=10.0,\n",
    "  testing_percentage=0.0,\n",
    "  model_settings=model_settings,\n",
    "  compute_mfcc=compute_mfcc)\n",
    "train_gen = data_gen(ap, sess, batch_size=batch_size, mode='training')\n",
    "val_gen = data_gen(ap, sess, batch_size=batch_size, mode='validation')"
   ]
  },
  {
   "cell_type": "code",
   "execution_count": null,
   "metadata": {},
   "outputs": [],
   "source": [
    "model_fns = [\n",
    "    'checkpoints_019/ep-022-vl-0.2916.hdf5',\n",
    "    'checkpoints_018/ep-049-vl-0.2185.hdf5',\n",
    "    'checkpoints_017/ep-036-vl-0.1969.hdf5'\n",
    "]\n",
    "\n",
    "models = []\n",
    "for model_fn in model_fns:\n",
    "    model = load_model(model_fn)\n",
    "    models.append((model_fn, model))"
   ]
  },
  {
   "cell_type": "code",
   "execution_count": null,
   "metadata": {},
   "outputs": [],
   "source": [
    "# evaluate on validation set\n",
    "for model in models:\n",
    "    out = model.evaluate_generator(\n",
    "        val_gen, steps=ap.set_size('validation') // batch_size)\n",
    "    print(model_fn, out)"
   ]
  },
  {
   "cell_type": "markdown",
   "metadata": {},
   "source": [
    "# Predict samples with models"
   ]
  },
  {
   "cell_type": "code",
   "execution_count": null,
   "metadata": {},
   "outputs": [],
   "source": [
    "len(ap.words_list), len(models)"
   ]
  },
  {
   "cell_type": "code",
   "execution_count": null,
   "metadata": {},
   "outputs": [],
   "source": [
    "X, y = next(val_gen)\n",
    "sample_idx = 10\n",
    "float_audio(X[sample_idx, :], autoplay=True)\n",
    "out_probs = []\n",
    "for model_fn, model in models:\n",
    "    y_preds = model.predict(X)\n",
    "    out_probs.append((model_fn, y_preds[sample_idx]))\n",
    "\n",
    "for fn, pred in out_probs:\n",
    "    plt.figure()\n",
    "    plt.title(fn)\n",
    "    plt.bar(range(len(pred)), pred)\n",
    "    plt.xticks(range(len(pred)), ap.words_list, rotation='vertical')"
   ]
  },
  {
   "cell_type": "markdown",
   "metadata": {},
   "source": [
    "# Wrong ones"
   ]
  },
  {
   "cell_type": "code",
   "execution_count": null,
   "metadata": {},
   "outputs": [],
   "source": [
    "max_plots = 2\n",
    "plot_c = 0\n",
    "model = models[-1][-1]\n",
    "while plot_c < max_plots:\n",
    "    X, y = next(val_gen)\n",
    "    y_preds = model.predict(X)\n",
    "    for i, y_pred in enumerate(y_preds):\n",
    "        if plot_c >= max_plots:\n",
    "            break\n",
    "        if y_pred.argmax() != y[i].argmax():\n",
    "            float_audio(X[i, :], autoplay=True)\n",
    "            sleep(1)\n",
    "            plt.figure()\n",
    "            plt.title(\"Pred: %s, Actual: %s\"\n",
    "                      % (ap.words_list[y_pred.argmax()], ap.words_list[y[i].argmax()]))\n",
    "            plt.bar(range(len(y_pred)), y_pred)\n",
    "            plt.xticks(range(len(y_pred)), ap.words_list, rotation='vertical')\n",
    "            plot_c += 1"
   ]
  },
  {
   "cell_type": "markdown",
   "metadata": {},
   "source": [
    "# What happens if we just feed plain silence e.g. all 0?\n",
    "### Looks good!"
   ]
  },
  {
   "cell_type": "code",
   "execution_count": null,
   "metadata": {},
   "outputs": [],
   "source": [
    "X = np.zeros((2, 16000), dtype=np.float32)\n",
    "pred = model.predict(X)\n",
    "float_audio(X[0, :], autoplay=True)\n",
    "sleep(1)\n",
    "plt.figure()\n",
    "plt.title(\"Silence pred\")\n",
    "plt.bar(range(len(pred[0])), pred[0])\n",
    "_ = plt.xticks(range(len(pred[0])), ap.words_list, rotation='vertical')"
   ]
  },
  {
   "cell_type": "markdown",
   "metadata": {},
   "source": [
    "# How about the noise files?"
   ]
  },
  {
   "cell_type": "code",
   "execution_count": null,
   "metadata": {},
   "outputs": [],
   "source": [
    "model = load_model(model_fns[-1])"
   ]
  },
  {
   "cell_type": "code",
   "execution_count": null,
   "metadata": {},
   "outputs": [],
   "source": [
    "noise_fns = glob(jp('data/train/audio/_background_noise_/*.wav'))\n",
    "X = []\n",
    "for noise_fn in noise_fns:\n",
    "    X.append(normalized_read(noise_fn))\n",
    "X = np.float32(X)\n",
    "# change volumne\n",
    "X *= 0.2\n",
    "y_pred = model.predict(X)\n",
    "for i in range(X.shape[0]):\n",
    "    # float_audio(X[0, :], autoplay=True)\n",
    "    # sleep(1)\n",
    "    plt.figure()\n",
    "    plt.title(\"Noise pred: %s\" % noise_fns[i])\n",
    "    plt.bar(range(len(y_pred[i])), y_pred[i])\n",
    "    _ = plt.xticks(range(len(y_pred[i])), ap.words_list, rotation='vertical')"
   ]
  },
  {
   "cell_type": "markdown",
   "metadata": {},
   "source": [
    "# Submission with averaged probabilities"
   ]
  },
  {
   "cell_type": "code",
   "execution_count": 2,
   "metadata": {},
   "outputs": [
    {
     "name": "stdout",
     "output_type": "stream",
     "text": [
      "[ 1.00000002  1.00000001  1.00000004  1.00000003  1.00000003  1.\n",
      "  0.99999995  1.          0.99999998  0.99999997]\n",
      "(158538, 32)\n"
     ]
    }
   ],
   "source": [
    "sub_fns = [\n",
    "    'submission_091_leftloud_tta.csv',\n",
    "    'submission_094_leftloud_tta.csv']\n",
    "sub_fns = [fn.replace('.csv', '_all_labels_probs.csv')\n",
    "           for fn in sub_fns]\n",
    "\n",
    "subs = []\n",
    "for sub_fn in sub_fns:\n",
    "    subs.append(pd.read_csv(sub_fn))\n",
    "\n",
    "wanted_words = prepare_words_list(get_classes(wanted_only=True))\n",
    "int2label = get_int2label(wanted_only=False)\n",
    "label2int = get_label2int(wanted_only=False)\n",
    "\n",
    "avg = 0.0\n",
    "for sub in subs:\n",
    "    avg += sub.loc[:, label2int.keys()].values / len(subs)\n",
    "\n",
    "print(avg.sum(axis=1)[10:20])\n",
    "probabilities = avg\n",
    "print(probabilities.shape)\n",
    "preds = probabilities.argmax(axis=-1)"
   ]
  },
  {
   "cell_type": "code",
   "execution_count": 4,
   "metadata": {},
   "outputs": [
    {
     "name": "stderr",
     "output_type": "stream",
     "text": [
      "100%|██████████| 158538/158538 [00:00<00:00, 1088089.58it/s]\n"
     ]
    },
    {
     "name": "stdout",
     "output_type": "stream",
     "text": [
      "Done\n"
     ]
    }
   ],
   "source": [
    "ensemble_label = []\n",
    "ensemble_sub = subs[0].copy()\n",
    "for i in tqdm(range(ensemble_sub.shape[0])):\n",
    "    label = int2label[preds[i]]\n",
    "    # print(\"%s with: %.3f\" % (label, probabilities[i, preds[i]]))\n",
    "    label = label if label != '_silence_' else 'silence'\n",
    "    label = label if label != '_unknown_' else 'unknown'\n",
    "    # label = label if label == 'silence' or label in wanted_words else 'unknown'\n",
    "    ensemble_label.append(label)\n",
    "\n",
    "ensemble_sub['label'] = ensemble_label\n",
    "ensemble_sub[['fname', 'label']].to_csv('prob_ensemble_022_all_labels.csv', index=False)\n",
    "ensemble_sub.loc[:, label2int.keys()] = probabilities\n",
    "ensemble_sub.to_csv('prob_ensemble_022_all_labels_probs.csv', index=False)\n",
    "\n",
    "print(\"Done\")"
   ]
  },
  {
   "cell_type": "code",
   "execution_count": 11,
   "metadata": {},
   "outputs": [
    {
     "name": "stderr",
     "output_type": "stream",
     "text": [
      "100%|██████████| 158538/158538 [00:00<00:00, 221890.50it/s]\n"
     ]
    },
    {
     "name": "stdout",
     "output_type": "stream",
     "text": [
      "2927 of 158538 with small prob\n",
      "Done\n"
     ]
    }
   ],
   "source": [
    "ensemble_label = []\n",
    "ensemble_sub = subs[0].copy()\n",
    "small_prob_counter = 0\n",
    "prob_thresh = 0.3\n",
    "for i in tqdm(range(ensemble_sub.shape[0])):\n",
    "    label = int2label[preds[i]]\n",
    "    label = label if label != '_silence_' else 'silence'\n",
    "    label = label if label != '_unknown_' else 'unknown'\n",
    "    label = label if label == 'silence' or label in wanted_words else 'unknown'\n",
    "    # handle \"small\" probs\n",
    "    max_prob = probabilities[i, preds[i]]\n",
    "    if max_prob < prob_thresh:\n",
    "        small_prob_counter += 1\n",
    "        src_fn = jp('data/test/audio', ensemble_sub.loc[i, 'fname'])\n",
    "        dst_fn = jp('split_decision', '%s_%.3f.wav'\n",
    "                    % (label, max_prob))\n",
    "        copy(src_fn, dst_fn)\n",
    "        # map small prob words (not silence) to unknown\n",
    "        label = label if label == 'silence' else 'unknown'\n",
    "    ensemble_label.append(label)\n",
    "\n",
    "\n",
    "print(\"%d of %d with small prob\" % (small_prob_counter, ensemble_sub.shape[0]))\n",
    "ensemble_sub['label'] = ensemble_label\n",
    "ensemble_sub[['fname', 'label']].to_csv(\n",
    "    'prob_ensemble_022_thresh_%.2f_map_to_unknown.csv' % prob_thresh, index=False)\n",
    "print(\"Done\")"
   ]
  },
  {
   "cell_type": "markdown",
   "metadata": {},
   "source": [
    "# Find duplicates\n",
    "## https://www.kaggle.com/c/tensorflow-speech-recognition-challenge/discussion/44687"
   ]
  },
  {
   "cell_type": "code",
   "execution_count": null,
   "metadata": {},
   "outputs": [],
   "source": [
    "train_fns = sorted(glob('data/train/audio/*/*.wav'))\n",
    "test_fns = sorted(glob('data/test/audio/*.wav'))\n",
    "all_fns = train_fns + test_fns\n",
    "print(\"%d train, %d test, %d total\"\n",
    "      % (len(train_fns), len(test_fns), len(all_fns)))\n",
    "all_fns = all_fns[:]"
   ]
  },
  {
   "cell_type": "code",
   "execution_count": null,
   "metadata": {},
   "outputs": [],
   "source": [
    "if not os.path.exists('md5sums.p'):\n",
    "    md5sums = {}\n",
    "    for fn in tqdm(all_fns):\n",
    "        if fn in md5sums:\n",
    "            print(\"Double fn!\", fn)\n",
    "        checksum = md5(fn)\n",
    "        md5sums[fn] = checksum\n",
    "    # cache\n",
    "    data = {'md5sums': md5sums}\n",
    "    with open('md5sums.p', 'wb') as f:\n",
    "        pickle.dump(data, f)\n",
    "\n",
    "with open('md5sums.p', 'rb') as f:\n",
    "    data = pickle.load(f)\n",
    "    md5sums = data['md5sums']\n",
    "    "
   ]
  },
  {
   "cell_type": "code",
   "execution_count": null,
   "metadata": {},
   "outputs": [],
   "source": [
    "counts = {}\n",
    "checksum_fn = {v: k for k, v in md5sums.items()}\n",
    "for fn, checksum in md5sums.items():\n",
    "    if checksum in counts:\n",
    "        counts[checksum] += 1\n",
    "    else:\n",
    "        counts[checksum] = 1"
   ]
  },
  {
   "cell_type": "code",
   "execution_count": null,
   "metadata": {},
   "outputs": [],
   "source": [
    "fn_counts = []\n",
    "check_to_fns = {}\n",
    "for checksum, count in counts.items():\n",
    "    fn = checksum_fn[checksum]\n",
    "    fn_counts.append((fn, count))\n",
    "    if checksum in check_to_fns:\n",
    "        if fn not in check_to_fns[fn]:\n",
    "            check_to_fns[fn].append(fn)\n",
    "        else:\n",
    "            check_to_fns[fn] = [fn]\n",
    "fn_counts = sorted(fn_counts, key=lambda x: x[-1], reverse=True)\n",
    "print(fn_counts[:10])"
   ]
  },
  {
   "cell_type": "code",
   "execution_count": null,
   "metadata": {},
   "outputs": [],
   "source": [
    "a = [(k, v) for k, v in counts.items() if v == 3710][0]"
   ]
  },
  {
   "cell_type": "code",
   "execution_count": null,
   "metadata": {},
   "outputs": [],
   "source": [
    "mist_fns = [fn for fn, s in md5sums.items() if s == a[0]]\n",
    "bns = [os.path.basename(fn) for fn in mist_fns]"
   ]
  },
  {
   "cell_type": "code",
   "execution_count": null,
   "metadata": {},
   "outputs": [],
   "source": [
    "# These are all silence -.- check that we got it right anyway ...\n",
    "some_sub = pd.read_csv('submission_017.csv')\n",
    "for i in range(some_sub.shape[0]):\n",
    "    fn = some_sub.loc[i, 'fname']\n",
    "    if fn in bns:\n",
    "        label = some_sub.loc[i, 'label']\n",
    "        if label != 'silence':\n",
    "            print(label)\n",
    "# check! That was useless -.-"
   ]
  },
  {
   "cell_type": "markdown",
   "metadata": {},
   "source": [
    "# Listen test data"
   ]
  },
  {
   "cell_type": "code",
   "execution_count": null,
   "metadata": {},
   "outputs": [],
   "source": [
    "test_fns = sorted(glob('data/test/audio/*.wav'))\n",
    "print(len(test_fns))\n",
    "disp_count = 0\n",
    "for test_fn in test_fns:\n",
    "    if disp_count > 10:\n",
    "        break\n",
    "    if np.random.rand() > 0.7:\n",
    "        print(test_fn)\n",
    "        display(Audio(filename=test_fn,\n",
    "                      rate=16000,\n",
    "                      autoplay=True))\n",
    "        sleep(1)\n",
    "        disp_count += 1"
   ]
  },
  {
   "cell_type": "markdown",
   "metadata": {},
   "source": [
    "# Explore subsampled representation"
   ]
  },
  {
   "cell_type": "code",
   "execution_count": 2,
   "metadata": {},
   "outputs": [
    {
     "data": {
      "application/javascript": [
       "/* Put everything inside the global mpl namespace */\n",
       "window.mpl = {};\n",
       "\n",
       "\n",
       "mpl.get_websocket_type = function() {\n",
       "    if (typeof(WebSocket) !== 'undefined') {\n",
       "        return WebSocket;\n",
       "    } else if (typeof(MozWebSocket) !== 'undefined') {\n",
       "        return MozWebSocket;\n",
       "    } else {\n",
       "        alert('Your browser does not have WebSocket support.' +\n",
       "              'Please try Chrome, Safari or Firefox ≥ 6. ' +\n",
       "              'Firefox 4 and 5 are also supported but you ' +\n",
       "              'have to enable WebSockets in about:config.');\n",
       "    };\n",
       "}\n",
       "\n",
       "mpl.figure = function(figure_id, websocket, ondownload, parent_element) {\n",
       "    this.id = figure_id;\n",
       "\n",
       "    this.ws = websocket;\n",
       "\n",
       "    this.supports_binary = (this.ws.binaryType != undefined);\n",
       "\n",
       "    if (!this.supports_binary) {\n",
       "        var warnings = document.getElementById(\"mpl-warnings\");\n",
       "        if (warnings) {\n",
       "            warnings.style.display = 'block';\n",
       "            warnings.textContent = (\n",
       "                \"This browser does not support binary websocket messages. \" +\n",
       "                    \"Performance may be slow.\");\n",
       "        }\n",
       "    }\n",
       "\n",
       "    this.imageObj = new Image();\n",
       "\n",
       "    this.context = undefined;\n",
       "    this.message = undefined;\n",
       "    this.canvas = undefined;\n",
       "    this.rubberband_canvas = undefined;\n",
       "    this.rubberband_context = undefined;\n",
       "    this.format_dropdown = undefined;\n",
       "\n",
       "    this.image_mode = 'full';\n",
       "\n",
       "    this.root = $('<div/>');\n",
       "    this._root_extra_style(this.root)\n",
       "    this.root.attr('style', 'display: inline-block');\n",
       "\n",
       "    $(parent_element).append(this.root);\n",
       "\n",
       "    this._init_header(this);\n",
       "    this._init_canvas(this);\n",
       "    this._init_toolbar(this);\n",
       "\n",
       "    var fig = this;\n",
       "\n",
       "    this.waiting = false;\n",
       "\n",
       "    this.ws.onopen =  function () {\n",
       "            fig.send_message(\"supports_binary\", {value: fig.supports_binary});\n",
       "            fig.send_message(\"send_image_mode\", {});\n",
       "            if (mpl.ratio != 1) {\n",
       "                fig.send_message(\"set_dpi_ratio\", {'dpi_ratio': mpl.ratio});\n",
       "            }\n",
       "            fig.send_message(\"refresh\", {});\n",
       "        }\n",
       "\n",
       "    this.imageObj.onload = function() {\n",
       "            if (fig.image_mode == 'full') {\n",
       "                // Full images could contain transparency (where diff images\n",
       "                // almost always do), so we need to clear the canvas so that\n",
       "                // there is no ghosting.\n",
       "                fig.context.clearRect(0, 0, fig.canvas.width, fig.canvas.height);\n",
       "            }\n",
       "            fig.context.drawImage(fig.imageObj, 0, 0);\n",
       "        };\n",
       "\n",
       "    this.imageObj.onunload = function() {\n",
       "        this.ws.close();\n",
       "    }\n",
       "\n",
       "    this.ws.onmessage = this._make_on_message_function(this);\n",
       "\n",
       "    this.ondownload = ondownload;\n",
       "}\n",
       "\n",
       "mpl.figure.prototype._init_header = function() {\n",
       "    var titlebar = $(\n",
       "        '<div class=\"ui-dialog-titlebar ui-widget-header ui-corner-all ' +\n",
       "        'ui-helper-clearfix\"/>');\n",
       "    var titletext = $(\n",
       "        '<div class=\"ui-dialog-title\" style=\"width: 100%; ' +\n",
       "        'text-align: center; padding: 3px;\"/>');\n",
       "    titlebar.append(titletext)\n",
       "    this.root.append(titlebar);\n",
       "    this.header = titletext[0];\n",
       "}\n",
       "\n",
       "\n",
       "\n",
       "mpl.figure.prototype._canvas_extra_style = function(canvas_div) {\n",
       "\n",
       "}\n",
       "\n",
       "\n",
       "mpl.figure.prototype._root_extra_style = function(canvas_div) {\n",
       "\n",
       "}\n",
       "\n",
       "mpl.figure.prototype._init_canvas = function() {\n",
       "    var fig = this;\n",
       "\n",
       "    var canvas_div = $('<div/>');\n",
       "\n",
       "    canvas_div.attr('style', 'position: relative; clear: both; outline: 0');\n",
       "\n",
       "    function canvas_keyboard_event(event) {\n",
       "        return fig.key_event(event, event['data']);\n",
       "    }\n",
       "\n",
       "    canvas_div.keydown('key_press', canvas_keyboard_event);\n",
       "    canvas_div.keyup('key_release', canvas_keyboard_event);\n",
       "    this.canvas_div = canvas_div\n",
       "    this._canvas_extra_style(canvas_div)\n",
       "    this.root.append(canvas_div);\n",
       "\n",
       "    var canvas = $('<canvas/>');\n",
       "    canvas.addClass('mpl-canvas');\n",
       "    canvas.attr('style', \"left: 0; top: 0; z-index: 0; outline: 0\")\n",
       "\n",
       "    this.canvas = canvas[0];\n",
       "    this.context = canvas[0].getContext(\"2d\");\n",
       "\n",
       "    var backingStore = this.context.backingStorePixelRatio ||\n",
       "\tthis.context.webkitBackingStorePixelRatio ||\n",
       "\tthis.context.mozBackingStorePixelRatio ||\n",
       "\tthis.context.msBackingStorePixelRatio ||\n",
       "\tthis.context.oBackingStorePixelRatio ||\n",
       "\tthis.context.backingStorePixelRatio || 1;\n",
       "\n",
       "    mpl.ratio = (window.devicePixelRatio || 1) / backingStore;\n",
       "\n",
       "    var rubberband = $('<canvas/>');\n",
       "    rubberband.attr('style', \"position: absolute; left: 0; top: 0; z-index: 1;\")\n",
       "\n",
       "    var pass_mouse_events = true;\n",
       "\n",
       "    canvas_div.resizable({\n",
       "        start: function(event, ui) {\n",
       "            pass_mouse_events = false;\n",
       "        },\n",
       "        resize: function(event, ui) {\n",
       "            fig.request_resize(ui.size.width, ui.size.height);\n",
       "        },\n",
       "        stop: function(event, ui) {\n",
       "            pass_mouse_events = true;\n",
       "            fig.request_resize(ui.size.width, ui.size.height);\n",
       "        },\n",
       "    });\n",
       "\n",
       "    function mouse_event_fn(event) {\n",
       "        if (pass_mouse_events)\n",
       "            return fig.mouse_event(event, event['data']);\n",
       "    }\n",
       "\n",
       "    rubberband.mousedown('button_press', mouse_event_fn);\n",
       "    rubberband.mouseup('button_release', mouse_event_fn);\n",
       "    // Throttle sequential mouse events to 1 every 20ms.\n",
       "    rubberband.mousemove('motion_notify', mouse_event_fn);\n",
       "\n",
       "    rubberband.mouseenter('figure_enter', mouse_event_fn);\n",
       "    rubberband.mouseleave('figure_leave', mouse_event_fn);\n",
       "\n",
       "    canvas_div.on(\"wheel\", function (event) {\n",
       "        event = event.originalEvent;\n",
       "        event['data'] = 'scroll'\n",
       "        if (event.deltaY < 0) {\n",
       "            event.step = 1;\n",
       "        } else {\n",
       "            event.step = -1;\n",
       "        }\n",
       "        mouse_event_fn(event);\n",
       "    });\n",
       "\n",
       "    canvas_div.append(canvas);\n",
       "    canvas_div.append(rubberband);\n",
       "\n",
       "    this.rubberband = rubberband;\n",
       "    this.rubberband_canvas = rubberband[0];\n",
       "    this.rubberband_context = rubberband[0].getContext(\"2d\");\n",
       "    this.rubberband_context.strokeStyle = \"#000000\";\n",
       "\n",
       "    this._resize_canvas = function(width, height) {\n",
       "        // Keep the size of the canvas, canvas container, and rubber band\n",
       "        // canvas in synch.\n",
       "        canvas_div.css('width', width)\n",
       "        canvas_div.css('height', height)\n",
       "\n",
       "        canvas.attr('width', width * mpl.ratio);\n",
       "        canvas.attr('height', height * mpl.ratio);\n",
       "        canvas.attr('style', 'width: ' + width + 'px; height: ' + height + 'px;');\n",
       "\n",
       "        rubberband.attr('width', width);\n",
       "        rubberband.attr('height', height);\n",
       "    }\n",
       "\n",
       "    // Set the figure to an initial 600x600px, this will subsequently be updated\n",
       "    // upon first draw.\n",
       "    this._resize_canvas(600, 600);\n",
       "\n",
       "    // Disable right mouse context menu.\n",
       "    $(this.rubberband_canvas).bind(\"contextmenu\",function(e){\n",
       "        return false;\n",
       "    });\n",
       "\n",
       "    function set_focus () {\n",
       "        canvas.focus();\n",
       "        canvas_div.focus();\n",
       "    }\n",
       "\n",
       "    window.setTimeout(set_focus, 100);\n",
       "}\n",
       "\n",
       "mpl.figure.prototype._init_toolbar = function() {\n",
       "    var fig = this;\n",
       "\n",
       "    var nav_element = $('<div/>')\n",
       "    nav_element.attr('style', 'width: 100%');\n",
       "    this.root.append(nav_element);\n",
       "\n",
       "    // Define a callback function for later on.\n",
       "    function toolbar_event(event) {\n",
       "        return fig.toolbar_button_onclick(event['data']);\n",
       "    }\n",
       "    function toolbar_mouse_event(event) {\n",
       "        return fig.toolbar_button_onmouseover(event['data']);\n",
       "    }\n",
       "\n",
       "    for(var toolbar_ind in mpl.toolbar_items) {\n",
       "        var name = mpl.toolbar_items[toolbar_ind][0];\n",
       "        var tooltip = mpl.toolbar_items[toolbar_ind][1];\n",
       "        var image = mpl.toolbar_items[toolbar_ind][2];\n",
       "        var method_name = mpl.toolbar_items[toolbar_ind][3];\n",
       "\n",
       "        if (!name) {\n",
       "            // put a spacer in here.\n",
       "            continue;\n",
       "        }\n",
       "        var button = $('<button/>');\n",
       "        button.addClass('ui-button ui-widget ui-state-default ui-corner-all ' +\n",
       "                        'ui-button-icon-only');\n",
       "        button.attr('role', 'button');\n",
       "        button.attr('aria-disabled', 'false');\n",
       "        button.click(method_name, toolbar_event);\n",
       "        button.mouseover(tooltip, toolbar_mouse_event);\n",
       "\n",
       "        var icon_img = $('<span/>');\n",
       "        icon_img.addClass('ui-button-icon-primary ui-icon');\n",
       "        icon_img.addClass(image);\n",
       "        icon_img.addClass('ui-corner-all');\n",
       "\n",
       "        var tooltip_span = $('<span/>');\n",
       "        tooltip_span.addClass('ui-button-text');\n",
       "        tooltip_span.html(tooltip);\n",
       "\n",
       "        button.append(icon_img);\n",
       "        button.append(tooltip_span);\n",
       "\n",
       "        nav_element.append(button);\n",
       "    }\n",
       "\n",
       "    var fmt_picker_span = $('<span/>');\n",
       "\n",
       "    var fmt_picker = $('<select/>');\n",
       "    fmt_picker.addClass('mpl-toolbar-option ui-widget ui-widget-content');\n",
       "    fmt_picker_span.append(fmt_picker);\n",
       "    nav_element.append(fmt_picker_span);\n",
       "    this.format_dropdown = fmt_picker[0];\n",
       "\n",
       "    for (var ind in mpl.extensions) {\n",
       "        var fmt = mpl.extensions[ind];\n",
       "        var option = $(\n",
       "            '<option/>', {selected: fmt === mpl.default_extension}).html(fmt);\n",
       "        fmt_picker.append(option)\n",
       "    }\n",
       "\n",
       "    // Add hover states to the ui-buttons\n",
       "    $( \".ui-button\" ).hover(\n",
       "        function() { $(this).addClass(\"ui-state-hover\");},\n",
       "        function() { $(this).removeClass(\"ui-state-hover\");}\n",
       "    );\n",
       "\n",
       "    var status_bar = $('<span class=\"mpl-message\"/>');\n",
       "    nav_element.append(status_bar);\n",
       "    this.message = status_bar[0];\n",
       "}\n",
       "\n",
       "mpl.figure.prototype.request_resize = function(x_pixels, y_pixels) {\n",
       "    // Request matplotlib to resize the figure. Matplotlib will then trigger a resize in the client,\n",
       "    // which will in turn request a refresh of the image.\n",
       "    this.send_message('resize', {'width': x_pixels, 'height': y_pixels});\n",
       "}\n",
       "\n",
       "mpl.figure.prototype.send_message = function(type, properties) {\n",
       "    properties['type'] = type;\n",
       "    properties['figure_id'] = this.id;\n",
       "    this.ws.send(JSON.stringify(properties));\n",
       "}\n",
       "\n",
       "mpl.figure.prototype.send_draw_message = function() {\n",
       "    if (!this.waiting) {\n",
       "        this.waiting = true;\n",
       "        this.ws.send(JSON.stringify({type: \"draw\", figure_id: this.id}));\n",
       "    }\n",
       "}\n",
       "\n",
       "\n",
       "mpl.figure.prototype.handle_save = function(fig, msg) {\n",
       "    var format_dropdown = fig.format_dropdown;\n",
       "    var format = format_dropdown.options[format_dropdown.selectedIndex].value;\n",
       "    fig.ondownload(fig, format);\n",
       "}\n",
       "\n",
       "\n",
       "mpl.figure.prototype.handle_resize = function(fig, msg) {\n",
       "    var size = msg['size'];\n",
       "    if (size[0] != fig.canvas.width || size[1] != fig.canvas.height) {\n",
       "        fig._resize_canvas(size[0], size[1]);\n",
       "        fig.send_message(\"refresh\", {});\n",
       "    };\n",
       "}\n",
       "\n",
       "mpl.figure.prototype.handle_rubberband = function(fig, msg) {\n",
       "    var x0 = msg['x0'] / mpl.ratio;\n",
       "    var y0 = (fig.canvas.height - msg['y0']) / mpl.ratio;\n",
       "    var x1 = msg['x1'] / mpl.ratio;\n",
       "    var y1 = (fig.canvas.height - msg['y1']) / mpl.ratio;\n",
       "    x0 = Math.floor(x0) + 0.5;\n",
       "    y0 = Math.floor(y0) + 0.5;\n",
       "    x1 = Math.floor(x1) + 0.5;\n",
       "    y1 = Math.floor(y1) + 0.5;\n",
       "    var min_x = Math.min(x0, x1);\n",
       "    var min_y = Math.min(y0, y1);\n",
       "    var width = Math.abs(x1 - x0);\n",
       "    var height = Math.abs(y1 - y0);\n",
       "\n",
       "    fig.rubberband_context.clearRect(\n",
       "        0, 0, fig.canvas.width, fig.canvas.height);\n",
       "\n",
       "    fig.rubberband_context.strokeRect(min_x, min_y, width, height);\n",
       "}\n",
       "\n",
       "mpl.figure.prototype.handle_figure_label = function(fig, msg) {\n",
       "    // Updates the figure title.\n",
       "    fig.header.textContent = msg['label'];\n",
       "}\n",
       "\n",
       "mpl.figure.prototype.handle_cursor = function(fig, msg) {\n",
       "    var cursor = msg['cursor'];\n",
       "    switch(cursor)\n",
       "    {\n",
       "    case 0:\n",
       "        cursor = 'pointer';\n",
       "        break;\n",
       "    case 1:\n",
       "        cursor = 'default';\n",
       "        break;\n",
       "    case 2:\n",
       "        cursor = 'crosshair';\n",
       "        break;\n",
       "    case 3:\n",
       "        cursor = 'move';\n",
       "        break;\n",
       "    }\n",
       "    fig.rubberband_canvas.style.cursor = cursor;\n",
       "}\n",
       "\n",
       "mpl.figure.prototype.handle_message = function(fig, msg) {\n",
       "    fig.message.textContent = msg['message'];\n",
       "}\n",
       "\n",
       "mpl.figure.prototype.handle_draw = function(fig, msg) {\n",
       "    // Request the server to send over a new figure.\n",
       "    fig.send_draw_message();\n",
       "}\n",
       "\n",
       "mpl.figure.prototype.handle_image_mode = function(fig, msg) {\n",
       "    fig.image_mode = msg['mode'];\n",
       "}\n",
       "\n",
       "mpl.figure.prototype.updated_canvas_event = function() {\n",
       "    // Called whenever the canvas gets updated.\n",
       "    this.send_message(\"ack\", {});\n",
       "}\n",
       "\n",
       "// A function to construct a web socket function for onmessage handling.\n",
       "// Called in the figure constructor.\n",
       "mpl.figure.prototype._make_on_message_function = function(fig) {\n",
       "    return function socket_on_message(evt) {\n",
       "        if (evt.data instanceof Blob) {\n",
       "            /* FIXME: We get \"Resource interpreted as Image but\n",
       "             * transferred with MIME type text/plain:\" errors on\n",
       "             * Chrome.  But how to set the MIME type?  It doesn't seem\n",
       "             * to be part of the websocket stream */\n",
       "            evt.data.type = \"image/png\";\n",
       "\n",
       "            /* Free the memory for the previous frames */\n",
       "            if (fig.imageObj.src) {\n",
       "                (window.URL || window.webkitURL).revokeObjectURL(\n",
       "                    fig.imageObj.src);\n",
       "            }\n",
       "\n",
       "            fig.imageObj.src = (window.URL || window.webkitURL).createObjectURL(\n",
       "                evt.data);\n",
       "            fig.updated_canvas_event();\n",
       "            fig.waiting = false;\n",
       "            return;\n",
       "        }\n",
       "        else if (typeof evt.data === 'string' && evt.data.slice(0, 21) == \"data:image/png;base64\") {\n",
       "            fig.imageObj.src = evt.data;\n",
       "            fig.updated_canvas_event();\n",
       "            fig.waiting = false;\n",
       "            return;\n",
       "        }\n",
       "\n",
       "        var msg = JSON.parse(evt.data);\n",
       "        var msg_type = msg['type'];\n",
       "\n",
       "        // Call the  \"handle_{type}\" callback, which takes\n",
       "        // the figure and JSON message as its only arguments.\n",
       "        try {\n",
       "            var callback = fig[\"handle_\" + msg_type];\n",
       "        } catch (e) {\n",
       "            console.log(\"No handler for the '\" + msg_type + \"' message type: \", msg);\n",
       "            return;\n",
       "        }\n",
       "\n",
       "        if (callback) {\n",
       "            try {\n",
       "                // console.log(\"Handling '\" + msg_type + \"' message: \", msg);\n",
       "                callback(fig, msg);\n",
       "            } catch (e) {\n",
       "                console.log(\"Exception inside the 'handler_\" + msg_type + \"' callback:\", e, e.stack, msg);\n",
       "            }\n",
       "        }\n",
       "    };\n",
       "}\n",
       "\n",
       "// from http://stackoverflow.com/questions/1114465/getting-mouse-location-in-canvas\n",
       "mpl.findpos = function(e) {\n",
       "    //this section is from http://www.quirksmode.org/js/events_properties.html\n",
       "    var targ;\n",
       "    if (!e)\n",
       "        e = window.event;\n",
       "    if (e.target)\n",
       "        targ = e.target;\n",
       "    else if (e.srcElement)\n",
       "        targ = e.srcElement;\n",
       "    if (targ.nodeType == 3) // defeat Safari bug\n",
       "        targ = targ.parentNode;\n",
       "\n",
       "    // jQuery normalizes the pageX and pageY\n",
       "    // pageX,Y are the mouse positions relative to the document\n",
       "    // offset() returns the position of the element relative to the document\n",
       "    var x = e.pageX - $(targ).offset().left;\n",
       "    var y = e.pageY - $(targ).offset().top;\n",
       "\n",
       "    return {\"x\": x, \"y\": y};\n",
       "};\n",
       "\n",
       "/*\n",
       " * return a copy of an object with only non-object keys\n",
       " * we need this to avoid circular references\n",
       " * http://stackoverflow.com/a/24161582/3208463\n",
       " */\n",
       "function simpleKeys (original) {\n",
       "  return Object.keys(original).reduce(function (obj, key) {\n",
       "    if (typeof original[key] !== 'object')\n",
       "        obj[key] = original[key]\n",
       "    return obj;\n",
       "  }, {});\n",
       "}\n",
       "\n",
       "mpl.figure.prototype.mouse_event = function(event, name) {\n",
       "    var canvas_pos = mpl.findpos(event)\n",
       "\n",
       "    if (name === 'button_press')\n",
       "    {\n",
       "        this.canvas.focus();\n",
       "        this.canvas_div.focus();\n",
       "    }\n",
       "\n",
       "    var x = canvas_pos.x * mpl.ratio;\n",
       "    var y = canvas_pos.y * mpl.ratio;\n",
       "\n",
       "    this.send_message(name, {x: x, y: y, button: event.button,\n",
       "                             step: event.step,\n",
       "                             guiEvent: simpleKeys(event)});\n",
       "\n",
       "    /* This prevents the web browser from automatically changing to\n",
       "     * the text insertion cursor when the button is pressed.  We want\n",
       "     * to control all of the cursor setting manually through the\n",
       "     * 'cursor' event from matplotlib */\n",
       "    event.preventDefault();\n",
       "    return false;\n",
       "}\n",
       "\n",
       "mpl.figure.prototype._key_event_extra = function(event, name) {\n",
       "    // Handle any extra behaviour associated with a key event\n",
       "}\n",
       "\n",
       "mpl.figure.prototype.key_event = function(event, name) {\n",
       "\n",
       "    // Prevent repeat events\n",
       "    if (name == 'key_press')\n",
       "    {\n",
       "        if (event.which === this._key)\n",
       "            return;\n",
       "        else\n",
       "            this._key = event.which;\n",
       "    }\n",
       "    if (name == 'key_release')\n",
       "        this._key = null;\n",
       "\n",
       "    var value = '';\n",
       "    if (event.ctrlKey && event.which != 17)\n",
       "        value += \"ctrl+\";\n",
       "    if (event.altKey && event.which != 18)\n",
       "        value += \"alt+\";\n",
       "    if (event.shiftKey && event.which != 16)\n",
       "        value += \"shift+\";\n",
       "\n",
       "    value += 'k';\n",
       "    value += event.which.toString();\n",
       "\n",
       "    this._key_event_extra(event, name);\n",
       "\n",
       "    this.send_message(name, {key: value,\n",
       "                             guiEvent: simpleKeys(event)});\n",
       "    return false;\n",
       "}\n",
       "\n",
       "mpl.figure.prototype.toolbar_button_onclick = function(name) {\n",
       "    if (name == 'download') {\n",
       "        this.handle_save(this, null);\n",
       "    } else {\n",
       "        this.send_message(\"toolbar_button\", {name: name});\n",
       "    }\n",
       "};\n",
       "\n",
       "mpl.figure.prototype.toolbar_button_onmouseover = function(tooltip) {\n",
       "    this.message.textContent = tooltip;\n",
       "};\n",
       "mpl.toolbar_items = [[\"Home\", \"Reset original view\", \"fa fa-home icon-home\", \"home\"], [\"Back\", \"Back to  previous view\", \"fa fa-arrow-left icon-arrow-left\", \"back\"], [\"Forward\", \"Forward to next view\", \"fa fa-arrow-right icon-arrow-right\", \"forward\"], [\"\", \"\", \"\", \"\"], [\"Pan\", \"Pan axes with left mouse, zoom with right\", \"fa fa-arrows icon-move\", \"pan\"], [\"Zoom\", \"Zoom to rectangle\", \"fa fa-square-o icon-check-empty\", \"zoom\"], [\"\", \"\", \"\", \"\"], [\"Download\", \"Download plot\", \"fa fa-floppy-o icon-save\", \"download\"]];\n",
       "\n",
       "mpl.extensions = [\"eps\", \"jpeg\", \"pdf\", \"png\", \"ps\", \"raw\", \"svg\", \"tif\"];\n",
       "\n",
       "mpl.default_extension = \"png\";var comm_websocket_adapter = function(comm) {\n",
       "    // Create a \"websocket\"-like object which calls the given IPython comm\n",
       "    // object with the appropriate methods. Currently this is a non binary\n",
       "    // socket, so there is still some room for performance tuning.\n",
       "    var ws = {};\n",
       "\n",
       "    ws.close = function() {\n",
       "        comm.close()\n",
       "    };\n",
       "    ws.send = function(m) {\n",
       "        //console.log('sending', m);\n",
       "        comm.send(m);\n",
       "    };\n",
       "    // Register the callback with on_msg.\n",
       "    comm.on_msg(function(msg) {\n",
       "        //console.log('receiving', msg['content']['data'], msg);\n",
       "        // Pass the mpl event to the overriden (by mpl) onmessage function.\n",
       "        ws.onmessage(msg['content']['data'])\n",
       "    });\n",
       "    return ws;\n",
       "}\n",
       "\n",
       "mpl.mpl_figure_comm = function(comm, msg) {\n",
       "    // This is the function which gets called when the mpl process\n",
       "    // starts-up an IPython Comm through the \"matplotlib\" channel.\n",
       "\n",
       "    var id = msg.content.data.id;\n",
       "    // Get hold of the div created by the display call when the Comm\n",
       "    // socket was opened in Python.\n",
       "    var element = $(\"#\" + id);\n",
       "    var ws_proxy = comm_websocket_adapter(comm)\n",
       "\n",
       "    function ondownload(figure, format) {\n",
       "        window.open(figure.imageObj.src);\n",
       "    }\n",
       "\n",
       "    var fig = new mpl.figure(id, ws_proxy,\n",
       "                           ondownload,\n",
       "                           element.get(0));\n",
       "\n",
       "    // Call onopen now - mpl needs it, as it is assuming we've passed it a real\n",
       "    // web socket which is closed, not our websocket->open comm proxy.\n",
       "    ws_proxy.onopen();\n",
       "\n",
       "    fig.parent_element = element.get(0);\n",
       "    fig.cell_info = mpl.find_output_cell(\"<div id='\" + id + \"'></div>\");\n",
       "    if (!fig.cell_info) {\n",
       "        console.error(\"Failed to find cell for figure\", id, fig);\n",
       "        return;\n",
       "    }\n",
       "\n",
       "    var output_index = fig.cell_info[2]\n",
       "    var cell = fig.cell_info[0];\n",
       "\n",
       "};\n",
       "\n",
       "mpl.figure.prototype.handle_close = function(fig, msg) {\n",
       "    var width = fig.canvas.width/mpl.ratio\n",
       "    fig.root.unbind('remove')\n",
       "\n",
       "    // Update the output cell to use the data from the current canvas.\n",
       "    fig.push_to_output();\n",
       "    var dataURL = fig.canvas.toDataURL();\n",
       "    // Re-enable the keyboard manager in IPython - without this line, in FF,\n",
       "    // the notebook keyboard shortcuts fail.\n",
       "    IPython.keyboard_manager.enable()\n",
       "    $(fig.parent_element).html('<img src=\"' + dataURL + '\" width=\"' + width + '\">');\n",
       "    fig.close_ws(fig, msg);\n",
       "}\n",
       "\n",
       "mpl.figure.prototype.close_ws = function(fig, msg){\n",
       "    fig.send_message('closing', msg);\n",
       "    // fig.ws.close()\n",
       "}\n",
       "\n",
       "mpl.figure.prototype.push_to_output = function(remove_interactive) {\n",
       "    // Turn the data on the canvas into data in the output cell.\n",
       "    var width = this.canvas.width/mpl.ratio\n",
       "    var dataURL = this.canvas.toDataURL();\n",
       "    this.cell_info[1]['text/html'] = '<img src=\"' + dataURL + '\" width=\"' + width + '\">';\n",
       "}\n",
       "\n",
       "mpl.figure.prototype.updated_canvas_event = function() {\n",
       "    // Tell IPython that the notebook contents must change.\n",
       "    IPython.notebook.set_dirty(true);\n",
       "    this.send_message(\"ack\", {});\n",
       "    var fig = this;\n",
       "    // Wait a second, then push the new image to the DOM so\n",
       "    // that it is saved nicely (might be nice to debounce this).\n",
       "    setTimeout(function () { fig.push_to_output() }, 1000);\n",
       "}\n",
       "\n",
       "mpl.figure.prototype._init_toolbar = function() {\n",
       "    var fig = this;\n",
       "\n",
       "    var nav_element = $('<div/>')\n",
       "    nav_element.attr('style', 'width: 100%');\n",
       "    this.root.append(nav_element);\n",
       "\n",
       "    // Define a callback function for later on.\n",
       "    function toolbar_event(event) {\n",
       "        return fig.toolbar_button_onclick(event['data']);\n",
       "    }\n",
       "    function toolbar_mouse_event(event) {\n",
       "        return fig.toolbar_button_onmouseover(event['data']);\n",
       "    }\n",
       "\n",
       "    for(var toolbar_ind in mpl.toolbar_items){\n",
       "        var name = mpl.toolbar_items[toolbar_ind][0];\n",
       "        var tooltip = mpl.toolbar_items[toolbar_ind][1];\n",
       "        var image = mpl.toolbar_items[toolbar_ind][2];\n",
       "        var method_name = mpl.toolbar_items[toolbar_ind][3];\n",
       "\n",
       "        if (!name) { continue; };\n",
       "\n",
       "        var button = $('<button class=\"btn btn-default\" href=\"#\" title=\"' + name + '\"><i class=\"fa ' + image + ' fa-lg\"></i></button>');\n",
       "        button.click(method_name, toolbar_event);\n",
       "        button.mouseover(tooltip, toolbar_mouse_event);\n",
       "        nav_element.append(button);\n",
       "    }\n",
       "\n",
       "    // Add the status bar.\n",
       "    var status_bar = $('<span class=\"mpl-message\" style=\"text-align:right; float: right;\"/>');\n",
       "    nav_element.append(status_bar);\n",
       "    this.message = status_bar[0];\n",
       "\n",
       "    // Add the close button to the window.\n",
       "    var buttongrp = $('<div class=\"btn-group inline pull-right\"></div>');\n",
       "    var button = $('<button class=\"btn btn-mini btn-primary\" href=\"#\" title=\"Stop Interaction\"><i class=\"fa fa-power-off icon-remove icon-large\"></i></button>');\n",
       "    button.click(function (evt) { fig.handle_close(fig, {}); } );\n",
       "    button.mouseover('Stop Interaction', toolbar_mouse_event);\n",
       "    buttongrp.append(button);\n",
       "    var titlebar = this.root.find($('.ui-dialog-titlebar'));\n",
       "    titlebar.prepend(buttongrp);\n",
       "}\n",
       "\n",
       "mpl.figure.prototype._root_extra_style = function(el){\n",
       "    var fig = this\n",
       "    el.on(\"remove\", function(){\n",
       "\tfig.close_ws(fig, {});\n",
       "    });\n",
       "}\n",
       "\n",
       "mpl.figure.prototype._canvas_extra_style = function(el){\n",
       "    // this is important to make the div 'focusable\n",
       "    el.attr('tabindex', 0)\n",
       "    // reach out to IPython and tell the keyboard manager to turn it's self\n",
       "    // off when our div gets focus\n",
       "\n",
       "    // location in version 3\n",
       "    if (IPython.notebook.keyboard_manager) {\n",
       "        IPython.notebook.keyboard_manager.register_events(el);\n",
       "    }\n",
       "    else {\n",
       "        // location in version 2\n",
       "        IPython.keyboard_manager.register_events(el);\n",
       "    }\n",
       "\n",
       "}\n",
       "\n",
       "mpl.figure.prototype._key_event_extra = function(event, name) {\n",
       "    var manager = IPython.notebook.keyboard_manager;\n",
       "    if (!manager)\n",
       "        manager = IPython.keyboard_manager;\n",
       "\n",
       "    // Check for shift+enter\n",
       "    if (event.shiftKey && event.which == 13) {\n",
       "        this.canvas_div.blur();\n",
       "        // select the cell after this one\n",
       "        var index = IPython.notebook.find_cell_index(this.cell_info[0]);\n",
       "        IPython.notebook.select(index + 1);\n",
       "    }\n",
       "}\n",
       "\n",
       "mpl.figure.prototype.handle_save = function(fig, msg) {\n",
       "    fig.ondownload(fig, null);\n",
       "}\n",
       "\n",
       "\n",
       "mpl.find_output_cell = function(html_output) {\n",
       "    // Return the cell and output element which can be found *uniquely* in the notebook.\n",
       "    // Note - this is a bit hacky, but it is done because the \"notebook_saving.Notebook\"\n",
       "    // IPython event is triggered only after the cells have been serialised, which for\n",
       "    // our purposes (turning an active figure into a static one), is too late.\n",
       "    var cells = IPython.notebook.get_cells();\n",
       "    var ncells = cells.length;\n",
       "    for (var i=0; i<ncells; i++) {\n",
       "        var cell = cells[i];\n",
       "        if (cell.cell_type === 'code'){\n",
       "            for (var j=0; j<cell.output_area.outputs.length; j++) {\n",
       "                var data = cell.output_area.outputs[j];\n",
       "                if (data.data) {\n",
       "                    // IPython >= 3 moved mimebundle to data attribute of output\n",
       "                    data = data.data;\n",
       "                }\n",
       "                if (data['text/html'] == html_output) {\n",
       "                    return [cell, data, j];\n",
       "                }\n",
       "            }\n",
       "        }\n",
       "    }\n",
       "}\n",
       "\n",
       "// Register the function which deals with the matplotlib target/channel.\n",
       "// The kernel may be null if the page has been refreshed.\n",
       "if (IPython.notebook.kernel != null) {\n",
       "    IPython.notebook.kernel.comm_manager.register_target('matplotlib', mpl.mpl_figure_comm);\n",
       "}\n"
      ],
      "text/plain": [
       "<IPython.core.display.Javascript object>"
      ]
     },
     "metadata": {},
     "output_type": "display_data"
    },
    {
     "data": {
      "text/html": [
       "<img src=\"data:image/png;base64,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\" width=\"639.999974568686\">"
      ],
      "text/plain": [
       "<IPython.core.display.HTML object>"
      ]
     },
     "metadata": {},
     "output_type": "display_data"
    },
    {
     "data": {
      "text/html": [
       "\n",
       "                <audio controls=\"controls\" autoplay=\"autoplay\">\n",
       "                    <source src=\"data:audio/x-wav;base64,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\" type=\"audio/x-wav\" />\n",
       "                    Your browser does not support the audio element.\n",
       "                </audio>\n",
       "              "
      ],
      "text/plain": [
       "<IPython.lib.display.Audio object>"
      ]
     },
     "metadata": {},
     "output_type": "display_data"
    }
   ],
   "source": [
    "test_fns = sorted(glob('data/test/audio/*.wav'))\n",
    "some_fn = np.random.choice(test_fns)\n",
    "rate, data = wf.read(some_fn)\n",
    "data = np.float32(data) / 32768\n",
    "assert rate == 16000\n",
    "plt.figure()\n",
    "plt.plot(range(len(data)), data, 'g')\n",
    "display(Audio(some_fn, autoplay=True))"
   ]
  },
  {
   "cell_type": "code",
   "execution_count": null,
   "metadata": {},
   "outputs": [],
   "source": [
    "plt.figure()\n",
    "step = 10\n",
    "colors = ['r', 'g', 'b', 'y', 'b']\n",
    "for i in range(3):\n",
    "    data_slice = data[0::step]\n",
    "    data_slice = np.roll(data_slice, int(-i * 400))\n",
    "    plt.plot(range(len(data_slice)), data_slice, colors[i])\n",
    "    float_audio(data_slice, sample_rate=int(16000 / step), autoplay=True)\n",
    "    sleep(1)"
   ]
  },
  {
   "cell_type": "code",
   "execution_count": null,
   "metadata": {},
   "outputs": [],
   "source": [
    "print(some_fn)"
   ]
  },
  {
   "cell_type": "code",
   "execution_count": null,
   "metadata": {
    "scrolled": true
   },
   "outputs": [],
   "source": [
    "plt.figure()\n",
    "colors = ['r', 'g', 'b', 'y']\n",
    "step = 3\n",
    "for i in range(step):\n",
    "    sub = data[i::step]\n",
    "    plt.plot(range(len(sub)), sub + 2 * i, colors[i % len(colors)])\n"
   ]
  },
  {
   "cell_type": "code",
   "execution_count": null,
   "metadata": {},
   "outputs": [],
   "source": [
    "step = 20\n",
    "float_audio(data[::step], sample_rate=int(16000 / step), autoplay=True)"
   ]
  },
  {
   "cell_type": "code",
   "execution_count": null,
   "metadata": {},
   "outputs": [],
   "source": [
    "# do the same thing in keras/tf\n",
    "def time_slice_stack(x, step):\n",
    "    x_slices = []\n",
    "    for i in range(step):\n",
    "        x_slice = x[:, i::step]\n",
    "        x_slice = K.expand_dims(x_slice, axis=-1)\n",
    "        x_slices.append(x_slice)\n",
    "    x_slices = K.concatenate(x_slices, axis=-1)\n",
    "    print(x_slices.shape)\n",
    "    return x_slices"
   ]
  },
  {
   "cell_type": "code",
   "execution_count": null,
   "metadata": {},
   "outputs": [],
   "source": [
    "input_layer = Input(shape=[16000])\n",
    "x = input_layer\n",
    "x = Lambda(lambda x: time_slice_stack(x, 2))(x)\n",
    "model = Model(input_layer, x)\n",
    "out = model.predict(data.reshape((1, 16000))).squeeze()"
   ]
  },
  {
   "cell_type": "markdown",
   "metadata": {},
   "source": [
    "# Check input representation"
   ]
  },
  {
   "cell_type": "code",
   "execution_count": null,
   "metadata": {
    "scrolled": false
   },
   "outputs": [],
   "source": [
    "def plot_show_samples(label='stop'):\n",
    "    fns = sorted(glob('data/train/audio/%s/*.wav' % label))\n",
    "    disp_count = 0\n",
    "    for fn in fns:\n",
    "        if disp_count > 3:\n",
    "            break\n",
    "        rate, data = wf.read(fn)\n",
    "        data = np.float32(data) / 32768\n",
    "        data = pad_crop(data)\n",
    "        print(fn)\n",
    "        plt.figure()\n",
    "        plt.imshow(data.reshape((400, 40)).T)\n",
    "        plt.show()\n",
    "        display(float_audio(data, autoplay=True))\n",
    "        sleep(1)\n",
    "        disp_count += 1"
   ]
  },
  {
   "cell_type": "code",
   "execution_count": null,
   "metadata": {},
   "outputs": [],
   "source": [
    "plot_show_samples()"
   ]
  },
  {
   "cell_type": "markdown",
   "metadata": {},
   "source": [
    "# Now check mfcc"
   ]
  },
  {
   "cell_type": "code",
   "execution_count": null,
   "metadata": {},
   "outputs": [],
   "source": [
    "desired_samples = 16000\n",
    "window_size_samples = 480\n",
    "window_stride_samples = 160\n",
    "dct_coefficient_count = 40\n",
    "magnitude_squared = False\n",
    "wav_filename_placeholder = tf.placeholder(tf.string, [])\n",
    "wav_loader = io_ops.read_file(wav_filename_placeholder)\n",
    "wav_decoder = contrib_audio.decode_wav(\n",
    "  wav_loader, desired_channels=1,\n",
    "  desired_samples=desired_samples)\n",
    "clamped = tf.clip_by_value(wav_decoder.audio, -1.0, 1.0)\n",
    "spectrogram = contrib_audio.audio_spectrogram(\n",
    "  clamped,\n",
    "  window_size=window_size_samples,\n",
    "  stride=window_stride_samples,\n",
    "  magnitude_squared=magnitude_squared)\n",
    "mfcc = contrib_audio.mfcc(\n",
    "  spectrogram,\n",
    "  wav_decoder.sample_rate,\n",
    "  dct_coefficient_count=dct_coefficient_count)\n",
    "\n",
    "def load_spectrogram(fn):\n",
    "    with tf.Session() as sess:\n",
    "        spectrogram_val = sess.run(\n",
    "            spectrogram, {wav_filename_placeholder: fn})\n",
    "    return spectrogram_val\n",
    "\n",
    "def load_mfcc(fn):\n",
    "    with tf.Session() as sess:\n",
    "        mfcc_val = sess.run(\n",
    "            mfcc, {wav_filename_placeholder: fn})\n",
    "    return mfcc_val\n",
    "\n",
    "def plot_show(label='stop', output='spec', max_disp=3):\n",
    "    fns = sorted(glob('data/train/audio/%s/*.wav' % label))\n",
    "    disp_count = 0\n",
    "    some_data = None\n",
    "    for fn in fns:\n",
    "        if disp_count >= max_disp:\n",
    "            break\n",
    "        if np.random.rand() > 0.9:\n",
    "            if output == 'spec':\n",
    "                spec = load_spectrogram(fn).squeeze()\n",
    "                some_data = spec\n",
    "            elif output == 'mfcc':\n",
    "                mfcc = load_mfcc(fn).squeeze()\n",
    "                some_data = mfcc\n",
    "            plt.figure()\n",
    "            plt.title(fn)\n",
    "            plt.imshow(some_data.T)\n",
    "            plt.colorbar()\n",
    "            plt.show()\n",
    "            disp_count += 1\n",
    "    return some_data"
   ]
  },
  {
   "cell_type": "code",
   "execution_count": null,
   "metadata": {},
   "outputs": [],
   "source": [
    "some_spec = plot_show('sheila', output='spec')\n",
    "print(some_spec.shape)"
   ]
  },
  {
   "cell_type": "code",
   "execution_count": null,
   "metadata": {},
   "outputs": [],
   "source": [
    "some_mfcc = plot_show('stop', output='mfcc', max_disp=3)\n",
    "print(some_mfcc.shape)"
   ]
  },
  {
   "cell_type": "code",
   "execution_count": null,
   "metadata": {},
   "outputs": [],
   "source": [
    "print('Time steps: ', (16000 - 480) / 160 + 1)\n",
    "print('Frequencies: ', 16000 / 160)"
   ]
  },
  {
   "cell_type": "code",
   "execution_count": null,
   "metadata": {},
   "outputs": [],
   "source": [
    "??contrib_audio.audio_spectrogram"
   ]
  },
  {
   "cell_type": "markdown",
   "metadata": {},
   "source": [
    "# Can we create a model that does the same? "
   ]
  },
  {
   "cell_type": "code",
   "execution_count": null,
   "metadata": {},
   "outputs": [],
   "source": [
    "num_filter = 257\n",
    "\n",
    "input_layer = Input(shape=[16000])\n",
    "x = input_layer\n",
    "x = Reshape([16000, 1])(x)\n",
    "x = Conv1D(num_filter, window_size_samples, strides=window_stride_samples)(x)\n",
    "model = Model(input_layer, x)\n",
    "\n",
    "def plot_show(model, label='stop'):\n",
    "    fns = sorted(glob('data/train/audio/%s/*.wav' % label))\n",
    "    disp_count = 0\n",
    "    some_spec = None\n",
    "    for fn in fns:\n",
    "        if disp_count > 2:\n",
    "            break\n",
    "        if np.random.rand() > 0.0:\n",
    "            rate, data = wf.read(fn)\n",
    "            data = np.float32(data) / 32768\n",
    "            data = pad_crop(data)\n",
    "            spec = model.predict(data.reshape((1, -1))).squeeze()\n",
    "            some_spec = spec\n",
    "            print(spec.shape)\n",
    "            plt.figure()\n",
    "            plt.title(fn)\n",
    "            plt.imshow(spec.T)\n",
    "            plt.show()\n",
    "            disp_count += 1\n",
    "    return some_spec"
   ]
  },
  {
   "cell_type": "code",
   "execution_count": null,
   "metadata": {
    "scrolled": false
   },
   "outputs": [],
   "source": [
    "_ = plot_show(model)"
   ]
  },
  {
   "cell_type": "markdown",
   "metadata": {},
   "source": [
    "# How about a real trained network? This one gets 94% train accuracy and 89% mean validation accuracy"
   ]
  },
  {
   "cell_type": "code",
   "execution_count": null,
   "metadata": {},
   "outputs": [],
   "source": [
    "model = load_model('checkpoints_069/ep-060-vl-0.3702.hdf5',\n",
    "                 custom_objects={'relu6': relu6,\n",
    "                                 'DepthwiseConv2D': DepthwiseConv2D})"
   ]
  },
  {
   "cell_type": "code",
   "execution_count": null,
   "metadata": {
    "scrolled": true
   },
   "outputs": [],
   "source": [
    "model.summary()"
   ]
  },
  {
   "cell_type": "code",
   "execution_count": null,
   "metadata": {},
   "outputs": [],
   "source": [
    "from keras.layers import Concatenate\n",
    "concat_layers = [l for l in model.layers if l.__class__ == Concatenate]\n",
    "print(concat_layers)"
   ]
  },
  {
   "cell_type": "code",
   "execution_count": null,
   "metadata": {},
   "outputs": [],
   "source": [
    "activation = model.layers[3].output\n",
    "# activation = concat_layers[0].output\n",
    "spec_model = Model(model.input, activation)"
   ]
  },
  {
   "cell_type": "code",
   "execution_count": null,
   "metadata": {
    "scrolled": false
   },
   "outputs": [],
   "source": [
    "def norm(x):\n",
    "    return (x - x.mean()) / x.std()\n",
    "\n",
    "fns = sorted(glob('data/train/audio/go/*.wav'))\n",
    "np.random.shuffle(fns)\n",
    "disp_count = 0\n",
    "for fn in fns:\n",
    "    if disp_count > 2:\n",
    "        break\n",
    "    rate, data = wf.read(fn)\n",
    "    data = np.float32(data) / 32768\n",
    "    data = pad_crop(data)\n",
    "    representation = spec_model.predict(data.reshape((1, -1))).squeeze()\n",
    "    spec = load_spectrogram(fn).squeeze()\n",
    "    spec, representation = norm(spec), norm(representation)\n",
    "    print(spec.shape)\n",
    "    plt.figure()\n",
    "    plt.title(fn)\n",
    "    plt.subplot(1, 2, 1)\n",
    "    plt.imshow(representation.T)\n",
    "    plt.subplot(1, 2, 2)\n",
    "    plt.imshow(spec.T)\n",
    "    plt.show()\n",
    "    print(representation.shape)\n",
    "    disp_count += 1\n",
    "print(activation.shape)"
   ]
  },
  {
   "cell_type": "markdown",
   "metadata": {},
   "source": [
    "# Looks like we succesfully decorrelated the channels. Though, it seems like this is not what we really want? There shoud be some relation between groups at least -> Use group convolutions? (g-Sub-seperable)"
   ]
  },
  {
   "cell_type": "code",
   "execution_count": null,
   "metadata": {},
   "outputs": [],
   "source": [
    "# same thing with g-Sub-seperable\n",
    "model = load_model('checkpoints_071/ep-015-vl-0.4296.hdf5',\n",
    "                 custom_objects={'relu6': relu6,\n",
    "                                 'DepthwiseConv2D': DepthwiseConv2D})"
   ]
  },
  {
   "cell_type": "code",
   "execution_count": null,
   "metadata": {},
   "outputs": [],
   "source": [
    "from keras.layers import Concatenate\n",
    "concat_layers = [l for l in model.layers if l.__class__ == Concatenate]\n",
    "print(concat_layers)"
   ]
  },
  {
   "cell_type": "code",
   "execution_count": null,
   "metadata": {},
   "outputs": [],
   "source": [
    "activation = model.layers[3].output\n",
    "# activation = concat_layers[0].output\n",
    "spec_model = Model(model.input, activation)"
   ]
  },
  {
   "cell_type": "code",
   "execution_count": null,
   "metadata": {
    "scrolled": false
   },
   "outputs": [],
   "source": [
    "def norm(x):\n",
    "    return (x - x.mean()) / x.std()\n",
    "\n",
    "fns = sorted(glob('data/train/audio/stop/*.wav'))\n",
    "np.random.shuffle(fns)\n",
    "disp_count = 0\n",
    "for fn in fns:\n",
    "    if disp_count > 2:\n",
    "        break\n",
    "    rate, data = wf.read(fn)\n",
    "    data = np.float32(data) / 32768\n",
    "    data = pad_crop(data)\n",
    "    representation = spec_model.predict(data.reshape((1, -1))).squeeze()\n",
    "    spec = load_spectrogram(fn).squeeze()\n",
    "    spec, representation = norm(spec), norm(representation)\n",
    "    print(spec.shape)\n",
    "    plt.figure()\n",
    "    plt.title(fn)\n",
    "    plt.subplot(1, 2, 1)\n",
    "    plt.imshow(np.flipud(representation.T))\n",
    "    plt.subplot(1, 2, 2)\n",
    "    plt.imshow(spec.T)\n",
    "    plt.show()\n",
    "    print(representation.shape)\n",
    "    disp_count += 1\n",
    "# print(activation.shape)"
   ]
  },
  {
   "cell_type": "markdown",
   "metadata": {},
   "source": [
    "# What representation is actually learned?"
   ]
  },
  {
   "cell_type": "code",
   "execution_count": null,
   "metadata": {},
   "outputs": [],
   "source": [
    "# 'checkpoints_069/ep-073-vl-0.3997.hdf5'\n",
    "model = my_load_model('checkpoints_069/ep-073-vl-0.3997.hdf5')\n",
    "print(model.summary())"
   ]
  },
  {
   "cell_type": "code",
   "execution_count": null,
   "metadata": {},
   "outputs": [],
   "source": [
    "layer_idx = 3  # 4\n",
    "first_layer_weights = model.layers[layer_idx].get_weights()[0].squeeze()\n",
    "first_layer_biases = model.layers[layer_idx].get_weights()[1]\n",
    "# first_layer_weights = model.layers[layer_idx].get_weights()[0].squeeze()\n",
    "# first_layer_weights = first_layer_weights.T"
   ]
  },
  {
   "cell_type": "code",
   "execution_count": null,
   "metadata": {},
   "outputs": [],
   "source": [
    "print(first_layer_weights.shape)"
   ]
  },
  {
   "cell_type": "code",
   "execution_count": null,
   "metadata": {},
   "outputs": [],
   "source": [
    "for w in first_layer_weights:\n",
    "    plt.figure()\n",
    "    plt.plot(range(len(w)), w)\n",
    "    plt.show()"
   ]
  },
  {
   "cell_type": "code",
   "execution_count": null,
   "metadata": {},
   "outputs": [],
   "source": [
    "plt.figure()\n",
    "plt.imshow(first_layer_weights.T, cmap='gray')\n",
    "plt.show()"
   ]
  },
  {
   "cell_type": "code",
   "execution_count": null,
   "metadata": {},
   "outputs": [],
   "source": [
    "corr = np.dot(first_layer_weights.T, first_layer_weights)\n",
    "plt.imshow(corr, cmap='gray')"
   ]
  },
  {
   "cell_type": "markdown",
   "metadata": {},
   "source": [
    "# Same for the reshape architecture"
   ]
  },
  {
   "cell_type": "code",
   "execution_count": null,
   "metadata": {},
   "outputs": [],
   "source": [
    "model = my_load_model('checkpoints_084/ep-087-vl-0.2358.hdf5')\n",
    "print(model.summary())"
   ]
  },
  {
   "cell_type": "code",
   "execution_count": null,
   "metadata": {},
   "outputs": [],
   "source": [
    "layer_idx = 4\n",
    "first_layer_weights = model.layers[layer_idx].get_weights()[0].squeeze()\n",
    "print(first_layer_weights.shape)\n",
    "plt.figure()\n",
    "plt.imshow(first_layer_weights.T, cmap='gray')\n",
    "plt.colorbar()\n",
    "plt.show()"
   ]
  },
  {
   "cell_type": "code",
   "execution_count": null,
   "metadata": {},
   "outputs": [],
   "source": [
    "example_label = 'right'\n",
    "test_fns = sorted(glob('data/train/audio/%s/*.wav' % example_label))\n",
    "int2label = get_int2label(wanted_only=False)\n",
    "num_correct = 0\n",
    "num_total = len(test_fns)\n",
    "vis = True\n",
    "pbar = tqdm(test_fns) if not vis else test_fns\n",
    "for fn in pbar:\n",
    "    rate, data = wf.read(fn)\n",
    "    data = pad_crop(data)\n",
    "    data = np.float32(data) / 32767\n",
    "    prediction = model.predict(data.reshape(1, -1)).squeeze()\n",
    "    label = int2label[prediction.argmax()]\n",
    "    if label != example_label and vis:\n",
    "        print(\"Pred: \", label)\n",
    "        display(Audio(fn, autoplay=True))\n",
    "        sleep(1)\n",
    "    \n",
    "    if label == example_label:\n",
    "        num_correct += 1\n",
    "print(\"Acc: %.3f\" % (float(num_correct) / num_total))"
   ]
  },
  {
   "cell_type": "code",
   "execution_count": null,
   "metadata": {},
   "outputs": [],
   "source": [
    "activation_model = Model(model.input, model.layers[40].output)\n",
    "print(activation_model.output_shape)"
   ]
  },
  {
   "cell_type": "code",
   "execution_count": null,
   "metadata": {
    "scrolled": false
   },
   "outputs": [],
   "source": [
    "import cv2\n",
    "test_fns = sorted(glob('data/train/audio/stop/*.wav'))\n",
    "int2label = get_int2label(wanted_only=False)\n",
    "for i in range(2):\n",
    "    for fn in [test_fns[np.random.randint(len(test_fns))]]:\n",
    "        print(fn)\n",
    "        rate, data = wf.read(fn)\n",
    "        data = pad_crop(data)\n",
    "        data = np.float32(data) / 32767\n",
    "        act_val = activation_model.predict(data.reshape(1, -1)).squeeze()\n",
    "        print(act_val.min(), act_val.max())\n",
    "        display(Audio(fn, autoplay=True))\n",
    "        plt.figure()\n",
    "        plt.subplot(4, 1, 1)\n",
    "        plt.imshow(cv2.resize(act_val.T, (16000, act_val.shape[0] * 20), interpolation=cv2.INTER_NEAREST))\n",
    "        plt.subplot(4, 1, 2)\n",
    "        plt.plot(data)\n",
    "        plt.subplot(4, 1, 3)\n",
    "        corr_mat = np.dot(act_val, act_val.T)\n",
    "        print(corr_mat.shape)\n",
    "        plt.imshow(cv2.resize(corr_mat, (16000, corr_mat.shape[0] * 20), interpolation=cv2.INTER_NEAREST))\n",
    "        plt.colorbar()\n",
    "        plt.subplot(4, 1, 4)\n",
    "        plt.plot(data[::40])\n",
    "        plt.show()"
   ]
  },
  {
   "cell_type": "code",
   "execution_count": null,
   "metadata": {},
   "outputs": [],
   "source": [
    "a = np.arange(16000)\n",
    "print(a.reshape((400, 40)))"
   ]
  },
  {
   "cell_type": "markdown",
   "metadata": {},
   "source": [
    "# There are a few wrong labels in the training data. Can we find them using ML?"
   ]
  },
  {
   "cell_type": "code",
   "execution_count": null,
   "metadata": {},
   "outputs": [],
   "source": [
    "# load best single model\n",
    "model = my_load_model('checkpoints_086/ep-110-vl-0.1935.hdf5')"
   ]
  },
  {
   "cell_type": "code",
   "execution_count": null,
   "metadata": {},
   "outputs": [],
   "source": [
    "train_fns = sorted(glob('data/train/audio/*/*.wav'))\n",
    "train_fns = [fn for fn in train_fns\n",
    "             if fn.split('/')[-2] != '_background_noise_' and\n",
    "             fn.split('/')[-2] != 'unknown_unknown']\n",
    "print(\"Found: %d fns\" % len(train_fns))"
   ]
  },
  {
   "cell_type": "code",
   "execution_count": null,
   "metadata": {},
   "outputs": [],
   "source": [
    "int2label = get_int2label(wanted_only=False)\n",
    "fns, preds, gts = [], [], []\n",
    "for fn in tqdm(train_fns[:]):\n",
    "    rate, data = wf.read(fn)\n",
    "    if len(data) != 16000:\n",
    "        data = pad_crop(data)\n",
    "    data = np.float32(data) / 32768\n",
    "    pred = model.predict(data.reshape((1, -1))).squeeze()\n",
    "    gt_label = fn.split('/')[-2]\n",
    "    pred_label = int2label[pred.argmax()]\n",
    "    if pred_label != gt_label:\n",
    "        fns.append(fn)\n",
    "        preds.append(pred_label)\n",
    "        gts.append(gt_label)\n",
    "\n",
    "pd.DataFrame({'filename': fns,\n",
    "              'predicted_label': preds,\n",
    "              'gt_label': gts}).to_csv('wrong_train_labels.csv', index=False)"
   ]
  },
  {
   "cell_type": "code",
   "execution_count": null,
   "metadata": {},
   "outputs": [],
   "source": [
    "!wc -l wrong_train_labels.csv"
   ]
  },
  {
   "cell_type": "code",
   "execution_count": null,
   "metadata": {},
   "outputs": [],
   "source": [
    "wrong_labels = pd.read_csv('wrong_train_labels.csv')\n",
    "print(wrong_labels.shape)"
   ]
  },
  {
   "cell_type": "code",
   "execution_count": null,
   "metadata": {},
   "outputs": [],
   "source": [
    "for i in range(wrong_labels.shape[0]):\n",
    "    fn = wrong_labels.loc[i, 'filename']\n",
    "    gt = wrong_labels.loc[i, 'gt_label']\n",
    "    pred = wrong_labels.loc[i, 'predicted_label']\n",
    "    if gt == 'stop':\n",
    "        print(\"%s: GT: %s, PRED: %s\" % (fn, gt, pred))\n",
    "        display(Audio(fn, autoplay=True))\n",
    "        sleep(1)"
   ]
  },
  {
   "cell_type": "markdown",
   "metadata": {},
   "source": [
    "# Can we speed down the command? This is how I'd repeat something if a person doesn't unterstand me :P (probably louder as well)."
   ]
  },
  {
   "cell_type": "code",
   "execution_count": null,
   "metadata": {},
   "outputs": [],
   "source": [
    "train_fns = sorted(glob('data/train/audio/*/*.wav'))\n",
    "print(len(train_fns))"
   ]
  },
  {
   "cell_type": "code",
   "execution_count": null,
   "metadata": {},
   "outputs": [],
   "source": [
    "np.random.seed(13)\n",
    "fn = np.random.choice(train_fns)\n",
    "print(fn)\n",
    "rate, data = wf.read(fn)\n",
    "if len(data) != 16000:\n",
    "    data = pad_crop(data)\n",
    "data = np.float32(data) / 32767\n",
    "float_audio(data, autoplay=True)\n",
    "print(data.shape)\n",
    "plt.figure()\n",
    "plt.plot(data)\n",
    "plt.show()"
   ]
  },
  {
   "cell_type": "code",
   "execution_count": null,
   "metadata": {},
   "outputs": [],
   "source": [
    "# cv2? lol: https://www.kaggle.com/haqishen/augmentation-methods-for-audio\n",
    "# The pitch chanes (sounds bad!)\n",
    "speed_rate = 0.8\n",
    "w = int(len(data) / speed_rate)\n",
    "print(w)\n",
    "data_fast = data.reshape((1, -1))\n",
    "data_fast = cv2.resize(\n",
    "    data_fast, (w, 1)).squeeze()\n",
    "data_fast = data_fast[4000: 20000]\n",
    "float_audio(data_fast, autoplay=True)\n",
    "plt.figure()\n",
    "plt.plot(data_fast)\n",
    "plt.show()"
   ]
  },
  {
   "cell_type": "markdown",
   "metadata": {},
   "source": [
    "## Try the same with librosa\n",
    "### That sounds good!"
   ]
  },
  {
   "cell_type": "code",
   "execution_count": null,
   "metadata": {},
   "outputs": [],
   "source": [
    "def center_crop(data, desired_size=16000):\n",
    "    left = (len(data) - desired_size) // 2\n",
    "    return data[left: left + desired_size]"
   ]
  },
  {
   "cell_type": "code",
   "execution_count": null,
   "metadata": {
    "scrolled": true
   },
   "outputs": [],
   "source": [
    "speed = 1.3  # float: < 1.0: slow down, > 1.0: speed up\n",
    "data_fast = lr.effects.time_stretch(data, speed)\n",
    "print(data_fast.shape)\n",
    "# data_fast = data_fast[4000: 20000]\n",
    "float_audio(data_fast, autoplay=True)\n",
    "plt.figure()\n",
    "plt.plot(data_fast)\n",
    "plt.show()"
   ]
  },
  {
   "cell_type": "code",
   "execution_count": null,
   "metadata": {},
   "outputs": [],
   "source": []
  }
 ],
 "metadata": {
  "kernelspec": {
   "display_name": "Python 3",
   "language": "python",
   "name": "python3"
  },
  "language_info": {
   "codemirror_mode": {
    "name": "ipython",
    "version": 3
   },
   "file_extension": ".py",
   "mimetype": "text/x-python",
   "name": "python",
   "nbconvert_exporter": "python",
   "pygments_lexer": "ipython3",
   "version": "3.5.2"
  }
 },
 "nbformat": 4,
 "nbformat_minor": 2
}
