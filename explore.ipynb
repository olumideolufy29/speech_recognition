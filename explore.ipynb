{
 "cells": [
  {
   "cell_type": "code",
   "execution_count": 2,
   "metadata": {},
   "outputs": [
    {
     "name": "stderr",
     "output_type": "stream",
     "text": [
      "Using TensorFlow backend.\n"
     ]
    }
   ],
   "source": [
    "%matplotlib inline\n",
    "# %matplotlib notebook\n",
    "from IPython.display import Audio, display\n",
    "import pandas as pd\n",
    "from matplotlib import pyplot as plt\n",
    "import librosa as lr\n",
    "import numpy as np\n",
    "import os\n",
    "from shutil import copy, rmtree\n",
    "from os.path import join as jp\n",
    "from tqdm import tqdm\n",
    "import pickle\n",
    "from scipy.io import wavfile as wf\n",
    "from time import time, sleep\n",
    "from input_data import AudioProcessor, prepare_words_list\n",
    "from glob import glob\n",
    "import hashlib\n",
    "from classes import get_classes, get_int2label, get_label2int\n",
    "from keras.layers import Input, Lambda\n",
    "from model import prepare_model_settings, relu6, overlapping_time_slice_stack\n",
    "from keras.applications.mobilenet import DepthwiseConv2D\n",
    "from keras.models import Model\n",
    "from keras import backend as K\n",
    "from keras.activations import softmax\n",
    "import tensorflow as tf\n",
    "from tensorflow.contrib.framework.python.ops import audio_ops as contrib_audio\n",
    "from tensorflow.python.ops import io_ops\n",
    "from keras.layers import Input, Conv1D, Reshape\n",
    "from keras.models import Model, load_model\n",
    "\n",
    "def my_load_model(fn):\n",
    "    return load_model(fn, {'relu6': relu6, 'DepthwiseConv2D': DepthwiseConv2D,\n",
    "                           'overlapping_time_slice_stack': overlapping_time_slice_stack,\n",
    "                           'softmax': softmax})\n",
    "\n",
    "def pad_crop(data, desired_size=16000):\n",
    "    data_len = len(data)\n",
    "    if data_len < desired_size:\n",
    "        missing = desired_size - data_len\n",
    "        data = np.pad(data, (missing, 0), mode='constant')\n",
    "    else:\n",
    "        data = data[:desired_size]\n",
    "    return data\n",
    "\n",
    "def float_audio(x, sample_rate=16000, autoplay=False):\n",
    "    # avoid Audio normalizing the data\n",
    "    data = np.int16(x * 32768)\n",
    "    fn = '/tmp/%s.wav' % data[:5]\n",
    "    wf.write(fn, sample_rate, data)\n",
    "    display(Audio(filename=fn, rate=sample_rate, autoplay=autoplay))\n",
    "\n",
    "def plot_audio(data, sample_rate=16000, normed=False):\n",
    "    if not normed:\n",
    "        data = np.float32(data) / 32768\n",
    "    plt.figure()\n",
    "    plt.plot(np.arange(sample_rate), data)\n",
    "    plt.axis([0, sample_rate, -1, 1])\n",
    "    \n",
    "def center_pad(data, desired_size=16000):\n",
    "    missing = desired_size - len(data)\n",
    "    pad_left = missing // 2\n",
    "    pad_right = missing - pad_left\n",
    "    padded_data = np.pad(data, (pad_left, pad_right), mode='constant')\n",
    "    return padded_data\n",
    "\n",
    "def random_crop(data, desired_size=16000):\n",
    "    start = np.random.randint(len(data) - desired_size)\n",
    "    return data[start: start + desired_size]\n",
    "\n",
    "def normalized_read(fn, desired_size=16000):\n",
    "    rate, data = wf.read(fn)\n",
    "    data = np.float32(data) / 32768\n",
    "    assert rate == 16000\n",
    "    if len(data) < desired_size:\n",
    "        data = center_pad(data, desired_size=desired_size)\n",
    "    elif len(data) > desired_size:\n",
    "        data = random_crop(data, desired_size=desired_size)\n",
    "    return data\n",
    "\n",
    "def md5(fname):\n",
    "    hash_md5 = hashlib.md5()\n",
    "    with open(fname, \"rb\") as f:\n",
    "        for chunk in iter(lambda: f.read(4096), b\"\"):\n",
    "            hash_md5.update(chunk)\n",
    "    return hash_md5.hexdigest()"
   ]
  },
  {
   "cell_type": "raw",
   "metadata": {},
   "source": [
    "sub1 = pd.read_csv('submission_033b.csv')  # 87% PLB\n",
    "sub2 = pd.read_csv('submission_017.csv')  # 87% PLB\n",
    "sub3 = pd.read_csv('submission_018.csv')  # 86% PLB"
   ]
  },
  {
   "cell_type": "code",
   "execution_count": null,
   "metadata": {},
   "outputs": [],
   "source": [
    "# check where all three disagree\n",
    "unequal = ((sub1.label != sub2.label) & (sub1.label != sub3.label))\n",
    "print(\"%d of %d are unequal\" % (unequal.sum(), sub1.shape[0]))"
   ]
  },
  {
   "cell_type": "markdown",
   "metadata": {},
   "source": [
    "## Display where classifiers disagree\n",
    "These samples are acutally quite hard!"
   ]
  },
  {
   "cell_type": "code",
   "execution_count": null,
   "metadata": {},
   "outputs": [],
   "source": [
    "TEST_DIR = 'data/test/audio'\n",
    "disp_count = 0\n",
    "for i in range(len(unequal)):\n",
    "    if disp_count > 5:\n",
    "        break\n",
    "    if unequal[i] and np.random.rand() > 0.99:\n",
    "        fn = os.path.join(TEST_DIR, sub1.loc[i, 'fname'])\n",
    "        print(fn, ': ', sub1.loc[i, 'label'], \" vs \", sub2.loc[i, 'label'])\n",
    "        display(Audio(fn, autoplay=True))\n",
    "        sleep(1)\n",
    "        disp_count += 1"
   ]
  },
  {
   "cell_type": "code",
   "execution_count": null,
   "metadata": {},
   "outputs": [],
   "source": [
    "# save these \"hard\" ones\n",
    "for i in tqdm(range(len(unequal))):\n",
    "    if unequal[i]:\n",
    "        bn = sub1.loc[i, 'fname']\n",
    "        src_fn = os.path.join('data/test/audio', bn)\n",
    "        dst_fn = os.path.join('data/pseudo/audio/unknown', bn)\n",
    "        copy(src_fn, dst_fn)\n",
    "# when using as pseudo labels remove 'silence'! (e.g. ls *.wav | grep -v silence)"
   ]
  },
  {
   "cell_type": "markdown",
   "metadata": {},
   "source": [
    "## Show (predicted) test data distribution\n",
    "### Note that during training silence prob was 10%"
   ]
  },
  {
   "cell_type": "code",
   "execution_count": null,
   "metadata": {},
   "outputs": [],
   "source": [
    "def show_bar(submission):\n",
    "    counts = []\n",
    "    for label_name in submission.label.unique():\n",
    "        label_count = (submission.label == label_name).sum()\n",
    "        percent = (label_count / num_total) * 100.0\n",
    "        counts.append((label_name, percent))\n",
    "    print(counts)\n",
    "    plt.bar(range(len(counts)), [c[-1] for c in counts])\n",
    "    _ = plt.xticks(range(len(counts)), [c[0] for c in counts])\n",
    "    plt.grid('on')\n",
    "    plt.xlabel('Label names')\n",
    "    plt.ylabel('Precentage [%]')"
   ]
  },
  {
   "cell_type": "code",
   "execution_count": null,
   "metadata": {},
   "outputs": [],
   "source": [
    "show_bar(sub1)"
   ]
  },
  {
   "cell_type": "markdown",
   "metadata": {},
   "source": [
    "# Compress and decompress using mu-law"
   ]
  },
  {
   "cell_type": "code",
   "execution_count": null,
   "metadata": {},
   "outputs": [],
   "source": [
    "def load_wav(fn):\n",
    "    rate, data = wf.read(fn)\n",
    "    assert rate == 16000\n",
    "    data = data / 32768\n",
    "    missing = 16000 - len(data)\n",
    "    data = np.pad(data, (missing, 0), mode='constant')\n",
    "    return data\n",
    "\n",
    "\n",
    "def compress(x, mu=255):\n",
    "    assert x.min() >= -1 and x.max() <= 1\n",
    "    compressed = np.sign(x) * np.log10(1.0 + mu * np.abs(x)) / np.log10(1.0 + mu)\n",
    "    return compressed\n",
    "\n",
    "def decompress(x, mu=255):\n",
    "    assert x.min() >= -1 and x.max() <= 1\n",
    "    decompressed= np.sign(x) * (1.0 / mu) * (np.power(1.0 + x, np.abs(x)) - 1.0)\n",
    "    return decompressed"
   ]
  },
  {
   "cell_type": "code",
   "execution_count": null,
   "metadata": {},
   "outputs": [],
   "source": [
    "up_sample = load_wav('data/test/audio/clip_001204892.wav')\n",
    "float_audio(up_sample)\n",
    "c = compress(up_sample)\n",
    "d = decompress(c)\n",
    "float_audio(d)"
   ]
  },
  {
   "cell_type": "code",
   "execution_count": null,
   "metadata": {},
   "outputs": [],
   "source": [
    "display(Audio(data=np.int16(up_sample  * 32768), rate=16000))"
   ]
  },
  {
   "cell_type": "markdown",
   "metadata": {},
   "source": [
    "### Use average pooling to reduce signal size"
   ]
  },
  {
   "cell_type": "code",
   "execution_count": null,
   "metadata": {},
   "outputs": [],
   "source": [
    "from keras.models import Model\n",
    "from keras.layers import AveragePooling1D, Input, Reshape\n",
    "def avg_model(sample_rate=16000):\n",
    "    input_layer = Input([sample_rate])\n",
    "    x = input_layer\n",
    "    x = Reshape([-1, 1])(x)\n",
    "    x = AveragePooling1D(2)(x)\n",
    "    return Model(input_layer, x)\n",
    "\n",
    "model = avg_model()\n",
    "out = model.predict([up_sample.reshape((1, -1))]).squeeze()\n"
   ]
  },
  {
   "cell_type": "code",
   "execution_count": null,
   "metadata": {},
   "outputs": [],
   "source": [
    "plt.figure()\n",
    "plt.title('Orginal')\n",
    "plt.plot(up_sample)\n",
    "plt.figure()\n",
    "plt.title('Subsamples')\n",
    "plt.plot(out)"
   ]
  },
  {
   "cell_type": "code",
   "execution_count": null,
   "metadata": {},
   "outputs": [],
   "source": [
    "float_audio(out, sample_rate=len(out))"
   ]
  },
  {
   "cell_type": "markdown",
   "metadata": {},
   "source": [
    "# How is the padding handeled by decode_wav?"
   ]
  },
  {
   "cell_type": "code",
   "execution_count": null,
   "metadata": {},
   "outputs": [],
   "source": [
    "from tensorflow.contrib.framework.python.ops import audio_ops as contrib_audio\n",
    "from tensorflow.python.ops import io_ops\n",
    "\n",
    "wav_filename_placeholder = tf.placeholder(tf.string, [])\n",
    "wav_loader = io_ops.read_file(wav_filename_placeholder)\n",
    "wav_decoder = contrib_audio.decode_wav(\n",
    "    wav_loader, desired_channels=1)\n",
    "fns = sorted(glob('data/train/audio/go/*.wav'))\n",
    "short_fn = ''\n",
    "with tf.Session() as sess:\n",
    "    for fn in fns:\n",
    "        out = sess.run(wav_decoder.audio,\n",
    "                       {wav_filename_placeholder: fn_val})\n",
    "        if out.shape[0] != 16000:\n",
    "            short_fn = fn\n",
    "            print(fn)\n",
    "            break\n",
    "print(out.shape)"
   ]
  },
  {
   "cell_type": "code",
   "execution_count": null,
   "metadata": {},
   "outputs": [],
   "source": [
    "display(Audio(short_fn, autoplay=True))\n",
    "sleep(1)\n",
    "float_audio(out, autoplay=True)"
   ]
  },
  {
   "cell_type": "markdown",
   "metadata": {},
   "source": [
    "# Check how many samples are shorter than 1s"
   ]
  },
  {
   "cell_type": "code",
   "execution_count": null,
   "metadata": {},
   "outputs": [],
   "source": [
    "from glob import glob\n",
    "from tqdm import tqdm\n",
    "train_fns = sorted(glob('data/train/audio/*/*.wav'))"
   ]
  },
  {
   "cell_type": "code",
   "execution_count": null,
   "metadata": {},
   "outputs": [],
   "source": [
    "def load_wav(fn):\n",
    "    rate, data = wf.read(fn)\n",
    "    assert rate == 16000\n",
    "    return data"
   ]
  },
  {
   "cell_type": "markdown",
   "metadata": {},
   "source": [
    "short_count = 0\n",
    "for fn in tqdm(train_fns):\n",
    "    data = load_wav(fn)\n",
    "    if len(data) != 16000:\n",
    "        short_count += 1\n",
    "print(\"Short: \", short_count)\n",
    "print(\"All: \", len(train_fns))"
   ]
  },
  {
   "cell_type": "markdown",
   "metadata": {},
   "source": [
    "# Visualize augmented training data"
   ]
  },
  {
   "cell_type": "code",
   "execution_count": null,
   "metadata": {},
   "outputs": [],
   "source": [
    "from __future__ import division, print_function\n",
    "from keras import backend as K\n",
    "from keras.callbacks import ModelCheckpoint, LearningRateScheduler\n",
    "from keras.callbacks import TensorBoard\n",
    "from callbacks import ConfusionMatrixCallback\n",
    "from model import speech_model, prepare_model_settings\n",
    "from input_data import AudioProcessor, prepare_words_list\n",
    "from classes import get_classes\n",
    "from IPython import embed  # noqa"
   ]
  },
  {
   "cell_type": "raw",
   "metadata": {},
   "source": [
    "def data_gen(audio_processor, sess,\n",
    "             batch_size=128,\n",
    "             background_frequency=0.5, background_volume_range=0.2,\n",
    "             foreground_frequency=0.5, foreground_volume_range=0.2,\n",
    "             time_shift=(100.0 * 16000.0) / 1000,\n",
    "             mode='validation'):\n",
    "    offset = 0\n",
    "    if mode != 'training':\n",
    "        background_frequency = 0.0\n",
    "        background_volume_range = 0.0\n",
    "        foreground_frequency = 0.0\n",
    "        foreground_volume_range = 0.0\n",
    "        time_shift = 0\n",
    "    while True:\n",
    "        X, y = audio_processor.get_data(\n",
    "            how_many=batch_size, offset=0 if mode == 'training' else offset,\n",
    "            background_frequency=background_frequency,\n",
    "            background_volume_range=background_volume_range,\n",
    "            foreground_frequency=foreground_frequency,\n",
    "            foreground_volume_range=foreground_volume_range,\n",
    "            time_shift=time_shift, mode=mode, sess=sess)\n",
    "        offset += batch_size\n",
    "        if offset > ap.set_size(mode) - batch_size:\n",
    "              offset = 0\n",
    "        yield X, y"
   ]
  },
  {
   "cell_type": "code",
   "execution_count": null,
   "metadata": {},
   "outputs": [],
   "source": [
    "sess = K.get_session()\n",
    "data_dirs = ['data/train/audio']\n",
    "add_pseudo = True\n",
    "if add_pseudo:\n",
    "    data_dirs.append('data/pseudo/audio')\n",
    "compute_mfcc = False\n",
    "sample_rate = 16000\n",
    "batch_size = 100\n",
    "classes = get_classes(wanted_only=False)\n",
    "model_settings = prepare_model_settings(\n",
    "  label_count=len(prepare_words_list(classes)), sample_rate=sample_rate,\n",
    "  clip_duration_ms=1000, window_size_ms=30.0, window_stride_ms=10.0,\n",
    "  dct_coefficient_count=40)\n",
    "ap = AudioProcessor(\n",
    "  data_dirs=data_dirs,\n",
    "  silence_percentage=10.0,\n",
    "  unknown_percentage=7.0,\n",
    "  wanted_words=classes,\n",
    "  validation_percentage=10.0,\n",
    "  testing_percentage=0.0,\n",
    "  model_settings=model_settings,\n",
    "  compute_mfcc=compute_mfcc)\n",
    "train_gen = data_gen(ap, sess, batch_size=batch_size, mode='training')\n",
    "val_gen = data_gen(ap, sess, batch_size=batch_size, mode='validation')"
   ]
  },
  {
   "cell_type": "code",
   "execution_count": null,
   "metadata": {},
   "outputs": [],
   "source": [
    "ap.summary()"
   ]
  },
  {
   "cell_type": "code",
   "execution_count": null,
   "metadata": {},
   "outputs": [],
   "source": [
    "disp_count = 0\n",
    "while True:\n",
    "    if disp_count > 5:\n",
    "        break\n",
    "    X, y = next(train_gen)\n",
    "    for i in range(X.shape[0]):\n",
    "        if y[i].argmax() == 10:\n",
    "            sample = X[i, :].squeeze()\n",
    "            float_audio(sample, autoplay=True)\n",
    "            sleep(1)\n",
    "            disp_count += 1\n",
    "            # plt.figure()\n",
    "            # plt.axis([0, 16000, -1, 1])\n",
    "            # plt.plot(sample)"
   ]
  },
  {
   "cell_type": "markdown",
   "metadata": {},
   "source": [
    "# Create pseudo labels from consistent predictions\n",
    "### [v_001]: Sub1: 84% PLB, Sub2: 84% PLB, Sub3: 82%: 118078 consistend pseudo labels\n",
    "### [v_002]: Sub1: 87%, Sub2: 87%, Sub3: 88%: 140945 pseudo consistend pseudo labels\n",
    "#### v_002: There are only 158538 test data points! Maybe that's the reason I am stuck -> reduce pseudo label fraction"
   ]
  },
  {
   "cell_type": "code",
   "execution_count": null,
   "metadata": {},
   "outputs": [],
   "source": [
    "sub1 = pd.read_csv('submission_098_leftloud_tta_all_labels.csv')  # 87% PLB\n",
    "sub2 = pd.read_csv('submission_096_leftloud_tta_all_labels.csv')  # 87% PLB\n",
    "sub3 = pd.read_csv('submission_091_leftloud_tta_all_labels.csv')  # 88% PLB"
   ]
  },
  {
   "cell_type": "code",
   "execution_count": null,
   "metadata": {},
   "outputs": [],
   "source": [
    "consistend = ((sub1.label == sub2.label) & (sub1.label == sub3.label))\n",
    "print(\"All: \", sub1.shape[0], \" consistend: \", consistend.sum())"
   ]
  },
  {
   "cell_type": "code",
   "execution_count": null,
   "metadata": {},
   "outputs": [],
   "source": [
    "for i in tqdm(range(sub1.shape[0])):\n",
    "    fn = sub1.loc[i, 'fname']\n",
    "    if fn != sub2.loc[i, 'fname'] or fn != sub3.loc[i, 'fname']:\n",
    "        print(\"Fatal error\")\n",
    "        break\n",
    "    if consistend[i]:\n",
    "        label = sub1.loc[i, 'label']\n",
    "        dst_fn = jp('data', 'pseudo', 'audio', label, fn)\n",
    "        src_fn = jp('data', 'test', 'audio', fn)\n",
    "        copy(src_fn, dst_fn, follow_symlinks=False)"
   ]
  },
  {
   "cell_type": "markdown",
   "metadata": {},
   "source": [
    "# Create new background noise from pseudo silence\n",
    "## Just concat 60 seconds of audio"
   ]
  },
  {
   "cell_type": "code",
   "execution_count": null,
   "metadata": {},
   "outputs": [],
   "source": [
    "pseudo_silence_fns = sorted(glob('data/pseudo/silence/*.wav'))\n",
    "num_pseudo_noise = 5\n",
    "num_secs = 60\n",
    "for i in range(num_pseudo_noise):\n",
    "    background_fns = np.random.choice(\n",
    "        pseudo_silence_fns, num_secs, replace=False)\n",
    "    new_clip = []\n",
    "    for fn in background_fns:\n",
    "        rate, data = wf.read(fn)\n",
    "        new_clip.append(data)\n",
    "    new_clip = np.concatenate(new_clip).astype(np.int16)\n",
    "    out_fn = 'data/train/audio/_background_noise_/custom_pseudo_silence_%04d.wav' % i\n",
    "    # print(out_fn)\n",
    "    wf.write(out_fn, 16000, new_clip)"
   ]
  },
  {
   "cell_type": "code",
   "execution_count": null,
   "metadata": {},
   "outputs": [],
   "source": [
    "?wf.write"
   ]
  },
  {
   "cell_type": "markdown",
   "metadata": {},
   "source": [
    "# Listen to submission"
   ]
  },
  {
   "cell_type": "code",
   "execution_count": null,
   "metadata": {},
   "outputs": [],
   "source": [
    "words = get_classes(wanted_only=False, extend_reversed=True)\n",
    "[w for w in words if 'b' in w]"
   ]
  },
  {
   "cell_type": "code",
   "execution_count": null,
   "metadata": {
    "scrolled": true
   },
   "outputs": [],
   "source": [
    "sub = pd.read_csv('sub')\n",
    "offset = 1000\n",
    "label2int = get_label2int(wanted_only=True)\n",
    "disp_count = 0\n",
    "for i in list(reversed(range(sub.shape[0])))[offset:]:\n",
    "    if disp_count >= 10:\n",
    "        break\n",
    "    fn = jp('data', 'test', 'audio', sub.loc[i, 'fname'])\n",
    "    label = sub.loc[i, 'label']\n",
    "    if label == 'off' and np.random.rand() > 0.8:\n",
    "        print(fn, label)\n",
    "        display(Audio(fn, autoplay=True))\n",
    "        sleep(1)\n",
    "        disp_count += 1"
   ]
  },
  {
   "cell_type": "code",
   "execution_count": null,
   "metadata": {
    "scrolled": false
   },
   "outputs": [],
   "source": [
    "np.random.seed(5)\n",
    "sub = pd.read_csv('submission_034_all_labels.csv')\n",
    "label2int = get_label2int(wanted_only=True)\n",
    "disp_count = 0\n",
    "for i in reversed(range(sub.shape[0])):\n",
    "    if disp_count >= 2:\n",
    "        break\n",
    "    label = sub.loc[i, 'label']\n",
    "    if label == 'silence' and np.random.rand() > 0.999:\n",
    "        fn = jp('data', 'test', 'audio', sub.loc[i, 'fname'])\n",
    "        rate, data = wf.read(fn)\n",
    "        data = np.float32(data) / 32767\n",
    "        # data = np.sqrt(data) + 0.5\n",
    "        data = 10 ** (data) - 1.0\n",
    "        plot_audio(data, normed=True)\n",
    "        print(fn, label)\n",
    "        float_audio(data, autoplay=True)\n",
    "        sleep(1)\n",
    "        disp_count += 1"
   ]
  },
  {
   "cell_type": "code",
   "execution_count": null,
   "metadata": {},
   "outputs": [],
   "source": [
    "# compare two submissions\n",
    "# sub1 = pd.read_csv('submission_091_all_labels.csv')\n",
    "# sub2 = pd.read_csv('submission_091_4x_tta_all_labels.csv')\n",
    "\n",
    "sub1 = pd.read_csv('submission_091_all_labels.csv')\n",
    "sub2 = pd.read_csv('submission_091_leftloud_tta_all_labels.csv')\n",
    "num_different = 0\n",
    "\n",
    "for i in tqdm(reversed(range(sub1.shape[0]))):\n",
    "    fn = sub1.loc[i, 'fname']\n",
    "    assert fn == sub2.loc[i, 'fname']\n",
    "    label1 = sub1.loc[i, 'label']\n",
    "    label2 = sub2.loc[i, 'label']\n",
    "    if label1 != label2:\n",
    "        num_different += 1\n",
    "        print(\"%s vs. %s\" % (label1, label2))\n",
    "        in_fn = jp('data/test/audio', fn)\n",
    "        display(Audio(in_fn, autoplay=True))\n",
    "        sleep(1)\n",
    "print(\"%d of %d are different\" % (num_different, sub1.shape[0]))"
   ]
  },
  {
   "cell_type": "markdown",
   "metadata": {},
   "source": [
    "# Listen to submission with probs"
   ]
  },
  {
   "cell_type": "code",
   "execution_count": null,
   "metadata": {},
   "outputs": [],
   "source": [
    "print(\"Wanted: \", get_classes(wanted_only=True))\n",
    "print(\"All: \", get_classes(wanted_only=False))"
   ]
  },
  {
   "cell_type": "code",
   "execution_count": null,
   "metadata": {
    "scrolled": false
   },
   "outputs": [],
   "source": [
    "sub = pd.read_csv('submission_100_leftloud_tta_all_labels_probs.csv')\n",
    "label2int = get_label2int(wanted_only=False)\n",
    "int2label = get_int2label(wanted_only=False)\n",
    "disp_count = 0\n",
    "for i in reversed(range(sub.shape[0])):\n",
    "    if disp_count >= 5:\n",
    "        break\n",
    "    fn = jp('data', 'test', 'audio', sub.loc[i, 'fname'])\n",
    "    label = sub.loc[i, 'label']\n",
    "    if label == 'no' and np.random.rand() > 0.99:\n",
    "        probs = sub.loc[i, label2int.keys()]\n",
    "        max_prob = probs.max()\n",
    "        if max_prob < 0.5:\n",
    "            plt.figure()\n",
    "            plt.title(str(disp_count))\n",
    "            plt.bar(range(len(probs)), probs)\n",
    "            plt.axis([0, len(probs), 0, 1])\n",
    "            plt.xticks(range(len(probs)), label2int.keys(), rotation='vertical')\n",
    "            display(Audio(fn, autoplay=True))\n",
    "            sleep(1)\n",
    "            disp_count += 1"
   ]
  },
  {
   "cell_type": "markdown",
   "metadata": {},
   "source": [
    "# Correct broken submission"
   ]
  },
  {
   "cell_type": "code",
   "execution_count": null,
   "metadata": {},
   "outputs": [],
   "source": [
    "sub_broken = pd.read_csv('submission_012.csv')\n",
    "sub_all = pd.read_csv('submission_012_all_labels.csv')\n",
    "sub_broken.loc[(sub_all.label == 'unknown').values, 'label'] = 'silence'\n",
    "sub_broken.to_csv('submission_012_corrected.csv', index=False)"
   ]
  },
  {
   "cell_type": "code",
   "execution_count": null,
   "metadata": {},
   "outputs": [],
   "source": [
    "sub = pd.read_csv('submission_012_corrected.csv')\n",
    "disp_count = 0\n",
    "for i in range(sub.shape[0]):\n",
    "    if disp_count >= 10:\n",
    "        break\n",
    "    fn = jp('data', 'test', 'audio', sub.loc[i, 'fname'])\n",
    "    label = sub.loc[i, 'label']\n",
    "    if label != 'unknown' and np.random.rand() > 0.9:\n",
    "        print(label)\n",
    "        display(Audio(fn, autoplay=True))\n",
    "        sleep(1)\n",
    "        disp_count += 1"
   ]
  },
  {
   "cell_type": "code",
   "execution_count": null,
   "metadata": {},
   "outputs": [],
   "source": [
    "sub = pd.read_csv('submission_012_all_labels.csv')\n",
    "counts = sub.label.value_counts()\n",
    "percent_counts = counts.apply(lambda x: np.round(100.0 * (x / sub.shape[0])))\n",
    "# print(counts)\n",
    "print(percent_counts)"
   ]
  },
  {
   "cell_type": "markdown",
   "metadata": {},
   "source": [
    "# Check what the generators are producing"
   ]
  },
  {
   "cell_type": "code",
   "execution_count": null,
   "metadata": {},
   "outputs": [],
   "source": [
    "from __future__ import division, print_function\n",
    "import tensorflow as tf\n",
    "from keras import backend as K\n",
    "from keras.callbacks import ModelCheckpoint, ReduceLROnPlateau\n",
    "from keras.callbacks import TensorBoard\n",
    "from callbacks import ConfusionMatrixCallback\n",
    "from model import speech_model, prepare_model_settings\n",
    "from input_data import AudioProcessor, prepare_words_list\n",
    "from classes import get_classes\n",
    "from IPython import embed  # noqa\n",
    "\n",
    "\n",
    "def data_gen(audio_processor, sess,\n",
    "             batch_size=128,\n",
    "             background_frequency=0.5, background_volume_range=0.2,\n",
    "             foreground_frequency=0.5, foreground_volume_range=0.2,\n",
    "             time_shift_frequency=1.0, time_shift_range=[-2000, 0],\n",
    "             mode='validation', pseudo_frequency=0.4):\n",
    "  offset = 0\n",
    "  if mode != 'training':\n",
    "    background_frequency = 0.0\n",
    "    background_volume_range = 0.0\n",
    "    foreground_frequency = 0.0\n",
    "    foreground_volume_range = 0.0\n",
    "    pseudo_frequency = 0.0\n",
    "    time_shift_frequency = 0.0\n",
    "    time_shift_range = [0, 0]\n",
    "  while True:\n",
    "    X, y = audio_processor.get_data(\n",
    "        how_many=batch_size, offset=0 if mode == 'training' else offset,\n",
    "        background_frequency=background_frequency,\n",
    "        background_volume_range=background_volume_range,\n",
    "        foreground_frequency=foreground_frequency,\n",
    "        foreground_volume_range=foreground_volume_range,\n",
    "        time_shift_frequency=time_shift_frequency,\n",
    "        time_shift_range=time_shift_range,\n",
    "        mode=mode, sess=sess,\n",
    "        pseudo_frequency=pseudo_frequency)\n",
    "    offset += batch_size\n",
    "    if offset > ap.set_size(mode) - batch_size:\n",
    "      offset = 0\n",
    "    yield X, y\n",
    "\n",
    "\n",
    "# running_mean: -0.8 | running_std: 7.0\n",
    "# mfcc running_mean: -0.67 | running_std: 7.45\n",
    "# background_clamp running_mean: -0.00064 | running_std: 0.0774, p5: -0.074, p95: 0.0697  # noqa\n",
    "# 10 ** raw - 1.0 running_mean: 0.017 | 10 ** raw - 1.0 running_std: 0.28\n",
    "# np.log(11) ~ 2.4\n",
    "# np.log(12) ~ 2.5\n",
    "# np.log(32) ~ 3.5\n",
    "# np.log(48) ~ 3.9\n",
    "# 64727 training files\n",
    "if __name__ == '__main__':\n",
    "  # restrict gpu usage: https://stackoverflow.com/questions/34199233/how-to-prevent-tensorflow-from-allocating-the-totality-of-a-gpu-memory  # noqa\n",
    "  gpu_options = tf.GPUOptions(per_process_gpu_memory_fraction=0.90)\n",
    "  sess = tf.Session(config=tf.ConfigProto(gpu_options=gpu_options))\n",
    "  K.set_session(sess)\n",
    "  data_dirs = ['data/train/audio']\n",
    "  add_pseudo = True\n",
    "  if add_pseudo:\n",
    "    data_dirs.append('data/pseudo/audio')\n",
    "  output_representation = 'raw'\n",
    "  sample_rate = 16000\n",
    "  batch_size = 384\n",
    "  classes = get_classes(wanted_only=False, extend_reversed=False)\n",
    "  model_settings = prepare_model_settings(\n",
    "      label_count=len(prepare_words_list(classes)), sample_rate=sample_rate,\n",
    "      clip_duration_ms=1000, window_size_ms=30.0, window_stride_ms=10.0,\n",
    "      dct_coefficient_count=40)\n",
    "  ap = AudioProcessor(\n",
    "      data_dirs=data_dirs, wanted_words=classes,\n",
    "      silence_percentage=15.0, unknown_percentage=5.0,\n",
    "      validation_percentage=10.0, testing_percentage=0.0,\n",
    "      model_settings=model_settings,\n",
    "      output_representation=output_representation)\n",
    "  train_gen = data_gen(ap, sess, batch_size=batch_size, mode='training')\n",
    "  val_gen = data_gen(ap, sess, batch_size=batch_size, mode='validation')"
   ]
  },
  {
   "cell_type": "code",
   "execution_count": null,
   "metadata": {},
   "outputs": [],
   "source": [
    "print(int2label)"
   ]
  },
  {
   "cell_type": "code",
   "execution_count": null,
   "metadata": {},
   "outputs": [],
   "source": [
    "int2label = get_int2label(wanted_only=False)\n",
    "X, y = next(train_gen)\n",
    "for j in range(X.shape[0]):\n",
    "    label = int2label[y[j].argmax()]\n",
    "    if label == 'sheila':\n",
    "        data = X[j, :].squeeze()\n",
    "        float_audio(data, autoplay=True)\n",
    "        sleep(1)"
   ]
  },
  {
   "cell_type": "markdown",
   "metadata": {},
   "source": [
    "## ap.summary()"
   ]
  },
  {
   "cell_type": "code",
   "execution_count": null,
   "metadata": {},
   "outputs": [],
   "source": [
    "wanted_words = get_classes(wanted_only=True)\n",
    "print(wanted_words)\n",
    "labels2int = {v: k for k, v in ap.word_to_index.items()}"
   ]
  },
  {
   "cell_type": "code",
   "execution_count": null,
   "metadata": {},
   "outputs": [],
   "source": [
    "!rm -rf data/train/audio/_silence_\n",
    "!mkdir data/train/audio/_silence_"
   ]
  },
  {
   "cell_type": "code",
   "execution_count": null,
   "metadata": {
    "scrolled": true
   },
   "outputs": [],
   "source": [
    "# save silence samples to '_silence_'\n",
    "disp_count = 0\n",
    "for i in range(100):\n",
    "    print(disp_count)\n",
    "    if disp_count > 100:\n",
    "        break\n",
    "    X, y = next(train_gen)\n",
    "    y = y.argmax(axis=-1)\n",
    "    for j in range(len(y)):\n",
    "        if y[j] == 0:\n",
    "            print(labels2int[y[j]])\n",
    "            out_fn = jp('data/train/audio/_silence_/%05d.wav' % disp_count)\n",
    "            data = np.int16(X[j, :] * 32768)\n",
    "            wf.write(out_fn, 16000, data)\n",
    "            # float_audio(X[j, :], autoplay=True)\n",
    "            # sleep(1)\n",
    "            disp_count += 1"
   ]
  },
  {
   "cell_type": "markdown",
   "metadata": {},
   "source": [
    "### Load model and check where we go wrong in the validation set"
   ]
  },
  {
   "cell_type": "code",
   "execution_count": null,
   "metadata": {},
   "outputs": [],
   "source": [
    "model = speech_model(\n",
    "  'conv_1d_time',\n",
    "  model_settings['fingerprint_size'] if compute_mfcc else sample_rate,\n",
    "  num_classes=model_settings['label_count'])\n",
    "model.load_weights('checkpoints_014/ep-039-loss-0.173.hdf5')\n",
    "disp_count = 0\n",
    "for i in range(ap.set_size('validation') // batch_size):\n",
    "    if disp_count >= 10:\n",
    "        break\n",
    "    X, y_true = next(val_gen)\n",
    "    y_true = y_true.argmax(axis=-1)\n",
    "    y_pred = model.predict(X).argmax(axis=-1)\n",
    "    for j in range(len(y_true)):\n",
    "        if y_true[j] != y_pred[j] and np.random.rand() > 0.5:\n",
    "            l_true = labels2int[y_true[j]]\n",
    "            l_pred = labels2int[y_pred[j]]\n",
    "            print(\"Pred: %s, Actual: %s\" % (l_pred, l_true))\n",
    "            float_audio(X[j, :], autoplay=True)\n",
    "            sleep(1)\n",
    "            disp_count += 1"
   ]
  },
  {
   "cell_type": "markdown",
   "metadata": {},
   "source": [
    "# Create \"unknown\" words\n",
    "### Just reverse some of the unwanted words. Reversing the wanted words might actually cause some problems when using global pooling in the end?"
   ]
  },
  {
   "cell_type": "code",
   "execution_count": null,
   "metadata": {},
   "outputs": [],
   "source": [
    "print(exclude_words)"
   ]
  },
  {
   "cell_type": "code",
   "execution_count": null,
   "metadata": {},
   "outputs": [],
   "source": [
    "wanted_words = get_classes(wanted_only=True)\n",
    "# wow reversed is wow! one reversed sounds like no!\n",
    "# dog vs go :P\n",
    "exclude_words = wanted_words + ['_background_noise_', 'wow', 'one', 'dog']"
   ]
  },
  {
   "cell_type": "code",
   "execution_count": null,
   "metadata": {},
   "outputs": [],
   "source": [
    "fns = sorted(glob(jp('data', 'train', 'audio', '*', '*.wav')))\n",
    "print(len(fns))\n",
    "fns = [fn for fn in fns if fn.split('/')[-2] not in exclude_words]\n",
    "print(len(fns))"
   ]
  },
  {
   "cell_type": "code",
   "execution_count": null,
   "metadata": {},
   "outputs": [],
   "source": [
    "new_classes = list(set([fn.split('/')[-2] for fn in fns]))\n",
    "# new_classes.remove('_silence_')\n",
    "new_classes = ['new_' + new_class[::-1] for new_class in new_classes]\n",
    "print(new_classes)\n",
    "for new_class in new_classes:\n",
    "    new_dir = jp('data/train/audio', new_class)\n",
    "    if os.path.exists(new_dir):\n",
    "        rmtree(new_dir)\n",
    "    os.mkdir(new_dir)\n",
    "    print(\"created %s\" % new_dir)"
   ]
  },
  {
   "cell_type": "code",
   "execution_count": null,
   "metadata": {},
   "outputs": [],
   "source": [
    "np.random.shuffle(fns)\n",
    "# fn_selection = np.random.choice(fns, size=5000, replace=False)\n",
    "fn_selection = fns"
   ]
  },
  {
   "cell_type": "code",
   "execution_count": null,
   "metadata": {},
   "outputs": [],
   "source": [
    "# there (often) 5 times the same speaker said the same word\n",
    "# \n",
    "# ./eight/5fadb538_nohash_4.wav\n",
    "# ./eight/5fadb538_nohash_3.wav\n",
    "# ./eight/5fadb538_nohash_2.wav\n",
    "# ./eight/5fadb538_nohash_1.wav\n",
    "# ./eight/5fadb538_nohash_0.wav\n",
    "\n",
    "counter = {cn: 0 for cn in new_classes}\n",
    "for fn in tqdm(fn_selection):\n",
    "    cn = 'new_' + fn.split('/')[-2][::-1]\n",
    "    sample_rate, data = wf.read(fn)\n",
    "    bn = os.path.basename(fn)\n",
    "    dst = jp('data', 'train', 'audio', cn,\n",
    "             \"%06d.wav\" % counter[cn])\n",
    "    counter[cn] += 1\n",
    "    data = data[::-1]\n",
    "    wf.write(dst, sample_rate, data)"
   ]
  },
  {
   "cell_type": "markdown",
   "metadata": {},
   "source": [
    "# Take a look at the noise files"
   ]
  },
  {
   "cell_type": "code",
   "execution_count": null,
   "metadata": {},
   "outputs": [],
   "source": [
    "background_files = sorted(glob(jp('data', 'train', 'audio', '_background_noise_', '*.wav')))\n",
    "background_volumne = 0.8\n",
    "for fn in background_files[5:6]:\n",
    "    print(fn)\n",
    "    rate, data = wf.read(fn)\n",
    "    if len(data) > 16000:\n",
    "        data = data[:16000]\n",
    "    data = np.float32(data) / 32768\n",
    "    data *= background_volumne\n",
    "    print(data.max())\n",
    "    wf.write('tmp.wav', 16000, np.int16(data * 32767))\n",
    "    plot_audio(data, normed=True)\n",
    "    display(Audio('tmp.wav', autoplay=True))\n",
    "    sleep(1)"
   ]
  },
  {
   "cell_type": "code",
   "execution_count": null,
   "metadata": {},
   "outputs": [],
   "source": [
    "?wf.write"
   ]
  },
  {
   "cell_type": "markdown",
   "metadata": {},
   "source": [
    "# Take a look at \"happy\" files"
   ]
  },
  {
   "cell_type": "code",
   "execution_count": null,
   "metadata": {},
   "outputs": [],
   "source": [
    "background_files = sorted(glob(jp('data', 'train', 'audio', 'happy', '*.wav')))\n",
    "volumne = 10**1\n",
    "for fn in background_files[5:6]:\n",
    "    print(fn)\n",
    "    rate, data = wf.read(fn)\n",
    "    if len(data) > 16000:\n",
    "        data = data[:16000]\n",
    "    data = np.float32(data) / 32768\n",
    "    data *= volumne\n",
    "    data = np.clip(data, -1, 1)\n",
    "    print(data.max())\n",
    "    wf.write('tmp.wav', 16000, np.int16(data * 32767))\n",
    "    plot_audio(data, normed=True)\n",
    "    display(Audio('tmp.wav', autoplay=True))\n",
    "    sleep(1)"
   ]
  },
  {
   "cell_type": "markdown",
   "metadata": {},
   "source": [
    "# Majority vote submission"
   ]
  },
  {
   "cell_type": "code",
   "execution_count": null,
   "metadata": {},
   "outputs": [],
   "source": [
    "import pandas as pd\n",
    "from os.path import join as jp\n",
    "from shutil import copy\n",
    "from tqdm import tqdm_notebook as tqdm\n",
    "\n",
    "sub_fns = ['submission_011.csv', 'submission_017.csv',\n",
    "           'submission_018.csv', 'submission_014.csv',\n",
    "           'submission_020.csv']\n",
    "subs = [pd.read_csv(sub_fn) for sub_fn in sub_fns]\n",
    "\n",
    "fname, label = [], []\n",
    "clear_majority = 0\n",
    "for i in tqdm(range(subs[0].shape[0])):\n",
    "    fname.append(subs[0].loc[i, 'fname'])\n",
    "    label_counts = {}\n",
    "    for sub in subs:\n",
    "        ll = sub.loc[i, 'label']\n",
    "    if ll in label_counts:\n",
    "        label_counts[ll] += 1\n",
    "    else:\n",
    "        label_counts[ll] = 1\n",
    "\n",
    "    maj_label = max(label_counts, key=label_counts.get)\n",
    "    if label_counts[maj_label] > 2:\n",
    "        clear_majority += 1\n",
    "    else:\n",
    "        # in trouble save the wav files!\n",
    "        src = jp('data', 'test', 'audio', fname[-1])\n",
    "        dst = jp('split_decision', str(label_counts) + fname[-1])\n",
    "        copy(src, dst)\n",
    "    # resolve tie by chosing 'unknown' or 'silence' if available\n",
    "    if 'unknown' in label_counts and 'silence' in label_counts:\n",
    "        maj_label = 'silence'\n",
    "    elif 'unknown' in label_counts:\n",
    "        maj_label = 'unknown'\n",
    "    elif 'silence' in label_counts:\n",
    "        maj_label = 'silence'\n",
    "    label.append(maj_label)\n",
    "\n",
    "pd.DataFrame({'fname': fname, 'label': label}).to_csv(\n",
    "    'majority_sub_011.csv', index=False)\n",
    "print(\"Done! Got a clear majority for %d of %d samples.\"\n",
    "      % (clear_majority, subs[0].shape[0]))\n"
   ]
  },
  {
   "cell_type": "markdown",
   "metadata": {},
   "source": [
    "# Generate more background noise\n",
    "## The idea is to take the reversed words and average some of them up to generate ~30s tracks"
   ]
  },
  {
   "cell_type": "code",
   "execution_count": null,
   "metadata": {},
   "outputs": [],
   "source": [
    "# unwanted words reversed\n",
    "fns = sorted(glob(jp('data', 'train', 'audio', 'unwrev', '*.wav')))\n",
    "print(len(fns))"
   ]
  },
  {
   "cell_type": "code",
   "execution_count": null,
   "metadata": {},
   "outputs": [],
   "source": [
    "louder = 16.0  # make it louder!\n",
    "sample_secs = 30\n",
    "total_new = 0\n",
    "num_noise_tracks = 400\n",
    "noise_track = []\n",
    "noise_track_counter = 0\n",
    "sample_track = []\n",
    "sample_counter = 0\n",
    "for fn in tqdm(fns):\n",
    "    sample_rate, data = wf.read(fn)\n",
    "    data = np.float32(data) / 32768\n",
    "    assert sample_rate == 16000\n",
    "    data = center_pad(data)\n",
    "    shift = np.random.randint(16000)\n",
    "    data = np.roll(data, shift)\n",
    "    sample_track.append(data)\n",
    "    sample_counter += 1\n",
    "    if sample_counter == sample_secs:\n",
    "        noise_track.append(np.concatenate(sample_track))\n",
    "        sample_track = []\n",
    "        sample_counter = 0\n",
    "        noise_track_counter += 1\n",
    "        if noise_track_counter == num_noise_tracks:\n",
    "            noise_track = np.array(noise_track)\n",
    "            noise_track = np.mean(noise_track, axis=0) * louder\n",
    "            noise_track = np.int16(noise_track * 32768)\n",
    "            out_fn = jp('data', 'train', 'audio', '_background_noise_', 'silence_please_%04d.wav' % total_new)\n",
    "            wf.write(out_fn, 16000, noise_track)\n",
    "            print(out_fn)\n",
    "            display(Audio(out_fn))\n",
    "            noise_track = []\n",
    "            noise_track_counter = 0\n",
    "            total_new += 1\n",
    "            if total_new == 2:\n",
    "                break"
   ]
  },
  {
   "cell_type": "markdown",
   "metadata": {},
   "source": [
    "# How does foreground with mixed background sound?"
   ]
  },
  {
   "cell_type": "code",
   "execution_count": null,
   "metadata": {},
   "outputs": [],
   "source": [
    "background_noise_fns = sorted(glob('data/train/audio/_background_noise_/*.wav'))\n",
    "idx = -3\n",
    "print(background_noise_fns[idx])\n",
    "display(Audio(background_noise_fns[idx], autoplay=True))"
   ]
  },
  {
   "cell_type": "code",
   "execution_count": null,
   "metadata": {},
   "outputs": [],
   "source": [
    "foreground_fns = sorted(glob('data/train/audio/go/*.wav'))\n",
    "for i in range(3):\n",
    "    foreground_fn = np.random.choice(foreground_fns)\n",
    "    foreground = normalized_read(foreground_fn)\n",
    "    background_fn = np.random.choice(background_noise_fns)\n",
    "    # background_fn = background_noise_fns[-3]\n",
    "    print(background_fn)\n",
    "    background = normalized_read(background_fn)\n",
    "    mixed = np.random.uniform(0.8, 1.2) * foreground + 0.3 * background  # np.random.uniform(0, 2)\n",
    "    mixed = np.clip(mixed, -1, 1)\n",
    "    float_audio(mixed, autoplay=True)\n",
    "    plot_audio(mixed, normed=True)\n",
    "    sleep(1)"
   ]
  },
  {
   "cell_type": "markdown",
   "metadata": {},
   "source": [
    "# How do the models perform on the validation set?"
   ]
  },
  {
   "cell_type": "code",
   "execution_count": null,
   "metadata": {},
   "outputs": [],
   "source": [
    "from keras import backend as K\n",
    "from keras.callbacks import ModelCheckpoint, LearningRateScheduler\n",
    "from keras.callbacks import TensorBoard\n",
    "from model import speech_model, prepare_model_settings\n",
    "from input_data import AudioProcessor, prepare_words_list\n",
    "from keras.models import load_model\n",
    "from classes import get_classes\n",
    "\n",
    "\n",
    "def data_gen(audio_processor, sess,\n",
    "             batch_size=128,\n",
    "             background_frequency=0.5, background_volume_range=0.2,\n",
    "             foreground_frequency=1.0, foreground_volume_range=3.0,\n",
    "             time_shift=(100.0 * 16000.0) / 1000,\n",
    "             mode='validation'):\n",
    "    offset = 0\n",
    "    if mode != 'training':\n",
    "        background_frequency = 0.0\n",
    "        background_volume_range = 0.0\n",
    "        foreground_frequency = 0.0\n",
    "        foreground_volume_range = 0.0\n",
    "        time_shift = 0\n",
    "\n",
    "    while True:\n",
    "        X, y = audio_processor.get_data(\n",
    "            how_many=batch_size, offset=0 if mode == 'training' else offset,\n",
    "            background_frequency=background_frequency,\n",
    "            background_volume_range=background_volume_range,\n",
    "            foreground_frequency=foreground_frequency,\n",
    "            foreground_volume_range=foreground_volume_range,\n",
    "            time_shift=time_shift, mode=mode, sess=sess)\n",
    "        offset += batch_size\n",
    "        if offset > ap.set_size(mode) - batch_size:\n",
    "            offset = 0\n",
    "        yield X, y\n",
    "\n",
    "\n",
    "sess = K.get_session()\n",
    "data_dirs = ['data/train/audio']\n",
    "add_pseudo = False\n",
    "if add_pseudo:\n",
    "    data_dirs.append('data/pseudo/audio')\n",
    "compute_mfcc = False\n",
    "sample_rate = 16000\n",
    "batch_size = 64\n",
    "classes = get_classes(wanted_only=False)\n",
    "model_settings = prepare_model_settings(\n",
    "  label_count=len(prepare_words_list(classes)), sample_rate=sample_rate,\n",
    "  clip_duration_ms=1000, window_size_ms=30.0, window_stride_ms=10.0,\n",
    "  dct_coefficient_count=40)\n",
    "ap = AudioProcessor(\n",
    "  data_dirs=data_dirs,\n",
    "  silence_percentage=15.0,\n",
    "  unknown_percentage=7.0,\n",
    "  wanted_words=classes,\n",
    "  validation_percentage=10.0,\n",
    "  testing_percentage=0.0,\n",
    "  model_settings=model_settings,\n",
    "  compute_mfcc=compute_mfcc)\n",
    "train_gen = data_gen(ap, sess, batch_size=batch_size, mode='training')\n",
    "val_gen = data_gen(ap, sess, batch_size=batch_size, mode='validation')"
   ]
  },
  {
   "cell_type": "code",
   "execution_count": null,
   "metadata": {},
   "outputs": [],
   "source": [
    "model_fns = [\n",
    "    'checkpoints_019/ep-022-vl-0.2916.hdf5',\n",
    "    'checkpoints_018/ep-049-vl-0.2185.hdf5',\n",
    "    'checkpoints_017/ep-036-vl-0.1969.hdf5'\n",
    "]\n",
    "\n",
    "models = []\n",
    "for model_fn in model_fns:\n",
    "    model = load_model(model_fn)\n",
    "    models.append((model_fn, model))"
   ]
  },
  {
   "cell_type": "code",
   "execution_count": null,
   "metadata": {},
   "outputs": [],
   "source": [
    "# evaluate on validation set\n",
    "for model in models:\n",
    "    out = model.evaluate_generator(\n",
    "        val_gen, steps=ap.set_size('validation') // batch_size)\n",
    "    print(model_fn, out)"
   ]
  },
  {
   "cell_type": "markdown",
   "metadata": {},
   "source": [
    "# Predict samples with models"
   ]
  },
  {
   "cell_type": "code",
   "execution_count": null,
   "metadata": {},
   "outputs": [],
   "source": [
    "len(ap.words_list), len(models)"
   ]
  },
  {
   "cell_type": "code",
   "execution_count": null,
   "metadata": {},
   "outputs": [],
   "source": [
    "X, y = next(val_gen)\n",
    "sample_idx = 10\n",
    "float_audio(X[sample_idx, :], autoplay=True)\n",
    "out_probs = []\n",
    "for model_fn, model in models:\n",
    "    y_preds = model.predict(X)\n",
    "    out_probs.append((model_fn, y_preds[sample_idx]))\n",
    "\n",
    "for fn, pred in out_probs:\n",
    "    plt.figure()\n",
    "    plt.title(fn)\n",
    "    plt.bar(range(len(pred)), pred)\n",
    "    plt.xticks(range(len(pred)), ap.words_list, rotation='vertical')"
   ]
  },
  {
   "cell_type": "markdown",
   "metadata": {},
   "source": [
    "# Wrong ones"
   ]
  },
  {
   "cell_type": "code",
   "execution_count": null,
   "metadata": {},
   "outputs": [],
   "source": [
    "max_plots = 2\n",
    "plot_c = 0\n",
    "model = models[-1][-1]\n",
    "while plot_c < max_plots:\n",
    "    X, y = next(val_gen)\n",
    "    y_preds = model.predict(X)\n",
    "    for i, y_pred in enumerate(y_preds):\n",
    "        if plot_c >= max_plots:\n",
    "            break\n",
    "        if y_pred.argmax() != y[i].argmax():\n",
    "            float_audio(X[i, :], autoplay=True)\n",
    "            sleep(1)\n",
    "            plt.figure()\n",
    "            plt.title(\"Pred: %s, Actual: %s\"\n",
    "                      % (ap.words_list[y_pred.argmax()], ap.words_list[y[i].argmax()]))\n",
    "            plt.bar(range(len(y_pred)), y_pred)\n",
    "            plt.xticks(range(len(y_pred)), ap.words_list, rotation='vertical')\n",
    "            plot_c += 1"
   ]
  },
  {
   "cell_type": "markdown",
   "metadata": {},
   "source": [
    "# What happens if we just feed plain silence e.g. all 0?\n",
    "### Looks good!"
   ]
  },
  {
   "cell_type": "code",
   "execution_count": null,
   "metadata": {},
   "outputs": [],
   "source": [
    "X = np.zeros((2, 16000), dtype=np.float32)\n",
    "pred = model.predict(X)\n",
    "float_audio(X[0, :], autoplay=True)\n",
    "sleep(1)\n",
    "plt.figure()\n",
    "plt.title(\"Silence pred\")\n",
    "plt.bar(range(len(pred[0])), pred[0])\n",
    "_ = plt.xticks(range(len(pred[0])), ap.words_list, rotation='vertical')"
   ]
  },
  {
   "cell_type": "markdown",
   "metadata": {},
   "source": [
    "# How about the noise files?"
   ]
  },
  {
   "cell_type": "code",
   "execution_count": null,
   "metadata": {},
   "outputs": [],
   "source": [
    "model = load_model(model_fns[-1])"
   ]
  },
  {
   "cell_type": "code",
   "execution_count": null,
   "metadata": {},
   "outputs": [],
   "source": [
    "noise_fns = glob(jp('data/train/audio/_background_noise_/*.wav'))\n",
    "X = []\n",
    "for noise_fn in noise_fns:\n",
    "    X.append(normalized_read(noise_fn))\n",
    "X = np.float32(X)\n",
    "# change volumne\n",
    "X *= 0.2\n",
    "y_pred = model.predict(X)\n",
    "for i in range(X.shape[0]):\n",
    "    # float_audio(X[0, :], autoplay=True)\n",
    "    # sleep(1)\n",
    "    plt.figure()\n",
    "    plt.title(\"Noise pred: %s\" % noise_fns[i])\n",
    "    plt.bar(range(len(y_pred[i])), y_pred[i])\n",
    "    _ = plt.xticks(range(len(y_pred[i])), ap.words_list, rotation='vertical')"
   ]
  },
  {
   "cell_type": "markdown",
   "metadata": {},
   "source": [
    "# Submission with averaged probabilities"
   ]
  },
  {
   "cell_type": "code",
   "execution_count": null,
   "metadata": {},
   "outputs": [],
   "source": [
    "sub_fns = [\n",
    "    'submission_091_leftloud_tta.csv',\n",
    "    'submission_106_tta_leftloud.csv']\n",
    "sub_fns = [fn.replace('.csv', '_all_labels_probs.csv')\n",
    "           for fn in sub_fns]\n",
    "\n",
    "subs = []\n",
    "for sub_fn in sub_fns:\n",
    "    subs.append(pd.read_csv(sub_fn))\n",
    "\n",
    "wanted_words = prepare_words_list(get_classes(wanted_only=True))\n",
    "int2label = get_int2label(wanted_only=False)\n",
    "label2int = get_label2int(wanted_only=False)\n",
    "\n",
    "avg = 0.0\n",
    "for sub in subs:\n",
    "    avg += sub.loc[:, label2int.keys()].values / len(subs)\n",
    "\n",
    "print(avg.sum(axis=1)[10:20])\n",
    "probabilities = avg\n",
    "print(probabilities.shape)\n",
    "preds = probabilities.argmax(axis=-1)"
   ]
  },
  {
   "cell_type": "code",
   "execution_count": null,
   "metadata": {},
   "outputs": [],
   "source": [
    "ensemble_label = []\n",
    "ensemble_sub = subs[0].copy()\n",
    "for i in tqdm(range(ensemble_sub.shape[0])):\n",
    "    label = int2label[preds[i]]\n",
    "    # print(\"%s with: %.3f\" % (label, probabilities[i, preds[i]]))\n",
    "    label = label if label != '_silence_' else 'silence'\n",
    "    label = label if label != '_unknown_' else 'unknown'\n",
    "    # label = label if label == 'silence' or label in wanted_words else 'unknown'\n",
    "    ensemble_label.append(label)\n",
    "\n",
    "ensemble_sub['label'] = ensemble_label\n",
    "ensemble_sub[['fname', 'label']].to_csv('prob_ensemble_026_all_labels.csv', index=False)\n",
    "ensemble_sub.loc[:, label2int.keys()] = probabilities\n",
    "ensemble_sub.to_csv('prob_ensemble_026_all_labels_probs.csv', index=False)\n",
    "\n",
    "print(\"Done\")"
   ]
  },
  {
   "cell_type": "code",
   "execution_count": null,
   "metadata": {},
   "outputs": [],
   "source": [
    "ensemble_label = []\n",
    "ensemble_sub = subs[0].copy()\n",
    "small_prob_counter = 0\n",
    "prob_thresh = 0.2\n",
    "for i in tqdm(range(ensemble_sub.shape[0])):\n",
    "    label = int2label[preds[i]]\n",
    "    label = label if label != '_silence_' else 'silence'\n",
    "    label = label if label != '_unknown_' else 'unknown'\n",
    "    label = label if label == 'silence' or label in wanted_words else 'unknown'\n",
    "    # handle \"small\" probs\n",
    "    max_prob = probabilities[i, preds[i]]\n",
    "    if max_prob < prob_thresh:\n",
    "        small_prob_counter += 1\n",
    "        src_fn = jp('data/test/audio', ensemble_sub.loc[i, 'fname'])\n",
    "        dst_fn = jp('split_decision', '%s_%.3f.wav'\n",
    "                    % (label, max_prob))\n",
    "        copy(src_fn, dst_fn)\n",
    "        # map small prob words (not silence) to unknown\n",
    "        label = label if label == 'silence' else 'unknown'\n",
    "    ensemble_label.append(label)\n",
    "\n",
    "\n",
    "print(\"%d of %d with small prob\" % (small_prob_counter, ensemble_sub.shape[0]))\n",
    "ensemble_sub['label'] = ensemble_label\n",
    "ensemble_sub[['fname', 'label']].to_csv(\n",
    "    'prob_ensemble_026_thresh_%.2f_map_to_unknown.csv' % prob_thresh, index=False)\n",
    "print(\"Done\")"
   ]
  },
  {
   "cell_type": "markdown",
   "metadata": {},
   "source": [
    "# Find duplicates\n",
    "## https://www.kaggle.com/c/tensorflow-speech-recognition-challenge/discussion/44687"
   ]
  },
  {
   "cell_type": "code",
   "execution_count": null,
   "metadata": {},
   "outputs": [],
   "source": [
    "train_fns = sorted(glob('data/train/audio/*/*.wav'))\n",
    "test_fns = sorted(glob('data/test/audio/*.wav'))\n",
    "all_fns = train_fns + test_fns\n",
    "print(\"%d train, %d test, %d total\"\n",
    "      % (len(train_fns), len(test_fns), len(all_fns)))\n",
    "all_fns = all_fns[:]"
   ]
  },
  {
   "cell_type": "code",
   "execution_count": null,
   "metadata": {},
   "outputs": [],
   "source": [
    "if not os.path.exists('md5sums.p'):\n",
    "    md5sums = {}\n",
    "    for fn in tqdm(all_fns):\n",
    "        if fn in md5sums:\n",
    "            print(\"Double fn!\", fn)\n",
    "        checksum = md5(fn)\n",
    "        md5sums[fn] = checksum\n",
    "    # cache\n",
    "    data = {'md5sums': md5sums}\n",
    "    with open('md5sums.p', 'wb') as f:\n",
    "        pickle.dump(data, f)\n",
    "\n",
    "with open('md5sums.p', 'rb') as f:\n",
    "    data = pickle.load(f)\n",
    "    md5sums = data['md5sums']\n",
    "    "
   ]
  },
  {
   "cell_type": "code",
   "execution_count": null,
   "metadata": {},
   "outputs": [],
   "source": [
    "counts = {}\n",
    "checksum_fn = {v: k for k, v in md5sums.items()}\n",
    "for fn, checksum in md5sums.items():\n",
    "    if checksum in counts:\n",
    "        counts[checksum] += 1\n",
    "    else:\n",
    "        counts[checksum] = 1"
   ]
  },
  {
   "cell_type": "code",
   "execution_count": null,
   "metadata": {},
   "outputs": [],
   "source": [
    "fn_counts = []\n",
    "check_to_fns = {}\n",
    "for checksum, count in counts.items():\n",
    "    fn = checksum_fn[checksum]\n",
    "    fn_counts.append((fn, count))\n",
    "    if checksum in check_to_fns:\n",
    "        if fn not in check_to_fns[fn]:\n",
    "            check_to_fns[fn].append(fn)\n",
    "        else:\n",
    "            check_to_fns[fn] = [fn]\n",
    "fn_counts = sorted(fn_counts, key=lambda x: x[-1], reverse=True)\n",
    "print(fn_counts[:10])"
   ]
  },
  {
   "cell_type": "code",
   "execution_count": null,
   "metadata": {},
   "outputs": [],
   "source": [
    "a = [(k, v) for k, v in counts.items() if v == 3710][0]"
   ]
  },
  {
   "cell_type": "code",
   "execution_count": null,
   "metadata": {},
   "outputs": [],
   "source": [
    "mist_fns = [fn for fn, s in md5sums.items() if s == a[0]]\n",
    "bns = [os.path.basename(fn) for fn in mist_fns]"
   ]
  },
  {
   "cell_type": "code",
   "execution_count": null,
   "metadata": {},
   "outputs": [],
   "source": [
    "# These are all silence -.- check that we got it right anyway ...\n",
    "some_sub = pd.read_csv('submission_017.csv')\n",
    "for i in range(some_sub.shape[0]):\n",
    "    fn = some_sub.loc[i, 'fname']\n",
    "    if fn in bns:\n",
    "        label = some_sub.loc[i, 'label']\n",
    "        if label != 'silence':\n",
    "            print(label)\n",
    "# check! That was useless -.-"
   ]
  },
  {
   "cell_type": "markdown",
   "metadata": {},
   "source": [
    "# Listen test data"
   ]
  },
  {
   "cell_type": "code",
   "execution_count": null,
   "metadata": {},
   "outputs": [],
   "source": [
    "test_fns = sorted(glob('data/test/audio/*.wav'))\n",
    "print(len(test_fns))\n",
    "disp_count = 0\n",
    "for test_fn in test_fns:\n",
    "    if disp_count > 10:\n",
    "        break\n",
    "    if np.random.rand() > 0.7:\n",
    "        print(test_fn)\n",
    "        display(Audio(filename=test_fn,\n",
    "                      rate=16000,\n",
    "                      autoplay=True))\n",
    "        sleep(1)\n",
    "        disp_count += 1"
   ]
  },
  {
   "cell_type": "markdown",
   "metadata": {},
   "source": [
    "# Explore subsampled representation"
   ]
  },
  {
   "cell_type": "code",
   "execution_count": null,
   "metadata": {},
   "outputs": [],
   "source": [
    "test_fns = sorted(glob('data/test/audio/*.wav'))\n",
    "some_fn = np.random.choice(test_fns)\n",
    "rate, data = wf.read(some_fn)\n",
    "data = np.float32(data) / 32768\n",
    "assert rate == 16000\n",
    "plt.figure()\n",
    "plt.plot(range(len(data)), data, 'g')\n",
    "display(Audio(some_fn, autoplay=True))"
   ]
  },
  {
   "cell_type": "code",
   "execution_count": null,
   "metadata": {},
   "outputs": [],
   "source": [
    "plt.figure()\n",
    "step = 10\n",
    "colors = ['r', 'g', 'b', 'y', 'b']\n",
    "for i in range(3):\n",
    "    data_slice = data[0::step]\n",
    "    data_slice = np.roll(data_slice, int(-i * 400))\n",
    "    plt.plot(range(len(data_slice)), data_slice, colors[i])\n",
    "    float_audio(data_slice, sample_rate=int(16000 / step), autoplay=True)\n",
    "    sleep(1)"
   ]
  },
  {
   "cell_type": "code",
   "execution_count": null,
   "metadata": {},
   "outputs": [],
   "source": [
    "print(some_fn)"
   ]
  },
  {
   "cell_type": "code",
   "execution_count": null,
   "metadata": {
    "scrolled": true
   },
   "outputs": [],
   "source": [
    "plt.figure()\n",
    "colors = ['r', 'g', 'b', 'y']\n",
    "step = 3\n",
    "for i in range(step):\n",
    "    sub = data[i::step]\n",
    "    plt.plot(range(len(sub)), sub + 2 * i, colors[i % len(colors)])\n"
   ]
  },
  {
   "cell_type": "code",
   "execution_count": null,
   "metadata": {},
   "outputs": [],
   "source": [
    "step = 20\n",
    "float_audio(data[::step], sample_rate=int(16000 / step), autoplay=True)"
   ]
  },
  {
   "cell_type": "code",
   "execution_count": null,
   "metadata": {},
   "outputs": [],
   "source": [
    "# do the same thing in keras/tf\n",
    "def time_slice_stack(x, step):\n",
    "    x_slices = []\n",
    "    for i in range(step):\n",
    "        x_slice = x[:, i::step]\n",
    "        x_slice = K.expand_dims(x_slice, axis=-1)\n",
    "        x_slices.append(x_slice)\n",
    "    x_slices = K.concatenate(x_slices, axis=-1)\n",
    "    print(x_slices.shape)\n",
    "    return x_slices"
   ]
  },
  {
   "cell_type": "code",
   "execution_count": null,
   "metadata": {},
   "outputs": [],
   "source": [
    "input_layer = Input(shape=[16000])\n",
    "x = input_layer\n",
    "x = Lambda(lambda x: time_slice_stack(x, 2))(x)\n",
    "model = Model(input_layer, x)\n",
    "out = model.predict(data.reshape((1, 16000))).squeeze()"
   ]
  },
  {
   "cell_type": "markdown",
   "metadata": {},
   "source": [
    "# Check input representation"
   ]
  },
  {
   "cell_type": "code",
   "execution_count": null,
   "metadata": {
    "scrolled": false
   },
   "outputs": [],
   "source": [
    "def plot_show_samples(label='stop'):\n",
    "    fns = sorted(glob('data/train/audio/%s/*.wav' % label))\n",
    "    disp_count = 0\n",
    "    for fn in fns:\n",
    "        if disp_count > 3:\n",
    "            break\n",
    "        rate, data = wf.read(fn)\n",
    "        data = np.float32(data) / 32768\n",
    "        data = pad_crop(data)\n",
    "        print(fn)\n",
    "        plt.figure()\n",
    "        plt.imshow(data.reshape((400, 40)).T)\n",
    "        plt.show()\n",
    "        display(float_audio(data, autoplay=True))\n",
    "        sleep(1)\n",
    "        disp_count += 1"
   ]
  },
  {
   "cell_type": "code",
   "execution_count": null,
   "metadata": {},
   "outputs": [],
   "source": [
    "plot_show_samples()"
   ]
  },
  {
   "cell_type": "markdown",
   "metadata": {},
   "source": [
    "# Now check mfcc"
   ]
  },
  {
   "cell_type": "code",
   "execution_count": null,
   "metadata": {},
   "outputs": [],
   "source": [
    "desired_samples = 16000\n",
    "window_size_samples = 480\n",
    "window_stride_samples = 160\n",
    "dct_coefficient_count = 40\n",
    "magnitude_squared = False\n",
    "wav_filename_placeholder = tf.placeholder(tf.string, [])\n",
    "wav_loader = io_ops.read_file(wav_filename_placeholder)\n",
    "wav_decoder = contrib_audio.decode_wav(\n",
    "  wav_loader, desired_channels=1,\n",
    "  desired_samples=desired_samples)\n",
    "clamped = tf.clip_by_value(wav_decoder.audio, -1.0, 1.0)\n",
    "spectrogram = contrib_audio.audio_spectrogram(\n",
    "  clamped,\n",
    "  window_size=window_size_samples,\n",
    "  stride=window_stride_samples,\n",
    "  magnitude_squared=magnitude_squared)\n",
    "mfcc = contrib_audio.mfcc(\n",
    "  spectrogram,\n",
    "  wav_decoder.sample_rate,\n",
    "  dct_coefficient_count=dct_coefficient_count)\n",
    "\n",
    "def load_spectrogram(fn):\n",
    "    with tf.Session() as sess:\n",
    "        spectrogram_val = sess.run(\n",
    "            spectrogram, {wav_filename_placeholder: fn})\n",
    "    return spectrogram_val\n",
    "\n",
    "def load_mfcc(fn):\n",
    "    with tf.Session() as sess:\n",
    "        mfcc_val = sess.run(\n",
    "            mfcc, {wav_filename_placeholder: fn})\n",
    "    return mfcc_val\n",
    "\n",
    "def plot_show(label='stop', output='spec', max_disp=3):\n",
    "    fns = sorted(glob('data/train/audio/%s/*.wav' % label))\n",
    "    disp_count = 0\n",
    "    some_data = None\n",
    "    for fn in fns:\n",
    "        if disp_count >= max_disp:\n",
    "            break\n",
    "        if np.random.rand() > 0.9:\n",
    "            if output == 'spec':\n",
    "                spec = load_spectrogram(fn).squeeze()\n",
    "                some_data = spec\n",
    "            elif output == 'mfcc':\n",
    "                mfcc = load_mfcc(fn).squeeze()\n",
    "                some_data = mfcc\n",
    "            plt.figure()\n",
    "            plt.title(fn)\n",
    "            plt.imshow(some_data.T)\n",
    "            plt.colorbar()\n",
    "            plt.show()\n",
    "            disp_count += 1\n",
    "    return some_data"
   ]
  },
  {
   "cell_type": "code",
   "execution_count": null,
   "metadata": {},
   "outputs": [],
   "source": [
    "some_spec = plot_show('sheila', output='spec')\n",
    "print(some_spec.shape)"
   ]
  },
  {
   "cell_type": "code",
   "execution_count": null,
   "metadata": {},
   "outputs": [],
   "source": [
    "some_mfcc = plot_show('stop', output='mfcc', max_disp=3)\n",
    "print(some_mfcc.shape)"
   ]
  },
  {
   "cell_type": "code",
   "execution_count": null,
   "metadata": {},
   "outputs": [],
   "source": [
    "print('Time steps: ', (16000 - 480) / 160 + 1)\n",
    "print('Frequencies: ', 16000 / 160)"
   ]
  },
  {
   "cell_type": "code",
   "execution_count": null,
   "metadata": {},
   "outputs": [],
   "source": [
    "??contrib_audio.audio_spectrogram"
   ]
  },
  {
   "cell_type": "markdown",
   "metadata": {},
   "source": [
    "# Can we create a model that does the same? "
   ]
  },
  {
   "cell_type": "code",
   "execution_count": null,
   "metadata": {},
   "outputs": [],
   "source": [
    "num_filter = 257\n",
    "\n",
    "input_layer = Input(shape=[16000])\n",
    "x = input_layer\n",
    "x = Reshape([16000, 1])(x)\n",
    "x = Conv1D(num_filter, window_size_samples, strides=window_stride_samples)(x)\n",
    "model = Model(input_layer, x)\n",
    "\n",
    "def plot_show(model, label='stop'):\n",
    "    fns = sorted(glob('data/train/audio/%s/*.wav' % label))\n",
    "    disp_count = 0\n",
    "    some_spec = None\n",
    "    for fn in fns:\n",
    "        if disp_count > 2:\n",
    "            break\n",
    "        if np.random.rand() > 0.0:\n",
    "            rate, data = wf.read(fn)\n",
    "            data = np.float32(data) / 32768\n",
    "            data = pad_crop(data)\n",
    "            spec = model.predict(data.reshape((1, -1))).squeeze()\n",
    "            some_spec = spec\n",
    "            print(spec.shape)\n",
    "            plt.figure()\n",
    "            plt.title(fn)\n",
    "            plt.imshow(spec.T)\n",
    "            plt.show()\n",
    "            disp_count += 1\n",
    "    return some_spec"
   ]
  },
  {
   "cell_type": "code",
   "execution_count": null,
   "metadata": {
    "scrolled": false
   },
   "outputs": [],
   "source": [
    "_ = plot_show(model)"
   ]
  },
  {
   "cell_type": "markdown",
   "metadata": {},
   "source": [
    "# How about a real trained network? This one gets 94% train accuracy and 89% mean validation accuracy"
   ]
  },
  {
   "cell_type": "code",
   "execution_count": null,
   "metadata": {},
   "outputs": [],
   "source": [
    "model = load_model('checkpoints_069/ep-060-vl-0.3702.hdf5',\n",
    "                 custom_objects={'relu6': relu6,\n",
    "                                 'DepthwiseConv2D': DepthwiseConv2D})"
   ]
  },
  {
   "cell_type": "code",
   "execution_count": null,
   "metadata": {
    "scrolled": true
   },
   "outputs": [],
   "source": [
    "model.summary()"
   ]
  },
  {
   "cell_type": "code",
   "execution_count": null,
   "metadata": {},
   "outputs": [],
   "source": [
    "from keras.layers import Concatenate\n",
    "concat_layers = [l for l in model.layers if l.__class__ == Concatenate]\n",
    "print(concat_layers)"
   ]
  },
  {
   "cell_type": "code",
   "execution_count": null,
   "metadata": {},
   "outputs": [],
   "source": [
    "activation = model.layers[3].output\n",
    "# activation = concat_layers[0].output\n",
    "spec_model = Model(model.input, activation)"
   ]
  },
  {
   "cell_type": "code",
   "execution_count": null,
   "metadata": {
    "scrolled": false
   },
   "outputs": [],
   "source": [
    "def norm(x):\n",
    "    return (x - x.mean()) / x.std()\n",
    "\n",
    "fns = sorted(glob('data/train/audio/go/*.wav'))\n",
    "np.random.shuffle(fns)\n",
    "disp_count = 0\n",
    "for fn in fns:\n",
    "    if disp_count > 2:\n",
    "        break\n",
    "    rate, data = wf.read(fn)\n",
    "    data = np.float32(data) / 32768\n",
    "    data = pad_crop(data)\n",
    "    representation = spec_model.predict(data.reshape((1, -1))).squeeze()\n",
    "    spec = load_spectrogram(fn).squeeze()\n",
    "    spec, representation = norm(spec), norm(representation)\n",
    "    print(spec.shape)\n",
    "    plt.figure()\n",
    "    plt.title(fn)\n",
    "    plt.subplot(1, 2, 1)\n",
    "    plt.imshow(representation.T)\n",
    "    plt.subplot(1, 2, 2)\n",
    "    plt.imshow(spec.T)\n",
    "    plt.show()\n",
    "    print(representation.shape)\n",
    "    disp_count += 1\n",
    "print(activation.shape)"
   ]
  },
  {
   "cell_type": "markdown",
   "metadata": {},
   "source": [
    "# Looks like we succesfully decorrelated the channels. Though, it seems like this is not what we really want? There shoud be some relation between groups at least -> Use group convolutions? (g-Sub-seperable)"
   ]
  },
  {
   "cell_type": "code",
   "execution_count": null,
   "metadata": {},
   "outputs": [],
   "source": [
    "# same thing with g-Sub-seperable\n",
    "model = load_model('checkpoints_071/ep-015-vl-0.4296.hdf5',\n",
    "                 custom_objects={'relu6': relu6,\n",
    "                                 'DepthwiseConv2D': DepthwiseConv2D})"
   ]
  },
  {
   "cell_type": "code",
   "execution_count": null,
   "metadata": {},
   "outputs": [],
   "source": [
    "from keras.layers import Concatenate\n",
    "concat_layers = [l for l in model.layers if l.__class__ == Concatenate]\n",
    "print(concat_layers)"
   ]
  },
  {
   "cell_type": "code",
   "execution_count": null,
   "metadata": {},
   "outputs": [],
   "source": [
    "activation = model.layers[3].output\n",
    "# activation = concat_layers[0].output\n",
    "spec_model = Model(model.input, activation)"
   ]
  },
  {
   "cell_type": "code",
   "execution_count": null,
   "metadata": {
    "scrolled": false
   },
   "outputs": [],
   "source": [
    "def norm(x):\n",
    "    return (x - x.mean()) / x.std()\n",
    "\n",
    "fns = sorted(glob('data/train/audio/stop/*.wav'))\n",
    "np.random.shuffle(fns)\n",
    "disp_count = 0\n",
    "for fn in fns:\n",
    "    if disp_count > 2:\n",
    "        break\n",
    "    rate, data = wf.read(fn)\n",
    "    data = np.float32(data) / 32768\n",
    "    data = pad_crop(data)\n",
    "    representation = spec_model.predict(data.reshape((1, -1))).squeeze()\n",
    "    spec = load_spectrogram(fn).squeeze()\n",
    "    spec, representation = norm(spec), norm(representation)\n",
    "    print(spec.shape)\n",
    "    plt.figure()\n",
    "    plt.title(fn)\n",
    "    plt.subplot(1, 2, 1)\n",
    "    plt.imshow(np.flipud(representation.T))\n",
    "    plt.subplot(1, 2, 2)\n",
    "    plt.imshow(spec.T)\n",
    "    plt.show()\n",
    "    print(representation.shape)\n",
    "    disp_count += 1\n",
    "# print(activation.shape)"
   ]
  },
  {
   "cell_type": "markdown",
   "metadata": {},
   "source": [
    "# What representation is actually learned?"
   ]
  },
  {
   "cell_type": "code",
   "execution_count": null,
   "metadata": {},
   "outputs": [],
   "source": [
    "# 'checkpoints_069/ep-073-vl-0.3997.hdf5'\n",
    "model = my_load_model('checkpoints_069/ep-073-vl-0.3997.hdf5')\n",
    "print(model.summary())"
   ]
  },
  {
   "cell_type": "code",
   "execution_count": null,
   "metadata": {},
   "outputs": [],
   "source": [
    "layer_idx = 3  # 4\n",
    "first_layer_weights = model.layers[layer_idx].get_weights()[0].squeeze()\n",
    "first_layer_biases = model.layers[layer_idx].get_weights()[1]\n",
    "# first_layer_weights = model.layers[layer_idx].get_weights()[0].squeeze()\n",
    "# first_layer_weights = first_layer_weights.T"
   ]
  },
  {
   "cell_type": "code",
   "execution_count": null,
   "metadata": {},
   "outputs": [],
   "source": [
    "print(first_layer_weights.shape)"
   ]
  },
  {
   "cell_type": "code",
   "execution_count": null,
   "metadata": {},
   "outputs": [],
   "source": [
    "for w in first_layer_weights:\n",
    "    plt.figure()\n",
    "    plt.plot(range(len(w)), w)\n",
    "    plt.show()"
   ]
  },
  {
   "cell_type": "code",
   "execution_count": null,
   "metadata": {},
   "outputs": [],
   "source": [
    "plt.figure()\n",
    "plt.imshow(first_layer_weights.T, cmap='gray')\n",
    "plt.show()"
   ]
  },
  {
   "cell_type": "code",
   "execution_count": null,
   "metadata": {},
   "outputs": [],
   "source": [
    "corr = np.dot(first_layer_weights.T, first_layer_weights)\n",
    "plt.imshow(corr, cmap='gray')"
   ]
  },
  {
   "cell_type": "markdown",
   "metadata": {},
   "source": [
    "# Same for the reshape architecture"
   ]
  },
  {
   "cell_type": "code",
   "execution_count": null,
   "metadata": {},
   "outputs": [],
   "source": [
    "model = my_load_model('checkpoints_084/ep-087-vl-0.2358.hdf5')\n",
    "print(model.summary())"
   ]
  },
  {
   "cell_type": "code",
   "execution_count": null,
   "metadata": {},
   "outputs": [],
   "source": [
    "layer_idx = 4\n",
    "first_layer_weights = model.layers[layer_idx].get_weights()[0].squeeze()\n",
    "print(first_layer_weights.shape)\n",
    "plt.figure()\n",
    "plt.imshow(first_layer_weights.T, cmap='gray')\n",
    "plt.colorbar()\n",
    "plt.show()"
   ]
  },
  {
   "cell_type": "code",
   "execution_count": null,
   "metadata": {},
   "outputs": [],
   "source": [
    "example_label = 'right'\n",
    "test_fns = sorted(glob('data/train/audio/%s/*.wav' % example_label))\n",
    "int2label = get_int2label(wanted_only=False)\n",
    "num_correct = 0\n",
    "num_total = len(test_fns)\n",
    "vis = True\n",
    "pbar = tqdm(test_fns) if not vis else test_fns\n",
    "for fn in pbar:\n",
    "    rate, data = wf.read(fn)\n",
    "    data = pad_crop(data)\n",
    "    data = np.float32(data) / 32767\n",
    "    prediction = model.predict(data.reshape(1, -1)).squeeze()\n",
    "    label = int2label[prediction.argmax()]\n",
    "    if label != example_label and vis:\n",
    "        print(\"Pred: \", label)\n",
    "        display(Audio(fn, autoplay=True))\n",
    "        sleep(1)\n",
    "    \n",
    "    if label == example_label:\n",
    "        num_correct += 1\n",
    "print(\"Acc: %.3f\" % (float(num_correct) / num_total))"
   ]
  },
  {
   "cell_type": "code",
   "execution_count": null,
   "metadata": {},
   "outputs": [],
   "source": [
    "activation_model = Model(model.input, model.layers[40].output)\n",
    "print(activation_model.output_shape)"
   ]
  },
  {
   "cell_type": "code",
   "execution_count": null,
   "metadata": {
    "scrolled": false
   },
   "outputs": [],
   "source": [
    "import cv2\n",
    "test_fns = sorted(glob('data/train/audio/stop/*.wav'))\n",
    "int2label = get_int2label(wanted_only=False)\n",
    "for i in range(2):\n",
    "    for fn in [test_fns[np.random.randint(len(test_fns))]]:\n",
    "        print(fn)\n",
    "        rate, data = wf.read(fn)\n",
    "        data = pad_crop(data)\n",
    "        data = np.float32(data) / 32767\n",
    "        act_val = activation_model.predict(data.reshape(1, -1)).squeeze()\n",
    "        print(act_val.min(), act_val.max())\n",
    "        display(Audio(fn, autoplay=True))\n",
    "        plt.figure()\n",
    "        plt.subplot(4, 1, 1)\n",
    "        plt.imshow(cv2.resize(act_val.T, (16000, act_val.shape[0] * 20), interpolation=cv2.INTER_NEAREST))\n",
    "        plt.subplot(4, 1, 2)\n",
    "        plt.plot(data)\n",
    "        plt.subplot(4, 1, 3)\n",
    "        corr_mat = np.dot(act_val, act_val.T)\n",
    "        print(corr_mat.shape)\n",
    "        plt.imshow(cv2.resize(corr_mat, (16000, corr_mat.shape[0] * 20), interpolation=cv2.INTER_NEAREST))\n",
    "        plt.colorbar()\n",
    "        plt.subplot(4, 1, 4)\n",
    "        plt.plot(data[::40])\n",
    "        plt.show()"
   ]
  },
  {
   "cell_type": "code",
   "execution_count": null,
   "metadata": {},
   "outputs": [],
   "source": [
    "a = np.arange(16000)\n",
    "print(a.reshape((400, 40)))"
   ]
  },
  {
   "cell_type": "markdown",
   "metadata": {},
   "source": [
    "# There are a few wrong labels in the training data. Can we find them using ML?"
   ]
  },
  {
   "cell_type": "code",
   "execution_count": null,
   "metadata": {},
   "outputs": [],
   "source": [
    "# load best single model\n",
    "model = my_load_model('checkpoints_086/ep-110-vl-0.1935.hdf5')"
   ]
  },
  {
   "cell_type": "code",
   "execution_count": null,
   "metadata": {},
   "outputs": [],
   "source": [
    "train_fns = sorted(glob('data/train/audio/*/*.wav'))\n",
    "train_fns = [fn for fn in train_fns\n",
    "             if fn.split('/')[-2] != '_background_noise_' and\n",
    "             fn.split('/')[-2] != 'unknown_unknown']\n",
    "print(\"Found: %d fns\" % len(train_fns))"
   ]
  },
  {
   "cell_type": "code",
   "execution_count": null,
   "metadata": {},
   "outputs": [],
   "source": [
    "int2label = get_int2label(wanted_only=False)\n",
    "fns, preds, gts = [], [], []\n",
    "for fn in tqdm(train_fns[:]):\n",
    "    rate, data = wf.read(fn)\n",
    "    if len(data) != 16000:\n",
    "        data = pad_crop(data)\n",
    "    data = np.float32(data) / 32768\n",
    "    pred = model.predict(data.reshape((1, -1))).squeeze()\n",
    "    gt_label = fn.split('/')[-2]\n",
    "    pred_label = int2label[pred.argmax()]\n",
    "    if pred_label != gt_label:\n",
    "        fns.append(fn)\n",
    "        preds.append(pred_label)\n",
    "        gts.append(gt_label)\n",
    "\n",
    "pd.DataFrame({'filename': fns,\n",
    "              'predicted_label': preds,\n",
    "              'gt_label': gts}).to_csv('wrong_train_labels.csv', index=False)"
   ]
  },
  {
   "cell_type": "code",
   "execution_count": null,
   "metadata": {},
   "outputs": [],
   "source": [
    "!wc -l wrong_train_labels.csv"
   ]
  },
  {
   "cell_type": "code",
   "execution_count": null,
   "metadata": {},
   "outputs": [],
   "source": [
    "wrong_labels = pd.read_csv('wrong_train_labels.csv')\n",
    "print(wrong_labels.shape)"
   ]
  },
  {
   "cell_type": "code",
   "execution_count": null,
   "metadata": {},
   "outputs": [],
   "source": [
    "for i in range(wrong_labels.shape[0]):\n",
    "    fn = wrong_labels.loc[i, 'filename']\n",
    "    gt = wrong_labels.loc[i, 'gt_label']\n",
    "    pred = wrong_labels.loc[i, 'predicted_label']\n",
    "    if gt == 'stop':\n",
    "        print(\"%s: GT: %s, PRED: %s\" % (fn, gt, pred))\n",
    "        display(Audio(fn, autoplay=True))\n",
    "        sleep(1)"
   ]
  },
  {
   "cell_type": "markdown",
   "metadata": {},
   "source": [
    "# Can we speed down the command? This is how I'd repeat something if a person doesn't unterstand me :P (probably louder as well)."
   ]
  },
  {
   "cell_type": "code",
   "execution_count": null,
   "metadata": {},
   "outputs": [],
   "source": [
    "train_fns = sorted(glob('data/train/audio/*/*.wav'))\n",
    "print(len(train_fns))"
   ]
  },
  {
   "cell_type": "code",
   "execution_count": null,
   "metadata": {},
   "outputs": [],
   "source": [
    "np.random.seed(13)\n",
    "fn = np.random.choice(train_fns)\n",
    "print(fn)\n",
    "rate, data = wf.read(fn)\n",
    "if len(data) != 16000:\n",
    "    data = pad_crop(data)\n",
    "data = np.float32(data) / 32767\n",
    "float_audio(data, autoplay=True)\n",
    "print(data.shape)\n",
    "plt.figure()\n",
    "plt.plot(data)\n",
    "plt.show()"
   ]
  },
  {
   "cell_type": "code",
   "execution_count": null,
   "metadata": {},
   "outputs": [],
   "source": [
    "# cv2? lol: https://www.kaggle.com/haqishen/augmentation-methods-for-audio\n",
    "# The pitch chanes (sounds bad!)\n",
    "speed_rate = 0.8\n",
    "w = int(len(data) / speed_rate)\n",
    "print(w)\n",
    "data_fast = data.reshape((1, -1))\n",
    "data_fast = cv2.resize(\n",
    "    data_fast, (w, 1)).squeeze()\n",
    "data_fast = data_fast[4000: 20000]\n",
    "float_audio(data_fast, autoplay=True)\n",
    "plt.figure()\n",
    "plt.plot(data_fast)\n",
    "plt.show()"
   ]
  },
  {
   "cell_type": "markdown",
   "metadata": {},
   "source": [
    "## Try the same with librosa\n",
    "### That sounds good!"
   ]
  },
  {
   "cell_type": "code",
   "execution_count": null,
   "metadata": {},
   "outputs": [],
   "source": [
    "def center_crop(data, desired_size=16000):\n",
    "    left = (len(data) - desired_size) // 2\n",
    "    return data[left: left + desired_size]"
   ]
  },
  {
   "cell_type": "code",
   "execution_count": null,
   "metadata": {
    "scrolled": true
   },
   "outputs": [],
   "source": [
    "speed = 1.3  # float: < 1.0: slow down, > 1.0: speed up\n",
    "data_fast = lr.effects.time_stretch(data, speed)\n",
    "print(data_fast.shape)\n",
    "# data_fast = data_fast[4000: 20000]\n",
    "float_audio(data_fast, autoplay=True)\n",
    "plt.figure()\n",
    "plt.plot(data_fast)\n",
    "plt.show()"
   ]
  },
  {
   "cell_type": "markdown",
   "metadata": {},
   "source": [
    "# Check the attention model"
   ]
  },
  {
   "cell_type": "code",
   "execution_count": null,
   "metadata": {},
   "outputs": [],
   "source": [
    "model = my_load_model('checkpoints_114/ep-029-vl-0.2188.hdf5')\n",
    "print(model.summary())"
   ]
  },
  {
   "cell_type": "code",
   "execution_count": null,
   "metadata": {},
   "outputs": [],
   "source": [
    "attention = Model(model.input, model.layers[-4].output)\n",
    "print(attention.output_shape)"
   ]
  },
  {
   "cell_type": "code",
   "execution_count": null,
   "metadata": {},
   "outputs": [],
   "source": [
    "test_fns = sorted(glob('data/train/audio/on/*.wav'))\n",
    "np.random.shuffle(test_fns)\n",
    "disp_count = 0\n",
    "for fn in test_fns:\n",
    "    if disp_count > 3:\n",
    "        break\n",
    "    print(fn)\n",
    "    rate, data = wf.read(fn)\n",
    "    data = np.float32(data) / 32767\n",
    "    data = pad_crop(data)\n",
    "    attention_val = attention.predict(data.reshape((1, -1))).reshape((1, -1))\n",
    "    attention_val = cv2.resize(attention_val, (16000, 1)).squeeze()\n",
    "    disp_count += 1\n",
    "    # print(attention_val)\n",
    "    plt.subplot(2, 1, 1)\n",
    "    plt.plot(range(len(attention_val)), attention_val)\n",
    "    plt.axis([0, len(attention_val), 0, 1])\n",
    "    plt.subplot(2, 1, 2)\n",
    "    plt.plot(range(len(data)), data)\n",
    "    plt.show()\n",
    "    display(Audio(fn, autoplay=True))\n",
    "    sleep(1)"
   ]
  },
  {
   "cell_type": "code",
   "execution_count": null,
   "metadata": {},
   "outputs": [],
   "source": [
    "data = np.roll(data, -4000)\n",
    "attention_val = attention.predict(data.reshape((1, -1))).reshape((1, -1))\n",
    "# attention_val = cv2.resize(attention_val, (16000, 1))\n",
    "attention_val = attention_val.squeeze()\n",
    "disp_count += 1\n",
    "# print(attention_val)\n",
    "plt.subplot(2, 1, 1)\n",
    "plt.plot(range(len(attention_val)), attention_val, 'r+')\n",
    "plt.axis([0, len(attention_val), 0, 1])\n",
    "plt.subplot(2, 1, 2)\n",
    "plt.plot(range(len(data)), data)\n",
    "plt.show()\n",
    "print(attention_val.sum())"
   ]
  },
  {
   "cell_type": "markdown",
   "metadata": {},
   "source": [
    "# How much do the predictions for the pseudo labels change?"
   ]
  },
  {
   "cell_type": "code",
   "execution_count": null,
   "metadata": {},
   "outputs": [],
   "source": [
    "# load current best\n",
    "sub = pd.read_csv('submission_112_tta_silentloudleftleft_all_labels.csv')\n",
    "pseudo_fns = sorted(glob('data/pseudo/audio/*/*.wav'))\n",
    "pseudo_preds = {os.path.basename(fn): os.path.basename(os.path.dirname(fn)) for fn in pseudo_fns}\n",
    "num_equal = 0\n",
    "num_pseudo = 0\n",
    "for i in range(sub.shape[0]):\n",
    "    fn = sub.loc[i, 'fname']\n",
    "    label = sub.loc[i, 'label']\n",
    "    if fn in pseudo_preds:\n",
    "        pseudo_label = pseudo_preds[fn]\n",
    "        if label == pseudo_label:\n",
    "            num_equal += 1\n",
    "        num_pseudo += 1\n",
    "print(\"%d of %d are equal\" % (num_equal, num_pseudo))\n",
    "# --> OMG almost all \"pseudo labels\" remain unchanged -.-"
   ]
  },
  {
   "cell_type": "code",
   "execution_count": null,
   "metadata": {},
   "outputs": [],
   "source": [
    "59078 of 126200 are equal"
   ]
  },
  {
   "cell_type": "markdown",
   "metadata": {},
   "source": [
    "# Look at mfcc once again"
   ]
  },
  {
   "cell_type": "code",
   "execution_count": 3,
   "metadata": {},
   "outputs": [],
   "source": [
    "sample_rate = 16000.0\n",
    "# A Tensor of [batch_size, num_samples] mono PCM samples in the range [-1, 1].\n",
    "pcm = tf.placeholder(tf.float32, [None, sample_rate])\n",
    "\n",
    "# A 1024-point STFT with frames of 64 ms and 75% overlap.\n",
    "stfts = tf.contrib.signal.stft(pcm, frame_length=480, frame_step=160,\n",
    "                               fft_length=None)\n",
    "spectrograms = tf.abs(stfts)\n",
    "\n",
    "# Warp the linear scale spectrograms into the mel-scale.\n",
    "num_spectrogram_bins = stfts.shape[-1].value\n",
    "lower_edge_hertz, upper_edge_hertz, num_mel_bins = 100.0, 8000.0, 80\n",
    "linear_to_mel_weight_matrix = tf.contrib.signal.linear_to_mel_weight_matrix(\n",
    "  num_mel_bins, num_spectrogram_bins, sample_rate, lower_edge_hertz,\n",
    "  upper_edge_hertz)\n",
    "mel_spectrograms = tf.tensordot(\n",
    "  spectrograms, linear_to_mel_weight_matrix, 1)\n",
    "mel_spectrograms.set_shape(spectrograms.shape[:-1].concatenate(\n",
    "  linear_to_mel_weight_matrix.shape[-1:]))\n",
    "\n",
    "# Compute a stabilized log to get log-magnitude mel-scale spectrograms.\n",
    "log_mel_spectrograms = tf.log(mel_spectrograms + 1e-6)\n",
    "\n",
    "# Compute MFCCs from log_mel_spectrograms and take the first 13.\n",
    "mfccs = tf.contrib.signal.mfccs_from_log_mel_spectrograms(\n",
    "  log_mel_spectrograms)[..., :]  # :13\n"
   ]
  },
  {
   "cell_type": "code",
   "execution_count": 4,
   "metadata": {},
   "outputs": [
    {
     "name": "stdout",
     "output_type": "stream",
     "text": [
      "\n"
     ]
    }
   ],
   "source": [
    "print()"
   ]
  },
  {
   "cell_type": "code",
   "execution_count": 7,
   "metadata": {
    "scrolled": false
   },
   "outputs": [
    {
     "data": {
      "image/png": "[encoded data removed]",
      "text/plain": [
       "<matplotlib.figure.Figure at 0x7f3e20c71eb8>"
      ]
     },
     "metadata": {},
     "output_type": "display_data"
    },
    {
     "name": "stdout",
     "output_type": "stream",
     "text": [
      "(98, 80)\n"
     ]
    },
    {
     "data": {
      "text/html": [
       "\n",
       "                <audio controls=\"controls\" autoplay=\"autoplay\">\n",
       "                    <source src=\"data:audio/x-wav;base64,UklGRnp1AABXQVZFZm10IBAAAAABAAEAgD4AAAB9AAACABAAZGF0YVZ1AAA3AEkAJAAAAPb/CwARACkAMAA0ADkAOwAuABwAKwAuADcASABXAFkAQQBRAEcALQBDADAAJAA6ADQAMgAzADIAIwAAAAEAFAAYABsAFgAPABMAMwA7AB4AJgAjABAADQDz/+//7//g/9//1v/Q/77/xP/Q/8r/z/+5/7f/u//D/8n/mv+y/9P/vf/B/7P/wv/Y/97////+/w4AKAAyAEUANAA/AEQAEgD9//r/+f/9/xMAGwD2/8n/pf/F/+r/4P/c/77/qv+l/5j/oP+k/7H/vP/R//z/AwD9//P/4//X/+f/EAApAEQAUgBcAHMAcgCBAIUAcQB3AGUAWwBiAFYAZABfAE4AWwBgAFYAUQBVAC4ABQACAOr/2f/K/6z/nf+R/4z/e/97/4z/lP+m/5v/mP+V/4f/of+W/4P/of+y/8P/z//X/+j/3P/O/93/7P8GABEA/P8HAPz/0f/c/+//8v/3/w0ALwAzADoAPAAyADUASgBfAEsANQAmABcAGQAEAPb/9v/y//f/5//u/wEAAwAhAB4AFgAhACoAWABeAGcAeQBgAHoAcABkAHcAUgBeAEUAFwAyAC4AMQAkABQAJQABAO//7P/T/9j/7P8PACUAEQAEAPz/9P/8//X//P8OAAUAFgAsADUARgA6ADQAIgAMABUABQD1//f/+v/2/+v/9v/0/+H/1P++/7T/rv+q/4z/bv+I/5X/j/+D/3//kP+I/5b/o/+u/8X/pv+v/8//1P/l/9P/zP/M/9z/0f+g/7f/tf+z/8v/zf/d/8X/w/+u/5r/vv+w/8b/1f/L/9L/xP/h/+r/+v8gABsAMABFAE4AUgBKAEgARwBKADUAMgBBADMANwBaAG0AcQBuAFEAUABaAEMAPgBFAD0AJwAkAC8ALwA0ACoAIQAoAB4ABwD4//7//v/w/+f/3//T/8r/3P/f/9j/9v8MAAcA9P/v/+7/3P/s////EgAXAPr////w/9n/3P/T/+v/+//8/wkA9P/0/xUAHAAGABoAMAA0AFoAOQASACEAFAAtAEMATgBfAFAAUQBBAEYAbABsAG4AdwBjAFcAXABLAEIATQBVAGcAUgAnABgACgAJAAkADAANAAgAAgDr//H///8MACkAIwAaAA8ABAAKAAQAAgD4/9v/0//n/+j/3v/z//j/7//m/9X/3v/d/9H/yf/A/8//zv+3/7n/wf+d/4L/ff9y/5f/w//W/+H/5f/m/9n/5//t/9j/1f/Q/+T/4v+//8r/y//X/+L/yP/S/8z/sf+h/5r/vf/A/8j/9v/x//T/DQAiACwAMgBEAEcATwBOAD8ALwAgAD4AUwBGAEkARQBDAEUAQQA3ABgADQAKAP//EQAIAPz/AQDm/+r/7P/x/wwA+v/3/+v/0v/P/7n/tP/H/8D/nf+u/8X/uP/R/8r/vf/V/97/5//o//D/9P8AABUABAARACoAOgBRAEwARwBIAEcASgBNAE8ASgA/AC8AJgAbABIABwDg/9j/5v/I/6v/r/+w/7v/x//B/9v/1//M//7///8MADQAIgATABQALQA8AEgAbgCBAJcAegBcAGMATABIAD4AKgAbAP//+//9/xkAHgAMABQACQAQAAEA7P8GABQAIwAjABcABgDt/+//AQAhACoAKwAnAAEA/v8AAP3/AwD6/wcADwATAPj/wf/W/+P/1v/z/wYADAAJAAsADAAGACgAGADy/xYAHQAgAC0AMQBXAEwAPAA7ACQAHQDr/+D/5f/E/87/tP+T/5z/oP+W/4T/pP+8/7P/vP/H/9b/4f/Z/73/x//V/9D//f8FAAwAJgAjAD8AMwAiACMADQAeABoADgAKAPb//f/7/xMAFQD9/xQAFgAxAE4ASQBZADcAFAAbAA4ACAD+//X/AAD0/+j/7f/M/7b/uv+w/6f/mf+P/5L/gP9r/2j/a/91/4L/i/+i/7b/w//M/9r/+P8AAA4ALwAyADoALgAbACMAFgAXABMAEgAkABMADQD9//X/AgAFAC8AQwBLAEwASQBhAFMASwAvABsALgAFAO3/9f8CABEAAwALAA4A9P/n//b/AgANAB4AJgA8AEoAVABTAE8AZQBlAF4ATgBBADkAIgAkAAYADQA4ABkAGQAyADcAOwBDAFMARgA0ACIADQAAAAEADwAKAB0ALwAbACkAIQD7//T/3f/V/9j/r/+U/5T/jv9//2z/cP95/3//kP+R/4b/hP9+/3v/hf+K/4r/qv+3/6j/t//C/97/4v/H/+T/9/8WADcAJwAnABoAIQA4AD8ASgA3AD0AMwAcACUAGAAcABsAEwADAPT/EQAMAAgAAADS/77/rv+y/7L/pf+n/57/of+y/8r/1v/l/wIAGwBOAGIATQBDADwANwAcAAwAHQAGAOr/3v+//8D/x/+9/8r/3//1/wUAGAA6AFUAaABuAGMAYABfAG4AjwCHAIoAogCDAHgAdABSAGAAWgAqACAAIAAXADIASQA8ADoAOgAxACUAFgAAAOT/1v/A/8T/6P/v//L/CAAKAPP/5//h/+f/7v/j/+P/1P/d//f/5v/o/9z/1//m/9n/1f+2/7D/0f/H/7P/rf+2/6n/l/+0/63/n/+9/67/kv+o/7L/jv9w/4T/p/+//8v/4v8FAAEAAQAaACUAJQATAAgA+P/4/xAABAD9/wcAAAAHACMALQA0ADsALQAzADgALgAxAEMAWABLAEsAXgBiAFoAUwBkAGIAaAB6AHgAcwBTAEQAOAAnAB4AFQAxADQALQArABIAGgAJAAEAGwAHAAwADwAEAAoA8P/v/+z/yP/H/73/tf+0/6j/xv/a/93/1f+//8v/xf/B/8X/wP/U/9H/yv/E/7D/pP+q/73/tf/E/9n/yP/L/8X/rf+g/6D/pP+h/6D/pf+7/9v/4v/w/wwACgAMAAMA9v8bACAALgBdAFIAVQBmAHoAlgB3AGYAbABnAG8AcQBmAFIAUABMADMAIgAGAAEAAwD4//T/5v/W/83/3P/j/8f/t/+0/8L/zP/I/8z/4v8IACsAKgASABoAHAAYACIABgD5/+f/2f/h/7T/wf/b/7L/rP+g/47/j/+u/9T/v/++/73/rf/M/+T//P///+f//f8MABoANwBHAGEAZQBeAFUARQBCACcAFwAVAAYACAAIABQACwDu/+r/yP+//+X/5P/c//L/AAARADgARAA3AC0AQQBaAFQAXgBPAE4AagBfAHcAbgBZAHEAUQBLAEQAMgBIADMALQAsACQALgAPAAUA9v/O/9H/3P///xoAAwD8//r/6f/J/8L/+/8YABsALgAyADkARQBEADAAKQAoABYAFAAFAOj/1v+z/6j/tP+o/5//qf+o/5r/nP+R/3r/eP9j/1z/af9e/2P/Xf9g/3z/e/+L/5X/mf+6/9j/5f/p/wQAHwA8AFsAZAB2AG4AawCPAIMAfACdAKMAmwCOAIAAjgCKAH0AaAA2AC8AJgAcACcABQD4/+3/w/+5/8D/sv+h/7H/rP+R/5P/kv+l/8X/0//o//z/AwACAPD/5P/x/+7/6v/7/wQACwAPABMABwAAAPH/v/+o/6r/wP/O/77/v//A/7r/pf+q/8H/v//Z/+7/AAAJAAAAEwAeADsAVQBPAFYAYwBnAF0AbgBpAF4AgQB3AG0AcABaAEoANgBFAEsASABKACsAKgAuACQAFQAWACgAAgD6/wAA9v8cACYALQAqAA8AHQAXABwADwDh//L/+f8GACwAMgA1ABUA4//T/9z/6P/o//D/+//5/+r/y/+7/9z/6v/O/9H/uv+j/7f/sv/L/9T/y//c/7//t/+z/8P//P8JABcACgD+/xAAFwA4AB4A/v8YAAYA6P/S/8b/vf+1/8X/sv+V/5T/oP+g/4//l/+c/6n/xP/G/83/x//G/+r/CQAfACQALwAzAC4ARgBBAEcAbABoAHQAhQCCAJQAowCkAJcAkwCcAIwAkQCTAIAAgwB5AGMAUgBWAF0APQA8ADwAPwBLACUAMwA7ACcAFwDr/wgADADR/7L/qf+Y/3T/lf+U/33/pP+i/6L/oP+0/9T/zf/s/+r//P8fAOv/6v8BANz/5//t/9L/8P/+//L/5v/R/93/zP+S/4X/rP+//6//tv+k/47/pP+T/4T/pP+q/6//sv+c/53/pf+9/9n/3f/y/wEADQAMAAkADQD5/xQAFQAKADYAJAAtAFIAVgBpAGkAZQBTAEsASAAqAEMASAAiACUAJQAhAA4ABQATAPf/7/8AAAMA7f/N/+f/7f/Y//P/AAD0/9n/2//p/+b/DQAFAO3/AQD2/wQAAwDp/w8AFAAZAEUASQBGAEoAVgBQAF8AiABbADYAQwBIAEYAKQBKAE4AGAA1ACoAGgBGAEgARQAqAAoAFAAMABAAJQAoADAAMQATAAEA8f/a/+z/9//t//H/2f+w/6P/kv96/5H/n/+b/6r/of+f/5P/mv+5/7T/3P/o/9P/9f8JABYAFwAQAA8ADAAYAAAA8/8DAPD/5//z/wgACwD3/wEA/f/w//P/+/8GAPP/+v8LAPj/9f/5//v/7v/2/wIA+P8RABAA+v/2//3/HwAeAB4ALQAcABMACwD+/wkAHwApACYAGAABAOr/2f/N/77/xv/K/73/rv+c/7T/t/+Z/7f/z//C/8D/vv+//6v/rP/g/wAAAAD5//f/BgAiAEsAcwB8AGkAbQBsAEYASABMACsANQAzAAcABAAYACEAHgAsACkABgD+//z///8JAA0AEgD7//T/BQAoAFwAWQBcAGgASABDADgALgBQAEUAKgA2ADoALgAtADgAMwAfAAkA8v/i/+f/6//o/+j/3v/j/+v/5/8DAAAA5P/u/+L/1P/v//X/5P/W/9H/3//X/8//5//7//f/6P/q/+X/2v/X/8b/w/+//73/zv/R/+7/FwAWACMAMAAFAPL/7f/q/w4AAwDl/+v//P8EAPb/AQABAAgAHAAKAAgABAAPABoAEgAKAOP/3v/g/+X/+//4/wUA8//s//X/6f8MABgAKABNAEEARgBRAFAATQBDAEQATQA+ABoADADz/8z/yf/C/7z/wP+u/6n/v//d/9j/qv+s/8f/wf+3/6P/n/+w/67/uP/G/9n/8//2//z/AgD1//r/BgD7//r/BAAUABEA//8WADcASAA2AAwA9//o//L/BAD9//H/7v/v/+L/5f/z/+3/4P/q/wgAEAAVABYADQAcABsAGQAhAB4AIQAeAB0A/f/s/wIA9f/x//P/9v8SAAYAAQACAPr/KgAsACYANwAFAP//AwDz/wEA/v8IAAIA+//+/+f/+v8MACQAQAAuAC0AKgAnABsAAQAGAAoAEgAWAAgABQD+/wsAFgAJABsABgDo/xQAEAD//wgA8f/o/+D/8f8KAOT/4//7/+3/AgAMAOf/4v/h/9//+f8KABAACQANAAkA7/8KAB0ACwAsAEEAOwBcAGMAXgBsAGUAWwBGAEsAZABWAGEAcQBbAFsAWwBFADYAMQAvAC4AHwAPAAsA9f/k/9f/yv/N/83/v/+X/5P/pf+M/4X/ev+D/5z/iP+Z/6z/q/+l/6D/uP+9/9H/2P/R/97/1f/l//z/AwDq/77/vf/F/9r/7P8BAB0AFAAJAPn/5//p//P/5f/G/7n/tf/F/8n/0f/m/+D/7P/m//f/IAAbACsAIQDy/+v//P/0/+z/EAASAAwAFwAMABsAJgAkABYAHAA1ACkAJgAMAP//EgAFABsAFQAIAEIAYgBuAGsAXQBYAD8APQA/ADwASwA+AC4AHwAQAB0AIgAuADUAIwAYAB0AKQAoAC8ALQAvAEIALAA1AD8AKQAwABEAAAD7/9n/4v/U/7//x/+5/57/gv+I/5T/mv+2/57/ef+Q/6T/pf+n/6T/qf+8/8z/vf+2/8D/pP+m/8b/wf/J/9T/0v/V/8z/4/8JAAkAEAAWABIAKgBEAEwARAA9AFUAYABfAF0ATwBDAC8ALgA/ADoAPwBCAEIAQAAXAP7/+f/Y/8f/zf/A/7H/rP+j/6T/vf/Z/+n/9f8EABUAEgAOABcAIAA6AE8AVQBUAE8AYgBhAGQAbgBVAFYAVQBMAFEAMQAsAEIAPAAnAAgACwAaABkAKAAgABgAEgDt/+7/6//a//P/7P/F/7j/u/+k/6b/xf/O/+L/0f/H/+T/5P/n/93/3v/h/9n/3f/Q/9P/vf+y/8b/xP/O/8X/1v/Y/73/1//J/7b/wf/R/+H/3f/w/9L/r/+//7L/uP/M/9z/BQA2AEsARQBUAFYARAAtADEATwA2ACQALwAsADoAQwBKAE0AUwBVADEAEgAVABUABAD8/93/yv/I/6f/sv/C/8//6//T/9L/2v/V/+r/+v8JABoANABCAEUAUABJAE4ARQA1ADgAMgBGAEUAHwAGAP//HQAkACEAPQA3ACkAIQASABsAKwArACkAMAAaAAYAEgAKAPX/+v/+//D/8//q/97/3v/X//b/+//e/+f/6P/x//j/2//T/9z/1P/P/9b/y//D/7L/rf+9/6f/o/+i/5v/wf/L/9H/6P/i/9D/wP/G/8D/sf/E/9b/3//s////EgAQAAkABwAMACYASgBcAFUATABBACwAIQAeACYAIAAZAB0ABQDy//b/7v/o//D/4f/O/+D/2v/S/9r/3P/2/+D/1P/6//n/BQD7/+r/CwAEAP//FAAQAAYAAgASAB8AGwAVABAADgAaACMAHwAtADQALAA/AFAAWABbAEoAUABkAHQAawBOAEMAIwAQACQAIwApAC8AKAAbAAYA/P/v/+f/9v/0/9z/yP+8/67/qf/A/8z/wv/R/+f/5v/r//b/7P/n/+r/2P/H/8j/yv++/7T/xv/e//P/8v/R/8T/2P/k/+j/5P/j//z/FQAlADcARgBAAEMAXQBUAFcAewB5AHcAiACAAGIAWQBTADIALgA5ABkA/v/r/9//9f/m/8z/0v/D/8f/y/+9/8P/yv/a/+X/9P/g/6r/s/+r/57/vv+t/5b/qv/K/7z/rP/7/wgA2f8MABkA9v8IABAA4//N//L/5//2/y0AJAAlABQAIQBOADEAJgAwAG4AfgBAAGkASAAjAFYAHgAEABYAIAAtAAEA5f/N/8r/vv+T/7n/t/+0/+//0//L//X/BQAYAB8AFwAWACUAHQAPABYAEQABAO//AgAMAO//7P/l/+X/6//T/8j/0f/m//z/FQAVAPX/CwAnAAkAEgAjAAIABgAnAB4A9f/X/+z/+P/g//n/HwAUAP//EgAiAPf/4P/6/wkABAD//wEABgAUABUADAADAPn/BwAOAPv/BwAXAAoAGwAsACcAOABPAFwATQBPAGoAVQBSAGIAUQA8ADUAPAAKANL/vv+j/63/vP/Q/9X/tP/C/8n/0//g/97/BgAOAAgADAAOAP//4v8CAO3/0/8QABIA/f8BAP7/5P/o/wwABwAZACMAGQAUAPb/9P/n/9f/1v++/8z/zP+z/7T/pv+W/7n/3f+8/8P/7P/B/7r/0v/K/8//4v8EAO7/z//W/9H/3P/P/8j/xf+7/9D/2v/z//7/CwAMAOz//v8HABEAJQAwAEYARQBTAFMARwBUAFcAUgA5ACYADQALABcABgAiAC8AKgBFADsALgA0AB4AFAAkABEA9v8AAB8ALwAxAEAAJADq/+7/6f/M/9z/6P/k/+b/5P/y/+z/1//t//T/6f/h/87/wf+6/87/zv/B/87/wv+2/6z/u//V/8f/6v/k/73/zf/C/8X/0//y/xYACAACAPj/LABWABUAEAAzACQA8//X//b/GAAiAAYA+f8eABoA8v8AACoALgAtADcAQABMAE0AUABRAF8AZgBnAIgAhQBhAGIAgAB4AEcASwBsAH8AZwA8AGQAagA5ABoA8P/y//n/9/8WABwADwAKAP3/7P8LABwABwAGAPL/7//g/8j/yf/G/+//7v/i//j/8v/w/9r/4f8AAPv/1f/I/+v/8v/7/////f8IAPn/AgABAOn/3f/N/8b/s/+X/5H/kf+Y/6r/l/+W/7n/uP+4/6T/kv+Q/4//nP+K/6P/s/+r/87/r/+z/8//v//B/7X/0P/a/8v/3P/i/+3/6P/7/wkA8/8EAAAAEwA1ACIALAA/AEsARAAyAFQAYwBoAIIAfgCAAH4AeACAAHAAaABpAFwARgAsACoALgAqABkAGQA3ADQAKgAsAB4AEQD4//L////9/xAAIQAMAPX//P/x/9H/3v/Z/8z/3v/L/6z/qP/T/97/u//L/63/p//o/+T/4//s//P/AwDv/+j/2//S/9X/zP/f/+v/7P/w/+r/4f/Z/97/1//j/wYABgD7//D/5P/w/xAALwAwADIAQwA5ADgASQA6AD0APAApABcA8//r/9//8f8OAOT//P8PAOz/7f/x/xgADgD7/xAA/v8pACsADgA7ADoAQgA8AAkACgAUAB0AOAA5ACkAMQBGAEQATwBjAEEALwAqABcAJwAiAA8ACQASABsA+P/w//r/8f/5/wMA+v/m/93/y/+6/6j/qP/J/67/m/+r/7X/0//W/+v/7P/b//v/8v/m//z/CgARABIAEwACAPn/CgAbACAAIwASAAkAFADt/+7/BQD1/wQABQAIAAMAAwAgABcAFAACAPr//f/x/xEACwD6//H/6v8CAPb/+/8AAPb/DgASAPr/4P/i/93/4//k/9X//f/6/+z/AQDy/xAANgAzADUANAAuADkARgA0AB4AHgAqACQAKgA4ACEAIQAaAP7/CgAHAAIAFgAXABEAFQAHAPj/9v/s/+v/8f/6/wIA/P8IAB0AJAAnABQA8v/m/+n/5P/m/+r/3v/V/8X/u//D/8j/4P/U/8v/7v/V/9r/9P/j/xoAIwCy/43/1P8ZABYAyv+0/+P/DwAjAAoAEQAUAOn/3f/d//T/BQDs/8n/xP/s/wAA/f/j/9b/5v/K/7n/yf/g/+//4f/n/+P/1f/c/9L/yf/K/9P/5P/z/wIAAgD5/xYAMgAXAA8AHgAZABAABAD5////JgAvABcAOQBXAFkAZQBvAIQAbgBnAG0ASABfAGEAOwAnAAgAHAAVAPz/+P/b/9H/u//D/8j/1//r/8D/7f/d/83/6P+3/xMA+f/V/xsAyv/8/wkA5P8bAPf/EQAOAAkALgD5//7/9f/d//j/6P/s//r/1//S/+T/5P/+/w4AJgA+ACUAOwA9ADAAPQAUAA8AKQAcABMA+P/t/woACgDq/+v/+f/v/9z/2P/i/+P/6v/f/73/vP/E/9X/5f/V/+b//v/5//r/8f/5/xEAGAATAB0APAA1AC8ASABCADQAJgAiAB4AGgAnAA8ACQAeABoAFQAIAAcADQAMAPz/4//z//H/7f8DAPD/9f8FAPz/+//z/+j/5f/u/+f/8v8XABgABADp/9D/2//0/wIA9v/Z/9T/0f/D/8n/yP/f//7/4P/f//L/6P/p/+L/2P/J/7T/vf/P/+X/6f/W/+X/+P/t//P/9f/z//7/9P/y//v/DgAjACIANgAwACIAJQAiADMAMAAuAEAAMAA4AEIAHAATABgACgARABAACQAbACsANwA7AEAARQAvACMAKAAhADAAOAAeACcAIgAZADUAJwAlACUAKAAuAAAAFQAkAAkAHwD6/87/3P/z/wAA7v/u//j/9v/7//b/CQAnABoACgAKAA4A/v/d/+f//f/6//b/3f/Y//D/+f8FAAAA/v8EAOX/4P/p/+f/6//e/+X/4f/R/93/1P/D/8b/2P/y//3/DAAkABwAGQAcAAcAFwAeAAsAJQAgAPz/9P8KABYA9P/m/93/3//9//f/8v/p/9j/7f/j/8r/2P/T/9H/5//J/7b/uv+1/8v/wP/K/9L/tf/N/8f/vv+4/5z/sP+l/7D/0f/F/9z/4v/2/xsADgASABgAGwAlACAANgA/ADMAOgA4ACsAJgAmACoAJgAeABEADgAWABYAJQArACMAKgAXABkAMgAmADIAIwD7/wMAAQD8/+b/6f8lADQASgBNACgALgAqAB4AFwAbABcABwAUAAsAFwAvACEAIQAdAAgA7P/u//z//P8OAAMA/f8bAC4AGgAFADgARQA8AFIALAAzAEEAJgA4ACkAFgAKAPz/BQDx//z/FgAMAAcADwANAPP//f/4/+f//v/0//n/8v/s/wcA4v/d/+b/zP/X/9X/0v+//7H/uf+3/8P/wv/N/8X/n/+g/5j/oP+j/53/pv+j/8f/yv/H/+z/2f/M/9b/7f8HAPz/EgAeAA0AKgBPAF4AawB6AHMAagBuAFUARwBUAF8AWAA3ACYAJAAmACcAIgA3AD0AFwABAPb/8P/4/+n/3f/j/9D/2f8FAAoABAAAAPT/AAAMAP3/BQASAAwAEgD9/wAADwDr/+b/3P/T/+b/5f/3//L/0v/L/9f/7f/z/+r/5v/a/9b/+//8//D/BQAHABMAFAAVACMAKgA7AB8AIAAbAPr/AAD0/xAAFAD0/+3/1v/o/+j/0f/I/8f/5P/k/+D/3v/o/+f/2P/6//T/7//4/+T/9P/y/9j/u/+9/8n/vf/P/8H/vP/P/9b/+v/3//T/+//3//f/0//d//r/+f/5/+T/+f8KAAUAGAAIAAsAJAApADsAUABcAFIAQwBAADAAKgA/AEwATABPAEQAPAA/AD0APwBDAEsAWwBrAFgAOQBVAGUARQBMADsAFQAYAAgAAwABAO7/9v/4//3/8//1/xEACwAWABsAGAATAPf/DAAcABAACQAKACAADQD5//H/2f/Y/+L/4v/m//f/9f/y//H/2P/Y/+L/3//W/8v/yP/B/9H/y/+x/7L/vf/B/6H/m/+k/5j/n/+S/5z/nf+Y/8n/yP/I/+D/zf/D/7j/sf+u/7H/yP++/8L/3f/e/+v/AAAIAAgADQAqADgAOQBNAF4AagBuAGkAYwBOAEcARgBBAE0AOwAnACIAHwAmABQAEAAQAAgADgDr/8f/wf/H/8j/x//Y/+H/AAAGAPT/FgAZACIALAAVABYA+P/w/wQA+/8OADQANgAjADwAQwAaACcAJgApAFoAWgBhAGEARgBGADYARQBVADMAPQAxABsALgApADQAOwAxABwAAgD+/+j/+P8CAOT/9f8BAAMA+P/0/wwADQAVABEAEgAWAPL/3f/b/+z/3v/F/8f/rv/D/9T/o/+s/7b/p/+2/7D/m/+W/5z/o/+k/6n/oP+I/5H/qP+u/7b/vP/J//H/BgD6//H/7//r/+j/3f/R/9n/yP+6/8f/u//L/8r/tf/L/8T/2P/y/+r/+v/u//H/DQAGAP7/CgAgADQAOgA7AEwATABAAF0AagBnAIMAkACMAJUAowClAJcAmgCsAJAAbABkAEoAOQBSAGUAYABaAFUATAA6ACcALAAwABsABQD4/+3/7P/u/9b/1P/g/8n/yP/K/7v/z//a/7n/oP+5/9j/2v/U/8b/vP+5/63/qv+l/5b/nP+g/5b/lP+W/57/q/+x/7v/t/+8/9D/0//Y/+T/8v/3/+3/AQATAB4ARABRAFAAWABFAEQAYwBcAEgAVQBcAGIAUAAtACgAHQAhADYAQABEADsANwBJAF8AQwA3AEEAJQAxACIABAAOAA8AGQAKAAYAFwAVAAMA8//z/97/8f8CAN//z//B/9b/8P/2/w0ACwAeADIAEwAcADEAHwAfAB0AGgAxAEAARgA9ADwALgAbACgAFAAGAAwA8v/k/+X/yf+q/7D/q/+n/7f/rv+2/7b/tP/Y/9D/zP/P/7X/vf+7/6//t/+w/7v/x//E/9n/2/+9/8D/vP+Y/7P/y/+q/5z/ov+2/77/qv+d/5v/rP/B/9X/0v/I/+r/AQASAB4AGAAqACsALAA9ADAAJAATABAAGgAOAAwAFgAiABYAAAACAAAAAQANACcALQA4AFEANQAxAD0ALQA7ADIAPQBXAEYAUQBMADMAQgBEADoAPQA7ADEALAAiAAwAFwAiABwAIwAcAC4AJgADABUA/v/x/wYAAAARABEAHwAuAAYA+v/y/+z/8P/t/wAABgD+//j/8//k/8j/6P8FAOr/6v/6//3/CQAgADMAMQA1AD8ANgA8AD0AJgAeACEAFwADAPn/BQAPAAwAAAD9/wQA/f/y/9//2//x/wAABAAEABQABQD5/xMADAAJANP/uP/v//P/9v+3/27/mP/M//r/z/99/3n/gv/D/wcA6//F/8z/8v8AAPH//f8KABgALwAiAAkA/P8CAA0A/v/r/97/+P8cABsAFwD6/+//FQA9AEMAIgAdAAUA6f8DAPP/3f++/6T/y//E/8f/8//w/+n/3//z/wwAAAD+/+z/7f8FAA4AGAAPABYAGQAEAPb/7f/2/wUADgAIAP//+//v//n/EQATAAMAAgATAB4AJQAfABYAFQAQABwAIAAKAOz/3v/9/x0ACADv/97/0//q/9z/y//Z/8b/xf/D/7D/qv+v/8T/xv/j/+7/zf/c/+H/5P/6/wwAKAAvAEkAXgBhAH0AbQBSAFoAWQB3AHsAXgBrAFcAUQBVAC8APwA6ADMAUwBEAD4ARQBMAEcAJQAdABAAAwAJAAoADgAQABUAGgAkACgAHQAeAB8AFQADAPT/AAD5/9//3f/S/8n/zv+8/73/v/+q/77/1f/Q/8b/sv+n/7D/uP+u/6j/t/+y/73/5f/2//L/+P8SAAsA8P/r/8r/sv/F/9X/zf/L/93/1//V/9r/xf+8/63/pP/A/9T/3//v/+7/3P/Z/+P/3P/Y/9//8P8EABMAGwAjADAAMwA+AEYAQQBVAHEAggCBAGUAQwA0ADoAOgBEAEwAOwA3ADQAHgAYABoAFgAWABEAKQAwABkAIgAIAPP/+//t/wEABAAJABYAEwAnAAEA6//4//X/BwDz/wUAIAACAAcA9//0/wsAAwAAAOv/7P/0/+j//f8JAAUA+P/u/+n/0f/E/7D/q//H/8j/x//A/7T/zP/D/7P/5f/3/+//BAABAO7/3v/Z/+H/zf/B/+P/9f///wsA8P/q//7//f8EABEABAABABYAHgAmABwAEgAhAA8ACAAYAB4ALwAxADcASQBPAFgAWgBQAE4AQQA1ADsAPgBSAGEASAA3ADkAQgBHAD0AJAAKAAQA9//2/wEA/P/8//H/9v/x/8X/tf+2/77/wP+v/6z/uf+5/7D/x//Z/9D/yP/J/9P/z//g//3/+//1//j/DgAOAAAA+v/z/wIABQASAC4AKwAgABIADwANAAYAEAAOAAIA9f8CAAkA7v///wsA9P/3/+L/4//3/9f/1f/X/7n/uv/E/7T/n/+4/8L/qv+y/7D/of+k/7P/sf+i/7P/yP+8/7f/z//S/+D/BgACAAUAEwAgADAALgAuABAA+/8mACQACQAoADkAPQBYAGcAcAB2AIQAegBmAGsAZwBvAGkAXwBfAE8AUwBQAD4ALQBIAGcATwBMADgAMQAyAAsA/P/d/9z/+P/1//L/8f/2/+///////93/6P/x//v/7v/r//r/xv/L//X/+P8NABMAAQDq/9f/0//l/+f/zv/H/77/z//Q/7r/1P/E/6v/r/+h/6r/of+V/6L/pv+t/6r/mf+d/7j/wv/D/83/yf/I/87/7P8UABsAIwA0ADwAMAArAEEAQQA2ADYALQApACEAEgAiADYAIAD//wYAIAAYAAEAAgAIAP3/EwAiAPf/6//o/+j//v8EABEAHAAtAC0ALwBRAFsAdQB8AGoAVgAuADIANAApAC8AIgAnACoAJQArAC0AMAA1ACgAFQAZABkAFAAQAAoAEQALAAkACwDy/+T/7P/g/9n/4v/Q/9n/+f/t//H/8P/V/9v/2P/U/9f/yf/V/+//EQArABwAEwAmADMAIQAWAAIA8f8OAAgADAAYABIAOAAmABQALQArAC0AFgD8//X/8P/o/9r/3f/a/9X/qv+L/5v/d/+C/67/qf+1/7D/oP+C/27/gv9n/23/kf93/4H/lf+d/8L/1v/c/9//6/8DAA0AFQAVAAoAEwAWAAgAFgAxAD8AQQA+AEEANQA5AEYANwA5AEIAQwBAAD0AMAAuAEoAKgAIAAsA8P8CABQABwAYAAsA6//f/87/yP/A/67/t//D/8P/xf+4/8P/3//x//f/+P///+z//f8RAAoAJQASAAgAHAAgAEQALgAlADkAGAAaACIAJgBAAE0AQwA1AEMATABLAEAAMAA5ADQAQwBMACwAMgApACcAUQA9ACsANgAyADMAHwASAA0ADgARAPv/FAAbAPv/BQAJAAcA9P/q/wQA+//q/+b/6P/9//n/4P/I/8f/2f/T/8P/zv/b/9T/yP/c//r/8f/w/woACgAAAP7/9P/1/wUA///1/wAA+//6//3/7//v//n/DQAIAPz/BQAAAPz/+P/x//H/+v/+/+f/5v/w/+j/7P/1/wMABwAKAAQA4f/a/+L/2v/j/+v/6P/x//T/8f/z/+//6f/y//z//P/8//r//P/9/wMACADw//3/LgA0ACQAFAAjAEUAUQBVAD0ALAAlACIAKwAfADMALQANAAcA5f/x/xEAGAAkABoAMwAzABgAFwD5//X//f/6//3/9v/1//b//v/8//7/AgD7/xQAAADg/+v/6v8KAAgA7/8LAAUAAgAJAAEACgDp/+//DgDv//z/FAAeACIAEQAYAAMA/f8GAOb/5//H/6v/yf/D/73/qf+g/7b/pf+a/5f/nf+l/53/rf+9/73/sP+0/8D/wP/Y/8v/t//K/77/vv/R/9z/6P/r//n/7//a/+X/8P/+/w8AHQAsACgAIQAbABwAKQAsACoAGQANAAoA+v/6//T/6f/r//L///8MAAIA7P/r/+H/9P8MAAQAEwDu/9H/7//s//f/BgAOAAgA9f/2//D//P8NACMASABTAEgAJgAfAC0AJQAqADAANgA5AC8AHwADAAYADQAHAB8AMQBEAFMAPgA9AE0AYAB5AGYAWABlAF4AWABjAHUAewB9AH8AYgA3ABkABgDy//v/BgD//xIABwD4/wIA7//4/wYAFQAsAB4AJQAkAB8AIgAIAAYA9f/f/+3/9v/6/+r/5P/i/+//DQANABAAAADw/wIA+P/2/wAA9v/x//P/5//W/83/y//O/87/z//S/+v/9f/x/wIA7//3//f/1v/Z/7z/zv/e/97/6//N/zYABQCI/yIAAQCe//z/AwDr/9j/1P8IAPD/rP/p/xYAqf+o/+D/vP/T/87/rv/Z/7z/mv/f/9D/lv/T/+j/sv/D/8X/rv/e/+b/2f/s/8j/2P8BANz/5//p/7v/3f/1/9b/6P8IAP3//f8FANv/0//h/83/4P/h/9X/+P/5/+3/9/8DABUANAA6ACMANQA7ADsAWwBRAHEAlQBzAJUArgB3AH4AnQCDAIAAlwCTAI4AaQBBAEYAQwA4ACYAFAALAPv/CQALAPv/8//l//j/8//j//X/4f/X/+7//P8MAB8AJwAdACUAMQAfAC4AOAAYAAcABQAGAO//7f8IAAgAHAAdAA4ADAD7/xQAHgAaAC8ABgD1/+v/0P/d/9X/yv/N/+r/8f/Z//L/0//D/+n/2//f/+v/9f8CAPr/9f/w/9r/xf/R/8D/qv/L/8r/0//q/+D/8//4//L/+//x/+n/4P/c/8r/v//g//D/4v/U/9X/2f/c/wAAEQALABwAHAAmAEQAPgA8ADUAFQAXACsAPQA+ACMAIwAuADUALgA0AEAAHQAOAP//7P/v/9H/yP/V/8L/tv/D/9//8v/5//T/6v/n//b/BQD1//z/GAAcAAsA//8XABQACgANAP//DAD7/+z/9f/U/+P/AQD2//H/7f/x//X/4f/h/wcAGwAXACEAEgDy//f/5P/Q/wAADwANABwABgAFAAkACwASAAsAFQARABkAEgACACUAHwAqAEIAKwA6ADwAKQAmAAgAAwAWAAsADwAbAPj/8P/5/93/4v/l/8//3P/w//v/AgANAB8AKAAxACgAEwAMAAQA9////xwAJwAgAAwAAAANAAUAAgAYABQA+f/q/+7/8f/h/8//zf/H/7D/pf+o/6H/vv/l/+b/5//k/+H/2v/d/+P/1v/e//T/DwADAO//BwDm/9r/6f/Q/9n/u/+w/9P/xv+//7X/t/+5/7P/wv/G/9//+//6//z/AwAYABwAFAAcACsAQgA4AC0AUQBaAE4AVQBaAHYAfQBkAGcAbAB1AIMAbQBQAEAAOQA4ADQAPgA1ADIASQA1AB0AHwAkACkAHwAUAPn/3//q/+X/yf/P/+b/7f8AAAQA6v/m/9j/yv/Z/+L/7v/w/+L/yv/L/97/v//H/9T/vP/E/7T/vP/Q/8n/4//g/+X//f/y//b/DAAMAAAABQABAAMAFwAKAPT/8v8BAP//8v/z//b/GQAUAPj/EgAdACAAFQABAAAAAwASABgAGQAYABYADgAZACoACwAQABsAAQARACkAOgBAAEEAPAAoACcAEgAKABwADgAOABEAHAAbAAcAIwAgABQAJgAQAAAA4//W//X/AQD9/+b/8v8BAPH///8AAPP/4f/S/9f/y//B/8T/xP/D/73/sP+y/7n/uP/P/9j/yP/T/8v/vv/S/8b/vf+6/6//wv+3/7z/5v/m/+X/3//h/9P/wP/b/9X/6v8AAAMAIgALAAUA///q/wIA+P8EACIAKwA5AC4ANAA1AD4AeACPAHwAYgBNAE0ASQA3AC4AKwAxADwAPAA+AEAAOwAfAAEADAAZAC4AOwAeABgAEQAAAAEABQAcACAAIwA2ACoAJgAiABkALgAzAB8AAgDx//b/+v/6//H/6P/V/8P/1P/a/87/y//H/77/rv+z/9H/1f/T/+v/2f+0/67/qv+z/8H/x//B/7X/uv+//73/sP+w/8P/z//k/+//7P/w/wQADgAAAP//AwAZADMAQgBPAFMAYgBfAFgAVwBYAFwARgA4ACwALwBLAEwARAA8ADYAIwAZADcAOQAvADgAJQAJAAMABgAkADEACgAOAB0AFAAEAOr/7v/d/8X/v/+m/6j/r/+d/6H/u//O//P/+//c//f/6v/R//X/6P/e/+L/7P8FAOj/4v/+//3/8//z/wgAGwAsAD8ATABTAFQAZQBsAFkATwA3ABsAFQAUABwAAQDl/wYACQAHABoABQAJAA0A+//2//3/EAAIAPz/5f/E/87/3v/i/8//1//s/9r/9//1/9f/6v/U/8H/xP+4/6L/jf+i/6T/pv+//7H/uf++/7n/1f/P/8r/4f/w//3/+v8BABcAEwAOAB4AJQAsACsAEwANABQAHgAgABYADwD5//T/AQAMABQAFAAYAAoACQAJAP3/IQAwACsANwAYAA0AFgAUADAAMQAzAEAAOABGAEIAOQA1ADIAOgAuACsAJgA9ADwAEgAeACMAGAAWABEA+f/Z/+H/2v+7/7n/t/+6/9L/0f/O/+D/vf+f/6H/pf+5/6v/pf+m/7D/v/+e/6D/jv9//63/rv+r/6z/wv/a/7//z//g/+b/9//q/wAABQAAABkABAD9/w8AEQAbACUAMgA0AD0AQAA0ADgANQA7ACoAIwA1ABgAIQA+AD4ARgBLAE4AUABjAGoAagBpAEUAJQAfADsAOgAeABgACQAXABcAEgAnACQALgAfABUAKgAkACQAEQD9/w8AFQAPAAoACgAPABYAEwAVADcANAAYACMAGwAOAAEA4v/q/+f/7/8AAPL/BgD9//j/EgAJAA4A+P/0//v/2f/n//X/BwAOAPr/7P/S/97/1f/F/9f/yf/D/7P/q/+9/7n/xv/L/7n/uv++/7//3f/T/7z/8P8CAAMAGQAaACEAFwAfADUAMQAxADUAHQAtAGEAZwBqAHMAZgA/AB4AGQAWADEAaACaAMsA3QDcAMIAigBUABMA5v+y/4L/fP+K/6b/q/+x/8T/0f/w/wEA+f/+//7/0/+9/8T/wv/S/7//r//B/9D/3v/K/8f/2//q/xEAOABcAFgAMAAgAB8ACQDt/+X/vf+b/6X/lP97/3X/g/+X/6H/mf+N/5b/pf+0/6v/n/+m/6//x//M/8j/4//7/wIABADv/+H/4//K/8//6//i/9r/3P/j/9v/2f/i/9f/1v/T/+H/AQAGAAcACQANAA0AEQAaACoAQQBAAFsAgACEAIgAnACyAMQA2wDlAAUBGwEZAUQBPQElATgBGgEBAfAA6QABARUBLQE3AT4BQgEpARAB6QC2AJQAYwAuAAsA8P/h/8b/0P/Z/8P/3v/J/5T/Xv/8/sj+iv5A/uf9ef01/a382Pvz+oP6Bvu8+4b8Qv0b/sD/aQHOAqEDlgMXA0ICPwEAAJv+P/0x/L770ftu/Gv9iP68/98A9AHjAnADewP9AlECwQFXAQkBpwBHAAoA/v8sAHQAuQC5ALkA+ABJAc8BVALgAlsDcwOqA+EDxgOAAwEDWwKsAS8BAwENASABPAGnATMCuwIhAzYDCgOfAkMCAwK5AWsBIwFnAfwBeAJ4AigBYP5q+X3y8uvm5/TmkOcD6Y3sO/M3/S8IQxHXFrEYXxhMFqoRPArJAHb3SPAi7N/qM+y+75z0Hvq8/x4FwQmSDPYMYAv9CBkHRAbABaEEDwPZAZUBsAHNACf+DvrN9aDy9vDR8P3xrvQo+Qj/5QXYDLwSihZUFzMVahDzCUQDe/wT9tLwnO1w7envQ/RP+Tf+5AL5BkgKCAwLDOYK0giQBnoEvwJzAUgAT/9n/rr9aP1T/WL9GP3p/JL9Bv8TAS0DqgSfBW4G+Aa4BnEFeAM/AUn/7f07/Sj9gv1D/oX/8wAUArECsQLvAYkABP+m/ar8K/ze+x/8N/3I/lYA7gBsADT/PP3D+vH38PQy8m3wZfAs8kH1L/mv/SkCCQb1CIkKmQoRCUsGwwLb/lf7svgE94b2Wvc0+cL7r/5vAasDMQUVBmwGPwbDBTAFmQQFBKIDJAM8AiEB+f85/t76OffE9Xf28/e1+e78yAGJBgoLUg/ZETcRTA5AC/sHnwMR/5/7b/l3+Kj52PxDANUC1wS9BscHkwe3Bg0F1wIPAToAgQAxAa4BOwLmApwDGQTQA7IC4wDb/mv90PzG/Nb8Gv0t/tr/kQEDA0QESQWIBTMF+ASyBBEEJwPuARcBeQA+/fL1wOsl4S3ZuNQJ02TTktb83nLthf96EEod5yW8KuIrfSi1HzcSZgKJ81roqOHQ3mXfOeMh6qXzuf7CCOIP2xO0FBIUKROgEQwPjQtKCFcGqgWPBZMEtQE0/SH4zPN58M7tEexh7M7vLva3/lUI9xAGFzAazxpcGUwVDw47BKL5E/E47DPrxeyT79Xz1fkvAUkI0gzqDVkM4wmuB7IFhQPdAGz+bv1p/ogASQLEAg0CBAGRALUAvAAcACX/8v7n/6MBUgP2A5UDcwJwATIB+wCUAP7/0v/IADICuAPKBNQECgSIAqYAVf6U+9z41/Y09vn28fi7+/b+QgJ0BdkHAQgUBbP9O/Kw5TnazNFUzprQBtgy48vxTQPrFJYiLSrRKw0o5B/TFBcIMfoa7SHkouAo4h/nX+4k9/n/IAjuDk0TiRTgErAPdwwSClUIIQeQBngG0wYsB/0GUQWNAaz8yffe83Txy/BP8gn2zPv7AqUKwxGiFksX+hMODy8J6AFf+hj18/Kx8h/1JPrU/4QDIAVXB8oHwwUFA/T/Sv2G++37Jf6UAPkChwX6B5wJ2glFCCUFeAHp/SD7Ufle+Dr4B/kc+9z9WgAyAk0D3wP+AxwEdwR+BDYEDAQLBPYDswMUA78BGgBm/sL8fPuM+o36cPsc/TUAFASCB68JTAtADfUOBw3o/5bmncz+ve67X72tvKG/zM6K680NKSrIOYs+Kz8WPoI3QCfhDi71HuGL1uTUqdg93jPlnu/0/bYNsBnVHQQbhRWQEQcQcQ6VCn0FVQKJA/oHgAsNCxgG7P7E+HL0tPBN7CLoJOfv60H2vwIRDiIXcR4GJD4meSPPG4gQbQP29RLqDuN04frhF+Nw5xbx9fywBvcMJhDHED0QIhALD3wK4QMb/7D97/0n/u79C/0n/Of8Rf8lATcBTQA6AKkBpQMABR8FLwStAlUBiwDG/3b+9/wJ/Sj/2wFIBBsGAQegBrwFjgTvAaH9s/gX9djzlfRp9un4PfyHAHUFLQqmDUUPSA/IDdEKtAYxAtT+RfzD9m7thOZb5XnkoN791ffR59Vq3pzos/Op/u0JQBdEJMMryyubJTYc8REyB0H8NfHL5jngyOBE5z3wN/nEAFYI5xAiGKQbuxqAFioRlgw8CXAGTwPm/8L93f1u/6gA+P+I/df6Q/k4+QD6mfo9+6P94AKhCV0P/BIcFbYVlxNpDqIHMgD19wzwtepX6QXrXO6t85b6wgGtCLcOghLIEgkQPwxOCLsDs/5D+g33hvVZ9kn51/zB/xECuQSgBzkJ8Qh4B5oFqwOcAeb/cv6F/LP6evrZ+yX9y/2Y/uz/ZQGzAvIDlATOA7wBuP+g/mf8Xfhf9XH0r/Ti9TD4qftT/4cCxQUhCd8K4glqCBoHuAT+AcH/pv76/TD8tfmA9jzvfeO+2QPXJ9l72/3d5eMZ72b92gqeFawb3RwWHAkaPxXLDPIBNviW8dXuz+/l8tf2hvvcAbUJ/xDzFKgURBKvDwsN9wlcBmoC3f4+/Wz+OgH7AtYCXQJuArUCZwL1AK/+m/z2+yH9af+RAQsDxgRlBwwK9gpXCZUGsQODAAH+vfw1+2L5UPk4+x7+/ADJArQDBQTAA38DMQO6AUv/av28/Gv92v6z/00AZAGiAgkEWwWZBYsEBAMDApQBnQDG/vn85Pt4+5n7LPzS/Iz9tf5wAKgCfQT4BGME2wORA+MCtgHy/5b9Zvs9+kL6vPo4+9f7+fzI/t8A1wKmAxYD+wKOAyEDpQFEAOz+4f1P/sT/twFrAwAEngLX+wTwuuSz3OLWNtJi0IfTRNye6TP54whkFaUdZSPSJVoj2xtxEKYDufgO8XXsJ+s97Lvvuvbo/9QIbg+uEkITfhK2EG8NPQlYBML/8v2u/oMAWgKJA0ME6wRABV0E6wFS/u764/iT+O75EfzF/uoCLwj7DAwQ4BDyDzoNSQgeA47/jvyk+SH4pfhC+j/8oP7MALsBfQFnAdcBYwGU/8D9zfzS/OT9cf/GAOUB6QIMBCgFVgUMBMEBiP8F/t78xftA+2j7+/tt/ZD/TwEZAmYCAAPxA54EdgSPA1cCOQFtAH3/Nv6H/Dr6kPij+G35+vlq+kf7Cf2G/2QCtwR2BRcFdASEAzICsgBp/v37LPt3+8D8R/8yAlEFgAc4Bm3/+vM953XcPdXqzznMTM2W1ObhO/NqBG0SBR10JOEn8ia+IB0VYwcf+zvyWu2/66fshfCZ99UAcAq/ER8VFhUHEwQQVgwrCH4Dof+I/h0ASgOjBhQJTwpWCoYJkAfiA9X+1vle9kb1n/ap+Rj+wwPkCagPyRM8FdETcBBjDMMHvQJm/S75Bvfe9Vb2TviV+pf8Qf7U/wABVQHgANP/h/6m/Zf9O/4u/zoAMQFEApMDOwTdA/kC0AF9ACr/Av7z/Cn8u/vd+8f8mP1A/jj/MgBSAakC5wN+BE8E1gMtAzsCxADU/r/8w/pP+Zj4V/gV+Mj4Afsp/cT+vAAzA9sEawW4Ba4EhALMAKD/Av8V/j79Sf5iADgDPgf0CcMHvv5F8W7k4trE07zMI8fex9/Qe+D28uMDXBFnHL8ljSsjK3YjrxbOCKz8CPTP7o7rg+p17Tf14f/2CbAQaBMHFAcUfBKvDkgJbgPj/jj9Wf7GAMkCAARbBSIHVwjIB/MEuwDU/MX6vPrS+5T95f+5A4QJDA+lErgTQRJ4D84LggdCA/n+4foi+Mj3cvm6+8z9Zf+hAL8BhwLFAgMCEwAg/oH9Cv65/ln/w//p/08A/gClAXkBVQBm/zP/nv/y/8z/x/8nANEAdgGKAesA8/8n/wj/if/4//H/3P8qAMgAOgHrAP7/EP8//pn9Af1Y/Cb8YPzL/KX9yP7s/wMBNwIvA2MD7wI0AiwBuv99/qP9vv1o/74BGAUKCaAL4Ak1AA3y6uXa3ATVNs2sx4rIytF44RnzUwMCEfccGyfmLEUs+yS9GOYK0P6d9fvuzepw6W3sVvTR/loI9A65EnAUnhT0EjkP2AnxA2T/jP1A/hoAAAKkA18FfgfLCAoIOgU+AZD9ZvvF+t/6sPvR/dEBOwdQDKYPvxAlEGMOlwsWCN4DXf+e+0H5sPiw+ST7ZfyN/bT+vP9rAE0AOf/2/UT9X/0y/jX/LwAVAe0B1AKTA54DqQJSASgAXP/J/uv9OP0h/aL9tP6+/10AiQCsACgBsQEHAtsBNAGVADUAzf9b/9H+y/3x/JX8X/yE/K38hPys/Dj9Vv7v/w4BtgH7AV4C/wJYAzEDpgIbAr0BrAHTAZMC/QPZBUQG7AC69XLqc+M43+rZHNSK0u3X5+Lg8Nz+MApBE28b1iE8JJsgYRf2C6kB6fm09B7xuu5L76n0rP0ZB+oNLhGKElQToBKSD5kKcATU/rr7sfuT/Wj/rgBQAhQF8gfQCC8H1wNNAOP9w/xu/BT8QPyj/pQDHwnkDHwOWg4HDTALyQjABTYCsP5s/A78E/10/n7/EAA9AGEAgAD5/6n+Hf0E/EP8sf1I/xIBzQIbBGwFXwZCBucEvgKfABX/Av60/G77A/uX+wX9sf4OAPUAbgG9ATECwQJmAgwB3f++/rP9L/3O/DL8Ufue+tT64/va/D39Pf1X/UL+hP+PADkB2QBcAJkA3wA4AT4BeQBFAF4BnQI1BI8GyAVk/tzyKehE4TPcltWzz3HPFdYl4gbxHv+tCmsUQR3eI3wltiC6FgALywAU+Urzie+P7Zbu1fSI/h8IBw+uEpwUvBXvFC4RTQtfBD3++PpY+j37ifz6/XMABgRIB44IuQdvBXACDwCV/jv9s/vD+jL8HgCXBAcIlwmkCVsJVglMCU0IPQbpAy4CpwGjATcBLABk/tv8gvyT/Fb8q/vc+hn7wPwP/ycBmAKxA64EgAWoBaMEkQLo/7v9ifzo+3n7+Pr0+gD82v3v/5oBVwJ5AtMCRwNkA9gCcgHu//r+fv76/VD9tfxO/EX8Ufy3/IP9z/32/ZH+T/+o/17/Rf8PAO4AAgEYAbcBQQKYAusCfQMcBNcETwQ3/u7yt+g24zjgsdvm1jbXl94q6qH2rwLHDI0U2xqqHqUeoRnbD6sEqfuR9Szxde4Q7prw8fZJAJ8J9w/4EioU1RQuFIkQjQrxAy7+m/rR+ar6jPto/DH+qgGIBSkHuQWNA70B7f+X/lT9+/sH+9v7Qv/uArAEMAUXBnMHEQj3B3YHZgYeBRMEswNrAykCNwCO/l79e/zw+477N/tO+zv87/3R/0MBUwJ4A30E4ARhBAIDJwEX/y/9+fuW+2P7Q/sb/Ov98f+FAWICzAK8AkUCtwEzAW4AOv9X/kf+q/67/rf+Iv8z/9r+u/6s/lf+t/0Z/er8N/2L/ST+5v4l/w0A3gHtAkQDSwNaAyEEqwTjBGwD6vs98EHn0OK63+HaNdah14HgaOyq+HIEJw7LFewbFSAGIKQZ9w4BBJb7U/Xz74Ps1et67kD1GP9oCIQOMhK2FHYWDRYUElsMega+AOP84fv6++v7GPyj/QsB/wOYBMsDogIoAdr/Yv/4/tf9Ff2T/ikCOAWNBlkHngi0Cd4JjgnTCF4HVAXJA0YDoAI5AXv/O/6h/Tn9K/1E/VP9jv2j/lAAkAFvAgQDswMrBAIETAMEAjgACP4x/Dj71PqG+rX67PvI/c//iQHMAn0DkgNgA/wCPgLgAFj/Zv4L/vj9x/3B/QP+R/7C/nD////9/6r/of/R/+T/CP/q/fP9e/4//2oAnwGPAvsC/AOHBZ0GfQX8/dzx1+dN4qneC9nR0z/VR97Q6tb3sAQ5Dz8XBB78IXUhKBsoEKEEtPvq9D3voOuO6jrtgfQO/s4G8gy7EJgT0hV5FawRVQzLBvgBGP///Xj9B/0e/Xr+MQE7AyID9AGZAGf/6/4M/8D+5/3m/QIApQNPBvcGAwePBzgIPQiiB7UGdAUTBE8DKQOiAkkBtv/G/nP+Qf5u/vP+Pv+s/9wAagJtA4UDXANOAwMDWwJTATUA2P5c/Z38afyK/On8Xf1W/sr/PwEZAm8ChwIQAqUBdQH6ACYAQP8T/3f/0f/l/4b/Fv9p/kT+jf4s/rn9Qf33/Fn9SP4s/6T/8/9yAHIBjwL5AsgCjwKZAvECNQOoA2IBdvh87armqeNi4CvbG9kQ3vbno/PD/wILRxNbGTMecyDHHU4VZgrCAHj5sPNa73vtuO0o8dP44AHACOcMwg8cEkQTjxGBDdYIxgOe///9Ev4N/pf95P3v/4ICRgNrAicBbf8b/iP+ff4G/kz9I/5DAaUEXQa8Bt8GIwcRB6MG6AWhBBoD9gG9AewBbgFdAJv/Uv8E//f+Wf+f/9D/dgDSATkDxAOvA58DiAMHAzACJwG+/x7+Bv2+/Mz8t/y1/Gb9pv7v/9sAXwHMAdQBmgGNAW8B8gAVAKb/3P8QAAwAsf9G/+b+ff5p/lr++v2s/Yr9o/0B/lb+hP61/ir/0f+GAEsBpwFiAe0A0QAGAbwArADAAK78d/Od6tblauPj33Pcv9135E7uPvmKBKoOMBV+GWgcORxmF2sOFgWf/ar3QfNe8YzxLPPB9xX/QQYdC8INTw8WEC0PYQztCAkF7wBY/gb+df5e/j/+CP+oAGgB1QApAEj/Fv6P/Rn+jf5T/o7+UQAbA/sEjQXBBd0FwgU3BcoEcARjAzEC6gEvAsABqgCz/y3/qv4D/iL+sv75/mD/VgCJATsChAK9AvYCxQIMAncB6AD+//n+bP45/vL9vf2u/QP+cv66/i7/q/8SAEQAhQAMAVwBYAE6ASgBIwHuAKQAJQCQ/yH/xP6K/lL+A/7u/Uf+sv7r/kD/n/8WAKIA+QB7AeEBsQFRAf0AqQAZAI7/j/9RAE8A+/vj8wTtiOmi5/HkgOL94zDqC/PW/A4G5QxSEb4UlBZLFV0QdQhpAGr6UvYy9KHzu/Oa9Zj6XgEeB00KeAssDJoMwwuXCW4GxQLX/9H+Y//+/+H/4v+CAHYBNwLNAYAAR/+o/q/+CP89/zT/jP8ZAbcDqgUhBuQFxAXXBYoFxQTLA9gCNQIKAhYCsAHBALj/Gv/X/mD+AP71/RH+pf7Q/+oAcAGqAdkBAgLlAUMBnQD0/87+vf1A/fr8rvxp/GT84/yK/Rf+qf4t/6X/GgCyAC8BTgFYATgBGAEUAeIAkQAbAIL/3v5Z/vX9pf2V/a399/2K/gL/Yf/Z/yIAagDuAEYBUAElAfgA4gCjAEMA/v8gALQArgEnA+YCiv1t9OfsAekx5qjiSOCm4kTqTvT5/toI5A8qFBkXOhisFcYOSAW7/PL2TfOs8bzxL/NM9y7+twVuC/0NkQ7bDkkO5QsfCMoDyv9O/RP9XP6Z/yoAtQAZAsUDFAS9AsQAwf5j/VP9Af6M/uH+IgApA28GBQjwB0kHnAbkBQwFEwQWAygCywFWAr8COAIqARIAKv80/m396PyE/Lj8gf0Y//EA/QGLAv4CKQOkAm4BAgCF/h39F/yg+6z76Ptr/Fv9g/7N//sAmwGxAYIBFgG2AHIA/v+g/5//AgCSAOgA9gD2AOoATwBV/43+xP0f/cX85vy6/Z7+Q/8JAOkArQFuAtMCpQIqAl0BtgBMAMv/nP/d/7cAGwKoA2AFSAZYA6v6NvAe6QDlEOEa3Y3cLOIz7MH3YQMGDSgT8hYXGSUYwhK0CUMA+fhn9H7yvfJe9FT3qfzjA2MKtw27DbgMsgvKCdcGdwNfAGz+jP6OAMgCxAOgA4oDxwNHA2kBov7P++n52vmW+779fP9qAVYE/weuCi0L2AnkB0gG/wTQA6sCzgGTASICFQONAyIDuwEAAKb+lP3A/Cn8+ft9/PX98f+3AdECFwNDAzMDMQKxAO/+Dv2w+xX7D/td++37u/zp/VX/fwAgAVIBUwEFAaYAYQAsAPD/gf+A/+H/6v+N/+n+Z/4U/sj9sv2d/bv9Lf6t/in/fP/m/zAAQwCGAMEA+gAIAQ0BQQFOAXABgAF5AW8BOQFPAU0BAAH3AB0BdgEMAtsCogPsASH7sPGL6szm8+O34K/fpeMk7M32VwFYCpMQXRT7FlkX6xMoDSkFW/6t+fP2+PX79df2x/nY/k4EDQhPCcoJlwrOCgkKdwhWBlIEHwNAAwcEuAM3AgYBVwBP/+P9a/yD+277O/yi/rUB4wOhBbMHEQqLC/cKEwnLBlsERAIJAXkA6f+o/1MAMQFqAdEAzf+m/iz98fte+037kfsl/Iz9cv8GAf4BjgILAwYDTwJbAWUAAP9w/cP8kPxw/IP8tPw4/ej91v7n/6oAEQE9AYgBvQGoAVsBtgAxAN7/Rf+//lv+v/1a/VX9af2a/e79n/6p/8cA2gGeAgEDzwI0AugBpQEeAXwA5P+M/4P/xv8WAC4ASwCUANoA/wDSAFwAAwDK/5r/n/+Y/5//TwCxAQcDogGU+7rzC+7/6nHoteUm5c7oFPA5+akCXgo4DyMS+RMHFOYQuwqWA6v96/kN+JD30vfc+KP7IgDlBAAIxghtCCsIAAiaB9EGbgX+A3sDQwRgBTEF7ANmAgUBWwCc/x3+kfyR+/D7xP3X/2YBfQKoA1wF+wZbB2gGzAQdA+8BKAGhAFwA9f+k/9r/QQAzAGb/NP49/eb8+fxR/ej9hP6f/0cBwgK0A9gDdAO2AqUBtQDD/7v+gP10/FL8hPyl/KX8rfxV/Vb+Zv8+ALcAJQFkAaEB5QHPAWMB1ACLAG4AIgCU/+j+cP4H/rf9v/3Q/b395f2A/lL/IwCnANQA/AA5AYsBrgGAAf0AJAB1///+Zv6V/dT8xPxM/dn9jf6A/1AABgHJAYcC9ALuAuMC7wIgA4cD0wNWA2gAEfqc8jbtLurE57vlQOao6ufxY/rKAtAJgQ4REV0SOBJwDxwKCQQF/9X7BPo8+U35CvoS/Hz/XgM0BnwHfgiXCVYKdAq5CWEIvQZcBYUE+QMBAwIB2v6U/Tb9Df2T/C78Y/x+/Wz/zgHWA9wEmQW8BqsHiAdRBpIE4wKoAacAFQDL/z3/B/9n/wIAOgCn/wj/mf5U/l3+oP4T/0P/WP++/x8ANwDb/2n/NP8C//b+7P7b/rL+Yv5i/oz+o/50/jz+mf4f/4b/0v/6/wAA6P/8/y4AOwDv/5X/lv+w/63/f/8s/9D+hv5Z/jP+Ov48/if+YP7z/rv/XQC4ADEBoAHQAfYB0wFVAaUABADL/5X/PP/3/sz+yv69/uT+RP+B/7P/1v8AACQAGwDL/0n/A//D/qz+6f4o/47/HQDCAEsB/wCq/n76O/ZO88bxqfA98KLxOvVA+mv/QQQLCPcJrwrVCjEKTQgXBdEBtv/F/nb+jf4H/7j/vgA8AssDugTJBKIE0gRTBfAFPQYjBuEFqQWBBcwEPgNTAWv/2f27/Af8A/yr/MD9Nf8IAeACGwSTBF0EyQMRA+oBgwBn/6r+R/6F/lb/KwC+AAcBIwEjAekAgADz/1b/1P6U/s/+Qf94/4r/r//o/wAA3v+m/3X/ZP+Y/xAAagBpAD8AKQAXAM3/b//8/p/+nf6s/hD/oP/o/zsApQBKAdwBxAFZAdUATwDe/2r/B/+u/n3+uv5r/zYAqQDiAAcB1wBWALH///5I/sL9uP0R/ob+u/7B/vn+I/8W/wD/3v7I/tD+8f4P/wH//P4W/wT/DP9B/1T/jf/L/9P/xv9T/8r+gP5H/l3+fv6m/l//PgDTAJgAg/4M+zX45Pag9fzzYvNE9K/2/vmQ/ewAYgP4BAoGGAfFBwwHQQXaA08DCAO8AlkCtQH5AKEA0wAMAfQAxAAIAQwCaQPCBN4FgAbMBu0G1wYWBm4EoQIKAWz/Kf6x/aj9mf3H/Yz+oP+dAGUB3gE/Ap8ClgJhAlkCQQLgAV4BOwFEAQABmQAyANT/jv9z/3T/c/9k/1v/nv80AK4AsgCDAF8AIwD4/wYAHQALACoAuwBLAZIBdQEQAZgACQCF/zr/F/+9/nP+uv4w/6L//P8qAHYAvgDZANQApABRAO//h/89/wX/tP59/mz+X/5n/nH+Z/5F/jH+Vf6I/sH+HP98/5n/mf/M/7T/RP8X/+L+Uv7z/fn9AP72/TL+fP6F/qj+9P4b/zD/a/+q/7T/v/+q/y7/v/6E/m3+vP43/4H/qf/R/xQA2f87/rj7t/nG+Df4Xffu9tj3c/kb+z/9rf+9ASYD8APnBAYGOgZgBVcEtAM6A7YCMAK0AQ4BcwB8AM4ALwGfAekBiwKCA18EAAVRBVgFBQV3BO4DNAMWAu8ABgBU//L+sP6D/pz++P5w/8r/MACKALoAAwFRAZMByQEMAkMCJQIQAg4C2AFsAcgAEwB7/xP/wv57/l3+Wf6K/hj/w/9NAKwA/gCCARMCYAJbAvoBdAEWAbQALACY/xv/1f7G/u3+Kv9n/6X/5v8vAIgA6QD8AM8AtwB3ACEA9f+9/2r/EP/A/oL+dP50/kT+If4x/mL+hf6K/rH+0/7e/t7+6P4j/z7/If/X/nT+Nf4A/sj9qf3V/RT+FP4m/jT+Gv7a/XP9lv0D/gb+Pf7A/hb/j/8AACkAdACEABYA6/8IAAYA8P/e//f/NgCCAKMApQCVAMD/2/3a++v6a/o6+VD4m/jP+UL7yPyj/lAAegEbApUCZQPmA6UDZAO7AxoEQgRpBEoE/AN3A7wCLALUAXUBCwEEAVQBDAL2ApQDMARaBE8EbQQHBHEDtgLKAeAA9f97/1v/M/8F/wn/Rf+D/9H/EABTALAA0QD6AF0BqwHkAd8BvwHBAXYBDQGWANn/af82/wf/A/8Z/z//ff/g/xkAQgBxAFIAHwD///j/2f+n/6D/a/9F/zr/JP83/yf/Gf8y/3T/2v8EAC8AcgCVAHcALQASAOD/mf98/17/X/9x/2z/Uv83/yP/8v7U/tH+1f7o/gn/Uv94/2L/Ov/n/on+Ov7j/Yr9Tf0Z/Qr9VP2f/dv9I/6G/vn+Hf8v/1X/Tf8w/yn/T/9x/1H/8P6g/rj+9v4R/yn/df/k/0AAjwC8ANMA2ACkAI4AuQC/AJ4AfQB3AIYAaQBWAH0AqQDCAKsAnACnAEsAZv9X/uH96f17/e784/xg/Qj+mf5B/+z/hgDWABABvwGBArQClwLHAigDPAMPA9kCiAL/AV8BBAH9AAwBEgEIAQwBUgGgAaMBqgGqAS8BpgCPAKIAhgA5ALf/Rv9a/6X/uP+7/9T/5//z/1YAFQGPAasBpwGKAaMBzQG3AZABfwGAAWsBVAFSASMBmgDv/5D/YP9d/3//b/93/4n/cv+A/8D/AQDs/6r/l/+h/6T/df87/yH/If8n/zz/Rv8j/zv/U/97/wQANwBEAEgA6f+P/0b/LP8g/8n+YP4o/kX+cP6B/pv+kf5X/ir+N/5b/mL+T/4q/hH+P/6x/gL/GP8w/3z/3f/m/6T/hf+J/2b/GP///j7/X/8o/zj/uP8fAFoAbQBZAHwAnABgACYA8P/B/8H/zv/8/wwAGQBTAGcAcQChANgA5wAsAYgBaQGDAc4BtQGNAYABXwH2AH0AJgACAOn/vv+t/3T/ov8vAFMAcgCxAN0AwgCXAEsAuv+N/z3/3P7z/p/+fP7j/v7++v7v/iH/mP8AACgAEwAQABQAggDPAJkAwACxAIIAhACfABsB6QBEAAkA6P8BADkAOQAkAF4AiwCJAN4ACwHUAIEAeQDxAOgAfwB6AHoAhgCHAG0AcgBZADYAMQCHAMMAfQBtAG0APAAsAGgAaADm//X/PgBDADgA+P8RAAQAwP/Y/7v/jf+//zcACACI/3T/R/8CANoAbADA/5f/RAA+ACr/iv7J/rb/mf/9/hn/QP93/xT/Hf/6//j/8P8AAI7/hP/F/2H/j/6m/iL/5P6E/2UAyv99/7v/xv/+/7f/fP86AAwBNgDL/iP/v/8MAJkAMwCI/6H/FQBZAE8AIgDC/6z/3//s/+P/ff91/7z/iv/n/xgAif+d//b/3P+0/+b/JgBXAFsAOgCUAK0ATQDg/9v/XwBSAD4AJgDM/6f/cf/X/+T/Nv9e/wwAwADjAIIA3wB7AS8BSgAgANsAkwCy/x4AbQBFAF0A7/+n/6n/QwDrAAAAQv+T/08A3gBDAF0AQAGiAN//CQCy/2P/tP8N/3z+av/+/x8AFwCC/1//kv9VABEBhQATAEAAvADdAN0AygESATz/o/+AAEUA7f8GAGoA+v9i//H/BQAx/13/YACMAB0AZwB4ACUAggD4/67+Bv80AM3/Rv4+/l3/pP+//y0A9//K/+L/2f/iAF4BLwDg/yYAEAAOAJ3/T/+d/zwApADv/7H/8P+//9UALAFKAIcAeAAmAK3/hf/k/7f+i/7s/93/kv8HAKEAzAAzAND/CgC4/0z/s/9W/+7+y/9ZAFMABADW//j/DACpAKYA3f/Q/8r/9v+0AGYAkf7x/Wb/t/8T/4H//P/N/8f/JAAcAFAAbACV/9n/YQBa/z3/NwDd/4b/ZgB+ANj/vv/A/5//yv+pAGIBOQHrAHoAjAB8AW8BcADU/27/Xf+6/3v/dv+EAFoAxv87AAwAtP+6/2AADwEfAecAf//j/8AAn/6d/hoAFgA7AAEA3P/d/+D/bwDU/+3+TwBQAUYASABJAI//7f+s/xv/vv9xAPP/Yv8OADEA+v8hAAYAeQDcAHEAm//t/g7/7v92AH4AYAAa/zf/wACKAGoAHQBbADABUv8r/j7/w/++/0AAUABA/zMAVQFkADgAmADnABgAZP+LABkAav/3/6v/5P9aAIQAlQAiAMsAOAEMAPT/nwBQAM3/u/8lAOz/Df8h/9v/agDH/yj/XACAAEL/QP9x/y//aABNAcf/lv9IALL/EQCLAIQACgAn/7n/SwBH/1r+Zf/oABAABv/L/zsA5/9JABsA7/6Z/0MA9/5m/9YAgwCt/9j/2wCaAP7/GwBt/8z/dACt/yAAEgGaAKD/p//d/8b+Uf+YAK7/Lf8RAIwAS/8S/zEAIv+b/jv/hP/c/+f/5f+0/s/+AQDJ/ysAFABtAP8AHABXABwBagEEAacA+wDcAJ4AXP9z/mT/j/92/oD+ngAZAZn/zf8MAO7/cQGtAcT/VgDjAU4AVP8FANYAwwGlACYAIAHKAHcA//8UALMAtP9t/6QA0gAWAPb/SQCpACkBLgG3ADkAagAvAZYAj/9xAM8AXP84/08AoP8S/sj+DgAK/wP+LP8UAD////7h/nL+Pf/i/5X/Ev/+/+4ARAASAMz+Zv4OAOP/jP+R/+T/iAAkAHgAsADE/1f/0/9wAL4A+AAWAdIANACwANwA7P8ZAIf/Qf+LAKsA/v+G/1gA+gDC/1j/PADmAPsApgC7/4v/fwBdAD0AjADg/4n/DwATAC3/XP9dAAgANgDDAKb/h//CABMAZv/FALYA7P9eAIb/G/8kAND/Df+H//D/Gv9G/1kALP9u/lIAsABL/7f/qwAhAAX/LP8hAKf/G/8v/yAA8AC2//b/TAC4/48ASgAiABwAQADZAGL/Jv+r/53/VACm/2v/ugDHAI//KQA/AQMAXv/Y/xoB+QAf/8//9f/p/5UAy/4E/lT/eADq/1P/EgAGAPH/cv+U/zkA+P9uAOX/UgCBAQIAgP8AAMH/4v+6//X/VgDY/wIA1v+8/9oAa/9d/v3/ZgAqAGn/rP9dAAIAewD+/5oAAwFD/+j/igCHAEcA0v/LANn/k/9oAJr/hf9b/37/o//c/9wAmgD3AB0BTgB7AP//jv+IAOIA5f/r/5gArQB4ALX/HgA3AFz/CQArAMb/nv8F/7//EwH+AGsANQAhAKYArAAiAM4AAwGEAHMAvv8GAEgAIv5F/hQAbf/w/iv/jf9DAMQAmgAEAAgBJQGT/2T/8/8pAJ//w//Q/zL/e/8o/7b/KAD2//AAy//S/6cB5QCLALwAWgAdACMAkwBzAKsAbwAQAGgAZv+E/5D/zP47ANX/if9ZAL/+0P/uAN7+QP+hAAcAn/+MAHIAFwDQAEoA2v8AACEADgAx/4H/uP9r/8r/Kv/Q/n7/d/99//X/df9W/wwABAAIAEEAigAtAJ7/LgAfAPT/7/+m/7v/rv8fABsAcgDfAL3/9v9GAJ7/0/9iAJIAuP+1/0IA5f/5/+P/Wv8q//H+1f4QANQAPgA0AJj/BwDNAHT/wP9GAPX/nwDu/8n/fADQ/x0ARABD/7X/GgCY/7X/2P+7/77/pP9/////iQBAAD8AfAABAJD/u/8jAEsAlf8E/+D/CwAo/8L/SQB0/2YAswGGACAANwH+AAMAlwDrACb/Kv8wAAYANwBTAJ8ADgAcAM0Ad/8dAJsAe/+x/27/PgB1ADEAKwFnADcAjgBWAJgA4gAiAVkAhwCbAKj/UAALABQAxQDK/yAApABNAFsAQQAQAB3/ff9HAGD/YP9O/0T/zv+l/8j/m/+Q/5v/LP+y/wEAjv95/9P/IQDw/6r/jv/8/5sAcQAsAKH/1v54/yMAb/8+/4L/LP9K/67/YP9F/8n/BgAc/7j+VADu/73+rgCHAB//VwAQAKH/twByAPP/PQCHAEEA+P9aAEsA2v/C/1AApwA2ALMAOwFEAG7/BQCVAA0AbAAKAWgARgCjAJIALwAQADUAUwDWAJ0ADwArABgAUAASAMT/dQDz/37/cACAADwAkgBMAB0A2QDNAGEAQwDl/zoA//+i/2IAZwBaADoAl/98/3P/Ov8J/1z/0//W/3z/b/9LADIA6f9xAMv/Rv+n/wYAv/9k/x4Am/8N/w4ANgBR/9P+WgCGAPf++v+EALj/nP+0/4X/EP8AAAcAQP9bAJcAFQDS/xAAbQBu/+j/OAAm/7n/TwAeAFb/5P+3AIr/dgD/AAkAXwAAAOv/PQC8AB8BWgCj/wcAJgESAIn/ogB//2L/MQDC/8n/LQChACUAof90AGgACwAQAXgAG//p/97/7v59/0UA///A/yMATABpAAUAqv/A/8T/5P+X/ycAIAB2/yAAy/+K/7L/JADpAGgA4wCoABIAswC//73/4f8z/6L/o//x/9P/9P/QAPz/+v+EAMX/6//0AIsAqP9EAH4AggBtAOf/nQBjAO//JAEgAVgAQwDn/+f/dAA4ANP/FQCy/03/IwAQADP/C/8R/9f/7v94/+X/y/8NACgAsP80ALUAqgD//7v/DQCo/6f/zv9y/1n/hP/T/3z/MP8qAEYAWf9Y/3r/m/+m/wf/B/+R/9L///8RAC4ALwC1/3T/dv9d/9L/LwD3/ycAdwCZAHoAEgAeAFoARQB5//H+Zv/t/oz+sv8kAMb/NAAQAKz/yQBUAKn/5QAwABwAJgH2/8X/egAlADsA//+7/8AAeQCv/8MAcACZ/w8A4P8xAOX/8/4TAOcAAABx/zgAswAUAHIAqgC7/xoAZgCi/zkAsgDT/9T/wQAvAbkAmwDSACoAFABhACsADQAKACkBMwHX/74ARwEzAC4AgQBZAAoAEQAjALX/jf/y/83/1f+XAMv/OP8hAOb/Vv9g/+T/HwDS/1sAjAC8/x//Ov9V/6X/RQDq/7j/nP/G/0oA9f7g/gYAbv9u/+P/TACZAEAA0AC4ABMAWgDT/6j/EQDD/9X/8P/O/xEA+/+0/yEAvv8i/zAAJQAw/wcAzgCYAFsARgBWAKf/eP8gAIn/jP8FAGr/P/+s/70AnADQ/3IANADd/30AjgDF/3v/lQCVAOr/HgAQAPb/pf+n/wcAmf9t/9n/LgD8/6b/zP9W/yr/lv8r/67/fwAWAIwAPAFSAL3/nQA7ADL/yP8oALf/Pf/+/7UAwf/l/63/dP+FAO3/0f9FADcANwCD/7T//P/H/7v/EgAIAA3/0f8MACz/kv+L/8r/CQCJ/5r/KwArAHgAGgEnANgAkwH5/zcBoAFI//z/LAEXAMv/TwA5AO3/k/83ABYAyv7f/+L/0/4lAAsAjP9KAEUABADE/0UARwB7/xkAUgDp/z8Ay/8OADIB2/9L/30A/v/V/xAA//8FAPf/jADZ/+X/UQFhAK//awB8AL7/qf+gAPr/Of/D/3X/Nf+D/9T/3/91//X/YQDI/1oAbAA//xoA2wBWAEEAKACVAEEA7/+PABgA6v/O/7//CgDP/xgAVv/O/pn/Rv/y/kT/2P/m/+D/TQAIAEAAngCvAE8AfP8YADUAqf90AMgA//+k/00AhABPAJAAVwAmAFQAEACc//H/cgDA/4v/PgBDABcAsv/H/7IAJgBM/xsAAQA3/9r/9P+z/+H/pf85ADYABgAjAUUAkP/ZAMYAJQDk/wQAcAA4AIMAhQD4/3cAbgC5/8T/vP8Z/zb/TQAzAIX/0f8YAMn/lv/M/5f/EAC2AD8AQQDD/5T/QgDh//H/KADf/9L/1P8KAPf/sv/F/5j/Zv/9/7L/ff8xAEj/Pf+e/4b/UgAs/yz/BQAT/+r/BABr/00AhQB/AGQAlACsAFIA0gD1AH4AMAAZAF0AlwBxANr/KACpAAQA2//o/8H/BwDX/6n/BADa/1r/o/8SAJX/g/8kANv/bf+q/9T/h/9q/yMAHwC9/1IABQB6/w4AJgCy/6b/o/+e/8v/9/86APr/qP9XAIMAyf+j////5P9q/+b/RgCe/xcA3wBiADwAuwDpALcAigDAALEA+f/4/1QAx/8UAOUASwBTAPIAJgDO/4YAPQCn/0gAfwDw/wwAtP8n/1z/dP+q/7r/yP/Z/7X/OgA3ANX/JQA4ADcAIQDg/yIAoQBqABIAHwC0/2T/ZP9R/zf/LP9n/07/gf+Y/3r/dgA0ACb/4/9IAEz/Jf/I/2r/J/+9//f/uf9g/73/IQCk/8D/GwDf//P/LwBtAFoAWQDoAJUAtgBJAcQAwQDDAK4AWACS/9H/lP+G/wAA5/8iAMT/2v9PAKn/vf84ADUAVACGAIUAjACOAFMAdgD//0r/mP+d/7j/MgAIALr/EgAfABr/VP8uAJ3/w/9dACUA//8KAHUAVQDV/3cAigAKAKcA8QCKAFkAUgAdAOH/UwBLAM//9f8eACUA1f/n/1kAYwCCAFIARgA1ANr/9v/n/wYA+f/B/zoAYwArAOv/6//8/8b/vP+z//v/AwCt//T/EAD7//L/fP+A////zf+T/4f/Kv9h/2f/4P5I/63/av92/6z/yP+m/5X/wf+q////MwDQ/ycAUAA/AHYAIwA9AHsAAwDw/2kAdwAfAPr/AQAyABEAsv/L//f/JQASAPL/UgA4AP3/IwANAMr/df+m/wMA+v8NACwAOwC6/+f/wQAeAE0A7QBxAJUAMgA1AJsAMwBHAOT/LgCsANv/8v8OANb/IgA4APf/k//Z/+r/nf+2/3n/b/+g/5D/kv+h/4//nv/l/9X/wv+p/67/LABgAEcAEwBmAK8ASQBzAIMAaQBuAAwACQAoAEgAZgBeAGwAZABvACwAHQB6AEkAHAA1AFoAUQAOAOL/jf+R/8H/lv+I/7H/2P+m/6//4f+p/4b/W/+q/yEA/P9AAHMANABBAFYAFQCn/9n/AwCT/7j/3v+E/6D/wv9x/8L/QgD8/7j/uf84AD4AX/+S/wQA7/8FAPr//f/z/87/k//k/40ADADF/ysAGABpAJIAZQCYAIcAtACfABIAWABvAHQAggARACwACQAAAGYACgDJ/6H/qf8qAFcATwAjACwAJwDX////BgC2/8b/FwAHANj/BgCz/2r//f8fAMP/ZP8v/5P/wv+p/9z/xf9N/y//dP+a/9T/JgD//6z/mP+u/9j/8v/v/+D/7v/T/4j/bv94/93/PABLAFgAJQA4AFkAOgA4AOP//v9XADkAOgBMAIAAbwBRAI4AbgBRAIAAqwCjALAAowALAMv/GgB7ACUAqv8dAOn/n/8QACQAiQChACIADgAmAFsAWQBYAG4ATgBlADEA3//V/7v/lv+C/+b//P+A/4v/+P82AA4At/+I/3v/of/I/7T/wP8NABEAEwBkAGoAFgDT//n////Z/+H/BwBXANv/hv/w/5H/g//X/5//wf8aACkAAwC0/33/zP/Z/67/GwDB/2X/5P+v/4r/sP+Y/4X/gP/v/xEA8v87ADMA/P8QAEUAOgBKAH8APgASAMX/pf/w/8L//v/x/17/uP8DAC0ATQD+/9D/zf8jAHIAfAA8ALT/zP8pAD8AKAAcAFUAYgCVANMAdAAhAPj/qv+z/yQAYgAnAAYAPQBeAEQASwB7ACEAvf8PAD0AQgB1AEAAqP+D//X/9P+w/8n/4f/z/+f/DAAyACMAXABYAEMAUQA7ABkApf/W/24ACwDb/2cAYgDG/5b/5P/8/7v/gP+k/wAAEAAPAEgATQBHAE8A4v+y/ywALwDJ/8T/1P/d/+3/CQA5AAYA0P/T/6j/qv+L/2P/pv+7/9L/3f/N/yMAQgAbABcA+v+2/57/5/8sAHUAfwDe/5v/w/+e/7j//v8HAEwAdQADANj/GgAMANv/2f8PACkAMQCNAJoAHADF/73/lP99/9z///+5/9H/RQA6ANX/4f/y//D/MQB0AIgATAAWACYAYACMAE8AEgAnADQAWQBfAPH/wf/u/8r/c/+W/wEA8//6/zYADwAzAHYAVQAeAPT/GwAiAPz/RABBAOH/FwBkAGkAbwBIAAoA9/8JAAYAxP+C/4b/sP+c/0v/Vv+8/43/aP/a/97/8f8eAPD/0P+n/73/l/9k/wIATwApACAA/f/+//H/w//h/wgAEwD5/47/wP80ANr/x//5/8T/+/9FAAwA+f/+/9P/wP/y/y8AOABzAGgAFABGABEAy/8ZAHAAiwAiAB0AMAAtAIIARgAxADAADQA3APL/7f/k/7T/8v/t/+7/OQB9AC8A+/9ZABQA/v8hAM7/qP+d/+n/6f+P/7//7P/7/+3/7P/i/5v/xf///wAAFwAlADQAPgA+ABkAwv+y/+H/x//S/zgAIQDG/8z//P8uACEAwv+f/8b/0P/v/xIA1P+9/wUAIwA1AGsAUgAYAD0ALwDS/9X/4P+g/4H/q//e/9v//f84ACsAMgBOAE4AMAAKABkAOAA/AB8ACQABAB0AQgD9/yIAPADi//X/z//r/w4Ai//J/2gAXgD+/woAPgAIAD0ArwC2AHgAGQDu/+H/qf94/3z/bv95/9r/RgBmACwAKwA4AD8AiABYADsAnwCkAJsAsAByAC4A8v/K/+z/s/9s/7r/tP+N/9f/0P/N/xQA5f/N/9z/h/+r/9P/lf/l/xYA3v+v/4r/zv/Z/53/5f/Q/4n/7P/S/37/+f80AA8ANwBmAHgAgQB+AC0A4//p/5f/gv/7/+f/qf+6/8z/8P85AG8AWwCbAKAACAAuAGIA+//H/9D/6f/O/7L/1P/m/8f/g/9I/2r/0v/7/yIAOQDw/xIAUwBwAMgAmgBMAGwAYwAqAP//+//l/8z/8//6/9T/z//j/+7/+//x/8L/xf/R/6n/r//x/xEA8f/j/wcA+f/p/ygAIwAaACMApP+6/z0ADQAcADMA7f/n/9f/8P8mACoASQAkAOT/FwA0APj/8P8PAPn/JwBLAAcAHwAxABEALAArADgALgD+////3v/E/+7/JABOACsAFQDx/4H/kv+i/3r/iv+A/7T/xP+2/wAA7//b/xUAGgDz/wcAGAD1//X/4//e/+r/2P/K/7P/2f/0//b/LgBmAI4AdQA9ACoAQABCADEAWgBJAA8A+f8hACgAi/+B/97/wP8AAGUAWAAjAPv/9v8QACIAEgAEAO//p/9z/6D/0P+//8r/7P/t/+v/EgAtABgANgB1AGYAKQAQABcANwBNACMAKABHACUANAA1AAkAHgAWAAYAPAA+AAwA8P/9/yQALQAmADgANQD//ykAdQBHADYAEwDU/xoAPgDz/8L/1P8CACkASgA7ADYAYABcAEQAIQDz/8X/mP+l/4j/a//T/+//u//t/+//r//Y/wsA//8FAAIADQAPAAAAJwDm/4n/q/+p/5L/sP/w/xIA6//y/+v/s//F/9r/1v/I/5T/kP+X/6b/3//P/8f////g/5L/of/H/7X/1P/s/93/2v+2/9z/BAABAEoAPwAbADsASgB8AG8ARABBABkAMgBPAFAAhACGAGwAUgA5AD4AHADq//X/IgAeAB0AMgArAEQAUQBBADwADgDw/+z/5f/t//z/5f/V/wkA5/+m/9r/AgAPACwALwAdAP7//f8yACMA8P8VANr/lP/X/8b/tP/D/4//qf/G/5P/mP/G/9L/4f/2/xQATwA8AAIA/P8HAC4AFgD+/xsA3//Q//n/z/+j/7n/FwA5APf/6v/8/+f/wP+K/0f/Vv+a/5P/tP/V/5v/uv/l/7z/rf/U/wIA7f/q/x0AFgAKAC0AQgBSAGUAUAA4AGAAfwBrAH0AlACgALUApwCmAI8AagBJAPr/BQBHADcAAADo/xEAKgA2AEwAZACvALsAeQBdAFMARwBOAFAALQD0/8P/tv+g/7P/+v/J/6//CAD5/9H/2/+5/7D/uv+l/6H/rP/V/+X/pv+h/7D/jP+x/8z/sf/F/8n/o/+f/6L/nf+h/6P/0f/9/xQASgBiAHcAhQBuAHMAXgA1AB0ACQASACsATAA7AAQAEQAqADAATQBJABAAEwBJADcAHwAlAPH/9P9NAG0AWQAqAPH/1v/T/9b/1//Y/8b/y//O/63/vf/I/73/xP+d/5b/uv+0/8//+P8BABwABADb//f/BgAVABsACgAuAC8ACAAAABAAMQAkABMACQDt//L/3//P//3/NABSAEEAIgAbAC4AOAARAOT/2v/r//n/1v+O/33/av9F/4b/v//t/xcA4P/b/wYA/P/U/7z/3f/w/+H/6f8DABgAHADx/63/tP+x/5D/uP/C/7X/1v/j/9j/0P/r/wkA8//W/+T/9f/V/9L/BAAQAAEA/f8EAAwA//8NAEMARQBFAI0AlwCJAKwAdgBEAEAANwBsAFsARwB6AGsAawBYABMAFwAvADwAQAAuABoABgD///3/HAArABIABwDn/9P/4P/z//7/5//o/+L/yP/a//f/7f/h/yIASwAxAD4ASAA5AC8AOgBQAD4APABBADkALgADAPf/1v+M/4v/tf/Y/9L/xv/c//T/FQAHAPL/BQALAPP/vv/P/9f/nf+3/9T/of9+/5f/oP+t//j//P/z/zcAQAAWAPz/FwBRAEoALwAmAPf/x/+//7D/t//U/9j//f8XABsANwBIAGoAdQBJACMAFgAPAOz/3P/w////GQAyACYAAgD0//7//f/m/8z/3/8EAAIAAQATAAYAAgAdACsAOgAeAAAA8f/A/9f/AwDx/wgALgAcAAAADgAfABoA/P/T/9r/5f/e//3/FgAGAPL/4v/k/xQAKwAEAPD/AQAMAPb/8v///+j/8f/6/+H/5//o/+3////v//T/AQDd/9D/8f8IACcAQAAjAAUADQAPAPj/8/8NACQAGgDv//v/GwD+/+3/5f/p/+j/3P/5/9b/ov+w/8H/z//N/9H/zv/L/+b/AQAUAPz/9/8JAOv/8/8SABkAJwA6AFcATwAhAPz/yP++/+7/3f+t/7T/x//G/8v//v89AFQARwA8AFIAUwBLAFEAVQBJAAoA2//V/+r/AAD6/wsAFwAsACEA6/8YAD0ANAArAAQA8f/o/xgAPAAZADgARQAZAPT/+f8RAM//r//P/8P/xf+3/7X/z//a//T/5v/Y/+7/AAALABYAOABCAEMARAAkADUATwBFADsALAAnACAAJAAnAAkA/P8BAAsAJAAqABIAEAA0ADoAIgArAD4ARwBjAIoAlgBfAC4AIADy//b/FQAAABcAMwAXAOf/xP/s/wYA7f/f/93/4P++/6v/qv+Y/5v/hf93/3P/dP+Z/7P/x//b/w==\" type=\"audio/x-wav\" />\n",
       "                    Your browser does not support the audio element.\n",
       "                </audio>\n",
       "              "
      ],
      "text/plain": [
       "<IPython.lib.display.Audio object>"
      ]
     },
     "metadata": {},
     "output_type": "display_data"
    },
    {
     "data": {
      "image/png": "[encoded data removed]",
      "text/plain": [
       "<matplotlib.figure.Figure at 0x7f3e0178d630>"
      ]
     },
     "metadata": {},
     "output_type": "display_data"
    },
    {
     "name": "stdout",
     "output_type": "stream",
     "text": [
      "(98, 80)\n"
     ]
    },
    {
     "data": {
      "text/html": [
       "\n",
       "                <audio controls=\"controls\" autoplay=\"autoplay\">\n",
       "                    <source src=\"data:audio/x-wav;base64,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\" type=\"audio/x-wav\" />\n",
       "                    Your browser does not support the audio element.\n",
       "                </audio>\n",
       "              "
      ],
      "text/plain": [
       "<IPython.lib.display.Audio object>"
      ]
     },
     "metadata": {},
     "output_type": "display_data"
    },
    {
     "data": {
      "image/png": "[encoded data removed]",
      "text/plain": [
       "<matplotlib.figure.Figure at 0x7f3e20e2b4a8>"
      ]
     },
     "metadata": {},
     "output_type": "display_data"
    },
    {
     "name": "stdout",
     "output_type": "stream",
     "text": [
      "(98, 80)\n"
     ]
    },
    {
     "data": {
      "text/html": [
       "\n",
       "                <audio controls=\"controls\" autoplay=\"autoplay\">\n",
       "                    <source src=\"data:audio/x-wav;base64,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\" type=\"audio/x-wav\" />\n",
       "                    Your browser does not support the audio element.\n",
       "                </audio>\n",
       "              "
      ],
      "text/plain": [
       "<IPython.lib.display.Audio object>"
      ]
     },
     "metadata": {},
     "output_type": "display_data"
    },
    {
     "data": {
      "image/png": "[encoded data removed]",
      "text/plain": [
       "<matplotlib.figure.Figure at 0x7f3e20e2bfd0>"
      ]
     },
     "metadata": {},
     "output_type": "display_data"
    },
    {
     "name": "stdout",
     "output_type": "stream",
     "text": [
      "(98, 80)\n"
     ]
    },
    {
     "data": {
      "text/html": [
       "\n",
       "                <audio controls=\"controls\" autoplay=\"autoplay\">\n",
       "                    <source src=\"data:audio/x-wav;base64,UklGRiR9AABXQVZFZm10IBAAAAABAAEAgD4AAAB9AAACABAAZGF0YQB9AAAKAAkABwAHAAEA//8BAAAACQAPAAoADAALAAwABwAGAAsABgADAP7//v/7//j////8//b/+P/9//3/+v/2//f/9f/x//T/5v/h/+3/5v/n/+b/5f/t/+r/7P/r/+z/+P/3//f//v/9//3//f/3//j/+f/9/wkADAALAAQACgAKAAQABgAEAP////8GAAIAAgD7//X//P/+/wQABAAKAAkACQAHAP3//P/4//T/9v/8//v/9v/2//D/9f/7//b/+v/7/wAA/f////v/7//y//P/8f/t/+//7//x/+3/5v/q/+L/3P/V/8v/zf/R/9T/3f/p/+P/5f/m/+P/6f/j/+r/7P/w//z/+v/5//b/+//+//n///8FAAEA///4//H/9P/r/+P/6f/t//X/9//3//z/+f/4//3/+//9/wEAAQD+//3/AAD3//P/8f/r/+z/6v/u//P/8//y/+7/6P/k/+X/5P/f/97/4v/g/97/2//W/9v/2//Y/9f/1f/U/9H/yf/S/+D/5f/v//P/9//9//7/+//8/wQABQAAAAEACQAIAAMABAADAAQABwADAAEA9//u/+//6f/n/+3/7//j/9z/3v/e/+P/4v/h/+X/7v/6//3/AAAGAAUAAwAIAAQABQADAP3/AQD9/wcADAAJAAgADQARAAMABAD+//j/+P/6//z/9v/3//L/+f/8//f//P/8//7//f8IAAsAAwD9//f/8//v//P/8//w//f/+f/6//v////5//f/+v/7/wMA/v8GAAgABQAJAAgADAAIAAYACwAQABEADwAKABEAEwAUAB0AHQAbABUAFgAcABcAGAAdAB4AHAAYAB8AIwAWABQAGwAVAA4ADAAKAAQAAQAAAP//AwAHAA4AFwAVABQAFgAZACIAHgAiADIAMAArACQAJAAlACIAIgAmACgAJAAlABwAEwATAA8ADAAFAP3/+//6//v//f8AAAUAAwAEAAcAEgAXABIAGAASABIAGQASAAwACgAFAAAAAAAGAAsABQD//wMABAD//wEA/v/7//v//v8EAAIABgAIAAUAAAD6//7//v/7//3/AgAAAP3///8AAAgACQAFAAQADQARABMAFQAQABcAGgAbABkAFQAVABAADwAPABEAFgAeABkAEwAVABEAFgAZACUALwAxADIALwA1ADkAOgA0ACYAGQAZABQACQALABIAFwAQAAwADAAJAAUABgAOABEAHQAgACAAHgAaABoAEgAbAB8AIQApACUAIgAiABoAGAAaABIAGQAgABAABwANAA0ADQAMAAkAEQANAA4AEQARABEAFAAZABUADwAJAA0AFQARAAwAEgARAAoADAAOAAoA+f/3/wAAAQACAAUADAAMAP//9v/3//H/8f/4//r/9v/y//r//f8KABEAFAAfAB0AGAAUABIAFAATABgAHQAcABkAEwARAA8AEwAXABsAIgAgACAAHwAUABAAEQAaACIAHQAfACIAFwATABcAGAASAAsACAAKAA4AEwAbABkAEgAKAAQACQAOAA8ADgAPAAwACAAIAAMABgAIAAIA/P/5//n/+f/6/wEAAAD4//j//f8FAAAAAwAJAAYABgACAAMACwAQAA4ACgANABAACwAPABMAFgAXABUACQAEAAgAAAABAAEA//////z//f/7//r/AAADAAoACgAEAAEA/v8BAAQACQATABsAIgAnACwAMgAsACEAFgATABQACwALABEADwAKAAcABQAHAAkACAAGAAcABwANABUAFQAWABEADwARABYAEwATABEAFgAfABcAGQAQAA8AEQAFAAsABwAGAA4ADAALAAUAAAABAAQACQAGAAYADQAUABcAGgAUABAAEQASABQAEAAZABQAEAAPAA0AFgALAAcABgD8/wEA/v/6//r/8v/u//P/9v/s//D/9f/x//H/8//6//7/AwACAAYABQAIAA8ACQAHAAMAAgAJAAsADQATABcAGAANAAYACQAHAAIAAAAIAAwADAAJAAYAAgABAAIAAwAJABYAHwAhACkAKwAmACMAKgAtADQAOgA8ADQALAAmABYAFQAWABgAFgAQABUAEQAGAAAA/v/+/wAAAAACAAQAAwAGAAAA/f/9//z/BgAOABEADwAQAA0ABwACAAQAAAD4/////P/+//3/9v/8//3//v/6//r/AwAJAA8AEgAWABYADwARAA8AEQAcAB4AHwAcABcAGAAaABsAGQAaABwAGgAaAB0AFgARAAwACgANAAgABQAGAAYAAwD///7/AQD+/wAABAAGAAkABwAIAAgADAANAA8ADgAQABAACAAHAPn/8f/3//D/6P/p/+v/6//u/+3/5//u//H/9P/2//j/AAAAAAoACgAEAAYABQAHAAgADQAOAAoACwAJAAAA/f/4//H/9v/0//j/+//5//7//P8AAP3/+v/+//b/+v/8//r/9//t/+r/6f/t/+//9//8//n//P/8//v//P/+//z//f/4//j////1//b/9f/s/+z/6v/z////AgADAAYADgAVABYAEwAaABkAHwAqADAAOQA6AD0AOQA6ADsAOQAxAC4AMAAvADMAKwArACYAKwAuACkAMQAnACUAJwAkAB0AFQAbABkAGQAWABoAIQAcABkAFgAaAB8AHgAcABgAEAASABgAGQAYABcAGAASABUAGAASABEACwAKAAYAAQADAPv/+f/+//n/8f/2//j/7f/v//X/+P/9//r/+P/5//b/9f/y/+z/6P/n/+H/4//j/+T/5P/d/93/4v/n/+T/6f/s/+3/6f/k/+//7P/y//T/7P/z//T/9f/8//3/9f/9/wQAAgAIAAQACgATAAwACgAMAA4AEQANAAsADgANABEAFAALAAMABgAKAAoADQANABMAFAAWAB4AIwAnACkALQAtAC4AKQApADIAMwAvACoAKQAlACMAJAAfABwAGgAUABAAEAANABQAFgAPAAgABAALAA4AEQAWABkAGgAZABkAFQAVABEADwAUABAAEQAWABcAGwAWABEADQANAA8ACQAPAAYA/f/6//P/8f/u/+3/8P/t/+L/4v/f/+P/7f/y//v/9//u/+v/7//w//L/8f/r/+j/2//W/9j/1//c/9j/0P/N/9X/4P/h/+b/7f/l/9z/4P/Y/9H/3P/j/+r/8//o/+X/4P/V/9H/z//U/9L/2f/g/9r/4f/t/+r/5P/q//D/6f/v//D/5//n/+D/3f/d/9v/4P/p/+7/8v/4//3/+v///wMA/v8GAAcACQAUABsAFQAUABoAFAAYAB8AGwAaABQADAAHAAMACgAQAAsADgAYABwAHgAZAB0AFgAUABUAEAAXABkAFQAOAAwADwAVABQAEwAYAB4AIAAeABwAGAAdABMADAAPAAoACQAFAAYADAALAAUA/P/4/+//5v/x//L/6P/s/+z/8//y/+3/7v/t//D/6//q/+7/8//8//P/7P/v/+7/8//2//v/7v/k/+j/3P/a/93/1v/V/+n/7f/y//L/8P/2//T/8f/x//r/+f/4//b//P/+////BgACAP//AQADAAIA/P/8//z//P8EAAAA/f/7//3/+//3//3/+P/5//j/9P/w//T//v/3//j/9//6//3/9//6//j/AAABAPv//P/6//n/9v/4/wIAAgAAAAUAAQD9//3/9P/v/+f/5f/m/+b/7P/u/+//9P/4//7//v8BAAQA/P/9//7/CAARAA0AEAAVABcAFQAXABoAFwAcAB4AIQAgACAAFQAEAAUAAwACAP3/+v/6//r//f/2//b//P8CAAUA///3//j//P/0//j/+v/3/////f/8/wAA+f/6//v/+v/5//b//f/9//z/+P/y//j/+//2//j/AQD8//7/BAD+//n/+f/4//j/AwACAAAAAQD+/wUABgAJAAQAAwACAAEACAAGAAsABwADAAgACAAEAAUADgAIAP7/AAD7//P/8f/t/+b/7f/2//L/+v/9//7/AwACAAQA+//1//n/+//4//r////8//v//v8CAAMACQANAAgACgAIAAcABQACAP//AwAJAAYABQAEAAcAAQD1//T/+//4//X/+//9/wIA/f/9/wAACgASABEAEwAVABIADQAQAA8ABwAIAA4AEAASABEAEwAUABIADwADAAAAAgD6//z//v/4//z/+//5//r/+v/+/wMABgADAPz/+f/x/+//8P/0//j/9P/4//v/+v/3/+//8f/z/+//8P/y//j/AAD///7//v/6//n//P/6//v//f/9//v//v/+////AAAEAA0ACwASABQAEgARAAkADwAVABoAHgAdABYAGAAeABcAFwAWAB4AJAAgACQAKAArACwALAAuADQAKwAhACkAJgAhACUAIwAfABcAFgAXAAoABgAIAAEA//8KABMAGgAdABMAFQAWABgAGgAfACcAIQAcABIADgAQAAcA//8AAAQAAwABAP//9//6////AAD7//b/9f/z//L/9P/0//T/9//2//P/8v/0//f/9f/6//z/+/8CAAMA+v///////P/3/+z/+f/+//f/8f/y/+7/6v/s/+r/5//q/+3/8P/0//T///8KAA8ADAATABkAFgAgACAAIQAgABsAGAAeACUAIwAZABEAEAAQABEADgAWABoAHAAdABsAJAAlACQAJQAfABwAGAAbACMAJgArAC4ALAAsADMAMwAzAC0ALQAsAC0AMQAnACYAIgAgAB4AGwAdACAAJAAfACAAHQAfACEAHAAiACYAKgA0ADUAKgAwAC8AJgAqAC8AKwAnACcAIgAhAB8AGgAfACAAJAAjACAAHAAWABUADQASABoAGgAdABYAEwAQABIAGgAWABgAFQAXABYAEwAVABYAFAAPAA8ACgAMAAoACwALAAYACQANAA0AEQAYABcAEgASABQAEgALAAkADQAHAAoADwAMAAsAAwD/////+v8BAAIA/P/7//j/8v/p/+f/6f/1//T/9P/8//j//f8FAP7//P/1//L/+/8DAAsADgANAAoADwAWABoAGgAYABcAEwAPABMAFAATABUAFgATAA8ABgAOABUAEAAOAAkAEAAXABIADwAWABoAIwAjABoAGAAXABkAFAAUAA4ACwAOAAwADgASABEACgAJAAoACAAPABAADQAMAA4ACAAIAAsADgAUAA8AEwAZABgAFgAVABMAFgAUABYAGwAZABMAEgAaABIADgAVAB0AHwAeABcAFwAYAA8AEQAQAAsAAgD9/wUAAwAAAAcABAAAAPb/8//4//P/+P8AAAIAAgAEAAkAEQAZABwAGgAaABcAFAANAAwAFAAWABcAFQAQAA0ADQAEAPj/9f/3//v/+f/7//7//v8GAAkACgANAA8AFwAVABAAGAAdAB4AJwApACgAJQAqAC8AKAAsAC0AKgAoACoAKgAmACQAKwArACUAIgAYABYAFAAUABoAGwAeACQAKwApACIAIwAdACIAJgAnACkAIQAiAB4AHAAgABYADQAHAAoADwAMABEADwAPABYADgAUABUADAANAAkADwAQAAwAEQAOABAADwALABMAFAATABQADwARABAAEgARAAoADAAJAAoACAADAAQA/f///wMAAQAEAP7//v/7//b/9P/2//r/8//0//j///8IAAYABQALAAUAAAD+//r//v/7//v/+f/2//H/6//r/+X/4P/m/+b/6P/w/+3/6//y/+7/5f/j/9//4f/m/+3/8v/3/wIAAgAFAAQA//8JAAUAAQALAAkADQAPAAsADgAMABoAGAANABAAFQAaABUAFQARAA0ADwANABMAGQAdACIAIgAkACMAIAAcABcAEgARAA0ACgAGAAkADQAFAAMA/v/5//b/8f/w/+3/7P/2//n/8P/w//n///8HAAQA+//7//X/9v/+/wQABgAHAAIA/f/7//X/8P/0//j/9//5//z/AgAAAPv/+//x/+v/8v/u/+7/7f/p//D/9v////7/+f8BAAEA/P8CAP7///8MAA0ADwALAAYABAACAAQABgALAAsADQARABMAGAARAAoAFQATABIAGAAYAB4AJAAiABwAHAAZABkAGQASABsAIwAgACIAIwAiACkAJwAqAC8AMQA9ADwANgAyACsAIwAdACAAGQAYABgAEwAZABAAEAAZABgAEQATAA8AEQAjABoAHgAkACMAJAAXABoAHAAWAAwA/f8CAAcABQAEAAgABQD+//v/+P/2/+3/7P/r/+n/6v/p/+n/7P/w//H//f////j/AAACAAAAAwAFAAUA/f8CAAMABAALAAcACAAFAAIA+f/2//3/8v/t//L/8v/u//T/8//t//P/+v8CAAAAAQAKABAAEgATABMAFAAfACgAIwAiACQAJgAlAB4AGwAVAAsABwADAAIABQAEAAAA+P8BAP7//P8HAAMABQAKAA4ACQAFAAgABAADAAQAAgAAAAEA/v/4//v/+P/7/wEAAQADAAQABAAHAAUABAADAPf/8f/t/+z/6P/e/9z/3f/m/+3/7//1//n//v8BAPf/9f/6//j/9f/2//f/+P/8//3/9P/u//T/9P/x/+z/6//q/+P/6v/s/+7/+P/6//v///8GAAkAAwADAAUACAADAPn/+P/0//T/9//6//T/+P/5//b//f/+////AAAIAAwABAACAAIA+P/8//7///8IAAoAEgATAAwABgAFAAkADQAVABgAGQAOAAgACgD//wMABwAGAAEA+f/2//P/9f/0//T/8P/s/+3/9f/4//v/AQD4//L/7f/q/+n/5f/j/+D/4f/d/+T/4v/Y/9//4P/p/+v/5P/j/+T/6f/l/+D/4//g/+T/5f/d/+D/5v/0//n//P8CAAIAAgABAAAABAAIAAIAAQAFAAsAEAAOAA0ACgAFAAkACwAJABAAEAAKAAcAAAADAAQABgALAAYABAD+//v/9//3//r/9v/6//v/9v/0//H/9//3//H/9P/4//z//P/8//r/9v/2//X/+P/3//X/+//5//L/8f/t/+r/5P/h/+L/4v/l/+f/6f/m/+b/5//n/+j/3v/W/9j/1f/U/9r/1//e/+H/2v/i/+j/5f/k/+H/4P/h/9j/3f/e/9n/2//Z/9j/1P/X/9P/1f/Y/9z/4v/l//D/7v/y//n//v8DAAUABwAEAAIACgAQAAoABwANAAoA+//5/+3/7v/7//P/8//4//T/8P/r/+v/9P/9//7/BgAVAA8ACAADAAcADwAOABMAFQASAAwAEQALAAoAFAAVABoAEQADAAEA///+//r/9P/y//D/7P/u/+3/6//t/+f/6P/t/+v/7f/s/+3/8f/t/+j/7f/x//L/8f/l/97/2f/R/8b/wP+8/7v/wP/E/8P/wP/G/9L/2f/e/+P/2//X/9H/0f/b/9z/3f/k/+3/6P/g/+D/5f/n/+7/9v/1//H/8f/0//H/9//z/+v/+P/6/+//7v/x//H/7v/s/+r/7//0//X/9f/0//f/9v/7/wQADwAVAAoACgAGAAMABAACAAgABwAKAAwACgARAA4ADAAGAP3//P/4//j/+f/3//X/9f/z//T/9f/3//n/8f/2//n/8v/t/+//8f/m/+X/5P/j/+3/7f/l/+P/6v/y/+z/5v/k/+D/3//W/9v/3v/f/97/2//f/+D/3P/d/+v/6f/x//n/9P/z//f/+v/6//f/9f8HAAsADQATABIAGQATABMAGAAPAA4ACwAKAAoACAAKAAsADQAHAAUABwAKAA4ADwATAA0AEgASAA4AEgAMABUAGQAWABwAFgAXABkAEQAPABUAFgAXABEABQANAA4ACQAKAA0ABgABAAMA//8DAP//+P/7//z//////////f8CAA8ADwARAA0ABwALAAYABwAFAAQAAgD4//r/+//6//z/9v/v/+//7//w//D/9f/w//H/+v/w//b//P/4//T/8f/2//L/8v/0//f//P/8//z//f8DAAYABQAGAAYACwAJAAMABAD9//z/AQADAPv/9//3//L/7v/o/+X/6v/0//7////+/wEAAwAGAAgABQABAAAA+/8DAAQAAQAFAP3/+f/0/+//9f/5//j/+//8//r/+//6//f/+v/8//P/9f/+//3/AAAGAAUAAAAFAAQABgAIAAIAAwD8//n/+//6//z/AAADAAEA/f/3//f/+f/5//f/9//2/+//9P/9//3/+//4//j/+//7//X/9P/1//T/8P/o/+T/5//g/9r/2P/X/9j/y//E/8T/yP/F/8b/zf/R/9P/zv/S/9D/zv/M/83/2P/V/9L/1//Z/9n/1//Y/9X/1f/N/9L/2v/O/8z/yf/F/8L/wf++/7f/vP+4/7P/tf+3/7X/tf+0/7D/rv+w/7f/uf+9/7r/vP/F/8n/y//N/9L/3//g/9v/2f/X/9v/1f/S/9P/3f/j/+H/3v/W/9f/2f/X/9f/0//R/9D/0//Y/9n/2//b/9z/4P/i/+L/4P/f/+H/5f/r//D/9f/0//H/9f/0//f//v/9//j/+P/1//3////3//r//f/+//v//f8BAP3/9v/z//L//P8DAAsAEQAKAA4ACgAGAAYACAAOABAAEQALABIADgARABYAEQAYABoAFgALAA8AEAAJAA0ACAAJAA4AFwAUABAAGAAZACAAHAAhACcAHAAeABgAFwAUABAAEwAOABAACQD//wAA9//v//L/+P/2//H/8P/u/+r/4//c/9b/2P/c/9v/2P/X/9n/3f/k/+P/3v/f/+H/4P/f/+T/5//p/+n/5//i/97/4//n/+n/6v/n/9//4P/h/9v/3P/f/+T/5v/f/93/4f/m/+r/6f/k/+f/7//2//n//f////v//v/9//r//v//////+v/8/wEA/P8CAAsABQD6//v/AwD9//v////7//r/+//1//X//P8AAP7/8//0//b/9//8//n/+v/6//v/+v/z//H/7P/n/+v/5//e/9r/2v/Y/97/3f/Z/9v/4f/j/+X/7v/r//L/8f/t//X/8//w//H/5//k/+n/5P/l/+P/3v/e/93/2//h/9z/2//i/9z/2v/e/93/1v/Z/97/2P/U/8z/wv+7/7X/r/+w/7r/vP+6/7r/t/+1/7r/tv+2/7j/t/+5/7n/uf+y/7X/sv+x/7n/sv+5/7f/tP+8/7b/s/+2/8H/xv/K/87/x//H/8z/zv/T/9H/1P/Z/9j/4f/q/+j/6f/t//T/7f/i/+T/5v/w/+z/7v/7//v//f/1//X//P/7/wAA/P/9//3/+f/9//7/AgAGAAUAAgD+////+//3//z/+v/9//3/+/8AAAYACgAEAAAA/P8AAAgABgAIAAIA9//9//3/+f8AAPr/9//5//L/8//4//n//v8EAAUABwAFAAQABQABAAAABQAMAAgAAAAAAAMAAgD5//P/9P/0//X/9//4//f/8P/s/+z/7f/x//P/7f/s/+r/5f/m/+T/6P/w//L/9P/5//v/9v/5//X/7P/p/+n/6f/l/+f/4P/j/+v/6P/p/+3/7//r/+3/5P/l/+P/3v/s/+r/5//n/+b/6//p/+j/5//k/+L/5v/o/+f/8f/y//H/7//x//L/8P/0//X/+f/4//z/AQAAAP//8//w//b/+P/5//H/6v/r/+7/7P/r//D/7P/m/97/2v/S/8v/y/++/8D/x//C/8D/vf+8/8L/zP/L/83/1f/X/9f/0//V/9L/zv/I/8H/sf+n/6b/mP+a/5//pP+1/7//x//V/9n/2v/j/+D/1//P/8r/wv+0/6n/nP+X/5n/mv+f/63/zv/t/wYAFwApADsARQBCADsAOAAvACYAGgAZABgAGAAfACAAMAA9AEkAWwBdAGYAbQBrAGwAXwBbAFAARgBKAEUAQQA4ADwAPQA7ADgAHwAKAP7/+P/z/+3/8v/8/wMAFAArADMANQBAAEMAPAA9AEsAQwAyACIACADt/8z/s/+e/4z/gf97/3r/if+p/8n/5P8AABsANABAAEIAQwAuABYA/v/a/8D/pf+S/4v/gf+E/5H/of+1/83/4//1/wMADQAXABQAHAAiABEAAwD3/93/yf+7/67/pv+s/7D/sf/C/8v/0v/X/9v/5f/u//X/+f8EAP//9f/q/+H/3v/U/8//yv/E/8X/yP/Q/9v/6//0//P///8KABIAEQAIAAcAAAD+//P/6v/o/+T/3//T/9j/1P/Y/+r/8v/9//7//f/9//j/8P/t/+7/8f/6/wAADQATAA4AEAAWABcAGwAkACIAIgAiABgAEAAPABIADQALAAsACQAMAAQABQAAAPz/+P/q//D/8f/3/wQABgATABgAGgAZABgA/v+l/2n/Tv82/03/hv/C/+r/NwCSAL0A2QDaAMQAmwB0AGEAUABPAEcAKgAMAOv/2P/L/8b/3//k////PQB2AKcAzgD3APwA+ADzANgArgBfAP//mf9M/xb/9f70/gn/Nv9e/5X/6f8mAFkAiwChAKIAnACcAIoAYQAzAPD/q/9h/yv/Cf/m/tn+4v76/ib/aP+5/wYATACSALwA1ADhANcAsAB3AEEAAQC+/4D/Vf84/zH/Ov9M/3T/qP/h/xMARQBtAIsAlgCWAJMAeABQAC0AEADs/83/uv+t/6T/o/+p/7r/x//j/wIAFgA8AEsAVABWAE0ASQA+ADIAJQAZABAACAAKAAgA+//+//7//f8FAAUAEQAjADcAUgBeAGsAewB8AHQAZABMADMAFgD4/93/zf/O/93/5v/v/wMAGwAzAD0ARABVAFAAQAA2ACIADAAAAPj//P/+/wMADQATACMAKQAtADIALwAmABwAFAATABEA+//u/8D/Vf8d/xD//P4d/2r/r//T/xwAdACWAK8AqwCZAHgAXwBvAHoAjgCJAF4ANwAFANX/qP+J/4r/i/+n//v/VACWANAABgEdARsB/QCoAC8AxP9U/+P+t/62/q/+x/4W/33/2v8qAHwAvQDSAMwA0gDDAIMAOQDv/57/Vv8f//H+z/7K/tn+6/4L/0n/jv/C/wUAUwCDAJ4AvwDSALcAkgB2AEoAGQDl/7H/gP9Z/0T/Pv9Q/3X/nf/J////QgB6AJoAuwDRAMsAsQCNAHAAPwABANb/sf+S/4L/fv+Q/6j/zf/v/wsAPQBkAIEAlQCbAJUAfQBgAEEAJAAFAO//7//u/+n/8v/+/wEAAgANABcAGAAZACEAMwA9AEQATQBZAFoAVQBXAD0AIgAOAO3/2f/N/8v/uv+z/8f/3P/3/wcAHgAvADsAOwAzACMAAgDg/77/pP9h/xv/Af/1/hH/Y//H/ygAgQDSAAsBFAH8AMUAigBLAAcA4P/Y/9v/0//S/83/t/+x/7T/xv/z/yEATwCQANsAEwE+AWEBZwFGAdoAQgDU/27/8P6M/nn+d/5i/rL+Wv/m/zkAowAqAXEBgQGbAa0BdwH8AIsAHwCQ/xH/of5P/i/+M/5U/pT+Bf+B/+r/WgDNACgBVAFeAVoBLgHlAJQARgDy/5H/P/8M//D+5P7w/gv/Q/+J/8j/DgBcAJ8AugDIAOQA8gDVAKoAeQA3AOn/nP9p/1D/Mf8W/yD/P/9p/67/9v89AIkAtQDVAO8A9QDcAJwAUwAJALv/fP9Z/0z/Sf9R/3b/pP/G//H/HABBAGcAiQCRAJYAlgB6AFgANgAZAAAA3P/C/7n/sf+k/5n/ov+u/73/zP/c//f/DQAmADcAQgA9ADEAJwAPAPP/1v+6/5z/lf+O/5D/rP+k/43/jv+l/7//5f8zAGIAbgCQAKwAsgCSAF0AKQDq/8n/vf/J/+v/7v/u//T/BgASAAoAEwAtAEYAZACgANgA9wAQARoBEgEAAdsAcQDW/2P/EP/B/oX+kP7O/vD+PP/g/4UA0gD0AFgBmAFzAU8BRgEPAXQA3/+Q/z//3P6Q/nL+bf52/rn+Ff92/+n/TwClAPUAUQGFAWwBMgH4ALAANQDE/4P/Mv/F/pb+r/7N/vf+P/+X/+r/QQCeAOkAHAE1ASsBDwHtALcAawAGALD/cv84/wj///4W/yr/Vf+o/wQASgCOAMUA7AAGAfoA2gCjAFoAAACr/2z/Pf8p/yH/LP9U/47/0/8VAGUApAC+ANAA5gDpANoAvQCPAGoAQQASAOT/vf+V/3j/cv+K/6b/wP/z/xgAQgBvAI8AqgCyAKAAewBVABsAuP9b/zL/Jv8y/3L/zP8ZAG8A2AAkAT8BPwE0AQwB2wCzAKgAlwBmADYAHwAMAOb/3//o//n/FABIAJ4A3gAQAT4BWQFUAUABGwGAAMz/jP9O/9L+fP6u/tv+xP4k//D/dABuAJ8AQgFwATIBMQFlARMBUAABAO3/d//v/rP+kP5h/mz+zP4V/1r/5f9tAL0AEgGUAa4BSgEdASABvgAZAMD/lv8l/7j+0/4R/xn/Pv+s/xAASQCdAPkAFAEMARYBBgHDAJYAfwAhAKv/hv98/1D/M/9f/47/jv+8/xYAUgBfAH0AtgCuAJsApwCVAFUAGwAJANb/oP+R/5D/jv+O/73/+f8IABcARwBeAFkAaQB2AGsASAAvABEA7f+//1n/Lf85/yf/Of96/9T/BABEALUA7QDkAJ4AeQB1ACsA4//i/+X/vf+0/9T/+P8VABEAFgBIAIMAkQCeANkA9ADuAPIA7QDbAM0AkwBAAC4AKADt/8X/AgBVAHYAiAC1AAsBFwH6ACABFgFuALP/pv+T/wn/qP63/uH+z/4Q/97/YgA5AD8A8gBQAQ8BEwFRAQcBagA7AD0A1P9C//z+2v6x/rD+8/4a/yr/k/8kAHkA2QBwAaYBXgE1AVABFgF3AAAAuP9L/9H+zP4S/x7/M/+R/w4AaADNADsBVwFOAVoBSAECAb4AfgAYALH/e/90/1//Lv89/3v/lv+//ycAhACVALcA/QANAfIA2wCvAGkAIgDR/0f/5v4g/0v/Hf9E/+r/QgAvAJgAQAEWAWsAWwC6AHAA5v/l//H/lv9J/2n/g/9u/3r/nv/X/z8AmgCyAL8ABAEtAfgAxQDLAJQA7P98/4n/gP8v/yv/fv++/w8AjwABAUMBZwF/AX4BjQF/ARQBsgCCADIAv/+m/9z/4P/Q/yEAsQAGATEBmAHeAVQBcwAkAAsAaP+v/nH+d/5t/n3+Hv/6/0EAOwDVALYB6gG2AdMB1wE4AY4AVQAOADv/a/40/i/+AP4Y/pL+9P5U/wgAzQBKAcEBMwImAtoBwAGbAQUBKQCT/y3/i/4c/j3+Y/5P/n7+Lv/e/18AAQGhAfUBFAIoAiUC1gE+AY8A9P9s//v+uf6A/mj+m/70/mD/4v97AOQACgFGAYIBkAFpARYBwABWAPT/g/8e/5f+3v0w/vT+NP+E/zsA2ADaACAB0AHfASQBcwCGAI4AAACy/6D/RP/S/s3+A/8I/zf/aP+P/y8A9ABUAWoBrQHhAaMBWQEoAcQA9P8g/93+zP6a/rf+Jf9w/+D/qwBUAbIBDgIzAvYB0gG1AU4BvAA/APj/qv9e/2P/of/J/+f/agAXAUoBGgHHAHQAKwC3/yT/zf64/o/+df7m/pr/+v8HAGcAHAF7AXwBhgGcAUkBrQA9AOz/Vv+d/hr+1P3T/fL9Lv6S/hT/tv9pABUBrgEVAi8CDwLWAY8BFAFZAJX///6F/hv+/P0V/kH+gv7z/qX/SADHAEoBvAHwAfwB9wHGAVEBuAAzAK3/KP++/n/+Xf5m/qz+EP9///z/gQDvADUBZwGRAX4BNQHdAIIAb/8h/kT+lv5C/ln+HP+//6z/PQBLAYMB6wB8APUA+wB7AIAAdQDr/1//V/8q/+L+9P69/pn+SP8PADcAagAPAYMBggGoAeYBpwHhACUA5v+V/x3/+f7X/rL+Gv+6/xsAdADlAC0BRwGXAfIB1QGIAYABWQHxAKEAawA0ANr/l/+p//P/PwBEAAYA0//n/+X/i/9F/07/OP/q/hX/s/8KAPf/+f+GACgBSgFMAXYBdgEOAaIAZAABAEX/dP4D/ur97/3v/SL+ov4v/+D/tABmAdoBIAIrAgoC0QFpAcQA9f80/6f+Sv4O/gL+OP6I/uT+dv8bAJEA+wBgAZoBqQGdAX8BPQGyAA4Alf8+/+L+lf6I/qH+zv4P/2n/yf8dAG8ApQDcAAEB9ADBAI8A9P+4/mn+6f7k/sb+Pf/r//P/BADIADQBrADu/xgAdgA7AEMAhQBhAP//9v/x/5X/e/85/8r+FP/C/wEA5P9GANYA5QALAWcBdwEPAXoAOQAnANH/m/+Q/2X/if/q/ykAYgCbAJsAiACwAPgA8wDCANQA4QDJAL4A3QDoALEAhwCFALQA2gCyAGYAGwC1/w7/of6a/l/+4v3D/UD+0/4x/8T/agDBAPIAYQHeAcMBYgEoAekAcgDS/1L/2v46/q39mf3T/fn9Iv56/iz/9v+ZAD8BzwETAiQCIwL0AXsBzwAaAEj/kP4i/tj9sP28/RH+kv4t/+T/lQAgAZMB+AEbAgACwAFmAdQACgBg/+j+i/4//iH+U/6//jv/uP9AANAAKwFJAWQBagExAc8AQwAb/zr+cP55/j3+pP56/9z/+f/DAIIBTgGVAGMArwBjAAkAPQBCAOH/yf/i/5f/b/9l//v+9/6q/w4A7v8rALsA0gDMAC4BVAH9AIcANgATAL//Zv9d/zv/JP97/9b/DABpALMAnwCxAPYA6wC5ALMAvgCcAHsAigCRAIMATgBAAIkAvwDVANcA3wDCACkAhf81//3+bP6//bf9G/5l/sT+c/8pAI4A2gBjAewB8wGNAWIBRQG3AP3/ef/2/if+e/1S/W/9fP2M/fj9xP6M/zgADQG4AQgCMgJAAhQCnQH9ADYAYP+X/vz9sf2V/Zr92f1l/hf/zv+RAEMB1AE4AlwCTQIbArgBBAE3AH3/4f5j/gD+2/3z/Un+vP5K//P/jQAEAVsBlgGhAY8BOQFwAIv/8/6a/kr+CP41/rf+Ef+L/0YAygDFAKgAzQDWALIAigB3AF8AOgAeAOb/p/9i/wX/zP7i/jn/bf+O//n/cgDBAP4ARgFmATkB8QCrAFsA8v+F/0D/GP8P/y//dv/B/wIASACIAMUA8wD4AN4A0wDPAK8AfgB3AHgAQwARAB0AVQBdAGMApwDiAPMA0QB9AOD/O//t/oj+7v2e/dn9Mf5s/hn/DwCOAJMA4gCQAdIBdAEwATMB2gANAG7/Mf+v/sz9Uv2D/bn9o/3X/Zj+X//p/5cAgAEbAikCEwIYAtQBHAFJAJT/0/4P/pj9av1s/Y/97f2U/lj/OAADAZcBEQJyAowCOAK4ATcBdwCF/8H+Xv4S/sD9wf02/sr+Rv/Q/3oAEgFYAX0BoAGMASoBmwArADD/Gv4k/jT+6/0l/gL/pv/O/3IAKgE1Aa4AegDWAIsAGQBKAFMA6//H/9z/cv8s/yf/rP58/g3/dP9o/8P/dwDTAP0ASgGKAWIB5QCHAFEA0P9X/zD//f7f/jD/lP/J/zQAoQDCAP8AOgEaAf8AFQHxALMApgCMAF0AQgApACQAOgBMAIcA0gAIATsBLAGcANn/TP/Z/mD+7P2K/bP9V/7R/mb/bAAlAR4BVwEbAkgCtwFJASwBsQC7/xb/zv5C/nD9Hv2A/cj92f0t/tb+nf9NANwAgwEJAgwC2AHCAYUB1wAgAHn/sv4R/sn9s/2c/bT9IP7O/on/LwDuAJ4BCAJFAlcCGwKaAfUAJQBK/6n+Rv7r/bH9yv05/sr+Vv/9/7sAPgF6AawByQGgASABhwBz/zX+Gf45/tP99P3S/nf/qP9aAEMBTQGOAC0AoQB/AOn/GgBUAO//tf/g/5D/Qf8+/73+j/49/5//h//d/5EA4QDuAEQBlgFpAeEAjABlAPz/e/9c/0D/9/4z/43/sv8aAHcAfQCsABUB/AC/AOsADAHTAJgArQCiAGUANQAuAFYAZAB/AL4A5wALASwB+gBIAH7/8/6S/g7+d/1f/dP9Rf6s/qP/ywAUAfQAhQFIAhkCUgEPAQEBQgA7/9j+uP71/R39Jv25/fb96/1h/kP/8f9rAA0BzQEHAskBvQG9AU4BewCz/yD/ef7g/ZP9hf2c/b79KP75/uH/mwAyAbUBIgJrAkMCwQFFAaQAwv/4/o3+Qf7c/an96/14/vf+df8gAL4ADQEzAWgBdAEeAYEAdf+//sr+cv74/TP+5/47/2b/NgDvANAAMQAwAKYAYAANAFwAeQAyAEMAUwDp/6f/Vv/F/sT+Jv8v/zH/qv8xAG4AugAtAXYBWAHrAMgAvAAnAKv/jf9L/yb/Sf9p/6z/HABUAGwA2gAoAeYAygADAQMBzQCxALQAtQCMAE0AZACYAHUAZwC0AP0ALAFOASUB2gBcAGn/qv51/hr+gv2D/SL+rP4+/xMA5gBKAUcBkQEeAvEBIgHTAMsAFQAz/9z+oP4I/m/9Yv3L/RD+//1P/jD/5v9gAAoBsQH/Af0B9QHdAWkBjQCu/x7/gf7f/Zj9j/2I/dD9c/4t/wAAwABWAc0BMgJTAg0CiQHlADoAf//B/kH+9v3B/cP9J/6y/iX/rf9BAMIAFgE+AUwBOwGiAFL/3f4w/6/+LP6Q/jL/Of9u/zkAnwA5AH7/q/8iANj/0f83AFEAPwCGAIkAIAAJAH7/v/74/lb/Hf8V/6b/JwBvANMAMwFnATcB0gDLALgANgDK/4X/R/9W/3X/df+y/woAEwAxALIAzQB2AHkAsADJALoAmQC0AMcAfABMAJAAzwCzAKEA2QAYATYBPAEzAQcBWAA+/4r+Rv7a/VX9Pf2j/U3+Bv/W/9cAdgFqAZgBSAJcApYB+wDGAEUAdf/m/qv+Qv6Q/VL9yv0s/iv+Zf4M/8L/UgDoAIwB6gHSAZcBkAFJAXAAi//z/mr+0P1x/Wr9lP3l/Vb+C//9/9MAYQHRAUoCgQI4AqMBCAFmAJv/w/49/gT+zv2u/en9cv4G/3j/1v9SAL0A3gDEALMAeADy/5j/bv9U/yz/Bf8O/yT/Pf9U/3L/iv+K/6D/zv8IAE0AcABzAIAAlgBxACkA6/+Z/1r/SP9X/3n/nP+3/+3/QABuAJAArQCwAJkAhAB/AGQANgD0/7z/w//D/7f/y//Y//L/IwBZAIMAgQB2AIAAoQC6AKsArQCuAJAAcQBjAIYApACmAJwAtgAIARcB/QD3AKIA5/8M/33+Lf7h/bn9tv0d/un+tf9aAOgAcQGqAYcBlAGzAUoBdAD7/+P/df/f/pb+av4V/t/9BP5N/n/+pf4A/67/XwDfAF4BugHTAbMBeAEmAY0AvP/9/nH+/v2j/Y39zv0k/pf+Wf8xAPMAhQHgARoCEgLBATQBiQDi/zf/pf40/u395/0C/jD+if4h/6v/CQBlALEA0QC2AKgAmgBWAAgA6P/f/6r/ef9m/1H/Iv8H/wv/Df83/4P/0P8uAJUA1wDiAM4AsQB3AB8A0f+j/4D/bf+E/67/zv/x/yAAWQB3AHcAfQCJAHkAZgBjAFoAMwD///T/GgAcAPD/8/8MAAwAHgBDAG4AegB6AKEAwQDPAK8AvQDsALoAnQDIAPMA2gC3ANoA6wC6AIIAawAkAF3/0v6e/iz+zP3n/WD+nf7w/sv/nAD4AB0BbwGRASkB2gDJAHYA2f9w/2v/O//M/or+iv6I/lP+UP6x/gb/IP9h/w4AxQAbAUgBjQGfAUoB1wBzANf/Cf90/hv+2v3X/Sb+kP4N/7b/fgAoAZ4B6wH6AcEBYQH2AFUAmv8G/5X+Pv4V/iz+ZP6p/hT/m/8QAGUAmwDFANIAtwCgAJcAhABSACkAGADt/6f/Z/8//yr/G/8s/2D/rf8IAE8AmADbAPMA3wCvAJkAbwArAPn/y/+9/63/xP///xkALwBBAGMAcwBlAFoAVABPAEcAVQBnAGUARQAsADcALAAdAB8AEQASACQASABzAHUAaQBcAEEAQABaAF0APwBkAL8A2QDQAJMAJwAVADEAIADb/5P/a/8n/xL/Uv9z/xb/2v5y//L/FABwAMcApQBnAI8AfAD7/5b/Rf/0/s/+7f4K//D++f5P/6f/2/8VAEsALQAMACsAJgAHAP3/5P/G/9H/7//s/93/1P+u/5T/of+W/3X/cP+b/8//6/8hAG8AhAB9AJAAlgBvADUA8v+u/4b/Zv89/yv/M/9G/1n/dv+j/83/7/8FAA8AJwAnAAYA8v/t/+L/0P/L/9j/3f/K/8T/1//N/77/z//P/83/7v8gADsASABQAFkAYABgAFEAOgAuABkAGgAZAB0ALwAoACEAIAAWAOv/yf/T/9X/6v8UADUAUQBwAJEAsQDBALAAoACqAK8AqwCfAIIAXQBMAEkAKAATAB8AOABWAIsA5wAzAUcBUAGXAbUBXQH+AIQArP+D/s391P3D/aP93v2j/on/KwDjAIkBsQFAAfMALwEVAXkABADx/8P/VP8P//T+of4J/tX9Kf5w/pP+7P5//xoAwwBkAdsBAALXAXwBAgF+AMr/9v5E/tT9n/2y/RP+nv4///r/wABnAdIB8wHVAY8BKAGoABkAkP8n/8r+mv6r/tv+F/88/3X/uv/y/xoAMwBbAGsAZwBpAHEA9v8S/wn/UP8l/y7/if+m/5D/vP8gAFcA6P+A/+//PQAzAI8AywB9AFgARgDa/5P/RP+y/qb+Of+i/+b/RwCVAOUAEwEuAVgBGgF5ABwABQCz/2L/UP8d/wP/Wf+l/+X/SAB2AIwA6QA6AToBDgHYAL8AmQBSAAsA1//A/5H/fP/f/1IAcgCSACMBmwGNAWIBVAFAAZgA1P94/9P++P2d/c/9+v1G/vL+hv8nAM8AHgE9AToB4wBkACwAHADq/7//x//i/8v/kP9z/zL/of5H/lL+Yf5m/sb+cP8BAKQAVwHLAf8B6wF4AdAAHQBl/43+x/1V/VX9qf02/gL/5f+xAFkB9AFHAjwC5QFTAbAAFQCF/wT/qv52/m3+Xv6L/iv/kP+o/+j/QgBwAHMAhQCZAGMA///y/ykA+v+o/5v/fv9h/2//f/9x/23/kv/C/yQAjACoAJ0AogC0AJ8AbwBCAAQAt/+L/6n/wf+7/8r/4/8AAC0AawCZAKcApwCsALUAvwCtAG0ARgA3AAcAyf+0/6X/iP+W/87/GwBqALIA5wALASUBCwHkANcAlQAyAAQA/f/3//P/GQBfAIsAlwC/AAIB7wC7ALEAiwBXAFEAZwB8AIsAYwA1AA4A0/+Y/yD/wP6S/qz+E/8z/1r/uf8CAEAAoADeAJcAVwBzAJEAWgAQAOz/i//3/rP+wP56/hf+Nv6V/uj+fv87AKsA+QBQAXkBVwELAVEAKP+M/pX+V/4Q/nX+Cv8+/7L/vgBrASkByAD5AAEBgwA7ABQAhP8D//X+7f7d/vP+4v7g/lv/3/8IACQAYgB6AG4AiQCqAHYA9v+k/5j/cf9J/0L/Nv8+/2v/uP8JAEYAVgBLAG0AmACQAFcAMQAgAP//+P8QABYA/f/s//n/GwAvAC0AIgAsAFMAbwCeAK4AmgCeAJ0ArgC5AKgAhQBjAEkAIwD9/7z/gP+K/6n/x/8FAFMAlgDMAOUA5QDUALgAmQBrAFQAPwAVAPv/9v/3/+3/8v8GABMALAA9AEEASAAzAC4ALAAUACMAJQAQABQAGQAOAPz/9v/U/7b/xf/D/8P/5f8HAA0ABQADAAIACQDs/8P/xf+0/5H/ff9n/1r/Y/9m/3T/pf/N//H/GAA7AEEAOQAjAPP/0f+q/4b/Xf9B/z//PP9V/33/uP///yUAUACBAIsAdQBkADwA+//E/5P/g/+F/5H/oP/I//X/DQA9AGQAcwBwAFUAOwAiAPz/0f+z/7P/rf+x/8b/6f/h/3H/Y/+o/6b/rP/D/+3/FAAAABwAUwAlALv/lf+p/7f/0//g/87/yv/L/7X/u/+5/5D/if/H/xMAXACZALMA2gDxAPgA/QDGAGgAEwDc/7L/eP9W/1H/df+0/wQAdgDOAPgA9gAMASYB9ACqAGgAOQAOAM//o/+h/6H/nf/C//7/QwByAIMAuQDgAMUAmQB0AFAAGgDv/+D/vP+N/3j/lv/H/73/tP/d/woAIQA5AGsAbwBDACgAXACYAGUAFwD//+7/tf+H/5D/mP9x/1z/tf8zAGgAVwBrAKsAuACIAFQAPwD3/4X/Yf+E/4//Yf9f/6f/3P/r/wIAIwA5ADEALwBVAEwAHwDw/93/6P+3/4n/jP+s/8L/v//X/+D/0//q/+//7//q/8b/4f8NABMA6P/G//L/CwABAAEADwAWAPj/FQBoAFgAOAAwACgANQAZAAkA7P/F/8v/5P///+v/3f/h/9j/4v/z/xMAJwALAPX/CQAmADQAKgAfABYAFAAhACAAFwD4/+r/9v/6/wQA/P/k/97/AAAsADUAJwAnACcALQAkAA0AJgAUANH/w//X/+T/1f/S/+v/6P/W/9D/8v8nAB0ABAADAOH/y//A/63/pP+U/5P/g/+W/7L/zP/x/+H/FwBOADMAHwAoADkAJAD//+z/z/+j/4z/o//D/8H/1f/2/xMAMgA1AFEAbQBeADoADAD//wMAAwDx/9D/uv/G/93/6v/s/9z/1/+2/6H/w//H/73/0P8MADcAMgBFAGEASAAFAPT/BQDr/5b/av99/3n/g/+e/8P/2v/W//H/OwB9AG4ANgAgAAMAzv+6/5n/ZP9P/1v/r//+/xoAEwD9/xMALwBYAEkAAQDs/+b/6v/w/+3/0f+w/9P/BAAJABAADAD9/wsA9f/m/9v/vf/Q/9z/6P/y//n//f/2/w4A9v/X/+b/3f/d/+P/1P/S/9v/9/8TADEASgA6ACAAAAD7/w8A3P+i/5//pP+l/6n/wf/A/7X/t//E/wcAEADN/7//z//d/+f/2//p//X/yv/I//3/DADY/8f/zv+4/63/rP/C/8f/o/+l/9X/9P/4/woAHQAVAAUA+v8FAAQAzf+s/6r/t//O/8j/yP/J/9//EAAwAEAAOQAmABwAHwArACwABgDg/8f/vf/d/+7/+f/5/+7/+f8iAFkARgAQAP///P/4/wQADwANAP//BgA0AHAAhwBSAC4ARwBmAFQAGwAEAO//4//w/xMAIwD4/+L/AAAzAEAAKQAgACEAFwAYADAAQAAvAAYAAwAUAA4A+P/Y/9n/0/+//7n/v//T/77/xv/m//j/BQD8/xAAJQAiAB0AKwAgAOv/xf+8/7v/sP+f/5H/m/+6/8z/1v/y/w0AGQAjAC8AKQAPAAAABQALAOb/uP+X/4j/gf+I/5b/j/+Z/5b/ov/M/+T/6f/O/9P/7v/h/+D/3v/C/5X/aP92/4P/df9u/3D/kf+y/9v/CwAiACYAFwAWABsACADd/6D/h/+O/4j/g/+C/4X/k/+8/+7/BgAXAA0AAgAWACcAJgAEANL/s/+0/8T/zP/L/8r/tv+1/9n/AgAxAC0AEQAKAAoAFQAAAOf/2f/A/7z/x//d/+b/0f/M/+r//v///wIAAQAHAAMA/f/9//v/7v/W/9r/6f/t/+T/2f/n/+7/6P/v//P/9f/6//L/5P/b/+b/8//q/+f/9//6/+v/2//p//z/8P/t//X////3/+P/7v8DAO//0v/u/w4A///l//r/DQD2/+//BQAUAPn/2P/R//P/BgDq/9X/0f/1//X/8f8WAAsA4f/G//r/FQDf/7v/rv/C/8P/x//X/77/wP/s/xAAJQAfAAEA7//V/83/3//2////4v/P/83/z//V/9z/6f/4/w0ALgBJAEsAKQAHAPT/1f/U/8r/qP/F/97/3v8AABkAHwAZABgALQBHAFYATwBbAFcAJQAVABcACgAFAPr/CgAAAPX/AgD//xMAGAAnAC4ADQAXACMAMQBHADAAIwAMAAMADAABAPv/8v/u/+j/5v/9//3/7//7/wkA///8/wMA+f/u//D/5//N/8v/2//T/9T/DAA2AB4A9P/0/wIA7v/7/xoA5//D/+P/DwAWABsAPQAmAAsA/v/+/wIA8v/v/wEA9//5////+P8eACMAFwAIAPP/+v8NAAcAGQAqABQA6P/z////+v/7////BwAMACAAHgAnAAYACQAUAPf/1//W/+//2//w/+f/4//2/wgALgAuAC4AHAAMABMAGwD4/8j/5//u//f/GAADAOv/2f8CACsAGgD9//r/9P/L/+X/9f/m/+X/3f/9/wAA9//+/wkADgDf/9P/1/+8/8j/yv/Y/8j/wP/l//j/DQAHAAYABQDp//n/0P+7/9D/u//Z/6D/xf/+/7X/0f/t/w4ACwDn/w8A5//i/83/s//Q/7D/z//L/9j/CwALABoAAQDH/67/lv+j/8b/qv+o/6z/yv/c/9X/3v+8/7v/wP+q//L/0/+8/9v/x//l/8X/4f+8/47/y//n/xIAEgAgAD8AJQAcAPf/5P/M/6//2v/0//n/BgBEAEcAFwDy/w4AFwDm/73/4/8GAOH/CQBEAD0A6v/O/wMA4//0/xUAMgAmAPP/NgAtACAAHwApAEsACQABACUAHwAvABkAFQD8/+v/+P/o/yEA9v/j/ykAKwA3ACgAOgAfAAcAPwAaACgAFwAWAC8Avf/8/wgAy//9/wMARwDq/+//UAACAP3/xv/h/+f/rv/v/8v/5v8IAPb/DQDe/9v/zv+3/8P/vf+6/7v/0//2/wUA//8QAOv/CQANAPT/FwDe/wQA9f/t/xAAyf/j/9v/1//k/7//8f/a/9T/+//x/w0A3v/p/wcAof++/9H/xP/h/+b/KAAGABAALwAMAAUA8f8bABgA6/8HAAMA6P/0/+7/BgD0/+D/9//h/+n/0//O/+r/wP+9/83/9f8WABUANwBBACQA2P+//+H/5v/m/wwANgAhAP3/NwBBACUABgDt/x8ABgD//+7/AgAgAO7/5v/H/9j/8v/5/wwABgAiABUAIABWADEAGADr/97/8//H/87/9P/w/+j/CgAsAA8A8/8AAPn/1f/R//T/4//n/xMAEQAFAPD/AQD6/+L/AgDt/9L/9v/8/xIAEgAEABwAGwAlAAcA/P8UAPH/BQAMAPf/AAABAPT/zf/g//H/2P+9/+z/HAAFAAsAIgAqABIA8P8OAPv/3f8PABgAGQABAP7/EwAhADcADQALABYA9P/5//P/EgACAO7/KQAUAAAAAQAUABQA0f/d/+L/vP/U/+P/5v/l/wAA9//X/+///P/z/+P/4//9/+n/zP/c/9v/2//K/9H/2f/V/+P/1f/k//v/6v/5/x4AEwD4/xoAGQAJABMAEAAWAPP/GwBYAEMAWABDAD4ARAAxAE8ALwAhABYAIQBXACwAJQAcABAAHAD5/wIAAQASAEIAOwA5ADkALgA2ACcAGgARACUAKgAjADgAQgAlAAAAIwA7AAQA5f8pADwAAQASAC4AJwD8//z/JwDk/97/EAApABIABgAsAB8AHwAwAB4ABwDw/zAASQAVABEA7f8IAP3/IwA3APv/DgAAABcAJAAOACkAJQAQAP7/2v/s/wUACgACABUAOwAfAAQABwADAPT/DAAbABEAHAAdAEsAOQAqAEAALQAmAB8ANQA1ACEALwA0ACkAOAAhAEAADQDp/xMA7/8hADkAYQBWABsAUABIAEYAKQAlAEUACgAkAE0AXwAmAA4ASgAwABsAFwA4ABoA9v8qADYAJAAPABEAHAAYACoAEgATADMADwD3//D/DAAoAAMAQwA0AAsAFAACAFcAMQAnADQAAwARAAEAOQA8ABwASgA8AEUAJgAHABcA9v8fAE4ASQA7AAAAFAAtACIAKwACABEA8v/f/yYAIwAUABkAFwAaAAYAAQAbACAAJQANAAQABQD5/yIAHwAvADoADAAgAAcA+f/m/9f/GAAAAPj/EwAZADIAAgAQACUABwAUACIAQQA8ACYAMwBNAB4A3P8HACoAJwA0AEwATQBKAEYAPAAyAA8A/v8XAB0AGQAcABoAIQAyADwAMAAsAAoAGAAyADkAOAAsACsAHQAMACoATAAhAPf/FAAZAAQA8//z//3/3v/n/xMAIAALABkAJAADAA0AFgD0/+T/6/8GAAcAGAAuABsAMAASABAAIQAWAB8AAwAFAPP/+P8aABIADAAFACcAJgD1/xQAHQD+/wkABAAmABwADQBBAEMAPwAaACoAKwAHABYAIQBHADwAJgA6AAsAJwAfAOn/JQAkABIAEgA0ADgABgAOACkAKgAbAC8ASQAWAPP/JAAlADIAIgAQADgAHQAwAGUAXABDABEANQArAA8ASgAOADcASQAIACEAGAAWABEAIwBSAD8AJQAgACgAJgAGABMAIQAaAAYAKgBLABgAMAAiAA8AJwDt//j/IgAfAAoAEAAvAAsAAAD6//3/AAD//zMAFAD1//L/CgABAPT/CgAJAAUACQAhABsAJgAcAPz/BADn/9v/+P///ykACwAPAA0A6/8JAPj/CwAkACMALQAvACgANQApAEwATAADABkAAQAEAA0AHABQAAoACgD5/xQAOQAmAEIAAAAeADYAMABFACsATgBNACkAOgB2AFAATwBxAFgARgAwAGMATgAvAFAASQBRAEYAOAAeAAoAIAAxAD8ACwA0AFoAFQD7/0YASgAaADIAKwAgAAAAQgBGAA0AKAAuADEAIQAfAEIACgD7/yAAGAAPAPv/AwAPABYAIQAnAOf/2f/+//P/CwAQADAAMQAhAD0ALQAXAAEAHgAcAAEA+f8GADsATwAxAAEAEQAjAPL/BQAWANr/4P8BAC4AFQADACMAGgAWAAQALAArAPb/AwAbABUAMAA4ACsAPgA1ABYACQA5AFQAGQACACEA/P/2//v/AQAgAOb/6v8FABoADADw/x0ABQAIABcAHAA0AC4AQAA0ACMAXwA1ADQAPgAvAFAAEAAsAEYAOgAtAAsAGwAXAO7/8/8MABoAHwAiAFUAWwAfAPX/PgA1AAoAFAA8AGIAIAA5AGAAMwAiABkAOQAIANb/NgAJABoARAAXABMA3v/v//n/8v8sACAAEwAIABYAMgANABsAFwDw//f/7//u//P/DQAJAP//JwAfABcAGAAlACQAEQAYABsA9//c/wcALAAIABsABgD2//7/7v8IAPn/EwAWAOX/FgAGAAsAMQAbACoA/P8CAPz/FgAwADMAeQAnABUALgA2AFAAVwBzAEAATgBZACcAPgBDADIAPgAiACMALgAeACsANwAbABgANgATABgAKgA7AEAAQwBOAD4AHADy//n/FgAwAD0AMAAuABgABwBNAD0ANAD6/xMAOwAUAEAAMQAgAPn/JwBVACUAFAAsADoANAAtAEUAMQAiACsALwBPAC4AQQBGADMALgD6/wsA/P/1/0kAKgAvABAA6v8nACIAMAAdAAkACgAAAB8AGAAqAEMAHwA0ADwAOQAjABIAIwAwAEcAGAAXACAABQAvACIAEQD2/x0ANwAOABwA1f8DADEABQASAPP/CQAIAOj/CwAOAAAABQDi//b/BgDt/z4ARgAaAPr/0f8lAOX/2P8QAPX/JwDy/zkAKADn/xYAEAAzAPT/AQAjABMA+P/q/0oAFADl/yQATgAaAN7/IgAcAB4AKAAcACYA8v8HADEAWwAyAPT/IAAFAAgAHQARAPn/+/9GAD8ACwAjAAgA4P/Q/wUANgAEAAMAHgA+AOb///9yAAYA7P8UABUA7//1/y8AEQAVAA0AGQAPAO3/FQDu/9v//v/s//n/9f8yABoA0f8jACoA5v/Y/wQA9v/C/wQANwARAAQA8P8EAPr/9/8eABAA9v/x//r/AADz/woAAADn/9r/z//0//D/AgAOAA8A7P8IABkACwAHAPf/FgAXAAwAEQAKACQABADn//7/CgAsAB0AQQAxABMAJQAZAAsAAAA6ADEA/v8MACoAOQAUAB8APAANAAgATwBFAAoAHgA0ABQALgBVACAAKAAqACYAHAD6/ygATAAYAAcAKwACAP3/FQA0AAsA+P8TAP7/OQAvAAYA7v8HABkA7/8kABAA5P8VAB8AMQAgAPb/EAAKAAwAJAAfAB8AAgAdAAoA0P8YAP7/FQAWAAIAIQDh/xYABwAOAAYAu//3/9//9P8CAAEA3P/R//f/3P/n/93/8f/7/wkAEQAEAP7/5f/8/xcAKAA9ACYAHADm//z/GAAWACAA5v/q/+j/8/8fACUAHgDo//H/LQADACUAGwApAAEA6/81AA4AKABYAG4AQwAgAFgAQgAmAB8AFgBDAB4APABhAF8AVgA9ACoALgBZABwAMAAdACUADgAEAGwAEgAZABwAAQA1AA4AQAArAC8AUwAfACkA+f8YAAoADwAwACUAEADo/0AABADi/xUA7P/2/+j/FADs//H/FgDp/w8AzP/x/woA0f////P//v8iABwACADc/+//9P/b//T/+f8CAOL/+v8IAAAA5P+//w0A6v/W//j/3v/q/+///P8bAP3/6P/T/+P/9v8bADsAHAD9//f/AwD+//n//f8RANz/4//n//f/GQD4//H/yf/l/93/wf/6/+H/5P/2//b/9P/t/+j/5//9/+3/5v/o/wgABQAkAC8A4//m/+L/AwAsABkACwDc//r/8f/w/yUA9f/q/9P/0f8JAAIA/f/n/+b/FgAcAP7/9v8NABAAKwATADIAKADr/+P/9P8oAAoAHAAlAOX/4f/1//z/9v/l//v/8P/R/8v/0v8JAOT/4/8nAPz/1f/N//r/CAAVAP7/DwAaAOv/+P8UABEA4v/+/xAA+v8KAAkABAADAPj//v/r/+3/6P/6/woAEgAJAPj/5//b//z/9//u//H/DAAKAPj/GgALAOr///////3/+/8MAPf/9P8XAPj/7v/c/+D/6f/e/xQABwDs/8P/CAATAK7/+P/o/9H/0//9/x4A6v8AAPT/6f/9//H/7f/V/8z//P/2//n/IgAZAP7/8v/6/+z/6/8BAPj/9f/+//7/8/8LACAA6f/v//T/7/8KAPn/+f/n/+//BQAVAPn/7//5/8r/tf/k//b/7//f/xAAMAD5/wQA+//0//X/2v8AAA4A3//v/xYA///u/9f/0P/W/8n/2v/K//T/+//X/w4A+v/w/xwA+v8HAAMA5//d/97/DgDv/wYAKADt//v/7f/f/wkA3v/w/9z/3v/1/9X/KADi/9H/7f/P/wIA7/8IACMA7v8AAOH/6//t/+T/GADt/wUA7P/R/9L/2//8/+H/3v/l/+f/7P8IAMz/zv/l/8T/4f/P/wAAAgDM/+H/0v/h//z/zf/U/67/wv/u/9T/AgD1/+L/x//g/wkAxP+l/7b/tP+n/6z/2//0/+X/3f/i/8b/qf+//9P/5P/5/zIADwAOACkA9v/2/9j/AQDt/+P/DADy/xoAAQAKAA8A+f///97/9P8CAPT/BADm/+T/4P/l/wcA8P/r/+v/6//g/+X/2P/o/wEA8//t//X/8f/8/wYA+f8DAP7//v8DABMA+v/v/+//+P/l/7//1v/v//r/+v/3//j/4P/j//T/6f/Z/83/BQAeAA0AHQD7/9n/8v8LAAUA6P/6/xUAGAAgABUAHwD9//D/NwARAP7/CgAuACMA7f8aAA0ACwACAAMALQAEAOf/+f8UABwA9v/4/+X/9v8JAB0AIAD5//v/7//4/wwAGwAeABIADgD//+j/8/8GAFAAIgDw/+//0v8LAAIAKgAsAP3////u/xsABwDr/wAA7v8QAAEA+/8NAAgACQD+/xoA/f/k/+n//v8NAAIA+//S/8v/8/8BAPr/GgD0/+v/5P/t/ykA8f8IAAIAIgA0APz/PgD7/+j/AgD4/wQA7P8jABUACAAEAOf//f/S/9z/FAACAAQA/v/5/97/BQD+/9j/7f/z//D/1v/s/9v/wv/N/+z/6P/Q/+v/DQD6/8//0v/G/8H/5f8QACEA8v/r/+3/2f/t/+T/u/+n/8L/6v/r//3/DgALAND/yP/q/87/4//M/w8AEwDw/ycA/P8bAAcAAAAYAO3/EAAMAP//BAADABgAFgD1/+z/HgAKAAgADwAOADAAJAA6ADwAIAAKAAgAMgAnACgAOQBHAF8AMgAlAAwA/v8jACgALgA/ADYAOwATACEAIwAIABcA+/8UAAMA+v8TABIADgD3/w4A+P/8/0QADAD9/xkAIwBLABoACwBCACEAIgBMACoAIwAGAAMADQDt//j/AAADAOv/6v8JAMb/sv/J/9n/xv+v/+X/2//w/+v/+v/4/9H/5f/G/+//+//9/wsA4P/g/8f/3f/p/7L/yv/P/+7/4v+i/+z/+v/d/+D/3P/p/8T/3v/9/9P/6//N/9z/KQD1/+//6P8LAAMA5P8hAO//+f/v//f/HQDg/w8A8/8KABQA5v8RAN3/4P/7/+z//f8BAOf/8/8PAPf/4P/g/+3/BAD3/wIAKwBOACcAGwAcADQAJQDe/1YAPAABACYACwAoAAQAAwAhAPL/1v/5//7/6/8FAPz/DQAZAAcAFgAAACAAIQAIABoAHgAsAAkAKABDACwAGQAQACMADAAcACAAMAAzABMAIQAaAPH/EAAIAP//FQD6/xQA9v/1/xgADgAZAP7/9f/9/wAACwD0/wAAAAD4//n/BQDq//L/HwAvACoABAAdAOP/FABBADYASgDx/+7/9P8OACUA6//2/wAA+v8FAO7////u/8z/6//+//b//P83ADMAEgAWAPX/KgApABQAGQD2/xUA8v8UACsAEgAKAMP/DgD5/9f/3//o//r/4v8PAA4ACQAKAAQAEQAZAPj/DgDs/+//KQAGABYAGAANAC0AAgAbADkAHAAGAAcAQgAcACMAKgBNADsAHwA1AAcADwDY//r/GwASACEAFgBHACcAJQAfAPn/GgARABgALAAlADYAJQA1AGMANQAbACwABQAUABMASgBEAA0AUQBGADEA+f8cABsA1/8iADkANgAVADAAYwAaAA4AMgAdAPr/CAAzAD0AMAA9AEMALAAmABkAHwASAAAAGgAuACcABAAeABkAHwAYAAYAGADl//v//f8XAAIA9/8xABwAKAAeACEAGwABAB4A7v/b/wwAKwA+ABAAJwAoAO7/+f8QACQAAwDA//b/8v/U/wkA/v8lAO//6f8bAP3/DgDd/xAAIgD2/xUAJAAeAOv/BgAaAPD/BQDw/+7/4v/T/w0A/P/d/+3/7v/m/8z/6//p/6//4v+5/8v/DQD9/yoA5P/Z/+r/8P8cAPX/8//m/wAAJgAbABQA/v/S/+P/9P/r/+T/0//4/9b/2f/v/+P/9P/W/xgAGwDI//j/9f8bAAkACgAyAA4AKwAtABkA8f8LACAAEQAdABQAAwDp/yIAQwAVABoAIQAjABoAEQAXAAcADgAlACQAJABPAGEAMAAtACIAGwAoAC0AWABeADsALABZAFcARQBgACcA5P8KADoALABDADoAHgAiAOf/JgAYAOP/FAABABMA/P9GAHUABAA8AC4A9P/8//X/OQD7/ycAWAA9AFwAEAAZABQA9v86AAMA/f86AEQASwAYADgAMQANACYADQACAAoABwAYABUACQAXAB8A/P/a//z/5//N//f//P/3//f/AQAcAAIAHABJABQA8f///xMACwAJAEUAPAAZAN//wv/p/8f/+v/1/7L/0P/0/x8AHwAQAOb/CgAkACUA8/+5/wAAFwAZANT/5v/r/6//7P///woA1v/F/wYA2v8EAOb/6P8ZAPn/GwDl/y8ABQCz/xgAGQAsAO//5v8qAPn/FgA5ABMA4P/n/0cAQAAIAPr/5P/z/w4ACQAWAP3/DwAiAAEAIwBPADkA8f/p/wUAEwAGAAcALwBHADEAHgAbAPH/8/8vAAkAAgBJAF4AbgBjAD0AEAD+/y0ASwD7//H/CAD+/yUARABfAPv/AAAyAOf/4f/3/zIA+v/t/ysA7v8GAB8ASgAxAOz/FQDc/9D/+P85AHQAIwArACAA7v8lABYA8f/S/9v/7v/c/+P/9v8JAOT/4f8SACsAAgDd/9z/6f/1/8v/2P/d/6v/xP/1/xMA4P+6/9X/lf+k/+P/9P8aACEAPgD4//P/IAC6/7j/uP+T/8H/+v8WADEA+P/p/9P/l//f/wIABQDf//b/MQDZ/9P/AgD0/+D/xf/u/9r/5v8wAAwAOQDj/3b/rP/Y/wgA2v8XADIAAwAEAKf/5/8BAOL/MwAuADAABgDp/xEAIQA8AB8AKQA1AAcA/v8dAE8ARAATAAwA0f+1//f/NQBXACkAEAAGAP//3P/V/xkAVgBYACcAKgA5APv/7/81AHYALADH/xoANgBJAFYAMQAyAO3/7/8IABAAbQBQACoALwAaAC4AAgABAPT/6f8UAAcAOwBeADIAAQDE/8T/1f/E/8T/5f8AAP3/IgBDADAAFAD9/+n/3f/3/xUA///W/8n///8DAOH/1v+l/5n/jv/D//f/+P/6/+P/2v++/9n/8P/T/9r/+//p/7D/xP/m/woADQDY/7H/qf/k/yIAJwApAPr/xP/1/wsA7f/X/+b/HwAtACcANAASAPL/2P/r//3/+/9AACwA7//h/yIAMwAMABAAAQDl/8P/BwBSAFUATwAuAOb/zP/q//z/DgACAAoADAD4/wQAAwD4//T/6f/Y/9H/6//5//D/DAAgABEA9//4//j/+/8KABgAEAD3/+//4f/g/9j/3P/9/xQALAAGANn/yf/J/9X/2v8HABUA+f8AABgAHgAJAPr/7v/Y/+D/+v8mACgABwD0/9f/0P/R/83/tP+u/87/4v8GAPz/7v/4/9//0f/E/8b/v/+1/9T/5P/m//z/IQATANj/zP/I/7v/wP/d/xQALwAxAC0AEwDt/9n/2f/T/9b/AAAjACQAMQAkAPj/2P/G/8D/0//5/wUABQDy//P/HgAbAPz//f/5//H/8//3/xAAEQD3/+P/5v/4//j/+//z/+7/7P/1/wEA6//P/67/n/+n/63/t//N/8j/rv+y/8n/zf/L/93/5f/O/73/1v/Y/8r/3v/b/9j/1//U/93/2//M/6P/kP+X/6f/wP/P/+n/9P/Z/8L/sP+Y/4z/qf/G/+T/6f/b/+//zv+b/4b/n//N/+7/EwAcAPz/7//4/9r/qf+h/8P/zf/h/xwALQABANL/yP+4/6r/3v/8/wUADAAFAAYA3v/R/9z/1v/3/w4AHQAmABcACgDs/+j/5//g/+//7v/0/wQADwAIAOb/z//T/9L/0v/g/wUAFwABAAUABgACAAUADQAQAP7//P/1//f/8/8IAC8A+f/o/+3/4P/5/+3/9P/y/9T/4P/0/wkA/f/4//X/0//V/9r/5//v//7/CwD7////CAALAPz/1v/D/8b/zf/Z/wAAJQArADEAHQDz/+D/yP/I/+j/6v/u/wMAEwALAPf/+f/y/+X/3P/h//b/6v/e//H/BwAUABEACQD1/9j/xP/A/8j/3P/w//n/DgASAAUA/f/h/9L/1v/a/9v/5P/w//L//f8BAPz/6//a/9T/yv/N/+P/8//l/+D/9f///wQADAATAAUA8f/s//n/+v/9/wkAAgAIAA0AEAD///j/6v/k/+//4//+/wUACwAiABMAGwAWAP7/8f/f/+P/3P/l//X/BQAKAAQA8f/o//D/3P/b/+X/+v/9/wUAEgAVAAMA3P/V/8//0P/a/+3////5//j/6f/P/8j/vv/G/9j/3v/n/+b/4//i/+j/8//w/+//6//m//L/7P/d/9z/2P/Z/8j/r/+v/6r/pf+l/5//pf+g/6D/uf/S/9f/2//U/8T/yv/D/7//zP/f/+r/4P/Q/8n/0v/T/9D/0P/M/9X/0//H/8j/xf/N/9P/yP/D/7//wP+//67/sv+q/6b/vv/G/8//3P/l/97/y//C/8X/xv/G/9b/4f/e/9v/3P/Y/9j/4//d/9j/2v/U/8n/zf/W/9n/0P/H/8n/vv/B/8r/z//a/97/2//c/9v/5f/x/+r/8P/s/93/4f/q/+v/5//q//H/8v/w/+v/5P/f/9P/zP/L/8v/zv/W/93/x/+1/7b/uv/K/83/2f/p/+n/4v/e/+b/3f/Q/8//1P/U/9j/2P/T/9f/3//h/9f/0P/U/9n/4P/p/+//+v/2/+v/6P/x//j/+v8DAAcABQD8//j/7//r/+P/5P/v/+3/+P/w//D/8//m/+T/5//l/+X/7P/n/+f/7P/m/+P/3//b/9r/2f/W/9T/3//n/+v/6v/h/97/4P/j/+P/6//v/+T/4//n/9//2f/W/9r/3//Y/9T/x//I/8//y//Q/8r/zP/J/8f/0v/M/83/0//Z/9r/0v/U/9j/3v/g/+X/5//i/+P/4//u//n/AQD8//X/+v/9/wQA+//0//b/9//7//z/+f/5///////8//3/AAAAAAoAEQAIAA4AEwAHAAIABgAHAAIAAgACAAIA/f/w//X/9//4//r/7//x/+z/4f/m/+X/6P/k/9r/1//V/+L/3f/W/9b/2v/f/9v/3P/c/9b/z//R/9P/zv/O/8j/v//E/9D/1P/T/9//3//U/9H/1//W/9j/3f/a/+P/4P/g/+P/1f/e/+X/2f/c/9z/4//o/+f/9v/0/+r/6//m/+j/7P/x//j/9v/9//v/8f/1//H/7v/2//X/8//x/+//6v/i/+j/7P/t//T/9P/u/+j/5P/o/+3/9v/2//L/+v/8//n/7//y//3//v/y/+v/6P/g/93/2//f/+P/7f/w/+7/8P/r/+r/7P/s/+j/5f/h/9z/4//h/9//3f/X/9//5P/v//j/7f/j/9n/3P/f/9f/4f/a/8//1f/L/8T/xf/D/8n/zv/J/8L/y//T/9j/2//i/+b/6v/q/+z/9//y//P/9f/j/9n/0f/G/8v/zf/Y/9n/1f/X/9T/z//H/8b/xP/G/8j/y//b/+r/6v/v/+7/5P/g/9v/3v/p/+7/+P8FAA4ACwACAP3/AAD///v/CAAJAAUABwADAP7//P/7//H/8f/2//D/8v/v/+7/8f/u//H/8f/w//r////5//L/9/8BAAgABAAHAAQAAAD///7/BgAAAP3//P/5//L/6f/r//H/8//0//z//v/5//j/9f/y//X/9//4//j/9P/6/wMACAAOAAkABQAHAAQA+v/y/+z/5v/k/9//3P/d/9r/2f/b/9b/0f/P/9H/0f/d/+H/2//e/+L/4//V/9D/0v/N/9D/1v/b/+D/5P/k/+z/7P/l/+D/5P/j/9r/4P/m/+T/5f/r/+P/4//m/+z/+P/0//X/8P/v//L/9P/4//7/AQAGAAcADQAUABUAGQAXABwAFgAVABUACQASABcADgALAAkABwAIAAcADQAPAA8AEgAMAAgACwAPAAoACwATAAkAAgAAAPr//P/+/wgADQAPAA8ABgAEAAoACwAHAA0ADgAOAAwACgAOAAkABQACAP///v/8//z///8HAAoABAABAPv//v/9//T//f/6//n//////woACgAEAAMAAgAIAAkABQAFAAIABQADAP3/9//v//H/8P/n/+D/6P/k/+b/5f/V/9z/1//d/+z/7v/z//b/9v/w//L/9//0/+7/8P/z//L/8P/m/93/4//o/+j/4f/c/+H/4//b/9b/2v/Z/9//3v/e/9//2v/d/+P/4P/d/+D/5//o/97/3v/e/9j/3v/i/+f/7f/x//b//P/4//j/+//z//X/7f/q/+v/5//r//P/9//8////9P/4//b/7//z//T//P8GAAMAAwAMAAgACAAMAAIA+v/6//j/8//w//L/7//s/+b/4P/i/+T/4v/l/+7/7P/t/+3/7P/0//b/+P/5//n/+//9//z/+v/0//X/9f/1//T/7P/g/9j/4v/k/+H/6P/q/+f/5v/l/+z/7f/l/+n/5//i/+H/2P/d/9z/1v/a/9b/1v/U/9n/4P/i/+j/6P/o/+j/5//m/+D/3v/b/9n/2f/Q/9X/3P/f/9//1v/U/9D/y//F/8f/zf/J/8j/yf/I/83/1v/T/9f/1v/Y/9b/zf/T/9X/1//W/9//5P/j/+7/7//v//T/+P/7/wAAAQABAAUABgALABIAFAAPAAwACAAGAA4ADQAPABUAFAASAAwABwD7//z/+//z//z/AQACAP3/+f8AAAIA/////wAABwAEAAYADQAQABMAEAAMAP//+//4//3/DAALAAkACgAIAA8AEgAKAAcA/P/8/wAA+v/5//X/+f/9//f/9P/0//T/8v/5//v/8v/z/+3/7P/u/+7/7f/u//D/6//3//b/8//4//j//P/6//r/+f////3/8//z//L/8P/m/97/1v/W/9X/zf/L/8r/zv/H/8L/vv+7/8H/xP/P/9n/2P/V/9j/2f/j/+T/4//z//T/8f/y//T/6//l/+n/4//g/97/3P/e/+P/7f/q/+L/4P/a/93/4f/f/+P/8P/2//b/9v/0//n/+f/1//z//f8BAAgABAD8//3////2//P/9//y/+n/4P/j/9n/0v/O/87/2//b/93/4f/n/+r/8P/0//r//P/1//D/9f/4//X/+P/u/+//+v/2//D/6P/e/97/2f/V/9H/y//O/83/zf/K/9H/0//R/9f/1f/a/9r/2//f/93/3//p//P/9P/w//H/7v/s//D/8//4//X/7//u/+X/4v/l/9z/1//V/83/0f/V/9T/2f/a/9z/4P/e/+T/5P/e/93/3P/l/+b/6P/p/+b/5f/i/+j/7v/z//P/9f/4//X/9f/3//z/9v/w/+//7//w//D/9//7//n/+////wgAFAAVABoAHQAdACcAJQAsAC0ALAAtAB4AIwApACQAHwAhAB4AGQAVABIAEgARABoAGQAaABwAGAAdACAAJQAgACAAJwAgAB8AHQAbAB0AGAAXABMADQATABYAFAAPAAYACQAIAAIAAwACAAIABAAEAAYADAAMAA8AEgAMAAYAAQD9//v//f8HAAgADQAQAAsAEQAPAA4AEAAOABEAEgAUABMAGAAdACMAIAAbACEAIwAgABsAGwAfACMALAAzAC0ALgAmACUALQAiAB4AHwAZABkAGQAjAC0AIwAiACMAGAAZABsAIQAkACMAIQAYABgAEAANABIADwAQABUAGQASABIAFAARABgAGAAfACUAJgAuACUAGwAVAA8AFQAeACEAIwAnACAAHQAaAA4AEwAMAP7/+//y//T/+P/6//r/9v/3//n///////r/AAABAAUACAAAAAEABQAFAAQABQABAAYAAQD//wQAAwANAAgAAwAEAAEA+f/x/+z/4v/b/9X/1P/V/8//zP/M/9T/1v/a/93/2P/f/+T/6f/0/+//9f/1//j/+f/w//T/9//8//X/7v/k/+D/5v/e/9f/0f/M/9T/z//M/9T/1//d/97/4f/n/+z/7P/3////BQAFAAcADAAKABAADQALAA0ACgAHABEAGQAUABsAFwAMAAoABwAJAA0AEQAPAAsADgAUAA4ACAAUAA4ACAAMAAMACwARABUAHwAhAB8AGgAfABwAGQAXABkAHAAfACUAHwAbABMAFAAdABUAFgAQAAcADgARAAwAEgAdAB4AHwAdABcAFwAYABsAIQAfACEAKwA0ADUAMgAvACkAIgAdABYAGQAfABwAHAAfAB4AEwAIAAkABgD8//n//P/3//b/AwD/////BQACAAQABAAFAAcABgAHAAEAAQD+//z/AwAFAAgABQAFAP3/9///////+P/6//v//P8CAAEAAwACAAEAAgAIABYAGgAXABEAFQAZABYAHQAdABoAHwAeAB4AIQAfACIALgArACEAKAAmACMAJAAfAB4AIAAhACMAKgAoACMAIgAdABgAGAAgACAAHAAeABwAHAAfACAAIwApAC0AMQAxACgAKwAuACcAJQAbABUAFQAZABgAGQAeABsAGQAUABMAEAATABYAFQAYABYAGQAeAC8AMwAxADUANAA3ADQAKwAhABkAGAAeABcAEwAQAAUABQAFAAIAAwABAAUACQD///r//P8FAAgACAAHAAMABQANABAACwAVABEACwANAAUAAAD5//T/+P/5//r/8v/o/+v/7v/x/+n/6P/g/9L/1f/Z/9r/3P/g/9//4v/n/+L/4v/p//P/9//5////BgADAP3/AQADAAcABwAHAAYA/v8BAAQAAQAFAAQADQALABEAGgAZACAAHwAoAC8ANgA5ADcAMgA1AD4AOwA6ADwAOAAuAC8AMgAvADIALwAnACsAHwAVABkAHgAfABgAEAAMAAgACAAFAAYADAAKABAAEwAVABcAFQARAA8AFwAiAC0AMQAtACYAIgAjAB4AGwAYABIAGAAWAA4ABAADABMADwALAA0ACwAIAAUABQD///j/+f/7//7/AwABAAYAAgAFAAoACAANAAsAEQAVABgAIQAgACYALQAlACAAHwAhACUAIwAjACwANAAzAC0AKQAjABwAIwAkABoAGwAZABgAGwAYABEABwAGAAkACwARABEAEAANAAMAAwAJAA4ADwARAA0ABQABAAQACQAEAAAAAQD8//3/BgAFAAcACAAJAAYACQAPAAsAAgD5//v/AAD6//f////9////AwAHAAoACwAOAA4ACwAGAAgABgAEAAcACwAJAAYABQACAAcADgAOABAAEQAPABMAGQARAA0AEQAUABMAEgARABYAFQASAA8ADQAWABgAFgAUABcAFAAKAAgACgAPABQAFwAXABkAGwAXABoAGwAXABsAIAAgABkAHAAcABYAHgAZABcAIAAkAB8AGQAaABkAFgASABMAEgAMAAQA/f/9//3/AQABAPz//v/4//b/AQACAAQAEAAVABoAIgAnACgAJAAgABwAHgAdABsAHgAcABcAEQAMAAwADAAHAAYABwAFAAoACwAIABAAFwAeACQAJgAtAC4AKgAmACgAJQAjACUAIwAhAB0AHAAdAB4AFgAXABQADwAMAAEABQAGAAQACAAJAAkACAADAAYABgAJAA4AEAAdAB4AGAAfACAAGwAdABgAGgAZABgAHQARABAAFAANAAoABgAAAAIABQAFAAUA///y//T//v/+/wIABgAEAAgACgAIAAkACAAGAAUADgAVABsAHAATABUAGAASABcAHgAWABEADgABAAUACwAOAA8ACgAOAA4ACgANABMAGQAkACoALQAwACsAKgAtACwAIwAcAB8AIgAhACAAIAAXABEAEAAGAAYADQAPABUAFwAUABAADAAHAAcAEAAVABwAHAAaABwAHgAbABsAGgAWABcAFQAMAAcADQAHAAAAAAADAAYAAwACAAUACQAKAAMABwADAAAAAwD///j/9f/6//D/+f/+////CwAKABEAFQARABkAIgAkACEAHwAcABkAFQATABQADwAUABYAEwAWAB4AGgAaABgADwALAAYABwAFAAoADwAPABAADwAQAAsABgAFAAoABQALAA0ACAANAA4AFAASABQAFgAWAA8ABgADAP3//v///wAAAQD8//n//P8BAP///v/5//r/AQD+//3//v8DAAIABQAMAAcACQAIAA0AFgAPABQAEAAFAAcABgAFAAQACAAIAAsADgAPABEACQABAAMACgALABIAGQAYABkAEAAKABQAGQAaAB0AGwAaACAAJgAjACQALAA2ADAALwA2ADQAMwAyADMAMAAtACoAKwAyAC4ALgAtACQALAAlACMALgAsADIAMAAyADIAMgA2ADYAOAA0ADcAOAAyAC4AKQApACwALAAkABsAGQAYABoAFAAVAA8ADQAWABMAFwAWABIADgALABAADwANAA4ACQAEAAcACAANAAwACgAKAAMABQAKAAYAAwD6//L/+f/2//P/9P/y//H/8v/0//f/+f/4//T//f///wEACQADAAcABwAEAAgABwAOABAACwAHAAUABwAGAPj/9P/5//X/+//5//T/9P/y//H/9P/5//f//f8EAAAACgASABcAFgAWABMACQAFAAIACAAHAAYAAgABAAAAAQD4/+n/8P/3//X//P////b/9//y//H/9P/v//L/8//x/+v/5f/k/+T/6P/p/+3/6//x//n/9P/2//T/9f/6//v/AQAAAPn/9f/5//f/5f/e/97/4P/o/+n/5//u//n//P/6//r//v/8//7////9//z/+//+/////////wkACQAEAAEA/P/8//v/+P/3/////f/4/wEA/P/2//n/+/8EAAUABAADAP//AwAAAAIA+//6//j/9/8BAP3/BwAJAAoADAAEAAwADAANAA4ADwATABIAEAAGAAgABgD+//7/AAAGAAcABwAAAPr//f/+/wgAEgASABcAGgAbACAAHgAYABwAHAASAAwADwAFAAQAEAANAAwACgALAA0ADwAGAP3/AgD///v//v/9//z///8HAAcAAgAKAA8AEgAXACAAIgAZABgAFgAVAAwADwATABIAEAAOABAADgAQAAUA/P/9//v///8AAAEAAQDy//b/+v/r//H/+//8/wEABgAIAAcACAACAAIABQD//wUACgAHAAUACAANAAYABQAGAAYAAwAIAAUAAgAKAAgACQAHAAgADwAPABQAGgAaACEAIwApACwAIgAiACMAJgAmAB4AJAAkACEAHgASAA0ABgAMAA8AEQASAAsAEAAHAAIA/f/6/wMABgAFABMAGgAaABwAJAApAB8AJwAwADQANQA1ACoAGgAXABoAHQAeABgADgARAAsAAwALAAoAAAD9//7/9//z//f//P8CAAIACAAMAAgABgAFAAkACQAHAAcAAwAHAAgABQAGAAcABgAAAAcACgAEAAgAAwD5//L/6//w//T/+f/+/wIABAD//wAAAAD6//7/AQAFAA0ACwAFAAUABQAFAAMA/v8AAP///P/9//j/9//3//D/8v/y//L//f/2//H/8v/2//n/9//8//3/AAAHAAoADAAMAA4AFQASAAoACgAMAAkADgAQAA8AFQAPABYAHAAVABUAHAAfACQALAArACcAKAAqACsANQA0ADYANwA1ADQALgAqAC0AMgA0ADsAOwA6ADwAOQArACwANQApACoAKQAlACoAHgATABEADwAQAA8ADgAPABgAFQAaACAAGQAfACUAIQAjACoAKQAwADAAMgA3ADcAOwAwACkAJQAjACoAKwAqACUAKQAqACAAHAAdACAAIQAjAB8AHAAdABgAEgAUABoAFwASABAAGgAeABgAIAAhACMAJwAjACUAJwAmACQAGwAYABwAGQAcABkAEAAJAAcACgAIAAQADgAPAA0AEwAQABEAGQAaABUAGQAXACAAKgAoACoAJgArACsAJgAnADAAMQAsADAALgAvACYAIgAqADAALwAjACoAKwAuADYALwAtAC8AMgAxADMAOgA3AD4ARAA8ADYAMAArACoAIgAdACQAHAAgACYAHgAiABsAEwAGAAAABgAHAAoACgAQABMAEQAPAAcACAAMAA4AEgAVABgAHQAXABcAHwAgABsAGwAkACYAKAAuACcAJgAtACsAKgAlAB4AHQAWAA0AEQASABMAGwAbABsAHQAdAB4AHQAgABsAFQAcAB8AHwAcABoAGwAbABsAGwAmACgAHwAZABgAGQALAAMACQAMABEADAANABUAGAAWABIAFAAWABsAFwAWABUACgALAAsAFgAYABIAFgAVABMAEwAPAAgACAACAAEABQADAAQA/f/5//n/9v/6//z//v8IAAwACwAPAAwAFQAWAA4AFgAZAB4AIAAZABgAGgAbAB8AJgAqACYAJAAkACMAGgAYAB8AIAAhACkALgAtACwALQAvADQAOQA1ADIAMQApAC8ANwA7AEMAPQA5ADUAMQAyAC4ALwAvAC0AMAA1ADAAJwAoACwAKwAuACoAHAAnAC4AKQAvAC4ALwArADQANQAtADcAOAA4ADUAMAAyADoAOwA5ADUALwAwACkAJQAjACYAKAAlACMAIgAbABAADgAJAAgABQAHABMADgAIAAcABwAHAAoAEgAbABgAFgAgABoAGAAbABYAHAAZABMAFgAPAAwABgAFAAEA+v/8//r/+f/4//v//v8DAAkADgAUABIAFgAdABsAGwAfACAAKQAuACoAKAAoAC8ANwA4ADQANQAyAC8ALwAuAC8ALAArACMAHgAhABwAGwAiACgAJgAtADYAMAAxADcAPQA9AD0ARgBJAEgATgBRAEsARgBCAEIAQQA/AD8AOAA0AC4AKAAoACoAKQAfABkAFAAaACQAHAAYAA8ADwAVABYAFwAUABcAEwAUABoAGgAeABUADAAOAAkACgAOAA0ABwAEAAMAAgAFAA0ADgAPAA4ADQANAAgADAAQAA0AEgAdACMAIwAmACoAKAAlACEAIgAeAB0AGgANAAcABAABAP3///8DAAMABwAHAAIAAQD7//z/+//y//P/8P/q/+z/8f/x//X//////wEABQADAAUACAAKAAwACAAIAAwABwD///n//v8EAAMACgAMAAkACAANAAYAAgAFAAIAAQD9/wMABgAIAA4AEAAYABkAHwAhACAAIwAiAB8AGAAaACAAIAAjACcAJwAqACgAKAAnACAAIwAfABcAEwAUABgAGAAaACAAIAAbAB0AFwAWABUAEwAVABMAFwAYABYAFAARAAwAAgAGAAwABwAJAAgAAwADAPr/8//u/+n/6v/o/+3/6//l/+j/7P/w//D/8P/5////CAANAAYACwAIAAsAEQATABMACwAKAAcABwAAAAEABwABAP///f/9//3///8AAAAA+//4//n/+//7//v///8FAAcACgAKAAkACwADAP7//v/7//z/+v/4//b/7//x//T/8f/z//j/+P/4//b/8v/w/+P/4P/n/+X/8P/3/+3/7v/u/+//8//z//j/+//9//v/+f/7//z/9v/v/+P/2P/a/97/3f/X/9T/0//Y/9z/2v/Y/9f/4f/t//H/9//1//n/AQADAAYACQAKAA8AEAAQAA4ADQARABQADwAMABEADAATABUADAAKAAYABQACAAEA//8DAAoAEwAWABcAGAAYABgAGwAfACAAHQAhACcAKAAwADIAMgAzADYANAAoACkAIAAaACAAFgAWABYAEwAVABoAHAAbABMADQAQAAsACQAGAAYABgACAAEA//8AAAEAAwAFAAQADAASABYAFwASABIACwAHAP7/+f/6//f/+//z//j//v/4//r//f/3//L/+f/6//f/+v/y//H/8//n/+z/7P/u//L/7v/3//X/7//t/97/2P/Y/9b/3v/j/9//3v/a/9r/0v/J/8j/xv/H/8v/zf/K/8v/zf/Q/9z/3//i/+P/5//k/9r/5P/k/+z/8P/t/+z/5v/w//H/6//l/+T/3f/Q/9X/2f/Y/9b/2//X/9P/3//b/93/5v/m/+X/5//v//L/9P/w/+7/+//z//f////4//f/9f/z/+7/8f/q/+X/6P/k/+L/5P/g/+X/7f/p/+r/5//n/+j/8//1/+f/5//c/93/4//m//H//P8EAAUADQARAA8ACAD///7//P/3//f/9//z//D/8P/o/9z/4v/n/+7/6f/c/9z/0//T/9L/z//R/87/0P/R/9L/2P/Y/9n/4P/X/9P/2f/S/9f/3P/Z/97/3v/g/97/0//T/93/3f/T/8v/y//V/9b/z//P/9X/2//a/9r/3//i/+H/4v/o/+D/2v/e/+D/3f/Y/93/3f/f/+X/4v/k/+H/2//g/+j/7f/z/+7/6v/h/+D/5v/m/+//9v/+/wcAAwADAAEAAAAJAAAAAQANAA8ADQAMABMADAAFAAUACwAIAAEABQD+//f//f8DAP3/+P/7/wEAAgAGAAgACgAJAAcADQAFAPf/9P/3//3/+v8AAP7/+P/8//f/9v/8/wIADAAKAAkABgD6//n///8GAAcACQANAA8AFQAOAAoADAATABYAGAAWABEAFwAXABgAGQAXABcAFQAPAA4AEgARABEAEwAKAAEAAQD5//r/AAD4/wAA///+/wMA+v/8//7///8HAAwACgACAAQACAADAPz/AAADAAMAAgD8//v/8//u/+7/6//v/+3/8f/y/+//6f/d/9n/0//W/9f/1f/T/9D/1P/V/9T/1f/V/9r/3f/V/9n/1v/T/97/4f/g/9v/5v/o/9//4P/Y/8//y//I/8b/vv+3/7X/uP+9/77/wf/C/8z/zv/K/9L/zP/K/9H/zf/M/9f/2//V/9T/0//g/+L/3v/e/9n/0//N/87/y//I/8j/yf/N/8//zv/L/8b/wP/D/8L/wf/A/7v/v//D/8L/w//J/9H/1v/X/93/2f/b/+j/5f/q/+T/4f/r/+T/5P/n/+n/7f/2//z/+P/3//b/8f/y//H/6v/u//P/9//5//j/+/8AAP7/+//8//7/BAAOAA8ADwATAA8ABQABAP///P/s/+T/2v/Q/9T/0//U/9X/0//S/8//0f/N/9P/2//X/9r/3P/a/9f/2//W/w==\" type=\"audio/x-wav\" />\n",
       "                    Your browser does not support the audio element.\n",
       "                </audio>\n",
       "              "
      ],
      "text/plain": [
       "<IPython.lib.display.Audio object>"
      ]
     },
     "metadata": {},
     "output_type": "display_data"
    },
    {
     "data": {
      "image/png": "[encoded data removed]",
      "text/plain": [
       "<matplotlib.figure.Figure at 0x7f3e20c422e8>"
      ]
     },
     "metadata": {},
     "output_type": "display_data"
    },
    {
     "name": "stdout",
     "output_type": "stream",
     "text": [
      "(98, 80)\n"
     ]
    },
    {
     "data": {
      "text/html": [
       "\n",
       "                <audio controls=\"controls\" autoplay=\"autoplay\">\n",
       "                    <source src=\"data:audio/x-wav;base64,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\" type=\"audio/x-wav\" />\n",
       "                    Your browser does not support the audio element.\n",
       "                </audio>\n",
       "              "
      ],
      "text/plain": [
       "<IPython.lib.display.Audio object>"
      ]
     },
     "metadata": {},
     "output_type": "display_data"
    },
    {
     "data": {
      "image/png": "[encoded data removed]",
      "text/plain": [
       "<matplotlib.figure.Figure at 0x7f3e209d93c8>"
      ]
     },
     "metadata": {},
     "output_type": "display_data"
    },
    {
     "name": "stdout",
     "output_type": "stream",
     "text": [
      "(98, 80)\n"
     ]
    },
    {
     "data": {
      "text/html": [
       "\n",
       "                <audio controls=\"controls\" autoplay=\"autoplay\">\n",
       "                    <source src=\"data:audio/x-wav;base64,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\" type=\"audio/x-wav\" />\n",
       "                    Your browser does not support the audio element.\n",
       "                </audio>\n",
       "              "
      ],
      "text/plain": [
       "<IPython.lib.display.Audio object>"
      ]
     },
     "metadata": {},
     "output_type": "display_data"
    }
   ],
   "source": [
    "train_fns = sorted(glob('data/train/audio/*/*.wav'))\n",
    "np.random.shuffle(train_fns)\n",
    "disp_count = 0\n",
    "with tf.Session() as sess:\n",
    "    for fn in train_fns:\n",
    "        if disp_count > 5:\n",
    "            break\n",
    "        label = fn.split('/')[-2]\n",
    "        if label == 'off':\n",
    "            rate, data = wf.read(fn)\n",
    "            data = np.float32(data) / 32767\n",
    "            data = pad_crop(data)\n",
    "            data = data.reshape((1, -1))\n",
    "            mfcc_val = sess.run(mfccs, {pcm: data}).squeeze()\n",
    "            # mfcc_val = (mfcc_val - mfcc_val.mean())\n",
    "            mfcc_val = np.clip(mfcc_val, -1.0, 1.0)\n",
    "            plt.imshow(mfcc_val.T)\n",
    "            plt.colorbar()\n",
    "            plt.show()\n",
    "            print(mfcc_val.shape)\n",
    "            disp_count += 1\n",
    "            display(Audio(fn, autoplay=True))\n",
    "            sleep(1)"
   ]
  },
  {
   "cell_type": "code",
   "execution_count": null,
   "metadata": {},
   "outputs": [],
   "source": []
  },
  {
   "cell_type": "code",
   "execution_count": null,
   "metadata": {},
   "outputs": [],
   "source": []
  }
 ],
 "metadata": {
  "kernelspec": {
   "display_name": "Python 3",
   "language": "python",
   "name": "python3"
  },
  "language_info": {
   "codemirror_mode": {
    "name": "ipython",
    "version": 3
   },
   "file_extension": ".py",
   "mimetype": "text/x-python",
   "name": "python",
   "nbconvert_exporter": "python",
   "pygments_lexer": "ipython3",
   "version": "3.5.2"
  }
 },
 "nbformat": 4,
 "nbformat_minor": 2
}
