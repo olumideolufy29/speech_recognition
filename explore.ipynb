{
 "cells": [
  {
   "cell_type": "code",
   "execution_count": 3,
   "metadata": {},
   "outputs": [],
   "source": [
    "# %matplotlib inline\n",
    "%matplotlib notebook\n",
    "from IPython.display import Audio, display\n",
    "import pandas as pd\n",
    "from matplotlib import pyplot as plt\n",
    "import librosa as lr\n",
    "import numpy as np\n",
    "import os\n",
    "from shutil import copy, rmtree\n",
    "from os.path import join as jp\n",
    "from tqdm import tqdm\n",
    "import pickle\n",
    "from scipy.io import wavfile as wf\n",
    "from time import time, sleep\n",
    "from input_data import prepare_words_list\n",
    "from glob import glob\n",
    "import hashlib\n",
    "from classes import get_classes, get_int2label, get_label2int\n",
    "from keras.layers import Input, Lambda\n",
    "from model import prepare_model_settings, relu6, overlapping_time_slice_stack\n",
    "from keras.applications.mobilenet import DepthwiseConv2D\n",
    "from keras.models import Model\n",
    "from keras import backend as K\n",
    "import tensorflow as tf\n",
    "from tensorflow.contrib.framework.python.ops import audio_ops as contrib_audio\n",
    "from tensorflow.python.ops import io_ops\n",
    "from keras.layers import Input, Conv1D, Reshape\n",
    "from keras.models import Model, load_model\n",
    "\n",
    "def my_load_model(fn):\n",
    "    return load_model(fn, {'relu6': relu6, 'DepthwiseConv2D': DepthwiseConv2D,\n",
    "                           'overlapping_time_slice_stack': overlapping_time_slice_stack})\n",
    "\n",
    "def pad_crop(data, desired_size=16000):\n",
    "    data_len = len(data)\n",
    "    if data_len < desired_size:\n",
    "        missing = desired_size - data_len\n",
    "        data = np.pad(data, (missing, 0), mode='constant')\n",
    "    else:\n",
    "        data = data[:desired_size]\n",
    "    return data\n",
    "\n",
    "def float_audio(x, sample_rate=16000, autoplay=False):\n",
    "    # avoid Audio normalizing the data\n",
    "    data = np.int16(x * 32768)\n",
    "    fn = '/tmp/%s.wav' % data[:5]\n",
    "    wf.write(fn, sample_rate, data)\n",
    "    display(Audio(filename=fn, rate=sample_rate, autoplay=autoplay))\n",
    "\n",
    "def plot_audio(data, sample_rate=16000, normed=False):\n",
    "    if not normed:\n",
    "        data = np.float32(data) / 32768\n",
    "    plt.figure()\n",
    "    plt.plot(np.arange(sample_rate), data)\n",
    "    plt.axis([0, sample_rate, -1, 1])\n",
    "    \n",
    "def center_pad(data, desired_size=16000):\n",
    "    missing = desired_size - len(data)\n",
    "    pad_left = missing // 2\n",
    "    pad_right = missing - pad_left\n",
    "    padded_data = np.pad(data, (pad_left, pad_right), mode='constant')\n",
    "    return padded_data\n",
    "\n",
    "def random_crop(data, desired_size=16000):\n",
    "    start = np.random.randint(len(data) - desired_size)\n",
    "    return data[start: start + desired_size]\n",
    "\n",
    "def normalized_read(fn, desired_size=16000):\n",
    "    rate, data = wf.read(fn)\n",
    "    data = np.float32(data) / 32768\n",
    "    assert rate == 16000\n",
    "    if len(data) < desired_size:\n",
    "        data = center_pad(data, desired_size=desired_size)\n",
    "    elif len(data) > desired_size:\n",
    "        data = random_crop(data, desired_size=desired_size)\n",
    "    return data\n",
    "\n",
    "def md5(fname):\n",
    "    hash_md5 = hashlib.md5()\n",
    "    with open(fname, \"rb\") as f:\n",
    "        for chunk in iter(lambda: f.read(4096), b\"\"):\n",
    "            hash_md5.update(chunk)\n",
    "    return hash_md5.hexdigest()"
   ]
  },
  {
   "cell_type": "raw",
   "metadata": {},
   "source": [
    "sub1 = pd.read_csv('submission_033b.csv')  # 87% PLB\n",
    "sub2 = pd.read_csv('submission_017.csv')  # 87% PLB\n",
    "sub3 = pd.read_csv('submission_018.csv')  # 86% PLB"
   ]
  },
  {
   "cell_type": "code",
   "execution_count": null,
   "metadata": {},
   "outputs": [],
   "source": [
    "# check where all three disagree\n",
    "unequal = ((sub1.label != sub2.label) & (sub1.label != sub3.label))\n",
    "print(\"%d of %d are unequal\" % (unequal.sum(), sub1.shape[0]))"
   ]
  },
  {
   "cell_type": "markdown",
   "metadata": {},
   "source": [
    "## Display where classifiers disagree\n",
    "These samples are acutally quite hard!"
   ]
  },
  {
   "cell_type": "code",
   "execution_count": null,
   "metadata": {},
   "outputs": [],
   "source": [
    "TEST_DIR = 'data/test/audio'\n",
    "disp_count = 0\n",
    "for i in range(len(unequal)):\n",
    "    if disp_count > 5:\n",
    "        break\n",
    "    if unequal[i] and np.random.rand() > 0.99:\n",
    "        fn = os.path.join(TEST_DIR, sub1.loc[i, 'fname'])\n",
    "        print(fn, ': ', sub1.loc[i, 'label'], \" vs \", sub2.loc[i, 'label'])\n",
    "        display(Audio(fn, autoplay=True))\n",
    "        sleep(1)\n",
    "        disp_count += 1"
   ]
  },
  {
   "cell_type": "code",
   "execution_count": null,
   "metadata": {},
   "outputs": [],
   "source": [
    "# save these \"hard\" ones\n",
    "for i in tqdm(range(len(unequal))):\n",
    "    if unequal[i]:\n",
    "        bn = sub1.loc[i, 'fname']\n",
    "        src_fn = os.path.join('data/test/audio', bn)\n",
    "        dst_fn = os.path.join('data/pseudo/audio/unknown', bn)\n",
    "        copy(src_fn, dst_fn)\n",
    "# when using as pseudo labels remove 'silence'! (e.g. ls *.wav | grep -v silence)"
   ]
  },
  {
   "cell_type": "markdown",
   "metadata": {},
   "source": [
    "## Show (predicted) test data distribution\n",
    "### Note that during training silence prob was 10%"
   ]
  },
  {
   "cell_type": "code",
   "execution_count": null,
   "metadata": {},
   "outputs": [],
   "source": [
    "def show_bar(submission):\n",
    "    counts = []\n",
    "    for label_name in submission.label.unique():\n",
    "        label_count = (submission.label == label_name).sum()\n",
    "        percent = (label_count / num_total) * 100.0\n",
    "        counts.append((label_name, percent))\n",
    "    print(counts)\n",
    "    plt.bar(range(len(counts)), [c[-1] for c in counts])\n",
    "    _ = plt.xticks(range(len(counts)), [c[0] for c in counts])\n",
    "    plt.grid('on')\n",
    "    plt.xlabel('Label names')\n",
    "    plt.ylabel('Precentage [%]')"
   ]
  },
  {
   "cell_type": "code",
   "execution_count": null,
   "metadata": {},
   "outputs": [],
   "source": [
    "show_bar(sub1)"
   ]
  },
  {
   "cell_type": "markdown",
   "metadata": {},
   "source": [
    "# Compress and decompress using mu-law"
   ]
  },
  {
   "cell_type": "code",
   "execution_count": null,
   "metadata": {},
   "outputs": [],
   "source": [
    "def load_wav(fn):\n",
    "    rate, data = wf.read(fn)\n",
    "    assert rate == 16000\n",
    "    data = data / 32768\n",
    "    missing = 16000 - len(data)\n",
    "    data = np.pad(data, (missing, 0), mode='constant')\n",
    "    return data\n",
    "\n",
    "\n",
    "def compress(x, mu=255):\n",
    "    assert x.min() >= -1 and x.max() <= 1\n",
    "    compressed = np.sign(x) * np.log10(1.0 + mu * np.abs(x)) / np.log10(1.0 + mu)\n",
    "    return compressed\n",
    "\n",
    "def decompress(x, mu=255):\n",
    "    assert x.min() >= -1 and x.max() <= 1\n",
    "    decompressed= np.sign(x) * (1.0 / mu) * (np.power(1.0 + x, np.abs(x)) - 1.0)\n",
    "    return decompressed"
   ]
  },
  {
   "cell_type": "code",
   "execution_count": null,
   "metadata": {},
   "outputs": [],
   "source": [
    "up_sample = load_wav('data/test/audio/clip_001204892.wav')\n",
    "float_audio(up_sample)\n",
    "c = compress(up_sample)\n",
    "d = decompress(c)\n",
    "float_audio(d)"
   ]
  },
  {
   "cell_type": "code",
   "execution_count": null,
   "metadata": {},
   "outputs": [],
   "source": [
    "display(Audio(data=np.int16(up_sample  * 32768), rate=16000))"
   ]
  },
  {
   "cell_type": "markdown",
   "metadata": {},
   "source": [
    "### Use average pooling to reduce signal size"
   ]
  },
  {
   "cell_type": "code",
   "execution_count": null,
   "metadata": {},
   "outputs": [],
   "source": [
    "from keras.models import Model\n",
    "from keras.layers import AveragePooling1D, Input, Reshape\n",
    "def avg_model(sample_rate=16000):\n",
    "    input_layer = Input([sample_rate])\n",
    "    x = input_layer\n",
    "    x = Reshape([-1, 1])(x)\n",
    "    x = AveragePooling1D(2)(x)\n",
    "    return Model(input_layer, x)\n",
    "\n",
    "model = avg_model()\n",
    "out = model.predict([up_sample.reshape((1, -1))]).squeeze()\n"
   ]
  },
  {
   "cell_type": "code",
   "execution_count": null,
   "metadata": {},
   "outputs": [],
   "source": [
    "plt.figure()\n",
    "plt.title('Orginal')\n",
    "plt.plot(up_sample)\n",
    "plt.figure()\n",
    "plt.title('Subsamples')\n",
    "plt.plot(out)"
   ]
  },
  {
   "cell_type": "code",
   "execution_count": null,
   "metadata": {},
   "outputs": [],
   "source": [
    "float_audio(out, sample_rate=len(out))"
   ]
  },
  {
   "cell_type": "markdown",
   "metadata": {},
   "source": [
    "# How is the padding handeled by decode_wav?"
   ]
  },
  {
   "cell_type": "code",
   "execution_count": null,
   "metadata": {},
   "outputs": [],
   "source": [
    "from tensorflow.contrib.framework.python.ops import audio_ops as contrib_audio\n",
    "from tensorflow.python.ops import io_ops\n",
    "\n",
    "wav_filename_placeholder = tf.placeholder(tf.string, [])\n",
    "wav_loader = io_ops.read_file(wav_filename_placeholder)\n",
    "wav_decoder = contrib_audio.decode_wav(\n",
    "    wav_loader, desired_channels=1)\n",
    "fns = sorted(glob('data/train/audio/go/*.wav'))\n",
    "short_fn = ''\n",
    "with tf.Session() as sess:\n",
    "    for fn in fns:\n",
    "        out = sess.run(wav_decoder.audio,\n",
    "                       {wav_filename_placeholder: fn_val})\n",
    "        if out.shape[0] != 16000:\n",
    "            short_fn = fn\n",
    "            print(fn)\n",
    "            break\n",
    "print(out.shape)"
   ]
  },
  {
   "cell_type": "code",
   "execution_count": null,
   "metadata": {},
   "outputs": [],
   "source": [
    "display(Audio(short_fn, autoplay=True))\n",
    "sleep(1)\n",
    "float_audio(out, autoplay=True)"
   ]
  },
  {
   "cell_type": "markdown",
   "metadata": {},
   "source": [
    "# Check how many samples are shorter than 1s"
   ]
  },
  {
   "cell_type": "code",
   "execution_count": null,
   "metadata": {},
   "outputs": [],
   "source": [
    "from glob import glob\n",
    "from tqdm import tqdm\n",
    "train_fns = sorted(glob('data/train/audio/*/*.wav'))"
   ]
  },
  {
   "cell_type": "code",
   "execution_count": null,
   "metadata": {},
   "outputs": [],
   "source": [
    "def load_wav(fn):\n",
    "    rate, data = wf.read(fn)\n",
    "    assert rate == 16000\n",
    "    return data"
   ]
  },
  {
   "cell_type": "markdown",
   "metadata": {},
   "source": [
    "short_count = 0\n",
    "for fn in tqdm(train_fns):\n",
    "    data = load_wav(fn)\n",
    "    if len(data) != 16000:\n",
    "        short_count += 1\n",
    "print(\"Short: \", short_count)\n",
    "print(\"All: \", len(train_fns))"
   ]
  },
  {
   "cell_type": "markdown",
   "metadata": {},
   "source": [
    "# Visualize augmented training data"
   ]
  },
  {
   "cell_type": "code",
   "execution_count": null,
   "metadata": {},
   "outputs": [],
   "source": [
    "from __future__ import division, print_function\n",
    "from keras import backend as K\n",
    "from keras.callbacks import ModelCheckpoint, LearningRateScheduler\n",
    "from keras.callbacks import TensorBoard\n",
    "from callbacks import ConfusionMatrixCallback\n",
    "from model import speech_model, prepare_model_settings\n",
    "from input_data import AudioProcessor, prepare_words_list\n",
    "from classes import get_classes\n",
    "from IPython import embed  # noqa"
   ]
  },
  {
   "cell_type": "raw",
   "metadata": {},
   "source": [
    "def data_gen(audio_processor, sess,\n",
    "             batch_size=128,\n",
    "             background_frequency=0.5, background_volume_range=0.2,\n",
    "             foreground_frequency=0.5, foreground_volume_range=0.2,\n",
    "             time_shift=(100.0 * 16000.0) / 1000,\n",
    "             mode='validation'):\n",
    "    offset = 0\n",
    "    if mode != 'training':\n",
    "        background_frequency = 0.0\n",
    "        background_volume_range = 0.0\n",
    "        foreground_frequency = 0.0\n",
    "        foreground_volume_range = 0.0\n",
    "        time_shift = 0\n",
    "    while True:\n",
    "        X, y = audio_processor.get_data(\n",
    "            how_many=batch_size, offset=0 if mode == 'training' else offset,\n",
    "            background_frequency=background_frequency,\n",
    "            background_volume_range=background_volume_range,\n",
    "            foreground_frequency=foreground_frequency,\n",
    "            foreground_volume_range=foreground_volume_range,\n",
    "            time_shift=time_shift, mode=mode, sess=sess)\n",
    "        offset += batch_size\n",
    "        if offset > ap.set_size(mode) - batch_size:\n",
    "              offset = 0\n",
    "        yield X, y"
   ]
  },
  {
   "cell_type": "code",
   "execution_count": null,
   "metadata": {},
   "outputs": [],
   "source": [
    "sess = K.get_session()\n",
    "data_dirs = ['data/train/audio']\n",
    "add_pseudo = True\n",
    "if add_pseudo:\n",
    "    data_dirs.append('data/pseudo/audio')\n",
    "compute_mfcc = False\n",
    "sample_rate = 16000\n",
    "batch_size = 100\n",
    "classes = get_classes(wanted_only=False)\n",
    "model_settings = prepare_model_settings(\n",
    "  label_count=len(prepare_words_list(classes)), sample_rate=sample_rate,\n",
    "  clip_duration_ms=1000, window_size_ms=30.0, window_stride_ms=10.0,\n",
    "  dct_coefficient_count=40)\n",
    "ap = AudioProcessor(\n",
    "  data_dirs=data_dirs,\n",
    "  silence_percentage=10.0,\n",
    "  unknown_percentage=7.0,\n",
    "  wanted_words=classes,\n",
    "  validation_percentage=10.0,\n",
    "  testing_percentage=0.0,\n",
    "  model_settings=model_settings,\n",
    "  compute_mfcc=compute_mfcc)\n",
    "train_gen = data_gen(ap, sess, batch_size=batch_size, mode='training')\n",
    "val_gen = data_gen(ap, sess, batch_size=batch_size, mode='validation')"
   ]
  },
  {
   "cell_type": "code",
   "execution_count": null,
   "metadata": {},
   "outputs": [],
   "source": [
    "ap.summary()"
   ]
  },
  {
   "cell_type": "code",
   "execution_count": null,
   "metadata": {},
   "outputs": [],
   "source": [
    "disp_count = 0\n",
    "while True:\n",
    "    if disp_count > 5:\n",
    "        break\n",
    "    X, y = next(train_gen)\n",
    "    for i in range(X.shape[0]):\n",
    "        if y[i].argmax() == 10:\n",
    "            sample = X[i, :].squeeze()\n",
    "            float_audio(sample, autoplay=True)\n",
    "            sleep(1)\n",
    "            disp_count += 1\n",
    "            # plt.figure()\n",
    "            # plt.axis([0, 16000, -1, 1])\n",
    "            # plt.plot(sample)"
   ]
  },
  {
   "cell_type": "markdown",
   "metadata": {},
   "source": [
    "# Create pseudo labels from consistent predictions\n",
    "### [v_001]: Sub1: 84% PLB, Sub2: 84% PLB, Sub3: 82%: 118078 consistend pseudo labels\n",
    "### [v_002]: Sub1: 87%, Sub2: 87%, Sub3: 88%: 140945 pseudo consistend pseudo labels"
   ]
  },
  {
   "cell_type": "code",
   "execution_count": 9,
   "metadata": {},
   "outputs": [],
   "source": [
    "sub1 = pd.read_csv('submission_098_leftloud_tta_all_labels.csv')  # 87% PLB\n",
    "sub2 = pd.read_csv('submission_096_leftloud_tta_all_labels.csv')  # 87% PLB\n",
    "sub3 = pd.read_csv('submission_091_leftloud_tta_all_labels.csv')  # 88% PLB"
   ]
  },
  {
   "cell_type": "code",
   "execution_count": 10,
   "metadata": {},
   "outputs": [
    {
     "name": "stdout",
     "output_type": "stream",
     "text": [
      "All:  158538  consistend:  140945\n"
     ]
    }
   ],
   "source": [
    "consistend = ((sub1.label == sub2.label) & (sub1.label == sub3.label))\n",
    "print(\"All: \", sub1.shape[0], \" consistend: \", consistend.sum())"
   ]
  },
  {
   "cell_type": "code",
   "execution_count": 13,
   "metadata": {},
   "outputs": [
    {
     "name": "stderr",
     "output_type": "stream",
     "text": [
      "100%|██████████| 158538/158538 [01:46<00:00, 1482.40it/s]\n"
     ]
    }
   ],
   "source": [
    "for i in tqdm(range(sub1.shape[0])):\n",
    "    fn = sub1.loc[i, 'fname']\n",
    "    if fn != sub2.loc[i, 'fname'] or fn != sub3.loc[i, 'fname']:\n",
    "        print(\"Fatal error\")\n",
    "        break\n",
    "    if consistend[i]:\n",
    "        label = sub1.loc[i, 'label']\n",
    "        dst_fn = jp('data', 'pseudo', 'audio', label, fn)\n",
    "        src_fn = jp('data', 'test', 'audio', fn)\n",
    "        copy(src_fn, dst_fn, follow_symlinks=False)"
   ]
  },
  {
   "cell_type": "markdown",
   "metadata": {},
   "source": [
    "# Create new background noise from pseudo silence\n",
    "## Just concat 60 seconds of audio"
   ]
  },
  {
   "cell_type": "code",
   "execution_count": 18,
   "metadata": {},
   "outputs": [],
   "source": [
    "pseudo_silence_fns = sorted(glob('data/pseudo/silence/*.wav'))\n",
    "num_pseudo_noise = 5\n",
    "num_secs = 60\n",
    "for i in range(num_pseudo_noise):\n",
    "    background_fns = np.random.choice(\n",
    "        pseudo_silence_fns, num_secs, replace=False)\n",
    "    new_clip = []\n",
    "    for fn in background_fns:\n",
    "        rate, data = wf.read(fn)\n",
    "        new_clip.append(data)\n",
    "    new_clip = np.concatenate(new_clip).astype(np.int16)\n",
    "    out_fn = 'data/train/audio/_background_noise_/custom_pseudo_silence_%04d.wav' % i\n",
    "    # print(out_fn)\n",
    "    wf.write(out_fn, 16000, new_clip)"
   ]
  },
  {
   "cell_type": "code",
   "execution_count": 14,
   "metadata": {},
   "outputs": [],
   "source": [
    "?wf.write"
   ]
  },
  {
   "cell_type": "markdown",
   "metadata": {},
   "source": [
    "# Listen to submission"
   ]
  },
  {
   "cell_type": "code",
   "execution_count": null,
   "metadata": {},
   "outputs": [],
   "source": [
    "words = get_classes(wanted_only=False, extend_reversed=True)\n",
    "[w for w in words if 'b' in w]"
   ]
  },
  {
   "cell_type": "code",
   "execution_count": null,
   "metadata": {
    "scrolled": true
   },
   "outputs": [],
   "source": [
    "sub = pd.read_csv('submission_091_all_labels.csv')\n",
    "label2int = get_label2int(wanted_only=True)\n",
    "disp_count = 0\n",
    "for i in reversed(range(sub.shape[0])):\n",
    "    if disp_count >= 10:\n",
    "        break\n",
    "    fn = jp('data', 'test', 'audio', sub.loc[i, 'fname'])\n",
    "    label = sub.loc[i, 'label']\n",
    "    if label == 'go' and np.random.rand() > 0.8:\n",
    "        print(fn, label)\n",
    "        display(Audio(fn, autoplay=True))\n",
    "        sleep(1)\n",
    "        disp_count += 1"
   ]
  },
  {
   "cell_type": "code",
   "execution_count": null,
   "metadata": {
    "scrolled": false
   },
   "outputs": [],
   "source": [
    "np.random.seed(5)\n",
    "sub = pd.read_csv('submission_034_all_labels.csv')\n",
    "label2int = get_label2int(wanted_only=True)\n",
    "disp_count = 0\n",
    "for i in reversed(range(sub.shape[0])):\n",
    "    if disp_count >= 2:\n",
    "        break\n",
    "    label = sub.loc[i, 'label']\n",
    "    if label == 'silence' and np.random.rand() > 0.999:\n",
    "        fn = jp('data', 'test', 'audio', sub.loc[i, 'fname'])\n",
    "        rate, data = wf.read(fn)\n",
    "        data = np.float32(data) / 32767\n",
    "        # data = np.sqrt(data) + 0.5\n",
    "        data = 10 ** (data) - 1.0\n",
    "        plot_audio(data, normed=True)\n",
    "        print(fn, label)\n",
    "        float_audio(data, autoplay=True)\n",
    "        sleep(1)\n",
    "        disp_count += 1"
   ]
  },
  {
   "cell_type": "code",
   "execution_count": null,
   "metadata": {},
   "outputs": [],
   "source": [
    "# compare two submissions\n",
    "# sub1 = pd.read_csv('submission_091_all_labels.csv')\n",
    "# sub2 = pd.read_csv('submission_091_4x_tta_all_labels.csv')\n",
    "\n",
    "sub1 = pd.read_csv('submission_091_all_labels.csv')\n",
    "sub2 = pd.read_csv('submission_091_leftloud_tta_all_labels.csv')\n",
    "num_different = 0\n",
    "\n",
    "for i in tqdm(reversed(range(sub1.shape[0]))):\n",
    "    fn = sub1.loc[i, 'fname']\n",
    "    assert fn == sub2.loc[i, 'fname']\n",
    "    label1 = sub1.loc[i, 'label']\n",
    "    label2 = sub2.loc[i, 'label']\n",
    "    if label1 != label2:\n",
    "        num_different += 1\n",
    "        print(\"%s vs. %s\" % (label1, label2))\n",
    "        in_fn = jp('data/test/audio', fn)\n",
    "        display(Audio(in_fn, autoplay=True))\n",
    "        sleep(1)\n",
    "print(\"%d of %d are different\" % (num_different, sub1.shape[0]))"
   ]
  },
  {
   "cell_type": "markdown",
   "metadata": {},
   "source": [
    "# Listen to submission with probs"
   ]
  },
  {
   "cell_type": "code",
   "execution_count": null,
   "metadata": {},
   "outputs": [],
   "source": [
    "print(\"Wanted: \", get_classes(wanted_only=True))\n",
    "print(\"All: \", get_classes(wanted_only=False))"
   ]
  },
  {
   "cell_type": "code",
   "execution_count": null,
   "metadata": {
    "scrolled": false
   },
   "outputs": [],
   "source": [
    "sub = pd.read_csv('prob_ensemble_002_all_labels_probs.csv')\n",
    "label2int = get_label2int(wanted_only=False)\n",
    "disp_count = 0\n",
    "for i in reversed(range(sub.shape[0])):\n",
    "    if disp_count >= 5:\n",
    "        break\n",
    "    fn = jp('data', 'test', 'audio', sub.loc[i, 'fname'])\n",
    "    label = sub.loc[i, 'label']\n",
    "    if label == 'unknown' and np.random.rand() > 0.99:\n",
    "        print(label)\n",
    "        probs = sub.loc[i, label2int.keys()]\n",
    "        plt.figure()\n",
    "        plt.title(str(disp_count))\n",
    "        plt.bar(range(len(probs)), probs)\n",
    "        plt.axis([0, len(probs), 0, 1])\n",
    "        plt.xticks(range(len(probs)), label2int.keys(), rotation='vertical')\n",
    "        display(Audio(fn, autoplay=True))\n",
    "        sleep(1)\n",
    "        disp_count += 1"
   ]
  },
  {
   "cell_type": "markdown",
   "metadata": {},
   "source": [
    "# Correct broken submission"
   ]
  },
  {
   "cell_type": "code",
   "execution_count": null,
   "metadata": {},
   "outputs": [],
   "source": [
    "sub_broken = pd.read_csv('submission_012.csv')\n",
    "sub_all = pd.read_csv('submission_012_all_labels.csv')\n",
    "sub_broken.loc[(sub_all.label == 'unknown').values, 'label'] = 'silence'\n",
    "sub_broken.to_csv('submission_012_corrected.csv', index=False)"
   ]
  },
  {
   "cell_type": "code",
   "execution_count": null,
   "metadata": {},
   "outputs": [],
   "source": [
    "sub = pd.read_csv('submission_012_corrected.csv')\n",
    "disp_count = 0\n",
    "for i in range(sub.shape[0]):\n",
    "    if disp_count >= 10:\n",
    "        break\n",
    "    fn = jp('data', 'test', 'audio', sub.loc[i, 'fname'])\n",
    "    label = sub.loc[i, 'label']\n",
    "    if label != 'unknown' and np.random.rand() > 0.9:\n",
    "        print(label)\n",
    "        display(Audio(fn, autoplay=True))\n",
    "        sleep(1)\n",
    "        disp_count += 1"
   ]
  },
  {
   "cell_type": "code",
   "execution_count": null,
   "metadata": {},
   "outputs": [],
   "source": [
    "sub = pd.read_csv('submission_012_all_labels.csv')\n",
    "counts = sub.label.value_counts()\n",
    "percent_counts = counts.apply(lambda x: np.round(100.0 * (x / sub.shape[0])))\n",
    "# print(counts)\n",
    "print(percent_counts)"
   ]
  },
  {
   "cell_type": "markdown",
   "metadata": {},
   "source": [
    "# Check what the generators are producing"
   ]
  },
  {
   "cell_type": "code",
   "execution_count": 16,
   "metadata": {},
   "outputs": [],
   "source": [
    "from __future__ import division, print_function\n",
    "import tensorflow as tf\n",
    "from keras import backend as K\n",
    "from keras.callbacks import ModelCheckpoint, ReduceLROnPlateau\n",
    "from keras.callbacks import TensorBoard\n",
    "from callbacks import ConfusionMatrixCallback\n",
    "from model import speech_model, prepare_model_settings\n",
    "from input_data import AudioProcessor, prepare_words_list\n",
    "from classes import get_classes\n",
    "from IPython import embed  # noqa\n",
    "\n",
    "\n",
    "def data_gen(audio_processor, sess,\n",
    "             batch_size=128,\n",
    "             background_frequency=0.5, background_volume_range=0.2,\n",
    "             foreground_frequency=0.5, foreground_volume_range=0.2,\n",
    "             time_shift_frequency=1.0, time_shift_range=[-2000, 0],\n",
    "             mode='validation', pseudo_frequency=0.4):\n",
    "  offset = 0\n",
    "  if mode != 'training':\n",
    "    background_frequency = 0.0\n",
    "    background_volume_range = 0.0\n",
    "    foreground_frequency = 0.0\n",
    "    foreground_volume_range = 0.0\n",
    "    pseudo_frequency = 0.0\n",
    "    time_shift_frequency = 0.0\n",
    "    time_shift_range = [0, 0]\n",
    "  while True:\n",
    "    X, y = audio_processor.get_data(\n",
    "        how_many=batch_size, offset=0 if mode == 'training' else offset,\n",
    "        background_frequency=background_frequency,\n",
    "        background_volume_range=background_volume_range,\n",
    "        foreground_frequency=foreground_frequency,\n",
    "        foreground_volume_range=foreground_volume_range,\n",
    "        time_shift_frequency=time_shift_frequency,\n",
    "        time_shift_range=time_shift_range,\n",
    "        mode=mode, sess=sess,\n",
    "        pseudo_frequency=pseudo_frequency)\n",
    "    offset += batch_size\n",
    "    if offset > ap.set_size(mode) - batch_size:\n",
    "      offset = 0\n",
    "    yield X, y\n",
    "\n",
    "\n",
    "# running_mean: -0.8 | running_std: 7.0\n",
    "# mfcc running_mean: -0.67 | running_std: 7.45\n",
    "# background_clamp running_mean: -0.00064 | running_std: 0.0774, p5: -0.074, p95: 0.0697  # noqa\n",
    "# 10 ** raw - 1.0 running_mean: 0.017 | 10 ** raw - 1.0 running_std: 0.28\n",
    "# np.log(11) ~ 2.4\n",
    "# np.log(12) ~ 2.5\n",
    "# np.log(32) ~ 3.5\n",
    "# np.log(48) ~ 3.9\n",
    "# 64727 training files\n",
    "if __name__ == '__main__':\n",
    "  # restrict gpu usage: https://stackoverflow.com/questions/34199233/how-to-prevent-tensorflow-from-allocating-the-totality-of-a-gpu-memory  # noqa\n",
    "  gpu_options = tf.GPUOptions(per_process_gpu_memory_fraction=0.90)\n",
    "  sess = tf.Session(config=tf.ConfigProto(gpu_options=gpu_options))\n",
    "  K.set_session(sess)\n",
    "  data_dirs = ['data/train/audio']\n",
    "  add_pseudo = True\n",
    "  if add_pseudo:\n",
    "    data_dirs.append('data/pseudo/audio')\n",
    "  output_representation = 'raw'\n",
    "  sample_rate = 16000\n",
    "  batch_size = 384\n",
    "  classes = get_classes(wanted_only=False, extend_reversed=False)\n",
    "  model_settings = prepare_model_settings(\n",
    "      label_count=len(prepare_words_list(classes)), sample_rate=sample_rate,\n",
    "      clip_duration_ms=1000, window_size_ms=30.0, window_stride_ms=10.0,\n",
    "      dct_coefficient_count=40)\n",
    "  ap = AudioProcessor(\n",
    "      data_dirs=data_dirs, wanted_words=classes,\n",
    "      silence_percentage=15.0, unknown_percentage=5.0,\n",
    "      validation_percentage=10.0, testing_percentage=0.0,\n",
    "      model_settings=model_settings,\n",
    "      output_representation=output_representation)\n",
    "  train_gen = data_gen(ap, sess, batch_size=batch_size, mode='training')\n",
    "  val_gen = data_gen(ap, sess, batch_size=batch_size, mode='validation')"
   ]
  },
  {
   "cell_type": "code",
   "execution_count": 17,
   "metadata": {},
   "outputs": [
    {
     "name": "stdout",
     "output_type": "stream",
     "text": [
      "OrderedDict([(0, '_silence_'), (1, '_unknown_'), (2, 'sheila'), (3, 'nine'), (4, 'stop'), (5, 'bed'), (6, 'four'), (7, 'six'), (8, 'down'), (9, 'bird'), (10, 'marvin'), (11, 'cat'), (12, 'off'), (13, 'right'), (14, 'seven'), (15, 'eight'), (16, 'up'), (17, 'three'), (18, 'happy'), (19, 'go'), (20, 'zero'), (21, 'on'), (22, 'wow'), (23, 'dog'), (24, 'yes'), (25, 'five'), (26, 'one'), (27, 'tree'), (28, 'house'), (29, 'two'), (30, 'left'), (31, 'no')])\n"
     ]
    }
   ],
   "source": [
    "print(int2label)"
   ]
  },
  {
   "cell_type": "code",
   "execution_count": 18,
   "metadata": {},
   "outputs": [
    {
     "data": {
      "text/html": [
       "\n",
       "                <audio controls=\"controls\" autoplay=\"autoplay\">\n",
       "                    <source src=\"data:audio/x-wav;base64,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\" type=\"audio/x-wav\" />\n",
       "                    Your browser does not support the audio element.\n",
       "                </audio>\n",
       "              "
      ],
      "text/plain": [
       "<IPython.lib.display.Audio object>"
      ]
     },
     "metadata": {},
     "output_type": "display_data"
    },
    {
     "data": {
      "text/html": [
       "\n",
       "                <audio controls=\"controls\" autoplay=\"autoplay\">\n",
       "                    <source src=\"data:audio/x-wav;base64,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\" type=\"audio/x-wav\" />\n",
       "                    Your browser does not support the audio element.\n",
       "                </audio>\n",
       "              "
      ],
      "text/plain": [
       "<IPython.lib.display.Audio object>"
      ]
     },
     "metadata": {},
     "output_type": "display_data"
    },
    {
     "data": {
      "text/html": [
       "\n",
       "                <audio controls=\"controls\" autoplay=\"autoplay\">\n",
       "                    <source src=\"data:audio/x-wav;base64,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\" type=\"audio/x-wav\" />\n",
       "                    Your browser does not support the audio element.\n",
       "                </audio>\n",
       "              "
      ],
      "text/plain": [
       "<IPython.lib.display.Audio object>"
      ]
     },
     "metadata": {},
     "output_type": "display_data"
    },
    {
     "data": {
      "text/html": [
       "\n",
       "                <audio controls=\"controls\" autoplay=\"autoplay\">\n",
       "                    <source src=\"data:audio/x-wav;base64,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\" type=\"audio/x-wav\" />\n",
       "                    Your browser does not support the audio element.\n",
       "                </audio>\n",
       "              "
      ],
      "text/plain": [
       "<IPython.lib.display.Audio object>"
      ]
     },
     "metadata": {},
     "output_type": "display_data"
    },
    {
     "data": {
      "text/html": [
       "\n",
       "                <audio controls=\"controls\" autoplay=\"autoplay\">\n",
       "                    <source src=\"data:audio/x-wav;base64,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\" type=\"audio/x-wav\" />\n",
       "                    Your browser does not support the audio element.\n",
       "                </audio>\n",
       "              "
      ],
      "text/plain": [
       "<IPython.lib.display.Audio object>"
      ]
     },
     "metadata": {},
     "output_type": "display_data"
    },
    {
     "data": {
      "text/html": [
       "\n",
       "                <audio controls=\"controls\" autoplay=\"autoplay\">\n",
       "                    <source src=\"data:audio/x-wav;base64,UklGRiR9AABXQVZFZm10IBAAAAABAAEAgD4AAAB9AAACABAAZGF0YQB9AAAZAKr/a/+dANQAvP9o/8D/3v+2/wIAIQDl/+v/2v+n/1cArgB4AOT/6v5r/ur+w/+Z/4L/S/93/jr+8f65//L/6v8+AKf/R/9c/5H/wf/3/9n/jv+Z/0//oP81ACcA8v93ACcAnv/x/8n/nP8KAMAAaQBpAKEAjgDsAKIAWgAdAE0A1QBUAEIANwAdAHgAcQBYAJAAzQA8ACcAXQA2ADsA+//1//n/JgA/AML/6P87AM7/Zv9s/6v/JgBrALX/9P4O/4f/GQAcAFT/qP6C/gz/OP/7/nD/jP/9/28A4f+V/6X/v//B/0sARAAwAB0A2v/e/5v/uv/m/97/agCoABoAEQDY/8r/MwBtAHcAkQBQAOv/v//a/+//WQDcAKwAoABiAEMAJwBdAFUAtv+h/+T/XP/G/hz/wP6O/vn+Q/9o/9v/5P8BALv/cf/I/zYAygBSACAAdgBgADMAcAAAAGj/2v/Z/7v/2v8oAGQAQwAKAOn/LQBKAEoA+/9u/xX/eP/9/7T/Av+f/p3+wP5k/13/BP/D/kn/HQAyABsANgDYAMsAowCJABABKwF9AJ4ATwBJAF4A+v/1/5EApwBmAAgAOAB0AMX/Wf8k/6T/6f9J/wP/mv/X/+//GABm/1b/WP8S/7H+2/7U/or+vP4M/5j/Vf8z/0f/mv9w//n+DP9D/0//kP+k/6P/6v/k/5b/gP/I/6z/dv9h/8X+HP+8/7H/KwA8AMf/7/9dAHYAuwAMAZ4AaAD5AFoBWwF6AYcBEAHPACMBqQFoAU0BOAHxADkB2AAXAL//AwBHAHIARwDk/z0A3v8r/zj/WP86/x3/U/82/yb/pP4M/hX+sP4c/xT/S/9J/8r/xv+M/5r/2v+DAAgAEAD8/y8AaQDN/5P/r//t/6L/EP9x/h/+SP7O/pP/wP8BABoACADeAA8BQQFOASAB+gDAAN0APQGHAT8B0wDZ/3v/DwD5/9D/6v/V/47/qP/P/0D/PP+c/5X/iv/a//D/sP/b/8z/tf8SACIAKgA3AM//rf/E/7r/z/9g/9b+VP/U/97/fv8W/2f/5/+j/3n/ov9p/57/lv9X/7X/GwAAAB8AOwDt/w0Avv+g/wMAdABtACYAMAA7AGEAPwD3/xIA5P/V/8j/1f80AG4ApgCnAKQAtgCbAJUAjgBkAGcAVQBCAGUAWgBSAIkArAB3AJcAjgCZADYAuv8E/5/+Av/S/mL+Yv4C/xf/2f6i/nX+K/9A/9f+6v5t/9j/7v/Y/4f/+f9cAPP/jv/l/1UAQgDc/1n/tf98AMoAmQACAEwAfQBUAOT/Rf+b/6X/KABzAEkAgQAmAPj/QQCeAMUAmQCRAKcAiwCzAMsA3ADoAKsASQC4/9H/sv/J/8X/Sf9x/3n/8P+UALAAxQAWAKT/V/9K/5X/Wv+D/0z/B/9b/2H/gf8C/xj/hP9L/0T/0v7g/hf/a/+g/33/2v+b/3//wP/l/2MAggA2AdkAdQDNANsA8gDBAJoAVADPALMAWgCbAHMALAAaAEwAGQB6AE8Arf/U/0cAlACZAF4AIAAhAFcAhABwAGEAHgAoAFAAPQAEAPL/FAAwAEkAbgA4AJf/cP8u/+z+Pf8v/1T/uP+q/8X/vv93/2H/kP8//wb/Mv/z/nr+Uf5d/oX+JP9F/1r/UP9Q/5f/Tf9i/6z/qv9p/53/UQDGAPEAGAFRAUEB4gD2AAAB5gDYAJ8AZwBrAE8A3v+c/+r/YABmAG8AbACkAOQA8wDZAN0A+AAgAfUAoQB/AF8ANwDz/87/2v/K/1//9f6g/sT+MP9W///+0/4N/03/l/90/0n/cf/b/xkA7v/b/x0AEAC//z3/1f6o/uf+SP8P/y//y/5Y/gv/av81/zb/nf80AHIAmACvANkA9QC7AKUArQDjAPwA6ACgAFsAIwDS/+3/CgD0/wAA6/+6/6f/rf/a/6b/of+//4b/tv/h/6T/kv/B/7b/6/8FAPH/8/9IAIQAmADUANoAcwANAO3///97AHcAggBvAG0AigBVANj/b/+B/2//Uf89/+r+pf7j/jH/af8i/xj/3v9SAAsAqf8LAIAAxADQAOQA7gDLAM8AngCDAIoAcwBOAFEALwDC/9X/3/+Z//T/TQBVABIAFQBIAN3/sf+S/4//0P8UAEIANQDs/2f/Cv8q/13/dP+B/3T/pv+y/9H/xv+9/4L/Kv9P/5X/7f/t/8P/r/+G/4f/w/+v/1L/Wf9I/6P/6v+t/7H/8//t/4n/zP9zANMAMQCP/8v/DAAeADwAhgCqAKkAOgB9/4//EgBFAHgAjQA7ABEALwB+AFUAGgBLAHcA2AAAAeAA6QDeAG8AWwCLAJIAngC8AMwAnACdAG4ARwBLAOn/EwAxAGQAiQB3AJoAXAASANH/u/+D/yr/9/6+/u7+T/96/63/uf9q/yT/1P4n/2P/Pf9v/9j/xP+c//3/YwBXAKD/rf8WACoAQgAvAIUARgAkABoA5//n/8D/lf98/5D/lv96/yj/Lv+k/+D/FAATAA4AcwB8AEEA4//H/1EAAwERAV4ANwB4AKcAqQBOADMARQACAOT/LgBJAML/a/9i/zD/R/+H/yr/Gv9A/xv/BP9B/2j/e//t/zkASQAuAFwArgD//8j/7v81AH0AWwBMACUA0v8X/w3/V/9P/1z/I/8z/zT/Sv/g/0wAiACDADEA+f/Q/ysAigC/ACEBFAHOAIYAigCSAHYAWQCJAKAAIAC1/2j/a/9u/17/h/+f/9b/bf9L/3z/Nf8s/xn/Nf8z/xn/a//a/yEAkf8k/8z/9P/w/7r/rP+z/9L/VABTAH0AYAA/AGsAWwATAA4AXABmAGcAOABrABYBawDu/wYA9P/W/8r/OwBEAGgAfwBSAGEArQD9ALMAaQCRAOUA0wDeABIBxwD7ALUAbQCUAIcAUwASADoA3/+o/9X/2f/z/8D/0f/T/3L/E/9B/6j/4P8FAPP//P8qAA8A9v9DAAcAfP88/zv/Fv95/nH+9/5h/6H/7v8UAMv/gP+G/+3/3v9S/wz/xv8+AOH/rP/h/x0Akv+c/6f/iP9r/zj/Yv9x/7z/2/84AGUAbwCfAJ0A1gDtAL0AVAAnAG4AiwBiAEwA2v/Z/8b/lf9h/y3/XP83/wf/Kf+o/+3/NACzAKwAnACZAM4AIgFDATABCQExASQBywCPAHIAEwDg/+n/4P+3/4r/W/8f//P+SP88/xH/IP9p/7L/9/+7/w//Jv/B/+3/xP88AMcApAApAO3/yf/R/ykAWABAACsASQBhADIA3f/C/wsAIQBOAIoAfABNAFEAMAAMAEsAQABDAFMAHQDD/8r////h/8P/4v8JAAkAwP+B/5X/5P8LADQAWgBcAFsAfQC5ALYAkgAtADgARAAzAAYArf/a/3P/Tv+P/0T/Jf8t/xf/9P7S/un+8/5n/3f/Nf+N/xkAUQAxAG0AJQESAaoAtADsAOYAwQAHARIBCQGlADsA3f/K/xkA5/+D/zn/b/++//H/0P+l/+P/9//2/+3/6/+g/+X/cQByAGIAUQDm/4n/6f/7/53/7/+4AOcAugCzAJ8AwwDOAO4A6wCNADEAuf/i/7j/qv+j/8T/pf8R/x//4/7j/ij/Zv9//2T/Vf9j//X/UQAgADQAygBbAfYAuQAZATAB5wD6ADsBBgG1AIAAfQB2ACMAuP/H/5D/Uv9s/z//Ov+W/6z/bP9r/6//3/8GACQAKQBvAIAArwBwABQAQwB+AHwAzP+U/8j/GwBmACYAVgA8AMn/9f8oAPT/ev+g/xQA6P/A/w8AOAD1/63/1f/3/wsA3f9s/yj/Rf9w/3v/ff8V//L+CP92/2r/N/+Q/x0AMgDK/6X/KABlAE8AjwCnAJAAiACvAL4AqQCDAFQAQQBKAHUAZwBvAHQAHwD6/6n/e//B/wYAQQA8AFEACQCU/4z/lf8UAIEAiAA/ABoA+P8DAC4AIwBaAL0AkQArAA0ADwArACoASABXADYAGQAvAGEACwCr/9D/CQAHALj/fv9y/1n/Sv8+/zz/X/97/6v/3f+p/6r/BwB/AE8AHwB7AMsAlwAiACYAfgCKAH8AKgDe/8f/4f8JAPj/CgAyADQAUQBcAPP/8P89AIkAfgBHAPb/KACmALkAjQB4AFMALABmADsADQDV/5H/jf+i/7T/kv+4/3D/Tf9V/4//uv+S/8T/mf94/2D/1P86AP7/4v+m/7b/ov+p/7v/xf/U//H/OgBcAEEA7P+r/5D/mf+a/7T/BgDU/6b/JgC9AHkA//8qAIkAgAAmAAcALQD//+P/JgB8ALUAlwBTAPr/1v/B/wsAngC1AIEAOgA6AGQAgwBBAOT/7P/4/yMATQBHAPv/AQAOADMALgDb/5H/o/8NAOH/oP99/9r+lP41/4v/K//u/kD/of94/w3/4v4f/0P/rf/q/zgAdAB0AHsAoQAKAfAApgBlAOP/3/9hAIYA1v88/3H/4v+z/37/6P8FACgAfgDSAPQA0ADeALEAyAAQAesA2QCwAIgAewB1AF0AUAADAHz/l//B/7H/tP+J/7X/+P/3/08AnABkAC0AQwCuAIYAJAD2/zIAWQArABkA7P/G/53/xP/s/6n/Zf9d/4H/pv/V/0MAawAhABcACwBTAH8ANgAWAAIA8f/I/7b/yP9y/27/QP9A/3z/6v+CAGsAov9V/20AEAEGAWwA6v/d/zQAzADhAOQA8gAPAcwAOQDG/6D/1f/5/zAATAAyAO//yP8AAPL/+/8HAMr/u/+t/5r/Vf/L/0UAxgASAcUAqwCcAO8AyACDAGoA4/+j/3f/fv9h/xz/R/8+/1r/Nv9H/2r/IP/n/rv+xv7v/i3/df+v//f/CADj//3/7v/e/6//6/9VAGIAkQCwAFEAKgDeAPIAogBhAEsAZgBQAGMAdwA9AAYA0v+9//H/bADTAOgA4AC7ANkAGwFDAUUBHgG9AE4AXQB/AFgAWgBVAAsA+P8rAF8ADQDX/8n/4/88ABEA5/8iAH8A0QDPAHwA4v9v/4X/S/8y/w3/7P70/uj+Mf9+/53/av+J/63/sv/C/7j/uf/+/08AkQCkAKwArgBpAHoAVAD4/6H/9P9KAAIA9/+o/4r/b/99/8z/r/9o/57/xf8BAHcAtwDnAM8A/wBaAU4BzQA4AAgAQABPADkANQDv/8D/Vv8+/4H/9f+GAGAALwAoAF4A2QDmAGoAHQAOAB0AaQBEAAgAk/93/8v/2f9t/1D/nv+R/zb/4P7M/tj+Xf+Z/33/rP+K/5v/AgAXAOb/0//c/wcAHQCEAMgAegB0ANcAGQH0AN8AtwB+ADIA9f8dAEkAswDdAH8AWQA1AEAAkgAtAZIBTAHOAEIAKAB3AE8AzP/U/xsATACWAJ0AbQAtANf/hP9W/1D/Wf/7/uz+Gf/2/uT+yf7D/vX+aP9z/zX/O/+e/wsABAAKAAAAeQAEAeIAuACnALkAtgCUAEMAAADI/+7/BQCn/3H/O/9d/3X/tf/F/5n/k//G/2AAvQDoAGgAPQBlAIMAkgATAPj/1f/1/18AdAB3AG4AbwB6AHcAqgDDAM0AFAHVAJEAwgAAAfQA3gC9AHgAcABUAFAAKwAPABoAsv+o/7T/y/+l/2j/qP+h/wkAcgDn/5j/lv+Z/3z/YP+B/1L/P/8y/zn/g//e/yMArP+L/53/kP+a/1r/iP/C//D/7f9c/0T/hv/E/wsAMgCEANkApwBEACwARAB0AHkADgDr/wcAYAC+AGYAEwAqAKUANQFnAYIBpAHMAZ4B6gBwAIUA0wB8AAYAlP9G/5T/e/9g/xz/hf6A/oX+wf4+/1P/lv/i/87/iP+N/+H/zP+4/97/FgALAO7/RgCJAJYAmABoAC4A1f+A/6v/+v/u/4f/K//g/sT+LP9Z/yz/Hf8G/x//cP/G/x8AUwD2/0P/NP/f/2MADwFuASwBJgE8AZAB2wHFAaoBlwGUAZYBMAFmAPL/mP9R/xP/B/8r///+zf6o/oT+iP4Z/z3/N//H/ygAjQDMAH8AGADC/97//P8kAG4APQDQ/3D/P//4/hn/J//j/sb+gP5O/kv+of7y/t/+xv6t/ub+N/8+/3D/kf8DAIsAoQC1AIoAnQD1AMAAfACTAIQAlgDXAIIACAACABwABgAxAJ8AogDCAG4A9//j/9H/vv+o/wQAWgB2AFEANQAzABMAfgBgAO3/JQAwAFkAfwBNABsA2f+5/6X/zP/W/xUAxP9g/4n/a/9W/0//gv/M/0YAqQBbACUAWABIAAgA4//F/5X/m/+Z/1H/Of8W/yP/Nv8D/+n+Av9G/6f/0v+H/7X/CABVAJAATQAhAEwAWwCMAM4AuwDFAJgAowDSAK0A5AC4AJAAiwA6AEEAGQBpAJ4AwQArAQwB8AD9AF0BLAGCACAAm/+P/1D/S/9Z/9r+1/6T/tP+Sf9E/2j/dv/U/xkAPAA5ACMAYQCOAIwAUAAmAAgABQA3ACoAIABRACYA6P/Z/6r/xv/X/8L/lf9Y/xf/4/7O/t3+Ff9I/3P/av/D//n/AQA2AGQA7QAzAVoBeQEpAf8APQFSASwB5wC4AJYAXgAbALf/fv/K/1YAowDcAEcA0//D/+T/bgBEABUA2P/T//L/1P/r/w8A3P/R/+b/0/8CACYAEQDT/7P/g/+t/9P/wP/g/+3/6v/C/5z/4/8HAPD/4v/R//D/DQAbAOf/sP+2/9z/NgBEADAA6/+A/5j/zP/W/zAA1gD/AOQAjAAQAEQAagBqAIEAWAAKAOP/zf+3/8T/mv+i/8z/8P8kAPD/s//S/+b/CgD//4f/lv/s/0QAiwB7AGAAIgDb/6T/xP8JAFMAlgDXAHIA7//D/8T/BgD8/9P/nP9F/0j/sP/g/wkAGgDV/93/6v/L/93/7v+l/6L/r/9y/23/YP/A//r/6v/o/1D/df/K/4//sf/Q/7L/hv92/4P/bv9u/6D/lf99/zX/Qf9n/1z/nP+h/9r/1f/z//P/7v8wABIAQwBLADQAMABNAG0AYACGAI8AowDHAMkA9AD5APcAzgCbAOIALQFzAWQBTgE1Af8AwwBvAHsAgQAxAPT/s/+b/37/d/+L/1j/R/8r/wP/CP9//9r/vf+p/1X/SP+m//3/+P9K/xf/N/8+/6P/0//t/93/vv/X/+P/GwAzAEwASABnAJsAPAAMAEUALAApAAwAKAAeAIr/ov+d/57/1//b/6z/rP/V/+j/8P8eAD8AEAAWAAsA5v9EAGAAlQCpAIoAlQB+ALIAxwDRAI0AXwCGAI4AeQBxAC4Aqf9O/wj/If+G/xUAMwDh/7r/kv+b/8X/1P8cAKcAxwDXAKoAdQCcAL4AEgHwAL4A8wCTAIgArABFADUAbwBYAAUA/v/R/6H/j/9Q/0j/Vv8L/+T+G/8X/yT/Kv8b/zv/iP/y/xYAYwCLAHAAgQCHAMIAxgBHACYAOAC6/2j/lf+i/xcAMgDR/8n/jP9S/8D/SwBnAAwAzf97/07/pv+H/6f/6P8lAJkAowCxAKAAzgBdAX8BPAHlAB0BUwFTAXgBTgH1AJkAZQA4AMf/hP97/wz/fP4P/vX9P/5y/r3+w/69/tL+zf76/iz/V/+J/5f/0v9ZAI4AZwAyAI0AAAEJAe4AvACqAL4ArwCKAGUALwAaAE4AjADWAO0AqAAyACMAQAApAGwAZAAdAJT/6/6Q/n3+6P6h/9T/yv+U/4P//v83AEMATQBCAHAAqgD0ACkBLAEdAdgA1wDSALoAygCvALIAgwBoADwA1f/f/6H/gP9i/yv/UP+C/w0AMAABADYAlgC3AF4ADgDy/yIAdABRADQAEAApAJQAdQBdAHAAIgD6/x8AUwBjAEMARAC9/yD/Df8w/3//iP+d/77/gP9C/0r/jv/3/0QAHgAKAPv/y/8LAIIA6AAaAUIBDQGxALAAawBKAHoAUwAPALv/Yv9S/zv/Ef89/2v/Q/9W/3//s//4/x8AJgD7/xwA3f/c/xwACAD6/6r/2P8mAE8AmQBXAEIADQDC/7r/0/9vAGoAKQAbAPL/EwDu/xMAVgCOAMkAWQAvAFsAeQC5AMMADQERAf8AIQHjALcAkQDsAAYBngClABwApv/P/9b/8f+x/1j/Mf82/5f/s/+W/2L/Xv/F//D/+v8PAOv/+f86ACQA7/+3/5X/R//H/rH+hv7M/hj//P49/2L/gP9s/5v/EwA+AFoAfQBhAFgAOQBBAIMAlQB/AGkAVQAjAFkAdQCeAJIAawCaAFgAaQCOAHgAWAD6/93/s//T/wUAzf+0/3b/cv9s/0b/u//x////2/9e/4T/zf/r/xwAUgBvAGQAYQA3AA0AEQDr/3L/Jf8K//L+Ff8i/yf/Pv+G/xQAWwCgAOwAHQFCAewAmgCbAKEAggAAAI3/kv9//2H/pf+m/27/cf9Y/wf/r/6n/sf+LP+G/1v/NP9o/7f/OAByAHkAgwBtAKkA1AD1ADcBSAHdAF0AQQBjAI0AiwBOAPT/nv+c/4v/ff+E/1T/QP8V/1v/2v8eAB0Ajv8r/zr/n//+/18AvACgAHsAxADyAK8AmQCjAFcA7/+H/2//h//W/93/Rf8f/1X/U/9r/4b/nP/f/zIAXgAAANv/5P/O/+//8f82AGkAQwAiAAsADwAAAAwAHwALAAIATgBCAA4A+v/H/9X/EAASAAQAwP9X/zX/Qv+k/9z/EwAsAAcA+f/u/73/hP9//8n/IAAXAN//iv+A//v/UwByAJcAewA4AAUAw/+x/+X/oQDsAH8AJQAPAGwAvwCpAGcAEwAZAA4Alf+W/03/5P4M/xT/Kf8d/y//Vv9h/5T/xv8nAEEAVgB2AEIATQBmAGkAhQBkABYA6/+6/8T/+//+////7/+r/5T/j/+3/8v/0P/j/8P/rv+D/2D/aP+8/xcAHgDM/73/BwATAPn/CQAKAML/nP+v/+7/BADS/2H/Cv8i/1D/cf89/xX/9v6z/sT+Bf9U/4P/vP/E/7X/0f/f/wgAKQA1AEcA3v94/3j/eP93/1v/cv+c/8r/wv+R/97/MgCBAEsA2v/j/0YAZAD1/6f/lf/f/1kAqgCmAEsAPABHAFcAagCBALQAqQCtAJYAsQAmATEBegGkAWcBQgEXASUBCQHVAIEAKwBNADwA3P+9/6D/b/8s/+H+6v7U/tL+7f4g/07/9P67/sX+5/4j/xT/1/4P/4n/r/+I/4P/l//7/zkAMgBJAGwAjgCTALcAfgAqAB8AFgBhALcA3ADpANEAvwC+AAgBNwFIAQwBUgAPAPf/7//v/8//tP9d/xz/Iv8q/0v/mP+7/5T/av9m/03/aP+G/6b/6/8oAD4AAAD+/yIACQCr/yv/S//Z/2IAnACTAKMA3ACyAFUASwB/AJwAewA+AAUAz//a//z/1f9s/wP/Lv+X//X/BQDU/8f/1/8oAGMAXgBmAEIAKABPAIYAqQCdAHsAKQDJ/5//e/81/yH/ZP/z/93/ff9W/5D/JwDu/yr/uf4s/yAAkAA4AOP/zv/p//7/DADO/6z/8v8BANb/lv+v/wsAbABkAC0A7f+w/z//3P7c/u7+KP9C/yH/Kv9C/4v/0f9EAPoATAEiAQwBLAE5ATUB2ACsAO0ABQG6AF8AMQBXAJEAxgD1AJwAXwBMAKwAxwBVAGsAaQCJAJAAcABqAP7/2f/B/6D/uf+D/13/Kf9L/3z/af9o/0H/e/+1/8z/RwCQAEkA9P/G/+D/6v/7//7/5/+//0r/9v4L/3D/fP9G/x3/Sf+Q/2P/MP9Q/xwAIgFPAb4AoQD0AE0BCwG3AO8AHgH0AGEA+//Q/3f/J//q/kX/lv9H/z//PP+8/zMAQgAsADsAXgBVAM8A8gCcAB0A9v9GAEAA4P/D/y0ATQCu/3T/uf8QABoA0P+t/3z/qv/n/+z///8AAA0AEQD///T/of88/z7/w/8RAPP/oP+4/wsA2v+Z/5n/KgCVAHIACwDo/yEAcgB/AEoAXABCACwAcQC0AOgAhAAjAJYAywDOAIcAyQBxAT4BLADf/rH+pP+iAAMAfv5V/nT/2QDIAEz/+v48AHsBNwGe/wL/IQBUAbcAIP+L/oD/wgBSAD3/CP+7/3kAMACU/z7/Iv9s/9v/KAAXAJb/E//e/3QBxgFiAOX+j/9hAQgCIAH6/2cAvwFdAoYBGwAIACYBGQKTAdX/OP9fAFQB1ACS/z7/5f9NAOj/Wv9h//b/+P+R/8H/+/8oAJP/XP9EAJEAOwD//0IAvgCfAOn/Rf9c/7j/4P+o/xL/+/5R/7P/2/8t/67+GP/K//7/Wv8D/3T/MgBcANX/cf+s/1YAwAAFADX/ZP9dAAEBlwAyAD8ApQCQAH0ApABFAPn/CQB2AKcA3f/I/kf/ugBRAX0AIP92/70AGwHl/y3/aABvAa0AEv/W/gsA8wCGANz/uv+o/3r/bP/D/6H/y/6Q/mz/2f8S/2/+Xf4d/5D/8f4k/9//ZgCOAGcArwDdAPkALQERAdIA1AD8AOAAogBAAE4AcgBZAH8ARgDl/2P/Of/0/30AkgCzALEAbwAKANr/eAD6AGkAAgByAN8A6gCz/2v/mwBzABAAYP9b/24AxP/t/sT+0/6F/4//Iv8c/8j+tP5q/87/1P9u/2L/dQBUARABCwGGAWQBVwFyAWgBWAFwAMX/hgDcAIAAvv+D/8cAfQGPAFb/QP9kADMBMwCS/28A7QAEAToAXv8RAFUBCgFh/4v+aP/WAH0AL//c/hL/DgD6/0v+F/72/pb/uv/z/tP+RP+r/8L/a/8MABIAaP+U/zIA4ADQAKP/ZP+zAIgB1ABW/wL/of8zAIAAR/9c/n7/+v+h/oD+Qv80/5//qv/N/x8B4wCg/5n/JQBvAY4BogDJAP8AUwHJASkB6gA1AdUAogDj/yr/PwBlAa4BjwDZ/84ARwGPAX0AyP7X/xwBggBWAMD/UP+uAEsBqwBBALD/kP8cAFgB6wDF/or/6ABfAU4BMP/f/mMA6wDeAC8AVf/6/6EAXwAzAD7/5f6q/wYAegAw/1b9Wf6d/7oAngBp/pX+PgCEAOQA8/7N/b4ADwHu/6z+yvwV//MAjP8i/ij+ggBxAQ4Avv+4AKYB1AG0AMoALwJ8Ac8AkQEMAk0Bgv/f/rn/EwFtAHr9jv1SAOMATf++/Hn8+P/7Adn/Av1//g8C0gKTAHj+vv/EAvoCNQB1/yoAPwEPAZn+B/9IADoAyQADAFH/nP8d/8j+hv8LAC7/7P5E/8MAKgFJ/77/SP+vAOMCOgDx/q3+AQHXAvj/rP5a/v4AgQOB/5b9Uf/CAOgB6v9m/db+xABDAb8AtP7W/1cBdwAKAbUAMQEQAVsAoAHoAMoBegEZADQB0wAOApECRgBO/87/CAGUAV8ASf/t/6kAZQHdAK3+Kv7N/o4A9QAX/iP9O/6W/+3/g/6o/d/97v+HAEz/j/9j/h/+8P+BAD8AQf+B/84AfgHoAOX+lf4wAcwCTAG5/3n+EwCuAvwB0wDd/sr/PQIwAkkBY/61//cB9AC1AAb/Uv8iAAEATQD+/g3/Bv93/4AB6gAN/1X+FP/UAN0AqP56/roAwAG0Aen/J/+rAf8CLwETAFcBhwFWAZAA5P9yATMBYgAGALL/8ADQ/0P+vv9XAMIAjv/Z/XH/7QDHAIP+gP2v/9YAKACb/sf9ZP/oAAAAQv/V/p7+zABRAcgATABt/nX/WwEnAp0CGf5Z/bUCvAKlAWv/xv2TAaMCGQJjAEP+dAA2AbIBbgIl//X9dQCuAvUBQf7//cv/bQLrA8/93fv1/2sBxgI3AFb9d/7IANgBuv9b/kX/BwDMAG8BeP4p/iMBVACDAVABf/6h/qr+NwEQA7f/wfxq/ZYAiAJU/x/9pP8VAhkCL/8c/V7+FQGmAcwAgv+e/Qr+kP9yAUQBEP59/ssADgHtABj/E/9NAbYAqQDSAGj/ZACVAdYCxALk/8z/4P88AbgCaADw/gEAEQGj/73/SgATAIIAOgD2/lb9WwAiAaT+MQAC/w3/OwDz/5EBpf8U/zcBQwJXAR//Vv4bAAcDngFY/rb9YgB3AmUA+f6l/fv+4AG3/5H+jP5f/zEB+AB7AMv+q/6FAZYC/QB2/zf/AwGNAcoAYgGY/xwAkABM/6ICRwEX/vz+HQD9AoQAn/x+//MA9gBuADj9lv6iAU3/q/76//D/aACQ/nH9CwE8AeD9wf+VAN3/dQFv/xn/IQE+AfABvgAI/qX+8wFTA0MB1v2x/i4CxQIJAdf8af8xBF0ARf8m/k3+QAOU/0v8qf94/1P+0f4lANsAIf0Q/NUAogJ0/yj8sf1iAkcEBAH6/ET+UQKmA/z/bP0n/4wBtwEm//D9KP64AWIBLP7i/wr/yv8BAUn/PwA8Ac0Awf8NAB4BVQKBAcX9LgARA+L+q/56AOEA0gBB/rv/AgLPAEf+kv6DAiUCsP9dAK4A2AFeABr/lAGsACT/swBaApgARP5u/XUB7AWaAH37ev6fAiQDMP9K/Hb/bgFwAOX/if4N/67/e/8MAbIAev23/Jz/jQKXAL/7hf0TAdEACgAA/oj+RwLZAL3+MQE1Aaf/F/87ALsB0QCf/xH/zADoAo4AQP5B//YAFALAAA3/Xv5TAFcCAAH//vv8NP+AAosBsP5a/QAALgMaAYP+HwDc//QA+wGL/Wj9iwGe/+T+aADL/TkAzgB8/dr/WABoAEEA9v0PAXICv/9F/2n/swFuAsT+5f2i/gQAegFX/4P9uv++AT3/Vf4q/yQAHwKQ/03/hQAq/1QA6ABXAVIBvP7z/ssA6v91AHL/pP9nAYr+g//R/2D+bwGbAB0AYQEB/xr/vgEuAnsEkQCU/L8CnQGFAMYAQ/1wAEgAdP/Y/kT8KgDFANYARv/w/HUAagO+AXT9Ov+xArED1f+J/KMAWAMTAp/+Q/4pAjkCR//Q/pgAMAMOAi7+JP3bAV8DY/+D/8D/Qf+X/+z/7v4CAHUA/f2G/1v/I/6zAOsAgv8HAM4Au//b/W4ApwL6/9v9KgAJAS7/1/6p/tkABQEs/v3+VgECAgb/5vzyAFIDlgCc+1H8XgLLAbD9e/nW/h8FPP+E+8n7BAPdAmD87/0G/8UCpwH9/XcAogGcAF//ZwANARoA2QGEABL/1gBt/7UC/wFB/EAAPQGYAL0AcP79/vkBXwLh/fn9XAGqAsn/qvy5/wID5wFS/pf+xf9+AekAsP16ABkArwK5Ar38OgDMAOgAcQDH/XAB7wBIAHgAhP0T/vcBfgHc/bX/PQFRAPP/tf5YAMcCh/+E/UUA7QFkACH/+f/i/8gAiQCS/ykAwgF+Apn/gP5NAPQCNwJX/3r+BgB/A+wAh/yH/rwAhQAeAP3+8f6n/tP+CgFFAUH+Rv4rAfUAFgG3/yL91f+NAVYA7/9+/Xj/qAFe/0/+eQAyAQb+yf1N/77/lf6F/hgAmP/z/m3+Ef78AOP/iv10/j4AQgFsAEgBRgBgAmUCJv9sALcAKwI4AmL/TP/R/98ABAGX/wABBgCX/k8A5wAdAMn/WQBM/xwAZgD2/ef+7QEOA3b+I/3yAboChv9b/oAAygH6AV//pf3qAPcB9/66/7wCEwFU/2T/wwA1BDgAHv1aAMMAZADo/uL+PgDg/7f+r/4U/iQA9QGN/Qn/mwH4/df9UAHKAoMB5/+Q/wYCCwMFAHj/GQFbA4QC+P0B/80B0f8AAAAA8f6pAF3/tP6h/2AAsADBAKYAiP4fAG0AGwDzAYAAfAAnAIr/oACvAIABTgH1AJn/QP46AI8A6gDy/u78nACl/4D84vyOAAgDGQAM/Zn+XwGqALsBsP6y/WECCP+U/iUB2/+q/0f9GAB+Apn+W/+4/aT/MwVf/xv8jAAWAqkBjf/sAH0CoQDi/g4BUAN2/xMAvgFvACEBGP7O/GQBOAP7AG78t/2lAIgBXgIp/5/+ogDiAY8BdP/0/qMAiQJcArD+W/7B/6AAQQJ9AJv+OP/h/5r+CACEARD/dv2X/hr/AAAx/5z+FwGO/vb+rAGh/5X/XgBAAUYAkwCHAMAAOAL9/lT/BAEBAmEBsPzZ/K8CngRh/437Zv+9BL0CX/4p/p4BCgSb/6H+YgH6AvEAH/1EAKMBqAH1/Yv7NQP8A2P+bfsj/UwEiARF/tT8Hf5+AVMDR//g/6wCQ/+V/jwBvQAYAD//w/7I//3/LACx/Mr8ZgFMAkkAwvwi/GIAKgNUACr9wP1PAgoBov+wAFP/EQJwAPv+jQBiAVgCE/+LAMMBIgB/AFP9uAD6A38ABP4z/gECLAGm/0D+kgDvAm0Ayf+D/WABGQQFAJn/UADP/nEAUgErAfD/4/y7//IAzv9Z/r3+NQKrATz+JP0AAOMCTgNVAdn/g//K/zQCqgC8/l8BUgBEAJsAif8g/87+bwDnAJj/2/8IAIr98P+rApsAxv2p/RYBJQHq/pn/6v7BAHoCe/00/a8BiwH8/XT/uwLuALD+5P4rAQYBu/6p/9AAdQA4/mT/gQEfAZP+ZPy4Ae4ARf/T/W/8GwIXAREAT/+W/qQAj/8DAEMAVgCk/wL/YwIxANL9S/7y/4UEHADr/Y3/D//jAoQBZf/w/0n/OQCYALEAY/2d/R4BgwAwAF/7/fplAv4DTwCU/Gn9GwH/A78BQf0S/+AAlAGLAnkAZf/p/tf/4QFsAbD/JP4vAYcEuP+c+h/9IgHZA68Bxvou+0b/ywDDAU7+X/zQ/+EA2f6V/ucADgG2/wwBJwMGAfb9AAETBDoCxf/j/WT/JwYeBBv81/4BAp8BxQE8AAEBLf/4/AoBKgJ2Ao8AmfqL//kEzv6d/Hv+cf/kADf+7fyu/yUAuP5d/2IBUgDK+xT+PQNTA9b/N/wp/24DsgK//kP+AAGIAaYA/P/+/lH+aP9tAEoCywAU+pH8eAGiAZkAafyg/ccApP+d/wwAev63/oMApwKKAjv+v/2sAN8BXQHs/gb/UgLIAlr/cP5J/90AvQGq/xUB5f+R/RP/AQGZAtT/KP1T/9IBrv9n/Vf+MAAX/6v8sf8ZAGD+5f+N/5z/df9L/ob/vAKGA4D/P/85A+wA3P1hADYDnAQ3ApT9vf3IAPwB9AA+/+//C/88/Wr+l//g/73+If8AAGn/LP1h+h8ArgYnAl37R/vJ//kChwIu/4z/nQDz/okCaATgAdH/rv/3AnwDcgAs/mf/hwM4A7f+1/yg/8AB+QAqAUb+ff7Z/03+eQGeAHH/mf4b/ioCHAF6/sv8Z/6SAlYBMv8V/1H/bP9YACsBAAGEALT+rwB9A4MBEf8y/qz/9gKAAiH+Dv1Z/y8AtP96/nr8nv1q/xYAuf+g/TP+QADTAOD/Uv44/g7/ef9IAVkCwf6w/SYClwPuAfD/Jv6X/7YBzAHDANr/vf/8/98A3wH3AB4AsQAgAX8BZ/+S/fz+6ABrAX4AVv9z/8b/0/74/9QBtgEf/3r+DAEGAosA7/4fAGEBPwGs/53+OAB5AdYBsQDz/0D/d/5yANoBXAK3/gn86P5zAFsBGwA5/mP/hgAz/4X+WP/r/7////4u/xz/y/7r/4sAIACg/5/+Yv+dAPsAOgAB/tj9IQFAAncAk/+C/zkAzf9/ADMBxP9H/y4AtgATAOX/RACbAGsAFQAZAHn/if8mAW8BnwAA/6r/TQLEAdT/yv74/xABWwAd//L+WQA0AV8BOwEHALn/XwCXAXcBJP/w/k4ArQD0/3L/u/79/nv/nv+T/xX+yv39/igA5/+N/7D+9/6hAIMA2f+I/oz+zf/5/47/Ov+C/0cA1wBYAK8AIQDb/hoASQCV/9L+u/5QAK0AIwCa/7v/hQAkAe0ADwC4/zL/GABqAfP/C/+O/5EAVAHVAAgAxf48/zsA6wDRAL//+v8uAB8BCgFwAKMALADOAOsAFADF/77/3v/0/ycA7f+i/1f/nP6V/wEA3v+NAAIBjQCQ/xcAewCVAPr/jf9DAH0A4/9U/7kANwFIAOf/WP9SALgAPQCQ/5r/cgB0/5QAlgFkAZYB1AC2AKQAvQB1Af0BkAFXAPj/jv9B/97/AgDJ/yz/vf5A/xn/o/7n/lP/df8+/3b/H//j/jj/dP4e/nL+J/+t/4T/O/+8/r3+1/5t/5H/F/9c/0T/ef8lABEAIwAHAFcAeACW/+j/5/85AD0A0/8pAAwAwgD7AHYB0QD3/5IA8QB3Ae0A5wAbAR8B1AF7AZIAMwDRAFcBsgAH/3v++/++ADwAFP/6/ln/x/7Z/lX+Zf1L/Dr8+v3//f38qvxD/eH94P3y/XD98P2G/jD/OgBTAFEAVgDIAV0CDgJdApsClQOpA+ED1ASiBNgDjgM5BFoEVQM/A5cDMgMfApMB6AGiAfgAJwCv/1n/Df9g/sv9F/6n/U78Pfv0+xP95Pzt+4f6vfoP/FX8GPyG+zf7SPuK+xP8qvz6/CP9dv1u/Xf9uf5CAOYASAHbAOQA3gEoAu8ClAPPAx4EzwPFA4QEDQUcBE8DNQNmAmACHQMTA7MC+AHbAW8CxQFLAV4BfwGCASYBwQDo//D/jAC+AMIAYwBV/+v+GQCUAEz/Vv7a/qD+Sv6N/qf9EP1L/Wr9FP2p/LL75fpm+177M/uO+o36Yfvc+yf86ft5/Cb9Pv5E/14AfQD6/68BrwPMBOYDvAMwBd0FFQZYBTsFUQVSBbcFmwWdBQ8FLwRUBKEExQO9AoECIwLuAY8BvAAJAJ7/4v9A/zb97vsZ/eL9SPw2+tH4fPiJ+bX6u/mL+Jz4Avle+Sj68vob+3T8rP2H/fb9Dv/D/00AkgFEApMBywGfAxoFGAWVBBwExgQgBpQGFAbFBAoEUQRCBFQDeAJ2AvoBnAAkAFkAHgBM/1H+Z/7F/mD+D/5v/gL/Cf/J/hX/xP8GAKIAFAEcATMB+ACCAUoB9wDYAWIBvwA5AWsBVgHyAHAAygDGABcAEwAMAGr/gv4N/jD+Ov50/Rv9z/3X/ev9pP3C/Iv8p/w+/GP7hPv8+y383/yR/Q7+9f3c/Vj+aP+lAPsAgAA5AUcCdAIuAykExATOBNAE/wR+BesFcAUIBSUFeQXNBPYDMATWAw0DWgJiAawASgDx/63/jf96/9H+A/3h+0z8//w//Jf6F/rV+Qj6qfq0+mv6uvl5+av5NfoS+9v6JPo++278g/xB/Tr+E/9s/2//1gAGAw4EkgOFAi8DLQW7BfwEXgQ2BKMEKQVRBSIFfATTAzoE0wSSBIwDDQNcA90CFgKcAdoBQgICAuEBywEHAikCyQH0AZEB5P+a/nn/4wApAK79FPxk/Eb9fP1j/Nz6s/m6+B35TPoR+t74Fvi1+O75Zfqy+oH7Y/w6/UP+I//y/zUB/gIqBFAEzwMsBJsFTAZNBtwFXgUiBToFyQV1BccDkQJFAiMCOgL0ASEB6gA6AYcBwAGNAXsB9gFiAmYC8QHNATECIgJ+AUIAQv9s/5v/a/5r/KH63vlY+rD6vfkT+C/3mPdk+Ob40/hV+OP4hPpj+2D7O/yj/ez+MgBqAe4BhwKNA9YDYAREBXIFAQUnBeAFIwYqBQgE3wMABL0D7gI0At0BTwJ3AjwC/AHyABsBQwKpAnkCtwFCAawBYwKuAlECmgHBAUYC1wFmAOj+Wf97ALf/sf2k+4b6Avv4+937+/nb96b3kPiJ+dL5Yvmb+QT69fpS/Kv9ev4i/0AA5wBdARQCUAN4BKoESQQcBIAEIQU2BcoECAQjAx0D0gO8A3sCrwEQAn4CGwJzAVABbwGxAQECZALhAhwD7wLxAhcD2QJsAkECugJEA58CDwCH/XH+owAsAGf9Fvpq+I74d/mT+fP3VfZO9of3IPmW+dr4IPla+qH7avxZ/WP+Q/8uAJ8ASwEOAhEDbwQVBe8EyQMoAzoEcQVlBVwEMwPyAugDVwQ1A9kBywE+AhcDvQPpAsQBxQHgAm0D/gKQAogC4wJfA1gD7QK2Aq8C4QINA8wBYf+4/jsAnADr/l78a/pc+qn7d/z6+tP4q/e296X4N/kB+Xn4sfjy+eX6M/uu+7f80/63AOMA6QAXAnID+gRnBbgEnATIBEkFWgWKBCQDTAL9AuADVgP6AWUBdwHzAYgCkQIQAqUBxAHJAqMDqgMGA7ACpQMTBLIDdAPGAzwEJQRoA5MBdf/L/uX/WwD9/vT8L/sN+v35ePpt+az3HPdA98D3gPjp+J/4B/kX+mn65vpV/Mj9kf5m/ygAcABQAbECagPLA6YDUwPGA5AELwUtBTUElQM8BDwFQAXXA9gC0QKdAhADxgNgA+oC3AK7ArwCUgIfAroCCAOvAgACtQEBAjYCDgJKAscBDwCE/mj+qv+H/1T9xfqO+QH6Cfv/+ov5uvcW9+D34fiE+dD5F/qM+iv7C/x+/b3+Yv9iAJkBowI9A9ID9QTiBQwGjgUwBbwFawaTBXgEyQPvAiQDfAPLAuEBOgG1AMEAagGWAf4A5wBLAfQBswKiAi8CBQKnAlsDKQMUA1MDQAN3A2EC9/8F/3n/uf8D///8pPod+Sr5Yfo3+kP4dfYy9kT3z/hs+Un5b/nV+fv6kvwf/iP/x/+eAFIBKQJEA0gEBgVGBXAFQQVHBYsFhwVYBV8ElgOeA8oDxgMmA/sBIwFeAfcBjAKvAgkCrwHsAesB9QGwAvECZgIaAkYCOQItAncClQI3Aj4CoAFq/x3+7P6B/+79jPvs+Sv5P/nV+Sv5hvco9hP2NPc4+JP4mPg5+Sv6BPsQ/Hb9WP50/4AB/AJTA9ED+QTPBUcGnga3Bn8GfwZ6BpIFWgQ1A8cCDQPdAssBUwBm/1//1/9vAHcADQBaAFABUgIuA8cD+wMIBJME4QSzBIQEWwRzBIoEfwPZAMb+DP+6/5T+mfwH+rX3o/e3+ET4qfbl9aL1L/YG95/3MfhB+e765fs9/Lb9bP9gACECLANAA/0DBwUyBqIGawbsBRwF8AQuBYcEHwNrAiMCIQLgAbsAVQBxAFUACwGqAVEBDAGlAagCYwMZBIIE2AQKBQwFIwU0BdIEoQQBBSsFhQRQAggAw/7c/h7/Fv6T+yv5Cfjl90/4wPeT9jz19vRX9V32o/fT+A76gPpP+/v8q/7d/4ABOQPnA/4DnQS9BWgGigYAB04G/AQSBb8EWQO/AkQCjwEmATEAov9V/yP/kv+j/9L/NACNAFQBBwKnArsDqQR+BFAETgSZBBoFngQwBPoDQAMFAyACmP/t/e39dv0P/BD7R/n/9tn2wPdY9zX2wfUT9mH2mvfK+IL5Gftt/GH9pf6I/2cADQITBEwFZgWFBaoFBwYbByoHvwUKBd8E0wNnArgBqgFWAZoA6/+z/0D/vP5I/wYARgByABQB7wGMAhADEQTWBBwF6gVPBgYGbwZlBskFgAXABC8EYQIf//X89Pz5/Lv7Gfp7+OX20PXo9Q/23/Ub9qT2Ive692j4l/kq+8T8Hf4t/9n/XwACAnUEZQWNBRwGHQbCBdIFBwb7BaUFowTQAisBhgDz/2P/Kf/V/tz9LP1S/dr9/v4mAK4AewHCAlMDmQN/BFcF8gXtBogHUgexBkQG9AWxBVcF8AO0AvUAJf6p+/j6f/pY+WH4uvaF9P7yb/Mz9Ef1z/ZK96L2dvf2+L76Vv11/10AFAHsAXYCYgQ2BoIHWQhJCFgHqAauBj8GZwVuBFMD4wFKAIf+If0S/Zb9mf1v/WD99vwA/R/+AgDNAQgDGASsBNUEeAWaBscHlwjJCI8I6QcDByQGqwWNBZwEegOIApv/TftR+R752fhO+Gj2svPo8b7xhvKq9P72GPhv+BL5P/rE+/j94gBbA20EGgUtBS4FSwbXB50IRQnQCM8GBAXTAy4D0gJPAlYBhv+C/a77avrf+tj8c/7W/k3+Dv4M//8AXgPtBOsFTgaFBpAGnwYsB9QHEAjUBwUHvwV3BE8D2wK+AuIBdwBB/oP6y/dh90H3fvfR9xn2FPSM8zrzmvN29fj3JfoT+0b7SvtI/NP+AQI+BAAFPgXGBM0E9AUeB3kHLAdXBkcFjwNfAVEAGgDV/17/GP7H+xT6X/o1/Ln9Kv7M/hX/zP/EAXIDWgSJBTEHdQiWCCwI4AcJCHQIcwjXB/kGpwUnBIsDWwKHAHn/V/9a/bf5wPaN9cn1gPYD90b2mvS688X0NvZq+GT6+Pv6/Fn+hP/Q/40AJwIjBDYFfAX/BOAEIgWXBdcFVAUtBDYDcQI1AdH/sP4A/pj96Pw+/Nv7EPxq/ff+BgD7ANoBlwIyBN4FwAaGB9MIrAnDCZ4J2gjuBy4HngZOBh8FewNHAjEBmQC2//j9c/zG++n5FPft9AH0YPQ69b/1hvXc9LP0sfVA9xH5Nvsp/aD+7P9hALwAjwFKAiUD3QPAA8wDXAQqBIMDeANGA9QCdALBAb4Axf+u/pz9Nv2o/H781/xi/Uf+XP9RAGwBpAL/A4MFjwZRB38HcweUBy0IYAiSB6AGHga+BeMEBgSEA8ECswHbAM7/gv6s/Tv8Efo1+MH2I/ZD9lj2/PXP9Qn23vaj9x747fgS+uL7Rf7r/4gA5wBxAd8BWAI5A7gDNgS6BH0EugMDAyACtgHOAUwB9ABxANX/m//e/iv+tf0J/kz/kwBHAfcB6wKOAzgEJgWrBewFlwZ3Bx0IAQhWB20GpgW7BMoDqAJ2AeQAgQAnAL//uP6g/cL89/sE+zr5yfdx91j3/vY097n3TvgR+Xv5U/mN+cz6vvy0/ioA/ABuAQwCQQL2AQwC5QKcA9UDwAMbAxUCrQHfAa8B1QC5/+X+rv57/hT+sf1j/Tv9iP10/iT/kv+0AHYC3gPoBFgFBQX8BJYFHwavBsAGEAYsBfMD/gJ2AskBBQE2AS8BQABX/8P+O/64/Vv9uvsq+Wb3QvdK93v3cfhK+az5Z/qr+jP6gvq0+4n9hP8MAfcBowKDApICjgJmAnACygKwAw0EfAOHAgkCxwFrAaIAdP+O/qD+2P62/sD+tf6u/n//QgCzAJgB5AI6BEAFwQV3BeYENQXnBS4GLAbuBVQFnwQRBHgDbAJQAYYA+/+j/1X/Hf/k/pf+0f27/Ar7iPlE+ET3rPav9lH3D/j2+P75QPqS+c/5B/uo/Ln93v65/00A8gDlAVQC5gGdAa8BxQEWAvMCOANMA+ACgAIHAtMAkP8O/xP/pf5W/mX+e/6x/mb/dAByAcsC4wNRBHYEpQQRBXAF9QXpBb8FmwWCBWkFrgTEAxsDrAI6ArQBEwGYAAUAXf+0/ir+8f3Q/Dn7t/kj+NT2lPb99k33/PeQ+Av5gfkY+ub6xfvN/Cz+Xf+gAPoB9gJZA9ECigKpAtMC0AL2Ah8DTwOFA2EDpQJ1AV0AfP+B/mz9GP0F/SX94P0k/44AWQE+Av4CaQPmA2QExwTyBFIFBQZvBmIGPAacBY0EcgONAjMCvAFQARYB2ABzAPb/XP8l/hH9WvxA+w36O/mY+Av4tvfs94P4NPkT+sP6FvtO+7n7mvx+/Xv+n/+UAG4B9QEOAscBkwHBARECUAKDAs0C9AL0AsQCHAIZAT0AsP8Z/3z+/v2q/ZP9FP7n/vL/9wDfAbwCjwNIBG0EuQQXBVoFqgX4BQwGmQXVBO0DQQOFAnsBpQBMACMAEgAHAPX/o/8+//f+aP5J/Zz7Vvpc+eP4w/jl+MH5Yvrw+iH7Hvtd+/b7q/wb/ZH9Nv5T/18A7gAiAXgB0AHzAQIC0QEAAnkCxwLnArsCTwL1AW0BlgDn/xj/Tv4S/iP+TP64/sP/ygDmAeUCMQM7A3UD/AOIBJcEggSQBPYEbwWKBWIFyQTDA8YCCwJOAXMAyf9+//X+Zv4a/hX+9v2m/br8Yfs6+j35hPgk+Oz3Lvi4+DD5BvqJ+hH7iPsj/OD8S/3y/eb+CwAaAcwBHgJGAlUCggI+AhcCfQLpAkADfgO1A8gDmgPvAiACFAHv/93+If74/Xj+U/9gAGABXwJ4AxwEewQSBVwFDQW2BJkEoQTABNIEqQRRBJ4DwQIbAmwBsQCNAFcA9P++/5//k/+F/2j/x/6t/U388frR+fn4MPjz90r4yfhP+YP54/lT+sj65voo+xj8+/w5/m3/UwAEAVwBqAHLAc0BlgHBAUACNgIEAjMCEgLHAXoB7AA1AF//q/7r/bX9zP1e/lX/VwCFAWACUAPfAzgE6QRDBcAERQQzBE0EAwSiA8MDiANlAyoDhwKvAZoAuP9Q/wb/8f4i/xj/2P5k/o/9g/xs+8/6Rfp4+cD4lfju+Df5Afqv+h/71/t8/MD84Py+/db+S/8NAPMAigEWAl4CqAIfA4oDvQNpAxIDDAMFAy8DPwPuAtMC5gJ3AogBvAD//4j/c/+e/zgAGQEOAr4CLgO/A2QEnAROBKADlgLdAcQB/AFbAn0CLAJfAaoAZwBVAFQA7//e/+z/zv9c/57+Mf6u/b/8w/v3+vP56fgk+ML31vcz+LP4r/mS+jv7zvsJ/Fb81vyI/T/+3v6N/ygADAFBAiUDkQOCA4MDeQMjA/YC1wLsAp4CiAJ6Ah4CnwEmAc0AXgBLADYAEQA1AFUBiAJBA9oDRgReBCYE5wORAxwD4QKbAvgBqgFmAQAB0QCiAFcALgADAML/uf/Y/9D/m/9k/yb/u/5I/pf9ePxl+2j6j/nk+DP4NPij+Db5uPln+h/7iPtE/CD9z/12/iL/tv89AOgAoQEqAp8CEwNjA1sDpwMyBGYEOgSbA1QDMwP9AtUCtQIFAi0B7gCoAJsABAGDAfUBIgJDAqgCvwKeAsACKAM1AyID9QLHAvgC6AK4Ak8CmQHmAE8A8f/i/+P/8P/D/1f/AP+9/nX++/2n/T39Zvx9+8b6RPr8+aT5OvlV+an55Pkx+tD60PvE/Lf9m/7E/gn/b//Y/2cAwAAPAYoBVALOAogDTASpBAkFUgUGBWQEJATdA1AD3gLDAiMCWAHrAJkAKADH/73/8/8qAIQAzADbALwAsADnALAAtwDsAAUB5AClAHMAUQDhADMBOQFVAXABeAHEAdABgwFMAZwA7f8Q/1P+Hv6q/Wj9KP1j/Er7Vvoe+gj6Dfpw+qf6y/oE+2j7+fuF/FT9Qf40/8v/PQCdAOAAcAEGAnkCAQPlA34EjgTXBDMFzwRCBMED9gL+AVAB0gA0AI//MP/k/pD+Yf4o/tb9k/2L/Qj+qv57/4kAhwEBAvoBLgJJAhYCDgLOAYABbgH3AY8CoAKwAqgCRALSAYEBbQFmAe4AZwC9/wv/Xv6g/VL9P/0h/cv8t/uW+hv69fkO+lL6z/pl+9j7V/zG/D/9/v2p/lb/9v9MAOEAeQEsAhwDvwPtAxsEIwS9AzQDjQIEAnkBxQA4AL3/Xf9T/zX/HP/V/hz+Kv6V/iz/AACcAEAB2wFMAogC1QJOA3cDVwPoAlwCuQEiAeoAdAAjALH/1v/mAIsBDAIvArsBHQGrAGQAAgCG/0H/HP8K/+f+vP7H/nz+Xv4f/nH9uPwP/Nb70vvf+7H7Bfz8+xP84fy2/bH+cv8EAFcAwADrAC8BtgGiAYgBtwGpAZ0B1AE1AhcC/AHtAesBGAKLAtwC5wJoAi0BcgD//9P/1//d/1MArAADAZEBCwJgAj4C+QF5AQ4B8ADGAKYAqQDoANUA9AA3AaoBPwLFAgoD9ALnAoYC9gEjAUoA+P/o/3b/z/5d/kP+WP5H/pH9svwf/Hz74voW+oD5dPly+Vn51vn3+v372/wp/Yf9Pv75/tj/5wCEAZcB1QEnAsgCWgNxA2QDVwNAA/0C5wLDAosCkwL9AVYBwQAAAPP//P/e/+v/BAA7ABQB/gGlAiYDcgNZAwUDmAIfAsEBkQHSARECHAJ7Aj0DZwNnA4wDeQM3A60CBwLcABkAmv8K/5X+Nf4k/uP9Ev4+/kH+rv26/Mj7fPpB+Ub49ff290/4ovhW+ZP6lPu1/Mj9gf5L/+n/GgBXAKQA/wDSAVgCeAKaAqwCaQIxAmUCrwK6AsgCugIxAgcC3AGCASEBzwBrAKD/A/8o/6P/YgBeAa0CnQM6BKEErQRgBHEDrAIhAoUBVwGvAQ4CyAF2ASoBUwGzAcQB2QFNAfAA6QCNAEcAPQA3AAkAt/89/7v+Mv7s/VH9tvwN/CT7ovpH+uD59PkF+gX6gfo4+9v7TvwD/c/9Z/7x/nr/LADJABIBNwElAUcBnwEDAi4CHgINAr0BbwF4AaABfQGKAYMBUwEBAc8AmABvAGgAlACnAKMAjgCMAB8BVQF+AdAB9wHOAXABXgEcAacAnQA0AToBXQHmAfMBMQK3AisDTwNFAzsDEwNyAlgBjACT/3/+5v1a/cT8rPz3/CH9Hv2V/NX7Gftf+r75m/mx+fL51vqo+2P8Gv3Q/dL+l/8QANIAHgFeAcEBzQG4AZ8BdQFuAZ0BtAHQASMCVwJcAoUCdAJDAhQCGgIHAo0BXQHBAEIAiACPAJcAsgD6AGkBAAJaAp8CJQP8AoIC8gGCAZwB/wH7Ad4BswGgAR8CUAIwAioCLwLoAfUB9QF0AdwAy/89/5z+xv1e/Ub9hv3Z/eX9t/2j/Uj9avyE+wf7lfoP+v35IfqB+g373/uw/Mj9Jf8PAJoA7wBHATwB9ACrAGgAOQA7AKYADQGGAfUBsgJ3A8AD/AMCBKMDHQOUAu4BdwEJAY0AUABMAHcAZAA4AIwAVgH+AUkClAKgAjECmgEaAZcAIQAhAF4ApQD0AAQBmAHjAeoBEwLWAW0B/QDPAO//Tv/0/rP+A/8E/0L/Mv8L/+H+Mf6V/Q/93vz9+2j7M/vh+nL61Pnf+U36MPsq/AD9y/1b/j3/2P/3/zsAlQDGAMIAAgEtAUMBsQEOAjEC4wJAA3cDnwNgA3QDqQLSAbEBmwEMAd8AnADb/4//bP9D/0H/AAAKAdoBHQIdAmkCdgIuAiAC5QGBAVMBIgFsAVQB5AAGAWUBiAGXAd4BgAHpAPIA5wAKAdkAegBTAF0AXAATAJP/EP/k/rb+ev6E/sP+Gv5A/ef88vvk+h36lvni+d76B/xr/Q7/MgAgAcMBygH2ASACwgEsAWYA4f+D/1n/p/8jAGkAxQAtAXYBXwFDAXwBOgH5AMcATQDS/yv/6P66/kL+6v00/vv+hP/4/70AiAEDAkUCQgLRAVgBVgGLAVABawGsAYcBpwHxATkCQwJsApgCfQLcAVgBIgHXAPkAIQG/AFEAGwB7/z//Bf/f/hX/vv84ALf/sP5v/Sf8ofpv+dv4Bfmm+Z36yPvP/DH+Hv+u////BACn/zD/LP8o/4//pwCpAS0CogLrAgADrAIdAhUC/AEoAYQAngA+ANn/pf8I/6X+L/7Z/UL+s/4p/7//HgC/AE8BMwLZApIC8AKDAzYDzQKeAjoCIgJZAhUCuwGZAbcBvQF3ATcB5ADzAGoBWAHsAJIADQBg/9v+tf4J/2r/xf/w//n/aADw/2/+Lv01/Df7GPpd+Y/5cfpW+0z8lv3G/qH/yP+M/6L/vf/b/y4ARACCAFIBpQGTAdUBhwEeAQ8B8QAFAfIA9QAUAVYBqAGBAQUBIwB3/y//BP/d/jf/LgAhAWUCUgONA8sDNAQWBA4DGAKhAVcBdwBPAN4AKgGVAdkBDgJ7AV0BZwFzAfcBmgLmAmICDQKgAb4Azv/c/gD+jf3R/er9G/5y/pD+K/5F/Sr8EPtA+gv5KPhj+NL4hvmK+sj7Vf3+/rr/ev8m/1H/cP+v/+X/CABdALIAawDJ/6z/iP91/1z/Nv8q/6P/SgA+AcIB9gHZAVMBrAD4/6H/af/K/5gA2AHuAsoDUgSuBJoEygPkAgQCSgG3AJgAQwBRANIAQQHNAYEBZQGyAd8BIAKZAvYC4AJQAmgBhADk/6H/rv6s/Xj9uf1R/vn+MP+G/1n/u/7W/R38evoh+dX3C/c69074Rfre+xv9nf7O//v/1//l/4f/iP87ABYBSwGnASsC6QFPAd4AeQDx/83/CwC+AGIBrwFLAvsC6wL4AR0BRgBL/xf/ZP9d/wwAkAHpAtIDXwSSBGEEzQO2AvUBfAFlAaUBoQFzATUBxAAJAJb/Nf8y/53/OQC3ABcBYwGHAScBsgAkABv/Of6i/R/90vw9/TD+6/6H/yUA7f+n/r782fpq+Wf4o/cO+Jn5Ufsc/Xn+Mf/N/28AXQBAAIwA+ABqAb0BHwI4AuoBhgGaAK//of+0/8D/XgCkAbUCggNUBC8EpgP3Au4BsABd/9P+W/82AJ8ARgGRAkEDVAM+A9MCPwKfAQ4BpQCfAL4AAQFPAUABPQF7AT0BsgCjAOEAYQGxAf8BMAKvAWwBkQBI/1X+X/1g/O37XfxK/ZT+KADzAHMBUQFHAHz+Y/zJ+rL5V/k1+YP5f/rn+wT9mv1U/uX+8/5X/67/4v9eAEYB7AHqAesB0AG6AUkBbQBqALMA8wByAWUCAgOFA9ED9gIaAiMBVwD6/9v/HACaAGkBKwLcAmgDrgPpA+YDbAOYApkB5gCmAHEAfgDsAGkBPwGwAI4AHQAMAI0AFwEQAvQCOQO7AkECmAFxAID/0/4W/pP9wv3x/Vn+/P6F/9j/7v92/w/+ivzi+pj5EPkn+b35UPpo+4j8If0R/v7+gf8EAI8A1QAsAWoBmQFsAZcAEACR/+b+X/5p/gL/7/89AUACogITA3UDFANtAncBeABs/97++f61/44AbAHBAowDyAOmA1gDyQL1AXUBMAHxABcBTwESAeIAlAD3/6H/j/+U/8v/swBiAdIBSgI1AtoBXgGoALb/7f5Y/kX+hP6T/hL/bP+q/93/1P9n/77+6v18/P76vfk/+f34KPns+bH6oPtq/OT8/fye/cb+nf8HAKQAswCSAbQB0QHuADUA/P8k/+z+N/9c/0IAmwEOAkECiAJ+AhcC9gF5ARcAOgDv/x4A0gAjAZ0BTAJaAmgCjgJCAlYCEAK6Ad8BqwFSAQ4B5ABeAD8AZQCrAEYAqgClAcoBNwLDArIC7gI8ApYB3gCX/6H+S/4D/ur9pv51/5sA6QBTAAYAr/8Y/tf9xfxP+6P62Pjq+JL4UPhv+VH6O/sh/A392f3w/qH/2f/5AHYBzgGkAc4BPQGHAGcA9P+6/27/4f9MAOIAEwH3AWcCLQKNAh8C2gELAW8AMAB5AKsAfACjADEBNwIjAvgB1wHNAW0CHAKxARgC7QGGATQB4QBiAA8AGAAdANwATgErAVACsQIYAsQBoQF9AB0AnP9Z/5L/av9FAGYAkwAyACoAff+r/1T/d/63/mT9P/yf+h76uvnD+S76pPru++H8tv1p/Yj9+v3V/oj/9/8QATEB6wHNAf8ADACg/8n/IABZANAAgQF0An0CpwJgAhsCiwI4AocB0gBjAFUAwQC2AJQAKAFAAd4BNQJ+AecB7wHJAf4BvgHpAQcCLwFXAScBKQGXAQkCVALgASQC9gExAtwBcwGiAWEBJgENAdEAaQA7AD8AJADb/9H/XgDe/5P/lv/m/j7+WP2O/EL7N/q9+Z75Jvlt+QX6Ffp++2H8//wJ/j7+Xv7T/ij/ff8qANkAbAFfAR8BjgAAAN7/vv+x/1cA9QBoAfMBGQJOAlECIwIvAqABQQH9AKwAiQAvAZcBBgKPApICVgIfAk4CzwFtAekANwFPAb8AiAC0AAMBIgFfAa4BJgKmAtMCEQPnAlUC9wG3AVEB9gCjAFcA6/+N/3X/KP+2/rX+7P4p/1r+/f1v/b38Nfwv+z/6tvkP+gX6KPrG+in7XPyZ/OD8M/3w/dj+rf/qAIcBKwJ3AlwCnAGjADkARwDH/0gAHAErAbIB7AEcAg8CUQJBApUC6wEMAd0AIgDL/yf/bv+q/7AARQGsAZsCUQJUAnEBYwEKAfYA1AFXAToBjQHhAekB+gELAj0CMgIXAgkCjwGDAU4BNgEJAT0ABv+S/mP+5v2D/W/9hP0a/Zz9Gf40/vD9bP4k/pv9LP3G+yv7ufqi+mf6+Por/EX86/xX/Zj9Lv4M/+P/bAD5ALAB7AEIAmIBtwAXAP//+P/N/3YAEwG3ARQCUwINAksBMwHJAJIACAEnAW8BtAGSAfMBsgL0AuIC5gIaA/ECugIfAuABUAHKAKIAZABpAL4A2ADkABsBJAHMALoAsgCyAOUAywCQABIAEwCC/wv/I/7A/fX94P1V/v399v2Z/lb+av4V/sb9m/1u/eb88vua+6v7Hfw9/BX80/zQ/RX+2f4e/2//aQByAGAAegDqAAABGwHEAM3/xv/9/0sA2wDsAM4BgQK+AgYDiwLcAcEBaQENAc0ArgCfADQBpgH6AXYCcQIAA+ACdwJ/AmUCZAKwAnsCZAIkAtMBcQEjAbUARQBuALr/jv/n/ygACQCx//3/mf9Z/7f/xf+U/1D/Af/B/kj+Sf41/nb+FP8i/xr/Vf7W/bj9kvzB+/v6H/sD+2r6FfsC/Kj8QP2u/f/9ZP7y/u3+EP9B/7z/zP/g/7f/qv/n/6f/cgDOAA0BaAFtAhkDPgPAAlgCfQJfAnMC/QHvARwCHAIkAvkBnAGqASUCDAIpAtsB/QEYAgMCIAKmAcUB3gF9ASwBDQG3AAcBMwEfAfAAqwD7AI0ABABM/zT/Jv84/zD/GP9i/yj/Kf9F/nr9EP33+xT8JPwi/En8Nfyo++P6vPrm+ob7b/sB/Cb9yP1//gz/Xv+x/47/qf9U/8X+8P5V/3r/cP+O/7r/WwDNAF0B5gE3ApQCTAIjAm0CNgKGArECYwKBAoUCnwJcAsUBLQIeAoMCpgJ5AkoCPQIYAkABBgGXAN0AogDAAFYBrQGZAYYBAwEBAJX//v4n/7z/z/8OAEUA5P9l/wj/Pv5G/kX+QP6e/kH++v2g/e38Qvxa/MP7HPxx/HL89Pzr/JH9OP10/a395v14/jL/0v8fALsAogAUAbIABgCWAJwAvQDcAMwAsgD3ADwBkwEBAkECogI/AucBAgIDAh0CFQJkAfIAxgCxAOsAwgBKARICKAJTAlQCFwKeATwBCQG7AMUA5QC7AHUAUwD3/83/9P+8/2z/Yf9m/1//Kv+H/pP+Vf77/eb9dv1Y/Tz9cv18/dD98/1M/qD+oP7z/rz+VP85/yT/E//a/iD/6/7P/t/+Gf/2/sj+Nf9K/wsAVQC6ANoAggBAAGgA7QDdAPsAjgEaAmMCZAL1AYoBIAHIACcBCgE9AfQBIAJLAkgCegIvAkgCMgIhAiYC0wH3ARcCfAETAfEAagA8APj/iv8j/5D+tP6t/ob+xf55/lb++v2Z/aL9nP2j/S3+kP6t/pH+sv4L/xb/2/6r/g7/Wf9m/6j/iP8n/wH/+/7X/n7+bv5P/mL+xP7j/g//rP/9/z0AVgB0AJgAggCQAOkAPgEUAW4BkwFPAV0BCwHzAPgA6AD4AA0BjgBXAIMAfQBLAHoAkQBvAMwAIwGGAfsBWAI1AvMBdgHpAJkALgAJABgADAADABcAxP9n//H+ov59/gP+L/7V/iX/o/+K/33/b/8O/w//2f4T/0T/mP+r/1P///5V/gX+Iv4R/jT+fv7s/mn/zf/1/8L/7P8CAOP/v/8SAFgAtwAOATwBfwFdAVwBJwGnAJsAhgCMAJ4ApgAjATUBAAHZAJAANgA1ACoAGACPALgA6wBFATkBUwH7AJYAtgBcAE8AcwB5AI8ANgB6/yX/3v6u/mD+Nv5f/qP+5v7N/u7+sv4W/5v/qf/n/zkApwCIAN7/Yf8o/xf/Sv+p/5r/bf9U/0f/Vv9p/8T/AwBoAFwALAAbACcAZACHAL0A4gADAQoB6wCiAE0AhADiAPYAcgEXAokCEAMmA9ACWgLBARwBuQB2AGEAOAACAO3/uf+d/73/6/+7/2H/Xf8+/zv/AP+a/pL+UP4M/gP+Cf4b/jv+VP6D/qv+xf75/qf+of5v/m7+tf7P/vP+Df/7/sH+wf6q/p/+wv4U/0//1f9gAIQAaQA3ABAAFQAcAMz/Yf9k/+H/MQB3AIUAugA3AX4BrwGfAagBvgGQAWEBPwFCAWgBjwFmATkBwAClAL0AbwBpAHoATQABAL3/n/+l/6X/s//F/+r/HgAVAOP/6f/n/7b/rf9y/zf/Zv9+/2n/Vv8j/x7/XP/T/+f/if9B/0j/gv+f/5T/jP9g/0T/Iv/g/uv+M/9k/wEAWgCeANEAkQBqAPL/2P/m/+r/TABSAI8AzQDFAMwAwgD0APAA1QDcAP8AVAHmANcAegDu/9z/PP8E//n+GP+9/+j/NACdAJQAbwAUACAAFAARAFYArAC6AHQAPgAGANb/nv9g/xb/Sf8g/yn/Kv8g//T+xP62/mz+of6d/tD+F/99/yoAPwBGAFgAhACAAHsAgABMACEAEwCv/2b/af9r/2n/o//O//L/t/9i/1D/af+V/+b/MQBJAFMAQQA0ABoAEAA1AGYApAC3AMEAugDBAH0AYQAsAG0AmQC3ANAAqwCqAJkAtACDADMATwC1ANsAvACUACgA1P+i/8//yf/7/yYARgCWAKQAXQAVAKr/g/+x/+j/KwBVAIUAOgDw/8r/uf+s/8P/AQAiAEQAegCvAHwAKAD4/6n/sf+e/4P/7v8BACEAHgAUAAsAJwBGABQA5f8IAEMAbgBlAFcAIwAAAOn/qf+T/57/jv+L/zr/Rf9r/6T/lP8y/1//k/+M/2P/jv/H//X/BAAdAOT/n/+F/0r/Iv9K/2X/qf/M/9L/BADa/6X/lP+X/3H/cP/5/1EATQBfAEwASwBCABsADADE/9L/XQCMAIsAXwAyAIcApACnAJ0AcABXAAkApv9V/wr/Mf+q/xAAVQCFAK8AuACTAD4Azf+R/6H/ov+6//z/NgCCAHEAEQDm/6f/hP+c/4P/Lf8g/2f/tv8xAHsAXQBtAFEALgA0AB0AVACDAIgAgQB0AJcAYgANAB4ANwBEAEkAQAAoAAcA+P/X/7b/of+V/5f/rv/d/0EAlwCUAHsAMwD4/+b/p/85//X+Iv+Q/xUANQBUAJAArADTAN8A9gBLAXcBYQFeAU0BJwHSAJAAOAADAL//eP+t/37/T/8x/zT/av+i/7L/0v83AHwAegBRAIIAhgB/AJYAhQCGAGsAQAAgAB4AJAAaAAwA/f/k/9H/dP8P/w7/LP94/6r/hf9l/2//gf/k/zcAWgCGAGAAAgCZ/2n/ev9v/7//v/+S/5H/X/9b/zL/Hf9x/87/2v/m/8f/gf9L/2H/s/8FAHgA4gAhAUMBcAF5AfkAdQA/ABoAJgBRAJ4AsgB6ACQAvP++/6T/ov+x/6D/DQCHAF0AIQALABUA//8FABIA/v83AGYAuwDIAK8AcADt/4f/V/9b/0f/WP+m/wcARgAtAAgA8v8sAHAAbQAqAAEACAAKAAIA4f+7/7j/FAAUAMv/BwB7ANIAywCBAFIAEwAgAGMAXgBSAB0A9P8xAFYATwCMAK8AgAAmAHL/J/9t/3j/wv8hAHUAoQB+AFAA1f+O/4//k/+I/6P/5P/9/w4AAADK/7T/t/+X/3//a/86/yT/QP+C/8v//P8UAOP/2P/w//P/9/8GAPn//P/s/7b/e/9c/1P/Of9O/03/kP/l//v/4/+E/03/Of9Z/4f/nP+i/6//0v/6/yAASgDDABQBFAHtAG4AQABYAHEAowCeAKkArABqAEUAPgBXAIkAhgBQAFAAUwA0ADoANAD9/+7/CwAfAEgAZwAzAA0AOABeAKwAJQFAAVoBSQHdAIcAoAC3AI0AuQDeAOgAxgCfAE8A8f/L/6//0//N/73/1/+h/2f/Rv8q/13/n//m/xcAAADG/47/1P89AJoAAAEZAXYB8wHXAYwBLwHYAJIAaQAEAE//I/9M/33/gf9S/1X/bf+V/6T/o/+A/2X/jf+e/63/zP/r//z//f/o/4f/L/87/3P/pP/l/wYAGAD8/+P/AQAWADQAFADM/+//NQAXAB8ARAA4ACsA4/+o/3v/n/8AAA0ADQDd/7r/pf+p/8j/9P/q/8v/JQCdAM8AUwDW/4D/hv8qAGgAJgDd/+r/CwDT/5D/df+f/xsARQAbAOf/5f8BABAABQDR/8n/sf90/3n/wP/h/wwAZwCoAFgA7/8MAJwAAQHeAF8AMADCABUBEwHrAM4A1gDBAFgA0//F/9D/7f/u/9r/4P/M/6//fv8z//n+CP+O/xgAeAC7AMsAAAELAecAuACYAHoAZwBzACgA9P/t/zAAegBKAF4AZQAvAG4AmQBhAFMAsADjAMYApQBoABIAIABfADEABQDw/+j/2f/U/8b/kP+F/33/Ov8C/xH/X/+6/8v//P8tAAsAkv/Q/iz+I/6E/sT+Ev87/0n/Q/8W/+b+yf4J//3+5v4c/yH/XP+f/9z/KABKAH0AkwCpANgA8AAoARcB+AACAQkBSAF7AbgBqgFiAS4B5gCdAEUAIwALABQAGwDK/6H/kP8h/5T+af6I/pD+1/5D/0n/F//N/ub+Tf/n/1YAtQAFAfMAPQFbASkB4gDAAHYATQB2ADAADAAFAOj/3f/Y/9f/6v8jAD4AIwDq/8z/wf+n/7//3f8vAJIAhQB+AIIAygA7AVQBOgHeAJQAkgBiACsAHQANAO///f8wAGMAUgCEAGIA2P9Z//T+/v4c/x//XP/G/z0ArACgAJwAyADIAKQAhAArAPv/3v/Q/wMA7/+8/1n/KP9i/2D/lf8EADYAagCmAI0AgQCMAEMADwDF/5T/Q/9u/7z/rv+5/37/TP9r/4D/of/S/7b/mf+Y/5H/xv8uAFEA7P/A/+b/OQCdAKQAaQBvAIoAbQBcAFgAbQCcAHIA+/+U/x//6f4h//7+9f4H/9n+w/76/i7/Mv+L/+z/EgAOAD4ASQAXAFkAmgCKAK8AwQDhABsBIQENAXMA0v+T/3H/nf/S//D/GgDU/7L/oP+y/+7/+f8rAF4AaQCDAPr/nP+s/5P/2f8KAGwA3ADqAPwAtgBfADgA4v/8/zcAWgClAHQAcwBBACsAYQARAAoAIAAbAB8AIAAfADcABAAAAOH/v//C/53/1v/L/8z/9f8EAE4AaQAQALL/Yf+B/43/lv/p/9T//P8jANr/7v9qAJIAnwAgALX/0v/q/xIARgCaAL8ANADq/wUAk//u/4T/K/8y//n+NP9B/zf/WP9S/6z//v8FAHwAkQBSAHUAWABPAFUAVwDoAPoACQG0ACEAuv+Q/4n/5P8FABcAVACaAMgAogCjAFQABgDo/4v/dv9S/3b/q//0/1kAbgCJANwApQB4ADcAHwBmAIUAiQCWANUAtQCMAC8Aq/9a/yf/av/F/5j/JP/E/mz+SP4u/nX+oP5T/xkAXQC6AMoABQFoAU4BIgHXAMoACAEAARMB1wC5AMsAlgBoAGYASQBKANr/l/+N/4z/9v/z//f/QwBWAH8AkQCuAP0A0gB0AAMA5/8AADUANgA1ACgAQgDd/6D/rv/m/+v/3P9AABQAFAAvAP7/PQDd/3n/mv9//1r/Jf8j/0b/SP8j/13/lv9w/1v/kP+c/5r/6f+v/7f/lf9d/8f/p/+T/2v/kv+4/8X/vf+o/9L/2f/I/8//7f8zAFoAWwCqAI0AYwAZALX/2P/a/+b/1v84/8b+hv6t/hj/K/+D/1r/C/9F/4//qP+u/wkAAQCw//r/bgAJAbABpAHdASsC9QENAqEBiwGaAX4BqQEfAQgBJQGtAJEAQQCu/5v/Vf89/07/Y/9L/+n+5P4O/2H/o/9D//j+JP9g/5H/2v8iAK4AnQCbAIQAvgDrAL4AlAB7AEcA9P/H/0r/0v6i/r3+vv4l//f+mP6G/kj+KP5N/rz+Qf8QAFIAWgBHABQAiQCjAM4AcgAZACQAewCgAJgAnwChAMwAtwDhANsA0QCrAHEAogCcAF0AAQDH/6z/t/+3/87/EgAaADMAdwClAL4A9gCrADQA/v/L/6D/Rf93/8v/FwADAI//Wf8B/6/+iv65/iH/lP/u/9T//f8RACYAEQD+/4gA1ADaAKwAlACDAI0AMwAnAEAAPwAIAKj/WP+2/q7+/f4g/1X/ef9A/zX/lv+4/9X///8KACIAVAA/AEYAbgBIAA8A2v8rAHEAWQAoAPn/MgAaAB8AOQCDAB8BLgEtASsBrACRAHAALgAKAN7/IwA8AHcAkgBSAH4AMQCw/6L/U/92/z7/B//L/o7+4/4N/w7/F//8/nX/jf97/8T/wP/6/8r/nf+U/yX/bf9E/3X/pwAKAVABLQHtAFAB9gCnAJEAeADGAL0AtQABAQIB2gDWAN0AyQDFAGQAx//+/xsAtP/8/m3+Tv77/nP/Bf9M/4b/Vv92/2r/ZP9z/0P/NP/p/sP+sP6P/sf+9/44/7T/6v/c/8z/6//S/wsASAA5ADwA7/8SAGEALAAdAAoAQABGAB8AFAAAAPD/1v+7/7T/zP/w/xAARABfAAQA5/8OABAA6f/1/xgAsP9b/2P/Xf+G/6b/hf+b/6j/hv9b/7X/4f/D//7/mgDhAEYAJ/8S/7r/9/8UALf/Sf/H/xQATgB5AL4A1gDmANoAuACdAG0AWQDU/wgAFQAZAF4AagCvAPAASADy/w4AKwC5AHcAHgAfAOD/zP+e/yH/eP+d/9L/8v/p/xEA1//N/6r/jv/Z//X/yP++/+D/t/+y/8D/oP/B/6T/c/9I/4f/t//E/yEAXACSAOAA3QDzAAwB2gDjAPcA7AA2AccAEQDu//H/EQAPAA4AZgB9AE0ACwBY/y//i//f/4IApAAmAKb/hP8s/+b+Df+l/1cAgABTABQAYgBpADAAKwAKAD0AvAD2AMoAcgBNABgAyf9qANsAogB5ACQABQBsAEoAuf/e/yIAawBBAMX/Nv+e/hH/8v65/vP+9/5i/8r/CwDg/6D/1P/P/8r/sv9K/9r+0v40//P/aABsAG4AawBQACgAKgAuABwAgQAtAeQAxgDNAD0ARwBpACoA9v/S/63/HQCAAFcALQDW/8//+f/0/ywAigCXAFUAYACLAPAACwFuAD8AXAB3AL0ArQCLAH4A+f+N/1T/4v73/l3/sv/B/wMAFADl/9P/jv9I/4n/Rf9O/wQAJwBsAHcAkgAHAS4BgQFNAdkA+gAPAdAA3QAWAdkAYQAJALr/rf9FAIkA+/+3/9P/dP9h/xj/sf7S/ib/Af/p/nH/iv8y/wT/2P7X/iD/Kf9i/xgAiACiAHgAIgC7/7r/9v81AJYAowBxAI8AawBgAKIAmAAVARQBdwB9AFkAtv+o/9n/jP9H/x3/0P6e/or+SP5i/on+hv7Y/vP+Of88/yf/0v9qAOEA3QCnAAYBgQFMARkBTAEuAekAZwAKAP3/FQA7AOr/MwCpAJQAYADF/7L/0P+O//f/LAA2AFoAYQB0AGsA1QD0ALUAFQEaAY4AcwD//9T/FwB5AIwAlwDuAMoAtQCgAC8A5P/t/+n/EwBQAFwA7v/f/wcAq/+y/wUAAwDn/7T/3/8BAM//0v9s//H+I/9+/7z/ggAWAWUBdQFVAR8BxgCmAGQARABkAEEAMAAIAMz/5P8aAOL/mP/y/8f/m/99/93+vv7m/vj+1P55/lb+av56/tT+LP9u/0r/SP+S//f/QgAyAPb/+v8aAN//iv+E/w8AVQCBAG4AjQAQAWIBgQFFAUIBQAGzAOb/+f9SAAgBZgHRADQAYgBjADsAKAAEAKP/iv9y/yn/QP8N/zL/if+M/yj/Jv9D/y3/n/9q//r+Kf/8/l3/JQDy/8//AwBNAHwA5QBsAUYBAgFBAesAuADDAFgAggCbAFAAJwA+AFcArADWAFcA8P/b/6D/m//S//T/6v/F/8H/2P/j/93/xf/X/wQAJgAwAKkAWQG5AEUAcQBzAJoAYwDc/6n/sP+E/wv/s/7B/tH+H/8d//v+ov8JABYAt/8w/2j/L//k/mb/tP+Y/7r/qv+2/+X/k/+6/zoAgwByAEsAhQCnAKMAjAArALv/j/9z/yv/Zf+G/6j/sP8O/+n+tf5o/rX+4v4y/wAAMQBCAGEANgA8ADUAVgC9APMALgFGASwBWgE8AUgBSgHiAIYANgAmAJL/hv/f/9f/7f/K/17/Xf92/4v/g/9Q/6b/BQAFADkAEQAjAH8AegDz/wAAcwAUADUAzP+s/xsALAANACkAGgBNAKsAiADOANYArAB3AHUAwQAxAacAXgCMAE8AVQApAGT/Ov+D/xH/vf55/pD+zf4v/3v/iv9o/1X/C/9p/ykAGgD+/w0A8f/v/zEAfQCSAJAAvABvAA0A7P9X/y//Ov87/2f/vf+0/6z/9/8KABUAu/+P/+L/MwCPANkAxQCHAFQAdwC0AJQAjgBGACQA8/+D/0r/s/+5/wYAdwBxAJwAxAD/AF4BXQHZAGEATwCtAMgAkQBuAPj/pf9v/w//6P60/qr+lf78/VH+L/+o/x4ASgAuAPf/Tf89/43/GADJAPQAvwAkADMAeQAPAFgAzQCEAGoATwAZAIUAzwCWALAAPAC6/9T/vv8yAKoAyQDTAOkAkAC+/2f/LP9g/5n/Xv9J/zH/kf/o/9D/GgADALb/7P/h/yYAwgDNAMQAkADS/zL/nv/n/9b/8f/p/5z/WP89/yn/T/9D/zr/VP9M/wL/uP4R/23/sv+I/2D/bf/g/zwAyP+I/3r/i//V/w4ACQA5AEUARwBhAKEA4ADhAPIAzwDIAO4AjwAVAFAAlwB1AEEA3v9e/0P/WP9W/4T/nP/u/3IAIACy/3//UP9w/6f/kf+5/wgARgAjASQB2wCRADwAXQCqAM0AHgCr/6//hP9p/6P/c/82/7//DgAlABMAEgDp/8T/LgCOAPAA6QBiAPf/+/8fAHgAkQA2APz/q/+3/57/if8PACgA5/+Y/0b/m/8jACEA0QAHAeoAqgBMAC8AMQCzAOQAAQFpAUkB9wAcAYsADgBBAN3/o//t/zEATwBnACYATgDq/3H/TP8t/x0AkADaANEAnQDIADwALwAzAND/av9N/8r+Nf53/kb+Z/4H/yL/8/7F/tz+Qv9o/7P/f/9Q/93/KwAEAK7/Vf9H/7f/AAALAIz/Yf/L/+T/GwDy/6H/kP+D/8T/NwAWAHT/ff/I/ykAfwBjAF0ALgAWACYAFwASAEwAswDCAOYA6ACIADoAz/+q/8D/if8v/1f/6v8AAIMA4AARAQoB8QAjAbIAfQAsAL7/qP9X/1r/lP+p/wQANQAGACIAQACHAIUAZACDALP//f4B/2z+rv4h/wT/Nv9s/5P/qP9i/+P/PgAqAC4AQQB1ANMA8gD1ANEAYwDUAGgASAApAC//OP8O/9v+lP+K/2n/mf9I/43/qf85/8v/YQB1AKEA9gBLARgB1gCPAAwApABwAQ4BggDb/0L/ZP/d/6r/Zv+Z/6L/Vv+6/6z/Ef8x/wL/nv9oAM7/I/9L/6z+pf4+/93+Tf9v/wj/Z/9k/5v/QABtAJ0AUABNAB0AKACiAKsA8gC/ANYAhgDa/10A7wDPAH8AVABFAN7/hf9f/zn/Mv9G/5T/iP+y/wAAVgC7ADwAEQBBAGwAiADmAB8BFgEyAaUAnwCmADcAZQC6AMoAuQDqAPYA3gAyAR8BDAGQAVsBFgHeAPr/wf8mAMX/qv+a//D+Cf8f/3D/xf/S/5cAdABVAJgAAQBx/yj/nP7r/kL/av/E/4X/Cf/r/vX+/v5h/3P/Vf9J/63/EAB1AGsAawC2AAIBIwHeAM4A+wAMAcYAIQDd/+3/xf8CAL//8f9YADYA+P/O/wQA9P+u/4X/oP8uAMoAAAEwAUYBKQGMAMv/Y/9I/8L/bgBDAPv/wP+F/4j/n/+n/6b/CgAoABgAsv9J/53/g/8u/5v/z/8EAK//Mf8e//7+ef+S/2T/zv/H/9X/TgDQ//L/SQCI/y4AdQDr/1cA+v+6/ysAsf/H/wYAmf+r//3/MwCHALcApQDDAJEAZABiAPcAGAHbANQAggDeAL0ADwEeAaMA9wCGAMEAWwGfADcAVwDT/6D/UAAqACwAyACRALAAWQB2/5z/iP+E/37/tf8eAPX/7/9e/zL/X/9W/07/iv/K/0L/Kf/H/oj+cP8G/6j+D//n/iP/Tf9V/5z/NgA3AIEAHwGxANUA6QCCAOkAMgF4AGgAGACw/yMAkv9l//r/zf/r/6D/p/8pABAAdgCEAEcAogCUAIYA7gDHALkACAGOAGQArACyAOYAugAUAO3/0//9/y0Axv+4/2z/P/+T/3//7v8gAML/JQDQ/4P/6/9G/xH/N/8Q/5v/5P8oAGkAHQD4/ygAeACnAHoASACRAK4AfgAXANz/k/+J/5n/pP8AAIf/E/9Q/yv/g/8WAOf/SACEAO//HwD6/2n/yf8GAB0AbACFAKgA2QDbANQAHAERAcYAvQDJAMIAlACOADUA2//8/6f/a/+b/1X/jf9CAAAAQACiABkAJAA/AOH/JwBKANH/+P/G/0H/fP+Z/4H/dP/V/jT+2P68/mr+ff+J/6b/rQBLAAEAYQDt/9f/KAC//9b/oP/4/lD/xP9NANQACAHfACQBNAEKAVMBdwGjAQkBCQDU/8T/EADc/47/oP/X/tH+Bv8b/6r/zP/Z/xkAJwCz/4r/Tv8s/6r/lv80ADgA6v+aAJcASgBrACgALwBgANT/BQBAAPz/2P/D/83/9v+2/7r/5P+e/5P/GP8F/1H/Y/+q/9D//P9HAB0A7P9hALoAzgCnAGgAngDFAHQAuQAIASgB5wBOAPn/1P/M/wAALADm/9f/nf8A/0j/Kv8Y/+b/wf/f/3sA5v8HAKgARwDyAKoBHAGqAbQB3gAKAaUAUACWAGwAXgBkAAIAs//1/53/R/93/03/r/8cAPL/iQBMANT/+f+Z/77/MgCTAJYAXACRANEA7gCwAKQAigBAAFIANwAUABwAKACKAGwA8v80AHIAmwCvABoBRgHQAPQAaABj/0X/Mf94/xkAMgA+AJcADwD3/5wA7f8DAIkA3f9MAGgAm/8WAP7/tv9PAK7/7v6O/6D/nv+fAHkAUwA5ANb/EgCC/yT/KP+0/sT+B//r/qP/BwD2/5UAsgCLANkAtQCWAJIASQAvANP/N/8h/33/J//u/mj/mv/M/3n/Sv8y/5L+sP41/0//L/8f/yz/Cf+J/8r/1/85AJP/if/I/x3/fv8TABsAugDqAPwAiQHoAMcASAGuADIBvwGyAHQA+f8//zL/i/7a/kb/kf53/s3+6P7e/lH/sv/w/+//zP9CAHcAbQDPAAcB+gD4ABkB7gDIAI4AhgCSAO7/BQC//yL/f/9C/wD/l//C/7v/5/9U/8P/zABRAKUA4gD6/00AFgDM/6sAHgB1ACIAp/9jAOT//f8iALH/WwD3/4b/5v9Z/8X/+f/T/xQAw/+b/5L/UP9O/1z/Zv+z/03/V/+C/+D+t//5/5//OQD7/9//7f+8/3MAOQAcALYARwAvAcIBKgHwAZIB1AArAXgAUQBDAHX/xv9p/+/+bf+X/ib+fP7R/bD9Hf4P/k7+fv6U/vH+J/8u/9f/TgBEAPIARQHbACIBHwFlAUMBEAFGAWYAiABHACgAXACB/73/1f96/+v/DgCP/97/JQAlAM0AsAChAOIASgC4ALYAVgCeAFUA7f9//9n/GwAsAI8AWgDJAIIABABjABUACAA3AC8AWQD2/9X/9/+O/8//XP/Y/oT/+f67/jD/zf4d/33/yv77/lb/7f56/1AAQADWABoBXAAFAc4AaP+4/17/sf5M/3P/fP+c/3P/Xv9g/67/6P8yAG4AOwALAf8ALQAUAd4A4gAbAfEADwE7ADgA/f9L/ygAiwAIAI8AKABCAHoADQByAKgAIQATALwAWQBcAO4AfgCWAOYA8v/w/w8AlP9QAO3/a//E/yX/yf4i/+H+tP7B/lr+/v5Q/+L+e//g/2j/tv8uAJP/vf/w/3b/v/+2/zn/t/9e/wr/8v/s/44AgQFmAQcB8ABHAK0AKgFmAPgAzQABADkAPwDd//7/t//N/sL+Ov7v/bv+Fv52/QT+l/1I/l3/JP/T/wUAg/9zAO4AowBiATsBfwEvASIBcwHrAAIBSABm/7n/Vf+G/ywAR/++/57/J/9S/4X+gP7V/rr+M/8X//D+wP9R/yH/t/8N/3z/MgDn/+cAyACQAC4BagDxAOYAHgAdAckALAE3AXoA/wAsAPT/RADl/8T/qf9q/zb/L/8a/13/XP+O/83/vv/3/14APQCsAIoAVAA4AY8A4QBlAXYA4wCWAMkAzAFTAcABQQHFAMAAqf8yAID/j/7p/tn9Y/75/kb+4/7G/pT+qv8rAJsAYAHxABQBKwEsAUkBTABlAAQA/f6O/47/AABmAAAAFAH5AIoAzgArAP3/PAARABkAVwDh/x8ARADH/zUAxP+a/1oAJwAuAIEAzf/n/yUAYP8rAJ7/uf+EALr/LABTAPz/iwDr/8T/jgDl/zsA8v9l/4L/uP4//zz/+/4f/7P+I/8c/1f/dP/9/lH/kv9/APYAFgByAOIAogCXAFoA6gAZABIAngAuALwAIAAIAIwAwf/+/+T/Zf+GAKYAZQDQABUAPgCJABgA9QBdAAwAmACu/7v/uv8z/8n/6P+s/2cALAAMANgAuAAaAbsAWQCGAKb/zv9M//D+Z//m/o3/av8w/9H/HP/f/xkAe/8DAKH/DQAIANz/awCN/6z/6v81AGwBVQGeAfcB1wG3ASgByADZALIAjQArAOj/xP9Q/2v/XP9//zH/Mv+d/4X/m/9QAEgAZAAcAXsAdQD+AIYAWQDy/wX/hv+V/6X+//4P/2/+jv5+/iT+jf69/qr+dP+9/9n/KQDD/8r/fgBFADcApABkAHgAVgAbAMj/3f/v/+n/5f9w/3n/h/8t/1j/s//6/3AAwgAFAQoB6wAtAUsBQAG1ADIAsP9F/0v/CP+9/rb+2P77/vv++v5l/3v/4/9qAGgAZQBsAKUAvQAPAfYAzADYALAA/v/U//L/nf+P/7n/d//r/hf/af/I//X/DAApAE8AOgBiAMgAMgFDAUcBVwEcASgBNAEvAT0BNgEgAcgAeQBcAGgAPwATAAYAuv9z/zP/Pv+D/yYAjQBWAGYAMwA4ACAAPQDq/7X/yf/C/4n/Kf/8/jv/av9y/5D/o//t//j/8P8fAFgAsADDAI0AYgBJAEkAWQDq/3//lf9g/2P/q/+o/5//uf+v/7///f8UACEAfACXALoAHwETAVYBnwGUAZkBgAFnAf0ArABXAEUADACm/2r/FP8Z/zz/Z/8Y/0z/if9k/1b/jv/N/+n/WgBbAKcAOgBEAAYAsf+1/27/Uf9//+//HAAtADMABQCw/7j/CgA8ADoATgBwAA4A+//A/43/g/+a/27/cv9Y/4b/1f/d/9z/FgD5//X/WgBwAF4ABwDl/+//YABFAFIAPwDJ/+//qwDDAKAAhwB5AIgATQBJAGcAGwDP/+j/9/90/yf/JP9e/6v/8f8lAIr/Lf8d/y7/gf/k/8X/ff/S//D/vP/J/9X/sf9GAHYAIAAFAGz/Lv+9/8L/sv/w/z0ATwCNANUAfwBjAEMA0f8i/+P+3v6i/sT+LP9N/0b/j//v/wsARACCAIIA+AAsAe8AcwH5AS4C9QHMAYQBEgEeAdQAggBKAO3/DwDH/2r/K/+n/u3+D/9R/67/0v8LAOP/XgCMAGsAdQBLAPj/IAA/AE8AdQCJAMUAlAB1AHwAgQBSACUAn/84/zL/GP/u/uL+Ef9j/1f/k//v/0kAsACGAHsAbQBzADwAcQC6ADsAQACLALkALQFYARoBqwDhAAUBGAFcARgB3QDHANQAlAChAFMAvv+r/0X/Uf9f/wf/tv7I/qz+vf47/0D/zP/A/6P/uP/s/zUAaADuACsBxAAgABMAgf9t/wwAHABKADwASAA/ADEAQQDt/y0AuAC4AJcAnwCAAP7/5v/N/7T/fv+o/6j/qv5p/vP++/7F/vT+0/6j/jv/+/8WAM8AYQEgAWYBbQFZAWwBQwEnAYABSwH2AAkBhgCBAE4A1f+r/2T/Hv89/6j/Pv9I/2f/Of+R/9j/n/+4/zUAigCSAKUA1wAuATsBBQEQAZcAuv/v/9j/cP+Q/9z/CADw/47/b/9c/wH/R/8c/2X/LgAYAF0AbgCSAFEAFADK/53/xf9y/+7/4P92/9D/y/8QAEkAPQDB/53/qv/d/7D/hP8eAH7/J/8//wT/4/5J/2X/K/+p/9H/EwBlAF0AZgBwAG4AkwDMAAMB3wDLAOIANgGzAZABiQFgAf8AwABwACUA2f+9/3b/+P5s/nP+Bf+L/9P/GgB0AEgA4f/O/y8AQAC/AAkB+AAIAYMAgABMAJz/Xv93/yT/C/88/wj/Hf9e/8f/EQDr/+P/EQBNALoAmgCAAHkAXQBhAHEAnwDLAMQAvAB0ACsA2P/G/+7/CQAJAPT/4v+F/6L/tP/D/zUAdQAJAesA/AAXAbgAtwBrAAkAh/91/6b/o//Q/2//Ev8G//n+X/+u/8P/zP/t//7/KAA4AD0AHQAxAEYAbQDJAFcAEwDQ/4X/Vf+P/5r/ef9//8P/8P/N/5v/cP+j/+b/HwBOAHQAowCZALQA8P9B/5T/zf8gAC0ATwCQAJYA/QAIAb0ADQEUAVoA3v/d/wgALgA9AGYAfgBCAM//8/8CALT/df+s/8f/ov+y/9b/BgABAAMALQArALf/Xf/L//z/+f+pAE4BDAHdAPAAygAMAekAtgDIANQAuACTAHoA+P9AAK4APwAoACQAz/+X/6j/Sv8I/w==\" type=\"audio/x-wav\" />\n",
       "                    Your browser does not support the audio element.\n",
       "                </audio>\n",
       "              "
      ],
      "text/plain": [
       "<IPython.lib.display.Audio object>"
      ]
     },
     "metadata": {},
     "output_type": "display_data"
    },
    {
     "data": {
      "text/html": [
       "\n",
       "                <audio controls=\"controls\" autoplay=\"autoplay\">\n",
       "                    <source src=\"data:audio/x-wav;base64,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\" type=\"audio/x-wav\" />\n",
       "                    Your browser does not support the audio element.\n",
       "                </audio>\n",
       "              "
      ],
      "text/plain": [
       "<IPython.lib.display.Audio object>"
      ]
     },
     "metadata": {},
     "output_type": "display_data"
    },
    {
     "data": {
      "text/html": [
       "\n",
       "                <audio controls=\"controls\" autoplay=\"autoplay\">\n",
       "                    <source src=\"data:audio/x-wav;base64,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\" type=\"audio/x-wav\" />\n",
       "                    Your browser does not support the audio element.\n",
       "                </audio>\n",
       "              "
      ],
      "text/plain": [
       "<IPython.lib.display.Audio object>"
      ]
     },
     "metadata": {},
     "output_type": "display_data"
    }
   ],
   "source": [
    "int2label = get_int2label(wanted_only=False)\n",
    "X, y = next(train_gen)\n",
    "for j in range(X.shape[0]):\n",
    "    label = int2label[y[j].argmax()]\n",
    "    if label == 'sheila':\n",
    "        data = X[j, :].squeeze()\n",
    "        float_audio(data, autoplay=True)\n",
    "        sleep(1)"
   ]
  },
  {
   "cell_type": "markdown",
   "metadata": {},
   "source": [
    "## ap.summary()"
   ]
  },
  {
   "cell_type": "code",
   "execution_count": null,
   "metadata": {},
   "outputs": [],
   "source": [
    "wanted_words = get_classes(wanted_only=True)\n",
    "print(wanted_words)\n",
    "labels2int = {v: k for k, v in ap.word_to_index.items()}"
   ]
  },
  {
   "cell_type": "code",
   "execution_count": null,
   "metadata": {},
   "outputs": [],
   "source": [
    "!rm -rf data/train/audio/_silence_\n",
    "!mkdir data/train/audio/_silence_"
   ]
  },
  {
   "cell_type": "code",
   "execution_count": null,
   "metadata": {
    "scrolled": true
   },
   "outputs": [],
   "source": [
    "# save silence samples to '_silence_'\n",
    "disp_count = 0\n",
    "for i in range(100):\n",
    "    print(disp_count)\n",
    "    if disp_count > 100:\n",
    "        break\n",
    "    X, y = next(train_gen)\n",
    "    y = y.argmax(axis=-1)\n",
    "    for j in range(len(y)):\n",
    "        if y[j] == 0:\n",
    "            print(labels2int[y[j]])\n",
    "            out_fn = jp('data/train/audio/_silence_/%05d.wav' % disp_count)\n",
    "            data = np.int16(X[j, :] * 32768)\n",
    "            wf.write(out_fn, 16000, data)\n",
    "            # float_audio(X[j, :], autoplay=True)\n",
    "            # sleep(1)\n",
    "            disp_count += 1"
   ]
  },
  {
   "cell_type": "markdown",
   "metadata": {},
   "source": [
    "### Load model and check where we go wrong in the validation set"
   ]
  },
  {
   "cell_type": "code",
   "execution_count": null,
   "metadata": {},
   "outputs": [],
   "source": [
    "model = speech_model(\n",
    "  'conv_1d_time',\n",
    "  model_settings['fingerprint_size'] if compute_mfcc else sample_rate,\n",
    "  num_classes=model_settings['label_count'])\n",
    "model.load_weights('checkpoints_014/ep-039-loss-0.173.hdf5')\n",
    "disp_count = 0\n",
    "for i in range(ap.set_size('validation') // batch_size):\n",
    "    if disp_count >= 10:\n",
    "        break\n",
    "    X, y_true = next(val_gen)\n",
    "    y_true = y_true.argmax(axis=-1)\n",
    "    y_pred = model.predict(X).argmax(axis=-1)\n",
    "    for j in range(len(y_true)):\n",
    "        if y_true[j] != y_pred[j] and np.random.rand() > 0.5:\n",
    "            l_true = labels2int[y_true[j]]\n",
    "            l_pred = labels2int[y_pred[j]]\n",
    "            print(\"Pred: %s, Actual: %s\" % (l_pred, l_true))\n",
    "            float_audio(X[j, :], autoplay=True)\n",
    "            sleep(1)\n",
    "            disp_count += 1"
   ]
  },
  {
   "cell_type": "markdown",
   "metadata": {},
   "source": [
    "# Create \"unknown\" words\n",
    "### Just reverse some of the unwanted words. Reversing the wanted words might actually cause some problems when using global pooling in the end?"
   ]
  },
  {
   "cell_type": "code",
   "execution_count": null,
   "metadata": {},
   "outputs": [],
   "source": [
    "print(exclude_words)"
   ]
  },
  {
   "cell_type": "code",
   "execution_count": null,
   "metadata": {},
   "outputs": [],
   "source": [
    "wanted_words = get_classes(wanted_only=True)\n",
    "# wow reversed is wow! one reversed sounds like no!\n",
    "# dog vs go :P\n",
    "exclude_words = wanted_words + ['_background_noise_', 'wow', 'one', 'dog']"
   ]
  },
  {
   "cell_type": "code",
   "execution_count": null,
   "metadata": {},
   "outputs": [],
   "source": [
    "fns = sorted(glob(jp('data', 'train', 'audio', '*', '*.wav')))\n",
    "print(len(fns))\n",
    "fns = [fn for fn in fns if fn.split('/')[-2] not in exclude_words]\n",
    "print(len(fns))"
   ]
  },
  {
   "cell_type": "code",
   "execution_count": null,
   "metadata": {},
   "outputs": [],
   "source": [
    "new_classes = list(set([fn.split('/')[-2] for fn in fns]))\n",
    "# new_classes.remove('_silence_')\n",
    "new_classes = ['new_' + new_class[::-1] for new_class in new_classes]\n",
    "print(new_classes)\n",
    "for new_class in new_classes:\n",
    "    new_dir = jp('data/train/audio', new_class)\n",
    "    if os.path.exists(new_dir):\n",
    "        rmtree(new_dir)\n",
    "    os.mkdir(new_dir)\n",
    "    print(\"created %s\" % new_dir)"
   ]
  },
  {
   "cell_type": "code",
   "execution_count": null,
   "metadata": {},
   "outputs": [],
   "source": [
    "np.random.shuffle(fns)\n",
    "# fn_selection = np.random.choice(fns, size=5000, replace=False)\n",
    "fn_selection = fns"
   ]
  },
  {
   "cell_type": "code",
   "execution_count": null,
   "metadata": {},
   "outputs": [],
   "source": [
    "# there (often) 5 times the same speaker said the same word\n",
    "# \n",
    "# ./eight/5fadb538_nohash_4.wav\n",
    "# ./eight/5fadb538_nohash_3.wav\n",
    "# ./eight/5fadb538_nohash_2.wav\n",
    "# ./eight/5fadb538_nohash_1.wav\n",
    "# ./eight/5fadb538_nohash_0.wav\n",
    "\n",
    "counter = {cn: 0 for cn in new_classes}\n",
    "for fn in tqdm(fn_selection):\n",
    "    cn = 'new_' + fn.split('/')[-2][::-1]\n",
    "    sample_rate, data = wf.read(fn)\n",
    "    bn = os.path.basename(fn)\n",
    "    dst = jp('data', 'train', 'audio', cn,\n",
    "             \"%06d.wav\" % counter[cn])\n",
    "    counter[cn] += 1\n",
    "    data = data[::-1]\n",
    "    wf.write(dst, sample_rate, data)"
   ]
  },
  {
   "cell_type": "markdown",
   "metadata": {},
   "source": [
    "# Take a look at the noise files"
   ]
  },
  {
   "cell_type": "code",
   "execution_count": null,
   "metadata": {},
   "outputs": [],
   "source": [
    "background_files = sorted(glob(jp('data', 'train', 'audio', '_background_noise_', '*.wav')))\n",
    "background_volumne = 0.8\n",
    "for fn in background_files[5:6]:\n",
    "    print(fn)\n",
    "    rate, data = wf.read(fn)\n",
    "    if len(data) > 16000:\n",
    "        data = data[:16000]\n",
    "    data = np.float32(data) / 32768\n",
    "    data *= background_volumne\n",
    "    print(data.max())\n",
    "    wf.write('tmp.wav', 16000, np.int16(data * 32767))\n",
    "    plot_audio(data, normed=True)\n",
    "    display(Audio('tmp.wav', autoplay=True))\n",
    "    sleep(1)"
   ]
  },
  {
   "cell_type": "code",
   "execution_count": null,
   "metadata": {},
   "outputs": [],
   "source": [
    "?wf.write"
   ]
  },
  {
   "cell_type": "markdown",
   "metadata": {},
   "source": [
    "# Take a look at \"happy\" files"
   ]
  },
  {
   "cell_type": "code",
   "execution_count": null,
   "metadata": {},
   "outputs": [],
   "source": [
    "background_files = sorted(glob(jp('data', 'train', 'audio', 'happy', '*.wav')))\n",
    "volumne = 10**1\n",
    "for fn in background_files[5:6]:\n",
    "    print(fn)\n",
    "    rate, data = wf.read(fn)\n",
    "    if len(data) > 16000:\n",
    "        data = data[:16000]\n",
    "    data = np.float32(data) / 32768\n",
    "    data *= volumne\n",
    "    data = np.clip(data, -1, 1)\n",
    "    print(data.max())\n",
    "    wf.write('tmp.wav', 16000, np.int16(data * 32767))\n",
    "    plot_audio(data, normed=True)\n",
    "    display(Audio('tmp.wav', autoplay=True))\n",
    "    sleep(1)"
   ]
  },
  {
   "cell_type": "markdown",
   "metadata": {},
   "source": [
    "# Majority vote submission"
   ]
  },
  {
   "cell_type": "code",
   "execution_count": null,
   "metadata": {},
   "outputs": [],
   "source": [
    "import pandas as pd\n",
    "from os.path import join as jp\n",
    "from shutil import copy\n",
    "from tqdm import tqdm_notebook as tqdm\n",
    "\n",
    "sub_fns = ['submission_011.csv', 'submission_017.csv',\n",
    "           'submission_018.csv', 'submission_014.csv',\n",
    "           'submission_020.csv']\n",
    "subs = [pd.read_csv(sub_fn) for sub_fn in sub_fns]\n",
    "\n",
    "fname, label = [], []\n",
    "clear_majority = 0\n",
    "for i in tqdm(range(subs[0].shape[0])):\n",
    "    fname.append(subs[0].loc[i, 'fname'])\n",
    "    label_counts = {}\n",
    "    for sub in subs:\n",
    "        ll = sub.loc[i, 'label']\n",
    "    if ll in label_counts:\n",
    "        label_counts[ll] += 1\n",
    "    else:\n",
    "        label_counts[ll] = 1\n",
    "\n",
    "    maj_label = max(label_counts, key=label_counts.get)\n",
    "    if label_counts[maj_label] > 2:\n",
    "        clear_majority += 1\n",
    "    else:\n",
    "        # in trouble save the wav files!\n",
    "        src = jp('data', 'test', 'audio', fname[-1])\n",
    "        dst = jp('split_decision', str(label_counts) + fname[-1])\n",
    "        copy(src, dst)\n",
    "    # resolve tie by chosing 'unknown' or 'silence' if available\n",
    "    if 'unknown' in label_counts and 'silence' in label_counts:\n",
    "        maj_label = 'silence'\n",
    "    elif 'unknown' in label_counts:\n",
    "        maj_label = 'unknown'\n",
    "    elif 'silence' in label_counts:\n",
    "        maj_label = 'silence'\n",
    "    label.append(maj_label)\n",
    "\n",
    "pd.DataFrame({'fname': fname, 'label': label}).to_csv(\n",
    "    'majority_sub_011.csv', index=False)\n",
    "print(\"Done! Got a clear majority for %d of %d samples.\"\n",
    "      % (clear_majority, subs[0].shape[0]))\n"
   ]
  },
  {
   "cell_type": "markdown",
   "metadata": {},
   "source": [
    "# Generate more background noise\n",
    "## The idea is to take the reversed words and average some of them up to generate ~30s tracks"
   ]
  },
  {
   "cell_type": "code",
   "execution_count": null,
   "metadata": {},
   "outputs": [],
   "source": [
    "# unwanted words reversed\n",
    "fns = sorted(glob(jp('data', 'train', 'audio', 'unwrev', '*.wav')))\n",
    "print(len(fns))"
   ]
  },
  {
   "cell_type": "code",
   "execution_count": null,
   "metadata": {},
   "outputs": [],
   "source": [
    "louder = 16.0  # make it louder!\n",
    "sample_secs = 30\n",
    "total_new = 0\n",
    "num_noise_tracks = 400\n",
    "noise_track = []\n",
    "noise_track_counter = 0\n",
    "sample_track = []\n",
    "sample_counter = 0\n",
    "for fn in tqdm(fns):\n",
    "    sample_rate, data = wf.read(fn)\n",
    "    data = np.float32(data) / 32768\n",
    "    assert sample_rate == 16000\n",
    "    data = center_pad(data)\n",
    "    shift = np.random.randint(16000)\n",
    "    data = np.roll(data, shift)\n",
    "    sample_track.append(data)\n",
    "    sample_counter += 1\n",
    "    if sample_counter == sample_secs:\n",
    "        noise_track.append(np.concatenate(sample_track))\n",
    "        sample_track = []\n",
    "        sample_counter = 0\n",
    "        noise_track_counter += 1\n",
    "        if noise_track_counter == num_noise_tracks:\n",
    "            noise_track = np.array(noise_track)\n",
    "            noise_track = np.mean(noise_track, axis=0) * louder\n",
    "            noise_track = np.int16(noise_track * 32768)\n",
    "            out_fn = jp('data', 'train', 'audio', '_background_noise_', 'silence_please_%04d.wav' % total_new)\n",
    "            wf.write(out_fn, 16000, noise_track)\n",
    "            print(out_fn)\n",
    "            display(Audio(out_fn))\n",
    "            noise_track = []\n",
    "            noise_track_counter = 0\n",
    "            total_new += 1\n",
    "            if total_new == 2:\n",
    "                break"
   ]
  },
  {
   "cell_type": "markdown",
   "metadata": {},
   "source": [
    "# How does foreground with mixed background sound?"
   ]
  },
  {
   "cell_type": "code",
   "execution_count": null,
   "metadata": {},
   "outputs": [],
   "source": [
    "background_noise_fns = sorted(glob('data/train/audio/_background_noise_/*.wav'))\n",
    "idx = -3\n",
    "print(background_noise_fns[idx])\n",
    "display(Audio(background_noise_fns[idx], autoplay=True))"
   ]
  },
  {
   "cell_type": "code",
   "execution_count": null,
   "metadata": {},
   "outputs": [],
   "source": [
    "foreground_fns = sorted(glob('data/train/audio/go/*.wav'))\n",
    "for i in range(3):\n",
    "    foreground_fn = np.random.choice(foreground_fns)\n",
    "    foreground = normalized_read(foreground_fn)\n",
    "    background_fn = np.random.choice(background_noise_fns)\n",
    "    # background_fn = background_noise_fns[-3]\n",
    "    print(background_fn)\n",
    "    background = normalized_read(background_fn)\n",
    "    mixed = np.random.uniform(0.8, 1.2) * foreground + 0.3 * background  # np.random.uniform(0, 2)\n",
    "    mixed = np.clip(mixed, -1, 1)\n",
    "    float_audio(mixed, autoplay=True)\n",
    "    plot_audio(mixed, normed=True)\n",
    "    sleep(1)"
   ]
  },
  {
   "cell_type": "markdown",
   "metadata": {},
   "source": [
    "# How do the models perform on the validation set?"
   ]
  },
  {
   "cell_type": "code",
   "execution_count": null,
   "metadata": {},
   "outputs": [],
   "source": [
    "from keras import backend as K\n",
    "from keras.callbacks import ModelCheckpoint, LearningRateScheduler\n",
    "from keras.callbacks import TensorBoard\n",
    "from model import speech_model, prepare_model_settings\n",
    "from input_data import AudioProcessor, prepare_words_list\n",
    "from keras.models import load_model\n",
    "from classes import get_classes\n",
    "\n",
    "\n",
    "def data_gen(audio_processor, sess,\n",
    "             batch_size=128,\n",
    "             background_frequency=0.5, background_volume_range=0.2,\n",
    "             foreground_frequency=1.0, foreground_volume_range=3.0,\n",
    "             time_shift=(100.0 * 16000.0) / 1000,\n",
    "             mode='validation'):\n",
    "    offset = 0\n",
    "    if mode != 'training':\n",
    "        background_frequency = 0.0\n",
    "        background_volume_range = 0.0\n",
    "        foreground_frequency = 0.0\n",
    "        foreground_volume_range = 0.0\n",
    "        time_shift = 0\n",
    "\n",
    "    while True:\n",
    "        X, y = audio_processor.get_data(\n",
    "            how_many=batch_size, offset=0 if mode == 'training' else offset,\n",
    "            background_frequency=background_frequency,\n",
    "            background_volume_range=background_volume_range,\n",
    "            foreground_frequency=foreground_frequency,\n",
    "            foreground_volume_range=foreground_volume_range,\n",
    "            time_shift=time_shift, mode=mode, sess=sess)\n",
    "        offset += batch_size\n",
    "        if offset > ap.set_size(mode) - batch_size:\n",
    "            offset = 0\n",
    "        yield X, y\n",
    "\n",
    "\n",
    "sess = K.get_session()\n",
    "data_dirs = ['data/train/audio']\n",
    "add_pseudo = False\n",
    "if add_pseudo:\n",
    "    data_dirs.append('data/pseudo/audio')\n",
    "compute_mfcc = False\n",
    "sample_rate = 16000\n",
    "batch_size = 64\n",
    "classes = get_classes(wanted_only=False)\n",
    "model_settings = prepare_model_settings(\n",
    "  label_count=len(prepare_words_list(classes)), sample_rate=sample_rate,\n",
    "  clip_duration_ms=1000, window_size_ms=30.0, window_stride_ms=10.0,\n",
    "  dct_coefficient_count=40)\n",
    "ap = AudioProcessor(\n",
    "  data_dirs=data_dirs,\n",
    "  silence_percentage=15.0,\n",
    "  unknown_percentage=7.0,\n",
    "  wanted_words=classes,\n",
    "  validation_percentage=10.0,\n",
    "  testing_percentage=0.0,\n",
    "  model_settings=model_settings,\n",
    "  compute_mfcc=compute_mfcc)\n",
    "train_gen = data_gen(ap, sess, batch_size=batch_size, mode='training')\n",
    "val_gen = data_gen(ap, sess, batch_size=batch_size, mode='validation')"
   ]
  },
  {
   "cell_type": "code",
   "execution_count": null,
   "metadata": {},
   "outputs": [],
   "source": [
    "model_fns = [\n",
    "    'checkpoints_019/ep-022-vl-0.2916.hdf5',\n",
    "    'checkpoints_018/ep-049-vl-0.2185.hdf5',\n",
    "    'checkpoints_017/ep-036-vl-0.1969.hdf5'\n",
    "]\n",
    "\n",
    "models = []\n",
    "for model_fn in model_fns:\n",
    "    model = load_model(model_fn)\n",
    "    models.append((model_fn, model))"
   ]
  },
  {
   "cell_type": "code",
   "execution_count": null,
   "metadata": {},
   "outputs": [],
   "source": [
    "# evaluate on validation set\n",
    "for model in models:\n",
    "    out = model.evaluate_generator(\n",
    "        val_gen, steps=ap.set_size('validation') // batch_size)\n",
    "    print(model_fn, out)"
   ]
  },
  {
   "cell_type": "markdown",
   "metadata": {},
   "source": [
    "# Predict samples with models"
   ]
  },
  {
   "cell_type": "code",
   "execution_count": null,
   "metadata": {},
   "outputs": [],
   "source": [
    "len(ap.words_list), len(models)"
   ]
  },
  {
   "cell_type": "code",
   "execution_count": null,
   "metadata": {},
   "outputs": [],
   "source": [
    "X, y = next(val_gen)\n",
    "sample_idx = 10\n",
    "float_audio(X[sample_idx, :], autoplay=True)\n",
    "out_probs = []\n",
    "for model_fn, model in models:\n",
    "    y_preds = model.predict(X)\n",
    "    out_probs.append((model_fn, y_preds[sample_idx]))\n",
    "\n",
    "for fn, pred in out_probs:\n",
    "    plt.figure()\n",
    "    plt.title(fn)\n",
    "    plt.bar(range(len(pred)), pred)\n",
    "    plt.xticks(range(len(pred)), ap.words_list, rotation='vertical')"
   ]
  },
  {
   "cell_type": "markdown",
   "metadata": {},
   "source": [
    "# Wrong ones"
   ]
  },
  {
   "cell_type": "code",
   "execution_count": null,
   "metadata": {},
   "outputs": [],
   "source": [
    "max_plots = 2\n",
    "plot_c = 0\n",
    "model = models[-1][-1]\n",
    "while plot_c < max_plots:\n",
    "    X, y = next(val_gen)\n",
    "    y_preds = model.predict(X)\n",
    "    for i, y_pred in enumerate(y_preds):\n",
    "        if plot_c >= max_plots:\n",
    "            break\n",
    "        if y_pred.argmax() != y[i].argmax():\n",
    "            float_audio(X[i, :], autoplay=True)\n",
    "            sleep(1)\n",
    "            plt.figure()\n",
    "            plt.title(\"Pred: %s, Actual: %s\"\n",
    "                      % (ap.words_list[y_pred.argmax()], ap.words_list[y[i].argmax()]))\n",
    "            plt.bar(range(len(y_pred)), y_pred)\n",
    "            plt.xticks(range(len(y_pred)), ap.words_list, rotation='vertical')\n",
    "            plot_c += 1"
   ]
  },
  {
   "cell_type": "markdown",
   "metadata": {},
   "source": [
    "# What happens if we just feed plain silence e.g. all 0?\n",
    "### Looks good!"
   ]
  },
  {
   "cell_type": "code",
   "execution_count": null,
   "metadata": {},
   "outputs": [],
   "source": [
    "X = np.zeros((2, 16000), dtype=np.float32)\n",
    "pred = model.predict(X)\n",
    "float_audio(X[0, :], autoplay=True)\n",
    "sleep(1)\n",
    "plt.figure()\n",
    "plt.title(\"Silence pred\")\n",
    "plt.bar(range(len(pred[0])), pred[0])\n",
    "_ = plt.xticks(range(len(pred[0])), ap.words_list, rotation='vertical')"
   ]
  },
  {
   "cell_type": "markdown",
   "metadata": {},
   "source": [
    "# How about the noise files?"
   ]
  },
  {
   "cell_type": "code",
   "execution_count": null,
   "metadata": {},
   "outputs": [],
   "source": [
    "model = load_model(model_fns[-1])"
   ]
  },
  {
   "cell_type": "code",
   "execution_count": null,
   "metadata": {},
   "outputs": [],
   "source": [
    "noise_fns = glob(jp('data/train/audio/_background_noise_/*.wav'))\n",
    "X = []\n",
    "for noise_fn in noise_fns:\n",
    "    X.append(normalized_read(noise_fn))\n",
    "X = np.float32(X)\n",
    "# change volumne\n",
    "X *= 0.2\n",
    "y_pred = model.predict(X)\n",
    "for i in range(X.shape[0]):\n",
    "    # float_audio(X[0, :], autoplay=True)\n",
    "    # sleep(1)\n",
    "    plt.figure()\n",
    "    plt.title(\"Noise pred: %s\" % noise_fns[i])\n",
    "    plt.bar(range(len(y_pred[i])), y_pred[i])\n",
    "    _ = plt.xticks(range(len(y_pred[i])), ap.words_list, rotation='vertical')"
   ]
  },
  {
   "cell_type": "markdown",
   "metadata": {},
   "source": [
    "# Submission with averaged probabilities"
   ]
  },
  {
   "cell_type": "code",
   "execution_count": 9,
   "metadata": {},
   "outputs": [
    {
     "name": "stdout",
     "output_type": "stream",
     "text": [
      "[ 1.00000003  1.00000001  1.00000002  1.00000003  1.          1.\n",
      "  0.99999996  0.99999999  0.99999998  0.99999999]\n",
      "(158538, 32)\n"
     ]
    }
   ],
   "source": [
    "sub_fns = [\n",
    "    'submission_091_leftloud_tta.csv',\n",
    "    'submission_094_leftloud_tta.csv',\n",
    "    'submission_098_leftloud_tta.csv']\n",
    "sub_fns = [fn.replace('.csv', '_all_labels_probs.csv')\n",
    "           for fn in sub_fns]\n",
    "\n",
    "subs = []\n",
    "for sub_fn in sub_fns:\n",
    "    subs.append(pd.read_csv(sub_fn))\n",
    "\n",
    "wanted_words = prepare_words_list(get_classes(wanted_only=True))\n",
    "int2label = get_int2label(wanted_only=False)\n",
    "label2int = get_label2int(wanted_only=False)\n",
    "\n",
    "avg = 0.0\n",
    "for sub in subs:\n",
    "    avg += sub.loc[:, label2int.keys()].values / len(subs)\n",
    "\n",
    "print(avg.sum(axis=1)[10:20])\n",
    "probabilities = avg\n",
    "print(probabilities.shape)\n",
    "preds = probabilities.argmax(axis=-1)"
   ]
  },
  {
   "cell_type": "code",
   "execution_count": 10,
   "metadata": {},
   "outputs": [
    {
     "name": "stderr",
     "output_type": "stream",
     "text": [
      "100%|██████████| 158538/158538 [00:00<00:00, 1025724.33it/s]\n"
     ]
    },
    {
     "name": "stdout",
     "output_type": "stream",
     "text": [
      "Done\n"
     ]
    }
   ],
   "source": [
    "ensemble_label = []\n",
    "ensemble_sub = subs[0].copy()\n",
    "for i in tqdm(range(ensemble_sub.shape[0])):\n",
    "    label = int2label[preds[i]]\n",
    "    # print(\"%s with: %.3f\" % (label, probabilities[i, preds[i]]))\n",
    "    label = label if label != '_silence_' else 'silence'\n",
    "    label = label if label != '_unknown_' else 'unknown'\n",
    "    # label = label if label == 'silence' or label in wanted_words else 'unknown'\n",
    "    ensemble_label.append(label)\n",
    "\n",
    "ensemble_sub['label'] = ensemble_label\n",
    "ensemble_sub[['fname', 'label']].to_csv('prob_ensemble_023_all_labels.csv', index=False)\n",
    "ensemble_sub.loc[:, label2int.keys()] = probabilities\n",
    "ensemble_sub.to_csv('prob_ensemble_023_all_labels_probs.csv', index=False)\n",
    "\n",
    "print(\"Done\")"
   ]
  },
  {
   "cell_type": "code",
   "execution_count": 11,
   "metadata": {},
   "outputs": [
    {
     "name": "stderr",
     "output_type": "stream",
     "text": [
      "100%|██████████| 158538/158538 [00:02<00:00, 64137.12it/s]\n"
     ]
    },
    {
     "name": "stdout",
     "output_type": "stream",
     "text": [
      "3190 of 158538 with small prob\n",
      "Done\n"
     ]
    }
   ],
   "source": [
    "ensemble_label = []\n",
    "ensemble_sub = subs[0].copy()\n",
    "small_prob_counter = 0\n",
    "prob_thresh = 0.3\n",
    "for i in tqdm(range(ensemble_sub.shape[0])):\n",
    "    label = int2label[preds[i]]\n",
    "    label = label if label != '_silence_' else 'silence'\n",
    "    label = label if label != '_unknown_' else 'unknown'\n",
    "    label = label if label == 'silence' or label in wanted_words else 'unknown'\n",
    "    # handle \"small\" probs\n",
    "    max_prob = probabilities[i, preds[i]]\n",
    "    if max_prob < prob_thresh:\n",
    "        small_prob_counter += 1\n",
    "        src_fn = jp('data/test/audio', ensemble_sub.loc[i, 'fname'])\n",
    "        dst_fn = jp('split_decision', '%s_%.3f.wav'\n",
    "                    % (label, max_prob))\n",
    "        copy(src_fn, dst_fn)\n",
    "        # map small prob words (not silence) to unknown\n",
    "        label = label if label == 'unknown' else 'silence'\n",
    "    ensemble_label.append(label)\n",
    "\n",
    "\n",
    "print(\"%d of %d with small prob\" % (small_prob_counter, ensemble_sub.shape[0]))\n",
    "ensemble_sub['label'] = ensemble_label\n",
    "ensemble_sub[['fname', 'label']].to_csv(\n",
    "    'prob_ensemble_023_thresh_%.2f_map_to_silence.csv' % prob_thresh, index=False)\n",
    "print(\"Done\")"
   ]
  },
  {
   "cell_type": "markdown",
   "metadata": {},
   "source": [
    "# Find duplicates\n",
    "## https://www.kaggle.com/c/tensorflow-speech-recognition-challenge/discussion/44687"
   ]
  },
  {
   "cell_type": "code",
   "execution_count": null,
   "metadata": {},
   "outputs": [],
   "source": [
    "train_fns = sorted(glob('data/train/audio/*/*.wav'))\n",
    "test_fns = sorted(glob('data/test/audio/*.wav'))\n",
    "all_fns = train_fns + test_fns\n",
    "print(\"%d train, %d test, %d total\"\n",
    "      % (len(train_fns), len(test_fns), len(all_fns)))\n",
    "all_fns = all_fns[:]"
   ]
  },
  {
   "cell_type": "code",
   "execution_count": null,
   "metadata": {},
   "outputs": [],
   "source": [
    "if not os.path.exists('md5sums.p'):\n",
    "    md5sums = {}\n",
    "    for fn in tqdm(all_fns):\n",
    "        if fn in md5sums:\n",
    "            print(\"Double fn!\", fn)\n",
    "        checksum = md5(fn)\n",
    "        md5sums[fn] = checksum\n",
    "    # cache\n",
    "    data = {'md5sums': md5sums}\n",
    "    with open('md5sums.p', 'wb') as f:\n",
    "        pickle.dump(data, f)\n",
    "\n",
    "with open('md5sums.p', 'rb') as f:\n",
    "    data = pickle.load(f)\n",
    "    md5sums = data['md5sums']\n",
    "    "
   ]
  },
  {
   "cell_type": "code",
   "execution_count": null,
   "metadata": {},
   "outputs": [],
   "source": [
    "counts = {}\n",
    "checksum_fn = {v: k for k, v in md5sums.items()}\n",
    "for fn, checksum in md5sums.items():\n",
    "    if checksum in counts:\n",
    "        counts[checksum] += 1\n",
    "    else:\n",
    "        counts[checksum] = 1"
   ]
  },
  {
   "cell_type": "code",
   "execution_count": null,
   "metadata": {},
   "outputs": [],
   "source": [
    "fn_counts = []\n",
    "check_to_fns = {}\n",
    "for checksum, count in counts.items():\n",
    "    fn = checksum_fn[checksum]\n",
    "    fn_counts.append((fn, count))\n",
    "    if checksum in check_to_fns:\n",
    "        if fn not in check_to_fns[fn]:\n",
    "            check_to_fns[fn].append(fn)\n",
    "        else:\n",
    "            check_to_fns[fn] = [fn]\n",
    "fn_counts = sorted(fn_counts, key=lambda x: x[-1], reverse=True)\n",
    "print(fn_counts[:10])"
   ]
  },
  {
   "cell_type": "code",
   "execution_count": null,
   "metadata": {},
   "outputs": [],
   "source": [
    "a = [(k, v) for k, v in counts.items() if v == 3710][0]"
   ]
  },
  {
   "cell_type": "code",
   "execution_count": null,
   "metadata": {},
   "outputs": [],
   "source": [
    "mist_fns = [fn for fn, s in md5sums.items() if s == a[0]]\n",
    "bns = [os.path.basename(fn) for fn in mist_fns]"
   ]
  },
  {
   "cell_type": "code",
   "execution_count": null,
   "metadata": {},
   "outputs": [],
   "source": [
    "# These are all silence -.- check that we got it right anyway ...\n",
    "some_sub = pd.read_csv('submission_017.csv')\n",
    "for i in range(some_sub.shape[0]):\n",
    "    fn = some_sub.loc[i, 'fname']\n",
    "    if fn in bns:\n",
    "        label = some_sub.loc[i, 'label']\n",
    "        if label != 'silence':\n",
    "            print(label)\n",
    "# check! That was useless -.-"
   ]
  },
  {
   "cell_type": "markdown",
   "metadata": {},
   "source": [
    "# Listen test data"
   ]
  },
  {
   "cell_type": "code",
   "execution_count": null,
   "metadata": {},
   "outputs": [],
   "source": [
    "test_fns = sorted(glob('data/test/audio/*.wav'))\n",
    "print(len(test_fns))\n",
    "disp_count = 0\n",
    "for test_fn in test_fns:\n",
    "    if disp_count > 10:\n",
    "        break\n",
    "    if np.random.rand() > 0.7:\n",
    "        print(test_fn)\n",
    "        display(Audio(filename=test_fn,\n",
    "                      rate=16000,\n",
    "                      autoplay=True))\n",
    "        sleep(1)\n",
    "        disp_count += 1"
   ]
  },
  {
   "cell_type": "markdown",
   "metadata": {},
   "source": [
    "# Explore subsampled representation"
   ]
  },
  {
   "cell_type": "code",
   "execution_count": 2,
   "metadata": {},
   "outputs": [
    {
     "data": {
      "application/javascript": [
       "/* Put everything inside the global mpl namespace */\n",
       "window.mpl = {};\n",
       "\n",
       "\n",
       "mpl.get_websocket_type = function() {\n",
       "    if (typeof(WebSocket) !== 'undefined') {\n",
       "        return WebSocket;\n",
       "    } else if (typeof(MozWebSocket) !== 'undefined') {\n",
       "        return MozWebSocket;\n",
       "    } else {\n",
       "        alert('Your browser does not have WebSocket support.' +\n",
       "              'Please try Chrome, Safari or Firefox ≥ 6. ' +\n",
       "              'Firefox 4 and 5 are also supported but you ' +\n",
       "              'have to enable WebSockets in about:config.');\n",
       "    };\n",
       "}\n",
       "\n",
       "mpl.figure = function(figure_id, websocket, ondownload, parent_element) {\n",
       "    this.id = figure_id;\n",
       "\n",
       "    this.ws = websocket;\n",
       "\n",
       "    this.supports_binary = (this.ws.binaryType != undefined);\n",
       "\n",
       "    if (!this.supports_binary) {\n",
       "        var warnings = document.getElementById(\"mpl-warnings\");\n",
       "        if (warnings) {\n",
       "            warnings.style.display = 'block';\n",
       "            warnings.textContent = (\n",
       "                \"This browser does not support binary websocket messages. \" +\n",
       "                    \"Performance may be slow.\");\n",
       "        }\n",
       "    }\n",
       "\n",
       "    this.imageObj = new Image();\n",
       "\n",
       "    this.context = undefined;\n",
       "    this.message = undefined;\n",
       "    this.canvas = undefined;\n",
       "    this.rubberband_canvas = undefined;\n",
       "    this.rubberband_context = undefined;\n",
       "    this.format_dropdown = undefined;\n",
       "\n",
       "    this.image_mode = 'full';\n",
       "\n",
       "    this.root = $('<div/>');\n",
       "    this._root_extra_style(this.root)\n",
       "    this.root.attr('style', 'display: inline-block');\n",
       "\n",
       "    $(parent_element).append(this.root);\n",
       "\n",
       "    this._init_header(this);\n",
       "    this._init_canvas(this);\n",
       "    this._init_toolbar(this);\n",
       "\n",
       "    var fig = this;\n",
       "\n",
       "    this.waiting = false;\n",
       "\n",
       "    this.ws.onopen =  function () {\n",
       "            fig.send_message(\"supports_binary\", {value: fig.supports_binary});\n",
       "            fig.send_message(\"send_image_mode\", {});\n",
       "            if (mpl.ratio != 1) {\n",
       "                fig.send_message(\"set_dpi_ratio\", {'dpi_ratio': mpl.ratio});\n",
       "            }\n",
       "            fig.send_message(\"refresh\", {});\n",
       "        }\n",
       "\n",
       "    this.imageObj.onload = function() {\n",
       "            if (fig.image_mode == 'full') {\n",
       "                // Full images could contain transparency (where diff images\n",
       "                // almost always do), so we need to clear the canvas so that\n",
       "                // there is no ghosting.\n",
       "                fig.context.clearRect(0, 0, fig.canvas.width, fig.canvas.height);\n",
       "            }\n",
       "            fig.context.drawImage(fig.imageObj, 0, 0);\n",
       "        };\n",
       "\n",
       "    this.imageObj.onunload = function() {\n",
       "        this.ws.close();\n",
       "    }\n",
       "\n",
       "    this.ws.onmessage = this._make_on_message_function(this);\n",
       "\n",
       "    this.ondownload = ondownload;\n",
       "}\n",
       "\n",
       "mpl.figure.prototype._init_header = function() {\n",
       "    var titlebar = $(\n",
       "        '<div class=\"ui-dialog-titlebar ui-widget-header ui-corner-all ' +\n",
       "        'ui-helper-clearfix\"/>');\n",
       "    var titletext = $(\n",
       "        '<div class=\"ui-dialog-title\" style=\"width: 100%; ' +\n",
       "        'text-align: center; padding: 3px;\"/>');\n",
       "    titlebar.append(titletext)\n",
       "    this.root.append(titlebar);\n",
       "    this.header = titletext[0];\n",
       "}\n",
       "\n",
       "\n",
       "\n",
       "mpl.figure.prototype._canvas_extra_style = function(canvas_div) {\n",
       "\n",
       "}\n",
       "\n",
       "\n",
       "mpl.figure.prototype._root_extra_style = function(canvas_div) {\n",
       "\n",
       "}\n",
       "\n",
       "mpl.figure.prototype._init_canvas = function() {\n",
       "    var fig = this;\n",
       "\n",
       "    var canvas_div = $('<div/>');\n",
       "\n",
       "    canvas_div.attr('style', 'position: relative; clear: both; outline: 0');\n",
       "\n",
       "    function canvas_keyboard_event(event) {\n",
       "        return fig.key_event(event, event['data']);\n",
       "    }\n",
       "\n",
       "    canvas_div.keydown('key_press', canvas_keyboard_event);\n",
       "    canvas_div.keyup('key_release', canvas_keyboard_event);\n",
       "    this.canvas_div = canvas_div\n",
       "    this._canvas_extra_style(canvas_div)\n",
       "    this.root.append(canvas_div);\n",
       "\n",
       "    var canvas = $('<canvas/>');\n",
       "    canvas.addClass('mpl-canvas');\n",
       "    canvas.attr('style', \"left: 0; top: 0; z-index: 0; outline: 0\")\n",
       "\n",
       "    this.canvas = canvas[0];\n",
       "    this.context = canvas[0].getContext(\"2d\");\n",
       "\n",
       "    var backingStore = this.context.backingStorePixelRatio ||\n",
       "\tthis.context.webkitBackingStorePixelRatio ||\n",
       "\tthis.context.mozBackingStorePixelRatio ||\n",
       "\tthis.context.msBackingStorePixelRatio ||\n",
       "\tthis.context.oBackingStorePixelRatio ||\n",
       "\tthis.context.backingStorePixelRatio || 1;\n",
       "\n",
       "    mpl.ratio = (window.devicePixelRatio || 1) / backingStore;\n",
       "\n",
       "    var rubberband = $('<canvas/>');\n",
       "    rubberband.attr('style', \"position: absolute; left: 0; top: 0; z-index: 1;\")\n",
       "\n",
       "    var pass_mouse_events = true;\n",
       "\n",
       "    canvas_div.resizable({\n",
       "        start: function(event, ui) {\n",
       "            pass_mouse_events = false;\n",
       "        },\n",
       "        resize: function(event, ui) {\n",
       "            fig.request_resize(ui.size.width, ui.size.height);\n",
       "        },\n",
       "        stop: function(event, ui) {\n",
       "            pass_mouse_events = true;\n",
       "            fig.request_resize(ui.size.width, ui.size.height);\n",
       "        },\n",
       "    });\n",
       "\n",
       "    function mouse_event_fn(event) {\n",
       "        if (pass_mouse_events)\n",
       "            return fig.mouse_event(event, event['data']);\n",
       "    }\n",
       "\n",
       "    rubberband.mousedown('button_press', mouse_event_fn);\n",
       "    rubberband.mouseup('button_release', mouse_event_fn);\n",
       "    // Throttle sequential mouse events to 1 every 20ms.\n",
       "    rubberband.mousemove('motion_notify', mouse_event_fn);\n",
       "\n",
       "    rubberband.mouseenter('figure_enter', mouse_event_fn);\n",
       "    rubberband.mouseleave('figure_leave', mouse_event_fn);\n",
       "\n",
       "    canvas_div.on(\"wheel\", function (event) {\n",
       "        event = event.originalEvent;\n",
       "        event['data'] = 'scroll'\n",
       "        if (event.deltaY < 0) {\n",
       "            event.step = 1;\n",
       "        } else {\n",
       "            event.step = -1;\n",
       "        }\n",
       "        mouse_event_fn(event);\n",
       "    });\n",
       "\n",
       "    canvas_div.append(canvas);\n",
       "    canvas_div.append(rubberband);\n",
       "\n",
       "    this.rubberband = rubberband;\n",
       "    this.rubberband_canvas = rubberband[0];\n",
       "    this.rubberband_context = rubberband[0].getContext(\"2d\");\n",
       "    this.rubberband_context.strokeStyle = \"#000000\";\n",
       "\n",
       "    this._resize_canvas = function(width, height) {\n",
       "        // Keep the size of the canvas, canvas container, and rubber band\n",
       "        // canvas in synch.\n",
       "        canvas_div.css('width', width)\n",
       "        canvas_div.css('height', height)\n",
       "\n",
       "        canvas.attr('width', width * mpl.ratio);\n",
       "        canvas.attr('height', height * mpl.ratio);\n",
       "        canvas.attr('style', 'width: ' + width + 'px; height: ' + height + 'px;');\n",
       "\n",
       "        rubberband.attr('width', width);\n",
       "        rubberband.attr('height', height);\n",
       "    }\n",
       "\n",
       "    // Set the figure to an initial 600x600px, this will subsequently be updated\n",
       "    // upon first draw.\n",
       "    this._resize_canvas(600, 600);\n",
       "\n",
       "    // Disable right mouse context menu.\n",
       "    $(this.rubberband_canvas).bind(\"contextmenu\",function(e){\n",
       "        return false;\n",
       "    });\n",
       "\n",
       "    function set_focus () {\n",
       "        canvas.focus();\n",
       "        canvas_div.focus();\n",
       "    }\n",
       "\n",
       "    window.setTimeout(set_focus, 100);\n",
       "}\n",
       "\n",
       "mpl.figure.prototype._init_toolbar = function() {\n",
       "    var fig = this;\n",
       "\n",
       "    var nav_element = $('<div/>')\n",
       "    nav_element.attr('style', 'width: 100%');\n",
       "    this.root.append(nav_element);\n",
       "\n",
       "    // Define a callback function for later on.\n",
       "    function toolbar_event(event) {\n",
       "        return fig.toolbar_button_onclick(event['data']);\n",
       "    }\n",
       "    function toolbar_mouse_event(event) {\n",
       "        return fig.toolbar_button_onmouseover(event['data']);\n",
       "    }\n",
       "\n",
       "    for(var toolbar_ind in mpl.toolbar_items) {\n",
       "        var name = mpl.toolbar_items[toolbar_ind][0];\n",
       "        var tooltip = mpl.toolbar_items[toolbar_ind][1];\n",
       "        var image = mpl.toolbar_items[toolbar_ind][2];\n",
       "        var method_name = mpl.toolbar_items[toolbar_ind][3];\n",
       "\n",
       "        if (!name) {\n",
       "            // put a spacer in here.\n",
       "            continue;\n",
       "        }\n",
       "        var button = $('<button/>');\n",
       "        button.addClass('ui-button ui-widget ui-state-default ui-corner-all ' +\n",
       "                        'ui-button-icon-only');\n",
       "        button.attr('role', 'button');\n",
       "        button.attr('aria-disabled', 'false');\n",
       "        button.click(method_name, toolbar_event);\n",
       "        button.mouseover(tooltip, toolbar_mouse_event);\n",
       "\n",
       "        var icon_img = $('<span/>');\n",
       "        icon_img.addClass('ui-button-icon-primary ui-icon');\n",
       "        icon_img.addClass(image);\n",
       "        icon_img.addClass('ui-corner-all');\n",
       "\n",
       "        var tooltip_span = $('<span/>');\n",
       "        tooltip_span.addClass('ui-button-text');\n",
       "        tooltip_span.html(tooltip);\n",
       "\n",
       "        button.append(icon_img);\n",
       "        button.append(tooltip_span);\n",
       "\n",
       "        nav_element.append(button);\n",
       "    }\n",
       "\n",
       "    var fmt_picker_span = $('<span/>');\n",
       "\n",
       "    var fmt_picker = $('<select/>');\n",
       "    fmt_picker.addClass('mpl-toolbar-option ui-widget ui-widget-content');\n",
       "    fmt_picker_span.append(fmt_picker);\n",
       "    nav_element.append(fmt_picker_span);\n",
       "    this.format_dropdown = fmt_picker[0];\n",
       "\n",
       "    for (var ind in mpl.extensions) {\n",
       "        var fmt = mpl.extensions[ind];\n",
       "        var option = $(\n",
       "            '<option/>', {selected: fmt === mpl.default_extension}).html(fmt);\n",
       "        fmt_picker.append(option)\n",
       "    }\n",
       "\n",
       "    // Add hover states to the ui-buttons\n",
       "    $( \".ui-button\" ).hover(\n",
       "        function() { $(this).addClass(\"ui-state-hover\");},\n",
       "        function() { $(this).removeClass(\"ui-state-hover\");}\n",
       "    );\n",
       "\n",
       "    var status_bar = $('<span class=\"mpl-message\"/>');\n",
       "    nav_element.append(status_bar);\n",
       "    this.message = status_bar[0];\n",
       "}\n",
       "\n",
       "mpl.figure.prototype.request_resize = function(x_pixels, y_pixels) {\n",
       "    // Request matplotlib to resize the figure. Matplotlib will then trigger a resize in the client,\n",
       "    // which will in turn request a refresh of the image.\n",
       "    this.send_message('resize', {'width': x_pixels, 'height': y_pixels});\n",
       "}\n",
       "\n",
       "mpl.figure.prototype.send_message = function(type, properties) {\n",
       "    properties['type'] = type;\n",
       "    properties['figure_id'] = this.id;\n",
       "    this.ws.send(JSON.stringify(properties));\n",
       "}\n",
       "\n",
       "mpl.figure.prototype.send_draw_message = function() {\n",
       "    if (!this.waiting) {\n",
       "        this.waiting = true;\n",
       "        this.ws.send(JSON.stringify({type: \"draw\", figure_id: this.id}));\n",
       "    }\n",
       "}\n",
       "\n",
       "\n",
       "mpl.figure.prototype.handle_save = function(fig, msg) {\n",
       "    var format_dropdown = fig.format_dropdown;\n",
       "    var format = format_dropdown.options[format_dropdown.selectedIndex].value;\n",
       "    fig.ondownload(fig, format);\n",
       "}\n",
       "\n",
       "\n",
       "mpl.figure.prototype.handle_resize = function(fig, msg) {\n",
       "    var size = msg['size'];\n",
       "    if (size[0] != fig.canvas.width || size[1] != fig.canvas.height) {\n",
       "        fig._resize_canvas(size[0], size[1]);\n",
       "        fig.send_message(\"refresh\", {});\n",
       "    };\n",
       "}\n",
       "\n",
       "mpl.figure.prototype.handle_rubberband = function(fig, msg) {\n",
       "    var x0 = msg['x0'] / mpl.ratio;\n",
       "    var y0 = (fig.canvas.height - msg['y0']) / mpl.ratio;\n",
       "    var x1 = msg['x1'] / mpl.ratio;\n",
       "    var y1 = (fig.canvas.height - msg['y1']) / mpl.ratio;\n",
       "    x0 = Math.floor(x0) + 0.5;\n",
       "    y0 = Math.floor(y0) + 0.5;\n",
       "    x1 = Math.floor(x1) + 0.5;\n",
       "    y1 = Math.floor(y1) + 0.5;\n",
       "    var min_x = Math.min(x0, x1);\n",
       "    var min_y = Math.min(y0, y1);\n",
       "    var width = Math.abs(x1 - x0);\n",
       "    var height = Math.abs(y1 - y0);\n",
       "\n",
       "    fig.rubberband_context.clearRect(\n",
       "        0, 0, fig.canvas.width, fig.canvas.height);\n",
       "\n",
       "    fig.rubberband_context.strokeRect(min_x, min_y, width, height);\n",
       "}\n",
       "\n",
       "mpl.figure.prototype.handle_figure_label = function(fig, msg) {\n",
       "    // Updates the figure title.\n",
       "    fig.header.textContent = msg['label'];\n",
       "}\n",
       "\n",
       "mpl.figure.prototype.handle_cursor = function(fig, msg) {\n",
       "    var cursor = msg['cursor'];\n",
       "    switch(cursor)\n",
       "    {\n",
       "    case 0:\n",
       "        cursor = 'pointer';\n",
       "        break;\n",
       "    case 1:\n",
       "        cursor = 'default';\n",
       "        break;\n",
       "    case 2:\n",
       "        cursor = 'crosshair';\n",
       "        break;\n",
       "    case 3:\n",
       "        cursor = 'move';\n",
       "        break;\n",
       "    }\n",
       "    fig.rubberband_canvas.style.cursor = cursor;\n",
       "}\n",
       "\n",
       "mpl.figure.prototype.handle_message = function(fig, msg) {\n",
       "    fig.message.textContent = msg['message'];\n",
       "}\n",
       "\n",
       "mpl.figure.prototype.handle_draw = function(fig, msg) {\n",
       "    // Request the server to send over a new figure.\n",
       "    fig.send_draw_message();\n",
       "}\n",
       "\n",
       "mpl.figure.prototype.handle_image_mode = function(fig, msg) {\n",
       "    fig.image_mode = msg['mode'];\n",
       "}\n",
       "\n",
       "mpl.figure.prototype.updated_canvas_event = function() {\n",
       "    // Called whenever the canvas gets updated.\n",
       "    this.send_message(\"ack\", {});\n",
       "}\n",
       "\n",
       "// A function to construct a web socket function for onmessage handling.\n",
       "// Called in the figure constructor.\n",
       "mpl.figure.prototype._make_on_message_function = function(fig) {\n",
       "    return function socket_on_message(evt) {\n",
       "        if (evt.data instanceof Blob) {\n",
       "            /* FIXME: We get \"Resource interpreted as Image but\n",
       "             * transferred with MIME type text/plain:\" errors on\n",
       "             * Chrome.  But how to set the MIME type?  It doesn't seem\n",
       "             * to be part of the websocket stream */\n",
       "            evt.data.type = \"image/png\";\n",
       "\n",
       "            /* Free the memory for the previous frames */\n",
       "            if (fig.imageObj.src) {\n",
       "                (window.URL || window.webkitURL).revokeObjectURL(\n",
       "                    fig.imageObj.src);\n",
       "            }\n",
       "\n",
       "            fig.imageObj.src = (window.URL || window.webkitURL).createObjectURL(\n",
       "                evt.data);\n",
       "            fig.updated_canvas_event();\n",
       "            fig.waiting = false;\n",
       "            return;\n",
       "        }\n",
       "        else if (typeof evt.data === 'string' && evt.data.slice(0, 21) == \"data:image/png;base64\") {\n",
       "            fig.imageObj.src = evt.data;\n",
       "            fig.updated_canvas_event();\n",
       "            fig.waiting = false;\n",
       "            return;\n",
       "        }\n",
       "\n",
       "        var msg = JSON.parse(evt.data);\n",
       "        var msg_type = msg['type'];\n",
       "\n",
       "        // Call the  \"handle_{type}\" callback, which takes\n",
       "        // the figure and JSON message as its only arguments.\n",
       "        try {\n",
       "            var callback = fig[\"handle_\" + msg_type];\n",
       "        } catch (e) {\n",
       "            console.log(\"No handler for the '\" + msg_type + \"' message type: \", msg);\n",
       "            return;\n",
       "        }\n",
       "\n",
       "        if (callback) {\n",
       "            try {\n",
       "                // console.log(\"Handling '\" + msg_type + \"' message: \", msg);\n",
       "                callback(fig, msg);\n",
       "            } catch (e) {\n",
       "                console.log(\"Exception inside the 'handler_\" + msg_type + \"' callback:\", e, e.stack, msg);\n",
       "            }\n",
       "        }\n",
       "    };\n",
       "}\n",
       "\n",
       "// from http://stackoverflow.com/questions/1114465/getting-mouse-location-in-canvas\n",
       "mpl.findpos = function(e) {\n",
       "    //this section is from http://www.quirksmode.org/js/events_properties.html\n",
       "    var targ;\n",
       "    if (!e)\n",
       "        e = window.event;\n",
       "    if (e.target)\n",
       "        targ = e.target;\n",
       "    else if (e.srcElement)\n",
       "        targ = e.srcElement;\n",
       "    if (targ.nodeType == 3) // defeat Safari bug\n",
       "        targ = targ.parentNode;\n",
       "\n",
       "    // jQuery normalizes the pageX and pageY\n",
       "    // pageX,Y are the mouse positions relative to the document\n",
       "    // offset() returns the position of the element relative to the document\n",
       "    var x = e.pageX - $(targ).offset().left;\n",
       "    var y = e.pageY - $(targ).offset().top;\n",
       "\n",
       "    return {\"x\": x, \"y\": y};\n",
       "};\n",
       "\n",
       "/*\n",
       " * return a copy of an object with only non-object keys\n",
       " * we need this to avoid circular references\n",
       " * http://stackoverflow.com/a/24161582/3208463\n",
       " */\n",
       "function simpleKeys (original) {\n",
       "  return Object.keys(original).reduce(function (obj, key) {\n",
       "    if (typeof original[key] !== 'object')\n",
       "        obj[key] = original[key]\n",
       "    return obj;\n",
       "  }, {});\n",
       "}\n",
       "\n",
       "mpl.figure.prototype.mouse_event = function(event, name) {\n",
       "    var canvas_pos = mpl.findpos(event)\n",
       "\n",
       "    if (name === 'button_press')\n",
       "    {\n",
       "        this.canvas.focus();\n",
       "        this.canvas_div.focus();\n",
       "    }\n",
       "\n",
       "    var x = canvas_pos.x * mpl.ratio;\n",
       "    var y = canvas_pos.y * mpl.ratio;\n",
       "\n",
       "    this.send_message(name, {x: x, y: y, button: event.button,\n",
       "                             step: event.step,\n",
       "                             guiEvent: simpleKeys(event)});\n",
       "\n",
       "    /* This prevents the web browser from automatically changing to\n",
       "     * the text insertion cursor when the button is pressed.  We want\n",
       "     * to control all of the cursor setting manually through the\n",
       "     * 'cursor' event from matplotlib */\n",
       "    event.preventDefault();\n",
       "    return false;\n",
       "}\n",
       "\n",
       "mpl.figure.prototype._key_event_extra = function(event, name) {\n",
       "    // Handle any extra behaviour associated with a key event\n",
       "}\n",
       "\n",
       "mpl.figure.prototype.key_event = function(event, name) {\n",
       "\n",
       "    // Prevent repeat events\n",
       "    if (name == 'key_press')\n",
       "    {\n",
       "        if (event.which === this._key)\n",
       "            return;\n",
       "        else\n",
       "            this._key = event.which;\n",
       "    }\n",
       "    if (name == 'key_release')\n",
       "        this._key = null;\n",
       "\n",
       "    var value = '';\n",
       "    if (event.ctrlKey && event.which != 17)\n",
       "        value += \"ctrl+\";\n",
       "    if (event.altKey && event.which != 18)\n",
       "        value += \"alt+\";\n",
       "    if (event.shiftKey && event.which != 16)\n",
       "        value += \"shift+\";\n",
       "\n",
       "    value += 'k';\n",
       "    value += event.which.toString();\n",
       "\n",
       "    this._key_event_extra(event, name);\n",
       "\n",
       "    this.send_message(name, {key: value,\n",
       "                             guiEvent: simpleKeys(event)});\n",
       "    return false;\n",
       "}\n",
       "\n",
       "mpl.figure.prototype.toolbar_button_onclick = function(name) {\n",
       "    if (name == 'download') {\n",
       "        this.handle_save(this, null);\n",
       "    } else {\n",
       "        this.send_message(\"toolbar_button\", {name: name});\n",
       "    }\n",
       "};\n",
       "\n",
       "mpl.figure.prototype.toolbar_button_onmouseover = function(tooltip) {\n",
       "    this.message.textContent = tooltip;\n",
       "};\n",
       "mpl.toolbar_items = [[\"Home\", \"Reset original view\", \"fa fa-home icon-home\", \"home\"], [\"Back\", \"Back to  previous view\", \"fa fa-arrow-left icon-arrow-left\", \"back\"], [\"Forward\", \"Forward to next view\", \"fa fa-arrow-right icon-arrow-right\", \"forward\"], [\"\", \"\", \"\", \"\"], [\"Pan\", \"Pan axes with left mouse, zoom with right\", \"fa fa-arrows icon-move\", \"pan\"], [\"Zoom\", \"Zoom to rectangle\", \"fa fa-square-o icon-check-empty\", \"zoom\"], [\"\", \"\", \"\", \"\"], [\"Download\", \"Download plot\", \"fa fa-floppy-o icon-save\", \"download\"]];\n",
       "\n",
       "mpl.extensions = [\"eps\", \"jpeg\", \"pdf\", \"png\", \"ps\", \"raw\", \"svg\", \"tif\"];\n",
       "\n",
       "mpl.default_extension = \"png\";var comm_websocket_adapter = function(comm) {\n",
       "    // Create a \"websocket\"-like object which calls the given IPython comm\n",
       "    // object with the appropriate methods. Currently this is a non binary\n",
       "    // socket, so there is still some room for performance tuning.\n",
       "    var ws = {};\n",
       "\n",
       "    ws.close = function() {\n",
       "        comm.close()\n",
       "    };\n",
       "    ws.send = function(m) {\n",
       "        //console.log('sending', m);\n",
       "        comm.send(m);\n",
       "    };\n",
       "    // Register the callback with on_msg.\n",
       "    comm.on_msg(function(msg) {\n",
       "        //console.log('receiving', msg['content']['data'], msg);\n",
       "        // Pass the mpl event to the overriden (by mpl) onmessage function.\n",
       "        ws.onmessage(msg['content']['data'])\n",
       "    });\n",
       "    return ws;\n",
       "}\n",
       "\n",
       "mpl.mpl_figure_comm = function(comm, msg) {\n",
       "    // This is the function which gets called when the mpl process\n",
       "    // starts-up an IPython Comm through the \"matplotlib\" channel.\n",
       "\n",
       "    var id = msg.content.data.id;\n",
       "    // Get hold of the div created by the display call when the Comm\n",
       "    // socket was opened in Python.\n",
       "    var element = $(\"#\" + id);\n",
       "    var ws_proxy = comm_websocket_adapter(comm)\n",
       "\n",
       "    function ondownload(figure, format) {\n",
       "        window.open(figure.imageObj.src);\n",
       "    }\n",
       "\n",
       "    var fig = new mpl.figure(id, ws_proxy,\n",
       "                           ondownload,\n",
       "                           element.get(0));\n",
       "\n",
       "    // Call onopen now - mpl needs it, as it is assuming we've passed it a real\n",
       "    // web socket which is closed, not our websocket->open comm proxy.\n",
       "    ws_proxy.onopen();\n",
       "\n",
       "    fig.parent_element = element.get(0);\n",
       "    fig.cell_info = mpl.find_output_cell(\"<div id='\" + id + \"'></div>\");\n",
       "    if (!fig.cell_info) {\n",
       "        console.error(\"Failed to find cell for figure\", id, fig);\n",
       "        return;\n",
       "    }\n",
       "\n",
       "    var output_index = fig.cell_info[2]\n",
       "    var cell = fig.cell_info[0];\n",
       "\n",
       "};\n",
       "\n",
       "mpl.figure.prototype.handle_close = function(fig, msg) {\n",
       "    var width = fig.canvas.width/mpl.ratio\n",
       "    fig.root.unbind('remove')\n",
       "\n",
       "    // Update the output cell to use the data from the current canvas.\n",
       "    fig.push_to_output();\n",
       "    var dataURL = fig.canvas.toDataURL();\n",
       "    // Re-enable the keyboard manager in IPython - without this line, in FF,\n",
       "    // the notebook keyboard shortcuts fail.\n",
       "    IPython.keyboard_manager.enable()\n",
       "    $(fig.parent_element).html('<img src=\"' + dataURL + '\" width=\"' + width + '\">');\n",
       "    fig.close_ws(fig, msg);\n",
       "}\n",
       "\n",
       "mpl.figure.prototype.close_ws = function(fig, msg){\n",
       "    fig.send_message('closing', msg);\n",
       "    // fig.ws.close()\n",
       "}\n",
       "\n",
       "mpl.figure.prototype.push_to_output = function(remove_interactive) {\n",
       "    // Turn the data on the canvas into data in the output cell.\n",
       "    var width = this.canvas.width/mpl.ratio\n",
       "    var dataURL = this.canvas.toDataURL();\n",
       "    this.cell_info[1]['text/html'] = '<img src=\"' + dataURL + '\" width=\"' + width + '\">';\n",
       "}\n",
       "\n",
       "mpl.figure.prototype.updated_canvas_event = function() {\n",
       "    // Tell IPython that the notebook contents must change.\n",
       "    IPython.notebook.set_dirty(true);\n",
       "    this.send_message(\"ack\", {});\n",
       "    var fig = this;\n",
       "    // Wait a second, then push the new image to the DOM so\n",
       "    // that it is saved nicely (might be nice to debounce this).\n",
       "    setTimeout(function () { fig.push_to_output() }, 1000);\n",
       "}\n",
       "\n",
       "mpl.figure.prototype._init_toolbar = function() {\n",
       "    var fig = this;\n",
       "\n",
       "    var nav_element = $('<div/>')\n",
       "    nav_element.attr('style', 'width: 100%');\n",
       "    this.root.append(nav_element);\n",
       "\n",
       "    // Define a callback function for later on.\n",
       "    function toolbar_event(event) {\n",
       "        return fig.toolbar_button_onclick(event['data']);\n",
       "    }\n",
       "    function toolbar_mouse_event(event) {\n",
       "        return fig.toolbar_button_onmouseover(event['data']);\n",
       "    }\n",
       "\n",
       "    for(var toolbar_ind in mpl.toolbar_items){\n",
       "        var name = mpl.toolbar_items[toolbar_ind][0];\n",
       "        var tooltip = mpl.toolbar_items[toolbar_ind][1];\n",
       "        var image = mpl.toolbar_items[toolbar_ind][2];\n",
       "        var method_name = mpl.toolbar_items[toolbar_ind][3];\n",
       "\n",
       "        if (!name) { continue; };\n",
       "\n",
       "        var button = $('<button class=\"btn btn-default\" href=\"#\" title=\"' + name + '\"><i class=\"fa ' + image + ' fa-lg\"></i></button>');\n",
       "        button.click(method_name, toolbar_event);\n",
       "        button.mouseover(tooltip, toolbar_mouse_event);\n",
       "        nav_element.append(button);\n",
       "    }\n",
       "\n",
       "    // Add the status bar.\n",
       "    var status_bar = $('<span class=\"mpl-message\" style=\"text-align:right; float: right;\"/>');\n",
       "    nav_element.append(status_bar);\n",
       "    this.message = status_bar[0];\n",
       "\n",
       "    // Add the close button to the window.\n",
       "    var buttongrp = $('<div class=\"btn-group inline pull-right\"></div>');\n",
       "    var button = $('<button class=\"btn btn-mini btn-primary\" href=\"#\" title=\"Stop Interaction\"><i class=\"fa fa-power-off icon-remove icon-large\"></i></button>');\n",
       "    button.click(function (evt) { fig.handle_close(fig, {}); } );\n",
       "    button.mouseover('Stop Interaction', toolbar_mouse_event);\n",
       "    buttongrp.append(button);\n",
       "    var titlebar = this.root.find($('.ui-dialog-titlebar'));\n",
       "    titlebar.prepend(buttongrp);\n",
       "}\n",
       "\n",
       "mpl.figure.prototype._root_extra_style = function(el){\n",
       "    var fig = this\n",
       "    el.on(\"remove\", function(){\n",
       "\tfig.close_ws(fig, {});\n",
       "    });\n",
       "}\n",
       "\n",
       "mpl.figure.prototype._canvas_extra_style = function(el){\n",
       "    // this is important to make the div 'focusable\n",
       "    el.attr('tabindex', 0)\n",
       "    // reach out to IPython and tell the keyboard manager to turn it's self\n",
       "    // off when our div gets focus\n",
       "\n",
       "    // location in version 3\n",
       "    if (IPython.notebook.keyboard_manager) {\n",
       "        IPython.notebook.keyboard_manager.register_events(el);\n",
       "    }\n",
       "    else {\n",
       "        // location in version 2\n",
       "        IPython.keyboard_manager.register_events(el);\n",
       "    }\n",
       "\n",
       "}\n",
       "\n",
       "mpl.figure.prototype._key_event_extra = function(event, name) {\n",
       "    var manager = IPython.notebook.keyboard_manager;\n",
       "    if (!manager)\n",
       "        manager = IPython.keyboard_manager;\n",
       "\n",
       "    // Check for shift+enter\n",
       "    if (event.shiftKey && event.which == 13) {\n",
       "        this.canvas_div.blur();\n",
       "        // select the cell after this one\n",
       "        var index = IPython.notebook.find_cell_index(this.cell_info[0]);\n",
       "        IPython.notebook.select(index + 1);\n",
       "    }\n",
       "}\n",
       "\n",
       "mpl.figure.prototype.handle_save = function(fig, msg) {\n",
       "    fig.ondownload(fig, null);\n",
       "}\n",
       "\n",
       "\n",
       "mpl.find_output_cell = function(html_output) {\n",
       "    // Return the cell and output element which can be found *uniquely* in the notebook.\n",
       "    // Note - this is a bit hacky, but it is done because the \"notebook_saving.Notebook\"\n",
       "    // IPython event is triggered only after the cells have been serialised, which for\n",
       "    // our purposes (turning an active figure into a static one), is too late.\n",
       "    var cells = IPython.notebook.get_cells();\n",
       "    var ncells = cells.length;\n",
       "    for (var i=0; i<ncells; i++) {\n",
       "        var cell = cells[i];\n",
       "        if (cell.cell_type === 'code'){\n",
       "            for (var j=0; j<cell.output_area.outputs.length; j++) {\n",
       "                var data = cell.output_area.outputs[j];\n",
       "                if (data.data) {\n",
       "                    // IPython >= 3 moved mimebundle to data attribute of output\n",
       "                    data = data.data;\n",
       "                }\n",
       "                if (data['text/html'] == html_output) {\n",
       "                    return [cell, data, j];\n",
       "                }\n",
       "            }\n",
       "        }\n",
       "    }\n",
       "}\n",
       "\n",
       "// Register the function which deals with the matplotlib target/channel.\n",
       "// The kernel may be null if the page has been refreshed.\n",
       "if (IPython.notebook.kernel != null) {\n",
       "    IPython.notebook.kernel.comm_manager.register_target('matplotlib', mpl.mpl_figure_comm);\n",
       "}\n"
      ],
      "text/plain": [
       "<IPython.core.display.Javascript object>"
      ]
     },
     "metadata": {},
     "output_type": "display_data"
    },
    {
     "data": {
      "text/html": [
       "<img src=\"data:image/png;base64,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\" width=\"639.999974568686\">"
      ],
      "text/plain": [
       "<IPython.core.display.HTML object>"
      ]
     },
     "metadata": {},
     "output_type": "display_data"
    },
    {
     "data": {
      "text/html": [
       "\n",
       "                <audio controls=\"controls\" autoplay=\"autoplay\">\n",
       "                    <source src=\"data:audio/x-wav;base64,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\" type=\"audio/x-wav\" />\n",
       "                    Your browser does not support the audio element.\n",
       "                </audio>\n",
       "              "
      ],
      "text/plain": [
       "<IPython.lib.display.Audio object>"
      ]
     },
     "metadata": {},
     "output_type": "display_data"
    }
   ],
   "source": [
    "test_fns = sorted(glob('data/test/audio/*.wav'))\n",
    "some_fn = np.random.choice(test_fns)\n",
    "rate, data = wf.read(some_fn)\n",
    "data = np.float32(data) / 32768\n",
    "assert rate == 16000\n",
    "plt.figure()\n",
    "plt.plot(range(len(data)), data, 'g')\n",
    "display(Audio(some_fn, autoplay=True))"
   ]
  },
  {
   "cell_type": "code",
   "execution_count": null,
   "metadata": {},
   "outputs": [],
   "source": [
    "plt.figure()\n",
    "step = 10\n",
    "colors = ['r', 'g', 'b', 'y', 'b']\n",
    "for i in range(3):\n",
    "    data_slice = data[0::step]\n",
    "    data_slice = np.roll(data_slice, int(-i * 400))\n",
    "    plt.plot(range(len(data_slice)), data_slice, colors[i])\n",
    "    float_audio(data_slice, sample_rate=int(16000 / step), autoplay=True)\n",
    "    sleep(1)"
   ]
  },
  {
   "cell_type": "code",
   "execution_count": null,
   "metadata": {},
   "outputs": [],
   "source": [
    "print(some_fn)"
   ]
  },
  {
   "cell_type": "code",
   "execution_count": null,
   "metadata": {
    "scrolled": true
   },
   "outputs": [],
   "source": [
    "plt.figure()\n",
    "colors = ['r', 'g', 'b', 'y']\n",
    "step = 3\n",
    "for i in range(step):\n",
    "    sub = data[i::step]\n",
    "    plt.plot(range(len(sub)), sub + 2 * i, colors[i % len(colors)])\n"
   ]
  },
  {
   "cell_type": "code",
   "execution_count": null,
   "metadata": {},
   "outputs": [],
   "source": [
    "step = 20\n",
    "float_audio(data[::step], sample_rate=int(16000 / step), autoplay=True)"
   ]
  },
  {
   "cell_type": "code",
   "execution_count": null,
   "metadata": {},
   "outputs": [],
   "source": [
    "# do the same thing in keras/tf\n",
    "def time_slice_stack(x, step):\n",
    "    x_slices = []\n",
    "    for i in range(step):\n",
    "        x_slice = x[:, i::step]\n",
    "        x_slice = K.expand_dims(x_slice, axis=-1)\n",
    "        x_slices.append(x_slice)\n",
    "    x_slices = K.concatenate(x_slices, axis=-1)\n",
    "    print(x_slices.shape)\n",
    "    return x_slices"
   ]
  },
  {
   "cell_type": "code",
   "execution_count": null,
   "metadata": {},
   "outputs": [],
   "source": [
    "input_layer = Input(shape=[16000])\n",
    "x = input_layer\n",
    "x = Lambda(lambda x: time_slice_stack(x, 2))(x)\n",
    "model = Model(input_layer, x)\n",
    "out = model.predict(data.reshape((1, 16000))).squeeze()"
   ]
  },
  {
   "cell_type": "markdown",
   "metadata": {},
   "source": [
    "# Check input representation"
   ]
  },
  {
   "cell_type": "code",
   "execution_count": null,
   "metadata": {
    "scrolled": false
   },
   "outputs": [],
   "source": [
    "def plot_show_samples(label='stop'):\n",
    "    fns = sorted(glob('data/train/audio/%s/*.wav' % label))\n",
    "    disp_count = 0\n",
    "    for fn in fns:\n",
    "        if disp_count > 3:\n",
    "            break\n",
    "        rate, data = wf.read(fn)\n",
    "        data = np.float32(data) / 32768\n",
    "        data = pad_crop(data)\n",
    "        print(fn)\n",
    "        plt.figure()\n",
    "        plt.imshow(data.reshape((400, 40)).T)\n",
    "        plt.show()\n",
    "        display(float_audio(data, autoplay=True))\n",
    "        sleep(1)\n",
    "        disp_count += 1"
   ]
  },
  {
   "cell_type": "code",
   "execution_count": null,
   "metadata": {},
   "outputs": [],
   "source": [
    "plot_show_samples()"
   ]
  },
  {
   "cell_type": "markdown",
   "metadata": {},
   "source": [
    "# Now check mfcc"
   ]
  },
  {
   "cell_type": "code",
   "execution_count": null,
   "metadata": {},
   "outputs": [],
   "source": [
    "desired_samples = 16000\n",
    "window_size_samples = 480\n",
    "window_stride_samples = 160\n",
    "dct_coefficient_count = 40\n",
    "magnitude_squared = False\n",
    "wav_filename_placeholder = tf.placeholder(tf.string, [])\n",
    "wav_loader = io_ops.read_file(wav_filename_placeholder)\n",
    "wav_decoder = contrib_audio.decode_wav(\n",
    "  wav_loader, desired_channels=1,\n",
    "  desired_samples=desired_samples)\n",
    "clamped = tf.clip_by_value(wav_decoder.audio, -1.0, 1.0)\n",
    "spectrogram = contrib_audio.audio_spectrogram(\n",
    "  clamped,\n",
    "  window_size=window_size_samples,\n",
    "  stride=window_stride_samples,\n",
    "  magnitude_squared=magnitude_squared)\n",
    "mfcc = contrib_audio.mfcc(\n",
    "  spectrogram,\n",
    "  wav_decoder.sample_rate,\n",
    "  dct_coefficient_count=dct_coefficient_count)\n",
    "\n",
    "def load_spectrogram(fn):\n",
    "    with tf.Session() as sess:\n",
    "        spectrogram_val = sess.run(\n",
    "            spectrogram, {wav_filename_placeholder: fn})\n",
    "    return spectrogram_val\n",
    "\n",
    "def load_mfcc(fn):\n",
    "    with tf.Session() as sess:\n",
    "        mfcc_val = sess.run(\n",
    "            mfcc, {wav_filename_placeholder: fn})\n",
    "    return mfcc_val\n",
    "\n",
    "def plot_show(label='stop', output='spec', max_disp=3):\n",
    "    fns = sorted(glob('data/train/audio/%s/*.wav' % label))\n",
    "    disp_count = 0\n",
    "    some_data = None\n",
    "    for fn in fns:\n",
    "        if disp_count >= max_disp:\n",
    "            break\n",
    "        if np.random.rand() > 0.9:\n",
    "            if output == 'spec':\n",
    "                spec = load_spectrogram(fn).squeeze()\n",
    "                some_data = spec\n",
    "            elif output == 'mfcc':\n",
    "                mfcc = load_mfcc(fn).squeeze()\n",
    "                some_data = mfcc\n",
    "            plt.figure()\n",
    "            plt.title(fn)\n",
    "            plt.imshow(some_data.T)\n",
    "            plt.colorbar()\n",
    "            plt.show()\n",
    "            disp_count += 1\n",
    "    return some_data"
   ]
  },
  {
   "cell_type": "code",
   "execution_count": null,
   "metadata": {},
   "outputs": [],
   "source": [
    "some_spec = plot_show('sheila', output='spec')\n",
    "print(some_spec.shape)"
   ]
  },
  {
   "cell_type": "code",
   "execution_count": null,
   "metadata": {},
   "outputs": [],
   "source": [
    "some_mfcc = plot_show('stop', output='mfcc', max_disp=3)\n",
    "print(some_mfcc.shape)"
   ]
  },
  {
   "cell_type": "code",
   "execution_count": null,
   "metadata": {},
   "outputs": [],
   "source": [
    "print('Time steps: ', (16000 - 480) / 160 + 1)\n",
    "print('Frequencies: ', 16000 / 160)"
   ]
  },
  {
   "cell_type": "code",
   "execution_count": null,
   "metadata": {},
   "outputs": [],
   "source": [
    "??contrib_audio.audio_spectrogram"
   ]
  },
  {
   "cell_type": "markdown",
   "metadata": {},
   "source": [
    "# Can we create a model that does the same? "
   ]
  },
  {
   "cell_type": "code",
   "execution_count": null,
   "metadata": {},
   "outputs": [],
   "source": [
    "num_filter = 257\n",
    "\n",
    "input_layer = Input(shape=[16000])\n",
    "x = input_layer\n",
    "x = Reshape([16000, 1])(x)\n",
    "x = Conv1D(num_filter, window_size_samples, strides=window_stride_samples)(x)\n",
    "model = Model(input_layer, x)\n",
    "\n",
    "def plot_show(model, label='stop'):\n",
    "    fns = sorted(glob('data/train/audio/%s/*.wav' % label))\n",
    "    disp_count = 0\n",
    "    some_spec = None\n",
    "    for fn in fns:\n",
    "        if disp_count > 2:\n",
    "            break\n",
    "        if np.random.rand() > 0.0:\n",
    "            rate, data = wf.read(fn)\n",
    "            data = np.float32(data) / 32768\n",
    "            data = pad_crop(data)\n",
    "            spec = model.predict(data.reshape((1, -1))).squeeze()\n",
    "            some_spec = spec\n",
    "            print(spec.shape)\n",
    "            plt.figure()\n",
    "            plt.title(fn)\n",
    "            plt.imshow(spec.T)\n",
    "            plt.show()\n",
    "            disp_count += 1\n",
    "    return some_spec"
   ]
  },
  {
   "cell_type": "code",
   "execution_count": null,
   "metadata": {
    "scrolled": false
   },
   "outputs": [],
   "source": [
    "_ = plot_show(model)"
   ]
  },
  {
   "cell_type": "markdown",
   "metadata": {},
   "source": [
    "# How about a real trained network? This one gets 94% train accuracy and 89% mean validation accuracy"
   ]
  },
  {
   "cell_type": "code",
   "execution_count": null,
   "metadata": {},
   "outputs": [],
   "source": [
    "model = load_model('checkpoints_069/ep-060-vl-0.3702.hdf5',\n",
    "                 custom_objects={'relu6': relu6,\n",
    "                                 'DepthwiseConv2D': DepthwiseConv2D})"
   ]
  },
  {
   "cell_type": "code",
   "execution_count": null,
   "metadata": {
    "scrolled": true
   },
   "outputs": [],
   "source": [
    "model.summary()"
   ]
  },
  {
   "cell_type": "code",
   "execution_count": null,
   "metadata": {},
   "outputs": [],
   "source": [
    "from keras.layers import Concatenate\n",
    "concat_layers = [l for l in model.layers if l.__class__ == Concatenate]\n",
    "print(concat_layers)"
   ]
  },
  {
   "cell_type": "code",
   "execution_count": null,
   "metadata": {},
   "outputs": [],
   "source": [
    "activation = model.layers[3].output\n",
    "# activation = concat_layers[0].output\n",
    "spec_model = Model(model.input, activation)"
   ]
  },
  {
   "cell_type": "code",
   "execution_count": null,
   "metadata": {
    "scrolled": false
   },
   "outputs": [],
   "source": [
    "def norm(x):\n",
    "    return (x - x.mean()) / x.std()\n",
    "\n",
    "fns = sorted(glob('data/train/audio/go/*.wav'))\n",
    "np.random.shuffle(fns)\n",
    "disp_count = 0\n",
    "for fn in fns:\n",
    "    if disp_count > 2:\n",
    "        break\n",
    "    rate, data = wf.read(fn)\n",
    "    data = np.float32(data) / 32768\n",
    "    data = pad_crop(data)\n",
    "    representation = spec_model.predict(data.reshape((1, -1))).squeeze()\n",
    "    spec = load_spectrogram(fn).squeeze()\n",
    "    spec, representation = norm(spec), norm(representation)\n",
    "    print(spec.shape)\n",
    "    plt.figure()\n",
    "    plt.title(fn)\n",
    "    plt.subplot(1, 2, 1)\n",
    "    plt.imshow(representation.T)\n",
    "    plt.subplot(1, 2, 2)\n",
    "    plt.imshow(spec.T)\n",
    "    plt.show()\n",
    "    print(representation.shape)\n",
    "    disp_count += 1\n",
    "print(activation.shape)"
   ]
  },
  {
   "cell_type": "markdown",
   "metadata": {},
   "source": [
    "# Looks like we succesfully decorrelated the channels. Though, it seems like this is not what we really want? There shoud be some relation between groups at least -> Use group convolutions? (g-Sub-seperable)"
   ]
  },
  {
   "cell_type": "code",
   "execution_count": null,
   "metadata": {},
   "outputs": [],
   "source": [
    "# same thing with g-Sub-seperable\n",
    "model = load_model('checkpoints_071/ep-015-vl-0.4296.hdf5',\n",
    "                 custom_objects={'relu6': relu6,\n",
    "                                 'DepthwiseConv2D': DepthwiseConv2D})"
   ]
  },
  {
   "cell_type": "code",
   "execution_count": null,
   "metadata": {},
   "outputs": [],
   "source": [
    "from keras.layers import Concatenate\n",
    "concat_layers = [l for l in model.layers if l.__class__ == Concatenate]\n",
    "print(concat_layers)"
   ]
  },
  {
   "cell_type": "code",
   "execution_count": null,
   "metadata": {},
   "outputs": [],
   "source": [
    "activation = model.layers[3].output\n",
    "# activation = concat_layers[0].output\n",
    "spec_model = Model(model.input, activation)"
   ]
  },
  {
   "cell_type": "code",
   "execution_count": null,
   "metadata": {
    "scrolled": false
   },
   "outputs": [],
   "source": [
    "def norm(x):\n",
    "    return (x - x.mean()) / x.std()\n",
    "\n",
    "fns = sorted(glob('data/train/audio/stop/*.wav'))\n",
    "np.random.shuffle(fns)\n",
    "disp_count = 0\n",
    "for fn in fns:\n",
    "    if disp_count > 2:\n",
    "        break\n",
    "    rate, data = wf.read(fn)\n",
    "    data = np.float32(data) / 32768\n",
    "    data = pad_crop(data)\n",
    "    representation = spec_model.predict(data.reshape((1, -1))).squeeze()\n",
    "    spec = load_spectrogram(fn).squeeze()\n",
    "    spec, representation = norm(spec), norm(representation)\n",
    "    print(spec.shape)\n",
    "    plt.figure()\n",
    "    plt.title(fn)\n",
    "    plt.subplot(1, 2, 1)\n",
    "    plt.imshow(np.flipud(representation.T))\n",
    "    plt.subplot(1, 2, 2)\n",
    "    plt.imshow(spec.T)\n",
    "    plt.show()\n",
    "    print(representation.shape)\n",
    "    disp_count += 1\n",
    "# print(activation.shape)"
   ]
  },
  {
   "cell_type": "markdown",
   "metadata": {},
   "source": [
    "# What representation is actually learned?"
   ]
  },
  {
   "cell_type": "code",
   "execution_count": null,
   "metadata": {},
   "outputs": [],
   "source": [
    "# 'checkpoints_069/ep-073-vl-0.3997.hdf5'\n",
    "model = my_load_model('checkpoints_069/ep-073-vl-0.3997.hdf5')\n",
    "print(model.summary())"
   ]
  },
  {
   "cell_type": "code",
   "execution_count": null,
   "metadata": {},
   "outputs": [],
   "source": [
    "layer_idx = 3  # 4\n",
    "first_layer_weights = model.layers[layer_idx].get_weights()[0].squeeze()\n",
    "first_layer_biases = model.layers[layer_idx].get_weights()[1]\n",
    "# first_layer_weights = model.layers[layer_idx].get_weights()[0].squeeze()\n",
    "# first_layer_weights = first_layer_weights.T"
   ]
  },
  {
   "cell_type": "code",
   "execution_count": null,
   "metadata": {},
   "outputs": [],
   "source": [
    "print(first_layer_weights.shape)"
   ]
  },
  {
   "cell_type": "code",
   "execution_count": null,
   "metadata": {},
   "outputs": [],
   "source": [
    "for w in first_layer_weights:\n",
    "    plt.figure()\n",
    "    plt.plot(range(len(w)), w)\n",
    "    plt.show()"
   ]
  },
  {
   "cell_type": "code",
   "execution_count": null,
   "metadata": {},
   "outputs": [],
   "source": [
    "plt.figure()\n",
    "plt.imshow(first_layer_weights.T, cmap='gray')\n",
    "plt.show()"
   ]
  },
  {
   "cell_type": "code",
   "execution_count": null,
   "metadata": {},
   "outputs": [],
   "source": [
    "corr = np.dot(first_layer_weights.T, first_layer_weights)\n",
    "plt.imshow(corr, cmap='gray')"
   ]
  },
  {
   "cell_type": "markdown",
   "metadata": {},
   "source": [
    "# Same for the reshape architecture"
   ]
  },
  {
   "cell_type": "code",
   "execution_count": null,
   "metadata": {},
   "outputs": [],
   "source": [
    "model = my_load_model('checkpoints_084/ep-087-vl-0.2358.hdf5')\n",
    "print(model.summary())"
   ]
  },
  {
   "cell_type": "code",
   "execution_count": null,
   "metadata": {},
   "outputs": [],
   "source": [
    "layer_idx = 4\n",
    "first_layer_weights = model.layers[layer_idx].get_weights()[0].squeeze()\n",
    "print(first_layer_weights.shape)\n",
    "plt.figure()\n",
    "plt.imshow(first_layer_weights.T, cmap='gray')\n",
    "plt.colorbar()\n",
    "plt.show()"
   ]
  },
  {
   "cell_type": "code",
   "execution_count": null,
   "metadata": {},
   "outputs": [],
   "source": [
    "example_label = 'right'\n",
    "test_fns = sorted(glob('data/train/audio/%s/*.wav' % example_label))\n",
    "int2label = get_int2label(wanted_only=False)\n",
    "num_correct = 0\n",
    "num_total = len(test_fns)\n",
    "vis = True\n",
    "pbar = tqdm(test_fns) if not vis else test_fns\n",
    "for fn in pbar:\n",
    "    rate, data = wf.read(fn)\n",
    "    data = pad_crop(data)\n",
    "    data = np.float32(data) / 32767\n",
    "    prediction = model.predict(data.reshape(1, -1)).squeeze()\n",
    "    label = int2label[prediction.argmax()]\n",
    "    if label != example_label and vis:\n",
    "        print(\"Pred: \", label)\n",
    "        display(Audio(fn, autoplay=True))\n",
    "        sleep(1)\n",
    "    \n",
    "    if label == example_label:\n",
    "        num_correct += 1\n",
    "print(\"Acc: %.3f\" % (float(num_correct) / num_total))"
   ]
  },
  {
   "cell_type": "code",
   "execution_count": null,
   "metadata": {},
   "outputs": [],
   "source": [
    "activation_model = Model(model.input, model.layers[40].output)\n",
    "print(activation_model.output_shape)"
   ]
  },
  {
   "cell_type": "code",
   "execution_count": null,
   "metadata": {
    "scrolled": false
   },
   "outputs": [],
   "source": [
    "import cv2\n",
    "test_fns = sorted(glob('data/train/audio/stop/*.wav'))\n",
    "int2label = get_int2label(wanted_only=False)\n",
    "for i in range(2):\n",
    "    for fn in [test_fns[np.random.randint(len(test_fns))]]:\n",
    "        print(fn)\n",
    "        rate, data = wf.read(fn)\n",
    "        data = pad_crop(data)\n",
    "        data = np.float32(data) / 32767\n",
    "        act_val = activation_model.predict(data.reshape(1, -1)).squeeze()\n",
    "        print(act_val.min(), act_val.max())\n",
    "        display(Audio(fn, autoplay=True))\n",
    "        plt.figure()\n",
    "        plt.subplot(4, 1, 1)\n",
    "        plt.imshow(cv2.resize(act_val.T, (16000, act_val.shape[0] * 20), interpolation=cv2.INTER_NEAREST))\n",
    "        plt.subplot(4, 1, 2)\n",
    "        plt.plot(data)\n",
    "        plt.subplot(4, 1, 3)\n",
    "        corr_mat = np.dot(act_val, act_val.T)\n",
    "        print(corr_mat.shape)\n",
    "        plt.imshow(cv2.resize(corr_mat, (16000, corr_mat.shape[0] * 20), interpolation=cv2.INTER_NEAREST))\n",
    "        plt.colorbar()\n",
    "        plt.subplot(4, 1, 4)\n",
    "        plt.plot(data[::40])\n",
    "        plt.show()"
   ]
  },
  {
   "cell_type": "code",
   "execution_count": null,
   "metadata": {},
   "outputs": [],
   "source": [
    "a = np.arange(16000)\n",
    "print(a.reshape((400, 40)))"
   ]
  },
  {
   "cell_type": "markdown",
   "metadata": {},
   "source": [
    "# There are a few wrong labels in the training data. Can we find them using ML?"
   ]
  },
  {
   "cell_type": "code",
   "execution_count": null,
   "metadata": {},
   "outputs": [],
   "source": [
    "# load best single model\n",
    "model = my_load_model('checkpoints_086/ep-110-vl-0.1935.hdf5')"
   ]
  },
  {
   "cell_type": "code",
   "execution_count": null,
   "metadata": {},
   "outputs": [],
   "source": [
    "train_fns = sorted(glob('data/train/audio/*/*.wav'))\n",
    "train_fns = [fn for fn in train_fns\n",
    "             if fn.split('/')[-2] != '_background_noise_' and\n",
    "             fn.split('/')[-2] != 'unknown_unknown']\n",
    "print(\"Found: %d fns\" % len(train_fns))"
   ]
  },
  {
   "cell_type": "code",
   "execution_count": null,
   "metadata": {},
   "outputs": [],
   "source": [
    "int2label = get_int2label(wanted_only=False)\n",
    "fns, preds, gts = [], [], []\n",
    "for fn in tqdm(train_fns[:]):\n",
    "    rate, data = wf.read(fn)\n",
    "    if len(data) != 16000:\n",
    "        data = pad_crop(data)\n",
    "    data = np.float32(data) / 32768\n",
    "    pred = model.predict(data.reshape((1, -1))).squeeze()\n",
    "    gt_label = fn.split('/')[-2]\n",
    "    pred_label = int2label[pred.argmax()]\n",
    "    if pred_label != gt_label:\n",
    "        fns.append(fn)\n",
    "        preds.append(pred_label)\n",
    "        gts.append(gt_label)\n",
    "\n",
    "pd.DataFrame({'filename': fns,\n",
    "              'predicted_label': preds,\n",
    "              'gt_label': gts}).to_csv('wrong_train_labels.csv', index=False)"
   ]
  },
  {
   "cell_type": "code",
   "execution_count": null,
   "metadata": {},
   "outputs": [],
   "source": [
    "!wc -l wrong_train_labels.csv"
   ]
  },
  {
   "cell_type": "code",
   "execution_count": null,
   "metadata": {},
   "outputs": [],
   "source": [
    "wrong_labels = pd.read_csv('wrong_train_labels.csv')\n",
    "print(wrong_labels.shape)"
   ]
  },
  {
   "cell_type": "code",
   "execution_count": null,
   "metadata": {},
   "outputs": [],
   "source": [
    "for i in range(wrong_labels.shape[0]):\n",
    "    fn = wrong_labels.loc[i, 'filename']\n",
    "    gt = wrong_labels.loc[i, 'gt_label']\n",
    "    pred = wrong_labels.loc[i, 'predicted_label']\n",
    "    if gt == 'stop':\n",
    "        print(\"%s: GT: %s, PRED: %s\" % (fn, gt, pred))\n",
    "        display(Audio(fn, autoplay=True))\n",
    "        sleep(1)"
   ]
  },
  {
   "cell_type": "markdown",
   "metadata": {},
   "source": [
    "# Can we speed down the command? This is how I'd repeat something if a person doesn't unterstand me :P (probably louder as well)."
   ]
  },
  {
   "cell_type": "code",
   "execution_count": null,
   "metadata": {},
   "outputs": [],
   "source": [
    "train_fns = sorted(glob('data/train/audio/*/*.wav'))\n",
    "print(len(train_fns))"
   ]
  },
  {
   "cell_type": "code",
   "execution_count": null,
   "metadata": {},
   "outputs": [],
   "source": [
    "np.random.seed(13)\n",
    "fn = np.random.choice(train_fns)\n",
    "print(fn)\n",
    "rate, data = wf.read(fn)\n",
    "if len(data) != 16000:\n",
    "    data = pad_crop(data)\n",
    "data = np.float32(data) / 32767\n",
    "float_audio(data, autoplay=True)\n",
    "print(data.shape)\n",
    "plt.figure()\n",
    "plt.plot(data)\n",
    "plt.show()"
   ]
  },
  {
   "cell_type": "code",
   "execution_count": null,
   "metadata": {},
   "outputs": [],
   "source": [
    "# cv2? lol: https://www.kaggle.com/haqishen/augmentation-methods-for-audio\n",
    "# The pitch chanes (sounds bad!)\n",
    "speed_rate = 0.8\n",
    "w = int(len(data) / speed_rate)\n",
    "print(w)\n",
    "data_fast = data.reshape((1, -1))\n",
    "data_fast = cv2.resize(\n",
    "    data_fast, (w, 1)).squeeze()\n",
    "data_fast = data_fast[4000: 20000]\n",
    "float_audio(data_fast, autoplay=True)\n",
    "plt.figure()\n",
    "plt.plot(data_fast)\n",
    "plt.show()"
   ]
  },
  {
   "cell_type": "markdown",
   "metadata": {},
   "source": [
    "## Try the same with librosa\n",
    "### That sounds good!"
   ]
  },
  {
   "cell_type": "code",
   "execution_count": null,
   "metadata": {},
   "outputs": [],
   "source": [
    "def center_crop(data, desired_size=16000):\n",
    "    left = (len(data) - desired_size) // 2\n",
    "    return data[left: left + desired_size]"
   ]
  },
  {
   "cell_type": "code",
   "execution_count": null,
   "metadata": {
    "scrolled": true
   },
   "outputs": [],
   "source": [
    "speed = 1.3  # float: < 1.0: slow down, > 1.0: speed up\n",
    "data_fast = lr.effects.time_stretch(data, speed)\n",
    "print(data_fast.shape)\n",
    "# data_fast = data_fast[4000: 20000]\n",
    "float_audio(data_fast, autoplay=True)\n",
    "plt.figure()\n",
    "plt.plot(data_fast)\n",
    "plt.show()"
   ]
  },
  {
   "cell_type": "code",
   "execution_count": null,
   "metadata": {},
   "outputs": [],
   "source": []
  }
 ],
 "metadata": {
  "kernelspec": {
   "display_name": "Python 3",
   "language": "python",
   "name": "python3"
  },
  "language_info": {
   "codemirror_mode": {
    "name": "ipython",
    "version": 3
   },
   "file_extension": ".py",
   "mimetype": "text/x-python",
   "name": "python",
   "nbconvert_exporter": "python",
   "pygments_lexer": "ipython3",
   "version": "3.5.2"
  }
 },
 "nbformat": 4,
 "nbformat_minor": 2
}
