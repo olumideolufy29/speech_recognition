{
 "cells": [
  {
   "cell_type": "code",
   "execution_count": 1,
   "metadata": {},
   "outputs": [
    {
     "name": "stderr",
     "output_type": "stream",
     "text": [
      "Using TensorFlow backend.\n"
     ]
    }
   ],
   "source": [
    "%matplotlib inline\n",
    "# %matplotlib notebook\n",
    "from IPython.display import Audio, display\n",
    "import pandas as pd\n",
    "from matplotlib import pyplot as plt\n",
    "import librosa as lr\n",
    "import numpy as np\n",
    "import os\n",
    "from shutil import copy, rmtree\n",
    "from os.path import join as jp\n",
    "from tqdm import tqdm\n",
    "import pickle\n",
    "from scipy.io import wavfile as wf\n",
    "from time import time, sleep\n",
    "from input_data import prepare_words_list\n",
    "from glob import glob\n",
    "import hashlib\n",
    "from classes import get_classes, get_int2label, get_label2int\n",
    "from keras.layers import Input, Lambda\n",
    "from model import prepare_model_settings, relu6, overlapping_time_slice_stack\n",
    "from keras.applications.mobilenet import DepthwiseConv2D\n",
    "from keras.models import Model\n",
    "from keras import backend as K\n",
    "from keras.activations import softmax\n",
    "import tensorflow as tf\n",
    "from tensorflow.contrib.framework.python.ops import audio_ops as contrib_audio\n",
    "from tensorflow.python.ops import io_ops\n",
    "from keras.layers import Input, Conv1D, Reshape\n",
    "from keras.models import Model, load_model\n",
    "\n",
    "def my_load_model(fn):\n",
    "    return load_model(fn, {'relu6': relu6, 'DepthwiseConv2D': DepthwiseConv2D,\n",
    "                           'overlapping_time_slice_stack': overlapping_time_slice_stack,\n",
    "                           'softmax': softmax})\n",
    "\n",
    "def pad_crop(data, desired_size=16000):\n",
    "    data_len = len(data)\n",
    "    if data_len < desired_size:\n",
    "        missing = desired_size - data_len\n",
    "        data = np.pad(data, (missing, 0), mode='constant')\n",
    "    else:\n",
    "        data = data[:desired_size]\n",
    "    return data\n",
    "\n",
    "def float_audio(x, sample_rate=16000, autoplay=False):\n",
    "    # avoid Audio normalizing the data\n",
    "    data = np.int16(x * 32768)\n",
    "    fn = '/tmp/%s.wav' % data[:5]\n",
    "    wf.write(fn, sample_rate, data)\n",
    "    display(Audio(filename=fn, rate=sample_rate, autoplay=autoplay))\n",
    "\n",
    "def plot_audio(data, sample_rate=16000, normed=False):\n",
    "    if not normed:\n",
    "        data = np.float32(data) / 32768\n",
    "    plt.figure()\n",
    "    plt.plot(np.arange(sample_rate), data)\n",
    "    plt.axis([0, sample_rate, -1, 1])\n",
    "    \n",
    "def center_pad(data, desired_size=16000):\n",
    "    missing = desired_size - len(data)\n",
    "    pad_left = missing // 2\n",
    "    pad_right = missing - pad_left\n",
    "    padded_data = np.pad(data, (pad_left, pad_right), mode='constant')\n",
    "    return padded_data\n",
    "\n",
    "def random_crop(data, desired_size=16000):\n",
    "    start = np.random.randint(len(data) - desired_size)\n",
    "    return data[start: start + desired_size]\n",
    "\n",
    "def normalized_read(fn, desired_size=16000):\n",
    "    rate, data = wf.read(fn)\n",
    "    data = np.float32(data) / 32768\n",
    "    assert rate == 16000\n",
    "    if len(data) < desired_size:\n",
    "        data = center_pad(data, desired_size=desired_size)\n",
    "    elif len(data) > desired_size:\n",
    "        data = random_crop(data, desired_size=desired_size)\n",
    "    return data\n",
    "\n",
    "def md5(fname):\n",
    "    hash_md5 = hashlib.md5()\n",
    "    with open(fname, \"rb\") as f:\n",
    "        for chunk in iter(lambda: f.read(4096), b\"\"):\n",
    "            hash_md5.update(chunk)\n",
    "    return hash_md5.hexdigest()"
   ]
  },
  {
   "cell_type": "raw",
   "metadata": {},
   "source": [
    "sub1 = pd.read_csv('submission_033b.csv')  # 87% PLB\n",
    "sub2 = pd.read_csv('submission_017.csv')  # 87% PLB\n",
    "sub3 = pd.read_csv('submission_018.csv')  # 86% PLB"
   ]
  },
  {
   "cell_type": "code",
   "execution_count": null,
   "metadata": {},
   "outputs": [],
   "source": [
    "# check where all three disagree\n",
    "unequal = ((sub1.label != sub2.label) & (sub1.label != sub3.label))\n",
    "print(\"%d of %d are unequal\" % (unequal.sum(), sub1.shape[0]))"
   ]
  },
  {
   "cell_type": "markdown",
   "metadata": {},
   "source": [
    "## Display where classifiers disagree\n",
    "These samples are acutally quite hard!"
   ]
  },
  {
   "cell_type": "code",
   "execution_count": null,
   "metadata": {},
   "outputs": [],
   "source": [
    "TEST_DIR = 'data/test/audio'\n",
    "disp_count = 0\n",
    "for i in range(len(unequal)):\n",
    "    if disp_count > 5:\n",
    "        break\n",
    "    if unequal[i] and np.random.rand() > 0.99:\n",
    "        fn = os.path.join(TEST_DIR, sub1.loc[i, 'fname'])\n",
    "        print(fn, ': ', sub1.loc[i, 'label'], \" vs \", sub2.loc[i, 'label'])\n",
    "        display(Audio(fn, autoplay=True))\n",
    "        sleep(1)\n",
    "        disp_count += 1"
   ]
  },
  {
   "cell_type": "code",
   "execution_count": null,
   "metadata": {},
   "outputs": [],
   "source": [
    "# save these \"hard\" ones\n",
    "for i in tqdm(range(len(unequal))):\n",
    "    if unequal[i]:\n",
    "        bn = sub1.loc[i, 'fname']\n",
    "        src_fn = os.path.join('data/test/audio', bn)\n",
    "        dst_fn = os.path.join('data/pseudo/audio/unknown', bn)\n",
    "        copy(src_fn, dst_fn)\n",
    "# when using as pseudo labels remove 'silence'! (e.g. ls *.wav | grep -v silence)"
   ]
  },
  {
   "cell_type": "markdown",
   "metadata": {},
   "source": [
    "## Show (predicted) test data distribution\n",
    "### Note that during training silence prob was 10%"
   ]
  },
  {
   "cell_type": "code",
   "execution_count": null,
   "metadata": {},
   "outputs": [],
   "source": [
    "def show_bar(submission):\n",
    "    counts = []\n",
    "    for label_name in submission.label.unique():\n",
    "        label_count = (submission.label == label_name).sum()\n",
    "        percent = (label_count / num_total) * 100.0\n",
    "        counts.append((label_name, percent))\n",
    "    print(counts)\n",
    "    plt.bar(range(len(counts)), [c[-1] for c in counts])\n",
    "    _ = plt.xticks(range(len(counts)), [c[0] for c in counts])\n",
    "    plt.grid('on')\n",
    "    plt.xlabel('Label names')\n",
    "    plt.ylabel('Precentage [%]')"
   ]
  },
  {
   "cell_type": "code",
   "execution_count": null,
   "metadata": {},
   "outputs": [],
   "source": [
    "show_bar(sub1)"
   ]
  },
  {
   "cell_type": "markdown",
   "metadata": {},
   "source": [
    "# Compress and decompress using mu-law"
   ]
  },
  {
   "cell_type": "code",
   "execution_count": null,
   "metadata": {},
   "outputs": [],
   "source": [
    "def load_wav(fn):\n",
    "    rate, data = wf.read(fn)\n",
    "    assert rate == 16000\n",
    "    data = data / 32768\n",
    "    missing = 16000 - len(data)\n",
    "    data = np.pad(data, (missing, 0), mode='constant')\n",
    "    return data\n",
    "\n",
    "\n",
    "def compress(x, mu=255):\n",
    "    assert x.min() >= -1 and x.max() <= 1\n",
    "    compressed = np.sign(x) * np.log10(1.0 + mu * np.abs(x)) / np.log10(1.0 + mu)\n",
    "    return compressed\n",
    "\n",
    "def decompress(x, mu=255):\n",
    "    assert x.min() >= -1 and x.max() <= 1\n",
    "    decompressed= np.sign(x) * (1.0 / mu) * (np.power(1.0 + x, np.abs(x)) - 1.0)\n",
    "    return decompressed"
   ]
  },
  {
   "cell_type": "code",
   "execution_count": null,
   "metadata": {},
   "outputs": [],
   "source": [
    "up_sample = load_wav('data/test/audio/clip_001204892.wav')\n",
    "float_audio(up_sample)\n",
    "c = compress(up_sample)\n",
    "d = decompress(c)\n",
    "float_audio(d)"
   ]
  },
  {
   "cell_type": "code",
   "execution_count": null,
   "metadata": {},
   "outputs": [],
   "source": [
    "display(Audio(data=np.int16(up_sample  * 32768), rate=16000))"
   ]
  },
  {
   "cell_type": "markdown",
   "metadata": {},
   "source": [
    "### Use average pooling to reduce signal size"
   ]
  },
  {
   "cell_type": "code",
   "execution_count": null,
   "metadata": {},
   "outputs": [],
   "source": [
    "from keras.models import Model\n",
    "from keras.layers import AveragePooling1D, Input, Reshape\n",
    "def avg_model(sample_rate=16000):\n",
    "    input_layer = Input([sample_rate])\n",
    "    x = input_layer\n",
    "    x = Reshape([-1, 1])(x)\n",
    "    x = AveragePooling1D(2)(x)\n",
    "    return Model(input_layer, x)\n",
    "\n",
    "model = avg_model()\n",
    "out = model.predict([up_sample.reshape((1, -1))]).squeeze()\n"
   ]
  },
  {
   "cell_type": "code",
   "execution_count": null,
   "metadata": {},
   "outputs": [],
   "source": [
    "plt.figure()\n",
    "plt.title('Orginal')\n",
    "plt.plot(up_sample)\n",
    "plt.figure()\n",
    "plt.title('Subsamples')\n",
    "plt.plot(out)"
   ]
  },
  {
   "cell_type": "code",
   "execution_count": null,
   "metadata": {},
   "outputs": [],
   "source": [
    "float_audio(out, sample_rate=len(out))"
   ]
  },
  {
   "cell_type": "markdown",
   "metadata": {},
   "source": [
    "# How is the padding handeled by decode_wav?"
   ]
  },
  {
   "cell_type": "code",
   "execution_count": null,
   "metadata": {},
   "outputs": [],
   "source": [
    "from tensorflow.contrib.framework.python.ops import audio_ops as contrib_audio\n",
    "from tensorflow.python.ops import io_ops\n",
    "\n",
    "wav_filename_placeholder = tf.placeholder(tf.string, [])\n",
    "wav_loader = io_ops.read_file(wav_filename_placeholder)\n",
    "wav_decoder = contrib_audio.decode_wav(\n",
    "    wav_loader, desired_channels=1)\n",
    "fns = sorted(glob('data/train/audio/go/*.wav'))\n",
    "short_fn = ''\n",
    "with tf.Session() as sess:\n",
    "    for fn in fns:\n",
    "        out = sess.run(wav_decoder.audio,\n",
    "                       {wav_filename_placeholder: fn_val})\n",
    "        if out.shape[0] != 16000:\n",
    "            short_fn = fn\n",
    "            print(fn)\n",
    "            break\n",
    "print(out.shape)"
   ]
  },
  {
   "cell_type": "code",
   "execution_count": null,
   "metadata": {},
   "outputs": [],
   "source": [
    "display(Audio(short_fn, autoplay=True))\n",
    "sleep(1)\n",
    "float_audio(out, autoplay=True)"
   ]
  },
  {
   "cell_type": "markdown",
   "metadata": {},
   "source": [
    "# Check how many samples are shorter than 1s"
   ]
  },
  {
   "cell_type": "code",
   "execution_count": null,
   "metadata": {},
   "outputs": [],
   "source": [
    "from glob import glob\n",
    "from tqdm import tqdm\n",
    "train_fns = sorted(glob('data/train/audio/*/*.wav'))"
   ]
  },
  {
   "cell_type": "code",
   "execution_count": null,
   "metadata": {},
   "outputs": [],
   "source": [
    "def load_wav(fn):\n",
    "    rate, data = wf.read(fn)\n",
    "    assert rate == 16000\n",
    "    return data"
   ]
  },
  {
   "cell_type": "markdown",
   "metadata": {},
   "source": [
    "short_count = 0\n",
    "for fn in tqdm(train_fns):\n",
    "    data = load_wav(fn)\n",
    "    if len(data) != 16000:\n",
    "        short_count += 1\n",
    "print(\"Short: \", short_count)\n",
    "print(\"All: \", len(train_fns))"
   ]
  },
  {
   "cell_type": "markdown",
   "metadata": {},
   "source": [
    "# Visualize augmented training data"
   ]
  },
  {
   "cell_type": "code",
   "execution_count": null,
   "metadata": {},
   "outputs": [],
   "source": [
    "from __future__ import division, print_function\n",
    "from keras import backend as K\n",
    "from keras.callbacks import ModelCheckpoint, LearningRateScheduler\n",
    "from keras.callbacks import TensorBoard\n",
    "from callbacks import ConfusionMatrixCallback\n",
    "from model import speech_model, prepare_model_settings\n",
    "from input_data import AudioProcessor, prepare_words_list\n",
    "from classes import get_classes\n",
    "from IPython import embed  # noqa"
   ]
  },
  {
   "cell_type": "raw",
   "metadata": {},
   "source": [
    "def data_gen(audio_processor, sess,\n",
    "             batch_size=128,\n",
    "             background_frequency=0.5, background_volume_range=0.2,\n",
    "             foreground_frequency=0.5, foreground_volume_range=0.2,\n",
    "             time_shift=(100.0 * 16000.0) / 1000,\n",
    "             mode='validation'):\n",
    "    offset = 0\n",
    "    if mode != 'training':\n",
    "        background_frequency = 0.0\n",
    "        background_volume_range = 0.0\n",
    "        foreground_frequency = 0.0\n",
    "        foreground_volume_range = 0.0\n",
    "        time_shift = 0\n",
    "    while True:\n",
    "        X, y = audio_processor.get_data(\n",
    "            how_many=batch_size, offset=0 if mode == 'training' else offset,\n",
    "            background_frequency=background_frequency,\n",
    "            background_volume_range=background_volume_range,\n",
    "            foreground_frequency=foreground_frequency,\n",
    "            foreground_volume_range=foreground_volume_range,\n",
    "            time_shift=time_shift, mode=mode, sess=sess)\n",
    "        offset += batch_size\n",
    "        if offset > ap.set_size(mode) - batch_size:\n",
    "              offset = 0\n",
    "        yield X, y"
   ]
  },
  {
   "cell_type": "code",
   "execution_count": null,
   "metadata": {},
   "outputs": [],
   "source": [
    "sess = K.get_session()\n",
    "data_dirs = ['data/train/audio']\n",
    "add_pseudo = True\n",
    "if add_pseudo:\n",
    "    data_dirs.append('data/pseudo/audio')\n",
    "compute_mfcc = False\n",
    "sample_rate = 16000\n",
    "batch_size = 100\n",
    "classes = get_classes(wanted_only=False)\n",
    "model_settings = prepare_model_settings(\n",
    "  label_count=len(prepare_words_list(classes)), sample_rate=sample_rate,\n",
    "  clip_duration_ms=1000, window_size_ms=30.0, window_stride_ms=10.0,\n",
    "  dct_coefficient_count=40)\n",
    "ap = AudioProcessor(\n",
    "  data_dirs=data_dirs,\n",
    "  silence_percentage=10.0,\n",
    "  unknown_percentage=7.0,\n",
    "  wanted_words=classes,\n",
    "  validation_percentage=10.0,\n",
    "  testing_percentage=0.0,\n",
    "  model_settings=model_settings,\n",
    "  compute_mfcc=compute_mfcc)\n",
    "train_gen = data_gen(ap, sess, batch_size=batch_size, mode='training')\n",
    "val_gen = data_gen(ap, sess, batch_size=batch_size, mode='validation')"
   ]
  },
  {
   "cell_type": "code",
   "execution_count": null,
   "metadata": {},
   "outputs": [],
   "source": [
    "ap.summary()"
   ]
  },
  {
   "cell_type": "code",
   "execution_count": null,
   "metadata": {},
   "outputs": [],
   "source": [
    "disp_count = 0\n",
    "while True:\n",
    "    if disp_count > 5:\n",
    "        break\n",
    "    X, y = next(train_gen)\n",
    "    for i in range(X.shape[0]):\n",
    "        if y[i].argmax() == 10:\n",
    "            sample = X[i, :].squeeze()\n",
    "            float_audio(sample, autoplay=True)\n",
    "            sleep(1)\n",
    "            disp_count += 1\n",
    "            # plt.figure()\n",
    "            # plt.axis([0, 16000, -1, 1])\n",
    "            # plt.plot(sample)"
   ]
  },
  {
   "cell_type": "markdown",
   "metadata": {},
   "source": [
    "# Create pseudo labels from consistent predictions\n",
    "### [v_001]: Sub1: 84% PLB, Sub2: 84% PLB, Sub3: 82%: 118078 consistend pseudo labels\n",
    "### [v_002]: Sub1: 87%, Sub2: 87%, Sub3: 88%: 140945 pseudo consistend pseudo labels\n",
    "#### v_002: There are only 158538 test data points! Maybe that's the reason I am stuck -> reduce pseudo label fraction"
   ]
  },
  {
   "cell_type": "code",
   "execution_count": null,
   "metadata": {},
   "outputs": [],
   "source": [
    "sub1 = pd.read_csv('submission_098_leftloud_tta_all_labels.csv')  # 87% PLB\n",
    "sub2 = pd.read_csv('submission_096_leftloud_tta_all_labels.csv')  # 87% PLB\n",
    "sub3 = pd.read_csv('submission_091_leftloud_tta_all_labels.csv')  # 88% PLB"
   ]
  },
  {
   "cell_type": "code",
   "execution_count": null,
   "metadata": {},
   "outputs": [],
   "source": [
    "consistend = ((sub1.label == sub2.label) & (sub1.label == sub3.label))\n",
    "print(\"All: \", sub1.shape[0], \" consistend: \", consistend.sum())"
   ]
  },
  {
   "cell_type": "code",
   "execution_count": null,
   "metadata": {},
   "outputs": [],
   "source": [
    "for i in tqdm(range(sub1.shape[0])):\n",
    "    fn = sub1.loc[i, 'fname']\n",
    "    if fn != sub2.loc[i, 'fname'] or fn != sub3.loc[i, 'fname']:\n",
    "        print(\"Fatal error\")\n",
    "        break\n",
    "    if consistend[i]:\n",
    "        label = sub1.loc[i, 'label']\n",
    "        dst_fn = jp('data', 'pseudo', 'audio', label, fn)\n",
    "        src_fn = jp('data', 'test', 'audio', fn)\n",
    "        copy(src_fn, dst_fn, follow_symlinks=False)"
   ]
  },
  {
   "cell_type": "markdown",
   "metadata": {},
   "source": [
    "# Create new background noise from pseudo silence\n",
    "## Just concat 60 seconds of audio"
   ]
  },
  {
   "cell_type": "code",
   "execution_count": null,
   "metadata": {},
   "outputs": [],
   "source": [
    "pseudo_silence_fns = sorted(glob('data/pseudo/silence/*.wav'))\n",
    "num_pseudo_noise = 5\n",
    "num_secs = 60\n",
    "for i in range(num_pseudo_noise):\n",
    "    background_fns = np.random.choice(\n",
    "        pseudo_silence_fns, num_secs, replace=False)\n",
    "    new_clip = []\n",
    "    for fn in background_fns:\n",
    "        rate, data = wf.read(fn)\n",
    "        new_clip.append(data)\n",
    "    new_clip = np.concatenate(new_clip).astype(np.int16)\n",
    "    out_fn = 'data/train/audio/_background_noise_/custom_pseudo_silence_%04d.wav' % i\n",
    "    # print(out_fn)\n",
    "    wf.write(out_fn, 16000, new_clip)"
   ]
  },
  {
   "cell_type": "code",
   "execution_count": null,
   "metadata": {},
   "outputs": [],
   "source": [
    "?wf.write"
   ]
  },
  {
   "cell_type": "markdown",
   "metadata": {},
   "source": [
    "# Listen to submission"
   ]
  },
  {
   "cell_type": "code",
   "execution_count": null,
   "metadata": {},
   "outputs": [],
   "source": [
    "words = get_classes(wanted_only=False, extend_reversed=True)\n",
    "[w for w in words if 'b' in w]"
   ]
  },
  {
   "cell_type": "code",
   "execution_count": null,
   "metadata": {
    "scrolled": true
   },
   "outputs": [],
   "source": [
    "sub = pd.read_csv('sub')\n",
    "offset = 1000\n",
    "label2int = get_label2int(wanted_only=True)\n",
    "disp_count = 0\n",
    "for i in list(reversed(range(sub.shape[0])))[offset:]:\n",
    "    if disp_count >= 10:\n",
    "        break\n",
    "    fn = jp('data', 'test', 'audio', sub.loc[i, 'fname'])\n",
    "    label = sub.loc[i, 'label']\n",
    "    if label == 'off' and np.random.rand() > 0.8:\n",
    "        print(fn, label)\n",
    "        display(Audio(fn, autoplay=True))\n",
    "        sleep(1)\n",
    "        disp_count += 1"
   ]
  },
  {
   "cell_type": "code",
   "execution_count": null,
   "metadata": {
    "scrolled": false
   },
   "outputs": [],
   "source": [
    "np.random.seed(5)\n",
    "sub = pd.read_csv('submission_034_all_labels.csv')\n",
    "label2int = get_label2int(wanted_only=True)\n",
    "disp_count = 0\n",
    "for i in reversed(range(sub.shape[0])):\n",
    "    if disp_count >= 2:\n",
    "        break\n",
    "    label = sub.loc[i, 'label']\n",
    "    if label == 'silence' and np.random.rand() > 0.999:\n",
    "        fn = jp('data', 'test', 'audio', sub.loc[i, 'fname'])\n",
    "        rate, data = wf.read(fn)\n",
    "        data = np.float32(data) / 32767\n",
    "        # data = np.sqrt(data) + 0.5\n",
    "        data = 10 ** (data) - 1.0\n",
    "        plot_audio(data, normed=True)\n",
    "        print(fn, label)\n",
    "        float_audio(data, autoplay=True)\n",
    "        sleep(1)\n",
    "        disp_count += 1"
   ]
  },
  {
   "cell_type": "code",
   "execution_count": null,
   "metadata": {},
   "outputs": [],
   "source": [
    "# compare two submissions\n",
    "# sub1 = pd.read_csv('submission_091_all_labels.csv')\n",
    "# sub2 = pd.read_csv('submission_091_4x_tta_all_labels.csv')\n",
    "\n",
    "sub1 = pd.read_csv('submission_091_all_labels.csv')\n",
    "sub2 = pd.read_csv('submission_091_leftloud_tta_all_labels.csv')\n",
    "num_different = 0\n",
    "\n",
    "for i in tqdm(reversed(range(sub1.shape[0]))):\n",
    "    fn = sub1.loc[i, 'fname']\n",
    "    assert fn == sub2.loc[i, 'fname']\n",
    "    label1 = sub1.loc[i, 'label']\n",
    "    label2 = sub2.loc[i, 'label']\n",
    "    if label1 != label2:\n",
    "        num_different += 1\n",
    "        print(\"%s vs. %s\" % (label1, label2))\n",
    "        in_fn = jp('data/test/audio', fn)\n",
    "        display(Audio(in_fn, autoplay=True))\n",
    "        sleep(1)\n",
    "print(\"%d of %d are different\" % (num_different, sub1.shape[0]))"
   ]
  },
  {
   "cell_type": "markdown",
   "metadata": {},
   "source": [
    "# Listen to submission with probs"
   ]
  },
  {
   "cell_type": "code",
   "execution_count": null,
   "metadata": {},
   "outputs": [],
   "source": [
    "print(\"Wanted: \", get_classes(wanted_only=True))\n",
    "print(\"All: \", get_classes(wanted_only=False))"
   ]
  },
  {
   "cell_type": "code",
   "execution_count": null,
   "metadata": {
    "scrolled": false
   },
   "outputs": [],
   "source": [
    "sub = pd.read_csv('submission_100_leftloud_tta_all_labels_probs.csv')\n",
    "label2int = get_label2int(wanted_only=False)\n",
    "int2label = get_int2label(wanted_only=False)\n",
    "disp_count = 0\n",
    "for i in reversed(range(sub.shape[0])):\n",
    "    if disp_count >= 5:\n",
    "        break\n",
    "    fn = jp('data', 'test', 'audio', sub.loc[i, 'fname'])\n",
    "    label = sub.loc[i, 'label']\n",
    "    if label == 'no' and np.random.rand() > 0.99:\n",
    "        probs = sub.loc[i, label2int.keys()]\n",
    "        max_prob = probs.max()\n",
    "        if max_prob < 0.5:\n",
    "            plt.figure()\n",
    "            plt.title(str(disp_count))\n",
    "            plt.bar(range(len(probs)), probs)\n",
    "            plt.axis([0, len(probs), 0, 1])\n",
    "            plt.xticks(range(len(probs)), label2int.keys(), rotation='vertical')\n",
    "            display(Audio(fn, autoplay=True))\n",
    "            sleep(1)\n",
    "            disp_count += 1"
   ]
  },
  {
   "cell_type": "markdown",
   "metadata": {},
   "source": [
    "# Correct broken submission"
   ]
  },
  {
   "cell_type": "code",
   "execution_count": null,
   "metadata": {},
   "outputs": [],
   "source": [
    "sub_broken = pd.read_csv('submission_012.csv')\n",
    "sub_all = pd.read_csv('submission_012_all_labels.csv')\n",
    "sub_broken.loc[(sub_all.label == 'unknown').values, 'label'] = 'silence'\n",
    "sub_broken.to_csv('submission_012_corrected.csv', index=False)"
   ]
  },
  {
   "cell_type": "code",
   "execution_count": null,
   "metadata": {},
   "outputs": [],
   "source": [
    "sub = pd.read_csv('submission_012_corrected.csv')\n",
    "disp_count = 0\n",
    "for i in range(sub.shape[0]):\n",
    "    if disp_count >= 10:\n",
    "        break\n",
    "    fn = jp('data', 'test', 'audio', sub.loc[i, 'fname'])\n",
    "    label = sub.loc[i, 'label']\n",
    "    if label != 'unknown' and np.random.rand() > 0.9:\n",
    "        print(label)\n",
    "        display(Audio(fn, autoplay=True))\n",
    "        sleep(1)\n",
    "        disp_count += 1"
   ]
  },
  {
   "cell_type": "code",
   "execution_count": null,
   "metadata": {},
   "outputs": [],
   "source": [
    "sub = pd.read_csv('submission_012_all_labels.csv')\n",
    "counts = sub.label.value_counts()\n",
    "percent_counts = counts.apply(lambda x: np.round(100.0 * (x / sub.shape[0])))\n",
    "# print(counts)\n",
    "print(percent_counts)"
   ]
  },
  {
   "cell_type": "markdown",
   "metadata": {},
   "source": [
    "# Check what the generators are producing"
   ]
  },
  {
   "cell_type": "code",
   "execution_count": null,
   "metadata": {},
   "outputs": [],
   "source": [
    "from __future__ import division, print_function\n",
    "import tensorflow as tf\n",
    "from keras import backend as K\n",
    "from keras.callbacks import ModelCheckpoint, ReduceLROnPlateau\n",
    "from keras.callbacks import TensorBoard\n",
    "from callbacks import ConfusionMatrixCallback\n",
    "from model import speech_model, prepare_model_settings\n",
    "from input_data import AudioProcessor, prepare_words_list\n",
    "from classes import get_classes\n",
    "from IPython import embed  # noqa\n",
    "\n",
    "\n",
    "def data_gen(audio_processor, sess,\n",
    "             batch_size=128,\n",
    "             background_frequency=0.5, background_volume_range=0.2,\n",
    "             foreground_frequency=0.5, foreground_volume_range=0.2,\n",
    "             time_shift_frequency=1.0, time_shift_range=[-2000, 0],\n",
    "             mode='validation', pseudo_frequency=0.4):\n",
    "  offset = 0\n",
    "  if mode != 'training':\n",
    "    background_frequency = 0.0\n",
    "    background_volume_range = 0.0\n",
    "    foreground_frequency = 0.0\n",
    "    foreground_volume_range = 0.0\n",
    "    pseudo_frequency = 0.0\n",
    "    time_shift_frequency = 0.0\n",
    "    time_shift_range = [0, 0]\n",
    "  while True:\n",
    "    X, y = audio_processor.get_data(\n",
    "        how_many=batch_size, offset=0 if mode == 'training' else offset,\n",
    "        background_frequency=background_frequency,\n",
    "        background_volume_range=background_volume_range,\n",
    "        foreground_frequency=foreground_frequency,\n",
    "        foreground_volume_range=foreground_volume_range,\n",
    "        time_shift_frequency=time_shift_frequency,\n",
    "        time_shift_range=time_shift_range,\n",
    "        mode=mode, sess=sess,\n",
    "        pseudo_frequency=pseudo_frequency)\n",
    "    offset += batch_size\n",
    "    if offset > ap.set_size(mode) - batch_size:\n",
    "      offset = 0\n",
    "    yield X, y\n",
    "\n",
    "\n",
    "# running_mean: -0.8 | running_std: 7.0\n",
    "# mfcc running_mean: -0.67 | running_std: 7.45\n",
    "# background_clamp running_mean: -0.00064 | running_std: 0.0774, p5: -0.074, p95: 0.0697  # noqa\n",
    "# 10 ** raw - 1.0 running_mean: 0.017 | 10 ** raw - 1.0 running_std: 0.28\n",
    "# np.log(11) ~ 2.4\n",
    "# np.log(12) ~ 2.5\n",
    "# np.log(32) ~ 3.5\n",
    "# np.log(48) ~ 3.9\n",
    "# 64727 training files\n",
    "if __name__ == '__main__':\n",
    "  # restrict gpu usage: https://stackoverflow.com/questions/34199233/how-to-prevent-tensorflow-from-allocating-the-totality-of-a-gpu-memory  # noqa\n",
    "  gpu_options = tf.GPUOptions(per_process_gpu_memory_fraction=0.90)\n",
    "  sess = tf.Session(config=tf.ConfigProto(gpu_options=gpu_options))\n",
    "  K.set_session(sess)\n",
    "  data_dirs = ['data/train/audio']\n",
    "  add_pseudo = True\n",
    "  if add_pseudo:\n",
    "    data_dirs.append('data/pseudo/audio')\n",
    "  output_representation = 'raw'\n",
    "  sample_rate = 16000\n",
    "  batch_size = 384\n",
    "  classes = get_classes(wanted_only=False, extend_reversed=False)\n",
    "  model_settings = prepare_model_settings(\n",
    "      label_count=len(prepare_words_list(classes)), sample_rate=sample_rate,\n",
    "      clip_duration_ms=1000, window_size_ms=30.0, window_stride_ms=10.0,\n",
    "      dct_coefficient_count=40)\n",
    "  ap = AudioProcessor(\n",
    "      data_dirs=data_dirs, wanted_words=classes,\n",
    "      silence_percentage=15.0, unknown_percentage=5.0,\n",
    "      validation_percentage=10.0, testing_percentage=0.0,\n",
    "      model_settings=model_settings,\n",
    "      output_representation=output_representation)\n",
    "  train_gen = data_gen(ap, sess, batch_size=batch_size, mode='training')\n",
    "  val_gen = data_gen(ap, sess, batch_size=batch_size, mode='validation')"
   ]
  },
  {
   "cell_type": "code",
   "execution_count": null,
   "metadata": {},
   "outputs": [],
   "source": [
    "print(int2label)"
   ]
  },
  {
   "cell_type": "code",
   "execution_count": null,
   "metadata": {},
   "outputs": [],
   "source": [
    "int2label = get_int2label(wanted_only=False)\n",
    "X, y = next(train_gen)\n",
    "for j in range(X.shape[0]):\n",
    "    label = int2label[y[j].argmax()]\n",
    "    if label == 'sheila':\n",
    "        data = X[j, :].squeeze()\n",
    "        float_audio(data, autoplay=True)\n",
    "        sleep(1)"
   ]
  },
  {
   "cell_type": "markdown",
   "metadata": {},
   "source": [
    "## ap.summary()"
   ]
  },
  {
   "cell_type": "code",
   "execution_count": null,
   "metadata": {},
   "outputs": [],
   "source": [
    "wanted_words = get_classes(wanted_only=True)\n",
    "print(wanted_words)\n",
    "labels2int = {v: k for k, v in ap.word_to_index.items()}"
   ]
  },
  {
   "cell_type": "code",
   "execution_count": null,
   "metadata": {},
   "outputs": [],
   "source": [
    "!rm -rf data/train/audio/_silence_\n",
    "!mkdir data/train/audio/_silence_"
   ]
  },
  {
   "cell_type": "code",
   "execution_count": null,
   "metadata": {
    "scrolled": true
   },
   "outputs": [],
   "source": [
    "# save silence samples to '_silence_'\n",
    "disp_count = 0\n",
    "for i in range(100):\n",
    "    print(disp_count)\n",
    "    if disp_count > 100:\n",
    "        break\n",
    "    X, y = next(train_gen)\n",
    "    y = y.argmax(axis=-1)\n",
    "    for j in range(len(y)):\n",
    "        if y[j] == 0:\n",
    "            print(labels2int[y[j]])\n",
    "            out_fn = jp('data/train/audio/_silence_/%05d.wav' % disp_count)\n",
    "            data = np.int16(X[j, :] * 32768)\n",
    "            wf.write(out_fn, 16000, data)\n",
    "            # float_audio(X[j, :], autoplay=True)\n",
    "            # sleep(1)\n",
    "            disp_count += 1"
   ]
  },
  {
   "cell_type": "markdown",
   "metadata": {},
   "source": [
    "### Load model and check where we go wrong in the validation set"
   ]
  },
  {
   "cell_type": "code",
   "execution_count": null,
   "metadata": {},
   "outputs": [],
   "source": [
    "model = speech_model(\n",
    "  'conv_1d_time',\n",
    "  model_settings['fingerprint_size'] if compute_mfcc else sample_rate,\n",
    "  num_classes=model_settings['label_count'])\n",
    "model.load_weights('checkpoints_014/ep-039-loss-0.173.hdf5')\n",
    "disp_count = 0\n",
    "for i in range(ap.set_size('validation') // batch_size):\n",
    "    if disp_count >= 10:\n",
    "        break\n",
    "    X, y_true = next(val_gen)\n",
    "    y_true = y_true.argmax(axis=-1)\n",
    "    y_pred = model.predict(X).argmax(axis=-1)\n",
    "    for j in range(len(y_true)):\n",
    "        if y_true[j] != y_pred[j] and np.random.rand() > 0.5:\n",
    "            l_true = labels2int[y_true[j]]\n",
    "            l_pred = labels2int[y_pred[j]]\n",
    "            print(\"Pred: %s, Actual: %s\" % (l_pred, l_true))\n",
    "            float_audio(X[j, :], autoplay=True)\n",
    "            sleep(1)\n",
    "            disp_count += 1"
   ]
  },
  {
   "cell_type": "markdown",
   "metadata": {},
   "source": [
    "# Create \"unknown\" words\n",
    "### Just reverse some of the unwanted words. Reversing the wanted words might actually cause some problems when using global pooling in the end?"
   ]
  },
  {
   "cell_type": "code",
   "execution_count": null,
   "metadata": {},
   "outputs": [],
   "source": [
    "print(exclude_words)"
   ]
  },
  {
   "cell_type": "code",
   "execution_count": null,
   "metadata": {},
   "outputs": [],
   "source": [
    "wanted_words = get_classes(wanted_only=True)\n",
    "# wow reversed is wow! one reversed sounds like no!\n",
    "# dog vs go :P\n",
    "exclude_words = wanted_words + ['_background_noise_', 'wow', 'one', 'dog']"
   ]
  },
  {
   "cell_type": "code",
   "execution_count": null,
   "metadata": {},
   "outputs": [],
   "source": [
    "fns = sorted(glob(jp('data', 'train', 'audio', '*', '*.wav')))\n",
    "print(len(fns))\n",
    "fns = [fn for fn in fns if fn.split('/')[-2] not in exclude_words]\n",
    "print(len(fns))"
   ]
  },
  {
   "cell_type": "code",
   "execution_count": null,
   "metadata": {},
   "outputs": [],
   "source": [
    "new_classes = list(set([fn.split('/')[-2] for fn in fns]))\n",
    "# new_classes.remove('_silence_')\n",
    "new_classes = ['new_' + new_class[::-1] for new_class in new_classes]\n",
    "print(new_classes)\n",
    "for new_class in new_classes:\n",
    "    new_dir = jp('data/train/audio', new_class)\n",
    "    if os.path.exists(new_dir):\n",
    "        rmtree(new_dir)\n",
    "    os.mkdir(new_dir)\n",
    "    print(\"created %s\" % new_dir)"
   ]
  },
  {
   "cell_type": "code",
   "execution_count": null,
   "metadata": {},
   "outputs": [],
   "source": [
    "np.random.shuffle(fns)\n",
    "# fn_selection = np.random.choice(fns, size=5000, replace=False)\n",
    "fn_selection = fns"
   ]
  },
  {
   "cell_type": "code",
   "execution_count": null,
   "metadata": {},
   "outputs": [],
   "source": [
    "# there (often) 5 times the same speaker said the same word\n",
    "# \n",
    "# ./eight/5fadb538_nohash_4.wav\n",
    "# ./eight/5fadb538_nohash_3.wav\n",
    "# ./eight/5fadb538_nohash_2.wav\n",
    "# ./eight/5fadb538_nohash_1.wav\n",
    "# ./eight/5fadb538_nohash_0.wav\n",
    "\n",
    "counter = {cn: 0 for cn in new_classes}\n",
    "for fn in tqdm(fn_selection):\n",
    "    cn = 'new_' + fn.split('/')[-2][::-1]\n",
    "    sample_rate, data = wf.read(fn)\n",
    "    bn = os.path.basename(fn)\n",
    "    dst = jp('data', 'train', 'audio', cn,\n",
    "             \"%06d.wav\" % counter[cn])\n",
    "    counter[cn] += 1\n",
    "    data = data[::-1]\n",
    "    wf.write(dst, sample_rate, data)"
   ]
  },
  {
   "cell_type": "markdown",
   "metadata": {},
   "source": [
    "# Take a look at the noise files"
   ]
  },
  {
   "cell_type": "code",
   "execution_count": null,
   "metadata": {},
   "outputs": [],
   "source": [
    "background_files = sorted(glob(jp('data', 'train', 'audio', '_background_noise_', '*.wav')))\n",
    "background_volumne = 0.8\n",
    "for fn in background_files[5:6]:\n",
    "    print(fn)\n",
    "    rate, data = wf.read(fn)\n",
    "    if len(data) > 16000:\n",
    "        data = data[:16000]\n",
    "    data = np.float32(data) / 32768\n",
    "    data *= background_volumne\n",
    "    print(data.max())\n",
    "    wf.write('tmp.wav', 16000, np.int16(data * 32767))\n",
    "    plot_audio(data, normed=True)\n",
    "    display(Audio('tmp.wav', autoplay=True))\n",
    "    sleep(1)"
   ]
  },
  {
   "cell_type": "code",
   "execution_count": null,
   "metadata": {},
   "outputs": [],
   "source": [
    "?wf.write"
   ]
  },
  {
   "cell_type": "markdown",
   "metadata": {},
   "source": [
    "# Take a look at \"happy\" files"
   ]
  },
  {
   "cell_type": "code",
   "execution_count": null,
   "metadata": {},
   "outputs": [],
   "source": [
    "background_files = sorted(glob(jp('data', 'train', 'audio', 'happy', '*.wav')))\n",
    "volumne = 10**1\n",
    "for fn in background_files[5:6]:\n",
    "    print(fn)\n",
    "    rate, data = wf.read(fn)\n",
    "    if len(data) > 16000:\n",
    "        data = data[:16000]\n",
    "    data = np.float32(data) / 32768\n",
    "    data *= volumne\n",
    "    data = np.clip(data, -1, 1)\n",
    "    print(data.max())\n",
    "    wf.write('tmp.wav', 16000, np.int16(data * 32767))\n",
    "    plot_audio(data, normed=True)\n",
    "    display(Audio('tmp.wav', autoplay=True))\n",
    "    sleep(1)"
   ]
  },
  {
   "cell_type": "markdown",
   "metadata": {},
   "source": [
    "# Majority vote submission"
   ]
  },
  {
   "cell_type": "code",
   "execution_count": null,
   "metadata": {},
   "outputs": [],
   "source": [
    "import pandas as pd\n",
    "from os.path import join as jp\n",
    "from shutil import copy\n",
    "from tqdm import tqdm_notebook as tqdm\n",
    "\n",
    "sub_fns = ['submission_011.csv', 'submission_017.csv',\n",
    "           'submission_018.csv', 'submission_014.csv',\n",
    "           'submission_020.csv']\n",
    "subs = [pd.read_csv(sub_fn) for sub_fn in sub_fns]\n",
    "\n",
    "fname, label = [], []\n",
    "clear_majority = 0\n",
    "for i in tqdm(range(subs[0].shape[0])):\n",
    "    fname.append(subs[0].loc[i, 'fname'])\n",
    "    label_counts = {}\n",
    "    for sub in subs:\n",
    "        ll = sub.loc[i, 'label']\n",
    "    if ll in label_counts:\n",
    "        label_counts[ll] += 1\n",
    "    else:\n",
    "        label_counts[ll] = 1\n",
    "\n",
    "    maj_label = max(label_counts, key=label_counts.get)\n",
    "    if label_counts[maj_label] > 2:\n",
    "        clear_majority += 1\n",
    "    else:\n",
    "        # in trouble save the wav files!\n",
    "        src = jp('data', 'test', 'audio', fname[-1])\n",
    "        dst = jp('split_decision', str(label_counts) + fname[-1])\n",
    "        copy(src, dst)\n",
    "    # resolve tie by chosing 'unknown' or 'silence' if available\n",
    "    if 'unknown' in label_counts and 'silence' in label_counts:\n",
    "        maj_label = 'silence'\n",
    "    elif 'unknown' in label_counts:\n",
    "        maj_label = 'unknown'\n",
    "    elif 'silence' in label_counts:\n",
    "        maj_label = 'silence'\n",
    "    label.append(maj_label)\n",
    "\n",
    "pd.DataFrame({'fname': fname, 'label': label}).to_csv(\n",
    "    'majority_sub_011.csv', index=False)\n",
    "print(\"Done! Got a clear majority for %d of %d samples.\"\n",
    "      % (clear_majority, subs[0].shape[0]))\n"
   ]
  },
  {
   "cell_type": "markdown",
   "metadata": {},
   "source": [
    "# Generate more background noise\n",
    "## The idea is to take the reversed words and average some of them up to generate ~30s tracks"
   ]
  },
  {
   "cell_type": "code",
   "execution_count": null,
   "metadata": {},
   "outputs": [],
   "source": [
    "# unwanted words reversed\n",
    "fns = sorted(glob(jp('data', 'train', 'audio', 'unwrev', '*.wav')))\n",
    "print(len(fns))"
   ]
  },
  {
   "cell_type": "code",
   "execution_count": null,
   "metadata": {},
   "outputs": [],
   "source": [
    "louder = 16.0  # make it louder!\n",
    "sample_secs = 30\n",
    "total_new = 0\n",
    "num_noise_tracks = 400\n",
    "noise_track = []\n",
    "noise_track_counter = 0\n",
    "sample_track = []\n",
    "sample_counter = 0\n",
    "for fn in tqdm(fns):\n",
    "    sample_rate, data = wf.read(fn)\n",
    "    data = np.float32(data) / 32768\n",
    "    assert sample_rate == 16000\n",
    "    data = center_pad(data)\n",
    "    shift = np.random.randint(16000)\n",
    "    data = np.roll(data, shift)\n",
    "    sample_track.append(data)\n",
    "    sample_counter += 1\n",
    "    if sample_counter == sample_secs:\n",
    "        noise_track.append(np.concatenate(sample_track))\n",
    "        sample_track = []\n",
    "        sample_counter = 0\n",
    "        noise_track_counter += 1\n",
    "        if noise_track_counter == num_noise_tracks:\n",
    "            noise_track = np.array(noise_track)\n",
    "            noise_track = np.mean(noise_track, axis=0) * louder\n",
    "            noise_track = np.int16(noise_track * 32768)\n",
    "            out_fn = jp('data', 'train', 'audio', '_background_noise_', 'silence_please_%04d.wav' % total_new)\n",
    "            wf.write(out_fn, 16000, noise_track)\n",
    "            print(out_fn)\n",
    "            display(Audio(out_fn))\n",
    "            noise_track = []\n",
    "            noise_track_counter = 0\n",
    "            total_new += 1\n",
    "            if total_new == 2:\n",
    "                break"
   ]
  },
  {
   "cell_type": "markdown",
   "metadata": {},
   "source": [
    "# How does foreground with mixed background sound?"
   ]
  },
  {
   "cell_type": "code",
   "execution_count": null,
   "metadata": {},
   "outputs": [],
   "source": [
    "background_noise_fns = sorted(glob('data/train/audio/_background_noise_/*.wav'))\n",
    "idx = -3\n",
    "print(background_noise_fns[idx])\n",
    "display(Audio(background_noise_fns[idx], autoplay=True))"
   ]
  },
  {
   "cell_type": "code",
   "execution_count": null,
   "metadata": {},
   "outputs": [],
   "source": [
    "foreground_fns = sorted(glob('data/train/audio/go/*.wav'))\n",
    "for i in range(3):\n",
    "    foreground_fn = np.random.choice(foreground_fns)\n",
    "    foreground = normalized_read(foreground_fn)\n",
    "    background_fn = np.random.choice(background_noise_fns)\n",
    "    # background_fn = background_noise_fns[-3]\n",
    "    print(background_fn)\n",
    "    background = normalized_read(background_fn)\n",
    "    mixed = np.random.uniform(0.8, 1.2) * foreground + 0.3 * background  # np.random.uniform(0, 2)\n",
    "    mixed = np.clip(mixed, -1, 1)\n",
    "    float_audio(mixed, autoplay=True)\n",
    "    plot_audio(mixed, normed=True)\n",
    "    sleep(1)"
   ]
  },
  {
   "cell_type": "markdown",
   "metadata": {},
   "source": [
    "# How do the models perform on the validation set?"
   ]
  },
  {
   "cell_type": "code",
   "execution_count": null,
   "metadata": {},
   "outputs": [],
   "source": [
    "from keras import backend as K\n",
    "from keras.callbacks import ModelCheckpoint, LearningRateScheduler\n",
    "from keras.callbacks import TensorBoard\n",
    "from model import speech_model, prepare_model_settings\n",
    "from input_data import AudioProcessor, prepare_words_list\n",
    "from keras.models import load_model\n",
    "from classes import get_classes\n",
    "\n",
    "\n",
    "def data_gen(audio_processor, sess,\n",
    "             batch_size=128,\n",
    "             background_frequency=0.5, background_volume_range=0.2,\n",
    "             foreground_frequency=1.0, foreground_volume_range=3.0,\n",
    "             time_shift=(100.0 * 16000.0) / 1000,\n",
    "             mode='validation'):\n",
    "    offset = 0\n",
    "    if mode != 'training':\n",
    "        background_frequency = 0.0\n",
    "        background_volume_range = 0.0\n",
    "        foreground_frequency = 0.0\n",
    "        foreground_volume_range = 0.0\n",
    "        time_shift = 0\n",
    "\n",
    "    while True:\n",
    "        X, y = audio_processor.get_data(\n",
    "            how_many=batch_size, offset=0 if mode == 'training' else offset,\n",
    "            background_frequency=background_frequency,\n",
    "            background_volume_range=background_volume_range,\n",
    "            foreground_frequency=foreground_frequency,\n",
    "            foreground_volume_range=foreground_volume_range,\n",
    "            time_shift=time_shift, mode=mode, sess=sess)\n",
    "        offset += batch_size\n",
    "        if offset > ap.set_size(mode) - batch_size:\n",
    "            offset = 0\n",
    "        yield X, y\n",
    "\n",
    "\n",
    "sess = K.get_session()\n",
    "data_dirs = ['data/train/audio']\n",
    "add_pseudo = False\n",
    "if add_pseudo:\n",
    "    data_dirs.append('data/pseudo/audio')\n",
    "compute_mfcc = False\n",
    "sample_rate = 16000\n",
    "batch_size = 64\n",
    "classes = get_classes(wanted_only=False)\n",
    "model_settings = prepare_model_settings(\n",
    "  label_count=len(prepare_words_list(classes)), sample_rate=sample_rate,\n",
    "  clip_duration_ms=1000, window_size_ms=30.0, window_stride_ms=10.0,\n",
    "  dct_coefficient_count=40)\n",
    "ap = AudioProcessor(\n",
    "  data_dirs=data_dirs,\n",
    "  silence_percentage=15.0,\n",
    "  unknown_percentage=7.0,\n",
    "  wanted_words=classes,\n",
    "  validation_percentage=10.0,\n",
    "  testing_percentage=0.0,\n",
    "  model_settings=model_settings,\n",
    "  compute_mfcc=compute_mfcc)\n",
    "train_gen = data_gen(ap, sess, batch_size=batch_size, mode='training')\n",
    "val_gen = data_gen(ap, sess, batch_size=batch_size, mode='validation')"
   ]
  },
  {
   "cell_type": "code",
   "execution_count": null,
   "metadata": {},
   "outputs": [],
   "source": [
    "model_fns = [\n",
    "    'checkpoints_019/ep-022-vl-0.2916.hdf5',\n",
    "    'checkpoints_018/ep-049-vl-0.2185.hdf5',\n",
    "    'checkpoints_017/ep-036-vl-0.1969.hdf5'\n",
    "]\n",
    "\n",
    "models = []\n",
    "for model_fn in model_fns:\n",
    "    model = load_model(model_fn)\n",
    "    models.append((model_fn, model))"
   ]
  },
  {
   "cell_type": "code",
   "execution_count": null,
   "metadata": {},
   "outputs": [],
   "source": [
    "# evaluate on validation set\n",
    "for model in models:\n",
    "    out = model.evaluate_generator(\n",
    "        val_gen, steps=ap.set_size('validation') // batch_size)\n",
    "    print(model_fn, out)"
   ]
  },
  {
   "cell_type": "markdown",
   "metadata": {},
   "source": [
    "# Predict samples with models"
   ]
  },
  {
   "cell_type": "code",
   "execution_count": null,
   "metadata": {},
   "outputs": [],
   "source": [
    "len(ap.words_list), len(models)"
   ]
  },
  {
   "cell_type": "code",
   "execution_count": null,
   "metadata": {},
   "outputs": [],
   "source": [
    "X, y = next(val_gen)\n",
    "sample_idx = 10\n",
    "float_audio(X[sample_idx, :], autoplay=True)\n",
    "out_probs = []\n",
    "for model_fn, model in models:\n",
    "    y_preds = model.predict(X)\n",
    "    out_probs.append((model_fn, y_preds[sample_idx]))\n",
    "\n",
    "for fn, pred in out_probs:\n",
    "    plt.figure()\n",
    "    plt.title(fn)\n",
    "    plt.bar(range(len(pred)), pred)\n",
    "    plt.xticks(range(len(pred)), ap.words_list, rotation='vertical')"
   ]
  },
  {
   "cell_type": "markdown",
   "metadata": {},
   "source": [
    "# Wrong ones"
   ]
  },
  {
   "cell_type": "code",
   "execution_count": null,
   "metadata": {},
   "outputs": [],
   "source": [
    "max_plots = 2\n",
    "plot_c = 0\n",
    "model = models[-1][-1]\n",
    "while plot_c < max_plots:\n",
    "    X, y = next(val_gen)\n",
    "    y_preds = model.predict(X)\n",
    "    for i, y_pred in enumerate(y_preds):\n",
    "        if plot_c >= max_plots:\n",
    "            break\n",
    "        if y_pred.argmax() != y[i].argmax():\n",
    "            float_audio(X[i, :], autoplay=True)\n",
    "            sleep(1)\n",
    "            plt.figure()\n",
    "            plt.title(\"Pred: %s, Actual: %s\"\n",
    "                      % (ap.words_list[y_pred.argmax()], ap.words_list[y[i].argmax()]))\n",
    "            plt.bar(range(len(y_pred)), y_pred)\n",
    "            plt.xticks(range(len(y_pred)), ap.words_list, rotation='vertical')\n",
    "            plot_c += 1"
   ]
  },
  {
   "cell_type": "markdown",
   "metadata": {},
   "source": [
    "# What happens if we just feed plain silence e.g. all 0?\n",
    "### Looks good!"
   ]
  },
  {
   "cell_type": "code",
   "execution_count": null,
   "metadata": {},
   "outputs": [],
   "source": [
    "X = np.zeros((2, 16000), dtype=np.float32)\n",
    "pred = model.predict(X)\n",
    "float_audio(X[0, :], autoplay=True)\n",
    "sleep(1)\n",
    "plt.figure()\n",
    "plt.title(\"Silence pred\")\n",
    "plt.bar(range(len(pred[0])), pred[0])\n",
    "_ = plt.xticks(range(len(pred[0])), ap.words_list, rotation='vertical')"
   ]
  },
  {
   "cell_type": "markdown",
   "metadata": {},
   "source": [
    "# How about the noise files?"
   ]
  },
  {
   "cell_type": "code",
   "execution_count": null,
   "metadata": {},
   "outputs": [],
   "source": [
    "model = load_model(model_fns[-1])"
   ]
  },
  {
   "cell_type": "code",
   "execution_count": null,
   "metadata": {},
   "outputs": [],
   "source": [
    "noise_fns = glob(jp('data/train/audio/_background_noise_/*.wav'))\n",
    "X = []\n",
    "for noise_fn in noise_fns:\n",
    "    X.append(normalized_read(noise_fn))\n",
    "X = np.float32(X)\n",
    "# change volumne\n",
    "X *= 0.2\n",
    "y_pred = model.predict(X)\n",
    "for i in range(X.shape[0]):\n",
    "    # float_audio(X[0, :], autoplay=True)\n",
    "    # sleep(1)\n",
    "    plt.figure()\n",
    "    plt.title(\"Noise pred: %s\" % noise_fns[i])\n",
    "    plt.bar(range(len(y_pred[i])), y_pred[i])\n",
    "    _ = plt.xticks(range(len(y_pred[i])), ap.words_list, rotation='vertical')"
   ]
  },
  {
   "cell_type": "markdown",
   "metadata": {},
   "source": [
    "# Submission with averaged probabilities"
   ]
  },
  {
   "cell_type": "code",
   "execution_count": null,
   "metadata": {},
   "outputs": [],
   "source": [
    "sub_fns = [\n",
    "    'submission_091_leftloud_tta.csv',\n",
    "    'submission_106_tta_leftloud.csv']\n",
    "sub_fns = [fn.replace('.csv', '_all_labels_probs.csv')\n",
    "           for fn in sub_fns]\n",
    "\n",
    "subs = []\n",
    "for sub_fn in sub_fns:\n",
    "    subs.append(pd.read_csv(sub_fn))\n",
    "\n",
    "wanted_words = prepare_words_list(get_classes(wanted_only=True))\n",
    "int2label = get_int2label(wanted_only=False)\n",
    "label2int = get_label2int(wanted_only=False)\n",
    "\n",
    "avg = 0.0\n",
    "for sub in subs:\n",
    "    avg += sub.loc[:, label2int.keys()].values / len(subs)\n",
    "\n",
    "print(avg.sum(axis=1)[10:20])\n",
    "probabilities = avg\n",
    "print(probabilities.shape)\n",
    "preds = probabilities.argmax(axis=-1)"
   ]
  },
  {
   "cell_type": "code",
   "execution_count": null,
   "metadata": {},
   "outputs": [],
   "source": [
    "ensemble_label = []\n",
    "ensemble_sub = subs[0].copy()\n",
    "for i in tqdm(range(ensemble_sub.shape[0])):\n",
    "    label = int2label[preds[i]]\n",
    "    # print(\"%s with: %.3f\" % (label, probabilities[i, preds[i]]))\n",
    "    label = label if label != '_silence_' else 'silence'\n",
    "    label = label if label != '_unknown_' else 'unknown'\n",
    "    # label = label if label == 'silence' or label in wanted_words else 'unknown'\n",
    "    ensemble_label.append(label)\n",
    "\n",
    "ensemble_sub['label'] = ensemble_label\n",
    "ensemble_sub[['fname', 'label']].to_csv('prob_ensemble_026_all_labels.csv', index=False)\n",
    "ensemble_sub.loc[:, label2int.keys()] = probabilities\n",
    "ensemble_sub.to_csv('prob_ensemble_026_all_labels_probs.csv', index=False)\n",
    "\n",
    "print(\"Done\")"
   ]
  },
  {
   "cell_type": "code",
   "execution_count": null,
   "metadata": {},
   "outputs": [],
   "source": [
    "ensemble_label = []\n",
    "ensemble_sub = subs[0].copy()\n",
    "small_prob_counter = 0\n",
    "prob_thresh = 0.2\n",
    "for i in tqdm(range(ensemble_sub.shape[0])):\n",
    "    label = int2label[preds[i]]\n",
    "    label = label if label != '_silence_' else 'silence'\n",
    "    label = label if label != '_unknown_' else 'unknown'\n",
    "    label = label if label == 'silence' or label in wanted_words else 'unknown'\n",
    "    # handle \"small\" probs\n",
    "    max_prob = probabilities[i, preds[i]]\n",
    "    if max_prob < prob_thresh:\n",
    "        small_prob_counter += 1\n",
    "        src_fn = jp('data/test/audio', ensemble_sub.loc[i, 'fname'])\n",
    "        dst_fn = jp('split_decision', '%s_%.3f.wav'\n",
    "                    % (label, max_prob))\n",
    "        copy(src_fn, dst_fn)\n",
    "        # map small prob words (not silence) to unknown\n",
    "        label = label if label == 'silence' else 'unknown'\n",
    "    ensemble_label.append(label)\n",
    "\n",
    "\n",
    "print(\"%d of %d with small prob\" % (small_prob_counter, ensemble_sub.shape[0]))\n",
    "ensemble_sub['label'] = ensemble_label\n",
    "ensemble_sub[['fname', 'label']].to_csv(\n",
    "    'prob_ensemble_026_thresh_%.2f_map_to_unknown.csv' % prob_thresh, index=False)\n",
    "print(\"Done\")"
   ]
  },
  {
   "cell_type": "markdown",
   "metadata": {},
   "source": [
    "# Find duplicates\n",
    "## https://www.kaggle.com/c/tensorflow-speech-recognition-challenge/discussion/44687"
   ]
  },
  {
   "cell_type": "code",
   "execution_count": null,
   "metadata": {},
   "outputs": [],
   "source": [
    "train_fns = sorted(glob('data/train/audio/*/*.wav'))\n",
    "test_fns = sorted(glob('data/test/audio/*.wav'))\n",
    "all_fns = train_fns + test_fns\n",
    "print(\"%d train, %d test, %d total\"\n",
    "      % (len(train_fns), len(test_fns), len(all_fns)))\n",
    "all_fns = all_fns[:]"
   ]
  },
  {
   "cell_type": "code",
   "execution_count": null,
   "metadata": {},
   "outputs": [],
   "source": [
    "if not os.path.exists('md5sums.p'):\n",
    "    md5sums = {}\n",
    "    for fn in tqdm(all_fns):\n",
    "        if fn in md5sums:\n",
    "            print(\"Double fn!\", fn)\n",
    "        checksum = md5(fn)\n",
    "        md5sums[fn] = checksum\n",
    "    # cache\n",
    "    data = {'md5sums': md5sums}\n",
    "    with open('md5sums.p', 'wb') as f:\n",
    "        pickle.dump(data, f)\n",
    "\n",
    "with open('md5sums.p', 'rb') as f:\n",
    "    data = pickle.load(f)\n",
    "    md5sums = data['md5sums']\n",
    "    "
   ]
  },
  {
   "cell_type": "code",
   "execution_count": null,
   "metadata": {},
   "outputs": [],
   "source": [
    "counts = {}\n",
    "checksum_fn = {v: k for k, v in md5sums.items()}\n",
    "for fn, checksum in md5sums.items():\n",
    "    if checksum in counts:\n",
    "        counts[checksum] += 1\n",
    "    else:\n",
    "        counts[checksum] = 1"
   ]
  },
  {
   "cell_type": "code",
   "execution_count": null,
   "metadata": {},
   "outputs": [],
   "source": [
    "fn_counts = []\n",
    "check_to_fns = {}\n",
    "for checksum, count in counts.items():\n",
    "    fn = checksum_fn[checksum]\n",
    "    fn_counts.append((fn, count))\n",
    "    if checksum in check_to_fns:\n",
    "        if fn not in check_to_fns[fn]:\n",
    "            check_to_fns[fn].append(fn)\n",
    "        else:\n",
    "            check_to_fns[fn] = [fn]\n",
    "fn_counts = sorted(fn_counts, key=lambda x: x[-1], reverse=True)\n",
    "print(fn_counts[:10])"
   ]
  },
  {
   "cell_type": "code",
   "execution_count": null,
   "metadata": {},
   "outputs": [],
   "source": [
    "a = [(k, v) for k, v in counts.items() if v == 3710][0]"
   ]
  },
  {
   "cell_type": "code",
   "execution_count": null,
   "metadata": {},
   "outputs": [],
   "source": [
    "mist_fns = [fn for fn, s in md5sums.items() if s == a[0]]\n",
    "bns = [os.path.basename(fn) for fn in mist_fns]"
   ]
  },
  {
   "cell_type": "code",
   "execution_count": null,
   "metadata": {},
   "outputs": [],
   "source": [
    "# These are all silence -.- check that we got it right anyway ...\n",
    "some_sub = pd.read_csv('submission_017.csv')\n",
    "for i in range(some_sub.shape[0]):\n",
    "    fn = some_sub.loc[i, 'fname']\n",
    "    if fn in bns:\n",
    "        label = some_sub.loc[i, 'label']\n",
    "        if label != 'silence':\n",
    "            print(label)\n",
    "# check! That was useless -.-"
   ]
  },
  {
   "cell_type": "markdown",
   "metadata": {},
   "source": [
    "# Listen test data"
   ]
  },
  {
   "cell_type": "code",
   "execution_count": null,
   "metadata": {},
   "outputs": [],
   "source": [
    "test_fns = sorted(glob('data/test/audio/*.wav'))\n",
    "print(len(test_fns))\n",
    "disp_count = 0\n",
    "for test_fn in test_fns:\n",
    "    if disp_count > 10:\n",
    "        break\n",
    "    if np.random.rand() > 0.7:\n",
    "        print(test_fn)\n",
    "        display(Audio(filename=test_fn,\n",
    "                      rate=16000,\n",
    "                      autoplay=True))\n",
    "        sleep(1)\n",
    "        disp_count += 1"
   ]
  },
  {
   "cell_type": "markdown",
   "metadata": {},
   "source": [
    "# Explore subsampled representation"
   ]
  },
  {
   "cell_type": "code",
   "execution_count": null,
   "metadata": {},
   "outputs": [],
   "source": [
    "test_fns = sorted(glob('data/test/audio/*.wav'))\n",
    "some_fn = np.random.choice(test_fns)\n",
    "rate, data = wf.read(some_fn)\n",
    "data = np.float32(data) / 32768\n",
    "assert rate == 16000\n",
    "plt.figure()\n",
    "plt.plot(range(len(data)), data, 'g')\n",
    "display(Audio(some_fn, autoplay=True))"
   ]
  },
  {
   "cell_type": "code",
   "execution_count": null,
   "metadata": {},
   "outputs": [],
   "source": [
    "plt.figure()\n",
    "step = 10\n",
    "colors = ['r', 'g', 'b', 'y', 'b']\n",
    "for i in range(3):\n",
    "    data_slice = data[0::step]\n",
    "    data_slice = np.roll(data_slice, int(-i * 400))\n",
    "    plt.plot(range(len(data_slice)), data_slice, colors[i])\n",
    "    float_audio(data_slice, sample_rate=int(16000 / step), autoplay=True)\n",
    "    sleep(1)"
   ]
  },
  {
   "cell_type": "code",
   "execution_count": null,
   "metadata": {},
   "outputs": [],
   "source": [
    "print(some_fn)"
   ]
  },
  {
   "cell_type": "code",
   "execution_count": null,
   "metadata": {
    "scrolled": true
   },
   "outputs": [],
   "source": [
    "plt.figure()\n",
    "colors = ['r', 'g', 'b', 'y']\n",
    "step = 3\n",
    "for i in range(step):\n",
    "    sub = data[i::step]\n",
    "    plt.plot(range(len(sub)), sub + 2 * i, colors[i % len(colors)])\n"
   ]
  },
  {
   "cell_type": "code",
   "execution_count": null,
   "metadata": {},
   "outputs": [],
   "source": [
    "step = 20\n",
    "float_audio(data[::step], sample_rate=int(16000 / step), autoplay=True)"
   ]
  },
  {
   "cell_type": "code",
   "execution_count": null,
   "metadata": {},
   "outputs": [],
   "source": [
    "# do the same thing in keras/tf\n",
    "def time_slice_stack(x, step):\n",
    "    x_slices = []\n",
    "    for i in range(step):\n",
    "        x_slice = x[:, i::step]\n",
    "        x_slice = K.expand_dims(x_slice, axis=-1)\n",
    "        x_slices.append(x_slice)\n",
    "    x_slices = K.concatenate(x_slices, axis=-1)\n",
    "    print(x_slices.shape)\n",
    "    return x_slices"
   ]
  },
  {
   "cell_type": "code",
   "execution_count": null,
   "metadata": {},
   "outputs": [],
   "source": [
    "input_layer = Input(shape=[16000])\n",
    "x = input_layer\n",
    "x = Lambda(lambda x: time_slice_stack(x, 2))(x)\n",
    "model = Model(input_layer, x)\n",
    "out = model.predict(data.reshape((1, 16000))).squeeze()"
   ]
  },
  {
   "cell_type": "markdown",
   "metadata": {},
   "source": [
    "# Check input representation"
   ]
  },
  {
   "cell_type": "code",
   "execution_count": null,
   "metadata": {
    "scrolled": false
   },
   "outputs": [],
   "source": [
    "def plot_show_samples(label='stop'):\n",
    "    fns = sorted(glob('data/train/audio/%s/*.wav' % label))\n",
    "    disp_count = 0\n",
    "    for fn in fns:\n",
    "        if disp_count > 3:\n",
    "            break\n",
    "        rate, data = wf.read(fn)\n",
    "        data = np.float32(data) / 32768\n",
    "        data = pad_crop(data)\n",
    "        print(fn)\n",
    "        plt.figure()\n",
    "        plt.imshow(data.reshape((400, 40)).T)\n",
    "        plt.show()\n",
    "        display(float_audio(data, autoplay=True))\n",
    "        sleep(1)\n",
    "        disp_count += 1"
   ]
  },
  {
   "cell_type": "code",
   "execution_count": null,
   "metadata": {},
   "outputs": [],
   "source": [
    "plot_show_samples()"
   ]
  },
  {
   "cell_type": "markdown",
   "metadata": {},
   "source": [
    "# Now check mfcc"
   ]
  },
  {
   "cell_type": "code",
   "execution_count": null,
   "metadata": {},
   "outputs": [],
   "source": [
    "desired_samples = 16000\n",
    "window_size_samples = 480\n",
    "window_stride_samples = 160\n",
    "dct_coefficient_count = 40\n",
    "magnitude_squared = False\n",
    "wav_filename_placeholder = tf.placeholder(tf.string, [])\n",
    "wav_loader = io_ops.read_file(wav_filename_placeholder)\n",
    "wav_decoder = contrib_audio.decode_wav(\n",
    "  wav_loader, desired_channels=1,\n",
    "  desired_samples=desired_samples)\n",
    "clamped = tf.clip_by_value(wav_decoder.audio, -1.0, 1.0)\n",
    "spectrogram = contrib_audio.audio_spectrogram(\n",
    "  clamped,\n",
    "  window_size=window_size_samples,\n",
    "  stride=window_stride_samples,\n",
    "  magnitude_squared=magnitude_squared)\n",
    "mfcc = contrib_audio.mfcc(\n",
    "  spectrogram,\n",
    "  wav_decoder.sample_rate,\n",
    "  dct_coefficient_count=dct_coefficient_count)\n",
    "\n",
    "def load_spectrogram(fn):\n",
    "    with tf.Session() as sess:\n",
    "        spectrogram_val = sess.run(\n",
    "            spectrogram, {wav_filename_placeholder: fn})\n",
    "    return spectrogram_val\n",
    "\n",
    "def load_mfcc(fn):\n",
    "    with tf.Session() as sess:\n",
    "        mfcc_val = sess.run(\n",
    "            mfcc, {wav_filename_placeholder: fn})\n",
    "    return mfcc_val\n",
    "\n",
    "def plot_show(label='stop', output='spec', max_disp=3):\n",
    "    fns = sorted(glob('data/train/audio/%s/*.wav' % label))\n",
    "    disp_count = 0\n",
    "    some_data = None\n",
    "    for fn in fns:\n",
    "        if disp_count >= max_disp:\n",
    "            break\n",
    "        if np.random.rand() > 0.9:\n",
    "            if output == 'spec':\n",
    "                spec = load_spectrogram(fn).squeeze()\n",
    "                some_data = spec\n",
    "            elif output == 'mfcc':\n",
    "                mfcc = load_mfcc(fn).squeeze()\n",
    "                some_data = mfcc\n",
    "            plt.figure()\n",
    "            plt.title(fn)\n",
    "            plt.imshow(some_data.T)\n",
    "            plt.colorbar()\n",
    "            plt.show()\n",
    "            disp_count += 1\n",
    "    return some_data"
   ]
  },
  {
   "cell_type": "code",
   "execution_count": null,
   "metadata": {},
   "outputs": [],
   "source": [
    "some_spec = plot_show('sheila', output='spec')\n",
    "print(some_spec.shape)"
   ]
  },
  {
   "cell_type": "code",
   "execution_count": null,
   "metadata": {},
   "outputs": [],
   "source": [
    "some_mfcc = plot_show('stop', output='mfcc', max_disp=3)\n",
    "print(some_mfcc.shape)"
   ]
  },
  {
   "cell_type": "code",
   "execution_count": null,
   "metadata": {},
   "outputs": [],
   "source": [
    "print('Time steps: ', (16000 - 480) / 160 + 1)\n",
    "print('Frequencies: ', 16000 / 160)"
   ]
  },
  {
   "cell_type": "code",
   "execution_count": null,
   "metadata": {},
   "outputs": [],
   "source": [
    "??contrib_audio.audio_spectrogram"
   ]
  },
  {
   "cell_type": "markdown",
   "metadata": {},
   "source": [
    "# Can we create a model that does the same? "
   ]
  },
  {
   "cell_type": "code",
   "execution_count": null,
   "metadata": {},
   "outputs": [],
   "source": [
    "num_filter = 257\n",
    "\n",
    "input_layer = Input(shape=[16000])\n",
    "x = input_layer\n",
    "x = Reshape([16000, 1])(x)\n",
    "x = Conv1D(num_filter, window_size_samples, strides=window_stride_samples)(x)\n",
    "model = Model(input_layer, x)\n",
    "\n",
    "def plot_show(model, label='stop'):\n",
    "    fns = sorted(glob('data/train/audio/%s/*.wav' % label))\n",
    "    disp_count = 0\n",
    "    some_spec = None\n",
    "    for fn in fns:\n",
    "        if disp_count > 2:\n",
    "            break\n",
    "        if np.random.rand() > 0.0:\n",
    "            rate, data = wf.read(fn)\n",
    "            data = np.float32(data) / 32768\n",
    "            data = pad_crop(data)\n",
    "            spec = model.predict(data.reshape((1, -1))).squeeze()\n",
    "            some_spec = spec\n",
    "            print(spec.shape)\n",
    "            plt.figure()\n",
    "            plt.title(fn)\n",
    "            plt.imshow(spec.T)\n",
    "            plt.show()\n",
    "            disp_count += 1\n",
    "    return some_spec"
   ]
  },
  {
   "cell_type": "code",
   "execution_count": null,
   "metadata": {
    "scrolled": false
   },
   "outputs": [],
   "source": [
    "_ = plot_show(model)"
   ]
  },
  {
   "cell_type": "markdown",
   "metadata": {},
   "source": [
    "# How about a real trained network? This one gets 94% train accuracy and 89% mean validation accuracy"
   ]
  },
  {
   "cell_type": "code",
   "execution_count": null,
   "metadata": {},
   "outputs": [],
   "source": [
    "model = load_model('checkpoints_069/ep-060-vl-0.3702.hdf5',\n",
    "                 custom_objects={'relu6': relu6,\n",
    "                                 'DepthwiseConv2D': DepthwiseConv2D})"
   ]
  },
  {
   "cell_type": "code",
   "execution_count": null,
   "metadata": {
    "scrolled": true
   },
   "outputs": [],
   "source": [
    "model.summary()"
   ]
  },
  {
   "cell_type": "code",
   "execution_count": null,
   "metadata": {},
   "outputs": [],
   "source": [
    "from keras.layers import Concatenate\n",
    "concat_layers = [l for l in model.layers if l.__class__ == Concatenate]\n",
    "print(concat_layers)"
   ]
  },
  {
   "cell_type": "code",
   "execution_count": null,
   "metadata": {},
   "outputs": [],
   "source": [
    "activation = model.layers[3].output\n",
    "# activation = concat_layers[0].output\n",
    "spec_model = Model(model.input, activation)"
   ]
  },
  {
   "cell_type": "code",
   "execution_count": null,
   "metadata": {
    "scrolled": false
   },
   "outputs": [],
   "source": [
    "def norm(x):\n",
    "    return (x - x.mean()) / x.std()\n",
    "\n",
    "fns = sorted(glob('data/train/audio/go/*.wav'))\n",
    "np.random.shuffle(fns)\n",
    "disp_count = 0\n",
    "for fn in fns:\n",
    "    if disp_count > 2:\n",
    "        break\n",
    "    rate, data = wf.read(fn)\n",
    "    data = np.float32(data) / 32768\n",
    "    data = pad_crop(data)\n",
    "    representation = spec_model.predict(data.reshape((1, -1))).squeeze()\n",
    "    spec = load_spectrogram(fn).squeeze()\n",
    "    spec, representation = norm(spec), norm(representation)\n",
    "    print(spec.shape)\n",
    "    plt.figure()\n",
    "    plt.title(fn)\n",
    "    plt.subplot(1, 2, 1)\n",
    "    plt.imshow(representation.T)\n",
    "    plt.subplot(1, 2, 2)\n",
    "    plt.imshow(spec.T)\n",
    "    plt.show()\n",
    "    print(representation.shape)\n",
    "    disp_count += 1\n",
    "print(activation.shape)"
   ]
  },
  {
   "cell_type": "markdown",
   "metadata": {},
   "source": [
    "# Looks like we succesfully decorrelated the channels. Though, it seems like this is not what we really want? There shoud be some relation between groups at least -> Use group convolutions? (g-Sub-seperable)"
   ]
  },
  {
   "cell_type": "code",
   "execution_count": null,
   "metadata": {},
   "outputs": [],
   "source": [
    "# same thing with g-Sub-seperable\n",
    "model = load_model('checkpoints_071/ep-015-vl-0.4296.hdf5',\n",
    "                 custom_objects={'relu6': relu6,\n",
    "                                 'DepthwiseConv2D': DepthwiseConv2D})"
   ]
  },
  {
   "cell_type": "code",
   "execution_count": null,
   "metadata": {},
   "outputs": [],
   "source": [
    "from keras.layers import Concatenate\n",
    "concat_layers = [l for l in model.layers if l.__class__ == Concatenate]\n",
    "print(concat_layers)"
   ]
  },
  {
   "cell_type": "code",
   "execution_count": null,
   "metadata": {},
   "outputs": [],
   "source": [
    "activation = model.layers[3].output\n",
    "# activation = concat_layers[0].output\n",
    "spec_model = Model(model.input, activation)"
   ]
  },
  {
   "cell_type": "code",
   "execution_count": null,
   "metadata": {
    "scrolled": false
   },
   "outputs": [],
   "source": [
    "def norm(x):\n",
    "    return (x - x.mean()) / x.std()\n",
    "\n",
    "fns = sorted(glob('data/train/audio/stop/*.wav'))\n",
    "np.random.shuffle(fns)\n",
    "disp_count = 0\n",
    "for fn in fns:\n",
    "    if disp_count > 2:\n",
    "        break\n",
    "    rate, data = wf.read(fn)\n",
    "    data = np.float32(data) / 32768\n",
    "    data = pad_crop(data)\n",
    "    representation = spec_model.predict(data.reshape((1, -1))).squeeze()\n",
    "    spec = load_spectrogram(fn).squeeze()\n",
    "    spec, representation = norm(spec), norm(representation)\n",
    "    print(spec.shape)\n",
    "    plt.figure()\n",
    "    plt.title(fn)\n",
    "    plt.subplot(1, 2, 1)\n",
    "    plt.imshow(np.flipud(representation.T))\n",
    "    plt.subplot(1, 2, 2)\n",
    "    plt.imshow(spec.T)\n",
    "    plt.show()\n",
    "    print(representation.shape)\n",
    "    disp_count += 1\n",
    "# print(activation.shape)"
   ]
  },
  {
   "cell_type": "markdown",
   "metadata": {},
   "source": [
    "# What representation is actually learned?"
   ]
  },
  {
   "cell_type": "code",
   "execution_count": null,
   "metadata": {},
   "outputs": [],
   "source": [
    "# 'checkpoints_069/ep-073-vl-0.3997.hdf5'\n",
    "model = my_load_model('checkpoints_069/ep-073-vl-0.3997.hdf5')\n",
    "print(model.summary())"
   ]
  },
  {
   "cell_type": "code",
   "execution_count": null,
   "metadata": {},
   "outputs": [],
   "source": [
    "layer_idx = 3  # 4\n",
    "first_layer_weights = model.layers[layer_idx].get_weights()[0].squeeze()\n",
    "first_layer_biases = model.layers[layer_idx].get_weights()[1]\n",
    "# first_layer_weights = model.layers[layer_idx].get_weights()[0].squeeze()\n",
    "# first_layer_weights = first_layer_weights.T"
   ]
  },
  {
   "cell_type": "code",
   "execution_count": null,
   "metadata": {},
   "outputs": [],
   "source": [
    "print(first_layer_weights.shape)"
   ]
  },
  {
   "cell_type": "code",
   "execution_count": null,
   "metadata": {},
   "outputs": [],
   "source": [
    "for w in first_layer_weights:\n",
    "    plt.figure()\n",
    "    plt.plot(range(len(w)), w)\n",
    "    plt.show()"
   ]
  },
  {
   "cell_type": "code",
   "execution_count": null,
   "metadata": {},
   "outputs": [],
   "source": [
    "plt.figure()\n",
    "plt.imshow(first_layer_weights.T, cmap='gray')\n",
    "plt.show()"
   ]
  },
  {
   "cell_type": "code",
   "execution_count": null,
   "metadata": {},
   "outputs": [],
   "source": [
    "corr = np.dot(first_layer_weights.T, first_layer_weights)\n",
    "plt.imshow(corr, cmap='gray')"
   ]
  },
  {
   "cell_type": "markdown",
   "metadata": {},
   "source": [
    "# Same for the reshape architecture"
   ]
  },
  {
   "cell_type": "code",
   "execution_count": null,
   "metadata": {},
   "outputs": [],
   "source": [
    "model = my_load_model('checkpoints_084/ep-087-vl-0.2358.hdf5')\n",
    "print(model.summary())"
   ]
  },
  {
   "cell_type": "code",
   "execution_count": null,
   "metadata": {},
   "outputs": [],
   "source": [
    "layer_idx = 4\n",
    "first_layer_weights = model.layers[layer_idx].get_weights()[0].squeeze()\n",
    "print(first_layer_weights.shape)\n",
    "plt.figure()\n",
    "plt.imshow(first_layer_weights.T, cmap='gray')\n",
    "plt.colorbar()\n",
    "plt.show()"
   ]
  },
  {
   "cell_type": "code",
   "execution_count": null,
   "metadata": {},
   "outputs": [],
   "source": [
    "example_label = 'right'\n",
    "test_fns = sorted(glob('data/train/audio/%s/*.wav' % example_label))\n",
    "int2label = get_int2label(wanted_only=False)\n",
    "num_correct = 0\n",
    "num_total = len(test_fns)\n",
    "vis = True\n",
    "pbar = tqdm(test_fns) if not vis else test_fns\n",
    "for fn in pbar:\n",
    "    rate, data = wf.read(fn)\n",
    "    data = pad_crop(data)\n",
    "    data = np.float32(data) / 32767\n",
    "    prediction = model.predict(data.reshape(1, -1)).squeeze()\n",
    "    label = int2label[prediction.argmax()]\n",
    "    if label != example_label and vis:\n",
    "        print(\"Pred: \", label)\n",
    "        display(Audio(fn, autoplay=True))\n",
    "        sleep(1)\n",
    "    \n",
    "    if label == example_label:\n",
    "        num_correct += 1\n",
    "print(\"Acc: %.3f\" % (float(num_correct) / num_total))"
   ]
  },
  {
   "cell_type": "code",
   "execution_count": null,
   "metadata": {},
   "outputs": [],
   "source": [
    "activation_model = Model(model.input, model.layers[40].output)\n",
    "print(activation_model.output_shape)"
   ]
  },
  {
   "cell_type": "code",
   "execution_count": null,
   "metadata": {
    "scrolled": false
   },
   "outputs": [],
   "source": [
    "import cv2\n",
    "test_fns = sorted(glob('data/train/audio/stop/*.wav'))\n",
    "int2label = get_int2label(wanted_only=False)\n",
    "for i in range(2):\n",
    "    for fn in [test_fns[np.random.randint(len(test_fns))]]:\n",
    "        print(fn)\n",
    "        rate, data = wf.read(fn)\n",
    "        data = pad_crop(data)\n",
    "        data = np.float32(data) / 32767\n",
    "        act_val = activation_model.predict(data.reshape(1, -1)).squeeze()\n",
    "        print(act_val.min(), act_val.max())\n",
    "        display(Audio(fn, autoplay=True))\n",
    "        plt.figure()\n",
    "        plt.subplot(4, 1, 1)\n",
    "        plt.imshow(cv2.resize(act_val.T, (16000, act_val.shape[0] * 20), interpolation=cv2.INTER_NEAREST))\n",
    "        plt.subplot(4, 1, 2)\n",
    "        plt.plot(data)\n",
    "        plt.subplot(4, 1, 3)\n",
    "        corr_mat = np.dot(act_val, act_val.T)\n",
    "        print(corr_mat.shape)\n",
    "        plt.imshow(cv2.resize(corr_mat, (16000, corr_mat.shape[0] * 20), interpolation=cv2.INTER_NEAREST))\n",
    "        plt.colorbar()\n",
    "        plt.subplot(4, 1, 4)\n",
    "        plt.plot(data[::40])\n",
    "        plt.show()"
   ]
  },
  {
   "cell_type": "code",
   "execution_count": null,
   "metadata": {},
   "outputs": [],
   "source": [
    "a = np.arange(16000)\n",
    "print(a.reshape((400, 40)))"
   ]
  },
  {
   "cell_type": "markdown",
   "metadata": {},
   "source": [
    "# There are a few wrong labels in the training data. Can we find them using ML?"
   ]
  },
  {
   "cell_type": "code",
   "execution_count": null,
   "metadata": {},
   "outputs": [],
   "source": [
    "# load best single model\n",
    "model = my_load_model('checkpoints_086/ep-110-vl-0.1935.hdf5')"
   ]
  },
  {
   "cell_type": "code",
   "execution_count": null,
   "metadata": {},
   "outputs": [],
   "source": [
    "train_fns = sorted(glob('data/train/audio/*/*.wav'))\n",
    "train_fns = [fn for fn in train_fns\n",
    "             if fn.split('/')[-2] != '_background_noise_' and\n",
    "             fn.split('/')[-2] != 'unknown_unknown']\n",
    "print(\"Found: %d fns\" % len(train_fns))"
   ]
  },
  {
   "cell_type": "code",
   "execution_count": null,
   "metadata": {},
   "outputs": [],
   "source": [
    "int2label = get_int2label(wanted_only=False)\n",
    "fns, preds, gts = [], [], []\n",
    "for fn in tqdm(train_fns[:]):\n",
    "    rate, data = wf.read(fn)\n",
    "    if len(data) != 16000:\n",
    "        data = pad_crop(data)\n",
    "    data = np.float32(data) / 32768\n",
    "    pred = model.predict(data.reshape((1, -1))).squeeze()\n",
    "    gt_label = fn.split('/')[-2]\n",
    "    pred_label = int2label[pred.argmax()]\n",
    "    if pred_label != gt_label:\n",
    "        fns.append(fn)\n",
    "        preds.append(pred_label)\n",
    "        gts.append(gt_label)\n",
    "\n",
    "pd.DataFrame({'filename': fns,\n",
    "              'predicted_label': preds,\n",
    "              'gt_label': gts}).to_csv('wrong_train_labels.csv', index=False)"
   ]
  },
  {
   "cell_type": "code",
   "execution_count": null,
   "metadata": {},
   "outputs": [],
   "source": [
    "!wc -l wrong_train_labels.csv"
   ]
  },
  {
   "cell_type": "code",
   "execution_count": null,
   "metadata": {},
   "outputs": [],
   "source": [
    "wrong_labels = pd.read_csv('wrong_train_labels.csv')\n",
    "print(wrong_labels.shape)"
   ]
  },
  {
   "cell_type": "code",
   "execution_count": null,
   "metadata": {},
   "outputs": [],
   "source": [
    "for i in range(wrong_labels.shape[0]):\n",
    "    fn = wrong_labels.loc[i, 'filename']\n",
    "    gt = wrong_labels.loc[i, 'gt_label']\n",
    "    pred = wrong_labels.loc[i, 'predicted_label']\n",
    "    if gt == 'stop':\n",
    "        print(\"%s: GT: %s, PRED: %s\" % (fn, gt, pred))\n",
    "        display(Audio(fn, autoplay=True))\n",
    "        sleep(1)"
   ]
  },
  {
   "cell_type": "markdown",
   "metadata": {},
   "source": [
    "# Can we speed down the command? This is how I'd repeat something if a person doesn't unterstand me :P (probably louder as well)."
   ]
  },
  {
   "cell_type": "code",
   "execution_count": null,
   "metadata": {},
   "outputs": [],
   "source": [
    "train_fns = sorted(glob('data/train/audio/*/*.wav'))\n",
    "print(len(train_fns))"
   ]
  },
  {
   "cell_type": "code",
   "execution_count": null,
   "metadata": {},
   "outputs": [],
   "source": [
    "np.random.seed(13)\n",
    "fn = np.random.choice(train_fns)\n",
    "print(fn)\n",
    "rate, data = wf.read(fn)\n",
    "if len(data) != 16000:\n",
    "    data = pad_crop(data)\n",
    "data = np.float32(data) / 32767\n",
    "float_audio(data, autoplay=True)\n",
    "print(data.shape)\n",
    "plt.figure()\n",
    "plt.plot(data)\n",
    "plt.show()"
   ]
  },
  {
   "cell_type": "code",
   "execution_count": null,
   "metadata": {},
   "outputs": [],
   "source": [
    "# cv2? lol: https://www.kaggle.com/haqishen/augmentation-methods-for-audio\n",
    "# The pitch chanes (sounds bad!)\n",
    "speed_rate = 0.8\n",
    "w = int(len(data) / speed_rate)\n",
    "print(w)\n",
    "data_fast = data.reshape((1, -1))\n",
    "data_fast = cv2.resize(\n",
    "    data_fast, (w, 1)).squeeze()\n",
    "data_fast = data_fast[4000: 20000]\n",
    "float_audio(data_fast, autoplay=True)\n",
    "plt.figure()\n",
    "plt.plot(data_fast)\n",
    "plt.show()"
   ]
  },
  {
   "cell_type": "markdown",
   "metadata": {},
   "source": [
    "## Try the same with librosa\n",
    "### That sounds good!"
   ]
  },
  {
   "cell_type": "code",
   "execution_count": null,
   "metadata": {},
   "outputs": [],
   "source": [
    "def center_crop(data, desired_size=16000):\n",
    "    left = (len(data) - desired_size) // 2\n",
    "    return data[left: left + desired_size]"
   ]
  },
  {
   "cell_type": "code",
   "execution_count": null,
   "metadata": {
    "scrolled": true
   },
   "outputs": [],
   "source": [
    "speed = 1.3  # float: < 1.0: slow down, > 1.0: speed up\n",
    "data_fast = lr.effects.time_stretch(data, speed)\n",
    "print(data_fast.shape)\n",
    "# data_fast = data_fast[4000: 20000]\n",
    "float_audio(data_fast, autoplay=True)\n",
    "plt.figure()\n",
    "plt.plot(data_fast)\n",
    "plt.show()"
   ]
  },
  {
   "cell_type": "markdown",
   "metadata": {},
   "source": [
    "# Check the attention model"
   ]
  },
  {
   "cell_type": "code",
   "execution_count": 9,
   "metadata": {},
   "outputs": [
    {
     "name": "stdout",
     "output_type": "stream",
     "text": [
      "__________________________________________________________________________________________________\n",
      "Layer (type)                    Output Shape         Param #     Connected to                     \n",
      "==================================================================================================\n",
      "input_1 (InputLayer)            (None, 16000)        0                                            \n",
      "__________________________________________________________________________________________________\n",
      "lambda_2 (Lambda)               (None, 16000)        0           input_1[0][0]                    \n",
      "__________________________________________________________________________________________________\n",
      "lambda_3 (Lambda)               (None, 800, 40)      0           lambda_2[0][0]                   \n",
      "__________________________________________________________________________________________________\n",
      "conv1d_1 (Conv1D)               (None, 399, 64)      7680        lambda_3[0][0]                   \n",
      "__________________________________________________________________________________________________\n",
      "batch_normalization_1 (BatchNor (None, 399, 64)      256         conv1d_1[0][0]                   \n",
      "__________________________________________________________________________________________________\n",
      "activation_1 (Activation)       (None, 399, 64)      0           batch_normalization_1[0][0]      \n",
      "__________________________________________________________________________________________________\n",
      "lambda_4 (Lambda)               (None, 1, 399, 64)   0           activation_1[0][0]               \n",
      "__________________________________________________________________________________________________\n",
      "depthwise_conv2d_1 (DepthwiseCo (None, 1, 399, 64)   192         lambda_4[0][0]                   \n",
      "__________________________________________________________________________________________________\n",
      "lambda_5 (Lambda)               (None, 399, 64)      0           depthwise_conv2d_1[0][0]         \n",
      "__________________________________________________________________________________________________\n",
      "conv1d_3 (Conv1D)               (None, 399, 128)     8192        lambda_5[0][0]                   \n",
      "__________________________________________________________________________________________________\n",
      "batch_normalization_3 (BatchNor (None, 399, 128)     512         conv1d_3[0][0]                   \n",
      "__________________________________________________________________________________________________\n",
      "activation_2 (Activation)       (None, 399, 128)     0           batch_normalization_3[0][0]      \n",
      "__________________________________________________________________________________________________\n",
      "lambda_6 (Lambda)               (None, 1, 399, 128)  0           activation_2[0][0]               \n",
      "__________________________________________________________________________________________________\n",
      "depthwise_conv2d_2 (DepthwiseCo (None, 1, 399, 128)  384         lambda_6[0][0]                   \n",
      "__________________________________________________________________________________________________\n",
      "lambda_7 (Lambda)               (None, 399, 128)     0           depthwise_conv2d_2[0][0]         \n",
      "__________________________________________________________________________________________________\n",
      "conv1d_4 (Conv1D)               (None, 399, 128)     16384       lambda_7[0][0]                   \n",
      "__________________________________________________________________________________________________\n",
      "batch_normalization_4 (BatchNor (None, 399, 128)     512         conv1d_4[0][0]                   \n",
      "__________________________________________________________________________________________________\n",
      "activation_3 (Activation)       (None, 399, 128)     0           batch_normalization_4[0][0]      \n",
      "__________________________________________________________________________________________________\n",
      "conv1d_2 (Conv1D)               (None, 200, 128)     8192        activation_1[0][0]               \n",
      "__________________________________________________________________________________________________\n",
      "max_pooling1d_1 (MaxPooling1D)  (None, 200, 128)     0           activation_3[0][0]               \n",
      "__________________________________________________________________________________________________\n",
      "batch_normalization_2 (BatchNor (None, 200, 128)     512         conv1d_2[0][0]                   \n",
      "__________________________________________________________________________________________________\n",
      "add_1 (Add)                     (None, 200, 128)     0           max_pooling1d_1[0][0]            \n",
      "                                                                 batch_normalization_2[0][0]      \n",
      "__________________________________________________________________________________________________\n",
      "lambda_8 (Lambda)               (None, 1, 200, 128)  0           add_1[0][0]                      \n",
      "__________________________________________________________________________________________________\n",
      "depthwise_conv2d_3 (DepthwiseCo (None, 1, 200, 128)  384         lambda_8[0][0]                   \n",
      "__________________________________________________________________________________________________\n",
      "lambda_9 (Lambda)               (None, 200, 128)     0           depthwise_conv2d_3[0][0]         \n",
      "__________________________________________________________________________________________________\n",
      "conv1d_6 (Conv1D)               (None, 200, 256)     32768       lambda_9[0][0]                   \n",
      "__________________________________________________________________________________________________\n",
      "batch_normalization_6 (BatchNor (None, 200, 256)     1024        conv1d_6[0][0]                   \n",
      "__________________________________________________________________________________________________\n",
      "activation_4 (Activation)       (None, 200, 256)     0           batch_normalization_6[0][0]      \n",
      "__________________________________________________________________________________________________\n",
      "lambda_10 (Lambda)              (None, 1, 200, 256)  0           activation_4[0][0]               \n",
      "__________________________________________________________________________________________________\n",
      "depthwise_conv2d_4 (DepthwiseCo (None, 1, 200, 256)  768         lambda_10[0][0]                  \n",
      "__________________________________________________________________________________________________\n",
      "lambda_11 (Lambda)              (None, 200, 256)     0           depthwise_conv2d_4[0][0]         \n",
      "__________________________________________________________________________________________________\n",
      "conv1d_7 (Conv1D)               (None, 200, 256)     65536       lambda_11[0][0]                  \n",
      "__________________________________________________________________________________________________\n",
      "batch_normalization_7 (BatchNor (None, 200, 256)     1024        conv1d_7[0][0]                   \n",
      "__________________________________________________________________________________________________\n",
      "activation_5 (Activation)       (None, 200, 256)     0           batch_normalization_7[0][0]      \n",
      "__________________________________________________________________________________________________\n",
      "conv1d_5 (Conv1D)               (None, 100, 256)     32768       add_1[0][0]                      \n",
      "__________________________________________________________________________________________________\n",
      "max_pooling1d_2 (MaxPooling1D)  (None, 100, 256)     0           activation_5[0][0]               \n",
      "__________________________________________________________________________________________________\n",
      "batch_normalization_5 (BatchNor (None, 100, 256)     1024        conv1d_5[0][0]                   \n",
      "__________________________________________________________________________________________________\n",
      "add_2 (Add)                     (None, 100, 256)     0           max_pooling1d_2[0][0]            \n",
      "                                                                 batch_normalization_5[0][0]      \n",
      "__________________________________________________________________________________________________\n",
      "lambda_12 (Lambda)              (None, 1, 100, 256)  0           add_2[0][0]                      \n",
      "__________________________________________________________________________________________________\n",
      "depthwise_conv2d_5 (DepthwiseCo (None, 1, 100, 256)  768         lambda_12[0][0]                  \n",
      "__________________________________________________________________________________________________\n",
      "lambda_13 (Lambda)              (None, 100, 256)     0           depthwise_conv2d_5[0][0]         \n",
      "__________________________________________________________________________________________________\n",
      "conv1d_8 (Conv1D)               (None, 100, 256)     65536       lambda_13[0][0]                  \n",
      "__________________________________________________________________________________________________\n",
      "batch_normalization_8 (BatchNor (None, 100, 256)     1024        conv1d_8[0][0]                   \n",
      "__________________________________________________________________________________________________\n",
      "activation_6 (Activation)       (None, 100, 256)     0           batch_normalization_8[0][0]      \n",
      "__________________________________________________________________________________________________\n",
      "lambda_14 (Lambda)              (None, 1, 100, 256)  0           activation_6[0][0]               \n",
      "__________________________________________________________________________________________________\n",
      "depthwise_conv2d_6 (DepthwiseCo (None, 1, 100, 256)  768         lambda_14[0][0]                  \n",
      "__________________________________________________________________________________________________\n",
      "lambda_15 (Lambda)              (None, 100, 256)     0           depthwise_conv2d_6[0][0]         \n",
      "__________________________________________________________________________________________________\n",
      "conv1d_9 (Conv1D)               (None, 100, 256)     65536       lambda_15[0][0]                  \n",
      "__________________________________________________________________________________________________\n",
      "batch_normalization_9 (BatchNor (None, 100, 256)     1024        conv1d_9[0][0]                   \n",
      "__________________________________________________________________________________________________\n",
      "activation_7 (Activation)       (None, 100, 256)     0           batch_normalization_9[0][0]      \n",
      "__________________________________________________________________________________________________\n",
      "max_pooling1d_3 (MaxPooling1D)  (None, 100, 256)     0           activation_7[0][0]               \n",
      "__________________________________________________________________________________________________\n",
      "add_3 (Add)                     (None, 100, 256)     0           max_pooling1d_3[0][0]            \n",
      "                                                                 add_2[0][0]                      \n",
      "__________________________________________________________________________________________________\n",
      "lambda_16 (Lambda)              (None, 1, 100, 256)  0           add_3[0][0]                      \n",
      "__________________________________________________________________________________________________\n",
      "depthwise_conv2d_7 (DepthwiseCo (None, 1, 100, 256)  768         lambda_16[0][0]                  \n",
      "__________________________________________________________________________________________________\n",
      "lambda_17 (Lambda)              (None, 100, 256)     0           depthwise_conv2d_7[0][0]         \n",
      "__________________________________________________________________________________________________\n",
      "conv1d_10 (Conv1D)              (None, 100, 256)     65536       lambda_17[0][0]                  \n",
      "__________________________________________________________________________________________________\n",
      "batch_normalization_10 (BatchNo (None, 100, 256)     1024        conv1d_10[0][0]                  \n",
      "__________________________________________________________________________________________________\n",
      "activation_8 (Activation)       (None, 100, 256)     0           batch_normalization_10[0][0]     \n",
      "__________________________________________________________________________________________________\n",
      "lambda_18 (Lambda)              (None, 1, 100, 256)  0           activation_8[0][0]               \n",
      "__________________________________________________________________________________________________\n",
      "depthwise_conv2d_8 (DepthwiseCo (None, 1, 100, 256)  768         lambda_18[0][0]                  \n",
      "__________________________________________________________________________________________________\n",
      "lambda_19 (Lambda)              (None, 100, 256)     0           depthwise_conv2d_8[0][0]         \n",
      "__________________________________________________________________________________________________\n",
      "conv1d_11 (Conv1D)              (None, 100, 256)     65536       lambda_19[0][0]                  \n",
      "__________________________________________________________________________________________________\n",
      "batch_normalization_11 (BatchNo (None, 100, 256)     1024        conv1d_11[0][0]                  \n",
      "__________________________________________________________________________________________________\n",
      "activation_9 (Activation)       (None, 100, 256)     0           batch_normalization_11[0][0]     \n",
      "__________________________________________________________________________________________________\n",
      "max_pooling1d_4 (MaxPooling1D)  (None, 100, 256)     0           activation_9[0][0]               \n",
      "__________________________________________________________________________________________________\n",
      "add_4 (Add)                     (None, 100, 256)     0           max_pooling1d_4[0][0]            \n",
      "                                                                 add_3[0][0]                      \n",
      "__________________________________________________________________________________________________\n",
      "lambda_20 (Lambda)              (None, 1, 100, 256)  0           add_4[0][0]                      \n",
      "__________________________________________________________________________________________________\n",
      "depthwise_conv2d_9 (DepthwiseCo (None, 1, 100, 256)  768         lambda_20[0][0]                  \n",
      "__________________________________________________________________________________________________\n",
      "lambda_21 (Lambda)              (None, 100, 256)     0           depthwise_conv2d_9[0][0]         \n",
      "__________________________________________________________________________________________________\n",
      "conv1d_12 (Conv1D)              (None, 100, 256)     65536       lambda_21[0][0]                  \n",
      "__________________________________________________________________________________________________\n",
      "batch_normalization_12 (BatchNo (None, 100, 256)     1024        conv1d_12[0][0]                  \n",
      "__________________________________________________________________________________________________\n",
      "activation_10 (Activation)      (None, 100, 256)     0           batch_normalization_12[0][0]     \n",
      "__________________________________________________________________________________________________\n",
      "lambda_22 (Lambda)              (None, 1, 100, 256)  0           activation_10[0][0]              \n",
      "__________________________________________________________________________________________________\n",
      "depthwise_conv2d_10 (DepthwiseC (None, 1, 100, 256)  768         lambda_22[0][0]                  \n",
      "__________________________________________________________________________________________________\n",
      "lambda_23 (Lambda)              (None, 100, 256)     0           depthwise_conv2d_10[0][0]        \n",
      "__________________________________________________________________________________________________\n",
      "conv1d_13 (Conv1D)              (None, 100, 256)     65536       lambda_23[0][0]                  \n",
      "__________________________________________________________________________________________________\n",
      "batch_normalization_13 (BatchNo (None, 100, 256)     1024        conv1d_13[0][0]                  \n",
      "__________________________________________________________________________________________________\n",
      "activation_11 (Activation)      (None, 100, 256)     0           batch_normalization_13[0][0]     \n",
      "__________________________________________________________________________________________________\n",
      "max_pooling1d_5 (MaxPooling1D)  (None, 100, 256)     0           activation_11[0][0]              \n",
      "__________________________________________________________________________________________________\n",
      "add_5 (Add)                     (None, 100, 256)     0           max_pooling1d_5[0][0]            \n",
      "                                                                 add_4[0][0]                      \n",
      "__________________________________________________________________________________________________\n",
      "lambda_24 (Lambda)              (None, 1, 100, 256)  0           add_5[0][0]                      \n",
      "__________________________________________________________________________________________________\n",
      "depthwise_conv2d_11 (DepthwiseC (None, 1, 100, 256)  768         lambda_24[0][0]                  \n",
      "__________________________________________________________________________________________________\n",
      "lambda_25 (Lambda)              (None, 100, 256)     0           depthwise_conv2d_11[0][0]        \n",
      "__________________________________________________________________________________________________\n",
      "conv1d_14 (Conv1D)              (None, 100, 256)     65536       lambda_25[0][0]                  \n",
      "__________________________________________________________________________________________________\n",
      "batch_normalization_14 (BatchNo (None, 100, 256)     1024        conv1d_14[0][0]                  \n",
      "__________________________________________________________________________________________________\n",
      "activation_12 (Activation)      (None, 100, 256)     0           batch_normalization_14[0][0]     \n",
      "__________________________________________________________________________________________________\n",
      "lambda_26 (Lambda)              (None, 1, 100, 256)  0           activation_12[0][0]              \n",
      "__________________________________________________________________________________________________\n",
      "depthwise_conv2d_12 (DepthwiseC (None, 1, 100, 256)  768         lambda_26[0][0]                  \n",
      "__________________________________________________________________________________________________\n",
      "lambda_27 (Lambda)              (None, 100, 256)     0           depthwise_conv2d_12[0][0]        \n",
      "__________________________________________________________________________________________________\n",
      "conv1d_15 (Conv1D)              (None, 100, 256)     65536       lambda_27[0][0]                  \n",
      "__________________________________________________________________________________________________\n",
      "batch_normalization_15 (BatchNo (None, 100, 256)     1024        conv1d_15[0][0]                  \n",
      "__________________________________________________________________________________________________\n",
      "activation_13 (Activation)      (None, 100, 256)     0           batch_normalization_15[0][0]     \n",
      "__________________________________________________________________________________________________\n",
      "max_pooling1d_6 (MaxPooling1D)  (None, 100, 256)     0           activation_13[0][0]              \n",
      "__________________________________________________________________________________________________\n",
      "add_6 (Add)                     (None, 100, 256)     0           max_pooling1d_6[0][0]            \n",
      "                                                                 add_5[0][0]                      \n",
      "__________________________________________________________________________________________________\n",
      "lambda_28 (Lambda)              (None, 1, 100, 256)  0           add_6[0][0]                      \n",
      "__________________________________________________________________________________________________\n",
      "depthwise_conv2d_13 (DepthwiseC (None, 1, 100, 256)  768         lambda_28[0][0]                  \n",
      "__________________________________________________________________________________________________\n",
      "lambda_29 (Lambda)              (None, 100, 256)     0           depthwise_conv2d_13[0][0]        \n",
      "__________________________________________________________________________________________________\n",
      "conv1d_16 (Conv1D)              (None, 100, 256)     65536       lambda_29[0][0]                  \n",
      "__________________________________________________________________________________________________\n",
      "batch_normalization_16 (BatchNo (None, 100, 256)     1024        conv1d_16[0][0]                  \n",
      "__________________________________________________________________________________________________\n",
      "activation_14 (Activation)      (None, 100, 256)     0           batch_normalization_16[0][0]     \n",
      "__________________________________________________________________________________________________\n",
      "lambda_30 (Lambda)              (None, 1, 100, 256)  0           activation_14[0][0]              \n",
      "__________________________________________________________________________________________________\n",
      "depthwise_conv2d_14 (DepthwiseC (None, 1, 100, 256)  768         lambda_30[0][0]                  \n",
      "__________________________________________________________________________________________________\n",
      "lambda_31 (Lambda)              (None, 100, 256)     0           depthwise_conv2d_14[0][0]        \n",
      "__________________________________________________________________________________________________\n",
      "conv1d_17 (Conv1D)              (None, 100, 256)     65536       lambda_31[0][0]                  \n",
      "__________________________________________________________________________________________________\n",
      "batch_normalization_17 (BatchNo (None, 100, 256)     1024        conv1d_17[0][0]                  \n",
      "__________________________________________________________________________________________________\n",
      "activation_15 (Activation)      (None, 100, 256)     0           batch_normalization_17[0][0]     \n",
      "__________________________________________________________________________________________________\n",
      "max_pooling1d_7 (MaxPooling1D)  (None, 100, 256)     0           activation_15[0][0]              \n",
      "__________________________________________________________________________________________________\n",
      "add_7 (Add)                     (None, 100, 256)     0           max_pooling1d_7[0][0]            \n",
      "                                                                 add_6[0][0]                      \n",
      "__________________________________________________________________________________________________\n",
      "lambda_32 (Lambda)              (None, 1, 100, 256)  0           add_7[0][0]                      \n",
      "__________________________________________________________________________________________________\n",
      "depthwise_conv2d_15 (DepthwiseC (None, 1, 100, 256)  768         lambda_32[0][0]                  \n",
      "__________________________________________________________________________________________________\n",
      "lambda_33 (Lambda)              (None, 100, 256)     0           depthwise_conv2d_15[0][0]        \n",
      "__________________________________________________________________________________________________\n",
      "conv1d_18 (Conv1D)              (None, 100, 256)     65536       lambda_33[0][0]                  \n",
      "__________________________________________________________________________________________________\n",
      "batch_normalization_18 (BatchNo (None, 100, 256)     1024        conv1d_18[0][0]                  \n",
      "__________________________________________________________________________________________________\n",
      "activation_16 (Activation)      (None, 100, 256)     0           batch_normalization_18[0][0]     \n",
      "__________________________________________________________________________________________________\n",
      "lambda_34 (Lambda)              (None, 1, 100, 256)  0           activation_16[0][0]              \n",
      "__________________________________________________________________________________________________\n",
      "depthwise_conv2d_16 (DepthwiseC (None, 1, 100, 256)  768         lambda_34[0][0]                  \n",
      "__________________________________________________________________________________________________\n",
      "lambda_35 (Lambda)              (None, 100, 256)     0           depthwise_conv2d_16[0][0]        \n",
      "__________________________________________________________________________________________________\n",
      "conv1d_19 (Conv1D)              (None, 100, 256)     65536       lambda_35[0][0]                  \n",
      "__________________________________________________________________________________________________\n",
      "batch_normalization_19 (BatchNo (None, 100, 256)     1024        conv1d_19[0][0]                  \n",
      "__________________________________________________________________________________________________\n",
      "activation_17 (Activation)      (None, 100, 256)     0           batch_normalization_19[0][0]     \n",
      "__________________________________________________________________________________________________\n",
      "max_pooling1d_8 (MaxPooling1D)  (None, 100, 256)     0           activation_17[0][0]              \n",
      "__________________________________________________________________________________________________\n",
      "add_8 (Add)                     (None, 100, 256)     0           max_pooling1d_8[0][0]            \n",
      "                                                                 add_7[0][0]                      \n",
      "__________________________________________________________________________________________________\n",
      "lambda_36 (Lambda)              (None, 1, 100, 256)  0           add_8[0][0]                      \n",
      "__________________________________________________________________________________________________\n",
      "depthwise_conv2d_17 (DepthwiseC (None, 1, 100, 256)  768         lambda_36[0][0]                  \n",
      "__________________________________________________________________________________________________\n",
      "lambda_37 (Lambda)              (None, 100, 256)     0           depthwise_conv2d_17[0][0]        \n",
      "__________________________________________________________________________________________________\n",
      "conv1d_20 (Conv1D)              (None, 100, 256)     65536       lambda_37[0][0]                  \n",
      "__________________________________________________________________________________________________\n",
      "batch_normalization_20 (BatchNo (None, 100, 256)     1024        conv1d_20[0][0]                  \n",
      "__________________________________________________________________________________________________\n",
      "activation_18 (Activation)      (None, 100, 256)     0           batch_normalization_20[0][0]     \n",
      "__________________________________________________________________________________________________\n",
      "lambda_38 (Lambda)              (None, 1, 100, 256)  0           activation_18[0][0]              \n",
      "__________________________________________________________________________________________________\n",
      "depthwise_conv2d_18 (DepthwiseC (None, 1, 100, 256)  768         lambda_38[0][0]                  \n",
      "__________________________________________________________________________________________________\n",
      "lambda_39 (Lambda)              (None, 100, 256)     0           depthwise_conv2d_18[0][0]        \n",
      "__________________________________________________________________________________________________\n",
      "conv1d_21 (Conv1D)              (None, 100, 256)     65536       lambda_39[0][0]                  \n",
      "__________________________________________________________________________________________________\n",
      "batch_normalization_21 (BatchNo (None, 100, 256)     1024        conv1d_21[0][0]                  \n",
      "__________________________________________________________________________________________________\n",
      "activation_19 (Activation)      (None, 100, 256)     0           batch_normalization_21[0][0]     \n",
      "__________________________________________________________________________________________________\n",
      "max_pooling1d_9 (MaxPooling1D)  (None, 100, 256)     0           activation_19[0][0]              \n",
      "__________________________________________________________________________________________________\n",
      "add_9 (Add)                     (None, 100, 256)     0           max_pooling1d_9[0][0]            \n",
      "                                                                 add_8[0][0]                      \n",
      "__________________________________________________________________________________________________\n",
      "lambda_40 (Lambda)              (None, 1, 100, 256)  0           add_9[0][0]                      \n",
      "__________________________________________________________________________________________________\n",
      "depthwise_conv2d_19 (DepthwiseC (None, 1, 100, 256)  768         lambda_40[0][0]                  \n",
      "__________________________________________________________________________________________________\n",
      "lambda_41 (Lambda)              (None, 100, 256)     0           depthwise_conv2d_19[0][0]        \n",
      "__________________________________________________________________________________________________\n",
      "conv1d_22 (Conv1D)              (None, 100, 256)     65536       lambda_41[0][0]                  \n",
      "__________________________________________________________________________________________________\n",
      "batch_normalization_22 (BatchNo (None, 100, 256)     1024        conv1d_22[0][0]                  \n",
      "__________________________________________________________________________________________________\n",
      "activation_20 (Activation)      (None, 100, 256)     0           batch_normalization_22[0][0]     \n",
      "__________________________________________________________________________________________________\n",
      "lambda_42 (Lambda)              (None, 1, 100, 256)  0           activation_20[0][0]              \n",
      "__________________________________________________________________________________________________\n",
      "depthwise_conv2d_20 (DepthwiseC (None, 1, 100, 256)  768         lambda_42[0][0]                  \n",
      "__________________________________________________________________________________________________\n",
      "lambda_43 (Lambda)              (None, 100, 256)     0           depthwise_conv2d_20[0][0]        \n",
      "__________________________________________________________________________________________________\n",
      "conv1d_23 (Conv1D)              (None, 100, 256)     65536       lambda_43[0][0]                  \n",
      "__________________________________________________________________________________________________\n",
      "batch_normalization_23 (BatchNo (None, 100, 256)     1024        conv1d_23[0][0]                  \n",
      "__________________________________________________________________________________________________\n",
      "activation_21 (Activation)      (None, 100, 256)     0           batch_normalization_23[0][0]     \n",
      "__________________________________________________________________________________________________\n",
      "max_pooling1d_10 (MaxPooling1D) (None, 100, 256)     0           activation_21[0][0]              \n",
      "__________________________________________________________________________________________________\n",
      "add_10 (Add)                    (None, 100, 256)     0           max_pooling1d_10[0][0]           \n",
      "                                                                 add_9[0][0]                      \n",
      "__________________________________________________________________________________________________\n",
      "lambda_44 (Lambda)              (None, 1, 100, 256)  0           add_10[0][0]                     \n",
      "__________________________________________________________________________________________________\n",
      "depthwise_conv2d_21 (DepthwiseC (None, 1, 100, 256)  768         lambda_44[0][0]                  \n",
      "__________________________________________________________________________________________________\n",
      "lambda_45 (Lambda)              (None, 100, 256)     0           depthwise_conv2d_21[0][0]        \n",
      "__________________________________________________________________________________________________\n",
      "conv1d_25 (Conv1D)              (None, 100, 384)     98304       lambda_45[0][0]                  \n",
      "__________________________________________________________________________________________________\n",
      "batch_normalization_25 (BatchNo (None, 100, 384)     1536        conv1d_25[0][0]                  \n",
      "__________________________________________________________________________________________________\n",
      "activation_22 (Activation)      (None, 100, 384)     0           batch_normalization_25[0][0]     \n",
      "__________________________________________________________________________________________________\n",
      "lambda_46 (Lambda)              (None, 1, 100, 384)  0           activation_22[0][0]              \n",
      "__________________________________________________________________________________________________\n",
      "depthwise_conv2d_22 (DepthwiseC (None, 1, 100, 384)  1152        lambda_46[0][0]                  \n",
      "__________________________________________________________________________________________________\n",
      "lambda_47 (Lambda)              (None, 100, 384)     0           depthwise_conv2d_22[0][0]        \n",
      "__________________________________________________________________________________________________\n",
      "conv1d_26 (Conv1D)              (None, 100, 384)     147456      lambda_47[0][0]                  \n",
      "__________________________________________________________________________________________________\n",
      "batch_normalization_26 (BatchNo (None, 100, 384)     1536        conv1d_26[0][0]                  \n",
      "__________________________________________________________________________________________________\n",
      "activation_23 (Activation)      (None, 100, 384)     0           batch_normalization_26[0][0]     \n",
      "__________________________________________________________________________________________________\n",
      "conv1d_24 (Conv1D)              (None, 50, 384)      98304       add_10[0][0]                     \n",
      "__________________________________________________________________________________________________\n",
      "max_pooling1d_11 (MaxPooling1D) (None, 50, 384)      0           activation_23[0][0]              \n",
      "__________________________________________________________________________________________________\n",
      "batch_normalization_24 (BatchNo (None, 50, 384)      1536        conv1d_24[0][0]                  \n",
      "__________________________________________________________________________________________________\n",
      "add_11 (Add)                    (None, 50, 384)      0           max_pooling1d_11[0][0]           \n",
      "                                                                 batch_normalization_24[0][0]     \n",
      "__________________________________________________________________________________________________\n",
      "lambda_48 (Lambda)              (None, 1, 50, 384)   0           add_11[0][0]                     \n",
      "__________________________________________________________________________________________________\n",
      "depthwise_conv2d_23 (DepthwiseC (None, 1, 50, 384)   1920        lambda_48[0][0]                  \n",
      "__________________________________________________________________________________________________\n",
      "lambda_49 (Lambda)              (None, 50, 384)      0           depthwise_conv2d_23[0][0]        \n",
      "__________________________________________________________________________________________________\n",
      "conv1d_27 (Conv1D)              (None, 50, 1)        384         lambda_49[0][0]                  \n",
      "__________________________________________________________________________________________________\n",
      "batch_normalization_27 (BatchNo (None, 50, 1)        4           conv1d_27[0][0]                  \n",
      "__________________________________________________________________________________________________\n",
      "activation_24 (Activation)      (None, 50, 1)        0           batch_normalization_27[0][0]     \n",
      "__________________________________________________________________________________________________\n",
      "lambda_50 (Lambda)              (None, 50, 1)        0           activation_24[0][0]              \n",
      "__________________________________________________________________________________________________\n",
      "multiply_1 (Multiply)           (None, 50, 384)      0           add_11[0][0]                     \n",
      "                                                                 lambda_50[0][0]                  \n",
      "__________________________________________________________________________________________________\n",
      "bidirectional_1 (Bidirectional) (None, 384)          664704      multiply_1[0][0]                 \n",
      "__________________________________________________________________________________________________\n",
      "dense_1 (Dense)                 (None, 32)           12320       bidirectional_1[0][0]            \n",
      "==================================================================================================\n",
      "Total params: 2,285,284\n",
      "Trainable params: 2,272,354\n",
      "Non-trainable params: 12,930\n",
      "__________________________________________________________________________________________________\n",
      "None\n"
     ]
    }
   ],
   "source": [
    "model = my_load_model('checkpoints_114/ep-029-vl-0.2188.hdf5')\n",
    "print(model.summary())"
   ]
  },
  {
   "cell_type": "code",
   "execution_count": 10,
   "metadata": {},
   "outputs": [
    {
     "name": "stdout",
     "output_type": "stream",
     "text": [
      "(None, 50, 1)\n"
     ]
    }
   ],
   "source": [
    "attention = Model(model.input, model.layers[-4].output)\n",
    "print(attention.output_shape)"
   ]
  },
  {
   "cell_type": "code",
   "execution_count": 18,
   "metadata": {},
   "outputs": [
    {
     "name": "stdout",
     "output_type": "stream",
     "text": [
      "data/train/audio/on/62ff07ef_nohash_0.wav\n"
     ]
    },
    {
     "data": {
      "image/png": "[encoded data removed]",
      "text/plain": [
       "<matplotlib.figure.Figure at 0x7f82dc0e1550>"
      ]
     },
     "metadata": {},
     "output_type": "display_data"
    },
    {
     "data": {
      "text/html": [
       "\n",
       "                <audio controls=\"controls\" autoplay=\"autoplay\">\n",
       "                    <source src=\"data:audio/x-wav;base64,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\" type=\"audio/x-wav\" />\n",
       "                    Your browser does not support the audio element.\n",
       "                </audio>\n",
       "              "
      ],
      "text/plain": [
       "<IPython.lib.display.Audio object>"
      ]
     },
     "metadata": {},
     "output_type": "display_data"
    },
    {
     "name": "stdout",
     "output_type": "stream",
     "text": [
      "data/train/audio/on/43f57297_nohash_0.wav\n"
     ]
    },
    {
     "data": {
      "image/png": "[encoded data removed]",
      "text/plain": [
       "<matplotlib.figure.Figure at 0x7f82dc09a978>"
      ]
     },
     "metadata": {},
     "output_type": "display_data"
    },
    {
     "data": {
      "text/html": [
       "\n",
       "                <audio controls=\"controls\" autoplay=\"autoplay\">\n",
       "                    <source src=\"data:audio/x-wav;base64,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\" type=\"audio/x-wav\" />\n",
       "                    Your browser does not support the audio element.\n",
       "                </audio>\n",
       "              "
      ],
      "text/plain": [
       "<IPython.lib.display.Audio object>"
      ]
     },
     "metadata": {},
     "output_type": "display_data"
    },
    {
     "name": "stdout",
     "output_type": "stream",
     "text": [
      "data/train/audio/on/8625475c_nohash_0.wav\n"
     ]
    },
    {
     "data": {
      "image/png": "[encoded data removed]",
      "text/plain": [
       "<matplotlib.figure.Figure at 0x7f82c71a8048>"
      ]
     },
     "metadata": {},
     "output_type": "display_data"
    },
    {
     "data": {
      "text/html": [
       "\n",
       "                <audio controls=\"controls\" autoplay=\"autoplay\">\n",
       "                    <source src=\"data:audio/x-wav;base64,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\" type=\"audio/x-wav\" />\n",
       "                    Your browser does not support the audio element.\n",
       "                </audio>\n",
       "              "
      ],
      "text/plain": [
       "<IPython.lib.display.Audio object>"
      ]
     },
     "metadata": {},
     "output_type": "display_data"
    },
    {
     "name": "stdout",
     "output_type": "stream",
     "text": [
      "data/train/audio/on/7fc74fbe_nohash_0.wav\n"
     ]
    },
    {
     "data": {
      "image/png": "[encoded data removed]",
      "text/plain": [
       "<matplotlib.figure.Figure at 0x7f82dc1e0e80>"
      ]
     },
     "metadata": {},
     "output_type": "display_data"
    },
    {
     "data": {
      "text/html": [
       "\n",
       "                <audio controls=\"controls\" autoplay=\"autoplay\">\n",
       "                    <source src=\"data:audio/x-wav;base64,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\" type=\"audio/x-wav\" />\n",
       "                    Your browser does not support the audio element.\n",
       "                </audio>\n",
       "              "
      ],
      "text/plain": [
       "<IPython.lib.display.Audio object>"
      ]
     },
     "metadata": {},
     "output_type": "display_data"
    }
   ],
   "source": [
    "test_fns = sorted(glob('data/train/audio/on/*.wav'))\n",
    "np.random.shuffle(test_fns)\n",
    "disp_count = 0\n",
    "for fn in test_fns:\n",
    "    if disp_count > 3:\n",
    "        break\n",
    "    print(fn)\n",
    "    rate, data = wf.read(fn)\n",
    "    data = np.float32(data) / 32767\n",
    "    data = pad_crop(data)\n",
    "    attention_val = attention.predict(data.reshape((1, -1))).reshape((1, -1))\n",
    "    attention_val = cv2.resize(attention_val, (16000, 1)).squeeze()\n",
    "    disp_count += 1\n",
    "    # print(attention_val)\n",
    "    plt.subplot(2, 1, 1)\n",
    "    plt.plot(range(len(attention_val)), attention_val)\n",
    "    plt.axis([0, len(attention_val), 0, 1])\n",
    "    plt.subplot(2, 1, 2)\n",
    "    plt.plot(range(len(data)), data)\n",
    "    plt.show()\n",
    "    display(Audio(fn, autoplay=True))\n",
    "    sleep(1)"
   ]
  },
  {
   "cell_type": "code",
   "execution_count": 15,
   "metadata": {},
   "outputs": [
    {
     "data": {
      "image/png": "[encoded data removed]",
      "text/plain": [
       "<matplotlib.figure.Figure at 0x7fe263415198>"
      ]
     },
     "metadata": {},
     "output_type": "display_data"
    },
    {
     "name": "stdout",
     "output_type": "stream",
     "text": [
      "1.0\n"
     ]
    }
   ],
   "source": [
    "data = np.roll(data, -4000)\n",
    "attention_val = attention.predict(data.reshape((1, -1))).reshape((1, -1))\n",
    "# attention_val = cv2.resize(attention_val, (16000, 1))\n",
    "attention_val = attention_val.squeeze()\n",
    "disp_count += 1\n",
    "# print(attention_val)\n",
    "plt.subplot(2, 1, 1)\n",
    "plt.plot(range(len(attention_val)), attention_val, 'r+')\n",
    "plt.axis([0, len(attention_val), 0, 1])\n",
    "plt.subplot(2, 1, 2)\n",
    "plt.plot(range(len(data)), data)\n",
    "plt.show()\n",
    "print(attention_val.sum())"
   ]
  },
  {
   "cell_type": "markdown",
   "metadata": {},
   "source": [
    "# How much do the predictions for the pseudo labels change?"
   ]
  },
  {
   "cell_type": "code",
   "execution_count": 20,
   "metadata": {},
   "outputs": [
    {
     "name": "stdout",
     "output_type": "stream",
     "text": [
      "58970 of 126200 are equal\n"
     ]
    }
   ],
   "source": [
    "# load current best\n",
    "sub = pd.read_csv('submission_106_tta_leftloud.csv')\n",
    "pseudo_fns = sorted(glob('data/pseudo/audio/*/*.wav'))\n",
    "pseudo_preds = {os.path.basename(fn): os.path.basename(os.path.dirname(fn)) for fn in pseudo_fns}\n",
    "num_equal = 0\n",
    "num_pseudo = 0\n",
    "for i in range(sub.shape[0]):\n",
    "    fn = sub.loc[i, 'fname']\n",
    "    label = sub.loc[i, 'label']\n",
    "    if fn in pseudo_preds:\n",
    "        pseudo_label = pseudo_preds[fn]\n",
    "        if label == pseudo_label:\n",
    "            num_equal += 1\n",
    "        num_pseudo += 1\n",
    "print(\"%d of %d are equal\" % (num_equal, num_pseudo))"
   ]
  },
  {
   "cell_type": "code",
   "execution_count": null,
   "metadata": {},
   "outputs": [],
   "source": [
    "59078 of 126200 are equal"
   ]
  }
 ],
 "metadata": {
  "kernelspec": {
   "display_name": "Python 3",
   "language": "python",
   "name": "python3"
  },
  "language_info": {
   "codemirror_mode": {
    "name": "ipython",
    "version": 3
   },
   "file_extension": ".py",
   "mimetype": "text/x-python",
   "name": "python",
   "nbconvert_exporter": "python",
   "pygments_lexer": "ipython3",
   "version": "3.5.2"
  }
 },
 "nbformat": 4,
 "nbformat_minor": 2
}
